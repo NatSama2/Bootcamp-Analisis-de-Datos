{
  "cells": [
    {
      "cell_type": "markdown",
      "metadata": {
        "id": "view-in-github",
        "colab_type": "text"
      },
      "source": [
        "<a href=\"https://colab.research.google.com/github/NatSama2/Bootcamp-Analisis-de-Datos/blob/main/Modulo-5/EDA_30_Ejercicios.ipynb\" target=\"_parent\"><img src=\"https://colab.research.google.com/assets/colab-badge.svg\" alt=\"Open In Colab\"/></a>"
      ]
    },
    {
      "cell_type": "code",
      "execution_count": 1,
      "id": "5432d016",
      "metadata": {
        "id": "5432d016"
      },
      "outputs": [],
      "source": [
        "# EDA: Análisis Exploratorio de Datos - 30 Ejercicios Resueltos\n",
        "\n",
        "import pandas as pd\n",
        "import numpy as np\n",
        "import seaborn as sns\n",
        "import matplotlib.pyplot as plt\n",
        "\n",
        "# Dataset de ejemplo\n",
        "data = {\n",
        "    'Edad': [23, 45, 31, 35, 62, 28, 41, 37, 50, 29, np.nan, 44, 36, 33, 27],\n",
        "    'Salario': [50000, 80000, 62000, 58000, 90000, 52000, 75000, 67000, 87000, 53000, 60000, 79000, 66000, 64000, 56000],\n",
        "    'Genero': ['F', 'M', 'F', 'M', 'F', 'M', 'M', 'F', 'M', 'F', 'F', 'M', 'F', 'M', 'F'],\n",
        "    'Departamento': ['Ventas', 'IT', 'Ventas', 'RRHH', 'IT', 'Ventas', 'IT', 'RRHH', 'IT', 'Ventas', 'RRHH', 'IT', 'RRHH', 'Ventas', 'IT'],\n",
        "    'Antiguedad': [1, 10, 3, 5, 20, 2, 8, 7, 18, 2, 4, 11, 6, 3, 5]\n",
        "}\n",
        "df = pd.DataFrame(data)\n"
      ]
    },
    {
      "cell_type": "code",
      "execution_count": 2,
      "id": "1c6a5f6d",
      "metadata": {
        "id": "1c6a5f6d",
        "colab": {
          "base_uri": "https://localhost:8080/"
        },
        "outputId": "d7b1ae92-0e79-4c6a-d65c-c7958da54e76"
      },
      "outputs": [
        {
          "output_type": "stream",
          "name": "stdout",
          "text": [
            "   Edad  Salario Genero Departamento  Antiguedad\n",
            "0  23.0    50000      F       Ventas           1\n",
            "1  45.0    80000      M           IT          10\n",
            "2  31.0    62000      F       Ventas           3\n",
            "3  35.0    58000      M         RRHH           5\n",
            "4  62.0    90000      F           IT          20\n"
          ]
        }
      ],
      "source": [
        "print(df.head())  # Ejercicio 1: Vista general"
      ]
    },
    {
      "cell_type": "code",
      "execution_count": 3,
      "id": "09fc1592",
      "metadata": {
        "id": "09fc1592",
        "colab": {
          "base_uri": "https://localhost:8080/"
        },
        "outputId": "6254e3ce-8a2a-4ab1-9592-ee77c4089940"
      },
      "outputs": [
        {
          "output_type": "stream",
          "name": "stdout",
          "text": [
            "Edad            float64\n",
            "Salario           int64\n",
            "Genero           object\n",
            "Departamento     object\n",
            "Antiguedad        int64\n",
            "dtype: object\n"
          ]
        }
      ],
      "source": [
        "print(df.dtypes)  # Ejercicio 2: Tipos de datos"
      ]
    },
    {
      "cell_type": "code",
      "execution_count": 4,
      "id": "41333530",
      "metadata": {
        "id": "41333530",
        "colab": {
          "base_uri": "https://localhost:8080/"
        },
        "outputId": "e0d4bc4f-57b2-4ac3-89e5-2507e0736252"
      },
      "outputs": [
        {
          "output_type": "stream",
          "name": "stdout",
          "text": [
            "            Edad       Salario  Antiguedad\n",
            "count  14.000000     15.000000   15.000000\n",
            "mean   37.214286  66600.000000    7.000000\n",
            "std    10.452667  12816.284284    5.682052\n",
            "min    23.000000  50000.000000    1.000000\n",
            "25%    29.500000  57000.000000    3.000000\n",
            "50%    35.500000  64000.000000    5.000000\n",
            "75%    43.250000  77000.000000    9.000000\n",
            "max    62.000000  90000.000000   20.000000\n"
          ]
        }
      ],
      "source": [
        "print(df.describe())  # Ejercicio 3: Estadísticas básicas"
      ]
    },
    {
      "cell_type": "code",
      "execution_count": 5,
      "id": "00e52005",
      "metadata": {
        "id": "00e52005",
        "colab": {
          "base_uri": "https://localhost:8080/"
        },
        "outputId": "fee04031-924f-4d92-8a6a-7ca368db67d1"
      },
      "outputs": [
        {
          "output_type": "stream",
          "name": "stdout",
          "text": [
            "Edad            1\n",
            "Salario         0\n",
            "Genero          0\n",
            "Departamento    0\n",
            "Antiguedad      0\n",
            "dtype: int64\n"
          ]
        }
      ],
      "source": [
        "print(df.isnull().sum())  # Ejercicio 4: Detección de valores nulos"
      ]
    },
    {
      "cell_type": "code",
      "execution_count": 6,
      "id": "d572ba01",
      "metadata": {
        "id": "d572ba01",
        "colab": {
          "base_uri": "https://localhost:8080/"
        },
        "outputId": "ae0c0435-49c1-4e62-cd44-fa343d621495"
      },
      "outputs": [
        {
          "output_type": "stream",
          "name": "stdout",
          "text": [
            "    Edad  Salario Genero Departamento  Antiguedad\n",
            "0   23.0    50000      F       Ventas           1\n",
            "1   45.0    80000      M           IT          10\n",
            "2   31.0    62000      F       Ventas           3\n",
            "3   35.0    58000      M         RRHH           5\n",
            "4   62.0    90000      F           IT          20\n",
            "5   28.0    52000      M       Ventas           2\n",
            "6   41.0    75000      M           IT           8\n",
            "7   37.0    67000      F         RRHH           7\n",
            "8   50.0    87000      M           IT          18\n",
            "9   29.0    53000      F       Ventas           2\n",
            "11  44.0    79000      M           IT          11\n",
            "12  36.0    66000      F         RRHH           6\n",
            "13  33.0    64000      M       Ventas           3\n",
            "14  27.0    56000      F           IT           5\n"
          ]
        }
      ],
      "source": [
        "print(df.dropna())  # Ejercicio 5: Eliminación de filas con nulos"
      ]
    },
    {
      "cell_type": "code",
      "execution_count": 7,
      "id": "420a35da",
      "metadata": {
        "id": "420a35da",
        "colab": {
          "base_uri": "https://localhost:8080/"
        },
        "outputId": "70446140-5cc2-4ba7-b67d-9937c95019f4"
      },
      "outputs": [
        {
          "output_type": "stream",
          "name": "stdout",
          "text": [
            "         Edad  Salario Genero Departamento  Antiguedad\n",
            "0   23.000000    50000      F       Ventas           1\n",
            "1   45.000000    80000      M           IT          10\n",
            "2   31.000000    62000      F       Ventas           3\n",
            "3   35.000000    58000      M         RRHH           5\n",
            "4   62.000000    90000      F           IT          20\n",
            "5   28.000000    52000      M       Ventas           2\n",
            "6   41.000000    75000      M           IT           8\n",
            "7   37.000000    67000      F         RRHH           7\n",
            "8   50.000000    87000      M           IT          18\n",
            "9   29.000000    53000      F       Ventas           2\n",
            "10  37.214286    60000      F         RRHH           4\n",
            "11  44.000000    79000      M           IT          11\n",
            "12  36.000000    66000      F         RRHH           6\n",
            "13  33.000000    64000      M       Ventas           3\n",
            "14  27.000000    56000      F           IT           5\n"
          ]
        }
      ],
      "source": [
        "print(df.fillna(df['Edad'].mean()))  # Ejercicio 6: Rellenar nulos"
      ]
    },
    {
      "cell_type": "code",
      "execution_count": 8,
      "id": "4d9fb7d0",
      "metadata": {
        "id": "4d9fb7d0",
        "colab": {
          "base_uri": "https://localhost:8080/",
          "height": 472
        },
        "outputId": "42141634-7807-4b64-aad5-c3d0f6f20381"
      },
      "outputs": [
        {
          "output_type": "display_data",
          "data": {
            "text/plain": [
              "<Figure size 640x480 with 1 Axes>"
            ],
            "image/png": "[encoded data removed]"
          },
          "metadata": {}
        }
      ],
      "source": [
        "sns.histplot(df['Edad'], bins=10, kde=True); plt.title('Distribución de Edad'); plt.show()  # Ejercicio 7"
      ]
    },
    {
      "cell_type": "code",
      "execution_count": 9,
      "id": "cd2d9673",
      "metadata": {
        "id": "cd2d9673",
        "colab": {
          "base_uri": "https://localhost:8080/",
          "height": 472
        },
        "outputId": "ef35edfe-2e45-40f5-e005-498efd854e92"
      },
      "outputs": [
        {
          "output_type": "display_data",
          "data": {
            "text/plain": [
              "<Figure size 640x480 with 1 Axes>"
            ],
            "image/png": "[encoded data removed]"
          },
          "metadata": {}
        }
      ],
      "source": [
        "sns.boxplot(x=df['Salario']); plt.title('Boxplot de Salario'); plt.show()  # Ejercicio 8"
      ]
    },
    {
      "cell_type": "code",
      "source": [
        "plt.figure(figsize=(8, 6))\n",
        "sns.boxenplot(data = df,x='Genero',y='Salario',hue='Genero')\n",
        "plt.show()"
      ],
      "metadata": {
        "id": "aQymlx2-lUEO",
        "outputId": "cc5b5c9a-059d-4123-991c-9f2294df0319",
        "colab": {
          "base_uri": "https://localhost:8080/",
          "height": 542
        }
      },
      "id": "aQymlx2-lUEO",
      "execution_count": 11,
      "outputs": [
        {
          "output_type": "display_data",
          "data": {
            "text/plain": [
              "<Figure size 800x600 with 1 Axes>"
            ],
            "image/png": "[encoded data removed]"
          },
          "metadata": {}
        }
      ]
    },
    {
      "cell_type": "code",
      "source": [
        "plt.figure(figsize=(10, 6))\n",
        "sns.boxplot(data = df,x='Genero',y='Edad',hue='Genero')\n",
        "plt.yscale('log')\n",
        "plt.title('Boxplot de Edad por Género')\n",
        "plt.xlabel('Género')\n",
        "plt.ylabel('Edad')\n",
        "plt.show()"
      ],
      "metadata": {
        "colab": {
          "base_uri": "https://localhost:8080/",
          "height": 565
        },
        "id": "sNlWPsg0jhQh",
        "outputId": "48e32ccb-0a48-4474-d4ec-718c0c734556"
      },
      "id": "sNlWPsg0jhQh",
      "execution_count": 10,
      "outputs": [
        {
          "output_type": "display_data",
          "data": {
            "text/plain": [
              "<Figure size 1000x600 with 1 Axes>"
            ],
            "image/png": "[encoded data removed]"
          },
          "metadata": {}
        }
      ]
    },
    {
      "cell_type": "code",
      "execution_count": 12,
      "id": "2e72dc40",
      "metadata": {
        "id": "2e72dc40",
        "colab": {
          "base_uri": "https://localhost:8080/"
        },
        "outputId": "a8543a03-dbe6-42c5-96b5-b5a23b8f5faf"
      },
      "outputs": [
        {
          "output_type": "stream",
          "name": "stdout",
          "text": [
            "Genero\n",
            "F    8\n",
            "M    7\n",
            "Name: count, dtype: int64\n"
          ]
        }
      ],
      "source": [
        "print(df['Genero'].value_counts())  # Ejercicio 9"
      ]
    },
    {
      "cell_type": "code",
      "execution_count": 13,
      "id": "3283ef3b",
      "metadata": {
        "id": "3283ef3b",
        "colab": {
          "base_uri": "https://localhost:8080/",
          "height": 472
        },
        "outputId": "8a818947-8d21-4691-96d5-f19e0a8d6366"
      },
      "outputs": [
        {
          "output_type": "display_data",
          "data": {
            "text/plain": [
              "<Figure size 640x480 with 1 Axes>"
            ],
            "image/png": "[encoded data removed]"
          },
          "metadata": {}
        }
      ],
      "source": [
        "sns.countplot(x='Genero', data=df); plt.title('Frecuencia por Género'); plt.show()  # Ejercicio 10"
      ]
    },
    {
      "cell_type": "code",
      "execution_count": 14,
      "id": "ddc41762",
      "metadata": {
        "id": "ddc41762",
        "colab": {
          "base_uri": "https://localhost:8080/"
        },
        "outputId": "a67a0897-581d-4156-c803-882f5aac120c"
      },
      "outputs": [
        {
          "output_type": "stream",
          "name": "stdout",
          "text": [
            "Departamento\n",
            "IT        77833.333333\n",
            "RRHH      62750.000000\n",
            "Ventas    56200.000000\n",
            "Name: Salario, dtype: float64\n"
          ]
        }
      ],
      "source": [
        "print(df.groupby('Departamento')['Salario'].mean())  # Ejercicio 11"
      ]
    },
    {
      "cell_type": "code",
      "execution_count": 15,
      "id": "acfe71f5",
      "metadata": {
        "id": "acfe71f5",
        "colab": {
          "base_uri": "https://localhost:8080/",
          "height": 472
        },
        "outputId": "b56ea3d4-d827-43ce-981f-44d476d78fac"
      },
      "outputs": [
        {
          "output_type": "display_data",
          "data": {
            "text/plain": [
              "<Figure size 640x480 with 1 Axes>"
            ],
            "image/png": "[encoded data removed]"
          },
          "metadata": {}
        }
      ],
      "source": [
        "sns.barplot(x='Departamento', y='Salario', data=df, estimator=np.mean); plt.title('Salario promedio por Departamento'); plt.show()  # Ejercicio 12"
      ]
    },
    {
      "cell_type": "code",
      "execution_count": 16,
      "id": "d2096a9d",
      "metadata": {
        "id": "d2096a9d",
        "colab": {
          "base_uri": "https://localhost:8080/"
        },
        "outputId": "34a6c31d-1518-408b-bc77-f4d5a73b4a73"
      },
      "outputs": [
        {
          "output_type": "stream",
          "name": "stdout",
          "text": [
            "                Edad   Salario  Antiguedad\n",
            "Edad        1.000000  0.956364    0.955466\n",
            "Salario     0.956364  1.000000    0.936716\n",
            "Antiguedad  0.955466  0.936716    1.000000\n"
          ]
        }
      ],
      "source": [
        "print(df.corr(numeric_only=True))  # Ejercicio 13"
      ]
    },
    {
      "cell_type": "code",
      "execution_count": 17,
      "id": "0b4062b5",
      "metadata": {
        "id": "0b4062b5",
        "colab": {
          "base_uri": "https://localhost:8080/",
          "height": 452
        },
        "outputId": "9483b880-45e8-4bb6-91f0-36b1b93788ef"
      },
      "outputs": [
        {
          "output_type": "display_data",
          "data": {
            "text/plain": [
              "<Figure size 640x480 with 2 Axes>"
            ],
            "image/png": "[encoded data removed]"
          },
          "metadata": {}
        }
      ],
      "source": [
        "sns.heatmap(df.corr(numeric_only=True), annot=True, cmap='coolwarm'); plt.title('Matriz de Correlación'); plt.show()  # Ejercicio 14"
      ]
    },
    {
      "cell_type": "code",
      "execution_count": 18,
      "id": "f2956ad0",
      "metadata": {
        "id": "f2956ad0",
        "colab": {
          "base_uri": "https://localhost:8080/",
          "height": 472
        },
        "outputId": "6080a08b-577d-4569-f787-926998e19a3a"
      },
      "outputs": [
        {
          "output_type": "display_data",
          "data": {
            "text/plain": [
              "<Figure size 640x480 with 1 Axes>"
            ],
            "image/png": "[encoded data removed]"
          },
          "metadata": {}
        }
      ],
      "source": [
        "sns.scatterplot(x='Edad', y='Salario', data=df); plt.title('Edad vs Salario'); plt.show()  # Ejercicio 15"
      ]
    },
    {
      "cell_type": "code",
      "execution_count": 19,
      "id": "4826c777",
      "metadata": {
        "id": "4826c777",
        "colab": {
          "base_uri": "https://localhost:8080/"
        },
        "outputId": "7798dd8a-9b5d-4731-ce9f-d151369ac987"
      },
      "outputs": [
        {
          "output_type": "stream",
          "name": "stdout",
          "text": [
            "[[False False]\n",
            " [False False]\n",
            " [False False]\n",
            " [False False]\n",
            " [ True False]\n",
            " [False False]\n",
            " [False False]\n",
            " [False False]\n",
            " [False False]\n",
            " [False False]\n",
            " [False False]\n",
            " [False False]\n",
            " [False False]\n",
            " [False False]]\n"
          ]
        }
      ],
      "source": [
        "from scipy.stats import zscore\n",
        "z_scores = zscore(df[['Edad', 'Salario']].dropna())\n",
        "outliers = (np.abs(z_scores) > 2)\n",
        "print(outliers)  # Ejercicio 16"
      ]
    },
    {
      "cell_type": "code",
      "source": [
        "z_scores"
      ],
      "metadata": {
        "id": "3tXNPkY8sRJK",
        "outputId": "53b7abd8-331e-4ce8-89bb-139e9d8d144a",
        "colab": {
          "base_uri": "https://localhost:8080/"
        }
      },
      "id": "3tXNPkY8sRJK",
      "execution_count": 20,
      "outputs": [
        {
          "output_type": "execute_result",
          "data": {
            "text/plain": [
              "array([[-1.41120556, -1.34573693],\n",
              "       [ 0.77297189,  1.01915642],\n",
              "       [-0.61695921, -0.39977959],\n",
              "       [-0.21983604, -0.71509871],\n",
              "       [ 2.46074537,  1.80745421],\n",
              "       [-0.91480159, -1.18807738],\n",
              "       [ 0.37584872,  0.62500753],\n",
              "       [-0.02127446, -0.0056307 ],\n",
              "       [ 1.26937586,  1.57096487],\n",
              "       [-0.8155208 , -1.1092476 ],\n",
              "       [ 0.6736911 ,  0.94032664],\n",
              "       [-0.12055525, -0.08446048],\n",
              "       [-0.41839763, -0.24212003],\n",
              "       [-1.01408239, -0.87275826]])"
            ]
          },
          "metadata": {},
          "execution_count": 20
        }
      ]
    },
    {
      "cell_type": "code",
      "source": [
        "df['Edad'] = df['Edad'].fillna(df['Edad'].mean())  # Ejercicio 6: Rellenar nulos\n",
        "df"
      ],
      "metadata": {
        "id": "Rm5ria2rwib8",
        "outputId": "3be67ec7-cf88-42f9-9cb6-1f1883a42185",
        "colab": {
          "base_uri": "https://localhost:8080/",
          "height": 520
        }
      },
      "id": "Rm5ria2rwib8",
      "execution_count": 23,
      "outputs": [
        {
          "output_type": "execute_result",
          "data": {
            "text/plain": [
              "         Edad  Salario Genero Departamento  Antiguedad  zcore Edad  \\\n",
              "0   23.000000    50000      F       Ventas           1         NaN   \n",
              "1   45.000000    80000      M           IT          10         NaN   \n",
              "2   31.000000    62000      F       Ventas           3         NaN   \n",
              "3   35.000000    58000      M         RRHH           5         NaN   \n",
              "4   62.000000    90000      F           IT          20         NaN   \n",
              "5   28.000000    52000      M       Ventas           2         NaN   \n",
              "6   41.000000    75000      M           IT           8         NaN   \n",
              "7   37.000000    67000      F         RRHH           7         NaN   \n",
              "8   50.000000    87000      M           IT          18         NaN   \n",
              "9   29.000000    53000      F       Ventas           2         NaN   \n",
              "10  37.214286    60000      F         RRHH           4         NaN   \n",
              "11  44.000000    79000      M           IT          11         NaN   \n",
              "12  36.000000    66000      F         RRHH           6         NaN   \n",
              "13  33.000000    64000      M       Ventas           3         NaN   \n",
              "14  27.000000    56000      F           IT           5         NaN   \n",
              "\n",
              "    zcore Salario  \n",
              "0       -1.340688  \n",
              "1        1.082242  \n",
              "2       -0.371516  \n",
              "3       -0.694573  \n",
              "4        1.889885  \n",
              "5       -1.179159  \n",
              "6        0.678420  \n",
              "7        0.032306  \n",
              "8        1.647592  \n",
              "9       -1.098395  \n",
              "10      -0.533044  \n",
              "11       1.001477  \n",
              "12      -0.048459  \n",
              "13      -0.209987  \n",
              "14      -0.856102  "
            ],
            "text/html": [
              "\n",
              "  <div id=\"df-36dcb6f5-ba79-46f4-9ee0-4ff2cfc8cb88\" class=\"colab-df-container\">\n",
              "    <div>\n",
              "<style scoped>\n",
              "    .dataframe tbody tr th:only-of-type {\n",
              "        vertical-align: middle;\n",
              "    }\n",
              "\n",
              "    .dataframe tbody tr th {\n",
              "        vertical-align: top;\n",
              "    }\n",
              "\n",
              "    .dataframe thead th {\n",
              "        text-align: right;\n",
              "    }\n",
              "</style>\n",
              "<table border=\"1\" class=\"dataframe\">\n",
              "  <thead>\n",
              "    <tr style=\"text-align: right;\">\n",
              "      <th></th>\n",
              "      <th>Edad</th>\n",
              "      <th>Salario</th>\n",
              "      <th>Genero</th>\n",
              "      <th>Departamento</th>\n",
              "      <th>Antiguedad</th>\n",
              "      <th>zcore Edad</th>\n",
              "      <th>zcore Salario</th>\n",
              "    </tr>\n",
              "  </thead>\n",
              "  <tbody>\n",
              "    <tr>\n",
              "      <th>0</th>\n",
              "      <td>23.000000</td>\n",
              "      <td>50000</td>\n",
              "      <td>F</td>\n",
              "      <td>Ventas</td>\n",
              "      <td>1</td>\n",
              "      <td>NaN</td>\n",
              "      <td>-1.340688</td>\n",
              "    </tr>\n",
              "    <tr>\n",
              "      <th>1</th>\n",
              "      <td>45.000000</td>\n",
              "      <td>80000</td>\n",
              "      <td>M</td>\n",
              "      <td>IT</td>\n",
              "      <td>10</td>\n",
              "      <td>NaN</td>\n",
              "      <td>1.082242</td>\n",
              "    </tr>\n",
              "    <tr>\n",
              "      <th>2</th>\n",
              "      <td>31.000000</td>\n",
              "      <td>62000</td>\n",
              "      <td>F</td>\n",
              "      <td>Ventas</td>\n",
              "      <td>3</td>\n",
              "      <td>NaN</td>\n",
              "      <td>-0.371516</td>\n",
              "    </tr>\n",
              "    <tr>\n",
              "      <th>3</th>\n",
              "      <td>35.000000</td>\n",
              "      <td>58000</td>\n",
              "      <td>M</td>\n",
              "      <td>RRHH</td>\n",
              "      <td>5</td>\n",
              "      <td>NaN</td>\n",
              "      <td>-0.694573</td>\n",
              "    </tr>\n",
              "    <tr>\n",
              "      <th>4</th>\n",
              "      <td>62.000000</td>\n",
              "      <td>90000</td>\n",
              "      <td>F</td>\n",
              "      <td>IT</td>\n",
              "      <td>20</td>\n",
              "      <td>NaN</td>\n",
              "      <td>1.889885</td>\n",
              "    </tr>\n",
              "    <tr>\n",
              "      <th>5</th>\n",
              "      <td>28.000000</td>\n",
              "      <td>52000</td>\n",
              "      <td>M</td>\n",
              "      <td>Ventas</td>\n",
              "      <td>2</td>\n",
              "      <td>NaN</td>\n",
              "      <td>-1.179159</td>\n",
              "    </tr>\n",
              "    <tr>\n",
              "      <th>6</th>\n",
              "      <td>41.000000</td>\n",
              "      <td>75000</td>\n",
              "      <td>M</td>\n",
              "      <td>IT</td>\n",
              "      <td>8</td>\n",
              "      <td>NaN</td>\n",
              "      <td>0.678420</td>\n",
              "    </tr>\n",
              "    <tr>\n",
              "      <th>7</th>\n",
              "      <td>37.000000</td>\n",
              "      <td>67000</td>\n",
              "      <td>F</td>\n",
              "      <td>RRHH</td>\n",
              "      <td>7</td>\n",
              "      <td>NaN</td>\n",
              "      <td>0.032306</td>\n",
              "    </tr>\n",
              "    <tr>\n",
              "      <th>8</th>\n",
              "      <td>50.000000</td>\n",
              "      <td>87000</td>\n",
              "      <td>M</td>\n",
              "      <td>IT</td>\n",
              "      <td>18</td>\n",
              "      <td>NaN</td>\n",
              "      <td>1.647592</td>\n",
              "    </tr>\n",
              "    <tr>\n",
              "      <th>9</th>\n",
              "      <td>29.000000</td>\n",
              "      <td>53000</td>\n",
              "      <td>F</td>\n",
              "      <td>Ventas</td>\n",
              "      <td>2</td>\n",
              "      <td>NaN</td>\n",
              "      <td>-1.098395</td>\n",
              "    </tr>\n",
              "    <tr>\n",
              "      <th>10</th>\n",
              "      <td>37.214286</td>\n",
              "      <td>60000</td>\n",
              "      <td>F</td>\n",
              "      <td>RRHH</td>\n",
              "      <td>4</td>\n",
              "      <td>NaN</td>\n",
              "      <td>-0.533044</td>\n",
              "    </tr>\n",
              "    <tr>\n",
              "      <th>11</th>\n",
              "      <td>44.000000</td>\n",
              "      <td>79000</td>\n",
              "      <td>M</td>\n",
              "      <td>IT</td>\n",
              "      <td>11</td>\n",
              "      <td>NaN</td>\n",
              "      <td>1.001477</td>\n",
              "    </tr>\n",
              "    <tr>\n",
              "      <th>12</th>\n",
              "      <td>36.000000</td>\n",
              "      <td>66000</td>\n",
              "      <td>F</td>\n",
              "      <td>RRHH</td>\n",
              "      <td>6</td>\n",
              "      <td>NaN</td>\n",
              "      <td>-0.048459</td>\n",
              "    </tr>\n",
              "    <tr>\n",
              "      <th>13</th>\n",
              "      <td>33.000000</td>\n",
              "      <td>64000</td>\n",
              "      <td>M</td>\n",
              "      <td>Ventas</td>\n",
              "      <td>3</td>\n",
              "      <td>NaN</td>\n",
              "      <td>-0.209987</td>\n",
              "    </tr>\n",
              "    <tr>\n",
              "      <th>14</th>\n",
              "      <td>27.000000</td>\n",
              "      <td>56000</td>\n",
              "      <td>F</td>\n",
              "      <td>IT</td>\n",
              "      <td>5</td>\n",
              "      <td>NaN</td>\n",
              "      <td>-0.856102</td>\n",
              "    </tr>\n",
              "  </tbody>\n",
              "</table>\n",
              "</div>\n",
              "    <div class=\"colab-df-buttons\">\n",
              "\n",
              "  <div class=\"colab-df-container\">\n",
              "    <button class=\"colab-df-convert\" onclick=\"convertToInteractive('df-36dcb6f5-ba79-46f4-9ee0-4ff2cfc8cb88')\"\n",
              "            title=\"Convert this dataframe to an interactive table.\"\n",
              "            style=\"display:none;\">\n",
              "\n",
              "  <svg xmlns=\"http://www.w3.org/2000/svg\" height=\"24px\" viewBox=\"0 -960 960 960\">\n",
              "    <path d=\"M120-120v-720h720v720H120Zm60-500h600v-160H180v160Zm220 220h160v-160H400v160Zm0 220h160v-160H400v160ZM180-400h160v-160H180v160Zm440 0h160v-160H620v160ZM180-180h160v-160H180v160Zm440 0h160v-160H620v160Z\"/>\n",
              "  </svg>\n",
              "    </button>\n",
              "\n",
              "  <style>\n",
              "    .colab-df-container {\n",
              "      display:flex;\n",
              "      gap: 12px;\n",
              "    }\n",
              "\n",
              "    .colab-df-convert {\n",
              "      background-color: #E8F0FE;\n",
              "      border: none;\n",
              "      border-radius: 50%;\n",
              "      cursor: pointer;\n",
              "      display: none;\n",
              "      fill: #1967D2;\n",
              "      height: 32px;\n",
              "      padding: 0 0 0 0;\n",
              "      width: 32px;\n",
              "    }\n",
              "\n",
              "    .colab-df-convert:hover {\n",
              "      background-color: #E2EBFA;\n",
              "      box-shadow: 0px 1px 2px rgba(60, 64, 67, 0.3), 0px 1px 3px 1px rgba(60, 64, 67, 0.15);\n",
              "      fill: #174EA6;\n",
              "    }\n",
              "\n",
              "    .colab-df-buttons div {\n",
              "      margin-bottom: 4px;\n",
              "    }\n",
              "\n",
              "    [theme=dark] .colab-df-convert {\n",
              "      background-color: #3B4455;\n",
              "      fill: #D2E3FC;\n",
              "    }\n",
              "\n",
              "    [theme=dark] .colab-df-convert:hover {\n",
              "      background-color: #434B5C;\n",
              "      box-shadow: 0px 1px 3px 1px rgba(0, 0, 0, 0.15);\n",
              "      filter: drop-shadow(0px 1px 2px rgba(0, 0, 0, 0.3));\n",
              "      fill: #FFFFFF;\n",
              "    }\n",
              "  </style>\n",
              "\n",
              "    <script>\n",
              "      const buttonEl =\n",
              "        document.querySelector('#df-36dcb6f5-ba79-46f4-9ee0-4ff2cfc8cb88 button.colab-df-convert');\n",
              "      buttonEl.style.display =\n",
              "        google.colab.kernel.accessAllowed ? 'block' : 'none';\n",
              "\n",
              "      async function convertToInteractive(key) {\n",
              "        const element = document.querySelector('#df-36dcb6f5-ba79-46f4-9ee0-4ff2cfc8cb88');\n",
              "        const dataTable =\n",
              "          await google.colab.kernel.invokeFunction('convertToInteractive',\n",
              "                                                    [key], {});\n",
              "        if (!dataTable) return;\n",
              "\n",
              "        const docLinkHtml = 'Like what you see? Visit the ' +\n",
              "          '<a target=\"_blank\" href=https://colab.research.google.com/notebooks/data_table.ipynb>data table notebook</a>'\n",
              "          + ' to learn more about interactive tables.';\n",
              "        element.innerHTML = '';\n",
              "        dataTable['output_type'] = 'display_data';\n",
              "        await google.colab.output.renderOutput(dataTable, element);\n",
              "        const docLink = document.createElement('div');\n",
              "        docLink.innerHTML = docLinkHtml;\n",
              "        element.appendChild(docLink);\n",
              "      }\n",
              "    </script>\n",
              "  </div>\n",
              "\n",
              "\n",
              "    <div id=\"df-c141c7a2-a68b-4ad5-b0bd-6bb4c7c04ba4\">\n",
              "      <button class=\"colab-df-quickchart\" onclick=\"quickchart('df-c141c7a2-a68b-4ad5-b0bd-6bb4c7c04ba4')\"\n",
              "                title=\"Suggest charts\"\n",
              "                style=\"display:none;\">\n",
              "\n",
              "<svg xmlns=\"http://www.w3.org/2000/svg\" height=\"24px\"viewBox=\"0 0 24 24\"\n",
              "     width=\"24px\">\n",
              "    <g>\n",
              "        <path d=\"M19 3H5c-1.1 0-2 .9-2 2v14c0 1.1.9 2 2 2h14c1.1 0 2-.9 2-2V5c0-1.1-.9-2-2-2zM9 17H7v-7h2v7zm4 0h-2V7h2v10zm4 0h-2v-4h2v4z\"/>\n",
              "    </g>\n",
              "</svg>\n",
              "      </button>\n",
              "\n",
              "<style>\n",
              "  .colab-df-quickchart {\n",
              "      --bg-color: #E8F0FE;\n",
              "      --fill-color: #1967D2;\n",
              "      --hover-bg-color: #E2EBFA;\n",
              "      --hover-fill-color: #174EA6;\n",
              "      --disabled-fill-color: #AAA;\n",
              "      --disabled-bg-color: #DDD;\n",
              "  }\n",
              "\n",
              "  [theme=dark] .colab-df-quickchart {\n",
              "      --bg-color: #3B4455;\n",
              "      --fill-color: #D2E3FC;\n",
              "      --hover-bg-color: #434B5C;\n",
              "      --hover-fill-color: #FFFFFF;\n",
              "      --disabled-bg-color: #3B4455;\n",
              "      --disabled-fill-color: #666;\n",
              "  }\n",
              "\n",
              "  .colab-df-quickchart {\n",
              "    background-color: var(--bg-color);\n",
              "    border: none;\n",
              "    border-radius: 50%;\n",
              "    cursor: pointer;\n",
              "    display: none;\n",
              "    fill: var(--fill-color);\n",
              "    height: 32px;\n",
              "    padding: 0;\n",
              "    width: 32px;\n",
              "  }\n",
              "\n",
              "  .colab-df-quickchart:hover {\n",
              "    background-color: var(--hover-bg-color);\n",
              "    box-shadow: 0 1px 2px rgba(60, 64, 67, 0.3), 0 1px 3px 1px rgba(60, 64, 67, 0.15);\n",
              "    fill: var(--button-hover-fill-color);\n",
              "  }\n",
              "\n",
              "  .colab-df-quickchart-complete:disabled,\n",
              "  .colab-df-quickchart-complete:disabled:hover {\n",
              "    background-color: var(--disabled-bg-color);\n",
              "    fill: var(--disabled-fill-color);\n",
              "    box-shadow: none;\n",
              "  }\n",
              "\n",
              "  .colab-df-spinner {\n",
              "    border: 2px solid var(--fill-color);\n",
              "    border-color: transparent;\n",
              "    border-bottom-color: var(--fill-color);\n",
              "    animation:\n",
              "      spin 1s steps(1) infinite;\n",
              "  }\n",
              "\n",
              "  @keyframes spin {\n",
              "    0% {\n",
              "      border-color: transparent;\n",
              "      border-bottom-color: var(--fill-color);\n",
              "      border-left-color: var(--fill-color);\n",
              "    }\n",
              "    20% {\n",
              "      border-color: transparent;\n",
              "      border-left-color: var(--fill-color);\n",
              "      border-top-color: var(--fill-color);\n",
              "    }\n",
              "    30% {\n",
              "      border-color: transparent;\n",
              "      border-left-color: var(--fill-color);\n",
              "      border-top-color: var(--fill-color);\n",
              "      border-right-color: var(--fill-color);\n",
              "    }\n",
              "    40% {\n",
              "      border-color: transparent;\n",
              "      border-right-color: var(--fill-color);\n",
              "      border-top-color: var(--fill-color);\n",
              "    }\n",
              "    60% {\n",
              "      border-color: transparent;\n",
              "      border-right-color: var(--fill-color);\n",
              "    }\n",
              "    80% {\n",
              "      border-color: transparent;\n",
              "      border-right-color: var(--fill-color);\n",
              "      border-bottom-color: var(--fill-color);\n",
              "    }\n",
              "    90% {\n",
              "      border-color: transparent;\n",
              "      border-bottom-color: var(--fill-color);\n",
              "    }\n",
              "  }\n",
              "</style>\n",
              "\n",
              "      <script>\n",
              "        async function quickchart(key) {\n",
              "          const quickchartButtonEl =\n",
              "            document.querySelector('#' + key + ' button');\n",
              "          quickchartButtonEl.disabled = true;  // To prevent multiple clicks.\n",
              "          quickchartButtonEl.classList.add('colab-df-spinner');\n",
              "          try {\n",
              "            const charts = await google.colab.kernel.invokeFunction(\n",
              "                'suggestCharts', [key], {});\n",
              "          } catch (error) {\n",
              "            console.error('Error during call to suggestCharts:', error);\n",
              "          }\n",
              "          quickchartButtonEl.classList.remove('colab-df-spinner');\n",
              "          quickchartButtonEl.classList.add('colab-df-quickchart-complete');\n",
              "        }\n",
              "        (() => {\n",
              "          let quickchartButtonEl =\n",
              "            document.querySelector('#df-c141c7a2-a68b-4ad5-b0bd-6bb4c7c04ba4 button');\n",
              "          quickchartButtonEl.style.display =\n",
              "            google.colab.kernel.accessAllowed ? 'block' : 'none';\n",
              "        })();\n",
              "      </script>\n",
              "    </div>\n",
              "\n",
              "  <div id=\"id_873cb726-9f44-4754-82a3-7e100db98d93\">\n",
              "    <style>\n",
              "      .colab-df-generate {\n",
              "        background-color: #E8F0FE;\n",
              "        border: none;\n",
              "        border-radius: 50%;\n",
              "        cursor: pointer;\n",
              "        display: none;\n",
              "        fill: #1967D2;\n",
              "        height: 32px;\n",
              "        padding: 0 0 0 0;\n",
              "        width: 32px;\n",
              "      }\n",
              "\n",
              "      .colab-df-generate:hover {\n",
              "        background-color: #E2EBFA;\n",
              "        box-shadow: 0px 1px 2px rgba(60, 64, 67, 0.3), 0px 1px 3px 1px rgba(60, 64, 67, 0.15);\n",
              "        fill: #174EA6;\n",
              "      }\n",
              "\n",
              "      [theme=dark] .colab-df-generate {\n",
              "        background-color: #3B4455;\n",
              "        fill: #D2E3FC;\n",
              "      }\n",
              "\n",
              "      [theme=dark] .colab-df-generate:hover {\n",
              "        background-color: #434B5C;\n",
              "        box-shadow: 0px 1px 3px 1px rgba(0, 0, 0, 0.15);\n",
              "        filter: drop-shadow(0px 1px 2px rgba(0, 0, 0, 0.3));\n",
              "        fill: #FFFFFF;\n",
              "      }\n",
              "    </style>\n",
              "    <button class=\"colab-df-generate\" onclick=\"generateWithVariable('df')\"\n",
              "            title=\"Generate code using this dataframe.\"\n",
              "            style=\"display:none;\">\n",
              "\n",
              "  <svg xmlns=\"http://www.w3.org/2000/svg\" height=\"24px\"viewBox=\"0 0 24 24\"\n",
              "       width=\"24px\">\n",
              "    <path d=\"M7,19H8.4L18.45,9,17,7.55,7,17.6ZM5,21V16.75L18.45,3.32a2,2,0,0,1,2.83,0l1.4,1.43a1.91,1.91,0,0,1,.58,1.4,1.91,1.91,0,0,1-.58,1.4L9.25,21ZM18.45,9,17,7.55Zm-12,3A5.31,5.31,0,0,0,4.9,8.1,5.31,5.31,0,0,0,1,6.5,5.31,5.31,0,0,0,4.9,4.9,5.31,5.31,0,0,0,6.5,1,5.31,5.31,0,0,0,8.1,4.9,5.31,5.31,0,0,0,12,6.5,5.46,5.46,0,0,0,6.5,12Z\"/>\n",
              "  </svg>\n",
              "    </button>\n",
              "    <script>\n",
              "      (() => {\n",
              "      const buttonEl =\n",
              "        document.querySelector('#id_873cb726-9f44-4754-82a3-7e100db98d93 button.colab-df-generate');\n",
              "      buttonEl.style.display =\n",
              "        google.colab.kernel.accessAllowed ? 'block' : 'none';\n",
              "\n",
              "      buttonEl.onclick = () => {\n",
              "        google.colab.notebook.generateWithVariable('df');\n",
              "      }\n",
              "      })();\n",
              "    </script>\n",
              "  </div>\n",
              "\n",
              "    </div>\n",
              "  </div>\n"
            ],
            "application/vnd.google.colaboratory.intrinsic+json": {
              "type": "dataframe",
              "variable_name": "df",
              "summary": "{\n  \"name\": \"df\",\n  \"rows\": 15,\n  \"fields\": [\n    {\n      \"column\": \"Edad\",\n      \"properties\": {\n        \"dtype\": \"number\",\n        \"std\": 10.07244169169785,\n        \"min\": 23.0,\n        \"max\": 62.0,\n        \"num_unique_values\": 15,\n        \"samples\": [\n          29.0,\n          44.0,\n          23.0\n        ],\n        \"semantic_type\": \"\",\n        \"description\": \"\"\n      }\n    },\n    {\n      \"column\": \"Salario\",\n      \"properties\": {\n        \"dtype\": \"number\",\n        \"std\": 12816,\n        \"min\": 50000,\n        \"max\": 90000,\n        \"num_unique_values\": 15,\n        \"samples\": [\n          53000,\n          79000,\n          50000\n        ],\n        \"semantic_type\": \"\",\n        \"description\": \"\"\n      }\n    },\n    {\n      \"column\": \"Genero\",\n      \"properties\": {\n        \"dtype\": \"category\",\n        \"num_unique_values\": 2,\n        \"samples\": [\n          \"M\",\n          \"F\"\n        ],\n        \"semantic_type\": \"\",\n        \"description\": \"\"\n      }\n    },\n    {\n      \"column\": \"Departamento\",\n      \"properties\": {\n        \"dtype\": \"category\",\n        \"num_unique_values\": 3,\n        \"samples\": [\n          \"Ventas\",\n          \"IT\"\n        ],\n        \"semantic_type\": \"\",\n        \"description\": \"\"\n      }\n    },\n    {\n      \"column\": \"Antiguedad\",\n      \"properties\": {\n        \"dtype\": \"number\",\n        \"std\": 5,\n        \"min\": 1,\n        \"max\": 20,\n        \"num_unique_values\": 12,\n        \"samples\": [\n          11,\n          4\n        ],\n        \"semantic_type\": \"\",\n        \"description\": \"\"\n      }\n    },\n    {\n      \"column\": \"zcore Edad\",\n      \"properties\": {\n        \"dtype\": \"number\",\n        \"std\": null,\n        \"min\": null,\n        \"max\": null,\n        \"num_unique_values\": 0,\n        \"samples\": [],\n        \"semantic_type\": \"\",\n        \"description\": \"\"\n      }\n    },\n    {\n      \"column\": \"zcore Salario\",\n      \"properties\": {\n        \"dtype\": \"number\",\n        \"std\": 1.0350983390135313,\n        \"min\": -1.3406875227177495,\n        \"max\": 1.889884821180442,\n        \"num_unique_values\": 15,\n        \"samples\": [],\n        \"semantic_type\": \"\",\n        \"description\": \"\"\n      }\n    }\n  ]\n}"
            }
          },
          "metadata": {},
          "execution_count": 23
        }
      ]
    },
    {
      "cell_type": "code",
      "source": [
        "from os import stat\n",
        "from scipy.stats import zscore\n",
        "df['zcore Edad'] = zscore(df['Edad'])\n",
        "df['zcore Salario'] = zscore(df['Salario'])\n",
        "df"
      ],
      "metadata": {
        "id": "Ml0sfUB9uY0O",
        "outputId": "c1badae8-8247-446e-da83-8bba124b2b4c",
        "colab": {
          "base_uri": "https://localhost:8080/",
          "height": 520
        }
      },
      "id": "Ml0sfUB9uY0O",
      "execution_count": 22,
      "outputs": [
        {
          "output_type": "execute_result",
          "data": {
            "text/plain": [
              "    Edad  Salario Genero Departamento  Antiguedad  zcore Edad  zcore Salario\n",
              "0   23.0    50000      F       Ventas           1         NaN      -1.340688\n",
              "1   45.0    80000      M           IT          10         NaN       1.082242\n",
              "2   31.0    62000      F       Ventas           3         NaN      -0.371516\n",
              "3   35.0    58000      M         RRHH           5         NaN      -0.694573\n",
              "4   62.0    90000      F           IT          20         NaN       1.889885\n",
              "5   28.0    52000      M       Ventas           2         NaN      -1.179159\n",
              "6   41.0    75000      M           IT           8         NaN       0.678420\n",
              "7   37.0    67000      F         RRHH           7         NaN       0.032306\n",
              "8   50.0    87000      M           IT          18         NaN       1.647592\n",
              "9   29.0    53000      F       Ventas           2         NaN      -1.098395\n",
              "10   NaN    60000      F         RRHH           4         NaN      -0.533044\n",
              "11  44.0    79000      M           IT          11         NaN       1.001477\n",
              "12  36.0    66000      F         RRHH           6         NaN      -0.048459\n",
              "13  33.0    64000      M       Ventas           3         NaN      -0.209987\n",
              "14  27.0    56000      F           IT           5         NaN      -0.856102"
            ],
            "text/html": [
              "\n",
              "  <div id=\"df-b31aaccf-0349-433d-8ebb-92646dc5bb2f\" class=\"colab-df-container\">\n",
              "    <div>\n",
              "<style scoped>\n",
              "    .dataframe tbody tr th:only-of-type {\n",
              "        vertical-align: middle;\n",
              "    }\n",
              "\n",
              "    .dataframe tbody tr th {\n",
              "        vertical-align: top;\n",
              "    }\n",
              "\n",
              "    .dataframe thead th {\n",
              "        text-align: right;\n",
              "    }\n",
              "</style>\n",
              "<table border=\"1\" class=\"dataframe\">\n",
              "  <thead>\n",
              "    <tr style=\"text-align: right;\">\n",
              "      <th></th>\n",
              "      <th>Edad</th>\n",
              "      <th>Salario</th>\n",
              "      <th>Genero</th>\n",
              "      <th>Departamento</th>\n",
              "      <th>Antiguedad</th>\n",
              "      <th>zcore Edad</th>\n",
              "      <th>zcore Salario</th>\n",
              "    </tr>\n",
              "  </thead>\n",
              "  <tbody>\n",
              "    <tr>\n",
              "      <th>0</th>\n",
              "      <td>23.0</td>\n",
              "      <td>50000</td>\n",
              "      <td>F</td>\n",
              "      <td>Ventas</td>\n",
              "      <td>1</td>\n",
              "      <td>NaN</td>\n",
              "      <td>-1.340688</td>\n",
              "    </tr>\n",
              "    <tr>\n",
              "      <th>1</th>\n",
              "      <td>45.0</td>\n",
              "      <td>80000</td>\n",
              "      <td>M</td>\n",
              "      <td>IT</td>\n",
              "      <td>10</td>\n",
              "      <td>NaN</td>\n",
              "      <td>1.082242</td>\n",
              "    </tr>\n",
              "    <tr>\n",
              "      <th>2</th>\n",
              "      <td>31.0</td>\n",
              "      <td>62000</td>\n",
              "      <td>F</td>\n",
              "      <td>Ventas</td>\n",
              "      <td>3</td>\n",
              "      <td>NaN</td>\n",
              "      <td>-0.371516</td>\n",
              "    </tr>\n",
              "    <tr>\n",
              "      <th>3</th>\n",
              "      <td>35.0</td>\n",
              "      <td>58000</td>\n",
              "      <td>M</td>\n",
              "      <td>RRHH</td>\n",
              "      <td>5</td>\n",
              "      <td>NaN</td>\n",
              "      <td>-0.694573</td>\n",
              "    </tr>\n",
              "    <tr>\n",
              "      <th>4</th>\n",
              "      <td>62.0</td>\n",
              "      <td>90000</td>\n",
              "      <td>F</td>\n",
              "      <td>IT</td>\n",
              "      <td>20</td>\n",
              "      <td>NaN</td>\n",
              "      <td>1.889885</td>\n",
              "    </tr>\n",
              "    <tr>\n",
              "      <th>5</th>\n",
              "      <td>28.0</td>\n",
              "      <td>52000</td>\n",
              "      <td>M</td>\n",
              "      <td>Ventas</td>\n",
              "      <td>2</td>\n",
              "      <td>NaN</td>\n",
              "      <td>-1.179159</td>\n",
              "    </tr>\n",
              "    <tr>\n",
              "      <th>6</th>\n",
              "      <td>41.0</td>\n",
              "      <td>75000</td>\n",
              "      <td>M</td>\n",
              "      <td>IT</td>\n",
              "      <td>8</td>\n",
              "      <td>NaN</td>\n",
              "      <td>0.678420</td>\n",
              "    </tr>\n",
              "    <tr>\n",
              "      <th>7</th>\n",
              "      <td>37.0</td>\n",
              "      <td>67000</td>\n",
              "      <td>F</td>\n",
              "      <td>RRHH</td>\n",
              "      <td>7</td>\n",
              "      <td>NaN</td>\n",
              "      <td>0.032306</td>\n",
              "    </tr>\n",
              "    <tr>\n",
              "      <th>8</th>\n",
              "      <td>50.0</td>\n",
              "      <td>87000</td>\n",
              "      <td>M</td>\n",
              "      <td>IT</td>\n",
              "      <td>18</td>\n",
              "      <td>NaN</td>\n",
              "      <td>1.647592</td>\n",
              "    </tr>\n",
              "    <tr>\n",
              "      <th>9</th>\n",
              "      <td>29.0</td>\n",
              "      <td>53000</td>\n",
              "      <td>F</td>\n",
              "      <td>Ventas</td>\n",
              "      <td>2</td>\n",
              "      <td>NaN</td>\n",
              "      <td>-1.098395</td>\n",
              "    </tr>\n",
              "    <tr>\n",
              "      <th>10</th>\n",
              "      <td>NaN</td>\n",
              "      <td>60000</td>\n",
              "      <td>F</td>\n",
              "      <td>RRHH</td>\n",
              "      <td>4</td>\n",
              "      <td>NaN</td>\n",
              "      <td>-0.533044</td>\n",
              "    </tr>\n",
              "    <tr>\n",
              "      <th>11</th>\n",
              "      <td>44.0</td>\n",
              "      <td>79000</td>\n",
              "      <td>M</td>\n",
              "      <td>IT</td>\n",
              "      <td>11</td>\n",
              "      <td>NaN</td>\n",
              "      <td>1.001477</td>\n",
              "    </tr>\n",
              "    <tr>\n",
              "      <th>12</th>\n",
              "      <td>36.0</td>\n",
              "      <td>66000</td>\n",
              "      <td>F</td>\n",
              "      <td>RRHH</td>\n",
              "      <td>6</td>\n",
              "      <td>NaN</td>\n",
              "      <td>-0.048459</td>\n",
              "    </tr>\n",
              "    <tr>\n",
              "      <th>13</th>\n",
              "      <td>33.0</td>\n",
              "      <td>64000</td>\n",
              "      <td>M</td>\n",
              "      <td>Ventas</td>\n",
              "      <td>3</td>\n",
              "      <td>NaN</td>\n",
              "      <td>-0.209987</td>\n",
              "    </tr>\n",
              "    <tr>\n",
              "      <th>14</th>\n",
              "      <td>27.0</td>\n",
              "      <td>56000</td>\n",
              "      <td>F</td>\n",
              "      <td>IT</td>\n",
              "      <td>5</td>\n",
              "      <td>NaN</td>\n",
              "      <td>-0.856102</td>\n",
              "    </tr>\n",
              "  </tbody>\n",
              "</table>\n",
              "</div>\n",
              "    <div class=\"colab-df-buttons\">\n",
              "\n",
              "  <div class=\"colab-df-container\">\n",
              "    <button class=\"colab-df-convert\" onclick=\"convertToInteractive('df-b31aaccf-0349-433d-8ebb-92646dc5bb2f')\"\n",
              "            title=\"Convert this dataframe to an interactive table.\"\n",
              "            style=\"display:none;\">\n",
              "\n",
              "  <svg xmlns=\"http://www.w3.org/2000/svg\" height=\"24px\" viewBox=\"0 -960 960 960\">\n",
              "    <path d=\"M120-120v-720h720v720H120Zm60-500h600v-160H180v160Zm220 220h160v-160H400v160Zm0 220h160v-160H400v160ZM180-400h160v-160H180v160Zm440 0h160v-160H620v160ZM180-180h160v-160H180v160Zm440 0h160v-160H620v160Z\"/>\n",
              "  </svg>\n",
              "    </button>\n",
              "\n",
              "  <style>\n",
              "    .colab-df-container {\n",
              "      display:flex;\n",
              "      gap: 12px;\n",
              "    }\n",
              "\n",
              "    .colab-df-convert {\n",
              "      background-color: #E8F0FE;\n",
              "      border: none;\n",
              "      border-radius: 50%;\n",
              "      cursor: pointer;\n",
              "      display: none;\n",
              "      fill: #1967D2;\n",
              "      height: 32px;\n",
              "      padding: 0 0 0 0;\n",
              "      width: 32px;\n",
              "    }\n",
              "\n",
              "    .colab-df-convert:hover {\n",
              "      background-color: #E2EBFA;\n",
              "      box-shadow: 0px 1px 2px rgba(60, 64, 67, 0.3), 0px 1px 3px 1px rgba(60, 64, 67, 0.15);\n",
              "      fill: #174EA6;\n",
              "    }\n",
              "\n",
              "    .colab-df-buttons div {\n",
              "      margin-bottom: 4px;\n",
              "    }\n",
              "\n",
              "    [theme=dark] .colab-df-convert {\n",
              "      background-color: #3B4455;\n",
              "      fill: #D2E3FC;\n",
              "    }\n",
              "\n",
              "    [theme=dark] .colab-df-convert:hover {\n",
              "      background-color: #434B5C;\n",
              "      box-shadow: 0px 1px 3px 1px rgba(0, 0, 0, 0.15);\n",
              "      filter: drop-shadow(0px 1px 2px rgba(0, 0, 0, 0.3));\n",
              "      fill: #FFFFFF;\n",
              "    }\n",
              "  </style>\n",
              "\n",
              "    <script>\n",
              "      const buttonEl =\n",
              "        document.querySelector('#df-b31aaccf-0349-433d-8ebb-92646dc5bb2f button.colab-df-convert');\n",
              "      buttonEl.style.display =\n",
              "        google.colab.kernel.accessAllowed ? 'block' : 'none';\n",
              "\n",
              "      async function convertToInteractive(key) {\n",
              "        const element = document.querySelector('#df-b31aaccf-0349-433d-8ebb-92646dc5bb2f');\n",
              "        const dataTable =\n",
              "          await google.colab.kernel.invokeFunction('convertToInteractive',\n",
              "                                                    [key], {});\n",
              "        if (!dataTable) return;\n",
              "\n",
              "        const docLinkHtml = 'Like what you see? Visit the ' +\n",
              "          '<a target=\"_blank\" href=https://colab.research.google.com/notebooks/data_table.ipynb>data table notebook</a>'\n",
              "          + ' to learn more about interactive tables.';\n",
              "        element.innerHTML = '';\n",
              "        dataTable['output_type'] = 'display_data';\n",
              "        await google.colab.output.renderOutput(dataTable, element);\n",
              "        const docLink = document.createElement('div');\n",
              "        docLink.innerHTML = docLinkHtml;\n",
              "        element.appendChild(docLink);\n",
              "      }\n",
              "    </script>\n",
              "  </div>\n",
              "\n",
              "\n",
              "    <div id=\"df-780f995e-e56a-4954-a4a9-be26926eeb72\">\n",
              "      <button class=\"colab-df-quickchart\" onclick=\"quickchart('df-780f995e-e56a-4954-a4a9-be26926eeb72')\"\n",
              "                title=\"Suggest charts\"\n",
              "                style=\"display:none;\">\n",
              "\n",
              "<svg xmlns=\"http://www.w3.org/2000/svg\" height=\"24px\"viewBox=\"0 0 24 24\"\n",
              "     width=\"24px\">\n",
              "    <g>\n",
              "        <path d=\"M19 3H5c-1.1 0-2 .9-2 2v14c0 1.1.9 2 2 2h14c1.1 0 2-.9 2-2V5c0-1.1-.9-2-2-2zM9 17H7v-7h2v7zm4 0h-2V7h2v10zm4 0h-2v-4h2v4z\"/>\n",
              "    </g>\n",
              "</svg>\n",
              "      </button>\n",
              "\n",
              "<style>\n",
              "  .colab-df-quickchart {\n",
              "      --bg-color: #E8F0FE;\n",
              "      --fill-color: #1967D2;\n",
              "      --hover-bg-color: #E2EBFA;\n",
              "      --hover-fill-color: #174EA6;\n",
              "      --disabled-fill-color: #AAA;\n",
              "      --disabled-bg-color: #DDD;\n",
              "  }\n",
              "\n",
              "  [theme=dark] .colab-df-quickchart {\n",
              "      --bg-color: #3B4455;\n",
              "      --fill-color: #D2E3FC;\n",
              "      --hover-bg-color: #434B5C;\n",
              "      --hover-fill-color: #FFFFFF;\n",
              "      --disabled-bg-color: #3B4455;\n",
              "      --disabled-fill-color: #666;\n",
              "  }\n",
              "\n",
              "  .colab-df-quickchart {\n",
              "    background-color: var(--bg-color);\n",
              "    border: none;\n",
              "    border-radius: 50%;\n",
              "    cursor: pointer;\n",
              "    display: none;\n",
              "    fill: var(--fill-color);\n",
              "    height: 32px;\n",
              "    padding: 0;\n",
              "    width: 32px;\n",
              "  }\n",
              "\n",
              "  .colab-df-quickchart:hover {\n",
              "    background-color: var(--hover-bg-color);\n",
              "    box-shadow: 0 1px 2px rgba(60, 64, 67, 0.3), 0 1px 3px 1px rgba(60, 64, 67, 0.15);\n",
              "    fill: var(--button-hover-fill-color);\n",
              "  }\n",
              "\n",
              "  .colab-df-quickchart-complete:disabled,\n",
              "  .colab-df-quickchart-complete:disabled:hover {\n",
              "    background-color: var(--disabled-bg-color);\n",
              "    fill: var(--disabled-fill-color);\n",
              "    box-shadow: none;\n",
              "  }\n",
              "\n",
              "  .colab-df-spinner {\n",
              "    border: 2px solid var(--fill-color);\n",
              "    border-color: transparent;\n",
              "    border-bottom-color: var(--fill-color);\n",
              "    animation:\n",
              "      spin 1s steps(1) infinite;\n",
              "  }\n",
              "\n",
              "  @keyframes spin {\n",
              "    0% {\n",
              "      border-color: transparent;\n",
              "      border-bottom-color: var(--fill-color);\n",
              "      border-left-color: var(--fill-color);\n",
              "    }\n",
              "    20% {\n",
              "      border-color: transparent;\n",
              "      border-left-color: var(--fill-color);\n",
              "      border-top-color: var(--fill-color);\n",
              "    }\n",
              "    30% {\n",
              "      border-color: transparent;\n",
              "      border-left-color: var(--fill-color);\n",
              "      border-top-color: var(--fill-color);\n",
              "      border-right-color: var(--fill-color);\n",
              "    }\n",
              "    40% {\n",
              "      border-color: transparent;\n",
              "      border-right-color: var(--fill-color);\n",
              "      border-top-color: var(--fill-color);\n",
              "    }\n",
              "    60% {\n",
              "      border-color: transparent;\n",
              "      border-right-color: var(--fill-color);\n",
              "    }\n",
              "    80% {\n",
              "      border-color: transparent;\n",
              "      border-right-color: var(--fill-color);\n",
              "      border-bottom-color: var(--fill-color);\n",
              "    }\n",
              "    90% {\n",
              "      border-color: transparent;\n",
              "      border-bottom-color: var(--fill-color);\n",
              "    }\n",
              "  }\n",
              "</style>\n",
              "\n",
              "      <script>\n",
              "        async function quickchart(key) {\n",
              "          const quickchartButtonEl =\n",
              "            document.querySelector('#' + key + ' button');\n",
              "          quickchartButtonEl.disabled = true;  // To prevent multiple clicks.\n",
              "          quickchartButtonEl.classList.add('colab-df-spinner');\n",
              "          try {\n",
              "            const charts = await google.colab.kernel.invokeFunction(\n",
              "                'suggestCharts', [key], {});\n",
              "          } catch (error) {\n",
              "            console.error('Error during call to suggestCharts:', error);\n",
              "          }\n",
              "          quickchartButtonEl.classList.remove('colab-df-spinner');\n",
              "          quickchartButtonEl.classList.add('colab-df-quickchart-complete');\n",
              "        }\n",
              "        (() => {\n",
              "          let quickchartButtonEl =\n",
              "            document.querySelector('#df-780f995e-e56a-4954-a4a9-be26926eeb72 button');\n",
              "          quickchartButtonEl.style.display =\n",
              "            google.colab.kernel.accessAllowed ? 'block' : 'none';\n",
              "        })();\n",
              "      </script>\n",
              "    </div>\n",
              "\n",
              "  <div id=\"id_d836543e-353e-4377-a132-d319f221e159\">\n",
              "    <style>\n",
              "      .colab-df-generate {\n",
              "        background-color: #E8F0FE;\n",
              "        border: none;\n",
              "        border-radius: 50%;\n",
              "        cursor: pointer;\n",
              "        display: none;\n",
              "        fill: #1967D2;\n",
              "        height: 32px;\n",
              "        padding: 0 0 0 0;\n",
              "        width: 32px;\n",
              "      }\n",
              "\n",
              "      .colab-df-generate:hover {\n",
              "        background-color: #E2EBFA;\n",
              "        box-shadow: 0px 1px 2px rgba(60, 64, 67, 0.3), 0px 1px 3px 1px rgba(60, 64, 67, 0.15);\n",
              "        fill: #174EA6;\n",
              "      }\n",
              "\n",
              "      [theme=dark] .colab-df-generate {\n",
              "        background-color: #3B4455;\n",
              "        fill: #D2E3FC;\n",
              "      }\n",
              "\n",
              "      [theme=dark] .colab-df-generate:hover {\n",
              "        background-color: #434B5C;\n",
              "        box-shadow: 0px 1px 3px 1px rgba(0, 0, 0, 0.15);\n",
              "        filter: drop-shadow(0px 1px 2px rgba(0, 0, 0, 0.3));\n",
              "        fill: #FFFFFF;\n",
              "      }\n",
              "    </style>\n",
              "    <button class=\"colab-df-generate\" onclick=\"generateWithVariable('df')\"\n",
              "            title=\"Generate code using this dataframe.\"\n",
              "            style=\"display:none;\">\n",
              "\n",
              "  <svg xmlns=\"http://www.w3.org/2000/svg\" height=\"24px\"viewBox=\"0 0 24 24\"\n",
              "       width=\"24px\">\n",
              "    <path d=\"M7,19H8.4L18.45,9,17,7.55,7,17.6ZM5,21V16.75L18.45,3.32a2,2,0,0,1,2.83,0l1.4,1.43a1.91,1.91,0,0,1,.58,1.4,1.91,1.91,0,0,1-.58,1.4L9.25,21ZM18.45,9,17,7.55Zm-12,3A5.31,5.31,0,0,0,4.9,8.1,5.31,5.31,0,0,0,1,6.5,5.31,5.31,0,0,0,4.9,4.9,5.31,5.31,0,0,0,6.5,1,5.31,5.31,0,0,0,8.1,4.9,5.31,5.31,0,0,0,12,6.5,5.46,5.46,0,0,0,6.5,12Z\"/>\n",
              "  </svg>\n",
              "    </button>\n",
              "    <script>\n",
              "      (() => {\n",
              "      const buttonEl =\n",
              "        document.querySelector('#id_d836543e-353e-4377-a132-d319f221e159 button.colab-df-generate');\n",
              "      buttonEl.style.display =\n",
              "        google.colab.kernel.accessAllowed ? 'block' : 'none';\n",
              "\n",
              "      buttonEl.onclick = () => {\n",
              "        google.colab.notebook.generateWithVariable('df');\n",
              "      }\n",
              "      })();\n",
              "    </script>\n",
              "  </div>\n",
              "\n",
              "    </div>\n",
              "  </div>\n"
            ],
            "application/vnd.google.colaboratory.intrinsic+json": {
              "type": "dataframe",
              "variable_name": "df",
              "summary": "{\n  \"name\": \"df\",\n  \"rows\": 15,\n  \"fields\": [\n    {\n      \"column\": \"Edad\",\n      \"properties\": {\n        \"dtype\": \"number\",\n        \"std\": 10.452666729511746,\n        \"min\": 23.0,\n        \"max\": 62.0,\n        \"num_unique_values\": 14,\n        \"samples\": [\n          29.0,\n          36.0,\n          23.0\n        ],\n        \"semantic_type\": \"\",\n        \"description\": \"\"\n      }\n    },\n    {\n      \"column\": \"Salario\",\n      \"properties\": {\n        \"dtype\": \"number\",\n        \"std\": 12816,\n        \"min\": 50000,\n        \"max\": 90000,\n        \"num_unique_values\": 15,\n        \"samples\": [\n          53000,\n          79000,\n          50000\n        ],\n        \"semantic_type\": \"\",\n        \"description\": \"\"\n      }\n    },\n    {\n      \"column\": \"Genero\",\n      \"properties\": {\n        \"dtype\": \"category\",\n        \"num_unique_values\": 2,\n        \"samples\": [\n          \"M\",\n          \"F\"\n        ],\n        \"semantic_type\": \"\",\n        \"description\": \"\"\n      }\n    },\n    {\n      \"column\": \"Departamento\",\n      \"properties\": {\n        \"dtype\": \"category\",\n        \"num_unique_values\": 3,\n        \"samples\": [\n          \"Ventas\",\n          \"IT\"\n        ],\n        \"semantic_type\": \"\",\n        \"description\": \"\"\n      }\n    },\n    {\n      \"column\": \"Antiguedad\",\n      \"properties\": {\n        \"dtype\": \"number\",\n        \"std\": 5,\n        \"min\": 1,\n        \"max\": 20,\n        \"num_unique_values\": 12,\n        \"samples\": [\n          11,\n          4\n        ],\n        \"semantic_type\": \"\",\n        \"description\": \"\"\n      }\n    },\n    {\n      \"column\": \"zcore Edad\",\n      \"properties\": {\n        \"dtype\": \"number\",\n        \"std\": null,\n        \"min\": null,\n        \"max\": null,\n        \"num_unique_values\": 0,\n        \"samples\": [],\n        \"semantic_type\": \"\",\n        \"description\": \"\"\n      }\n    },\n    {\n      \"column\": \"zcore Salario\",\n      \"properties\": {\n        \"dtype\": \"number\",\n        \"std\": 1.0350983390135313,\n        \"min\": -1.3406875227177495,\n        \"max\": 1.889884821180442,\n        \"num_unique_values\": 15,\n        \"samples\": [],\n        \"semantic_type\": \"\",\n        \"description\": \"\"\n      }\n    }\n  ]\n}"
            }
          },
          "metadata": {},
          "execution_count": 22
        }
      ]
    },
    {
      "cell_type": "code",
      "execution_count": null,
      "id": "7b7e9a94",
      "metadata": {
        "id": "7b7e9a94"
      },
      "outputs": [],
      "source": [
        "print(df['Edad'].value_counts().sort_index())  # Ejercicio 17"
      ]
    },
    {
      "cell_type": "code",
      "execution_count": null,
      "id": "403616cc",
      "metadata": {
        "id": "403616cc"
      },
      "outputs": [],
      "source": [
        "df['Rango_Edad'] = pd.cut(df['Edad'], bins=[20, 30, 40, 50, 60, 70], labels=['20-30','30-40','40-50','50-60','60-70'])\n",
        "print(df[['Edad', 'Rango_Edad']])  # Ejercicio 18"
      ]
    },
    {
      "cell_type": "code",
      "execution_count": null,
      "id": "dddd8f53",
      "metadata": {
        "id": "dddd8f53"
      },
      "outputs": [],
      "source": [
        "print(pd.crosstab(df['Genero'], df['Departamento']))  # Ejercicio 19"
      ]
    },
    {
      "cell_type": "code",
      "execution_count": null,
      "id": "a8cf9903",
      "metadata": {
        "id": "a8cf9903"
      },
      "outputs": [],
      "source": [
        "print(df.pivot_table(values='Salario', index='Genero', columns='Departamento'))  # Ejercicio 20"
      ]
    },
    {
      "cell_type": "code",
      "execution_count": null,
      "id": "09779cb9",
      "metadata": {
        "id": "09779cb9"
      },
      "outputs": [],
      "source": [
        "sns.jointplot(x='Edad', y='Salario', data=df)  # Ejercicio 21"
      ]
    },
    {
      "cell_type": "code",
      "execution_count": null,
      "id": "4d14bb9d",
      "metadata": {
        "id": "4d14bb9d"
      },
      "outputs": [],
      "source": [
        "sns.violinplot(x='Genero', y='Salario', data=df); plt.title('Distribución de Salario por Género'); plt.show()  # Ejercicio 22"
      ]
    },
    {
      "cell_type": "code",
      "execution_count": null,
      "id": "af310678",
      "metadata": {
        "id": "af310678"
      },
      "outputs": [],
      "source": [
        "for dep in df['Departamento'].unique():\n",
        "    sns.histplot(df[df['Departamento'] == dep]['Salario'], label=dep, kde=True)\n",
        "plt.legend(); plt.title('Salario por Departamento'); plt.show()  # Ejercicio 23"
      ]
    },
    {
      "cell_type": "code",
      "execution_count": null,
      "id": "ae855f25",
      "metadata": {
        "id": "ae855f25"
      },
      "outputs": [],
      "source": [
        "print(df.groupby(['Genero', 'Departamento']).size())  # Ejercicio 24"
      ]
    },
    {
      "cell_type": "code",
      "execution_count": null,
      "id": "93eae867",
      "metadata": {
        "id": "93eae867"
      },
      "outputs": [],
      "source": [
        "sns.boxplot(x='Departamento', y='Salario', data=df); plt.title('Boxplot de Salario por Departamento'); plt.show()  # Ejercicio 25"
      ]
    },
    {
      "cell_type": "code",
      "execution_count": null,
      "id": "6393acdd",
      "metadata": {
        "id": "6393acdd"
      },
      "outputs": [],
      "source": [
        "print(df.groupby('Genero')['Edad'].mean())  # Ejercicio 26"
      ]
    },
    {
      "cell_type": "code",
      "execution_count": null,
      "id": "fe4442e5",
      "metadata": {
        "id": "fe4442e5"
      },
      "outputs": [],
      "source": [
        "print(df.groupby('Rango_Edad')['Salario'].sum())  # Ejercicio 27"
      ]
    },
    {
      "cell_type": "code",
      "execution_count": null,
      "id": "34fa268c",
      "metadata": {
        "id": "34fa268c"
      },
      "outputs": [],
      "source": [
        "def rango_salario(sal):\n",
        "    if sal < 60000:\n",
        "        return 'Bajo'\n",
        "    elif sal <= 75000:\n",
        "        return 'Medio'\n",
        "    else:\n",
        "        return 'Alto'\n",
        "df['Categoria_Salario'] = df['Salario'].apply(rango_salario)\n",
        "print(df[['Salario', 'Categoria_Salario']])  # Ejercicio 28"
      ]
    },
    {
      "cell_type": "code",
      "execution_count": null,
      "id": "30fec161",
      "metadata": {
        "id": "30fec161"
      },
      "outputs": [],
      "source": [
        "tabla = pd.crosstab(df['Categoria_Salario'], df['Genero'])\n",
        "sns.heatmap(tabla, annot=True, cmap='YlGnBu'); plt.title('Categoría de Salario vs Género'); plt.show()  # Ejercicio 29"
      ]
    },
    {
      "cell_type": "code",
      "execution_count": null,
      "id": "1171486d",
      "metadata": {
        "id": "1171486d"
      },
      "outputs": [],
      "source": [
        "df_clean = df.dropna()\n",
        "df_clean.to_csv('datos_limpios.csv', index=False)\n",
        "print(\"Archivo exportado con éxito.\")  # Ejercicio 30"
      ]
    }
  ],
  "metadata": {
    "colab": {
      "provenance": [],
      "include_colab_link": true
    },
    "language_info": {
      "name": "python"
    },
    "kernelspec": {
      "name": "python3",
      "display_name": "Python 3"
    }
  },
  "nbformat": 4,
  "nbformat_minor": 5
}