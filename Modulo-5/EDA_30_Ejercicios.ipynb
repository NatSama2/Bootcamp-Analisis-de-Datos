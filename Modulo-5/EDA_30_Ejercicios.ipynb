{
  "cells": [
    {
      "cell_type": "markdown",
      "metadata": {
        "id": "view-in-github",
        "colab_type": "text"
      },
      "source": [
        "<a href=\"https://colab.research.google.com/github/NatSama2/Bootcamp-Analisis-de-Datos/blob/main/Modulo-5/EDA_30_Ejercicios.ipynb\" target=\"_parent\"><img src=\"https://colab.research.google.com/assets/colab-badge.svg\" alt=\"Open In Colab\"/></a>"
      ]
    },
    {
      "cell_type": "code",
      "execution_count": 1,
      "id": "5432d016",
      "metadata": {
        "id": "5432d016"
      },
      "outputs": [],
      "source": [
        "# EDA: Análisis Exploratorio de Datos - 30 Ejercicios Resueltos\n",
        "\n",
        "import pandas as pd\n",
        "import numpy as np\n",
        "import seaborn as sns\n",
        "import matplotlib.pyplot as plt\n",
        "\n",
        "# Dataset de ejemplo\n",
        "data = {\n",
        "    'Edad': [23, 45, 31, 35, 62, 28, 41, 37, 50, 29, np.nan, 44, 36, 33, 27],\n",
        "    'Salario': [50000, 80000, 62000, 58000, 90000, 52000, 75000, 67000, 87000, 53000, 60000, 79000, 66000, 64000, 56000],\n",
        "    'Genero': ['F', 'M', 'F', 'M', 'F', 'M', 'M', 'F', 'M', 'F', 'F', 'M', 'F', 'M', 'F'],\n",
        "    'Departamento': ['Ventas', 'IT', 'Ventas', 'RRHH', 'IT', 'Ventas', 'IT', 'RRHH', 'IT', 'Ventas', 'RRHH', 'IT', 'RRHH', 'Ventas', 'IT'],\n",
        "    'Antiguedad': [1, 10, 3, 5, 20, 2, 8, 7, 18, 2, 4, 11, 6, 3, 5]\n",
        "}\n",
        "df = pd.DataFrame(data)\n"
      ]
    },
    {
      "cell_type": "code",
      "execution_count": 2,
      "id": "1c6a5f6d",
      "metadata": {
        "id": "1c6a5f6d",
        "outputId": "d7b1ae92-0e79-4c6a-d65c-c7958da54e76",
        "colab": {
          "base_uri": "https://localhost:8080/"
        }
      },
      "outputs": [
        {
          "output_type": "stream",
          "name": "stdout",
          "text": [
            "   Edad  Salario Genero Departamento  Antiguedad\n",
            "0  23.0    50000      F       Ventas           1\n",
            "1  45.0    80000      M           IT          10\n",
            "2  31.0    62000      F       Ventas           3\n",
            "3  35.0    58000      M         RRHH           5\n",
            "4  62.0    90000      F           IT          20\n"
          ]
        }
      ],
      "source": [
        "print(df.head())  # Ejercicio 1: Vista general"
      ]
    },
    {
      "cell_type": "code",
      "execution_count": 3,
      "id": "09fc1592",
      "metadata": {
        "id": "09fc1592",
        "outputId": "6254e3ce-8a2a-4ab1-9592-ee77c4089940",
        "colab": {
          "base_uri": "https://localhost:8080/"
        }
      },
      "outputs": [
        {
          "output_type": "stream",
          "name": "stdout",
          "text": [
            "Edad            float64\n",
            "Salario           int64\n",
            "Genero           object\n",
            "Departamento     object\n",
            "Antiguedad        int64\n",
            "dtype: object\n"
          ]
        }
      ],
      "source": [
        "print(df.dtypes)  # Ejercicio 2: Tipos de datos"
      ]
    },
    {
      "cell_type": "code",
      "execution_count": 4,
      "id": "41333530",
      "metadata": {
        "id": "41333530",
        "outputId": "e0d4bc4f-57b2-4ac3-89e5-2507e0736252",
        "colab": {
          "base_uri": "https://localhost:8080/"
        }
      },
      "outputs": [
        {
          "output_type": "stream",
          "name": "stdout",
          "text": [
            "            Edad       Salario  Antiguedad\n",
            "count  14.000000     15.000000   15.000000\n",
            "mean   37.214286  66600.000000    7.000000\n",
            "std    10.452667  12816.284284    5.682052\n",
            "min    23.000000  50000.000000    1.000000\n",
            "25%    29.500000  57000.000000    3.000000\n",
            "50%    35.500000  64000.000000    5.000000\n",
            "75%    43.250000  77000.000000    9.000000\n",
            "max    62.000000  90000.000000   20.000000\n"
          ]
        }
      ],
      "source": [
        "print(df.describe())  # Ejercicio 3: Estadísticas básicas"
      ]
    },
    {
      "cell_type": "code",
      "execution_count": 5,
      "id": "00e52005",
      "metadata": {
        "id": "00e52005",
        "outputId": "fee04031-924f-4d92-8a6a-7ca368db67d1",
        "colab": {
          "base_uri": "https://localhost:8080/"
        }
      },
      "outputs": [
        {
          "output_type": "stream",
          "name": "stdout",
          "text": [
            "Edad            1\n",
            "Salario         0\n",
            "Genero          0\n",
            "Departamento    0\n",
            "Antiguedad      0\n",
            "dtype: int64\n"
          ]
        }
      ],
      "source": [
        "print(df.isnull().sum())  # Ejercicio 4: Detección de valores nulos"
      ]
    },
    {
      "cell_type": "code",
      "execution_count": 6,
      "id": "d572ba01",
      "metadata": {
        "id": "d572ba01",
        "outputId": "ae0c0435-49c1-4e62-cd44-fa343d621495",
        "colab": {
          "base_uri": "https://localhost:8080/"
        }
      },
      "outputs": [
        {
          "output_type": "stream",
          "name": "stdout",
          "text": [
            "    Edad  Salario Genero Departamento  Antiguedad\n",
            "0   23.0    50000      F       Ventas           1\n",
            "1   45.0    80000      M           IT          10\n",
            "2   31.0    62000      F       Ventas           3\n",
            "3   35.0    58000      M         RRHH           5\n",
            "4   62.0    90000      F           IT          20\n",
            "5   28.0    52000      M       Ventas           2\n",
            "6   41.0    75000      M           IT           8\n",
            "7   37.0    67000      F         RRHH           7\n",
            "8   50.0    87000      M           IT          18\n",
            "9   29.0    53000      F       Ventas           2\n",
            "11  44.0    79000      M           IT          11\n",
            "12  36.0    66000      F         RRHH           6\n",
            "13  33.0    64000      M       Ventas           3\n",
            "14  27.0    56000      F           IT           5\n"
          ]
        }
      ],
      "source": [
        "print(df.dropna())  # Ejercicio 5: Eliminación de filas con nulos"
      ]
    },
    {
      "cell_type": "code",
      "execution_count": 7,
      "id": "420a35da",
      "metadata": {
        "id": "420a35da",
        "outputId": "70446140-5cc2-4ba7-b67d-9937c95019f4",
        "colab": {
          "base_uri": "https://localhost:8080/"
        }
      },
      "outputs": [
        {
          "output_type": "stream",
          "name": "stdout",
          "text": [
            "         Edad  Salario Genero Departamento  Antiguedad\n",
            "0   23.000000    50000      F       Ventas           1\n",
            "1   45.000000    80000      M           IT          10\n",
            "2   31.000000    62000      F       Ventas           3\n",
            "3   35.000000    58000      M         RRHH           5\n",
            "4   62.000000    90000      F           IT          20\n",
            "5   28.000000    52000      M       Ventas           2\n",
            "6   41.000000    75000      M           IT           8\n",
            "7   37.000000    67000      F         RRHH           7\n",
            "8   50.000000    87000      M           IT          18\n",
            "9   29.000000    53000      F       Ventas           2\n",
            "10  37.214286    60000      F         RRHH           4\n",
            "11  44.000000    79000      M           IT          11\n",
            "12  36.000000    66000      F         RRHH           6\n",
            "13  33.000000    64000      M       Ventas           3\n",
            "14  27.000000    56000      F           IT           5\n"
          ]
        }
      ],
      "source": [
        "print(df.fillna(df['Edad'].mean()))  # Ejercicio 6: Rellenar nulos"
      ]
    },
    {
      "cell_type": "code",
      "execution_count": 8,
      "id": "4d9fb7d0",
      "metadata": {
        "id": "4d9fb7d0",
        "outputId": "42141634-7807-4b64-aad5-c3d0f6f20381",
        "colab": {
          "base_uri": "https://localhost:8080/",
          "height": 472
        }
      },
      "outputs": [
        {
          "output_type": "display_data",
          "data": {
            "text/plain": [
              "<Figure size 640x480 with 1 Axes>"
            ],
            "image/png": "[encoded data removed]"
          },
          "metadata": {}
        }
      ],
      "source": [
        "sns.histplot(df['Edad'], bins=10, kde=True); plt.title('Distribución de Edad'); plt.show()  # Ejercicio 7"
      ]
    },
    {
      "cell_type": "code",
      "execution_count": 9,
      "id": "cd2d9673",
      "metadata": {
        "id": "cd2d9673",
        "outputId": "ef35edfe-2e45-40f5-e005-498efd854e92",
        "colab": {
          "base_uri": "https://localhost:8080/",
          "height": 472
        }
      },
      "outputs": [
        {
          "output_type": "display_data",
          "data": {
            "text/plain": [
              "<Figure size 640x480 with 1 Axes>"
            ],
            "image/png": "[encoded data removed]"
          },
          "metadata": {}
        }
      ],
      "source": [
        "sns.boxplot(x=df['Salario']); plt.title('Boxplot de Salario'); plt.show()  # Ejercicio 8"
      ]
    },
    {
      "cell_type": "code",
      "source": [
        "plt.figure(figsize=(10, 6))\n",
        "sns.boxplot(data = df,x='Genero',y='Edad',hue='Genero')\n",
        "plt.yscale('log')\n",
        "plt.title('Boxplot de Edad por Género')\n",
        "plt.xlabel('Género')\n",
        "plt.ylabel('Edad')\n",
        "plt.show()"
      ],
      "metadata": {
        "id": "sNlWPsg0jhQh",
        "outputId": "48e32ccb-0a48-4474-d4ec-718c0c734556",
        "colab": {
          "base_uri": "https://localhost:8080/",
          "height": 565
        }
      },
      "id": "sNlWPsg0jhQh",
      "execution_count": 10,
      "outputs": [
        {
          "output_type": "display_data",
          "data": {
            "text/plain": [
              "<Figure size 1000x600 with 1 Axes>"
            ],
            "image/png": "[encoded data removed]"
          },
          "metadata": {}
        }
      ]
    },
    {
      "cell_type": "code",
      "execution_count": null,
      "id": "2e72dc40",
      "metadata": {
        "id": "2e72dc40"
      },
      "outputs": [],
      "source": [
        "print(df['Genero'].value_counts())  # Ejercicio 9"
      ]
    },
    {
      "cell_type": "code",
      "execution_count": null,
      "id": "3283ef3b",
      "metadata": {
        "id": "3283ef3b"
      },
      "outputs": [],
      "source": [
        "sns.countplot(x='Genero', data=df); plt.title('Frecuencia por Género'); plt.show()  # Ejercicio 10"
      ]
    },
    {
      "cell_type": "code",
      "execution_count": null,
      "id": "ddc41762",
      "metadata": {
        "id": "ddc41762"
      },
      "outputs": [],
      "source": [
        "print(df.groupby('Departamento')['Salario'].mean())  # Ejercicio 11"
      ]
    },
    {
      "cell_type": "code",
      "execution_count": null,
      "id": "acfe71f5",
      "metadata": {
        "id": "acfe71f5"
      },
      "outputs": [],
      "source": [
        "sns.barplot(x='Departamento', y='Salario', data=df, estimator=np.mean); plt.title('Salario promedio por Departamento'); plt.show()  # Ejercicio 12"
      ]
    },
    {
      "cell_type": "code",
      "execution_count": null,
      "id": "d2096a9d",
      "metadata": {
        "id": "d2096a9d"
      },
      "outputs": [],
      "source": [
        "print(df.corr(numeric_only=True))  # Ejercicio 13"
      ]
    },
    {
      "cell_type": "code",
      "execution_count": null,
      "id": "0b4062b5",
      "metadata": {
        "id": "0b4062b5"
      },
      "outputs": [],
      "source": [
        "sns.heatmap(df.corr(numeric_only=True), annot=True, cmap='coolwarm'); plt.title('Matriz de Correlación'); plt.show()  # Ejercicio 14"
      ]
    },
    {
      "cell_type": "code",
      "execution_count": null,
      "id": "f2956ad0",
      "metadata": {
        "id": "f2956ad0"
      },
      "outputs": [],
      "source": [
        "sns.scatterplot(x='Edad', y='Salario', data=df); plt.title('Edad vs Salario'); plt.show()  # Ejercicio 15"
      ]
    },
    {
      "cell_type": "code",
      "execution_count": null,
      "id": "4826c777",
      "metadata": {
        "id": "4826c777"
      },
      "outputs": [],
      "source": [
        "from scipy.stats import zscore\n",
        "z_scores = zscore(df[['Edad', 'Salario']].dropna())\n",
        "outliers = (np.abs(z_scores) > 2)\n",
        "print(outliers)  # Ejercicio 16"
      ]
    },
    {
      "cell_type": "code",
      "execution_count": null,
      "id": "7b7e9a94",
      "metadata": {
        "id": "7b7e9a94"
      },
      "outputs": [],
      "source": [
        "print(df['Edad'].value_counts().sort_index())  # Ejercicio 17"
      ]
    },
    {
      "cell_type": "code",
      "execution_count": null,
      "id": "403616cc",
      "metadata": {
        "id": "403616cc"
      },
      "outputs": [],
      "source": [
        "df['Rango_Edad'] = pd.cut(df['Edad'], bins=[20, 30, 40, 50, 60, 70], labels=['20-30','30-40','40-50','50-60','60-70'])\n",
        "print(df[['Edad', 'Rango_Edad']])  # Ejercicio 18"
      ]
    },
    {
      "cell_type": "code",
      "execution_count": null,
      "id": "dddd8f53",
      "metadata": {
        "id": "dddd8f53"
      },
      "outputs": [],
      "source": [
        "print(pd.crosstab(df['Genero'], df['Departamento']))  # Ejercicio 19"
      ]
    },
    {
      "cell_type": "code",
      "execution_count": null,
      "id": "a8cf9903",
      "metadata": {
        "id": "a8cf9903"
      },
      "outputs": [],
      "source": [
        "print(df.pivot_table(values='Salario', index='Genero', columns='Departamento'))  # Ejercicio 20"
      ]
    },
    {
      "cell_type": "code",
      "execution_count": null,
      "id": "09779cb9",
      "metadata": {
        "id": "09779cb9"
      },
      "outputs": [],
      "source": [
        "sns.jointplot(x='Edad', y='Salario', data=df)  # Ejercicio 21"
      ]
    },
    {
      "cell_type": "code",
      "execution_count": null,
      "id": "4d14bb9d",
      "metadata": {
        "id": "4d14bb9d"
      },
      "outputs": [],
      "source": [
        "sns.violinplot(x='Genero', y='Salario', data=df); plt.title('Distribución de Salario por Género'); plt.show()  # Ejercicio 22"
      ]
    },
    {
      "cell_type": "code",
      "execution_count": null,
      "id": "af310678",
      "metadata": {
        "id": "af310678"
      },
      "outputs": [],
      "source": [
        "for dep in df['Departamento'].unique():\n",
        "    sns.histplot(df[df['Departamento'] == dep]['Salario'], label=dep, kde=True)\n",
        "plt.legend(); plt.title('Salario por Departamento'); plt.show()  # Ejercicio 23"
      ]
    },
    {
      "cell_type": "code",
      "execution_count": null,
      "id": "ae855f25",
      "metadata": {
        "id": "ae855f25"
      },
      "outputs": [],
      "source": [
        "print(df.groupby(['Genero', 'Departamento']).size())  # Ejercicio 24"
      ]
    },
    {
      "cell_type": "code",
      "execution_count": null,
      "id": "93eae867",
      "metadata": {
        "id": "93eae867"
      },
      "outputs": [],
      "source": [
        "sns.boxplot(x='Departamento', y='Salario', data=df); plt.title('Boxplot de Salario por Departamento'); plt.show()  # Ejercicio 25"
      ]
    },
    {
      "cell_type": "code",
      "execution_count": null,
      "id": "6393acdd",
      "metadata": {
        "id": "6393acdd"
      },
      "outputs": [],
      "source": [
        "print(df.groupby('Genero')['Edad'].mean())  # Ejercicio 26"
      ]
    },
    {
      "cell_type": "code",
      "execution_count": null,
      "id": "fe4442e5",
      "metadata": {
        "id": "fe4442e5"
      },
      "outputs": [],
      "source": [
        "print(df.groupby('Rango_Edad')['Salario'].sum())  # Ejercicio 27"
      ]
    },
    {
      "cell_type": "code",
      "execution_count": null,
      "id": "34fa268c",
      "metadata": {
        "id": "34fa268c"
      },
      "outputs": [],
      "source": [
        "def rango_salario(sal):\n",
        "    if sal < 60000:\n",
        "        return 'Bajo'\n",
        "    elif sal <= 75000:\n",
        "        return 'Medio'\n",
        "    else:\n",
        "        return 'Alto'\n",
        "df['Categoria_Salario'] = df['Salario'].apply(rango_salario)\n",
        "print(df[['Salario', 'Categoria_Salario']])  # Ejercicio 28"
      ]
    },
    {
      "cell_type": "code",
      "execution_count": null,
      "id": "30fec161",
      "metadata": {
        "id": "30fec161"
      },
      "outputs": [],
      "source": [
        "tabla = pd.crosstab(df['Categoria_Salario'], df['Genero'])\n",
        "sns.heatmap(tabla, annot=True, cmap='YlGnBu'); plt.title('Categoría de Salario vs Género'); plt.show()  # Ejercicio 29"
      ]
    },
    {
      "cell_type": "code",
      "execution_count": null,
      "id": "1171486d",
      "metadata": {
        "id": "1171486d"
      },
      "outputs": [],
      "source": [
        "df_clean = df.dropna()\n",
        "df_clean.to_csv('datos_limpios.csv', index=False)\n",
        "print(\"Archivo exportado con éxito.\")  # Ejercicio 30"
      ]
    }
  ],
  "metadata": {
    "colab": {
      "provenance": [],
      "include_colab_link": true
    },
    "language_info": {
      "name": "python"
    },
    "kernelspec": {
      "name": "python3",
      "display_name": "Python 3"
    }
  },
  "nbformat": 4,
  "nbformat_minor": 5
}