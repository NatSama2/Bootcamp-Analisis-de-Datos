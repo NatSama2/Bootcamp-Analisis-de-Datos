{
  "nbformat": 4,
  "nbformat_minor": 0,
  "metadata": {
    "colab": {
      "provenance": [],
      "include_colab_link": true
    },
    "kernelspec": {
      "name": "python3",
      "display_name": "Python 3"
    },
    "language_info": {
      "name": "python"
    }
  },
  "cells": [
    {
      "cell_type": "markdown",
      "metadata": {
        "id": "view-in-github",
        "colab_type": "text"
      },
      "source": [
        "<a href=\"https://colab.research.google.com/github/NatSama2/Bootcamp-Analisis-de-Datos/blob/main/Modulo-5/Widget_Matplotlib.ipynb\" target=\"_parent\"><img src=\"https://colab.research.google.com/assets/colab-badge.svg\" alt=\"Open In Colab\"/></a>"
      ]
    },
    {
      "cell_type": "markdown",
      "source": [
        "# __Visualización__\n",
        "# AE04.2. Interactividad básica con Widgets - SOLUCION\n",
        "\n",
        "En este notebook revisaremos aspectos básicos de interactividad con `matplotlib`.\n",
        "\n",
        "Antes de empezar, tendremos que instalar `ipywidget`. Podemos utilizar el comando\n",
        "\n",
        "> pip install ipywidgets\n",
        "\n",
        "para hacer esto. Después de que esto se haya instalado correctamente, debemos habilitar la extensión dentro de Jupyter Notebook (en el caso de Colab, viene pre-instalado y listo para funcionar). Para ello, utilice el comando\n",
        "\n",
        ">jupyter nb extension enable - -py widgetsnbextension\n",
        "\n",
        "el cual permitirá que los widgets interactúen con Jupyter Notebook.\n",
        "\n",
        "Comience como de costumbre importando y configurando el entorno de `Matplotlib`, incluido el módulo `ipywidget`, el método `interact`."
      ],
      "metadata": {
        "id": "gIUR8q_P8auO"
      }
    },
    {
      "cell_type": "code",
      "execution_count": null,
      "metadata": {
        "id": "H_6IxV0vy2zo"
      },
      "outputs": [],
      "source": [
        "import numpy as np\n",
        "import matplotlib as mpl\n",
        "import matplotlib.pyplot as plt\n",
        "\n",
        "from ipywidgets import interact\n",
        "import ipywidgets as widgets"
      ]
    },
    {
      "cell_type": "markdown",
      "source": [
        "Nos creamos una función de ploteo para probar la interactividad."
      ],
      "metadata": {
        "id": "ol7X9Z5bAbfW"
      }
    },
    {
      "cell_type": "code",
      "source": [
        "# Nos creamos una función de ploteo\n",
        "def f(x):\n",
        "    plt.plot(np.arange(-10,10), x*np.arange(-10,10))\n",
        "    plt.ylim(-30,30)\n",
        "\n",
        "f(10)"
      ],
      "metadata": {
        "id": "zwtdyWwmy33D"
      },
      "execution_count": null,
      "outputs": []
    },
    {
      "cell_type": "markdown",
      "source": [
        "Al usar el método `interact` y establecer `x=1` de forma predeterminada, obtenemos los siguientes puntos:"
      ],
      "metadata": {
        "id": "By1CmjbiAydg"
      }
    },
    {
      "cell_type": "code",
      "source": [
        "# Nos creamos una función de ploteo\n",
        "def f(x):\n",
        "    plt.plot(np.arange(-10,10), x*np.arange(-10,10))\n",
        "    plt.ylim(-30,30)\n",
        "\n",
        "interact(f, x=1)"
      ],
      "metadata": {
        "id": "9FvgPMzCzAzJ"
      },
      "execution_count": null,
      "outputs": []
    },
    {
      "cell_type": "markdown",
      "source": [
        "Controlamos el rango y el tamaño del paso de `x`."
      ],
      "metadata": {
        "id": "qYaN0Mk8Bzjb"
      }
    },
    {
      "cell_type": "code",
      "source": [
        "# Controlemos el rango de x\n",
        "def f(x):\n",
        "    plt.plot(np.arange(-10,10), x*np.arange(-10,10))\n",
        "    plt.ylim(-30,30)\n",
        "\n",
        "interact(f, x=(-2,4,0.5))\n",
        "plt.show() # Mejoramos la visualización"
      ],
      "metadata": {
        "id": "3GsRPTk_C-ei"
      },
      "execution_count": null,
      "outputs": []
    },
    {
      "cell_type": "code",
      "source": [
        "# Probemos otra función\n",
        "d = np.arange(0, 5, 0.5)\n",
        "def curve(x):\n",
        "    plt.plot(d, d**x, color='r')\n",
        "    plt.xlim(0,6)\n",
        "    plt.ylim(-1, 20)\n",
        "\n",
        "interact(curve, x=(0,5,0.5))\n",
        "plt.show()"
      ],
      "metadata": {
        "id": "scErKUskzIky"
      },
      "execution_count": null,
      "outputs": []
    },
    {
      "cell_type": "markdown",
      "source": [
        "También podemos elegir múltiples widgets con el método de interacción. Entonces, si tenemos una función que tiene varios valores, como a = 1, b = 3, automáticamente obtenemos un par de widgets:"
      ],
      "metadata": {
        "id": "lmN4LKjOEsRZ"
      }
    },
    {
      "cell_type": "code",
      "source": [
        "# Multiples widgets\n",
        "def f(a,b):\n",
        "    plt.plot(np.arange(0, 10, 0.2), a*np.power(np.arange(0, 10, 0.2), b))\n",
        "    plt.title(\"Power Law: $x=ay^b$\")\n",
        "    plt.ylim(0, 100)\n",
        "\n",
        "interact(f, a=1, b=3)\n",
        "plt.show()"
      ],
      "metadata": {
        "id": "c7HMQvYazoep"
      },
      "execution_count": null,
      "outputs": []
    },
    {
      "cell_type": "code",
      "source": [
        "# Multiples widgets\n",
        "def f(a,b):\n",
        "    plt.plot(np.arange(0, 10, 0.2), a*np.power(np.arange(0, 10, 0.2), b))\n",
        "    plt.title(f\"Power Law: $x={a}y^{b}$\") # Con f-strings\n",
        "    plt.ylim(0, 100)\n",
        "interact(f, a=1, b=3)\n",
        "plt.show()"
      ],
      "metadata": {
        "id": "2_u0s_e704o0"
      },
      "execution_count": null,
      "outputs": []
    },
    {
      "cell_type": "code",
      "source": [
        "# Añadimos un menu dropdown\n",
        "colores=['red', 'green', 'blue']\n",
        "\n",
        "def f(a,b, color):\n",
        "    plt.plot(np.arange(0, 10, 0.2), a*np.power(np.arange(0, 10, 0.2), b),\n",
        "             color=color)\n",
        "    plt.title(f\"Power Law: $x={a}y^{b}$\") # Con f-strings\n",
        "    plt.ylim(0, 100)\n",
        "\n",
        "interact(f, a=1, b=3, color=colores)\n",
        "plt.show()"
      ],
      "metadata": {
        "id": "LQN_0hwp2-kM"
      },
      "execution_count": null,
      "outputs": []
    },
    {
      "cell_type": "code",
      "source": [
        "# Las potencias las podemos hacer discretas con un diccionario\n",
        "potencias = {'uno': 1, 'dos': 2, 'tres': 3, 'cuatro': 4}\n",
        "\n",
        "colores=['red', 'green', 'blue']\n",
        "def f(a,b, color):\n",
        "    plt.plot(np.arange(0, 10, 0.2), a*np.power(np.arange(0, 10, 0.2), b),\n",
        "             color=color)\n",
        "    plt.title(f\"Power Law: $x={a}y^{b}$\") # Con f-strings\n",
        "    plt.ylim(0, 100)\n",
        "\n",
        "interact(f, a=1, b=potencias, color=colores)\n",
        "plt.show()"
      ],
      "metadata": {
        "id": "wKotBGWS4lhU"
      },
      "execution_count": null,
      "outputs": []
    },
    {
      "cell_type": "code",
      "source": [
        "# Ya que estamos, traduzcamos los colores\n",
        "colores = {'Rojo': 'r', 'Verde':'g', 'Azul':'b'}\n",
        "potencias = {'uno': 1, 'dos': 2, 'tres': 3, 'cuatro': 4}\n",
        "\n",
        "def f(a,b, color):\n",
        "    plt.plot(np.arange(0, 10, 0.2), a*np.power(np.arange(0, 10, 0.2), b),\n",
        "             color=color)\n",
        "    plt.title(f\"Power Law: $x={a}y^{b}$\") # Con f-strings\n",
        "    plt.ylim(0, 100)\n",
        "\n",
        "interact(f, a=1, b=potencias, color=colores)\n",
        "plt.show()"
      ],
      "metadata": {
        "id": "oj4bA2R45bCH"
      },
      "execution_count": null,
      "outputs": []
    },
    {
      "cell_type": "code",
      "source": [
        "# Y modifiquemos el tamaño del canvas (figure)\n",
        "colores = {'Rojo': 'r', 'Verde': 'g', 'Azul': 'b'}\n",
        "potencias = {'uno': 1, 'dos': 2, 'tres': 3, 'cuatro': 4}\n",
        "size = {'Pequeño': (4,3), 'Mediano': (6,4), 'Grande': (10,6)}\n",
        "\n",
        "def f(a,b, color,size=(4,3)):\n",
        "    plt.figure(figsize=size)\n",
        "    plt.plot(np.arange(0, 10, 0.2), a*np.power(np.arange(0, 10, 0.2), b),\n",
        "             color=color)\n",
        "    plt.title(f\"Power Law: $x={a}y^{b}$\") # Con f-strings\n",
        "    plt.ylim(0, 100)\n",
        "\n",
        "interact(f, a=1, b=potencias, color=colores, size=size)\n",
        "plt.show()"
      ],
      "metadata": {
        "id": "XYghckxsAKzF"
      },
      "execution_count": null,
      "outputs": []
    }
  ]
}