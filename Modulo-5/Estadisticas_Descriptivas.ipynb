{
  "nbformat": 4,
  "nbformat_minor": 0,
  "metadata": {
    "colab": {
      "provenance": [],
      "include_colab_link": true
    },
    "kernelspec": {
      "name": "python3",
      "display_name": "Python 3"
    },
    "language_info": {
      "name": "python"
    }
  },
  "cells": [
    {
      "cell_type": "markdown",
      "metadata": {
        "id": "view-in-github",
        "colab_type": "text"
      },
      "source": [
        "<a href=\"https://colab.research.google.com/github/NatSama2/Bootcamp-Analisis-de-Datos/blob/main/Modulo-5/Estadisticas_Descriptivas.ipynb\" target=\"_parent\"><img src=\"https://colab.research.google.com/assets/colab-badge.svg\" alt=\"Open In Colab\"/></a>"
      ]
    },
    {
      "cell_type": "code",
      "execution_count": null,
      "metadata": {
        "id": "H0jDlp0Xkfpk"
      },
      "outputs": [],
      "source": [
        "1. Media de ventas diarias\n",
        "python\n",
        "import seaborn as sns\n",
        "import pandas as pd\n",
        "\n",
        "ventas = pd.DataFrame({'día': range(1, 31),\n",
        "                       'monto': [120, 150, 80, 200, 250, 180, 90, 300, 170, 210,\n",
        "                                 130, 160, 190, 220, 240, 100, 270, 140, 230, 260,\n",
        "                                 110, 280, 150, 200, 190, 170, 220, 240, 160, 180]})\n",
        "\n",
        "media = ventas['monto'].mean()\n",
        "print(f\"Media de ventas: ${media:.2f}\")\n",
        "\n",
        "# Visualización\n",
        "sns.histplot(data=ventas, x='monto', kde=True)\n",
        "plt.axvline(media, color='r', linestyle='--', label=f'Media: ${media:.2f}')\n",
        "plt.legend()\n",
        "plt.show()"
      ]
    },
    {
      "cell_type": "markdown",
      "source": [],
      "metadata": {
        "id": "0WLDE4kRkj-x"
      }
    },
    {
      "cell_type": "code",
      "source": [
        "\n",
        "2. Mediana de edades en Titanic\n",
        "python\n",
        "titanic = sns.load_dataset('titanic')\n",
        "mediana_edad = titanic['age'].median()\n",
        "\n",
        "print(f\"Mediana de edades: {mediana_edad:.1f} años\")\n",
        "\n",
        "# Visualización\n",
        "sns.boxplot(data=titanic, x='age')\n",
        "plt.axvline(mediana_edad, color='g', linestyle='--', label=f'Mediana: {mediana_edad:.1f}')\n",
        "plt.legend()\n",
        "plt.show()"
      ],
      "metadata": {
        "id": "ZqoV_SRkkgUK"
      },
      "execution_count": null,
      "outputs": []
    },
    {
      "cell_type": "code",
      "source": [
        "\n",
        "3. Moda de especies de pinguinos\n",
        "python\n",
        "penguins = sns.load_dataset('penguins')\n",
        "moda_especie = penguins['species'].mode()[0]\n",
        "\n",
        "print(f\"Moda de especies: {moda_especie}\")\n",
        "\n",
        "# Visualización\n",
        "sns.countplot(data=penguins, x='species')\n",
        "plt.title(f'Especie más común: {moda_especie}')\n",
        "plt.show()"
      ],
      "metadata": {
        "id": "ByKzeaZjkgXS"
      },
      "execution_count": null,
      "outputs": []
    },
    {
      "cell_type": "code",
      "source": [
        "\n",
        "4. Media ponderada de calificaciones\n",
        "python\n",
        "notas = pd.DataFrame({\n",
        "    'calificación': [80, 90, 70, 85],\n",
        "    'peso': [0.2, 0.3, 0.2, 0.3]\n",
        "})\n",
        "\n",
        "media_ponderada = (notas['calificación'] * notas['peso']).sum()\n",
        "print(f\"Media ponderada: {media_ponderada:.2f}\")"
      ],
      "metadata": {
        "id": "IewA0GUzkgdh"
      },
      "execution_count": null,
      "outputs": []
    },
    {
      "cell_type": "code",
      "source": [
        "\n",
        "5. Mediana de precios de diamantes\n",
        "python\n",
        "diamonds = sns.load_dataset('diamonds')\n",
        "mediana_precio = diamonds['price'].median()\n",
        "\n",
        "print(f\"Mediana de precios: ${mediana_precio}\")\n",
        "\n",
        "# Visualización\n",
        "sns.histplot(data=diamonds, x='price', bins=50)\n",
        "plt.axvline(mediana_precio, color='r', linestyle='--', label=f'Mediana: ${mediana_precio}')\n",
        "plt.xlim(0, 10000)\n",
        "plt.legend()\n",
        "plt.show()"
      ],
      "metadata": {
        "id": "9kHseu5EkggM"
      },
      "execution_count": null,
      "outputs": []
    },
    {
      "cell_type": "code",
      "source": [
        "\n",
        "6. Media recortada de salarios\n",
        "python\n",
        "import numpy as np\n",
        "salarios = [1200, 1500, 1800, 2000, 2200, 2400, 3000, 8500, 9000, 15000]\n",
        "media_recortada = np.mean(sorted(salarios)[1:-1])\n",
        "\n",
        "print(f\"Media recortada: ${media_recortada:.2f}\")"
      ],
      "metadata": {
        "id": "cds4ZOJ0kgir"
      },
      "execution_count": null,
      "outputs": []
    },
    {
      "cell_type": "code",
      "source": [
        "\n",
        "7. Moda de días de la semana\n",
        "python\n",
        "dias = ['Lunes', 'Martes', 'Miércoles', 'Jueves', 'Viernes', 'Sábado', 'Domingo']\n",
        "ventas_dias = pd.DataFrame({\n",
        "    'día': np.random.choice(dias, 100),\n",
        "    'ventas': np.random.randint(50, 200, 100)\n",
        "})\n",
        "\n",
        "moda_dia = ventas_dias['día'].mode()[0]\n",
        "print(f\"Día con más ventas: {moda_dia}\")"
      ],
      "metadata": {
        "id": "Rx5p8my5kgky"
      },
      "execution_count": null,
      "outputs": []
    },
    {
      "cell_type": "code",
      "source": [
        "\n",
        "8. Media de temperatura por mes\n",
        "python\n",
        "temperaturas = pd.DataFrame({\n",
        "    'mes': ['Ene', 'Feb', 'Mar', 'Abr', 'May', 'Jun'],\n",
        "    'temp': [28, 30, 26, 22, 18, 15]\n",
        "})\n",
        "\n",
        "media_temp = temperaturas['temp'].mean()\n",
        "print(f\"Temperatura media: {media_temp}°C\")\n"
      ],
      "metadata": {
        "id": "HAWMm2qlkgnz"
      },
      "execution_count": null,
      "outputs": []
    },
    {
      "cell_type": "code",
      "source": [
        "9. Mediana de duración de películas\n",
        "python\n",
        "movies = pd.DataFrame({\n",
        "    'película': ['A', 'B', 'C', 'D', 'E'],\n",
        "    'duración': [90, 95, 100, 105, 150]\n",
        "})\n",
        "\n",
        "mediana_duracion = movies['duración'].median()\n",
        "print(f\"Duración mediana: {mediana_duracion} minutos\")\n"
      ],
      "metadata": {
        "id": "okIvkQhokgq6"
      },
      "execution_count": null,
      "outputs": []
    },
    {
      "cell_type": "code",
      "source": [
        "10. Media geométrica de crecimiento\n",
        "python\n",
        "crecimiento = [1.05, 1.08, 1.02, 1.10]\n",
        "media_geom = np.prod(crecimiento)**(1/len(crecimiento))\n",
        "\n",
        "print(f\"Tasa media de crecimiento: {media_geom:.4f}\""
      ],
      "metadata": {
        "id": "wQu9iXOxkgt1"
      },
      "execution_count": null,
      "outputs": []
    },
    {
      "cell_type": "code",
      "source": [
        "ventas_cat = pd.DataFrame({\n",
        "    'categoría': ['A', 'B', 'A', 'C', 'B', 'A', 'C', 'B', 'C', 'A'],\n",
        "    'monto': [120, 180, 90, 200, 150, 110, 220, 170, 190, 130]\n",
        "})\n",
        "\n",
        "media_por_categoria = ventas_cat.groupby('categoría')['monto'].mean()\n",
        "print(\"Media por categoría:\")\n",
        "print(media_por_categoria)\n",
        "\n",
        "sns.barplot(data=ventas_cat, x='categoría', y='monto', estimator='mean', ci=None)\n",
        "plt.title('Media de ventas por categoría')\n",
        "plt.show()"
      ],
      "metadata": {
        "id": "dtmXZ1o3kgv5"
      },
      "execution_count": null,
      "outputs": []
    },
    {
      "cell_type": "code",
      "source": [
        "precios = pd.DataFrame({\n",
        "    'ciudad': ['Madrid', 'Barcelona', 'Valencia', 'Madrid', 'Barcelona', 'Sevilla'],\n",
        "    'precio': [300, 350, 280, 320, 370, 290]\n",
        "})\n",
        "\n",
        "mediana_por_ciudad = precios.groupby('ciudad')['precio'].median()\n",
        "print(\"\\nMediana por ciudad:\")\n",
        "print(mediana_por_ciudad)\n",
        "\n",
        "sns.boxplot(data=precios, x='ciudad', y='precio')\n",
        "plt.title('Distribución de precios por ciudad')\n",
        "plt.show()"
      ],
      "metadata": {
        "id": "Y60qxB5bkg_C"
      },
      "execution_count": null,
      "outputs": []
    },
    {
      "cell_type": "code",
      "source": [
        "productos = pd.DataFrame({\n",
        "    'producto': ['Camiseta', 'Pantalón', 'Zapato', 'Camiseta', 'Sombrero', 'Pantalón', 'Camiseta']\n",
        "})\n",
        "\n",
        "moda_producto = productos['producto'].mode()[0]\n",
        "print(f\"\\nProducto más vendido: {moda_producto}\")\n",
        "\n",
        "sns.countplot(data=productos, x='producto')\n",
        "plt.title('Frecuencia de productos vendidos')\n",
        "plt.show()"
      ],
      "metadata": {
        "id": "ep0y5VLAkhCW"
      },
      "execution_count": null,
      "outputs": []
    },
    {
      "cell_type": "code",
      "source": [
        "indices = pd.DataFrame({\n",
        "    'índice': [1.2, 0.8, 1.5, 0.9],\n",
        "    'ponderación': [0.4, 0.3, 0.2, 0.1]\n",
        "})\n",
        "\n",
        "media_pond = (indices['índice'] * indices['ponderación']).sum()\n",
        "print(f\"\\nMedia ponderada de índices: {media_pond:.2f}\")"
      ],
      "metadata": {
        "id": "sziOZ7uzkhEJ"
      },
      "execution_count": null,
      "outputs": []
    },
    {
      "cell_type": "code",
      "source": [
        "indices = pd.DataFrame({\n",
        "    'índice': [1.2, 0.8, 1.5, 0.9],\n",
        "    'ponderación': [0.4, 0.3, 0.2, 0.1]\n",
        "})\n",
        "\n",
        "media_pond = (indices['índice'] * indices['ponderación']).sum()\n",
        "print(f\"\\nMedia ponderada de índices: {media_pond:.2f}\")"
      ],
      "metadata": {
        "id": "a1iyg9amkhHC"
      },
      "execution_count": null,
      "outputs": []
    },
    {
      "cell_type": "code",
      "source": [],
      "metadata": {
        "id": "RO2CMBW1khJ0"
      },
      "execution_count": null,
      "outputs": []
    },
    {
      "cell_type": "code",
      "source": [],
      "metadata": {
        "id": "BVA_2IlbkhMU"
      },
      "execution_count": null,
      "outputs": []
    },
    {
      "cell_type": "code",
      "source": [],
      "metadata": {
        "id": "8veN_A4RkhPJ"
      },
      "execution_count": null,
      "outputs": []
    },
    {
      "cell_type": "code",
      "source": [],
      "metadata": {
        "id": "uUWyDbXbkhSA"
      },
      "execution_count": null,
      "outputs": []
    },
    {
      "cell_type": "code",
      "source": [],
      "metadata": {
        "id": "WevueANzkhVL"
      },
      "execution_count": null,
      "outputs": []
    }
  ]
}