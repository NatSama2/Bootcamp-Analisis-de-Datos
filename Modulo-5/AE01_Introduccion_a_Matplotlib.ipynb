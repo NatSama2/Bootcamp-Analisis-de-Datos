{
  "cells": [
    {
      "cell_type": "markdown",
      "metadata": {
        "id": "view-in-github",
        "colab_type": "text"
      },
      "source": [
        "<a href=\"https://colab.research.google.com/github/NatSama2/Bootcamp-Analisis-de-Datos/blob/main/Modulo-5/AE01_Introduccion_a_Matplotlib.ipynb\" target=\"_parent\"><img src=\"https://colab.research.google.com/assets/colab-badge.svg\" alt=\"Open In Colab\"/></a>"
      ]
    },
    {
      "cell_type": "markdown",
      "metadata": {
        "id": "LN1NAYn-NTyd"
      },
      "source": [
        "# **Visualización**\n",
        "# AE01. Introducción a Matplotlib"
      ]
    },
    {
      "cell_type": "code",
      "source": [],
      "metadata": {
        "id": "vqGOSdEbjRBk"
      },
      "execution_count": null,
      "outputs": []
    },
    {
      "cell_type": "code",
      "execution_count": null,
      "metadata": {
        "id": "Fx7tHPE2gAFP"
      },
      "outputs": [],
      "source": [
        "import matplotlib.pyplot as plt\n",
        "\n",
        "# creamos nuestro lienzo; el mismo está vacío, i.e., no tiene 'axes'\n",
        "fig = plt.figure(figsize=(7.5, 7.5))\n",
        "plt.show()"
      ]
    },
    {
      "cell_type": "code",
      "source": [
        "fig = plt.figure(figsize=(7.5, 7.5))\n",
        "# añadimos varios 'axes' para ver cómo funiona esto\n",
        "# los prámetros rect indican la posición desde la izquierda y desde abajo\n",
        "# y luego el ancho y el alto\n",
        "# las medidas son porcentajes del canvas (figure)\n",
        "ax0 = fig.add_axes([0, 0, 1, 1])"
      ],
      "metadata": {
        "id": "l9LL-kwuhux5"
      },
      "execution_count": null,
      "outputs": []
    },
    {
      "cell_type": "code",
      "source": [
        "# podemos crear otros axes de la misma forma\n",
        "fig = plt.figure(figsize=(7.5, 7.5))\n",
        "ax0 = fig.add_axes([0, 0, 1, 1])\n",
        "# veamos una a 25% de la esquina inferior izquierda y con un 50% del ancho y del alto\n",
        "# debiera quedarnos centrado\n",
        "ax1 = fig.add_axes([0.25, 0.25, 0.5, 0.5], aspect=1)"
      ],
      "metadata": {
        "id": "qGDWe0AamDXc"
      },
      "execution_count": null,
      "outputs": []
    },
    {
      "cell_type": "markdown",
      "source": [
        "Ahora que ya vimos el concepto de `figure` y `axe`, agreguemos algunos gráficos a un nuevo `axe`."
      ],
      "metadata": {
        "id": "XqpDPJrbnQlx"
      }
    },
    {
      "cell_type": "code",
      "source": [
        "import numpy as np\n",
        "\n",
        "np.random.seed(19680801)\n",
        "\n",
        "X = np.linspace(0.5, 3.5, 100)\n",
        "Y1 = 3 + np.cos(X)\n",
        "Y2 = 1 + np.cos(1 + X / 0.75) / 2\n",
        "Y3 = np.random.uniform(Y1, Y2, len(X))\n",
        "\n",
        "fig = plt.figure(figsize=(8, 8))\n",
        "ax = fig.add_subplot()\n",
        "\n",
        "ax.plot(X, Y1, c='C0', lw=2.5, label=\"Señal azul\", zorder=10)\n",
        "ax.plot(X, Y2, c='C1', lw=2.5, label=\"Señal naranja\")\n",
        "ax.plot(X[::3], Y3[::3], linewidth=0, markersize=9,\n",
        "        marker='s', markerfacecolor='none', markeredgecolor='C4',\n",
        "        markeredgewidth=1.5)\n",
        "\n",
        "plt.show()"
      ],
      "metadata": {
        "id": "syR0AA7ngCRl"
      },
      "execution_count": null,
      "outputs": []
    },
    {
      "cell_type": "markdown",
      "source": [
        "Ajustamos los `tickers` de los ejes $x$ e $y$. <br>\n",
        "El mayor o principal se define con un paso de una unidad (1.000) y el menor toma el paso del mayor y, en nuestro ejemplo, lo divide en 4 espacios. Usamos los siguientes métodos de la instancia de `axis`:\n",
        "```python\n",
        "xaxis.set_major_locator\n",
        "xaxis.set_minor_locator\n",
        "```\n",
        "\n",
        "También definimos los límites inferior y superior de cada `axis`.\n",
        "```python\n",
        "ax.set_xlim\n",
        "ax.set_ylim\n",
        "````"
      ],
      "metadata": {
        "id": "ep4quczFm1eo"
      }
    },
    {
      "cell_type": "code",
      "source": [
        "from matplotlib.ticker import AutoMinorLocator, MultipleLocator\n",
        "\n",
        "np.random.seed(19680801)\n",
        "\n",
        "X = np.linspace(0.5, 3.5, 100)\n",
        "Y1 = 3 + np.cos(X)\n",
        "Y2 = 1 + np.cos(1 + X / 0.75) / 2\n",
        "Y3 = np.random.uniform(Y1, Y2, len(X))\n",
        "\n",
        "fig = plt.figure(figsize=(8, 8))\n",
        "ax = fig.add_subplot()\n",
        "\n",
        "# Ajustamos los tickers en x e y\n",
        "ax.xaxis.set_major_locator(MultipleLocator(1.000))\n",
        "ax.xaxis.set_minor_locator(AutoMinorLocator(4))\n",
        "ax.yaxis.set_major_locator(MultipleLocator(1.000))\n",
        "ax.yaxis.set_minor_locator(AutoMinorLocator(4))\n",
        "\n",
        "# Definimos los límites de los ejes x e y\n",
        "ax.set_xlim(0, 4)\n",
        "ax.set_ylim(0, 4)\n",
        "\n",
        "ax.plot(X, Y1, c='C0', lw=2.5, label=\"Señal azul\", zorder=10)\n",
        "ax.plot(X, Y2, c='C1', lw=2.5, label=\"Señal naranja\")\n",
        "ax.plot(X[::3], Y3[::3], linewidth=0, markersize=9,\n",
        "        marker='s', markerfacecolor='none', markeredgecolor='C4',\n",
        "        markeredgewidth=1.5)\n",
        "\n",
        "plt.show()"
      ],
      "metadata": {
        "id": "cmoAxH7hl7FG"
      },
      "execution_count": null,
      "outputs": []
    },
    {
      "cell_type": "markdown",
      "source": [
        "Ahora ajustamos los `ticks`:<br>\n",
        "- de forma general para que tengan un ancho y un largo determinado (medido en puntos), y el texto asociado a ellos tenga un tamaño determinado (medido en puntos). Usamos el método:\n",
        "```python\n",
        "ax.tick_params\n",
        "```\n",
        "- el texto del `tick` menor o secundario se formatee.\n",
        "```python\n",
        "xaxis.set_minor_formatter\n",
        "```"
      ],
      "metadata": {
        "id": "JShtEWEQtfLp"
      }
    },
    {
      "cell_type": "code",
      "source": [
        "import matplotlib.pyplot as plt\n",
        "import numpy as np\n",
        "from matplotlib.ticker import AutoMinorLocator, MultipleLocator\n",
        "import matplotlib.ticker as ticker # Added import\n",
        "\n",
        "np.random.seed(19680801)\n",
        "\n",
        "X = np.linspace(0.5, 3.5, 100)\n",
        "Y1 = 3 + np.cos(X)\n",
        "Y2 = 1 + np.cos(1 + X / 0.75) / 2\n",
        "Y3 = np.random.uniform(Y1, Y2, len(X))\n",
        "\n",
        "fig = plt.figure(figsize=(8, 8))\n",
        "ax = fig.add_subplot()\n",
        "\n",
        "# Ajustamos los tickers en x e y\n",
        "ax.xaxis.set_major_locator(MultipleLocator(1.000))\n",
        "ax.xaxis.set_minor_locator(AutoMinorLocator(4))\n",
        "ax.yaxis.set_major_locator(MultipleLocator(1.000))\n",
        "ax.yaxis.set_minor_locator(AutoMinorLocator(4))\n",
        "\n",
        "# Formateamos el texto del tick secundario\n",
        "ax.xaxis.set_minor_formatter(ticker.StrMethodFormatter('{x:.2f}'))\n",
        "\n",
        "# Definimos los límites de los ejes x e y\n",
        "ax.set_xlim(0, 4)\n",
        "ax.set_ylim(0, 4)\n",
        "\n",
        "# A ambos ticks (major y minor) le ajustamos el tamaño (ancho y largo) de\n",
        "# la barrita y le definimos un tamaño de texto.\n",
        "ax.tick_params(which='major', width=1.0, length=10, labelsize=14)\n",
        "ax.tick_params(which='minor', width=1.0, length=5, labelsize=8,\n",
        "               labelcolor='0.25')\n",
        "\n",
        "ax.plot(X, Y1, c='C0', lw=2.5, label=\"Señal azul\", zorder=10)\n",
        "ax.plot(X, Y2, c='C1', lw=2.5, label=\"Señal naranja\")\n",
        "ax.plot(X[::3], Y3[::3], linewidth=0, markersize=9,\n",
        "        marker='s', markerfacecolor='none', markeredgecolor='C4',\n",
        "        markeredgewidth=1.5)\n",
        "\n",
        "plt.show()"
      ],
      "metadata": {
        "id": "ItQM5phbsxZP"
      },
      "execution_count": null,
      "outputs": []
    },
    {
      "cell_type": "markdown",
      "source": [
        "Añadimos una grilla con una transparencia (`alpha`) de un 50% y la enviamos atrás del todo con `zorder` para que no se sobre ponga a otros objetos del gráfico."
      ],
      "metadata": {
        "id": "w27ANuhau0uv"
      }
    },
    {
      "cell_type": "code",
      "source": [
        "import matplotlib.ticker as ticker\n",
        "np.random.seed(19680801)\n",
        "\n",
        "X = np.linspace(0.5, 3.5, 100)\n",
        "Y1 = 3 + np.cos(X)\n",
        "Y2 = 1 + np.cos(1 + X / 0.75) / 2\n",
        "Y3 = np.random.uniform(Y1, Y2, len(X))\n",
        "\n",
        "fig = plt.figure(figsize=(8, 8))\n",
        "ax = fig.add_subplot()\n",
        "\n",
        "# Ajustamos los tickers en x e y\n",
        "ax.xaxis.set_major_locator(MultipleLocator(1.000))\n",
        "ax.xaxis.set_minor_locator(AutoMinorLocator(4))\n",
        "ax.yaxis.set_major_locator(MultipleLocator(1.000))\n",
        "ax.yaxis.set_minor_locator(AutoMinorLocator(4))\n",
        "\n",
        "# Formateamos el texto del tick secundario\n",
        "ax.xaxis.set_minor_formatter(ticker.StrMethodFormatter('{x:.2f}'))\n",
        "\n",
        "# Definimos los límites de los ejes x e y\n",
        "ax.set_xlim(0, 4)\n",
        "ax.set_ylim(0, 4)\n",
        "\n",
        "# A ambos ticks (major y minor) le ajustamos el tamaño (ancho y largo) de\n",
        "# la barrita y le definimos un tamaño de texto.\n",
        "ax.tick_params(which='major', width=1.0, length=10, labelsize=14)\n",
        "ax.tick_params(which='minor', width=1.0, length=5, labelsize=8,\n",
        "               labelcolor='0.25')\n",
        "\n",
        "# Añadimos la grilla\n",
        "ax.grid(linestyle=\"--\", linewidth=0.5, color='.25', alpha=0.5, zorder=-10)\n",
        "\n",
        "ax.plot(X, Y1, c='C0', lw=2.5, label=\"Señal azul\", zorder=10)\n",
        "ax.plot(X, Y2, c='C1', lw=2.5, label=\"Señal naranja\")\n",
        "ax.plot(X[::3], Y3[::3], linewidth=0, markersize=9,\n",
        "        marker='s', markerfacecolor='none', markeredgecolor='C4',\n",
        "        markeredgewidth=1.5)\n",
        "\n",
        "plt.show()"
      ],
      "metadata": {
        "id": "Emat0AZiiKOh"
      },
      "execution_count": null,
      "outputs": []
    },
    {
      "cell_type": "markdown",
      "source": [
        "Añadimos títulos\n",
        "```\n",
        "ax.set_title\n",
        "ax.set_xlabel\n",
        "ax.set_ylabel\n",
        "```\n",
        "Añadimos la leyenda y la ubicamos convenientemente\n",
        "```\n",
        "ax.legend\n",
        "```"
      ],
      "metadata": {
        "id": "76AypxAwia-5"
      }
    },
    {
      "cell_type": "code",
      "source": [
        "np.random.seed(19680801)\n",
        "\n",
        "X = np.linspace(0.5, 3.5, 100)\n",
        "Y1 = 3 + np.cos(X)\n",
        "Y2 = 1 + np.cos(1 + X / 0.75) / 2\n",
        "Y3 = np.random.uniform(Y1, Y2, len(X))\n",
        "\n",
        "fig = plt.figure(figsize=(8, 8))\n",
        "ax = fig.add_subplot()\n",
        "\n",
        "# Ajustamos los tickers en x e y\n",
        "ax.xaxis.set_major_locator(MultipleLocator(1.000))\n",
        "ax.xaxis.set_minor_locator(AutoMinorLocator(4))\n",
        "ax.yaxis.set_major_locator(MultipleLocator(1.000))\n",
        "ax.yaxis.set_minor_locator(AutoMinorLocator(4))\n",
        "\n",
        "# Formateamos el texto del tick secundario\n",
        "ax.xaxis.set_minor_formatter(ticker.StrMethodFormatter('{x:.2f}'))\n",
        "\n",
        "# Definimos los límites de los ejes x e y\n",
        "ax.set_xlim(0, 4)\n",
        "ax.set_ylim(0, 4)\n",
        "\n",
        "# A ambos ticks (major y minor) le ajustamos el tamaño (ancho y largo) de\n",
        "# la barrita y le definimos un tamaño de texto.\n",
        "ax.tick_params(which='major', width=1.0, length=10, labelsize=14)\n",
        "ax.tick_params(which='minor', width=1.0, length=5, labelsize=8,\n",
        "               labelcolor='0.25')\n",
        "\n",
        "# Añadimos la grilla\n",
        "ax.grid(linestyle=\"--\", linewidth=0.5, color='.25', alpha=0.5, zorder=-10)\n",
        "\n",
        "ax.plot(X, Y1, c='C0', lw=2.5, label=\"Señal azul\", zorder=10)\n",
        "ax.plot(X, Y2, c='C1', lw=2.5, label=\"Señal naranja\")\n",
        "ax.plot(X[::3], Y3[::3], linewidth=0, markersize=9,\n",
        "        marker='s', markerfacecolor='none', markeredgecolor='C4',\n",
        "        markeredgewidth=1.5)\n",
        "\n",
        "# Añadimos títulos al gráfigo y a los ejes\n",
        "ax.set_title(\"Anatomía de una figura\", fontsize=20, verticalalignment='bottom')\n",
        "ax.set_xlabel(\"Etiqueta eje (axis) $x$ \", fontsize=14)\n",
        "ax.set_ylabel(\"Etiqueta eje (axis) $y$ \", fontsize=14)\n",
        "\n",
        "# Añadimos la leyenda y la ubicamos convenientemente\n",
        "ax.legend(loc=\"upper right\", fontsize=14)\n",
        "\n",
        "plt.show()"
      ],
      "metadata": {
        "id": "W-MBJJ6riaph"
      },
      "execution_count": null,
      "outputs": []
    },
    {
      "cell_type": "markdown",
      "source": [
        "Ahora generaremos varias anotaciones en la figura, indicando cada uno de los elementos que la componen. Para ello nos crearemos una función de conveniencia."
      ],
      "metadata": {
        "id": "WSCzE9LykB1W"
      }
    },
    {
      "cell_type": "code",
      "source": [
        "from matplotlib.patches import Circle\n",
        "from matplotlib.patheffects import withStroke\n",
        "\n",
        "def annotate(x, y, text):\n",
        "    # Creamos un generador de círculos posicionados en x, y\n",
        "    # de radio es 0.15 en el valor de las coordenadas\n",
        "    c = Circle((x, y), radius=0.15, clip_on=False, zorder=10, linewidth=2.5,\n",
        "               edgecolor='r', alpha=0.9, facecolor='none',\n",
        "               # añade un borde al círculo creado\n",
        "               path_effects=[withStroke(linewidth=7, foreground='white')])\n",
        "    ax.add_artist(c)\n",
        "\n",
        "    # utilizamos 'path_effects' como fondo de los textos\n",
        "    # generando un borde 'white' en torno al mismo\n",
        "    ax.text(x, y-0.2, text, zorder=100,\n",
        "                ha='center', va='top', weight='normal', color='r',\n",
        "                style='italic', fontfamily='Courier New', fontsize='medium',\n",
        "                path_effects=[withStroke(linewidth=7, foreground='white')])\n"
      ],
      "metadata": {
        "id": "XHibDVg4nbGI"
      },
      "execution_count": null,
      "outputs": []
    },
    {
      "cell_type": "code",
      "source": [
        "np.random.seed(19680801)\n",
        "\n",
        "X = np.linspace(0.5, 3.5, 100)\n",
        "Y1 = 3 + np.cos(X)\n",
        "Y2 = 1 + np.cos(1 + X / 0.75) / 2\n",
        "Y3 = np.random.uniform(Y1, Y2, len(X))\n",
        "\n",
        "fig = plt.figure(figsize=(8, 8))\n",
        "ax = fig.add_subplot()\n",
        "\n",
        "# Ajustamos los tickers en x e y\n",
        "ax.xaxis.set_major_locator(MultipleLocator(1.000))\n",
        "ax.xaxis.set_minor_locator(AutoMinorLocator(4))\n",
        "ax.yaxis.set_major_locator(MultipleLocator(1.000))\n",
        "ax.yaxis.set_minor_locator(AutoMinorLocator(4))\n",
        "\n",
        "# Formateamos el texto del tick secundario\n",
        "ax.xaxis.set_minor_formatter(ticker.StrMethodFormatter('{x:.2f}'))\n",
        "\n",
        "# Definimos los límites de los ejes x e y\n",
        "ax.set_xlim(0, 4)\n",
        "ax.set_ylim(0, 4)\n",
        "\n",
        "# A ambos ticks (major y minor) le ajustamos el tamaño (ancho y largo) de\n",
        "# la barrita y le definimos un tamaño de texto.\n",
        "ax.tick_params(which='major', width=1.0, length=10, labelsize=14)\n",
        "ax.tick_params(which='minor', width=1.0, length=5, labelsize=8,\n",
        "               labelcolor='0.25')\n",
        "\n",
        "# Añadimos la grilla\n",
        "ax.grid(linestyle=\"--\", linewidth=0.5, color='.25', alpha=0.5, zorder=-10)\n",
        "\n",
        "ax.plot(X, Y1, c='C0', lw=2.5, label=\"Señal azul\", zorder=10)\n",
        "ax.plot(X, Y2, c='C1', lw=2.5, label=\"Señal naranja\")\n",
        "ax.plot(X[::3], Y3[::3], linewidth=0, markersize=9,\n",
        "        marker='s', markerfacecolor='none', markeredgecolor='C4',\n",
        "        markeredgewidth=1.5)\n",
        "\n",
        "# Añadimos títulos al gráfigo y a los ejes\n",
        "ax.set_title(\"Anatomía de una figura\", fontsize=20, verticalalignment='bottom')\n",
        "ax.set_xlabel(\"Etiqueta eje (axis) $x$ \", fontsize=14)\n",
        "ax.set_ylabel(\"Etiqueta eje (axis) $y$ \", fontsize=14)\n",
        "\n",
        "# Añadimos la leyenda y la ubicamos convenientemente\n",
        "ax.legend(loc=\"upper right\", fontsize=14)\n",
        "\n",
        "\n",
        "# Generamos las anotaciones\n",
        "annotate(3.5, -0.13, \"Minor tick label\")\n",
        "annotate(-0.03, 1.0, \"Major tick\")\n",
        "annotate(0.00, 3.25, \"Minor tick\")\n",
        "annotate(-0.15, 4.00, \"Major tick label\")\n",
        "annotate(1.35, -0.39, \"xlabel\")\n",
        "annotate(-0.34, 1.4, \"ylabel\")\n",
        "annotate(1.52, 4.15, \"Title\")\n",
        "annotate(1.75, 2.80, \"Line\")\n",
        "annotate(2.25, 1.54, \"Markers\")\n",
        "annotate(3.00, 3.00, \"Grid\")\n",
        "annotate(3.60, 3.58, \"Legend\")\n",
        "annotate(2.5, 0.55, \"Axes\")\n",
        "annotate(4, 4.5, \"Figure\")\n",
        "annotate(0.65, 0.01, \"x Axis\")\n",
        "annotate(0, 0.36, \"y Axis\")\n",
        "annotate(4.0, 0.7, \"Spine\")\n",
        "\n",
        "plt.show()"
      ],
      "metadata": {
        "id": "cCcj3ImGgDLg"
      },
      "execution_count": null,
      "outputs": []
    },
    {
      "cell_type": "markdown",
      "source": [
        "Por último, añadimos una marco (`frame`) a la figura"
      ],
      "metadata": {
        "id": "bHqRlM1KAE6d"
      }
    },
    {
      "cell_type": "code",
      "source": [
        "np.random.seed(19680801)\n",
        "\n",
        "X = np.linspace(0.5, 3.5, 100)\n",
        "Y1 = 3 + np.cos(X)\n",
        "Y2 = 1 + np.cos(1 + X / 0.75) / 2\n",
        "Y3 = np.random.uniform(Y1, Y2, len(X))\n",
        "\n",
        "fig = plt.figure(figsize=(8, 8), facecolor=('#9fc5e8'))\n",
        "ax = fig.add_subplot(facecolor='#c6dbef')\n",
        "\n",
        "# Ajustamos los tickers en x e y\n",
        "ax.xaxis.set_major_locator(MultipleLocator(1.000))\n",
        "ax.xaxis.set_minor_locator(AutoMinorLocator(4))\n",
        "ax.yaxis.set_major_locator(MultipleLocator(1.000))\n",
        "ax.yaxis.set_minor_locator(AutoMinorLocator(4))\n",
        "\n",
        "# Formateamos el texto del tick secundario\n",
        "ax.xaxis.set_minor_formatter(ticker.StrMethodFormatter('{x:.2f}'))\n",
        "\n",
        "# Definimos los límites de los ejes x e y\n",
        "ax.set_xlim(0, 4)\n",
        "ax.set_ylim(0, 4)\n",
        "\n",
        "# A ambos ticks (major y minor) le ajustamos el tamaño (ancho y largo) de\n",
        "# la barrita y le definimos un tamaño de texto.\n",
        "ax.tick_params(which='major', width=1.0, length=10, labelsize=14)\n",
        "ax.tick_params(which='minor', width=1.0, length=5, labelsize=8,\n",
        "               labelcolor='0.25')\n",
        "\n",
        "# Añadimos la grilla\n",
        "ax.grid(linestyle=\"--\", linewidth=0.5, color='.25', alpha=0.5, zorder=-10)\n",
        "\n",
        "ax.plot(X, Y1, c='C0', lw=2.5, label=\"Señal azul\", zorder=10)\n",
        "ax.plot(X, Y2, c='C1', lw=2.5, label=\"Señal naranja\")\n",
        "ax.plot(X[::3], Y3[::3], linewidth=0, markersize=9,\n",
        "        marker='s', markerfacecolor='none', markeredgecolor='C4',\n",
        "        markeredgewidth=1.5)\n",
        "\n",
        "# Añadimos títulos al gráfigo y a los ejes\n",
        "ax.set_title(\"Anatomía de una figura\", fontsize=20, verticalalignment='bottom')\n",
        "ax.set_xlabel(\"Etiqueta eje (axis) $x$ \", fontsize=14)\n",
        "ax.set_ylabel(\"Etiqueta eje (axis) $y$ \", fontsize=14)\n",
        "\n",
        "# Añadimos la leyenda y la ubicamos convenientemente\n",
        "ax.legend(loc=\"upper right\", fontsize=14)\n",
        "\n",
        "\n",
        "# Generamos las anotaciones\n",
        "annotate(3.5, -0.13, \"Minor tick label\")\n",
        "annotate(-0.03, 1.0, \"Major tick\")\n",
        "annotate(0.00, 3.25, \"Minor tick\")\n",
        "annotate(-0.15, 4.00, \"Major tick label\")\n",
        "annotate(1.35, -0.39, \"xlabel\")\n",
        "annotate(-0.34, 1.4, \"ylabel\")\n",
        "annotate(1.52, 4.15, \"Title\")\n",
        "annotate(1.75, 2.80, \"Line\")\n",
        "annotate(2.25, 1.54, \"Markers\")\n",
        "annotate(3.00, 3.00, \"Grid\")\n",
        "annotate(3.60, 3.58, \"Legend\")\n",
        "annotate(2.5, 0.55, \"Axes\")\n",
        "annotate(4, 4.5, \"Figure\")\n",
        "annotate(0.65, 0.01, \"x Axis\")\n",
        "annotate(0, 0.36, \"y Axis\")\n",
        "annotate(4.0, 0.7, \"Spine\")\n",
        "\n",
        "# frame around figure\n",
        "fig.patch.set(linewidth=4, edgecolor='k')\n",
        "annotate(4.5, 1.7, \"Frame\")\n",
        "plt.show()\n"
      ],
      "metadata": {
        "id": "QvktkEV9qocW"
      },
      "execution_count": null,
      "outputs": []
    },
    {
      "cell_type": "code",
      "source": [],
      "metadata": {
        "id": "bqXnlq7UAbvj"
      },
      "execution_count": null,
      "outputs": []
    },
    {
      "cell_type": "markdown",
      "metadata": {
        "id": "gnCEyVDLawOj"
      },
      "source": [
        "\n",
        "\n",
        "O más bien dicho: como graficar utilizando Python y no morir en el intento\n",
        "\n",
        "- Matplotlib surge como una librería para hacer gráficos estilo [MATLAB](https://la.mathworks.com/products/matlab.html) el 2003\n",
        "    - Pertenece al ecosistema de computación científica de [SciPy](https://www.scipy.org/)\n",
        "    - Código abierto, licencia estilo [BSD](https://es.wikipedia.org/wiki/Licencia_BSD)\n",
        "\n",
        "\n",
        "- Principalmente los gráficos son en 2D, pero incluye una interfaz rudimentaria para generar gráficos 3D."
      ]
    },
    {
      "cell_type": "markdown",
      "metadata": {
        "id": "himXFzujawOn"
      },
      "source": [
        "<center><img src=\"https://drive.google.com/uc?id=1AY_5Swo1JAdDXjbfWbemDE5q5tWsB7pB\"> <img src=\"https://drive.google.com/uc?id=1X4GFyZlAiANlJLUps1n0r2IKsFwsVknN\"> <img src=\"https://drive.google.com/uc?id=1Th0ZymJ8V8yGY21HcfL4qP6lccZxiLex\"></center>\n"
      ]
    },
    {
      "cell_type": "markdown",
      "metadata": {
        "id": "RKTdhi_KawOo"
      },
      "source": [
        "## <font color='blue'>Un ejemplo práctico del uso de matplotlib (mostrando sus potencialidades)</font>\n",
        "\n",
        "La imagen de un agujero negro captado por múltiples telescopios y procesado con matplotlib [(Enlace al repositorio de código en github)](https://github.com/achael/eht-imaging):\n",
        "\n",
        "<img src=\"https://drive.google.com/uc?id=17qjCPKvs0opQAOwUJqAEwXHxRwqrJImq\">\n",
        "\n",
        "\n",
        "Esto fue posible gracias a la investigación de la Dr. Katie Boumann y el equipo involucrado en el desarrollo de la librería [(Charla Ted relacionada)](https://www.youtube.com/watch?v=BIvezCVcsYs)\n",
        "\n",
        "<img src=\"https://drive.google.com/uc?id=1y3mZ2Re3HR4qi0L3EQv5BxPkTAhDxzoT\">"
      ]
    },
    {
      "cell_type": "markdown",
      "metadata": {
        "id": "uJ7IoobwawOo"
      },
      "source": [
        "## <font color='blue'>¿Cómo empezamos a trabajar con matplotlib?</font>\n",
        "\n",
        "### A- Trabajo en modo local\n",
        "En este caso, la recomendación va por instalar la distribución de Python [Anaconda](https://www.anaconda.com/products/individual), la cual viene con un conjunto de librerías preinstaladas para computación científica y Data Science. Con esto la instalación y/o actualización de esta librería puede realizar con cualquiera de estos dos simples comandos:\n",
        "\n",
        "1.- Utilizando el gestor de paquetes de Anaconda\n",
        "```bash\n",
        "conda install matplotlib\n",
        "```\n",
        "2.- Utilizando el gestor de paquetes de Python (pip)\n",
        "```bash\n",
        "pip install matplotlib\n",
        "```\n",
        "### B. Trabajo desde la nube\n",
        "En otros entornos de computación en la nube (por ejemplo __Google Colab__), matplotlib y todo el stack de scipy viene preinstalado. Asegúrate de ejecutarlo desde un navegador __Chrome__ actualizado a la última versión.\n",
        "\n",
        "Una vez instalado, para poder empezar a graficar necesitamos importar la librería, específicamente el módulo `pyplot` y luego activar el **backend** de jupyter, utilizando los siguientes comandos en una celda:\n",
        "\n",
        "```python\n",
        "import matplotlib.pyplot as plt # Este es el \"alias\" tradicional para matplotlib\n",
        "%matplotlib inline # Este activa el backend para jupyter, mostrando los gráficos en los resultados de las celdas en línea\n",
        "```\n",
        "\n",
        "__pyplot__ es una API que implementa un estilo de trabajo similar al que nos entrega MATLAB."
      ]
    },
    {
      "cell_type": "markdown",
      "metadata": {
        "id": "jgF4FtB5awOp"
      },
      "source": [
        "# <font color='blue'>¿Qué es el backend?</font>\n",
        "\n",
        "Para dar respuesta a esto, vamos a analizar los componentes de matplotlib, los cuales se dividen en tres capas:\n",
        "\n",
        "<center><img src=\"https://drive.google.com/uc?id=1km-jfNP9zPOocKMMx43cfUCj0r44IorM\"></center>\n",
        "\n",
        "## <font color='blue'>1.- Capa del Backend (Backend Layer)</font>\n",
        "\n",
        "El backend corresponde al componente donde se va a generar la imagen, y por consiguiente nos permite renderizar las instrucciones que nosotros programamos mediante Python. Existen múltiples backend, los cual permiten exportar las imágenes generadas en distintos formatos (PNG, JPG, PDF, entre otros). Específicamente, el backend está compuesto por tres elementos:\n",
        "\n",
        "- FigureCanvas: Área donde el gráfico se va a dibujar\n",
        "- Renderer: La herramienta utilizada para dibujar en FigureCanvas\n",
        "- Event: Maneja entradas provenientes de los usuarios (clicks de mouse, teclas presionadas en el teclado, etc.)\n",
        "\n",
        "Una analogía para cada uno de estos componentes corresponde a:\n",
        "\n",
        " __FigureCanvas__ es nuestro papel,<br>\n",
        " __Render__ es nuestro pincel,<br>\n",
        " __Event__ son instrucciones de alguien sobre que dibujar\n",
        "\n",
        "## <font color='blue'>2.- Capa del artista (Artist Layer)</font>\n",
        "\n",
        "La idea detrás de la capa del artista, es controlar todos los posibles elementos existentes en las figuras. Cada elemento existente va a ser un objeto de Python con sus posibles propiedades, y objetos hijos. Por lo mismo, la capa del artista se le conoce como la **la interfaz de Orientación de Objetos**.\n",
        "- Cada elemento del gráfico es un elemento artista, el cual puede estar compuesto por varios artistas a su vez. Ejemplo de esto se presentan en las siguientes figuras:\n",
        "\n",
        "<center><img src=\"https://drive.google.com/uc?id=1IMtN8t33vMt50u3kp0zS6XNNuwFgiTg0\"></center>\n",
        "\n",
        "## <font color='blue'>3.- Capa de Scripting (Scripting Layer)</font>\n",
        "\n",
        "Esta corresponde a la interfaz más sencilla para realizar gráficos de matplotlib. La idea es graficar lo más parecido a MATLAB, donde con pocas líneas de código se automatiza todo el proceso de la capa del artista. Utilizando esta capa de scripting, las pocas líneas de código son capaces de generar todos los artistas y la jerarquía existente entre ellos de forma sencilla, e inclusive permite rescatar un artista específico para hacer modificaciones si es que corresponde. Finalmente, para poder utilizar esta capa de scripting simplemente tenemos que llamar a `pyplot` (o en su defecto, el alias `plt`)\n",
        "\n",
        "Veamos un ejemplo de graficar con la capa de artista, versus graficar con la capa de scripting:\n"
      ]
    },
    {
      "cell_type": "code",
      "execution_count": null,
      "metadata": {
        "id": "wtGZ-CamawOq"
      },
      "outputs": [],
      "source": [
        "import matplotlib.pyplot as plt #Importamos la libreria\n",
        "\n",
        "#Importamos pandas y numpy para aprovechar las capacidades númericas y de manejo de datos de ambas librerias\n",
        "import pandas as pd\n",
        "import numpy as np"
      ]
    },
    {
      "cell_type": "code",
      "execution_count": null,
      "metadata": {
        "id": "cNB0q_wHawOs"
      },
      "outputs": [],
      "source": [
        "%matplotlib inline"
      ]
    },
    {
      "cell_type": "code",
      "source": [
        "# Verifiquemos la versión que utiliza Colab\n",
        "import matplotlib\n",
        "matplotlib.__version__"
      ],
      "metadata": {
        "id": "Phq3Ez2eSV3a"
      },
      "execution_count": null,
      "outputs": []
    },
    {
      "cell_type": "markdown",
      "metadata": {
        "id": "aFZDc9WsawOs"
      },
      "source": [
        "Utilizando `numpy`, vamos a generar un arreglo con $20000$  puntos aleatorios obtenidos de una distribución normal y lo vamos a guardar en la variable `x`"
      ]
    },
    {
      "cell_type": "code",
      "execution_count": null,
      "metadata": {
        "id": "npexalObawOt"
      },
      "outputs": [],
      "source": [
        "x = np.random.randn(20000)"
      ]
    },
    {
      "cell_type": "markdown",
      "metadata": {
        "id": "soDTa0pdawOu"
      },
      "source": [
        "## <font color='blue'>Forma con la capa Artista</font>"
      ]
    },
    {
      "cell_type": "code",
      "execution_count": null,
      "metadata": {
        "id": "5_0GVoJHawOu"
      },
      "outputs": [],
      "source": [
        "#Instanciamos el Artista \"Figura\"\n",
        "fig = plt.figure()\n",
        "\n",
        "#Generamos un eje de la figura, especificamente se genera 1 eje (Axis),\n",
        "#con 1 fila y 1 columna (111)\n",
        "ax = fig.add_subplot(111)\n",
        "\n",
        "#Ocupamos el Artista ax, para pintar un histograma con 100 bins\n",
        "ax.hist(x, 100)\n",
        "\n",
        "#Añadimos el titulo al eje ax\n",
        "ax.set_title('Distribución Normal')\n",
        "\n",
        "#Mostramos la figura\n",
        "plt.show()"
      ]
    },
    {
      "cell_type": "markdown",
      "metadata": {
        "id": "WTM2F5noawOu"
      },
      "source": [
        "## <font color='blue'>Forma con la capa Scripting</font>"
      ]
    },
    {
      "cell_type": "code",
      "execution_count": null,
      "metadata": {
        "id": "2SrST8h6awOv"
      },
      "outputs": [],
      "source": [
        "#llamamos a plt.hist, basicamente instanciamos un histograma,\n",
        "#e implicitamente, se genera internamente un eje\n",
        "plt.hist(x, 100)\n",
        "\n",
        "#A dicho eje, le añadimos el titulo\n",
        "plt.title('Distribución Normal')\n",
        "\n",
        "#Mostramos la figura\n",
        "plt.show()"
      ]
    },
    {
      "cell_type": "markdown",
      "metadata": {
        "id": "JUFf4xWHawOv",
        "tags": []
      },
      "source": [
        "# <font color='blue'>Anatomía de un gráfico de matplotlib:</font>\n",
        "\n",
        "Cada uno de estos elementos es un artista, el cual podemos modificar según nuestras necesidades.\n",
        "\n",
        "## <font color='purple'>Facilitación gráfica</font>\n",
        "\n",
        "<center><img src=\"https://drive.google.com/uc?id=1GbfclEmJj4upx5OZlf7_2xPqYAG8amYk\"></center>\n",
        "\n",
        "<hr>\n",
        "Lecturas adicionales:\n",
        "\n",
        "- [Partes de una figura](https://matplotlib.org/faq/usage_faq.html#parts-of-a-figure)\n",
        "- [La arquitectura de Matplotlib](https://www.aosabook.org/en/matplotlib.html)\n"
      ]
    },
    {
      "cell_type": "markdown",
      "metadata": {
        "id": "KpkvnsnhawOv"
      },
      "source": [
        "#  <font color='blue'>Gráficos básicos con matplotlib: Diagramas de líneas (Line plots)</font>\n",
        "\n",
        "Realicemos un \"hola mundo\", las primeras líneas necesarias para generar un gráfico de línea:\n",
        "\n",
        "```python\n",
        "plt.plot(x, y, *args) # Generamos un gráfico\n",
        "plt.show() # Imprimimos el gráfico por pantalla\n",
        "```\n",
        "\n",
        "La estructura que utiliza la capa de scripting tiene dos elementos principales: la entrada `x` e `y`. Específicamente ambas variables deben ser arreglos unidimensionales detallando claramente: los valores para cada par $(x,y)$. Por lo mismo las dimensiones de ambos arreglos tiene que ser iguales, de lo contrario se va a levantar un `exception` debido a la diferencia de largo de arreglos.\n",
        "\n",
        "Finalmente, `*args` hace mención a que dicha función `plot`, recibe más parámetros los cuales pueden modificar el comportamiento de lo que se está graficando. Si se omiten estos parámetros y si solo se detalla los valores de `x` e `y`, entonces matplotlib va a generar un gráfico de línea.\n",
        "\n",
        "[Documentación del método plot](https://matplotlib.org/3.3.1/api/_as_gen/matplotlib.pyplot.plot.html)\n",
        "\n",
        "Ejemplo:\n"
      ]
    },
    {
      "cell_type": "code",
      "execution_count": null,
      "metadata": {
        "id": "IUqJcOw8awOv"
      },
      "outputs": [],
      "source": [
        "#Definimos el arreglo a gráficar\n",
        "arr = [1, 2, 3, 4, 5]\n",
        "#Ocupamos el método plot\n",
        "plt.plot(arr, arr)\n",
        "plt.show()"
      ]
    },
    {
      "cell_type": "markdown",
      "metadata": {
        "id": "K8fXvM6tawOw",
        "tags": []
      },
      "source": [
        "## <font color='green'>Actividad 1:</font>\n",
        "\n",
        "Grafiquemos una señal sinusoidal, en este caso nuestros valores de $x$ va a estar definido como:\n",
        "$$x \\in [0,10]$$\n",
        "\n",
        "Y la variable $y$ se define como:\n",
        "\n",
        "$$y = sin(x)$$\n",
        "\n",
        "1. Utilizando `matplotlib` y `numpy` genere dicho gráfico\n",
        "2. ¿Cómo podemos obtener una curva más suave?\n"
      ]
    },
    {
      "cell_type": "code",
      "execution_count": null,
      "metadata": {
        "id": "4rYdiM6QZbJx"
      },
      "outputs": [],
      "source": [
        "# Tu código aquí ...\n",
        "import matplotlib.pyplot as plt\n",
        "import pandas as pd\n",
        "import numpy as np\n",
        "\n",
        "# para suavisar el grafico hay que aumentar el tercer argumento( step)\n",
        "x = np.linspace(0,10,200)\n",
        "y = np.sin(x)\n",
        "\n",
        "plt.plot(x,y)"
      ]
    },
    {
      "cell_type": "markdown",
      "metadata": {
        "id": "ldk3adT2awOw"
      },
      "source": [
        "<font color='green'>Fin Actividad</font>"
      ]
    },
    {
      "cell_type": "markdown",
      "metadata": {
        "id": "sr315X6MawOw"
      },
      "source": [
        "# <font color='blue'>Graficar múltiples datos</font>\n",
        "Cuando queremos graficar múltiples datos, por ejemplo: \"hacer múltiples líneas en el mismo eje\", podemos utilizar la siguiente sintaxis:\n",
        "\n",
        "```python\n",
        "plt.plot(x,y,*args) # Generamos Línea 1\n",
        "plt.plot(x,y,*args) # Generamos Línea 2\n",
        "...\n",
        "plt.plot(x,y,*args) # Generamos Línea N\n",
        "\n",
        "plt.show() # Imprimimos el gráfico por pantalla\n",
        "```\n",
        "\n",
        "Si nosotros llamamos múltiples veces instrucciones para graficar, el comportamiento que tomara matplotlib es graficar en la misma figura hasta que nosotros liberemos el backend.\n",
        "\n",
        "Métodos que liberan el backend:\n",
        "\n",
        "- `plt.show()`: Mostrar la figura\n",
        "- `plt.close()`: Cerrar la figura, limpiando el backend\n",
        "\n",
        "**Nota:** Al momento de utilizar el jupyter magic `%matplotlib inline`, al final de cada ejecución de celda se ejecutara una liberación del backend.\n",
        "\n",
        "Ejemplo de graficar múltiples líneas:\n"
      ]
    },
    {
      "cell_type": "code",
      "execution_count": null,
      "metadata": {
        "id": "a5v1GiejawOx"
      },
      "outputs": [],
      "source": [
        "x = [1, 2, 3, 4, 5] #eje X\n",
        "y1 = np.random.randn(5) #y1, obtenemos 5 números aleatorios\n",
        "y2 = y1 + 1 # Vamos sumando 1 por cada línea que pintamos\n",
        "y3 = y2 + 1\n",
        "y4 = y3 + 1\n",
        "\n",
        "#Ocupamos el método plot\n",
        "plt.plot(x, y1) #Línea 1\n",
        "plt.plot(x, y2) #Línea 2\n",
        "plt.plot(x, y3) #Línea 3\n",
        "plt.plot(x, y4) #Línea 4\n",
        "\n",
        "plt.show()"
      ]
    },
    {
      "cell_type": "markdown",
      "metadata": {
        "id": "XNb2eZNTawOx"
      },
      "source": [
        "## <font color='blue'>Modificando las propiedades de un gráfico: Añadiendo una leyenda</font>\n",
        "\n",
        "Una forma básica para añadir la leyenda a nuestra visualización, corresponde a utilizar el método plt.legend(). Como argumento, este método recibe un arreglo con los nombres para cada uno de los elementos graficados (en este caso, las líneas).\n"
      ]
    },
    {
      "cell_type": "code",
      "execution_count": null,
      "metadata": {
        "id": "W7h__dosawOx"
      },
      "outputs": [],
      "source": [
        "x = [1, 2, 3, 4, 5]\n",
        "y1 = np.random.randn(5)\n",
        "y2 = y1 + 1\n",
        "y3 = y2 + 1\n",
        "y4 = y3 + 1\n",
        "plt.plot(x, y1)\n",
        "plt.plot(x, y2)\n",
        "plt.plot(x, y3)\n",
        "plt.plot(x, y4)\n",
        "\n",
        "#Añadimos 4 Lineas a la leyenda, debido a que estamos gráficando las 4 líneas\n",
        "plt.legend([\"Línea 1\", \"Línea 2\", \"Línea 3\", \"Línea 4\"])\n",
        "plt.show()"
      ]
    },
    {
      "cell_type": "markdown",
      "metadata": {
        "id": "ojHepueqawOx"
      },
      "source": [
        "Una forma alternativa, y detallada como una buena práctica por los desarrolladores de matplotlib, corresponde a asignarle una etiqueta a cada una de las líneas, para luego simplemente llamar al método legend. Este al no recibir ningún parámetro, va a buscar dentro de cada artista relacionado a la línea, el parámetro `label`"
      ]
    },
    {
      "cell_type": "code",
      "execution_count": null,
      "metadata": {
        "id": "NLvRxkl3awOx"
      },
      "outputs": [],
      "source": [
        "x = [1, 2, 3, 4, 5]\n",
        "y1 = np.random.randn(5)\n",
        "y2 = y1 + 1\n",
        "y3 = y2 + 1\n",
        "y4 = y3 + 1\n",
        "# Añadimos argumentos de etiqueta ('label') a cada plot\n",
        "plt.plot(x, y1, label='Línea 1')\n",
        "plt.plot(x, y2, label='Línea 2')\n",
        "plt.plot(x, y3, label='Línea 3')\n",
        "plt.plot(x, y4, label='Línea 4')\n",
        "\n",
        "plt.legend()\n",
        "plt.show()"
      ]
    },
    {
      "cell_type": "markdown",
      "metadata": {
        "id": "0K-frSBjawOx"
      },
      "source": [
        "## <font color='blue'>Modificando las propiedades de un gráfico: Añadiendo un título</font>\n",
        "\n",
        "Para añadir un título a nuestro gráfico, nosotros podemos utilizar el método `plt.title()`. En este caso, dicho método recibe como argumento un `String` el cual se va a pintar en la zona superior del gráfico. Recibe más parámetros los cuales pueden ver en la [documentación](https://matplotlib.org/3.3.1/api/_as_gen/matplotlib.pyplot.title.html). Cabe detallar, es capaz de mostrar [**LaTeX**](https://es.wikipedia.org/wiki/LaTeX).\n"
      ]
    },
    {
      "cell_type": "code",
      "execution_count": null,
      "metadata": {
        "id": "koLS6yG3awOy"
      },
      "outputs": [],
      "source": [
        "x = [1, 2, 3, 4, 5]\n",
        "y1 = np.random.randn(5)\n",
        "y2 = y1 + 1\n",
        "y3 = y2 + 1\n",
        "y4 = y3 + 1\n",
        "plt.plot(x, y1, label='Línea 1')\n",
        "plt.plot(x, y2, label='Línea 2')\n",
        "plt.plot(x, y3, label='Línea 3')\n",
        "plt.plot(x, y4, label='Línea 4')\n",
        "\n",
        "plt.legend()\n",
        "# Añadimos un título\n",
        "plt.title(\"Hola Mundo! $\\\\gamma \\\\epsilon \\\\iota \\\\alpha$\") # yeia es hola en griego\n",
        "plt.show()"
      ]
    },
    {
      "cell_type": "markdown",
      "metadata": {
        "id": "IP3hgUjhawOy"
      },
      "source": [
        "## <font color='blue'>Modificando las propiedades de un gráfico: Añadiendo los títulos para los ejes</font>\n",
        "\n",
        "Para añadir títulos a los ejes X e Y, se utilizan los métodos `plt.xlabel` y `plt.ylabel` respectivamente. Los argumentos para cada método son similares a generar un título.\n",
        "\n",
        "[Documentación xlabel](https://matplotlib.org/3.3.1/api/_as_gen/matplotlib.pyplot.xlabel.html?highlight=xlabel#matplotlib.pyplot.xlabel)\n",
        "\n",
        "[Documentación ylabel](https://matplotlib.org/3.3.1/api/_as_gen/matplotlib.pyplot.ylabel.html?highlight=ylabel#matplotlib.pyplot.ylabel)\n"
      ]
    },
    {
      "cell_type": "code",
      "execution_count": null,
      "metadata": {
        "id": "uGscxeCzawOy"
      },
      "outputs": [],
      "source": [
        "x = [1, 2, 3, 4, 5]\n",
        "y1 = np.random.randn(5)\n",
        "y2 = y1 + 1\n",
        "y3 = y2 + 1\n",
        "y4 = y3 + 1\n",
        "plt.plot(x, y1, label='Línea 1')\n",
        "plt.plot(x, y2, label='Línea 2')\n",
        "plt.plot(x, y3, label='Línea 3')\n",
        "plt.plot(x, y4, label='Línea 4')\n",
        "plt.legend()\n",
        "plt.title(\"Hola Mundo! $\\\\gamma \\\\epsilon \\\\iota \\\\alpha$\")\n",
        "# Añadimos nombres a los ejes\n",
        "plt.xlabel(\"eje X\")\n",
        "plt.ylabel(\"eje Y\")\n",
        "plt.show()"
      ]
    },
    {
      "cell_type": "markdown",
      "metadata": {
        "id": "fC16hqAmawOy"
      },
      "source": [
        "## <font color='green'>Actividad 2:</font>\n",
        "\n",
        "Grafiquemos dos señales, donde los valores de $x$ van a estar definido como: $x \\in [-2\\pi,2\\pi]$ y con una resolución de $0.05$ entre cada valor\n",
        "\n",
        "Y las variables $y$ se definen como:\n",
        "\n",
        "$$y_1 = sin(x)$$\n",
        "$$y_2 = cos(x)$$\n",
        "\n",
        "utilizando `matplotlib` y `numpy` genere dicho gráfico. Además de esto, añada un título descriptivo de lo que se gráfica, títulos a los ejes y leyendas para cada una de las señales.\n",
        "\n",
        "Pruebe otros tipos de funciones (como logaritmo, raíz n-ésima, potencia n-ésima, etc.)\n"
      ]
    },
    {
      "cell_type": "code",
      "execution_count": null,
      "metadata": {
        "id": "7od4GrCtZbJ1"
      },
      "outputs": [],
      "source": [
        "# Tu código aquí .\n",
        "x = np.linspace(-2*np.pi,2*np.pi,80)\n",
        "y1 = np.sin(x)\n",
        "y2 = np.cos(x)\n",
        "plt.plot(x, y1, label = 'seno')\n",
        "plt.plot(x, y2, label = 'coseno')\n",
        "plt.legend()\n",
        "plt.title(\"Función seno y coseno de un rango entre -2pi y 2pi \")\n",
        "plt.xlabel(\"eje X\")\n",
        "plt.ylabel(\"eje Y\")\n",
        "plt.show\n"
      ]
    },
    {
      "cell_type": "code",
      "source": [
        "x = np.linspace(-2*np.pi,2*np.pi,80)\n",
        "y3 = np.log(x)\n",
        "y4 = np.power(x,3)\n",
        "plt.plot(x, y3, label = 'logaritmo', color = 'blue')\n",
        "plt.plot(x, y4, label = 'cubica')\n",
        "plt.legend()\n",
        "plt.title(\"Función cubica y logaritmica de un rango entre -2pi y 2pi \")\n",
        "plt.xlabel(\"eje X\")\n",
        "plt.ylabel(\"eje Y\")\n",
        "plt.show\n"
      ],
      "metadata": {
        "id": "Mj4AwPSXmkab"
      },
      "execution_count": null,
      "outputs": []
    },
    {
      "cell_type": "markdown",
      "metadata": {
        "id": "xZXU5eFAawOz"
      },
      "source": [
        "<font color='green'>Fin Actividad 2</font>\n",
        "\n",
        "\n"
      ]
    },
    {
      "cell_type": "markdown",
      "metadata": {
        "id": "jvjPFIZfawOz"
      },
      "source": [
        "# <font color='blue'>Gráficos de Torta (Pie Charts)</font>\n",
        "\n",
        "Los gráficos de torta presentan la información en formas de proporciones en un eje circular. Para poder hacer un gráfico de torta tenemos que utilizar el método `plt.pie()`, el cual solo recibe los valores de $X$. Automáticamente, el método `plt.pie` va a calcular las proporciones y vamos a ver más adelante que al momento de generar etiquetas, estas quedan en formato de porcentajes. Aparte de esto, vamos a ver diversas formas de manipular la estética de este tipo de gráfico.\n",
        "\n",
        "[Documentación Pie Charts](https://matplotlib.org/3.3.1/api/_as_gen/matplotlib.pyplot.pie.html)\n",
        "\n",
        "Ejemplos:\n"
      ]
    },
    {
      "cell_type": "code",
      "execution_count": null,
      "metadata": {
        "id": "mDH0IBZNawOz"
      },
      "outputs": [],
      "source": [
        "sizes = [15, 30, 45, 10] #Tenemos cuatro tamaños para distintos animales.\n",
        "\n",
        "plt.pie(sizes) # Llamamos el método del Pie Chart\n",
        "plt.show() #Mostramos el gráfico"
      ]
    },
    {
      "cell_type": "markdown",
      "metadata": {
        "id": "_trLZotYawOz"
      },
      "source": [
        "Agregando etiquetas, utilizando el parámetro `labels`  (la cantidad de etiquetas tiene que ser igual a la cantidad de elementos en $X$)"
      ]
    },
    {
      "cell_type": "code",
      "execution_count": null,
      "metadata": {
        "id": "-06VAeDgawOz"
      },
      "outputs": [],
      "source": [
        "labels = ['ranas', 'perros',\n",
        "          'gatos', 'serpientes']\n",
        "plt.pie(sizes, labels = labels)\n",
        "plt.show()"
      ]
    },
    {
      "cell_type": "markdown",
      "metadata": {
        "id": "5aFDq5iTawO0"
      },
      "source": [
        "Agregando las etiquetas de porcentajes se utiliza el parámetro `autopct` el cual recibe un `String`. A modo de ejemplo, utilizamos \"%.1f%%\" el cual está compuesto por\n",
        "\n",
        "- El primer \"%\" indica la transformación en porcentajes\n",
        "- .1f indica que se utilizara un dígito decimal\n",
        "- los últimos %% indican que imprima después de los dígitos el caracter \"%\".\n"
      ]
    },
    {
      "cell_type": "code",
      "execution_count": null,
      "metadata": {
        "id": "KJ5TFGcwawO0"
      },
      "outputs": [],
      "source": [
        "plt.pie(sizes, labels=labels,\n",
        "        autopct='%.1f%%')\n",
        "plt.show()"
      ]
    },
    {
      "cell_type": "markdown",
      "metadata": {
        "id": "aQnvEpHeawO0"
      },
      "source": [
        "Finalmente, y a modo de ejemplo, podemos manipular una o más porciones del gráfico de torta, separándolo del resto de las porciones, para eso tenemos que utilizar el parámetro `explode`.  Este parámetro recibe una lista la cual contiene un porcentaje de separación desde el centro de la torta."
      ]
    },
    {
      "cell_type": "code",
      "execution_count": null,
      "metadata": {
        "id": "o22MHmVWawO0"
      },
      "outputs": [],
      "source": [
        "explode = [0, 1, 0, 0]\n",
        "plt.pie(sizes, labels = labels,\n",
        "        autopct = '%1.1f%%',\n",
        "        explode = explode)\n",
        "plt.show()"
      ]
    },
    {
      "cell_type": "markdown",
      "metadata": {
        "id": "NjZ282_eawO0"
      },
      "source": [
        "# <font color='blue'>Gráficos de Barra (Bar charts)</font>\n",
        "\n",
        "El gráfico de barras nos permite proyectar valores asociados a variables categóricas, en longitudes verticales u horizontales. Para realizar gráficos de barras en matplotlib, necesitamos utilizar el método `plt.bar`. Al igual que `plt.plot`, el método utilizado para los gráficos de barra reciben valores $X$ e $Y$.\n",
        "\n",
        "[Documentación de gráficos de barra](https://matplotlib.org/3.3.1/api/_as_gen/matplotlib.pyplot.bar.html?highlight=bar#matplotlib.pyplot.bar)\n",
        "\n",
        "Veamos un ejemplo del promedio de puntajes en una prueba, para 5 grupos dividiendo en cada grupo entre hombres y mujeres:\n"
      ]
    },
    {
      "cell_type": "code",
      "execution_count": null,
      "metadata": {
        "id": "lrpduRI7awO0"
      },
      "outputs": [],
      "source": [
        "labels = ['G1', 'G2', 'G3', 'G4', 'G5'] # Las etiquetas, basicamente Grupo 1, Grupo 2, ..., Grupo 5\n",
        "men_means = [20, 34, 30, 35, 27] # Los promedios de puntajes obtenidos para los hombres en cada grupo\n",
        "women_means = [25, 32, 34, 29, 35] # Los promedios de puntajes obtenidos para las mujeres en cada grupo\n",
        "x = np.arange(len(labels))  # Generaremos nuestro eje X, utilizando el método np.arange, según el largo de la etiqueta."
      ]
    },
    {
      "cell_type": "code",
      "execution_count": null,
      "metadata": {
        "id": "KcyOQzlMawO0"
      },
      "outputs": [],
      "source": [
        "# Aquí graficamos el promedio de puntajes de los hombres para los distintos grupos.\n",
        "plt.bar(x, men_means) # Luego es tan simple como llamar plt.bar(x,y)\n",
        "plt.show() # mostramos la figura"
      ]
    },
    {
      "cell_type": "markdown",
      "metadata": {
        "id": "jnsSdrMSawO0"
      },
      "source": [
        "Podemos manipular el mismo gráfico, modificando los anchos de las barras utilizando el parámetro `width` (el cual por defecto es 0.7). Aquí lo cambiaremos a la mitad (0.35):"
      ]
    },
    {
      "cell_type": "code",
      "execution_count": null,
      "metadata": {
        "id": "Hg4WtP-8awO1"
      },
      "outputs": [],
      "source": [
        "width = 0.35\n",
        "rects1 = plt.bar(x, men_means,  # Nota como ordenamos hacia abajo los parámetros\n",
        "                 width=width)\n",
        "plt.show()"
      ]
    },
    {
      "cell_type": "markdown",
      "metadata": {
        "id": "lZJ-MpYEawO1"
      },
      "source": [
        "¿Qué pasaría si quisiésemos pintar los promedios de los hombres y las mujeres en el mismo gráfico?\n",
        "\n",
        "Hagamos la prueba utilizando la misma lógica al pintar múltiples líneas con `plt.plot`:\n"
      ]
    },
    {
      "cell_type": "code",
      "execution_count": null,
      "metadata": {
        "id": "UWPgnRrCawO1"
      },
      "outputs": [],
      "source": [
        "# Barras para los promedios de los hombres utilizando width declarado anteriormente\n",
        "rects1 = plt.bar(x, men_means, width, label='Men')\n",
        "# Barras para los promedios de las mujeres utilizando width declarado anteriormente\n",
        "rects2 = plt.bar(x, women_means, width, label='Women')"
      ]
    },
    {
      "cell_type": "markdown",
      "metadata": {
        "id": "6FUKUx2QawO1"
      },
      "source": [
        "**¿Qué fue lo que paso?**\n",
        "\n",
        "Sucede que el valor de $X$ es el mismo para las barras de los hombres como de las mujeres. Para poder añadir las barras lado a lado, tenemos que modificar levemente la variable $X$. Específicamente, vamos a realizar lo siguiente:\n",
        "\n",
        "$$X_{men} = x - \\frac{width}{2} $$\n",
        "$$X_{women} = x + \\frac{width}{2} $$\n"
      ]
    },
    {
      "cell_type": "code",
      "execution_count": null,
      "metadata": {
        "id": "xb2EUCakawO1"
      },
      "outputs": [],
      "source": [
        "rects1 = plt.bar(x - width/2, men_means, width)\n",
        "rects2 = plt.bar(x + width/2, women_means, width)"
      ]
    },
    {
      "cell_type": "markdown",
      "metadata": {
        "id": "vcjTA8k9awO1"
      },
      "source": [
        "**¿Cómo sería si tuviésemos más de dos barras, que tendría que cambiar en las ecuaciones para poder modificar los valores de $X$?**"
      ]
    },
    {
      "cell_type": "markdown",
      "metadata": {
        "id": "yurC0CIdawO1"
      },
      "source": [
        "Una alternativa a los gráficos de barras proyectados lado a lado, son los gráficos de barras apilados. Para hacer esto, solo tenemos que pasar el parámetro `bottom` el cual corresponde a una lista, y nos permite modificar el origen de la barra a pintar."
      ]
    },
    {
      "cell_type": "code",
      "execution_count": null,
      "metadata": {
        "id": "pRGEfXZNawO1"
      },
      "outputs": [],
      "source": [
        "rects1 = plt.bar(x, men_means, width)\n",
        "# En este caso, solo lo hacemos para la segunda barra, y que estas partan desde los valores de men_means\n",
        "rects2 = plt.bar(x, women_means, width, bottom=men_means)"
      ]
    },
    {
      "cell_type": "markdown",
      "metadata": {
        "id": "XWehIpMsawO1"
      },
      "source": [
        "Finalmente, podemos añadir la legenda utilizando cualquiera de los dos métodos vistos anteriormente"
      ]
    },
    {
      "cell_type": "code",
      "execution_count": null,
      "metadata": {
        "id": "ejII97mtawO2"
      },
      "outputs": [],
      "source": [
        "rects1 = plt.bar(x - width/2, men_means, width)\n",
        "rects2 = plt.bar(x + width/2, women_means, width)\n",
        "plt.legend([\"men\",\"women\"])\n",
        "plt.show()"
      ]
    },
    {
      "cell_type": "markdown",
      "metadata": {
        "id": "jYhrE5eyawO2"
      },
      "source": [
        "Como podrán haber visto, el eje X de nuestro gráfico tiene valores numéricos (debido a que la variable `x = np.arange(len(labels))`). Nosotros podemos modificar esto, utilizando el método `plt.xticks()`, el cual recibe los valores de $X$, y luego etiquetas a mostrar para dichos valores de $X$.\n",
        "\n",
        "A su vez, vamos a completar el gráfico modificando el título, y la etiqueta del eje Y. Para este último, utilizaremos el método `plt.ylabel()`\n"
      ]
    },
    {
      "cell_type": "code",
      "execution_count": null,
      "metadata": {
        "id": "XlP1fmjFawO2"
      },
      "outputs": [],
      "source": [
        "rects1 = plt.bar(x - width/2, men_means, width)\n",
        "rects2 = plt.bar(x + width/2, women_means, width)\n",
        "plt.legend([\"men\",\"women\"])\n",
        "\n",
        "plt.ylabel('Scores')\n",
        "plt.title('Scores by group and gender')\n",
        "plt.xticks(x,labels)\n",
        "\n",
        "plt.show()"
      ]
    },
    {
      "cell_type": "markdown",
      "metadata": {
        "id": "0g8VwQXIawO2"
      },
      "source": [
        "# <font color='blue'>Histogramas</font>\n",
        "\n",
        "Los histogramas son un caso específico de los gráficos de barras. Las diferencias entre los gráficos de barras y los histogramas, es que los primeros se utilizan para datos categóricos, mientras que los últimos para variables continuas. Los histogramas muestran una aproximación a la distribución de datos numéricos. Para este tipo de gráfico se generan las \"cajas\" (o \"bins\" en inglés) las cuales dividen todo el rango de posibles valores, en series de intervalos. Luego estos intervalos se llenan contando la cantidad de valores que están en dicho intervalo.\n",
        "\n",
        "Para generar un histograma, necesitamos utilizar el método `plt.hist()`. Dicho método necesita como entrada los datos $X$, y un número de \"bins\" que se van a utilizar. Si este último número no especifica, entonces `plt.hist` generara por defecto 10 \"bins\".\n",
        "\n",
        "[Documentación Histogramas](https://matplotlib.org/3.3.1/api/_as_gen/matplotlib.pyplot.hist.html)\n",
        "\n"
      ]
    },
    {
      "cell_type": "code",
      "execution_count": null,
      "metadata": {
        "id": "WPm7lI0bawO2"
      },
      "outputs": [],
      "source": [
        "k= int(np.ceil(1+ np.log2(3.3)))\n",
        "np.random.seed(42) # Fijamos la semilla aleatorea\n",
        "\n",
        "mu = 100 #Definimos el parametro Mu\n",
        "sigma = 25 # Definimos el parametro Sigma\n",
        "X = np.random.normal(mu, sigma, 500) # Obtenemos 500 puntos de una distribución Normal con mu = 100 y sigma = 25\n",
        "\n",
        "num_bins = 50 # Definimos la cantidad de cajas para nuestro histograma\n",
        "n, bins, patches = plt.hist(X, num_bins)"
      ]
    },
    {
      "cell_type": "code",
      "source": [],
      "metadata": {
        "id": "FrASCyrEjaSQ"
      },
      "execution_count": null,
      "outputs": []
    },
    {
      "cell_type": "markdown",
      "metadata": {
        "id": "_7Wcd2JbawO2"
      },
      "source": [
        "## <font color='blue'>Tablas de contingencia</font>\n",
        "\n",
        "El método `pd.crosstab` nos permitirá realizar tablas de contingencia pasando como argumentos las series o arreglos donde tendremos nuestros datos categóricos. Por defecto, realizará el conteo de la co-ocurrencia de las variables categóricas, pero se pueden utilizar otras funciones de agregación\n",
        "```python\n",
        "pd.crosstab(serie1, serie2)\n",
        "```\n",
        "\n",
        "[Documentación crosstab](https://pandas.pydata.org/pandas-docs/stable/reference/api/pandas.crosstab.html)\n",
        "\n",
        "Ejemplo en el cual se va a guardar una tabla de contingencia en la variable `contigency`:\n",
        "\n"
      ]
    },
    {
      "cell_type": "code",
      "execution_count": null,
      "metadata": {
        "id": "y_5eUv7A3lFY"
      },
      "outputs": [],
      "source": [
        "import matplotlib.pyplot as plt\n",
        "import pandas as pd\n",
        "import numpy as np\n",
        "%matplotlib inline"
      ]
    },
    {
      "cell_type": "code",
      "execution_count": null,
      "metadata": {
        "id": "uNg_uH-RawO2"
      },
      "outputs": [],
      "source": [
        "var1 = ['a', 'a', 'c', 'c', 'b', 'b', 'a', 'a', 'c', 'b']\n",
        "var2 = ['d', 'e', 'f', 'd', 'e', 'f', 'd', 'f', 'e', 'e']\n",
        "\n",
        "contingency = pd.crosstab(pd.Series(var1),\n",
        "                          pd.Series(var2),\n",
        "                          rownames=[\"var1\"],\n",
        "                          colnames=[\"var2\"])\n",
        "contingency"
      ]
    },
    {
      "cell_type": "markdown",
      "metadata": {
        "id": "b7k8bEaEawO2"
      },
      "source": [
        "# <font color='blue'>Mapas de calor (Heatmap)</font>\n",
        "\n",
        "Una forma de visualizar tablas (como la anterior), corresponde a un mapa de calor. Esta visualización utiliza la intensidad de color para codificar los valores existentes en las tablas. En este caso, para poder realizar un mapa de calor utilizando matplotlib necesitamos invocar el método `plt.pcolormesh()`. Este recibe como argumento un arreglo bidimensional y nos devuelve un objeto artista, relacionado a nuestro mapa de calor.\n",
        "\n",
        "[Documentación pcolormesh](https://matplotlib.org/3.1.1/api/_as_gen/matplotlib.pyplot.pcolormesh.html)\n"
      ]
    },
    {
      "cell_type": "code",
      "execution_count": null,
      "metadata": {
        "id": "JEJkRoMMawO2"
      },
      "outputs": [],
      "source": [
        "z = contingency.values # Obtenemos una representación matricial de la matriz de contingencia\n",
        "heatmap = plt.pcolormesh(z) # Generamos el mapa de calor y guardamos el artista en la variable heatmap"
      ]
    },
    {
      "cell_type": "markdown",
      "metadata": {
        "id": "f43CqLiPABuu"
      },
      "source": [
        "Utilizaremos ahora el método `plt.colorbar` para añadir la barra de color a nuestro mapa de calor. Con esto podremos añadir la referencia para la escala de color, asociada a los valores pertenecientes a las tablas. Este método recibe el artista asociado al mapa de calor para extraer los valores de color y asociarlos en la barra.\n",
        "\n",
        "[Documentación colorbar](https://matplotlib.org/3.1.1/api/_as_gen/matplotlib.pyplot.colorbar.html?highlight=colorbar#matplotlib.pyplot.colorbar)\n"
      ]
    },
    {
      "cell_type": "code",
      "execution_count": null,
      "metadata": {
        "id": "zbZro094awO3"
      },
      "outputs": [],
      "source": [
        "heatmap = plt.pcolormesh(z) #Generamos el heatmap\n",
        "cbar = plt.colorbar(heatmap) # Añadimos la barra de color"
      ]
    },
    {
      "cell_type": "markdown",
      "metadata": {
        "id": "CTmTE_5rawO3"
      },
      "source": [
        "Aparte de añadir la barra de color, podemos añadir a los ejes, los valores que hacen referencia cada una de las coordenadas. En este caso, en el eje X vamos a tener las valores correspondientes a las columnas (d, e, f), y en el eje Y los valores relacionados a las filas (a, b, c). Para esto utilizamos el método visto en los gráficos de barras `plt.xticks` y `plt.yticks`"
      ]
    },
    {
      "cell_type": "code",
      "execution_count": null,
      "metadata": {
        "id": "i7acMqVSawO3"
      },
      "outputs": [],
      "source": [
        "heatmap = plt.pcolormesh(z)\n",
        "cbar = plt.colorbar(heatmap)\n",
        "plt.xticks([0, 1.5, 2.5], [\"d\", \"e\", \"f\"]) # CAMBIAR ALGUN VALOR\n",
        "plt.yticks([0.5, 1.5, 2.5], [\"a\", \"b\", \"c\"])\n",
        "plt.show()"
      ]
    },
    {
      "cell_type": "markdown",
      "metadata": {
        "id": "Fs_JHP9lawO3"
      },
      "source": [
        "Podemos añadir información, podemos utilizar el método `plt.text()`, el cual nos permitirá escribir texto en el heatmap. Este recibe 3 parámetros principales: coordenadas (X, Y) y el texto a pintar. En este caso, el texto lo vamos a sacar de la matrix `z[i, j]` (los valores obtenidos de la tabla de contingencia). Para poder pintar necesitaremos de los dos ciclos for, principalmente para escribir en los 9 cuadrados de los mapas de calor. Además de esto, añadiremos los títulos para el gráfico y los ejes X e Y.\n",
        "\n",
        "[Documentación plt.text](https://matplotlib.org/3.1.1/api/_as_gen/matplotlib.pyplot.text.html?highlight=pyplot%20text#matplotlib.pyplot.text)\n"
      ]
    },
    {
      "cell_type": "code",
      "execution_count": null,
      "metadata": {
        "id": "8KR9QxjLawO3"
      },
      "outputs": [],
      "source": [
        "heatmap = plt.pcolormesh(z)\n",
        "cbar = plt.colorbar(heatmap)\n",
        "plt.xticks([0.5, 1.5, 2.5], [\"d\", \"e\", \"f\"])\n",
        "plt.yticks([0.5, 1.5, 2.5], [\"a\", \"b\", \"c\"])\n",
        "for i in range(3):\n",
        "    for j in range(3):\n",
        "        text = plt.text(j + 0.5, i + 0.5, z[i, j], color=\"white\") # Probar sacando text\n",
        "plt.title(\"Tabla de contingencia\")\n",
        "plt.ylabel(\"var1\")\n",
        "plt.xlabel(\"var2\")\n",
        "plt.show()"
      ]
    },
    {
      "cell_type": "markdown",
      "metadata": {
        "id": "uEXRzy39awO3"
      },
      "source": [
        "# <font color='blue'>Manejo de marcadores y diagramas de dispersión</font>\n",
        "\n",
        "Para poder ver como varían los distintos posibles estilos de marcadores, utilizaremos un set de datos conocido. Este corresponde al set de datos de la flor de iris.\n",
        "\n",
        "[Documentación Estilos de Líneas y marcadores](https://matplotlib.org/gallery/lines_bars_and_markers/line_styles_reference.html)\n"
      ]
    },
    {
      "cell_type": "code",
      "execution_count": null,
      "metadata": {
        "id": "mzU5p3N60dIM"
      },
      "outputs": [],
      "source": [
        "# Montamos nuestro drive\n",
        "from google.colab import drive\n",
        "drive.mount('/content/drive')"
      ]
    },
    {
      "cell_type": "code",
      "execution_count": null,
      "metadata": {
        "id": "LUpG7_WmawO3"
      },
      "outputs": [],
      "source": [
        "\n",
        "\n",
        "iris_df = pd.read_csv(\"/content/sample_data/VD03.csv\")\n",
        "iris_df.drop([\"Id\"],inplace=True,axis=\"columns\")\n",
        "iris_df.sample(2)"
      ]
    },
    {
      "cell_type": "markdown",
      "metadata": {
        "id": "DJ7B5uS5awO3"
      },
      "source": [
        "Guardaremos las columnas numéricas en distintas variables"
      ]
    },
    {
      "cell_type": "code",
      "execution_count": null,
      "metadata": {
        "id": "61w9728MawO4"
      },
      "outputs": [],
      "source": [
        "sl = iris_df['SepalLengthCm'].values\n",
        "sw = iris_df['SepalWidthCm'].values\n",
        "pl = iris_df['PetalLengthCm'].values\n",
        "pw = iris_df['PetalWidthCm'].values"
      ]
    },
    {
      "cell_type": "markdown",
      "metadata": {
        "id": "fBF7GOJlawO4"
      },
      "source": [
        "Luego graficaremos el comportamiento de una de estas utilizando el método `plt.plot`. Al pasar solo el eje X, este lo interpretará, y graficará los valores como una serie desde el índice $0$, hasta `len(columna)`."
      ]
    },
    {
      "cell_type": "code",
      "execution_count": null,
      "metadata": {
        "id": "5lvNfor6awO4"
      },
      "outputs": [],
      "source": [
        "plt.plot(sl) # Por defecto esto no generara un diagrama de linea\n",
        "plt.show()"
      ]
    },
    {
      "cell_type": "markdown",
      "metadata": {
        "id": "PWFglW2NawO4"
      },
      "source": [
        "Si después de pasar los datos, agregamos un estilo definidos en la documentación (ejemplo: '--'), vamos a tener diagrama de línea punteado"
      ]
    },
    {
      "cell_type": "code",
      "execution_count": null,
      "metadata": {
        "id": "SfrlguLOawO4"
      },
      "outputs": [],
      "source": [
        "plt.plot(sl, \"--\")\n",
        "plt.show()"
      ]
    },
    {
      "cell_type": "markdown",
      "metadata": {
        "id": "k942Mc_JawO4"
      },
      "source": [
        "Ejemplo de otro estilo, punto y línea (\".-\"):"
      ]
    },
    {
      "cell_type": "code",
      "execution_count": null,
      "metadata": {
        "id": "gsdiqC0IawO4"
      },
      "outputs": [],
      "source": [
        "plt.plot(sl, \".-\")\n",
        "plt.show()"
      ]
    },
    {
      "cell_type": "markdown",
      "metadata": {
        "id": "A_IZpNYsawO4"
      },
      "source": [
        "Ahora si graficamos dos variables sin especificar el estilo vamos a obtener algo bastante interesante:"
      ]
    },
    {
      "cell_type": "code",
      "execution_count": null,
      "metadata": {
        "id": "e11bWOFiawO4"
      },
      "outputs": [],
      "source": [
        "plt.plot(sl, sw)\n",
        "plt.show()"
      ]
    },
    {
      "cell_type": "code",
      "source": [
        "plt.plot(sl[:10], sw[:10])\n",
        "plt.show()"
      ],
      "metadata": {
        "id": "esgEifli7_YZ"
      },
      "execution_count": null,
      "outputs": []
    },
    {
      "cell_type": "markdown",
      "metadata": {
        "id": "f_4NRoO_awO4"
      },
      "source": [
        "Para evitar esto, tenemos que definir nuevamente un estilo de marcador, como estamos en análisis bivariado, podemos utilizar un ...\n",
        "\n",
        "# <font color='blue'>Diagrama de dispersión</font>\n",
        "Utilizando el método `plt.plot` y definiendo como tercer argumento un estilo de marcador podemos generar nuestros diagramas de dispersión y ver cómo se comportan una variable con respecto a otra.\n",
        "\n",
        "[Marcadores](https://matplotlib.org/3.3.0/api/markers_api.html)\n"
      ]
    },
    {
      "cell_type": "code",
      "execution_count": null,
      "metadata": {
        "id": "C0XxJ8KnawO5"
      },
      "outputs": [],
      "source": [
        "plt.plot(sl, sw, 'o') # 'o' es igual a decir un círculo como marcador\n",
        "plt.show()"
      ]
    },
    {
      "cell_type": "markdown",
      "metadata": {
        "id": "iALGdPupawO5"
      },
      "source": [
        "Alternativamente podemos utilizar el método `plt.scatter()`:"
      ]
    },
    {
      "cell_type": "code",
      "execution_count": null,
      "metadata": {
        "id": "OEUWHqipawO5"
      },
      "outputs": [],
      "source": [
        "plt.scatter(sl, sw)\n",
        "plt.show()"
      ]
    },
    {
      "cell_type": "markdown",
      "metadata": {
        "id": "37WxA-MNawO5"
      },
      "source": [
        "Podemos añadir color utilizando el parámetro color:"
      ]
    },
    {
      "cell_type": "code",
      "execution_count": null,
      "metadata": {
        "id": "QOgsLaZeawO5"
      },
      "outputs": [],
      "source": [
        "plt.plot(sl, sw, '.', color=\"red\")\n",
        "plt.show()"
      ]
    },
    {
      "cell_type": "markdown",
      "metadata": {
        "id": "Il1PyKO0awO5"
      },
      "source": [
        "O en su defecto, al principio del marcador la inicial del color, seguido por el marcador (en este caso \"ro\" = \"red points\")"
      ]
    },
    {
      "cell_type": "code",
      "execution_count": null,
      "metadata": {
        "id": "PAtps0yVawO5"
      },
      "outputs": [],
      "source": [
        "plt.plot(sl, sw, 'ro')\n",
        "plt.show()"
      ]
    },
    {
      "cell_type": "markdown",
      "metadata": {
        "id": "o59BwWoKABu3"
      },
      "source": [
        "Si aplicamos al parámetro `alpha`, podemos darle transparencia a los puntos y observar, de mejor forma, el potencial solpamiento que tienen."
      ]
    },
    {
      "cell_type": "code",
      "execution_count": null,
      "metadata": {
        "id": "rrnMyYQMABu3"
      },
      "outputs": [],
      "source": [
        "plt.plot(sl, sw, 'ro', alpha=0.5)\n",
        "plt.show()"
      ]
    },
    {
      "cell_type": "markdown",
      "metadata": {
        "id": "V4nOKeaqawO5"
      },
      "source": [
        "Un último ejemplo: diamantes rojos"
      ]
    },
    {
      "cell_type": "code",
      "execution_count": null,
      "metadata": {
        "id": "0ciyJPBhawO5"
      },
      "outputs": [],
      "source": [
        "plt.plot(sl, sw,'rd')\n",
        "plt.show()"
      ]
    },
    {
      "cell_type": "markdown",
      "metadata": {
        "id": "4BnJ--4MawO5"
      },
      "source": [
        "# <font color='blue'>Matriz de correlación</font>\n",
        "\n",
        "Siguiendo con el análisis bivariado, podemos analizar la correlación existente entre variables. Esta correlación nos dará las dependencias lineales entre pares de variables. Para esto podemos programar nuestra propia función la cual compute lo siguiente:\n",
        "\n",
        "$$ \\rho_{X,Y} = \\frac{cov(X,Y)}{\\sigma_X\\sigma_Y}$$\n",
        "donde\n",
        "$$ cov(X,Y) = \\frac{\\sum (X-\\bar{X})(Y-\\bar{Y})}{N}$$\n",
        "\n",
        "es la Covarianza de $X$ e $Y$, y $\\sigma_X$ y $\\sigma_Y$ correspondena las desviaciones estándas de las variables.\n",
        "\n",
        "Entonces, la matriz de correlación va a ser una matriz simétrica, donde cada casilla consiste en la correlación de los posibles pares de variables dentro de nuestro set de datos. En este caso, tendríamos una matriz de $4x4$ si es que tomamos como ejemplo el set de datos de iris. Generaremos una matriz con Numpy inicializada en ceros.\n"
      ]
    },
    {
      "cell_type": "code",
      "execution_count": null,
      "metadata": {
        "id": "SyfZU9l_awO6"
      },
      "outputs": [],
      "source": [
        "corr = np.zeros((4,4))\n",
        "corr"
      ]
    },
    {
      "cell_type": "markdown",
      "metadata": {
        "id": "lRFpPgyXawO6"
      },
      "source": [
        "Luego, definiremos la función de correlación el cual va a recibir dos arreglos de Numpy, y luego computamos las fórmulas que mencionamos anteriormente. Además, como la matriz es simétrica solo vamos a llenar la diagonal superior de dicha matriz. Finalmente imprimimos la matriz."
      ]
    },
    {
      "cell_type": "code",
      "execution_count": null,
      "metadata": {
        "id": "u5Ag1MKZawO6"
      },
      "outputs": [],
      "source": [
        "def correlation(X,Y):\n",
        "    cov = np.sum((X - np.mean(X)) * (Y - np.mean(Y))) * 1/(len(Y))\n",
        "    correlation_value = cov / (np.std(X) * np.std(Y))\n",
        "    return correlation_value\n",
        "\n",
        "corr[0,0] = correlation(sl, sl)\n",
        "corr[0,1] = correlation(sl, sw)\n",
        "corr[0,2] = correlation(sl, pl)\n",
        "corr[0,3] = correlation(sl, pw)\n",
        "\n",
        "corr[1,1] = correlation(sw, sw)\n",
        "corr[1,2] = correlation(sw, pl)\n",
        "corr[1,3] = correlation(sw, pw)\n",
        "\n",
        "corr[2,2] = correlation(pl, pl)\n",
        "corr[2,3] = correlation(pl, pw)\n",
        "\n",
        "corr[3,3] = correlation(pw, pw)\n",
        "corr"
      ]
    },
    {
      "cell_type": "markdown",
      "metadata": {
        "id": "3308YSohawO6"
      },
      "source": [
        "Aprovechemos los mapas de calor y mostremos la matriz de correlación utilizando esta representación"
      ]
    },
    {
      "cell_type": "code",
      "execution_count": null,
      "metadata": {
        "id": "2fubVMjHawO6"
      },
      "outputs": [],
      "source": [
        "heatmap = plt.pcolormesh(corr)\n",
        "cbar = plt.colorbar(heatmap)\n",
        "\n",
        "columns = [\"SepalLengthCm\", \"SepalWidthCm\", \"PetalLengthCm\", \"PetalWidthCm\"]\n",
        "plt.xticks([0.5, 1.5, 2.5, 3.5], columns, rotation=45)\n",
        "plt.yticks([0.5, 1.5, 2.5, 3.5], columns)\n",
        "for i in range(4):\n",
        "    for j in range(4):\n",
        "        text = plt.text(j + 0.4, i + 0.4, corr[i, j].round(2), color=\"red\",)\n",
        "plt.title(\"Correlation matrix\")\n",
        "plt.ylabel(\"var1\")\n",
        "plt.xlabel(\"var2\")\n",
        "plt.show()"
      ]
    },
    {
      "cell_type": "markdown",
      "metadata": {
        "id": "Rwyt-iDbawO6"
      },
      "source": [
        "Alternativamente y de forma mucho más sencilla, si tenemos un DataFrame podemos utilizar el método `.corr()` para obtener un nuevo DataFrame. Este DataFrame va a tener la matriz de correlación:"
      ]
    },
    {
      "cell_type": "code",
      "execution_count": null,
      "metadata": {
        "id": "22yTwlcyawO7"
      },
      "outputs": [],
      "source": [
        "corr = iris_df.drop(columns=['Species']).corr().values\n",
        "corr"
      ]
    },
    {
      "cell_type": "markdown",
      "metadata": {
        "id": "MXUGMOQXawO7"
      },
      "source": [
        "Luego podemos graficar utilizando un heatmap"
      ]
    },
    {
      "cell_type": "code",
      "execution_count": null,
      "metadata": {
        "id": "3mDVpIxOawO7"
      },
      "outputs": [],
      "source": [
        "heatmap = plt.pcolormesh(corr)\n",
        "cbar = plt.colorbar(heatmap)\n",
        "\n",
        "columns = [\"SepalLengthCm\", \"SepalWidthCm\", \"PetalLengthCm\", \"PetalWidthCm\"]\n",
        "plt.xticks([0.5, 1.5, 2.5, 3.5], columns, rotation=45)\n",
        "plt.yticks([0.5, 1.5, 2.5, 3.5], columns)\n",
        "plt.title(\"Correlation matrix\")\n",
        "plt.ylabel(\"var1\")\n",
        "plt.xlabel(\"var2\")\n",
        "plt.show()"
      ]
    },
    {
      "cell_type": "markdown",
      "metadata": {
        "id": "GdZkfTUtawO7"
      },
      "source": [
        "Añadimos títulos, nombres de variables y texto a cada casilla del mapa de calor"
      ]
    },
    {
      "cell_type": "code",
      "execution_count": null,
      "metadata": {
        "id": "mUmDCnJ7awO8"
      },
      "outputs": [],
      "source": [
        "heatmap = plt.pcolormesh(corr)\n",
        "cbar = plt.colorbar(heatmap)\n",
        "\n",
        "columns = [\"SepalLengthCm\", \"SepalWidthCm\", \"PetalLengthCm\", \"PetalWidthCm\"]\n",
        "plt.xticks([0.5, 1.5, 2.5, 3.5], columns, rotation=45)\n",
        "plt.yticks([0.5, 1.5, 2.5, 3.5], columns)\n",
        "for i in range(4):\n",
        "    for j in range(4):\n",
        "        text = plt.text(j + 0.4, i + 0.4, corr[i, j].round(2), color=\"red\",)\n",
        "plt.title(\"Correlation matrix\")\n",
        "plt.ylabel(\"var1\")\n",
        "plt.xlabel(\"var2\")\n",
        "plt.show()"
      ]
    },
    {
      "cell_type": "markdown",
      "metadata": {
        "id": "rFjrnT_GawO8"
      },
      "source": [
        "# <font color='blue'>Guardar la figura</font>\n",
        "\n",
        "Para poder guardar una figura, podemos utilizar el método `plt.savefig()`. Este como primer argumento recibirá el nombre del archivo que nosotros queremos guardar. En este caso, vamos a guardar la matriz de correlación generada en el archivo `\"Correlation_matrix.png\"`\n"
      ]
    },
    {
      "cell_type": "code",
      "execution_count": null,
      "metadata": {
        "id": "86bnSFCpawO8"
      },
      "outputs": [],
      "source": [
        "heatmap = plt.pcolormesh(corr)\n",
        "cbar = plt.colorbar(heatmap)\n",
        "\n",
        "columns = [\"SepalLengthCm\", \"SepalWidthCm\", \"PetalLengthCm\", \"PetalWidthCm\"]\n",
        "plt.xticks([0.5, 1.5, 2.5, 3.5], columns, rotation=45)\n",
        "plt.yticks([0.5, 1.5, 2.5, 3.5], columns)\n",
        "for i in range(4):\n",
        "    for j in range(4):\n",
        "        text = plt.text(j + 0.4, i + 0.4, corr[i, j].round(2), color=\"red\",)\n",
        "plt.title(\"Correlation matrix\")\n",
        "plt.ylabel(\"var1\")\n",
        "plt.xlabel(\"var2\")\n",
        "plt.savefig(\"Correlation_matrix.png\")\n",
        "plt.show()"
      ]
    },
    {
      "cell_type": "code",
      "source": [],
      "metadata": {
        "id": "QYik7U8-pQW8"
      },
      "execution_count": null,
      "outputs": []
    }
  ],
  "metadata": {
    "colab": {
      "provenance": [],
      "include_colab_link": true
    },
    "kernelspec": {
      "display_name": "Python 3 (ipykernel)",
      "language": "python",
      "name": "python3"
    },
    "language_info": {
      "codemirror_mode": {
        "name": "ipython",
        "version": 3
      },
      "file_extension": ".py",
      "mimetype": "text/x-python",
      "name": "python",
      "nbconvert_exporter": "python",
      "pygments_lexer": "ipython3",
      "version": "3.8.11"
    }
  },
  "nbformat": 4,
  "nbformat_minor": 0
}