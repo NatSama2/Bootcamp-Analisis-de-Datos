{
  "cells": [
    {
      "cell_type": "markdown",
      "metadata": {
        "id": "view-in-github",
        "colab_type": "text"
      },
      "source": [
        "<a href=\"https://colab.research.google.com/github/NatSama2/Bootcamp-Analisis-de-Datos/blob/main/Modulo-4/analisis_datos_valores_perdidos_outliers.ipynb\" target=\"_parent\"><img src=\"https://colab.research.google.com/assets/colab-badge.svg\" alt=\"Open In Colab\"/></a>"
      ]
    },
    {
      "cell_type": "markdown",
      "id": "3c0cc8b4",
      "metadata": {
        "id": "3c0cc8b4"
      },
      "source": [
        "# 📘 Análisis de Datos: Valores Faltantes y Outliers\n",
        "\n",
        "Este notebook explora conceptos fundamentales para el análisis de datos, incluyendo la detección y tratamiento de valores faltantes y valores atípicos (outliers).\n"
      ]
    },
    {
      "cell_type": "markdown",
      "id": "d6183e2a",
      "metadata": {
        "id": "d6183e2a"
      },
      "source": [
        "## 1. Introducción al análisis de datos\n",
        "\n",
        "El análisis de datos es una herramienta clave en la toma de decisiones dentro de una organización. Permite extraer información útil, descubrir patrones y respaldar decisiones estratégicas.\n",
        "\n",
        "**Problemas comunes:**\n",
        "- Valores faltantes\n",
        "- Datos incorrectos o inconsistentes\n",
        "- Outliers (valores atípicos)\n"
      ]
    },
    {
      "cell_type": "markdown",
      "id": "8a9a3daf",
      "metadata": {
        "id": "8a9a3daf"
      },
      "source": [
        "## 2. Valores Perdidos\n",
        "\n",
        "### ¿Qué son?\n",
        "Observaciones sin información en una o varias variables, generadas por errores en la recolección, almacenamiento o captura de datos.\n"
      ]
    },
    {
      "cell_type": "markdown",
      "id": "f7527bf2",
      "metadata": {
        "id": "f7527bf2"
      },
      "source": [
        "### 2.1 Identificación de valores perdidos"
      ]
    },
    {
      "cell_type": "code",
      "execution_count": null,
      "id": "14a216ee",
      "metadata": {
        "id": "14a216ee"
      },
      "outputs": [],
      "source": [
        "import pandas as pd\n",
        "import seaborn as sns\n",
        "import matplotlib.pyplot as plt\n",
        "\n",
        "# Cargar dataset de ejemplo\n",
        "df = sns.load_dataset('titanic')\n",
        "\n",
        "# Resumen general\n",
        "df.info()\n",
        "\n",
        "# Cantidad de valores nulos por columna\n",
        "print(df.isnull().sum())\n",
        "\n",
        "# Visualización con heatmap\n",
        "sns.heatmap(df.isnull(), cbar=False, cmap='viridis')\n",
        "plt.title(\"Mapa de valores faltantes\")\n",
        "plt.show()\n"
      ]
    },
    {
      "cell_type": "markdown",
      "id": "92d969d9",
      "metadata": {
        "id": "92d969d9"
      },
      "source": [
        "### 2.2 Filtrado de valores perdidos"
      ]
    },
    {
      "cell_type": "code",
      "execution_count": null,
      "id": "5b32d410",
      "metadata": {
        "id": "5b32d410"
      },
      "outputs": [],
      "source": [
        "# Eliminar filas con valores faltantes\n",
        "df_dropna = df.dropna()\n",
        "\n",
        "# Eliminar columnas con demasiados valores nulos\n",
        "df_thresh = df.dropna(axis=1, thresh=500)\n",
        "\n",
        "df_dropna.head()"
      ]
    },
    {
      "cell_type": "markdown",
      "id": "1bd16b2a",
      "metadata": {
        "id": "1bd16b2a"
      },
      "source": [
        "### 2.3 Imputación de valores perdidos"
      ]
    },
    {
      "cell_type": "code",
      "execution_count": null,
      "id": "1cd7fcfe",
      "metadata": {
        "id": "1cd7fcfe"
      },
      "outputs": [],
      "source": [
        "# Imputación numérica con la media\n",
        "df['age'] = df['age'].fillna(df['age'].mean())\n",
        "\n",
        "# Imputación categórica con la moda\n",
        "df['embarked'] = df['embarked'].fillna(df['embarked'].mode()[0])\n",
        "\n",
        "df[['age', 'embarked']].isnull().sum()"
      ]
    },
    {
      "cell_type": "markdown",
      "id": "f38f2072",
      "metadata": {
        "id": "f38f2072"
      },
      "source": [
        "## 3. Outliers o Valores Atípicos\n",
        "\n",
        "### ¿Qué son?\n",
        "Valores que están significativamente alejados del resto de los datos y pueden afectar el análisis.\n"
      ]
    },
    {
      "cell_type": "markdown",
      "id": "04632810",
      "metadata": {
        "id": "04632810"
      },
      "source": [
        "### 3.1 Detección de Outliers"
      ]
    },
    {
      "cell_type": "code",
      "execution_count": null,
      "id": "aee5421f",
      "metadata": {
        "id": "aee5421f"
      },
      "outputs": [],
      "source": [
        "# Boxplot para detectar outliers\n",
        "sns.boxplot(x=df['fare'])\n",
        "plt.title(\"Boxplot de tarifas (fare)\")\n",
        "plt.show()"
      ]
    },
    {
      "cell_type": "code",
      "execution_count": null,
      "id": "af2d9788",
      "metadata": {
        "id": "af2d9788"
      },
      "outputs": [],
      "source": [
        "# Método IQR\n",
        "Q1 = df['fare'].quantile(0.25)\n",
        "Q3 = df['fare'].quantile(0.75)\n",
        "IQR = Q3 - Q1\n",
        "\n",
        "lim_inf = Q1 - 1.5 * IQR\n",
        "lim_sup = Q3 + 1.5 * IQR\n",
        "\n",
        "outliers = df[(df['fare'] < lim_inf) | (df['fare'] > lim_sup)]\n",
        "print(f\"Número de outliers: {outliers.shape[0]}\")\n"
      ]
    },
    {
      "cell_type": "markdown",
      "id": "f79d0978",
      "metadata": {
        "id": "f79d0978"
      },
      "source": [
        "### 3.2 Tratamiento de Outliers"
      ]
    },
    {
      "cell_type": "code",
      "execution_count": null,
      "id": "8d9d6a61",
      "metadata": {
        "id": "8d9d6a61"
      },
      "outputs": [],
      "source": [
        "# Opción 1: Eliminarlos\n",
        "df_no_outliers = df[(df['fare'] >= lim_inf) & (df['fare'] <= lim_sup)]\n",
        "\n",
        "# Opción 2: Reemplazarlos\n",
        "df['fare'] = df['fare'].apply(lambda x: df['fare'].median() if x > lim_sup else x)"
      ]
    },
    {
      "cell_type": "markdown",
      "id": "ed3f448a",
      "metadata": {
        "id": "ed3f448a"
      },
      "source": [
        "## 4. Ejercicios\n",
        "\n",
        "1. Cargar el dataset `penguins` de seaborn y detectar valores perdidos.\n",
        "2. Imputar la edad faltante del dataset Titanic con la mediana.\n",
        "3. Eliminar outliers de la columna `fare` usando el método IQR.\n"
      ]
    }
  ],
  "metadata": {
    "colab": {
      "provenance": [],
      "include_colab_link": true
    }
  },
  "nbformat": 4,
  "nbformat_minor": 5
}