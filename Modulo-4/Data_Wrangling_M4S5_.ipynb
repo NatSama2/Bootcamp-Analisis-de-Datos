{
  "cells": [
    {
      "cell_type": "markdown",
      "metadata": {
        "id": "view-in-github",
        "colab_type": "text"
      },
      "source": [
        "<a href=\"https://colab.research.google.com/github/NatSama2/Bootcamp-Analisis-de-Datos/blob/main/Modulo-4/Data_Wrangling_M4S5_.ipynb\" target=\"_parent\"><img src=\"https://colab.research.google.com/assets/colab-badge.svg\" alt=\"Open In Colab\"/></a>"
      ]
    },
    {
      "cell_type": "markdown",
      "id": "5667347a",
      "metadata": {
        "id": "5667347a"
      },
      "source": [
        "\n",
        "# Fundamentos de Análisis de Datos – Módulo 4 Sesión 05\n",
        "## Data Wrangling con Python y Pandas\n",
        "\n",
        "En esta clase trabajaremos con conceptos y técnicas fundamentales para la limpieza, transformación y organización de datos. Utilizaremos `pandas` y `numpy` en Python, y se presentarán tanto ejemplos resueltos como ejercicios prácticos.\n",
        "\n",
        "---\n"
      ]
    },
    {
      "cell_type": "code",
      "execution_count": null,
      "id": "06280047",
      "metadata": {
        "id": "06280047"
      },
      "outputs": [],
      "source": [
        "\n",
        "import pandas as pd\n",
        "import numpy as np\n"
      ]
    },
    {
      "cell_type": "markdown",
      "id": "f953dcc2",
      "metadata": {
        "id": "f953dcc2"
      },
      "source": [
        "\n",
        "## ¿Qué es Data Wrangling?\n",
        "Proceso de limpiar, transformar y estructurar datos para análisis.\n",
        "\n",
        "### Tareas principales:\n",
        "- Eliminación de errores y duplicados\n",
        "- Reemplazo de valores faltantes\n",
        "- Transformación de estructuras\n",
        "- Enriquecimiento de datos\n"
      ]
    },
    {
      "cell_type": "markdown",
      "id": "ae830a86",
      "metadata": {
        "id": "ae830a86"
      },
      "source": [
        "## Muestreo aleatorio y permutación"
      ]
    },
    {
      "cell_type": "code",
      "execution_count": null,
      "id": "7d8f40b7",
      "metadata": {
        "id": "7d8f40b7"
      },
      "outputs": [],
      "source": [
        "\n",
        "# Creamos un DataFrame de ejemplo\n",
        "df = pd.DataFrame({\n",
        "    'Cliente': ['A', 'B', 'C', 'D', 'E'],\n",
        "    'Ventas': [100, 200, 150, 300, 250]\n",
        "})\n",
        "\n",
        "# Muestreo aleatorio\n",
        "df_sample = df.sample(frac=0.6, random_state=1)\n",
        "print(\"Muestreo aleatorio:\")\n",
        "print(df_sample)\n",
        "\n",
        "# Permutación (shuffle)\n",
        "df_shuffled = df.sample(frac=1).reset_index(drop=True)\n",
        "print(\"\\nDatos permutados:\")\n",
        "print(df_shuffled)\n"
      ]
    },
    {
      "cell_type": "markdown",
      "id": "2548427d",
      "metadata": {
        "id": "2548427d"
      },
      "source": [
        "## Ejemplos resueltos de Data Wrangling\n"
      ]
    },
    {
      "cell_type": "markdown",
      "id": "5b42d40c",
      "metadata": {
        "id": "5b42d40c"
      },
      "source": [
        "### Ejemplo: Ordenar datos por una columna"
      ]
    },
    {
      "cell_type": "code",
      "execution_count": null,
      "id": "60062f75",
      "metadata": {
        "id": "60062f75"
      },
      "outputs": [],
      "source": [
        "\n",
        "df.sort_values(by='Ventas', ascending=False)\n"
      ]
    },
    {
      "cell_type": "markdown",
      "id": "42ab71e6",
      "metadata": {
        "id": "42ab71e6"
      },
      "source": [
        "### Ejemplo: Eliminar registros duplicados"
      ]
    },
    {
      "cell_type": "code",
      "execution_count": null,
      "id": "f50188fc",
      "metadata": {
        "id": "f50188fc"
      },
      "outputs": [],
      "source": [
        "\n",
        "df_duplicates = pd.DataFrame({\n",
        "    'ID': [1, 2, 2, 3],\n",
        "    'Nombre': ['Ana', 'Luis', 'Luis', 'Carlos']\n",
        "})\n",
        "df_duplicates.drop_duplicates()\n"
      ]
    },
    {
      "cell_type": "markdown",
      "id": "5e055f73",
      "metadata": {
        "id": "5e055f73"
      },
      "source": [
        "### Ejemplo: Reemplazar valores nulos con la media"
      ]
    },
    {
      "cell_type": "code",
      "execution_count": null,
      "id": "2a384b91",
      "metadata": {
        "id": "2a384b91"
      },
      "outputs": [],
      "source": [
        "\n",
        "df_nulls = pd.DataFrame({\n",
        "    'Edad': [25, np.nan, 30, np.nan, 22]\n",
        "})\n",
        "df_nulls['Edad'].fillna(df_nulls['Edad'].mean())\n"
      ]
    },
    {
      "cell_type": "markdown",
      "id": "0d51cda9",
      "metadata": {
        "id": "0d51cda9"
      },
      "source": [
        "### Ejemplo: Crear columna categórica a partir de edad"
      ]
    },
    {
      "cell_type": "code",
      "execution_count": null,
      "id": "a7a34808",
      "metadata": {
        "id": "a7a34808"
      },
      "outputs": [],
      "source": [
        "\n",
        "df_edad = pd.DataFrame({'Edad': [15, 22, 37, 45, 67]})\n",
        "df_edad['Grupo'] = pd.cut(df_edad['Edad'], bins=[0, 18, 35, 60, 100], labels=['Adolescente', 'Joven', 'Adulto', 'Mayor'])\n",
        "df_edad\n"
      ]
    },
    {
      "cell_type": "markdown",
      "id": "e211055a",
      "metadata": {
        "id": "e211055a"
      },
      "source": [
        "### Ejemplo: Aplicar una función a una columna"
      ]
    },
    {
      "cell_type": "code",
      "execution_count": null,
      "id": "2347233b",
      "metadata": {
        "id": "2347233b"
      },
      "outputs": [],
      "source": [
        "\n",
        "df['Ventas_con_IVA'] = df['Ventas'].apply(lambda x: x * 1.19)\n"
      ]
    },
    {
      "cell_type": "markdown",
      "id": "7a43dafa",
      "metadata": {
        "id": "7a43dafa"
      },
      "source": [
        "### Ejemplo: Agregar columna calculada"
      ]
    },
    {
      "cell_type": "code",
      "execution_count": null,
      "id": "6a051ca4",
      "metadata": {
        "id": "6a051ca4"
      },
      "outputs": [],
      "source": [
        "\n",
        "df['Costo'] = [60, 100, 90, 200, 170]\n",
        "df['Ganancia'] = df['Ventas'] - df['Costo']\n"
      ]
    },
    {
      "cell_type": "markdown",
      "id": "6d198aff",
      "metadata": {
        "id": "6d198aff"
      },
      "source": [
        "### Ejemplo: Renombrar columnas"
      ]
    },
    {
      "cell_type": "code",
      "execution_count": null,
      "id": "a220d28e",
      "metadata": {
        "id": "a220d28e"
      },
      "outputs": [],
      "source": [
        "\n",
        "df.rename(columns={'Cliente': 'NombreCliente', 'Ventas': 'MontoVentas'})\n"
      ]
    },
    {
      "cell_type": "markdown",
      "id": "8a50d5cc",
      "metadata": {
        "id": "8a50d5cc"
      },
      "source": [
        "### Ejemplo: Resetear el índice"
      ]
    },
    {
      "cell_type": "code",
      "execution_count": null,
      "id": "a48ed54a",
      "metadata": {
        "id": "a48ed54a"
      },
      "outputs": [],
      "source": [
        "\n",
        "df_reset = df.set_index('Cliente')\n",
        "df_reset.reset_index()\n"
      ]
    },
    {
      "cell_type": "markdown",
      "id": "737f1b73",
      "metadata": {
        "id": "737f1b73"
      },
      "source": [
        "### Ejemplo: Filtrar filas por condición"
      ]
    },
    {
      "cell_type": "code",
      "execution_count": null,
      "id": "703898ec",
      "metadata": {
        "id": "703898ec"
      },
      "outputs": [],
      "source": [
        "\n",
        "df[df['Ventas'] > 200]\n"
      ]
    },
    {
      "cell_type": "markdown",
      "id": "0a22aa68",
      "metadata": {
        "id": "0a22aa68"
      },
      "source": [
        "### Ejemplo: Reemplazar valores específicos"
      ]
    },
    {
      "cell_type": "code",
      "execution_count": null,
      "id": "9ef5f151",
      "metadata": {
        "id": "9ef5f151"
      },
      "outputs": [],
      "source": [
        "\n",
        "df['Cliente'].replace({'A': 'Alfa', 'B': 'Beta'})\n"
      ]
    },
    {
      "cell_type": "markdown",
      "id": "96d0ffa5",
      "metadata": {
        "id": "96d0ffa5"
      },
      "source": [
        "### Ejemplo: Convertir tipo de columna"
      ]
    },
    {
      "cell_type": "code",
      "execution_count": null,
      "id": "6914eded",
      "metadata": {
        "id": "6914eded"
      },
      "outputs": [],
      "source": [
        "\n",
        "df['Ventas'] = df['Ventas'].astype(float)\n"
      ]
    },
    {
      "cell_type": "markdown",
      "id": "3e32fc42",
      "metadata": {
        "id": "3e32fc42"
      },
      "source": [
        "### Ejemplo: Agregar fila nueva"
      ]
    },
    {
      "cell_type": "code",
      "execution_count": null,
      "id": "0aa486c2",
      "metadata": {
        "id": "0aa486c2"
      },
      "outputs": [],
      "source": [
        "Fila_n = pd.DataFrame({'Cliente': ['F'], 'Ventas': [180], 'Ventas_con_IVA': [180 * 1.19], 'Costo': [0], 'Ganancia': [180 - 0]})\n",
        "df = pd.concat([df, Fila_n], ignore_index=True)\n",
        "df"
      ]
    },
    {
      "cell_type": "markdown",
      "id": "5edd2298",
      "metadata": {
        "id": "5edd2298"
      },
      "source": [
        "### Ejemplo: Eliminar columna"
      ]
    },
    {
      "cell_type": "code",
      "execution_count": null,
      "id": "91a56aac",
      "metadata": {
        "id": "91a56aac"
      },
      "outputs": [],
      "source": [
        "\n",
        "df.drop(columns=['Costo'])\n"
      ]
    },
    {
      "cell_type": "markdown",
      "id": "8717afdc",
      "metadata": {
        "id": "8717afdc"
      },
      "source": [
        "### Ejemplo: Discretizar valores con qcut"
      ]
    },
    {
      "cell_type": "code",
      "execution_count": null,
      "id": "42cd2c38",
      "metadata": {
        "id": "42cd2c38"
      },
      "outputs": [],
      "source": [
        "\n",
        "df['Quintil'] = pd.qcut(df['Ventas'], q=4, labels=False)\n",
        "df\n"
      ]
    },
    {
      "cell_type": "markdown",
      "id": "ef4eabd7",
      "metadata": {
        "id": "ef4eabd7"
      },
      "source": [
        "### Ejemplo: Combinar dataframes"
      ]
    },
    {
      "cell_type": "code",
      "execution_count": null,
      "id": "adec7bf8",
      "metadata": {
        "id": "adec7bf8"
      },
      "outputs": [],
      "source": [
        "\n",
        "df_extra = pd.DataFrame({'Cliente': ['F'], 'Ventas': [180]})\n",
        "pd.concat([df, df_extra])\n"
      ]
    },
    {
      "cell_type": "markdown",
      "id": "1818f121",
      "metadata": {
        "id": "1818f121"
      },
      "source": [
        "### Ejemplo: Mapeo de valores"
      ]
    },
    {
      "cell_type": "code",
      "execution_count": null,
      "id": "c10a8f4c",
      "metadata": {
        "id": "c10a8f4c"
      },
      "outputs": [],
      "source": [
        "\n",
        "df['Segmento'] = df['Cliente'].map({'A': 'Alta', 'B': 'Media', 'C': 'Baja'})\n"
      ]
    },
    {
      "cell_type": "markdown",
      "id": "0075b61e",
      "metadata": {
        "id": "0075b61e"
      },
      "source": [
        "### Ejemplo: Cambiar índice"
      ]
    },
    {
      "cell_type": "code",
      "execution_count": null,
      "id": "228c0e93",
      "metadata": {
        "id": "228c0e93"
      },
      "outputs": [],
      "source": [
        "\n",
        "df.set_index('Cliente', inplace=True)\n",
        "df\n"
      ]
    },
    {
      "cell_type": "markdown",
      "id": "8bc6c588",
      "metadata": {
        "id": "8bc6c588"
      },
      "source": [
        "### Ejemplo: Filtrar nulos"
      ]
    },
    {
      "cell_type": "code",
      "execution_count": null,
      "id": "5071e75e",
      "metadata": {
        "id": "5071e75e"
      },
      "outputs": [],
      "source": [
        "\n",
        "df_nulls[df_nulls['Edad'].isna()]\n"
      ]
    },
    {
      "cell_type": "markdown",
      "id": "e2861c60",
      "metadata": {
        "id": "e2861c60"
      },
      "source": [
        "### Ejemplo: Eliminar filas con nulos"
      ]
    },
    {
      "cell_type": "code",
      "execution_count": null,
      "id": "e84031f4",
      "metadata": {
        "id": "e84031f4"
      },
      "outputs": [],
      "source": [
        "\n",
        "df_nulls.dropna()\n"
      ]
    },
    {
      "cell_type": "markdown",
      "metadata": {
        "id": "BVLxbGu9mPO9"
      },
      "source": [
        "## 1. Funciones lambda básicas"
      ],
      "id": "BVLxbGu9mPO9"
    },
    {
      "cell_type": "code",
      "execution_count": null,
      "metadata": {
        "id": "w9kbG0DGmPO-"
      },
      "outputs": [],
      "source": [
        "# Ejercicio 1: Crear una función lambda que eleve un número al cuadrado\n",
        "cuadrado = lambda x: x**2\n",
        "print(\"5 al cuadrado:\", cuadrado(5))"
      ],
      "id": "w9kbG0DGmPO-"
    },
    {
      "cell_type": "code",
      "execution_count": null,
      "metadata": {
        "id": "jgA5uPmWmPO_"
      },
      "outputs": [],
      "source": [
        "# Ejercicio 2: Función lambda que determine si un número es par\n",
        "es_par = lambda x: x % 2 == 0\n",
        "print(\"¿4 es par?\", es_par(4))\n",
        "print(\"¿5 es par?\", es_par(5))"
      ],
      "id": "jgA5uPmWmPO_"
    },
    {
      "cell_type": "code",
      "execution_count": null,
      "metadata": {
        "id": "oDGO8YwBmPO_"
      },
      "outputs": [],
      "source": [
        "# Ejercicio 3: Función lambda que concatene dos strings con un espacio entre ellos\n",
        "concatenar = lambda a, b: f\"{a} {b}\"\n",
        "print(concatenar(\"Hola\", \"Mundo\"))"
      ],
      "id": "oDGO8YwBmPO_"
    },
    {
      "cell_type": "markdown",
      "metadata": {
        "id": "QzDhPOrmmPO_"
      },
      "source": [
        "## 2. apply() con Series de pandas"
      ],
      "id": "QzDhPOrmmPO_"
    },
    {
      "cell_type": "code",
      "execution_count": null,
      "metadata": {
        "id": "uoNW_NkJmPPA"
      },
      "outputs": [],
      "source": [
        "# Crear una Series de ejemplo\n",
        "s = pd.Series([1, 2, 3, 4, 5])\n",
        "s"
      ],
      "id": "uoNW_NkJmPPA"
    },
    {
      "cell_type": "code",
      "execution_count": null,
      "metadata": {
        "id": "vhExjNLlmPPA"
      },
      "outputs": [],
      "source": [
        "# Ejercicio 4: Aplicar una función lambda para sumar 10 a cada elemento\n",
        "s.apply(lambda x: x + 10)"
      ],
      "id": "vhExjNLlmPPA"
    },
    {
      "cell_type": "code",
      "execution_count": null,
      "metadata": {
        "id": "Xi64JrfBmPPA"
      },
      "outputs": [],
      "source": [
        "# Ejercicio 5: Aplicar una función lambda para convertir números a strings con prefijo\n",
        "s.apply(lambda x: f\"Valor: {x}\")"
      ],
      "id": "Xi64JrfBmPPA"
    },
    {
      "cell_type": "markdown",
      "metadata": {
        "id": "jCwpbSh6mPPB"
      },
      "source": [
        "## 3. apply() con DataFrames"
      ],
      "id": "jCwpbSh6mPPB"
    },
    {
      "cell_type": "code",
      "execution_count": null,
      "metadata": {
        "id": "1Uuc-J2umPPB"
      },
      "outputs": [],
      "source": [
        "# Crear un DataFrame de ejemplo\n",
        "df = pd.DataFrame({\n",
        "    'A': [1, 2, 3],\n",
        "    'B': [4, 5, 6],\n",
        "    'C': [7, 8, 9]\n",
        "})\n",
        "df"
      ],
      "id": "1Uuc-J2umPPB"
    },
    {
      "cell_type": "code",
      "execution_count": null,
      "metadata": {
        "id": "Jg2UPAzbmPPB"
      },
      "outputs": [],
      "source": [
        "# Ejercicio 6: Aplicar una función lambda por columnas (sumar 100 a cada valor)\n",
        "df.apply(lambda col: col + 100)"
      ],
      "id": "Jg2UPAzbmPPB"
    },
    {
      "cell_type": "code",
      "execution_count": null,
      "metadata": {
        "id": "PIiq8u0GmPPB"
      },
      "outputs": [],
      "source": [
        "# Ejercicio 7: Aplicar una función lambda por filas (sumar los valores de cada fila)\n",
        "df.apply(lambda fila: fila.sum(), axis=1)"
      ],
      "id": "PIiq8u0GmPPB"
    },
    {
      "cell_type": "markdown",
      "metadata": {
        "id": "52KZo4ZZmPPB"
      },
      "source": [
        "## 4. Casos prácticos más avanzados"
      ],
      "id": "52KZo4ZZmPPB"
    },
    {
      "cell_type": "code",
      "execution_count": null,
      "metadata": {
        "id": "C8erQki9mPPC"
      },
      "outputs": [],
      "source": [
        "# Crear un DataFrame con datos más complejos\n",
        "personas = pd.DataFrame({\n",
        "    'Nombre': ['Ana', 'Juan', 'María', 'Carlos'],\n",
        "    'Edad': [25, 32, 28, 41],\n",
        "    'Salario': [45000, 60000, 52000, 75000]\n",
        "})\n",
        "personas"
      ],
      "id": "C8erQki9mPPC"
    },
    {
      "cell_type": "code",
      "execution_count": null,
      "metadata": {
        "id": "_V0gjJG5mPPC"
      },
      "outputs": [],
      "source": [
        "# Ejercicio 8: Crear una nueva columna con categoría según edad\n",
        "personas['Categoria_Edad'] = personas['Edad'].apply(\n",
        "    lambda x: 'Joven' if x < 30 else 'Adulto' if x < 40 else 'Mayor'\n",
        ")\n",
        "personas"
      ],
      "id": "_V0gjJG5mPPC"
    },
    {
      "cell_type": "code",
      "execution_count": null,
      "metadata": {
        "id": "nJGpy0phmPPC"
      },
      "outputs": [],
      "source": [
        "# Ejercicio 9: Aplicar un aumento de salario del 10% a quienes ganan menos de 55000\n",
        "personas['Salario_Ajustado'] = personas.apply(\n",
        "    lambda fila: fila['Salario'] * 1.1 if fila['Salario'] < 55000 else fila['Salario'],\n",
        "    axis=1\n",
        ")\n",
        "personas"
      ],
      "id": "nJGpy0phmPPC"
    },
    {
      "cell_type": "code",
      "execution_count": null,
      "metadata": {
        "id": "BccdABdemPPC"
      },
      "outputs": [],
      "source": [
        "# Ejercicio 10: Crear una columna con información combinada\n",
        "personas['Info'] = personas.apply(\n",
        "    lambda fila: f\"{fila['Nombre']} ({fila['Edad']} años) - ${fila['Salario']}\",\n",
        "    axis=1\n",
        ")\n",
        "personas"
      ],
      "id": "BccdABdemPPC"
    },
    {
      "cell_type": "markdown",
      "metadata": {
        "id": "FwgqUWs6mPPC"
      },
      "source": [
        "## 5. Ejercicios para resolver"
      ],
      "id": "FwgqUWs6mPPC"
    },
    {
      "cell_type": "markdown",
      "metadata": {
        "id": "sjAr5NzsmPPC"
      },
      "source": [
        "**Ejercicio 11:** Crea una función lambda que tome tres números y devuelva el mayor de ellos."
      ],
      "id": "sjAr5NzsmPPC"
    },
    {
      "cell_type": "code",
      "execution_count": null,
      "metadata": {
        "id": "WUWu8U5PmPPC"
      },
      "outputs": [],
      "source": [
        "# Solución aquí"
      ],
      "id": "WUWu8U5PmPPC"
    },
    {
      "cell_type": "markdown",
      "metadata": {
        "id": "bgfnGMR5mPPC"
      },
      "source": [
        "**Ejercicio 12:** Usa apply() para crear una nueva columna en el DataFrame 'personas' que indique 'Salario Alto' si el salario es mayor a 50000, y 'Salario Bajo' en caso contrario."
      ],
      "id": "bgfnGMR5mPPC"
    },
    {
      "cell_type": "code",
      "execution_count": null,
      "metadata": {
        "id": "2DGB4JLYmPPD"
      },
      "outputs": [],
      "source": [
        "# Solución aquí"
      ],
      "id": "2DGB4JLYmPPD"
    },
    {
      "cell_type": "markdown",
      "metadata": {
        "id": "5O9Pnl9_mPPD"
      },
      "source": [
        "**Ejercicio 13:** Crea un DataFrame con una columna de strings y usa apply() con una lambda para obtener la longitud de cada string."
      ],
      "id": "5O9Pnl9_mPPD"
    },
    {
      "cell_type": "code",
      "execution_count": null,
      "metadata": {
        "id": "M44C63QpmPPD"
      },
      "outputs": [],
      "source": [
        "# Solución aquí"
      ],
      "id": "M44C63QpmPPD"
    },
    {
      "cell_type": "markdown",
      "metadata": {
        "id": "H5LunYlXmPPD"
      },
      "source": [
        "**Ejercicio 14:** Usa apply() en un DataFrame para normalizar los valores de cada columna (restar la media y dividir por la desviación estándar)."
      ],
      "id": "H5LunYlXmPPD"
    },
    {
      "cell_type": "code",
      "execution_count": null,
      "metadata": {
        "id": "qWfFbhWUmPPD"
      },
      "outputs": [],
      "source": [
        "# Solución aquí"
      ],
      "id": "qWfFbhWUmPPD"
    },
    {
      "cell_type": "markdown",
      "metadata": {
        "id": "73RUbCKPmPPD"
      },
      "source": [
        "**Ejercicio 15:** Crea una función lambda que tome una lista de palabras y devuelva una lista con las palabras en mayúsculas y ordenadas alfabéticamente."
      ],
      "id": "73RUbCKPmPPD"
    },
    {
      "cell_type": "code",
      "execution_count": null,
      "metadata": {
        "id": "2WWNTQQHmPPD"
      },
      "outputs": [],
      "source": [],
      "id": "2WWNTQQHmPPD"
    }
  ],
  "metadata": {
    "kernelspec": {
      "display_name": "base",
      "language": "python",
      "name": "python3"
    },
    "language_info": {
      "codemirror_mode": {
        "name": "ipython",
        "version": 3
      },
      "file_extension": ".py",
      "mimetype": "text/x-python",
      "name": "python",
      "nbconvert_exporter": "python",
      "pygments_lexer": "ipython3",
      "version": "3.12.7"
    },
    "colab": {
      "provenance": [],
      "include_colab_link": true
    }
  },
  "nbformat": 4,
  "nbformat_minor": 5
}