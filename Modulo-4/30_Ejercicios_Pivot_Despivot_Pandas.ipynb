{
  "cells": [
    {
      "cell_type": "markdown",
      "metadata": {
        "id": "view-in-github",
        "colab_type": "text"
      },
      "source": [
        "<a href=\"https://colab.research.google.com/github/NatSama2/Bootcamp-Analisis-de-Datos/blob/main/Modulo-4/30_Ejercicios_Pivot_Despivot_Pandas.ipynb\" target=\"_parent\"><img src=\"https://colab.research.google.com/assets/colab-badge.svg\" alt=\"Open In Colab\"/></a>"
      ]
    },
    {
      "cell_type": "markdown",
      "id": "46b65f8f",
      "metadata": {
        "id": "46b65f8f"
      },
      "source": [
        "# 🧮 Ejercicios  con Pandas\n"
      ]
    },
    {
      "cell_type": "code",
      "execution_count": null,
      "id": "4b2f8035",
      "metadata": {
        "id": "4b2f8035"
      },
      "outputs": [],
      "source": [
        "import pandas as pd\n",
        "import numpy as np\n",
        "\n",
        "# Creamos un DataFrame base\n",
        "data = {\n",
        "    'Año': [2020, 2020, 2021, 2021, 2022, 2022]*2,\n",
        "    'Mes': ['Ene', 'Feb', 'Ene', 'Feb', 'Ene', 'Feb']*2,\n",
        "    'Ciudad': ['Santiago']*6 + ['Valparaíso']*6,\n",
        "    'Ventas': np.random.randint(1000, 5000, 12),\n",
        "    'Costos': np.random.randint(500, 4000, 12)\n",
        "}\n",
        "df = pd.DataFrame(data)\n",
        "df\n"
      ]
    },
    {
      "cell_type": "markdown",
      "id": "6ff3f68e",
      "metadata": {
        "id": "6ff3f68e"
      },
      "source": [
        "### 1. Pivot por año y ciudad para mostrar ventas"
      ]
    },
    {
      "cell_type": "code",
      "execution_count": null,
      "id": "53e4599a",
      "metadata": {
        "id": "53e4599a"
      },
      "outputs": [],
      "source": [
        "df.pivot_table(index='Año', columns='Ciudad', values='Ventas', aggfunc='sum')"
      ]
    },
    {
      "cell_type": "markdown",
      "id": "9e4967c8",
      "metadata": {
        "id": "9e4967c8"
      },
      "source": [
        "### 2. Pivot con múltiples valores: Ventas y Costos"
      ]
    },
    {
      "cell_type": "code",
      "execution_count": null,
      "id": "759c62cc",
      "metadata": {
        "id": "759c62cc"
      },
      "outputs": [],
      "source": [
        "df.pivot_table(index='Año', columns='Ciudad', values=['Ventas','Costos'], aggfunc='sum')"
      ]
    },
    {
      "cell_type": "markdown",
      "id": "8af3761f",
      "metadata": {
        "id": "8af3761f"
      },
      "source": [
        "### 3. Pivot por Año y Mes"
      ]
    },
    {
      "cell_type": "code",
      "execution_count": null,
      "id": "c2b205f1",
      "metadata": {
        "id": "c2b205f1"
      },
      "outputs": [],
      "source": [
        "df.pivot_table(index=['Año','Mes'], columns='Ciudad', values=['Ventas','Costos'], aggfunc='sum')"
      ]
    },
    {
      "cell_type": "markdown",
      "id": "d6d099d0",
      "metadata": {
        "id": "d6d099d0"
      },
      "source": [
        "### 4. Pivot con índice compuesto"
      ]
    },
    {
      "cell_type": "code",
      "execution_count": null,
      "id": "ca1e5b7f",
      "metadata": {
        "id": "ca1e5b7f"
      },
      "outputs": [],
      "source": [
        "df.pivot(index=['Año', 'Mes'], columns='Ciudad', values='Ventas')"
      ]
    },
    {
      "cell_type": "markdown",
      "id": "206b9230",
      "metadata": {
        "id": "206b9230"
      },
      "source": [
        "### 5. Pivot con valores faltantes"
      ]
    },
    {
      "cell_type": "code",
      "execution_count": null,
      "id": "352a2771",
      "metadata": {
        "id": "352a2771"
      },
      "outputs": [],
      "source": [
        "df2 = df.copy()\n",
        "df2.loc[0, 'Ventas'] = np.nan\n",
        "df2.pivot(index=['Año', 'Mes'], columns='Ciudad', values='Ventas')"
      ]
    },
    {
      "cell_type": "markdown",
      "id": "05f04638",
      "metadata": {
        "id": "05f04638"
      },
      "source": [
        "### 6. Reemplazar NaN tras pivot"
      ]
    },
    {
      "cell_type": "code",
      "execution_count": null,
      "id": "1f29d5eb",
      "metadata": {
        "id": "1f29d5eb"
      },
      "outputs": [],
      "source": [
        "df2.pivot_table(index='Año', columns='Ciudad', values='Ventas', aggfunc='sum').fillna(0)"
      ]
    },
    {
      "cell_type": "markdown",
      "id": "0cfbdd5a",
      "metadata": {
        "id": "0cfbdd5a"
      },
      "source": [
        "### 7. Pivot_table con promedio"
      ]
    },
    {
      "cell_type": "code",
      "execution_count": null,
      "id": "499be33f",
      "metadata": {
        "id": "499be33f"
      },
      "outputs": [],
      "source": [
        "df.pivot_table(index='Ciudad', columns='Año', values='Ventas', aggfunc='mean')"
      ]
    },
    {
      "cell_type": "markdown",
      "id": "5d65dcfb",
      "metadata": {
        "id": "5d65dcfb"
      },
      "source": [
        "### 8. Pivot_table con suma por ciudad y mes"
      ]
    },
    {
      "cell_type": "code",
      "execution_count": null,
      "id": "f68c964e",
      "metadata": {
        "id": "f68c964e"
      },
      "outputs": [],
      "source": [
        "df.pivot_table(index='Ciudad', columns='Mes', values='Costos', aggfunc='sum')"
      ]
    },
    {
      "cell_type": "markdown",
      "id": "45f4327f",
      "metadata": {
        "id": "45f4327f"
      },
      "source": [
        "### 9. Pivot_table con múltiples agregaciones"
      ]
    },
    {
      "cell_type": "code",
      "execution_count": null,
      "id": "568f10d3",
      "metadata": {
        "id": "568f10d3"
      },
      "outputs": [],
      "source": [
        "df.pivot_table(index='Ciudad', columns='Año', values='Ventas', aggfunc=['mean','max'])"
      ]
    },
    {
      "cell_type": "markdown",
      "id": "c243b0ff",
      "metadata": {
        "id": "c243b0ff"
      },
      "source": [
        "### 10. Pivot_table con múltiples índices"
      ]
    },
    {
      "cell_type": "code",
      "execution_count": null,
      "id": "1ce3e762",
      "metadata": {
        "id": "1ce3e762"
      },
      "outputs": [],
      "source": [
        "df.pivot_table(index=['Ciudad', 'Mes'], columns='Año', values='Ventas', aggfunc='sum')"
      ]
    },
    {
      "cell_type": "markdown",
      "id": "6cafe0d2",
      "metadata": {
        "id": "6cafe0d2"
      },
      "source": [
        "### 11. Melt para pasar columnas a filas"
      ]
    },
    {
      "cell_type": "code",
      "execution_count": null,
      "id": "7c5b1acc",
      "metadata": {
        "id": "7c5b1acc"
      },
      "outputs": [],
      "source": [
        "df.melt(id_vars=['Año', 'Mes', 'Ciudad'], value_vars=['Ventas', 'Costos'])"
      ]
    },
    {
      "cell_type": "markdown",
      "id": "d8ab0128",
      "metadata": {
        "id": "d8ab0128"
      },
      "source": [
        "### 12. Melt con solo una variable"
      ]
    },
    {
      "cell_type": "code",
      "execution_count": null,
      "id": "1c30ad76",
      "metadata": {
        "id": "1c30ad76"
      },
      "outputs": [],
      "source": [
        "df.melt(id_vars=['Año'], value_vars='Ventas')"
      ]
    },
    {
      "cell_type": "markdown",
      "id": "77c39cde",
      "metadata": {
        "id": "77c39cde"
      },
      "source": [
        "### 13. Melt y renombrar columnas"
      ]
    },
    {
      "cell_type": "code",
      "execution_count": null,
      "id": "4367b884",
      "metadata": {
        "id": "4367b884"
      },
      "outputs": [],
      "source": [
        "df.melt(id_vars=['Año', 'Ciudad'], value_vars='Ventas', var_name='Tipo', value_name='Valor')"
      ]
    },
    {
      "cell_type": "markdown",
      "id": "fea5be36",
      "metadata": {
        "id": "fea5be36"
      },
      "source": [
        "### 14. Melt en un DataFrame pivotado"
      ]
    },
    {
      "cell_type": "code",
      "execution_count": null,
      "id": "ba354e4d",
      "metadata": {
        "id": "ba354e4d"
      },
      "outputs": [],
      "source": [
        "pivoted = df.pivot_table(index='Año', columns='Ciudad', values='Ventas', aggfunc='sum')\n",
        "df_restored = pivoted.reset_index().melt(id_vars='Año', var_name='Ciudad', value_name='Ventas')\n",
        "df_restored.head()"
      ]
    },
    {
      "cell_type": "markdown",
      "id": "4bc938f4",
      "metadata": {
        "id": "4bc938f4"
      },
      "source": [
        "### 15. Melt con múltiples valores y tipos"
      ]
    },
    {
      "cell_type": "code",
      "execution_count": null,
      "id": "d9febc68",
      "metadata": {
        "id": "d9febc68"
      },
      "outputs": [],
      "source": [
        "df.melt(id_vars=['Ciudad'], value_vars=['Ventas', 'Costos'], var_name='Tipo', value_name='Monto')"
      ]
    },
    {
      "cell_type": "markdown",
      "id": "2e4e1d48",
      "metadata": {
        "id": "2e4e1d48"
      },
      "source": [
        "### 16. Crear DataFrame MultiIndex"
      ]
    },
    {
      "cell_type": "code",
      "execution_count": null,
      "id": "43652b3c",
      "metadata": {
        "id": "43652b3c"
      },
      "outputs": [],
      "source": [
        "df_multi = df.set_index(['Año', 'Ciudad'])\n",
        "df_multi.head()"
      ]
    },
    {
      "cell_type": "markdown",
      "id": "ecd783a8",
      "metadata": {
        "id": "ecd783a8"
      },
      "source": [
        "### 17. Aplicar stack"
      ]
    },
    {
      "cell_type": "code",
      "execution_count": null,
      "id": "32f88c2e",
      "metadata": {
        "id": "32f88c2e"
      },
      "outputs": [],
      "source": [
        "df_multi.stack()"
      ]
    },
    {
      "cell_type": "markdown",
      "id": "4de30250",
      "metadata": {
        "id": "4de30250"
      },
      "source": [
        "### 18. Aplicar unstack"
      ]
    },
    {
      "cell_type": "code",
      "execution_count": null,
      "id": "737ebcd2",
      "metadata": {
        "id": "737ebcd2"
      },
      "outputs": [],
      "source": [
        "df_multi_fixed = df.set_index(['Año', 'Ciudad', 'Mes'])\n",
        "df_multi_fixed.unstack().head()"
      ]
    },
    {
      "cell_type": "markdown",
      "id": "c7a22b16",
      "metadata": {
        "id": "c7a22b16"
      },
      "source": [
        "### 19. Stack y unstack combinados"
      ]
    },
    {
      "cell_type": "code",
      "execution_count": null,
      "id": "01175353",
      "metadata": {
        "id": "01175353"
      },
      "outputs": [],
      "source": [
        "df_multi_fixed.unstack().stack(future_stack=True).equals(df_multi_fixed)"
      ]
    },
    {
      "cell_type": "markdown",
      "id": "bd18d692",
      "metadata": {
        "id": "bd18d692"
      },
      "source": [
        "### 20. Unstack por nivel 1"
      ]
    },
    {
      "cell_type": "code",
      "execution_count": null,
      "id": "2d5337cc",
      "metadata": {
        "id": "2d5337cc"
      },
      "outputs": [],
      "source": [
        "df_multi_fixed = df.set_index(['Año', 'Mes', 'Ciudad'])\n",
        "df_multi_fixed.unstack(level=2).head()"
      ]
    },
    {
      "cell_type": "markdown",
      "id": "551273c5",
      "metadata": {
        "id": "551273c5"
      },
      "source": [
        "### 21. Unstack y rellenar nulos"
      ]
    },
    {
      "cell_type": "code",
      "execution_count": null,
      "id": "f09ed5d6",
      "metadata": {
        "id": "f09ed5d6"
      },
      "outputs": [],
      "source": [
        "df_multi_fixed.unstack(level='Mes').fillna(0).head()"
      ]
    },
    {
      "cell_type": "markdown",
      "id": "8acc0743",
      "metadata": {
        "id": "8acc0743"
      },
      "source": [
        "### 22. Pivot y luego melt para restaurar"
      ]
    },
    {
      "cell_type": "code",
      "execution_count": null,
      "id": "a1982d74",
      "metadata": {
        "id": "a1982d74"
      },
      "outputs": [],
      "source": [
        "df_pivot = df.pivot_table(index='Año', columns='Ciudad', values='Ventas', aggfunc='sum')\n",
        "df_restored = df_pivot.reset_index().melt(id_vars='Año', var_name='Ciudad', value_name='Ventas')\n",
        "df_restored.head()"
      ]
    },
    {
      "cell_type": "markdown",
      "id": "42c2fcfb",
      "metadata": {
        "id": "42c2fcfb"
      },
      "source": [
        "### 23. Melt y luego pivot"
      ]
    },
    {
      "cell_type": "code",
      "execution_count": null,
      "id": "caa40181",
      "metadata": {
        "id": "caa40181"
      },
      "outputs": [],
      "source": [
        "df_m = df.melt(id_vars=['Año', 'Ciudad'], value_vars='Ventas')\n",
        "df_m.pivot_table(index='Año', columns='Ciudad', values='value', aggfunc='sum')"
      ]
    },
    {
      "cell_type": "markdown",
      "id": "21ea796c",
      "metadata": {
        "id": "21ea796c"
      },
      "source": [
        "### 24. Pivot_table con múltiples funciones"
      ]
    },
    {
      "cell_type": "code",
      "execution_count": null,
      "id": "07b903fe",
      "metadata": {
        "id": "07b903fe"
      },
      "outputs": [],
      "source": [
        "df.pivot_table(index='Ciudad', values='Ventas', aggfunc=['sum', 'mean', 'max'])"
      ]
    },
    {
      "cell_type": "markdown",
      "id": "d7b2902c",
      "metadata": {
        "id": "d7b2902c"
      },
      "source": [
        "### 25. Tabla de totales con margins"
      ]
    },
    {
      "cell_type": "code",
      "execution_count": null,
      "id": "dfddb4a4",
      "metadata": {
        "id": "dfddb4a4"
      },
      "outputs": [],
      "source": [
        "df.pivot_table(index='Ciudad', columns='Año', values='Ventas', aggfunc='sum', margins=True)"
      ]
    },
    {
      "cell_type": "markdown",
      "id": "c5bbb62f",
      "metadata": {
        "id": "c5bbb62f"
      },
      "source": [
        "### 26. Columnas anidadas"
      ]
    },
    {
      "cell_type": "code",
      "execution_count": null,
      "id": "aa6b7a56",
      "metadata": {
        "id": "aa6b7a56"
      },
      "outputs": [],
      "source": [
        "df.pivot_table(index='Año', columns=['Ciudad', 'Mes'], values='Ventas')"
      ]
    },
    {
      "cell_type": "markdown",
      "id": "d4da7673",
      "metadata": {
        "id": "d4da7673"
      },
      "source": [
        "### 27. Melt con columnas jerárquicas"
      ]
    },
    {
      "cell_type": "code",
      "execution_count": null,
      "id": "5429fe43",
      "metadata": {
        "id": "5429fe43"
      },
      "outputs": [],
      "source": [
        "df_pivot = df.pivot_table(index='Año', columns='Ciudad', values='Ventas')\n",
        "df_pivot.columns.name = 'Ciudad'\n",
        "df_pivot.reset_index().melt(id_vars='Año')"
      ]
    },
    {
      "cell_type": "markdown",
      "id": "581f81b4",
      "metadata": {
        "id": "581f81b4"
      },
      "source": [
        "### 28. Unstack múltiples veces"
      ]
    },
    {
      "cell_type": "code",
      "execution_count": null,
      "id": "9bd5132f",
      "metadata": {
        "id": "9bd5132f"
      },
      "outputs": [],
      "source": [
        "df3 = df.set_index(['Ciudad', 'Año', 'Mes'])\n",
        "df3.unstack().unstack().head()"
      ]
    },
    {
      "cell_type": "markdown",
      "id": "64844684",
      "metadata": {
        "id": "64844684"
      },
      "source": [
        "### 29. Pivot y rename axis"
      ]
    },
    {
      "cell_type": "code",
      "execution_count": null,
      "id": "e90e1b40",
      "metadata": {
        "id": "e90e1b40"
      },
      "outputs": [],
      "source": [
        "table = df.pivot_table(index='Año', columns='Ciudad', values='Ventas', aggfunc='sum')\n",
        "table.rename_axis(columns='Localidad', index='Periodo')"
      ]
    },
    {
      "cell_type": "markdown",
      "id": "99075f87",
      "metadata": {
        "id": "99075f87"
      },
      "source": [
        "### 30. Comparar pivot y pivot_table"
      ]
    },
    {
      "cell_type": "code",
      "execution_count": null,
      "id": "a7f99b84",
      "metadata": {
        "id": "a7f99b84"
      },
      "outputs": [],
      "source": [
        "pivot = df.pivot_table(index='Año', columns='Ciudad', values='Ventas', aggfunc='mean')\n",
        "pivot_table = df.pivot_table(index='Año', columns='Ciudad', values='Ventas', aggfunc='mean')\n",
        "print(pivot.equals(pivot_table))"
      ]
    }
  ],
  "metadata": {
    "colab": {
      "provenance": [],
      "include_colab_link": true
    },
    "language_info": {
      "name": "python"
    },
    "kernelspec": {
      "name": "python3",
      "display_name": "Python 3"
    }
  },
  "nbformat": 4,
  "nbformat_minor": 5
}