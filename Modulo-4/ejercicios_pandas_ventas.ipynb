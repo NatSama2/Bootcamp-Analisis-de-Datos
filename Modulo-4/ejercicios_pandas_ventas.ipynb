{
  "cells": [
    {
      "cell_type": "markdown",
      "metadata": {
        "id": "view-in-github",
        "colab_type": "text"
      },
      "source": [
        "<a href=\"https://colab.research.google.com/github/NatSama2/Bootcamp-Analisis-de-Datos/blob/main/Modulo-4/ejercicios_pandas_ventas.ipynb\" target=\"_parent\"><img src=\"https://colab.research.google.com/assets/colab-badge.svg\" alt=\"Open In Colab\"/></a>"
      ]
    },
    {
      "cell_type": "markdown",
      "source": [],
      "metadata": {
        "id": "UqYKrTEHHQAf"
      },
      "id": "UqYKrTEHHQAf"
    },
    {
      "cell_type": "markdown",
      "metadata": {
        "id": "NqI0oBUgdFSe"
      },
      "source": [
        "## <font color='blue'>**Introducción a Pandas**</font>\n",
        "\n",
        "La librería **pandas** proporciona estructuras de datos y funciones de alto nivel que permiten trabajar con datos estructurados de manera muy cómoda. Estas estructuras y funciones son, normalmente, de las más usadas en análisis de datos.\n",
        "\n",
        "<img src='https://drive.google.com/uc?export=view&id=1cc63iaYdq6YzJDdUWyWDFZ4YzeB2lBa2' width=\"300\" align=\"center\" style=\"margin-right: 20px\">\n",
        "\n",
        "Los principales objetos ofrecidos por pandas son el **dataframe**, estructura tabular bidimensional, y la **serie**, ambas basadas en el array multidimensional de NumPy. Aun cuando NumPy ofrece una muy conveniente y eficiente estructura para el almacenamiento de datos, el `ndarray`, éste presenta importantes limitaciones cuando, durante un análisis, se hace necesaria más flexibilidad a la hora de aplicar etiquetas a nuestros datos, gestionar valores inexistentes, realizar agrupaciones por etiquetas, etc., limitaciones que son resueltas por las estructuras de más alto nivel ofrecidas por pandas.\n",
        "\n",
        "La documentación oficial está disponible en el sitio we oficial de <a href=\"https://pandas.pydata.org/\">pandas</a>.\n",
        "\n",
        "Esta librería se importa habitualmente con el alias `pd`:"
      ],
      "id": "NqI0oBUgdFSe"
    },
    {
      "cell_type": "code",
      "metadata": {
        "id": "I3zrTRsAdFSg"
      },
      "source": [
        "import pandas as pd"
      ],
      "execution_count": null,
      "outputs": [],
      "id": "I3zrTRsAdFSg"
    },
    {
      "cell_type": "markdown",
      "metadata": {
        "id": "jJRqjUp0dFSn"
      },
      "source": [
        "## <font color='blue'>**Estructuras de datos en pandas: Series**</font>\n",
        "\n",
        "Las **series** son estructuras unidimensionales que contenienen un array de datos (de cualquier tipo soportado por NumPy) y un array de etiquetas que van asociadas a los datos, llamado índice (*index* en inglés):"
      ],
      "id": "jJRqjUp0dFSn"
    },
    {
      "cell_type": "code",
      "metadata": {
        "id": "vF5f7DAudFSo",
        "colab": {
          "base_uri": "https://localhost:8080/"
        },
        "outputId": "a624f058-aedd-4a9e-e304-1c98cc497f61"
      },
      "source": [
        "ventas = pd.Series([15, 12, 21, 38], index = [\"Ene\", \"Feb\", \"Mar\", \"Abr\"])\n",
        "ventas"
      ],
      "execution_count": null,
      "outputs": [
        {
          "output_type": "execute_result",
          "data": {
            "text/plain": [
              "Ene    15\n",
              "Feb    12\n",
              "Mar    21\n",
              "Abr    38\n",
              "dtype: int64"
            ]
          },
          "metadata": {},
          "execution_count": 3
        }
      ],
      "id": "vF5f7DAudFSo"
    },
    {
      "cell_type": "markdown",
      "metadata": {
        "id": "mI7Sfxm4dFSt"
      },
      "source": [
        "Los elementos de la serie pueden extraerse con el nombre de la serie y, entre corchetes, el índice (posición) del elemento o su etiqueta (si la tiene):"
      ],
      "id": "mI7Sfxm4dFSt"
    },
    {
      "cell_type": "code",
      "metadata": {
        "id": "CwbtG8_TdFSu",
        "colab": {
          "base_uri": "https://localhost:8080/"
        },
        "outputId": "70291a28-eaad-42eb-994a-5ad4036bf915"
      },
      "source": [
        "ventas[0]"
      ],
      "execution_count": null,
      "outputs": [
        {
          "output_type": "execute_result",
          "data": {
            "text/plain": [
              "15"
            ]
          },
          "metadata": {},
          "execution_count": 4
        }
      ],
      "id": "CwbtG8_TdFSu"
    },
    {
      "cell_type": "code",
      "metadata": {
        "id": "R2UjSTP4dFSy",
        "colab": {
          "base_uri": "https://localhost:8080/"
        },
        "outputId": "5e66884b-e7c5-49f3-90d4-d9d1cd6252c1"
      },
      "source": [
        "ventas[\"Ene\"]"
      ],
      "execution_count": null,
      "outputs": [
        {
          "output_type": "execute_result",
          "data": {
            "text/plain": [
              "15"
            ]
          },
          "metadata": {},
          "execution_count": 5
        }
      ],
      "id": "R2UjSTP4dFSy"
    },
    {
      "cell_type": "code",
      "metadata": {
        "id": "VpxdSHFHxC4q",
        "colab": {
          "base_uri": "https://localhost:8080/"
        },
        "outputId": "1806cf8e-ea30-4b53-d2e3-969684c61345"
      },
      "source": [
        "ventas = pd.Series([15, 12, 21, 38])\n",
        "ventas"
      ],
      "execution_count": null,
      "outputs": [
        {
          "output_type": "execute_result",
          "data": {
            "text/plain": [
              "0    15\n",
              "1    12\n",
              "2    21\n",
              "3    38\n",
              "dtype: int64"
            ]
          },
          "metadata": {},
          "execution_count": 6
        }
      ],
      "id": "VpxdSHFHxC4q"
    },
    {
      "cell_type": "markdown",
      "metadata": {
        "id": "fRtnksuqdFS1"
      },
      "source": [
        "Las etiquetas que forman el índice no necesitan ser diferentes. Pueden ser de cualquier tipo (numérico, textos, tuplas, etc.) siempre que sea posible aplicar la función *hash* sobre ellas.\n",
        "\n",
        "**Nota: La función hash devuelve el valor hash del objeto cedido como parámetro -si tiene uno-. Los valores hash son enteros. Los valores numéricos que, al ser comparados, devuelven el valor True tienen el mismo valor hash asociado, incluso si son de distinto tipo.**\n",
        "\n",
        "La relación entre una etiqueta y un valor se mantendrá, salvo que lo modifiquemos explícitamente. Esto quiere decir que, filtrar una serie o eliminar un elemento de la serie, por ejemplo, no va a modificar las etiquetas asignadas a cada valor.\n",
        "\n",
        "Los índices de las etiquetas son inmutables, es decir, aun cuando es posible asignar a una serie un nuevo conjunto de etiquetas a través del atributo *index*, intentar modificar un único valor del index v a devolver un error.\n",
        "\n",
        "Al igual que ocurre con el array NumPy, una serie pandas solo puede contener datos de un mismo tipo. En la imagen anterior puede apreciarse el índice a la izquierda (\"Ene\", \"Feb\" y \"Mar\") y los datos a la derecha (15, 12 y 21). El tipo de la serie, accesible a través del atributo `dtype`, coincide con el tipo de los datos que contiene:"
      ],
      "id": "fRtnksuqdFS1"
    },
    {
      "cell_type": "code",
      "metadata": {
        "id": "WyOOm4fmdFS2",
        "colab": {
          "base_uri": "https://localhost:8080/"
        },
        "outputId": "7d2d1612-5485-4001-927a-a2a29df1eda9"
      },
      "source": [
        "ventas.dtype"
      ],
      "execution_count": null,
      "outputs": [
        {
          "output_type": "execute_result",
          "data": {
            "text/plain": [
              "dtype('int64')"
            ]
          },
          "metadata": {},
          "execution_count": 7
        }
      ],
      "id": "WyOOm4fmdFS2"
    },
    {
      "cell_type": "markdown",
      "metadata": {
        "id": "Wio645svdFS5"
      },
      "source": [
        "Podemos acceder a los objetos que contienen los índices y los valores a través de los atributos `index` y `values` de la serie, respectivamente:"
      ],
      "id": "Wio645svdFS5"
    },
    {
      "cell_type": "code",
      "metadata": {
        "id": "Ch0GGeKSdFS6",
        "colab": {
          "base_uri": "https://localhost:8080/"
        },
        "outputId": "48010409-56a0-4377-94c3-8b8ab7e93356"
      },
      "source": [
        "ventas.index"
      ],
      "execution_count": null,
      "outputs": [
        {
          "output_type": "execute_result",
          "data": {
            "text/plain": [
              "RangeIndex(start=0, stop=4, step=1)"
            ]
          },
          "metadata": {},
          "execution_count": 8
        }
      ],
      "id": "Ch0GGeKSdFS6"
    },
    {
      "cell_type": "code",
      "metadata": {
        "id": "iHIkgL7DdFS_",
        "colab": {
          "base_uri": "https://localhost:8080/"
        },
        "outputId": "e2e3b46e-79b6-430f-b2c8-ad47997d081e"
      },
      "source": [
        "ventas.values"
      ],
      "execution_count": null,
      "outputs": [
        {
          "output_type": "execute_result",
          "data": {
            "text/plain": [
              "array([15, 12, 21, 38])"
            ]
          },
          "metadata": {},
          "execution_count": 9
        }
      ],
      "id": "iHIkgL7DdFS_"
    },
    {
      "cell_type": "markdown",
      "metadata": {
        "id": "xzPxdB9-dFTB"
      },
      "source": [
        "La serie tiene un atributo `name`, atributo que también encontramos en el índice. Una vez los hemos fijado, se muestran junto con la estructura al imprimir la serie:"
      ],
      "id": "xzPxdB9-dFTB"
    },
    {
      "cell_type": "markdown",
      "source": [],
      "metadata": {
        "id": "So_Ij1GqHBHH"
      },
      "id": "So_Ij1GqHBHH"
    },
    {
      "cell_type": "code",
      "metadata": {
        "id": "2gUJMJWddFTC"
      },
      "source": [
        "ventas.name"
      ],
      "execution_count": null,
      "outputs": [],
      "id": "2gUJMJWddFTC"
    },
    {
      "cell_type": "code",
      "metadata": {
        "id": "DTWCgIc7dFTE",
        "colab": {
          "base_uri": "https://localhost:8080/"
        },
        "outputId": "7c001c0f-56c6-4819-f340-f9b5af208422"
      },
      "source": [
        "ventas"
      ],
      "execution_count": null,
      "outputs": [
        {
          "output_type": "execute_result",
          "data": {
            "text/plain": [
              "0    15\n",
              "1    12\n",
              "2    21\n",
              "3    38\n",
              "dtype: int64"
            ]
          },
          "metadata": {},
          "execution_count": 11
        }
      ],
      "id": "DTWCgIc7dFTE"
    },
    {
      "cell_type": "code",
      "metadata": {
        "id": "8AKEb3f0dFTH",
        "colab": {
          "base_uri": "https://localhost:8080/"
        },
        "outputId": "404bf461-d3ba-4f0e-e815-2145c9a005c6"
      },
      "source": [
        "ventas.index.name = \"Meses\"\n",
        "ventas"
      ],
      "execution_count": null,
      "outputs": [
        {
          "output_type": "execute_result",
          "data": {
            "text/plain": [
              "Meses\n",
              "0    15\n",
              "1    12\n",
              "2    21\n",
              "3    38\n",
              "dtype: int64"
            ]
          },
          "metadata": {},
          "execution_count": 12
        }
      ],
      "id": "8AKEb3f0dFTH"
    },
    {
      "cell_type": "markdown",
      "metadata": {
        "id": "Uh_QVc0edFTJ"
      },
      "source": [
        "El atributo `axes` da acceso a una lista con los ejes de la serie (solo contiene un elemento al tratarse de una estructura unidimensional):"
      ],
      "id": "Uh_QVc0edFTJ"
    },
    {
      "cell_type": "code",
      "metadata": {
        "id": "BqoM6kD_dFTJ",
        "colab": {
          "base_uri": "https://localhost:8080/"
        },
        "outputId": "8e89362a-5861-45a8-cef2-942d84b5be9a"
      },
      "source": [
        "ventas.axes"
      ],
      "execution_count": null,
      "outputs": [
        {
          "output_type": "execute_result",
          "data": {
            "text/plain": [
              "[RangeIndex(start=0, stop=4, step=1, name='Meses')]"
            ]
          },
          "metadata": {},
          "execution_count": 13
        }
      ],
      "id": "BqoM6kD_dFTJ"
    },
    {
      "cell_type": "markdown",
      "metadata": {
        "id": "GuVW41G-dFTM"
      },
      "source": [
        "El atributo `shape` nos devuelve el tamaño de la serie:"
      ],
      "id": "GuVW41G-dFTM"
    },
    {
      "cell_type": "code",
      "metadata": {
        "id": "GwEeBY9PdFTN",
        "colab": {
          "base_uri": "https://localhost:8080/"
        },
        "outputId": "f45e3478-469c-4c86-cf87-901a426d7543"
      },
      "source": [
        "ventas.shape"
      ],
      "execution_count": null,
      "outputs": [
        {
          "output_type": "execute_result",
          "data": {
            "text/plain": [
              "(4,)"
            ]
          },
          "metadata": {},
          "execution_count": 14
        }
      ],
      "id": "GwEeBY9PdFTN"
    },
    {
      "cell_type": "markdown",
      "metadata": {
        "id": "-qUe65hDdFTQ"
      },
      "source": [
        "El listado completo de los atributos de las series lo pueden encontrar en la documentación oficial de pandas, <a href=\"https://pandas.pydata.org/pandas-docs/stable/reference/series.html\">aquí</a>."
      ],
      "id": "-qUe65hDdFTQ"
    },
    {
      "cell_type": "markdown",
      "metadata": {
        "id": "hBXCpRVNdFTQ"
      },
      "source": [
        "## <font color='blue'>**Estructuras de datos en pandas: Dataframes**</font>\n",
        "\n",
        "Los **dataframes** son estructuras tabulares de datos orientadas a columnas,\n",
        "con etiquetas tanto en filas como en columnas:"
      ],
      "id": "hBXCpRVNdFTQ"
    },
    {
      "cell_type": "code",
      "metadata": {
        "id": "7vWDX_HmdFTR",
        "colab": {
          "base_uri": "https://localhost:8080/",
          "height": 174
        },
        "outputId": "6e472a90-e746-49f9-f85c-4466f8e21fe7"
      },
      "source": [
        "ventas = pd.DataFrame({\n",
        "    \"Entradas\": [41, 32, 56, 18],\n",
        "    \"Salidas\": [17, 54, 6, 78],\n",
        "    \"Valoración\": [66, 54, 49, 66],\n",
        "    \"Límite\": [\"No\", \"Si\", \"No\", \"No\"],\n",
        "    \"Cambio\": [1.43, 1.16, -0.67, 0.77]\n",
        "    },\n",
        "    index = [\"Ene\", \"Feb\", \"Mar\", \"Abr\"]\n",
        "    )\n",
        "ventas"
      ],
      "execution_count": null,
      "outputs": [
        {
          "output_type": "execute_result",
          "data": {
            "text/plain": [
              "     Entradas  Salidas  Valoración Límite  Cambio\n",
              "Ene        41       17          66     No    1.43\n",
              "Feb        32       54          54     Si    1.16\n",
              "Mar        56        6          49     No   -0.67\n",
              "Abr        18       78          66     No    0.77"
            ],
            "text/html": [
              "\n",
              "  <div id=\"df-a19e2d56-f8a3-4327-a639-f0b095d6d3ba\">\n",
              "    <div class=\"colab-df-container\">\n",
              "      <div>\n",
              "<style scoped>\n",
              "    .dataframe tbody tr th:only-of-type {\n",
              "        vertical-align: middle;\n",
              "    }\n",
              "\n",
              "    .dataframe tbody tr th {\n",
              "        vertical-align: top;\n",
              "    }\n",
              "\n",
              "    .dataframe thead th {\n",
              "        text-align: right;\n",
              "    }\n",
              "</style>\n",
              "<table border=\"1\" class=\"dataframe\">\n",
              "  <thead>\n",
              "    <tr style=\"text-align: right;\">\n",
              "      <th></th>\n",
              "      <th>Entradas</th>\n",
              "      <th>Salidas</th>\n",
              "      <th>Valoración</th>\n",
              "      <th>Límite</th>\n",
              "      <th>Cambio</th>\n",
              "    </tr>\n",
              "  </thead>\n",
              "  <tbody>\n",
              "    <tr>\n",
              "      <th>Ene</th>\n",
              "      <td>41</td>\n",
              "      <td>17</td>\n",
              "      <td>66</td>\n",
              "      <td>No</td>\n",
              "      <td>1.43</td>\n",
              "    </tr>\n",
              "    <tr>\n",
              "      <th>Feb</th>\n",
              "      <td>32</td>\n",
              "      <td>54</td>\n",
              "      <td>54</td>\n",
              "      <td>Si</td>\n",
              "      <td>1.16</td>\n",
              "    </tr>\n",
              "    <tr>\n",
              "      <th>Mar</th>\n",
              "      <td>56</td>\n",
              "      <td>6</td>\n",
              "      <td>49</td>\n",
              "      <td>No</td>\n",
              "      <td>-0.67</td>\n",
              "    </tr>\n",
              "    <tr>\n",
              "      <th>Abr</th>\n",
              "      <td>18</td>\n",
              "      <td>78</td>\n",
              "      <td>66</td>\n",
              "      <td>No</td>\n",
              "      <td>0.77</td>\n",
              "    </tr>\n",
              "  </tbody>\n",
              "</table>\n",
              "</div>\n",
              "      <button class=\"colab-df-convert\" onclick=\"convertToInteractive('df-a19e2d56-f8a3-4327-a639-f0b095d6d3ba')\"\n",
              "              title=\"Convert this dataframe to an interactive table.\"\n",
              "              style=\"display:none;\">\n",
              "        \n",
              "  <svg xmlns=\"http://www.w3.org/2000/svg\" height=\"24px\"viewBox=\"0 0 24 24\"\n",
              "       width=\"24px\">\n",
              "    <path d=\"M0 0h24v24H0V0z\" fill=\"none\"/>\n",
              "    <path d=\"M18.56 5.44l.94 2.06.94-2.06 2.06-.94-2.06-.94-.94-2.06-.94 2.06-2.06.94zm-11 1L8.5 8.5l.94-2.06 2.06-.94-2.06-.94L8.5 2.5l-.94 2.06-2.06.94zm10 10l.94 2.06.94-2.06 2.06-.94-2.06-.94-.94-2.06-.94 2.06-2.06.94z\"/><path d=\"M17.41 7.96l-1.37-1.37c-.4-.4-.92-.59-1.43-.59-.52 0-1.04.2-1.43.59L10.3 9.45l-7.72 7.72c-.78.78-.78 2.05 0 2.83L4 21.41c.39.39.9.59 1.41.59.51 0 1.02-.2 1.41-.59l7.78-7.78 2.81-2.81c.8-.78.8-2.07 0-2.86zM5.41 20L4 18.59l7.72-7.72 1.47 1.35L5.41 20z\"/>\n",
              "  </svg>\n",
              "      </button>\n",
              "      \n",
              "  <style>\n",
              "    .colab-df-container {\n",
              "      display:flex;\n",
              "      flex-wrap:wrap;\n",
              "      gap: 12px;\n",
              "    }\n",
              "\n",
              "    .colab-df-convert {\n",
              "      background-color: #E8F0FE;\n",
              "      border: none;\n",
              "      border-radius: 50%;\n",
              "      cursor: pointer;\n",
              "      display: none;\n",
              "      fill: #1967D2;\n",
              "      height: 32px;\n",
              "      padding: 0 0 0 0;\n",
              "      width: 32px;\n",
              "    }\n",
              "\n",
              "    .colab-df-convert:hover {\n",
              "      background-color: #E2EBFA;\n",
              "      box-shadow: 0px 1px 2px rgba(60, 64, 67, 0.3), 0px 1px 3px 1px rgba(60, 64, 67, 0.15);\n",
              "      fill: #174EA6;\n",
              "    }\n",
              "\n",
              "    [theme=dark] .colab-df-convert {\n",
              "      background-color: #3B4455;\n",
              "      fill: #D2E3FC;\n",
              "    }\n",
              "\n",
              "    [theme=dark] .colab-df-convert:hover {\n",
              "      background-color: #434B5C;\n",
              "      box-shadow: 0px 1px 3px 1px rgba(0, 0, 0, 0.15);\n",
              "      filter: drop-shadow(0px 1px 2px rgba(0, 0, 0, 0.3));\n",
              "      fill: #FFFFFF;\n",
              "    }\n",
              "  </style>\n",
              "\n",
              "      <script>\n",
              "        const buttonEl =\n",
              "          document.querySelector('#df-a19e2d56-f8a3-4327-a639-f0b095d6d3ba button.colab-df-convert');\n",
              "        buttonEl.style.display =\n",
              "          google.colab.kernel.accessAllowed ? 'block' : 'none';\n",
              "\n",
              "        async function convertToInteractive(key) {\n",
              "          const element = document.querySelector('#df-a19e2d56-f8a3-4327-a639-f0b095d6d3ba');\n",
              "          const dataTable =\n",
              "            await google.colab.kernel.invokeFunction('convertToInteractive',\n",
              "                                                     [key], {});\n",
              "          if (!dataTable) return;\n",
              "\n",
              "          const docLinkHtml = 'Like what you see? Visit the ' +\n",
              "            '<a target=\"_blank\" href=https://colab.research.google.com/notebooks/data_table.ipynb>data table notebook</a>'\n",
              "            + ' to learn more about interactive tables.';\n",
              "          element.innerHTML = '';\n",
              "          dataTable['output_type'] = 'display_data';\n",
              "          await google.colab.output.renderOutput(dataTable, element);\n",
              "          const docLink = document.createElement('div');\n",
              "          docLink.innerHTML = docLinkHtml;\n",
              "          element.appendChild(docLink);\n",
              "        }\n",
              "      </script>\n",
              "    </div>\n",
              "  </div>\n",
              "  "
            ]
          },
          "metadata": {},
          "execution_count": 15
        }
      ],
      "id": "7vWDX_HmdFTR"
    },
    {
      "cell_type": "markdown",
      "metadata": {
        "id": "-lWr_BzYdFTT"
      },
      "source": [
        "Para crear el dataframe anterior hemos usado el constructor **pd.DataFrame** y le hemos pasado un diccionario y una lista: las claves del diccionario serán los nombres de las columnas, sus valores, los valores de las columnas, y los valores de la lista se convertirán en las etiquetas de filas.\n",
        "\n",
        "Una columna solo puede contener un tipo de datos, pero cada columna del dataframe puede contener un tipo de datos diferente. Podemos acceder a los tipos de las columnas con el atributo `dtypes`:"
      ],
      "id": "-lWr_BzYdFTT"
    },
    {
      "cell_type": "code",
      "metadata": {
        "id": "g8wfEWi0dFTU",
        "colab": {
          "base_uri": "https://localhost:8080/"
        },
        "outputId": "859d1bff-b740-4752-fb67-9602c748d8c0"
      },
      "source": [
        "print(type(ventas), '\\n')\n",
        "ventas.dtypes"
      ],
      "execution_count": null,
      "outputs": [
        {
          "output_type": "stream",
          "name": "stdout",
          "text": [
            "<class 'pandas.core.frame.DataFrame'> \n",
            "\n"
          ]
        },
        {
          "output_type": "execute_result",
          "data": {
            "text/plain": [
              "Entradas        int64\n",
              "Salidas         int64\n",
              "Valoración      int64\n",
              "Límite         object\n",
              "Cambio        float64\n",
              "dtype: object"
            ]
          },
          "metadata": {},
          "execution_count": 16
        }
      ],
      "id": "g8wfEWi0dFTU"
    },
    {
      "cell_type": "markdown",
      "metadata": {
        "id": "N0-n3cSKdFTW"
      },
      "source": [
        "Las etiquetas de filas y de columnas -los índices- son accesibles a través de los atributos `index` y `columns`, respectivamente:"
      ],
      "id": "N0-n3cSKdFTW"
    },
    {
      "cell_type": "code",
      "metadata": {
        "id": "MXA9DSVJdFTW",
        "colab": {
          "base_uri": "https://localhost:8080/"
        },
        "outputId": "c577bc28-39b7-4906-fcbe-8062409ddaed"
      },
      "source": [
        "ventas.index"
      ],
      "execution_count": null,
      "outputs": [
        {
          "output_type": "execute_result",
          "data": {
            "text/plain": [
              "Index(['Ene', 'Feb', 'Mar', 'Abr'], dtype='object')"
            ]
          },
          "metadata": {},
          "execution_count": 17
        }
      ],
      "id": "MXA9DSVJdFTW"
    },
    {
      "cell_type": "code",
      "source": [
        "ventas.columns"
      ],
      "metadata": {
        "id": "z_TGEqrksfGM",
        "colab": {
          "base_uri": "https://localhost:8080/"
        },
        "outputId": "7fd53f50-fc91-4b24-90a1-12640b242fa9"
      },
      "execution_count": null,
      "outputs": [
        {
          "output_type": "execute_result",
          "data": {
            "text/plain": [
              "Index(['Entradas', 'Salidas', 'Valoración', 'Límite', 'Cambio'], dtype='object')"
            ]
          },
          "metadata": {},
          "execution_count": 18
        }
      ],
      "id": "z_TGEqrksfGM"
    },
    {
      "cell_type": "code",
      "metadata": {
        "id": "OsD6zSsydFTZ",
        "colab": {
          "base_uri": "https://localhost:8080/"
        },
        "outputId": "bca3031a-d2a0-472f-f491-99d1f6f78f18"
      },
      "source": [
        "# En ambos casos podemos extraer los valores aplicando la función 'list'\n",
        "list(ventas.columns)"
      ],
      "execution_count": null,
      "outputs": [
        {
          "output_type": "execute_result",
          "data": {
            "text/plain": [
              "['Entradas', 'Salidas', 'Valoración', 'Límite', 'Cambio']"
            ]
          },
          "metadata": {},
          "execution_count": 19
        }
      ],
      "id": "OsD6zSsydFTZ"
    },
    {
      "cell_type": "markdown",
      "metadata": {
        "id": "H3V_o6QwdFTb"
      },
      "source": [
        "La nomenclatura usada por pandas puede resultar un tanto confusa en lo que se refiere a los índices: tanto la estructura que contiene las etiquetas de filas como la que contiene las etiquetas de columnas son objetos de tipo *Index* (mayúscula), pero, como se ha comentado, el índice de filas se denomina también *index* (minúsculas), y el de columna, *columns*.\n",
        "\n",
        "Además, el nombre de \"indice\" se aplica normalmente a la referencia de un dato en una estructura según su posición. Por ejemplo, en la lista $m = [\"a\", \"b\"]$, el índice del primer elemento es el número o valor que, añadido entre corchetes tras el nombre de la lista, nos permite acceder al elemento. Así, el índice del elemento \"a\" en la lista mencionada es 0, y el índice del elemento \"b\" es 1, lo que no es del todo coherente con el concepto de \"índice\" de una estructura pandas cuando lo especificamos explícitamente.\n",
        "\n",
        "Para evitar esta confusión, a lo largo de esta documentación hablaremos normalmente de _\"índices\"_ (en plural) para referirnos a estas dos estructuras (de filas y columnas), de _\"índice\"_ (en singular) para referirnos al índice de etiquetas del eje vertical, y de _\"índice de columnas\"_ y de _\"índice de filas\"_ siempre que sea necesario remarcar a cuál estamos refiriéndonos."
      ],
      "id": "H3V_o6QwdFTb"
    },
    {
      "cell_type": "markdown",
      "metadata": {
        "id": "DHLh-kmPdFTc"
      },
      "source": [
        "El __eje 0__ es el correspondiente al índice de filas (eje vertical) y el __eje 1__ al índice de columnas (eje horizontal). Como puede verse en los ejemplos anteriores, ambos índices son de tipo _\"objeto\"_ (ya se ha comentado que, concretamente, son objetos de tipo Index).\n",
        "\n",
        "El atributo axes devuelve una lista con los ejes de la estructura (dos, al tratarse de una estructura bidimensional):"
      ],
      "id": "DHLh-kmPdFTc"
    },
    {
      "cell_type": "code",
      "metadata": {
        "id": "HWxMMt1UdFTc",
        "colab": {
          "base_uri": "https://localhost:8080/",
          "height": 206
        },
        "outputId": "48dc05eb-43b4-4b09-d23b-f3a49f2eb0c7"
      },
      "source": [
        "ventas.index.name = \"Meses\"\n",
        "ventas.columns.name = \"Métricas\"\n",
        "ventas"
      ],
      "execution_count": null,
      "outputs": [
        {
          "output_type": "execute_result",
          "data": {
            "text/plain": [
              "Métricas  Entradas  Salidas  Valoración Límite  Cambio\n",
              "Meses                                                 \n",
              "Ene             41       17          66     No    1.43\n",
              "Feb             32       54          54     Si    1.16\n",
              "Mar             56        6          49     No   -0.67\n",
              "Abr             18       78          66     No    0.77"
            ],
            "text/html": [
              "\n",
              "  <div id=\"df-23a0ede1-1f98-4807-90cb-91cd3f37810f\">\n",
              "    <div class=\"colab-df-container\">\n",
              "      <div>\n",
              "<style scoped>\n",
              "    .dataframe tbody tr th:only-of-type {\n",
              "        vertical-align: middle;\n",
              "    }\n",
              "\n",
              "    .dataframe tbody tr th {\n",
              "        vertical-align: top;\n",
              "    }\n",
              "\n",
              "    .dataframe thead th {\n",
              "        text-align: right;\n",
              "    }\n",
              "</style>\n",
              "<table border=\"1\" class=\"dataframe\">\n",
              "  <thead>\n",
              "    <tr style=\"text-align: right;\">\n",
              "      <th>Métricas</th>\n",
              "      <th>Entradas</th>\n",
              "      <th>Salidas</th>\n",
              "      <th>Valoración</th>\n",
              "      <th>Límite</th>\n",
              "      <th>Cambio</th>\n",
              "    </tr>\n",
              "    <tr>\n",
              "      <th>Meses</th>\n",
              "      <th></th>\n",
              "      <th></th>\n",
              "      <th></th>\n",
              "      <th></th>\n",
              "      <th></th>\n",
              "    </tr>\n",
              "  </thead>\n",
              "  <tbody>\n",
              "    <tr>\n",
              "      <th>Ene</th>\n",
              "      <td>41</td>\n",
              "      <td>17</td>\n",
              "      <td>66</td>\n",
              "      <td>No</td>\n",
              "      <td>1.43</td>\n",
              "    </tr>\n",
              "    <tr>\n",
              "      <th>Feb</th>\n",
              "      <td>32</td>\n",
              "      <td>54</td>\n",
              "      <td>54</td>\n",
              "      <td>Si</td>\n",
              "      <td>1.16</td>\n",
              "    </tr>\n",
              "    <tr>\n",
              "      <th>Mar</th>\n",
              "      <td>56</td>\n",
              "      <td>6</td>\n",
              "      <td>49</td>\n",
              "      <td>No</td>\n",
              "      <td>-0.67</td>\n",
              "    </tr>\n",
              "    <tr>\n",
              "      <th>Abr</th>\n",
              "      <td>18</td>\n",
              "      <td>78</td>\n",
              "      <td>66</td>\n",
              "      <td>No</td>\n",
              "      <td>0.77</td>\n",
              "    </tr>\n",
              "  </tbody>\n",
              "</table>\n",
              "</div>\n",
              "      <button class=\"colab-df-convert\" onclick=\"convertToInteractive('df-23a0ede1-1f98-4807-90cb-91cd3f37810f')\"\n",
              "              title=\"Convert this dataframe to an interactive table.\"\n",
              "              style=\"display:none;\">\n",
              "        \n",
              "  <svg xmlns=\"http://www.w3.org/2000/svg\" height=\"24px\"viewBox=\"0 0 24 24\"\n",
              "       width=\"24px\">\n",
              "    <path d=\"M0 0h24v24H0V0z\" fill=\"none\"/>\n",
              "    <path d=\"M18.56 5.44l.94 2.06.94-2.06 2.06-.94-2.06-.94-.94-2.06-.94 2.06-2.06.94zm-11 1L8.5 8.5l.94-2.06 2.06-.94-2.06-.94L8.5 2.5l-.94 2.06-2.06.94zm10 10l.94 2.06.94-2.06 2.06-.94-2.06-.94-.94-2.06-.94 2.06-2.06.94z\"/><path d=\"M17.41 7.96l-1.37-1.37c-.4-.4-.92-.59-1.43-.59-.52 0-1.04.2-1.43.59L10.3 9.45l-7.72 7.72c-.78.78-.78 2.05 0 2.83L4 21.41c.39.39.9.59 1.41.59.51 0 1.02-.2 1.41-.59l7.78-7.78 2.81-2.81c.8-.78.8-2.07 0-2.86zM5.41 20L4 18.59l7.72-7.72 1.47 1.35L5.41 20z\"/>\n",
              "  </svg>\n",
              "      </button>\n",
              "      \n",
              "  <style>\n",
              "    .colab-df-container {\n",
              "      display:flex;\n",
              "      flex-wrap:wrap;\n",
              "      gap: 12px;\n",
              "    }\n",
              "\n",
              "    .colab-df-convert {\n",
              "      background-color: #E8F0FE;\n",
              "      border: none;\n",
              "      border-radius: 50%;\n",
              "      cursor: pointer;\n",
              "      display: none;\n",
              "      fill: #1967D2;\n",
              "      height: 32px;\n",
              "      padding: 0 0 0 0;\n",
              "      width: 32px;\n",
              "    }\n",
              "\n",
              "    .colab-df-convert:hover {\n",
              "      background-color: #E2EBFA;\n",
              "      box-shadow: 0px 1px 2px rgba(60, 64, 67, 0.3), 0px 1px 3px 1px rgba(60, 64, 67, 0.15);\n",
              "      fill: #174EA6;\n",
              "    }\n",
              "\n",
              "    [theme=dark] .colab-df-convert {\n",
              "      background-color: #3B4455;\n",
              "      fill: #D2E3FC;\n",
              "    }\n",
              "\n",
              "    [theme=dark] .colab-df-convert:hover {\n",
              "      background-color: #434B5C;\n",
              "      box-shadow: 0px 1px 3px 1px rgba(0, 0, 0, 0.15);\n",
              "      filter: drop-shadow(0px 1px 2px rgba(0, 0, 0, 0.3));\n",
              "      fill: #FFFFFF;\n",
              "    }\n",
              "  </style>\n",
              "\n",
              "      <script>\n",
              "        const buttonEl =\n",
              "          document.querySelector('#df-23a0ede1-1f98-4807-90cb-91cd3f37810f button.colab-df-convert');\n",
              "        buttonEl.style.display =\n",
              "          google.colab.kernel.accessAllowed ? 'block' : 'none';\n",
              "\n",
              "        async function convertToInteractive(key) {\n",
              "          const element = document.querySelector('#df-23a0ede1-1f98-4807-90cb-91cd3f37810f');\n",
              "          const dataTable =\n",
              "            await google.colab.kernel.invokeFunction('convertToInteractive',\n",
              "                                                     [key], {});\n",
              "          if (!dataTable) return;\n",
              "\n",
              "          const docLinkHtml = 'Like what you see? Visit the ' +\n",
              "            '<a target=\"_blank\" href=https://colab.research.google.com/notebooks/data_table.ipynb>data table notebook</a>'\n",
              "            + ' to learn more about interactive tables.';\n",
              "          element.innerHTML = '';\n",
              "          dataTable['output_type'] = 'display_data';\n",
              "          await google.colab.output.renderOutput(dataTable, element);\n",
              "          const docLink = document.createElement('div');\n",
              "          docLink.innerHTML = docLinkHtml;\n",
              "          element.appendChild(docLink);\n",
              "        }\n",
              "      </script>\n",
              "    </div>\n",
              "  </div>\n",
              "  "
            ]
          },
          "metadata": {},
          "execution_count": 20
        }
      ],
      "id": "HWxMMt1UdFTc"
    },
    {
      "cell_type": "markdown",
      "metadata": {
        "id": "LoXx1afcdFTe"
      },
      "source": [
        "De forma semejante a como ocurría con las series, el atributo `values` de un dataframe nos permite acceder a los valores del dataframe, con formato `array` NumPy 2d."
      ],
      "id": "LoXx1afcdFTe"
    },
    {
      "cell_type": "code",
      "metadata": {
        "id": "mbB3KEnmdFTf",
        "colab": {
          "base_uri": "https://localhost:8080/"
        },
        "outputId": "3e55d4d2-595c-4861-dd63-d2858e688c43"
      },
      "source": [
        "ventas.values"
      ],
      "execution_count": null,
      "outputs": [
        {
          "output_type": "execute_result",
          "data": {
            "text/plain": [
              "array([[41, 17, 66, 'No', 1.43],\n",
              "       [32, 54, 54, 'Si', 1.16],\n",
              "       [56, 6, 49, 'No', -0.67],\n",
              "       [18, 78, 66, 'No', 0.77]], dtype=object)"
            ]
          },
          "metadata": {},
          "execution_count": 21
        }
      ],
      "id": "mbB3KEnmdFTf"
    },
    {
      "cell_type": "markdown",
      "metadata": {
        "id": "8XG-KoWJdFTh"
      },
      "source": [
        "Este array tendrá un tipo u otro en función de los tipos de las columnas del dataframe, acomodándose de forma que englobe a todos ellos.\n",
        "\n",
        "Y un dataframe también tiene un atributo `shape` que nos informa de su dimensionalidad y del número de elementos en cada dimensión. Podemos ver en el siguiente ejemplo que el dataframe ventas tiene 4 filas y 5 columnas:"
      ],
      "id": "8XG-KoWJdFTh"
    },
    {
      "cell_type": "code",
      "metadata": {
        "id": "PP4B20PudFTh",
        "colab": {
          "base_uri": "https://localhost:8080/"
        },
        "outputId": "82e5a12b-1d9d-446d-ba66-701a890d418e"
      },
      "source": [
        "ventas.shape"
      ],
      "execution_count": null,
      "outputs": [
        {
          "output_type": "execute_result",
          "data": {
            "text/plain": [
              "(4, 5)"
            ]
          },
          "metadata": {},
          "execution_count": 22
        }
      ],
      "id": "PP4B20PudFTh"
    },
    {
      "cell_type": "markdown",
      "metadata": {
        "id": "qK0_QqbzdFTk"
      },
      "source": [
        "Información adicional sobre los dataframes en la página de la documentación oficial de pandas, <a href=\"https://pandas.pydata.org/pandas-docs/stable/reference/frame.html\">aquí</a>."
      ],
      "id": "qK0_QqbzdFTk"
    },
    {
      "cell_type": "code",
      "source": [],
      "metadata": {
        "id": "9gZgKZTJD66_"
      },
      "execution_count": null,
      "outputs": [],
      "id": "9gZgKZTJD66_"
    },
    {
      "cell_type": "markdown",
      "source": [],
      "metadata": {
        "id": "XkXw1R3GHSNR"
      },
      "id": "XkXw1R3GHSNR"
    },
    {
      "cell_type": "code",
      "source": [],
      "metadata": {
        "id": "SCMyk_MyHTQe"
      },
      "id": "SCMyk_MyHTQe",
      "execution_count": null,
      "outputs": []
    },
    {
      "cell_type": "markdown",
      "id": "f64a6998",
      "metadata": {
        "id": "f64a6998"
      },
      "source": [
        "# 🧾 Ejercicios con Pandas en Python: Análisis de Ventas\n",
        "\n",
        "Este notebook contiene 20 ejercicios con sus respectivas soluciones utilizando la librería **Pandas** en Python, con un pequeño dataset de ventas. El objetivo es practicar tareas comunes de análisis de datos.\n",
        "\n",
        "Primero, cargamos el dataset:\n"
      ]
    },
    {
      "cell_type": "code",
      "execution_count": null,
      "id": "6a54ab44",
      "metadata": {
        "id": "6a54ab44"
      },
      "outputs": [],
      "source": [
        "import pandas as pd\n",
        "\n",
        "# Cargar el dataset\n",
        "ventas = pd.read_csv('dataset_ventas.csv')\n",
        "ventas"
      ]
    },
    {
      "cell_type": "markdown",
      "id": "76bd4fd3",
      "metadata": {
        "id": "76bd4fd3"
      },
      "source": [
        "### Ejercicio 1: 1. Mostrar las primeras 5 filas del DataFrame"
      ]
    },
    {
      "cell_type": "code",
      "execution_count": null,
      "id": "2b925839",
      "metadata": {
        "id": "2b925839"
      },
      "outputs": [],
      "source": [
        "ventas.head()"
      ]
    },
    {
      "cell_type": "markdown",
      "id": "4985418c",
      "metadata": {
        "id": "4985418c"
      },
      "source": [
        "### Ejercicio 2: 2. Mostrar el tipo de datos de cada columna"
      ]
    },
    {
      "cell_type": "code",
      "execution_count": null,
      "id": "5b3fc62a",
      "metadata": {
        "id": "5b3fc62a"
      },
      "outputs": [],
      "source": [
        "ventas.dtypes"
      ]
    },
    {
      "cell_type": "markdown",
      "id": "a279abcc",
      "metadata": {
        "id": "a279abcc"
      },
      "source": [
        "### Ejercicio 3: 3. Calcular el total de unidades vendidas"
      ]
    },
    {
      "cell_type": "code",
      "execution_count": null,
      "id": "f314b6c1",
      "metadata": {
        "id": "f314b6c1"
      },
      "outputs": [],
      "source": [
        "ventas['Unidades'].sum()"
      ]
    },
    {
      "cell_type": "markdown",
      "id": "69a31f00",
      "metadata": {
        "id": "69a31f00"
      },
      "source": [
        "### Ejercicio 4: 4. Calcular el total de ventas (columna 'TotalVenta')"
      ]
    },
    {
      "cell_type": "code",
      "execution_count": null,
      "id": "c6fefe84",
      "metadata": {
        "id": "c6fefe84"
      },
      "outputs": [],
      "source": [
        "ventas['TotalVenta'].sum()"
      ]
    },
    {
      "cell_type": "markdown",
      "id": "dc4c6576",
      "metadata": {
        "id": "dc4c6576"
      },
      "source": [
        "### Ejercicio 5: 5. Mostrar todas las ventas realizadas por 'Ana'"
      ]
    },
    {
      "cell_type": "code",
      "execution_count": null,
      "id": "84e6d9cc",
      "metadata": {
        "id": "84e6d9cc"
      },
      "outputs": [],
      "source": [
        "ventas[ventas['Vendedor'] == 'Ana']"
      ]
    },
    {
      "cell_type": "markdown",
      "id": "f0a8c9d6",
      "metadata": {
        "id": "f0a8c9d6"
      },
      "source": [
        "### Ejercicio 6: 6. Obtener el número de ventas por producto"
      ]
    },
    {
      "cell_type": "code",
      "execution_count": null,
      "id": "fbeae420",
      "metadata": {
        "id": "fbeae420"
      },
      "outputs": [],
      "source": [
        "ventas['Producto'].value_counts()"
      ]
    },
    {
      "cell_type": "markdown",
      "id": "356df77c",
      "metadata": {
        "id": "356df77c"
      },
      "source": [
        "### Ejercicio 7: 7. Calcular la venta promedio por producto"
      ]
    },
    {
      "cell_type": "code",
      "execution_count": null,
      "id": "d5d9bcf4",
      "metadata": {
        "id": "d5d9bcf4"
      },
      "outputs": [],
      "source": [
        "ventas.groupby('Producto')['TotalVenta'].mean()"
      ]
    },
    {
      "cell_type": "markdown",
      "id": "df8c21d3",
      "metadata": {
        "id": "df8c21d3"
      },
      "source": [
        "### Ejercicio 8: 8. Ordenar las ventas de mayor a menor por 'TotalVenta'"
      ]
    },
    {
      "cell_type": "code",
      "execution_count": null,
      "id": "466ba6ac",
      "metadata": {
        "id": "466ba6ac"
      },
      "outputs": [],
      "source": [
        "ventas.sort_values(by='TotalVenta', ascending=False)"
      ]
    },
    {
      "cell_type": "markdown",
      "id": "1b51fe18",
      "metadata": {
        "id": "1b51fe18"
      },
      "source": [
        "### Ejercicio 9: 9. Agregar una columna con el IVA (19%) aplicado a cada venta"
      ]
    },
    {
      "cell_type": "code",
      "execution_count": null,
      "id": "af135bf6",
      "metadata": {
        "id": "af135bf6"
      },
      "outputs": [],
      "source": [
        "ventas['IVA'] = ventas['TotalVenta'] * 0.19\n",
        "ventas"
      ]
    },
    {
      "cell_type": "markdown",
      "id": "29f83c75",
      "metadata": {
        "id": "29f83c75"
      },
      "source": [
        "### Ejercicio 10: 10. Filtrar las ventas donde se vendieron más de 3 unidades"
      ]
    },
    {
      "cell_type": "code",
      "execution_count": null,
      "id": "2a6bac61",
      "metadata": {
        "id": "2a6bac61"
      },
      "outputs": [],
      "source": [
        "ventas[ventas['Unidades'] > 3]"
      ]
    },
    {
      "cell_type": "markdown",
      "id": "ea6e5f83",
      "metadata": {
        "id": "ea6e5f83"
      },
      "source": [
        "### Ejercicio 11: 11. Reemplazar 'Tablet' por 'Tableta' en la columna Producto"
      ]
    },
    {
      "cell_type": "code",
      "execution_count": null,
      "id": "e0331f00",
      "metadata": {
        "id": "e0331f00"
      },
      "outputs": [],
      "source": [
        "ventas['Producto'] = ventas['Producto'].replace('Tablet', 'Tableta')\n",
        "ventas"
      ]
    },
    {
      "cell_type": "markdown",
      "id": "47143629",
      "metadata": {
        "id": "47143629"
      },
      "source": [
        "### Ejercicio 12: 12. Agrupar por Vendedor y obtener la suma total de ventas"
      ]
    },
    {
      "cell_type": "code",
      "execution_count": null,
      "id": "3c1bbdc6",
      "metadata": {
        "id": "3c1bbdc6"
      },
      "outputs": [],
      "source": [
        "ventas.groupby('Vendedor')['TotalVenta'].sum()"
      ]
    },
    {
      "cell_type": "markdown",
      "id": "285cd0d1",
      "metadata": {
        "id": "285cd0d1"
      },
      "source": [
        "### Ejercicio 13: 13. Crear una nueva columna 'Descuento' con 10% del TotalVenta si se vendieron más de 5 unidades"
      ]
    },
    {
      "cell_type": "code",
      "execution_count": null,
      "id": "7740bd44",
      "metadata": {
        "id": "7740bd44"
      },
      "outputs": [],
      "source": [
        "ventas['Descuento'] = ventas.apply(lambda row: row['TotalVenta'] * 0.10 if row['Unidades'] > 5 else 0, axis=1)\n",
        "ventas"
      ]
    },
    {
      "cell_type": "markdown",
      "id": "c418c0f2",
      "metadata": {
        "id": "c418c0f2"
      },
      "source": [
        "### Ejercicio 14: 14. Calcular el precio promedio unitario por producto"
      ]
    },
    {
      "cell_type": "code",
      "execution_count": null,
      "id": "ebc7d76e",
      "metadata": {
        "id": "ebc7d76e"
      },
      "outputs": [],
      "source": [
        "ventas.groupby('Producto')['PrecioUnitario'].mean()"
      ]
    },
    {
      "cell_type": "markdown",
      "id": "9bad6fd5",
      "metadata": {
        "id": "9bad6fd5"
      },
      "source": [
        "### Ejercicio 15: 15. Filtrar las ventas realizadas en los primeros 5 días"
      ]
    },
    {
      "cell_type": "code",
      "execution_count": null,
      "id": "1fbb7d07",
      "metadata": {
        "id": "1fbb7d07"
      },
      "outputs": [],
      "source": [
        "ventas['Fecha'] = pd.to_datetime(ventas['Fecha'])\n",
        "ventas[ventas['Fecha'] <= '2023-01-05']"
      ]
    },
    {
      "cell_type": "markdown",
      "id": "daea7ec9",
      "metadata": {
        "id": "daea7ec9"
      },
      "source": [
        "### Ejercicio 16: 16. Calcular el total vendido por día"
      ]
    },
    {
      "cell_type": "code",
      "execution_count": null,
      "id": "8a0a7424",
      "metadata": {
        "id": "8a0a7424"
      },
      "outputs": [],
      "source": [
        "ventas.groupby('Fecha')['TotalVenta'].sum()"
      ]
    },
    {
      "cell_type": "markdown",
      "id": "62c5f908",
      "metadata": {
        "id": "62c5f908"
      },
      "source": [
        "### Ejercicio 17: 17. Contar cuántas veces vendió cada vendedor"
      ]
    },
    {
      "cell_type": "code",
      "execution_count": null,
      "id": "cf652069",
      "metadata": {
        "id": "cf652069"
      },
      "outputs": [],
      "source": [
        "ventas['Vendedor'].value_counts()"
      ]
    },
    {
      "cell_type": "markdown",
      "id": "91ffb026",
      "metadata": {
        "id": "91ffb026"
      },
      "source": [
        "### Ejercicio 18: 18. Mostrar los 3 productos más vendidos en total de unidades"
      ]
    },
    {
      "cell_type": "code",
      "execution_count": null,
      "id": "6715cc70",
      "metadata": {
        "id": "6715cc70"
      },
      "outputs": [],
      "source": [
        "ventas.groupby('Producto')['Unidades'].sum().sort_values(ascending=False).head(3)"
      ]
    },
    {
      "cell_type": "markdown",
      "id": "aada09ce",
      "metadata": {
        "id": "aada09ce"
      },
      "source": [
        "### Ejercicio 19: 19. Mostrar solo las columnas Vendedor, Producto y TotalVenta"
      ]
    },
    {
      "cell_type": "code",
      "execution_count": null,
      "id": "29391ce6",
      "metadata": {
        "id": "29391ce6"
      },
      "outputs": [],
      "source": [
        "ventas[['Vendedor', 'Producto', 'TotalVenta']]"
      ]
    },
    {
      "cell_type": "markdown",
      "id": "19905465",
      "metadata": {
        "id": "19905465"
      },
      "source": [
        "### Ejercicio 20: 20. Guardar el DataFrame modificado a un nuevo archivo CSV"
      ]
    },
    {
      "cell_type": "code",
      "execution_count": null,
      "id": "8c0eb9d0",
      "metadata": {
        "id": "8c0eb9d0"
      },
      "outputs": [],
      "source": [
        "ventas.to_csv('ventas_modificado.csv', index=False)"
      ]
    },
    {
      "cell_type": "markdown",
      "metadata": {
        "id": "c3f5219a"
      },
      "source": [
        "### Ejercicio 21: 21. Agrupar por producto y vendedor, y calcular la suma total vendida"
      ],
      "id": "c3f5219a"
    },
    {
      "cell_type": "markdown",
      "metadata": {
        "id": "102e6ea6"
      },
      "source": [
        "### Ejercicio 22: 22. Crear una tabla dinámica con Producto como índice y Vendedor como columnas"
      ],
      "id": "102e6ea6"
    },
    {
      "cell_type": "markdown",
      "metadata": {
        "id": "471c6fe4"
      },
      "source": [
        "### Ejercicio 23: 23. Extraer el mes de la columna Fecha"
      ],
      "id": "471c6fe4"
    },
    {
      "cell_type": "markdown",
      "metadata": {
        "id": "1f0f7b6b"
      },
      "source": [
        "### Ejercicio 24: 24. Calcular la venta promedio diaria"
      ],
      "id": "1f0f7b6b"
    },
    {
      "cell_type": "markdown",
      "metadata": {
        "id": "776802d3"
      },
      "source": [
        "### Ejercicio 25: 25. Encontrar la fecha con mayores ventas totales"
      ],
      "id": "776802d3"
    },
    {
      "cell_type": "markdown",
      "metadata": {
        "id": "a4d39075"
      },
      "source": [
        "### Ejercicio 26: 26. Unir el DataFrame de ventas con uno nuevo que contenga metas de ventas por vendedor"
      ],
      "id": "a4d39075"
    },
    {
      "cell_type": "markdown",
      "metadata": {
        "id": "77dd0147"
      },
      "source": [
        "### Ejercicio 27: 27. Crear una columna booleana que indique si la venta superó la meta diaria promedio del vendedor"
      ],
      "id": "77dd0147"
    },
    {
      "cell_type": "markdown",
      "metadata": {
        "id": "65be863f"
      },
      "source": [
        "### Ejercicio 28: 28. Ordenar el DataFrame por Vendedor y Fecha"
      ],
      "id": "65be863f"
    },
    {
      "cell_type": "markdown",
      "metadata": {
        "id": "12727aad"
      },
      "source": [
        "### Ejercicio 29: 29. Crear una columna acumulativa de ventas por vendedor"
      ],
      "id": "12727aad"
    },
    {
      "cell_type": "markdown",
      "metadata": {
        "id": "52223090"
      },
      "source": [
        "### Ejercicio 30: 30. Eliminar ventas donde el total sea menor a 500"
      ],
      "id": "52223090"
    },
    {
      "cell_type": "markdown",
      "metadata": {
        "id": "a5428b0a"
      },
      "source": [
        "### Ejercicio 31: 31. Encontrar el promedio de unidades vendidas por producto y vendedor"
      ],
      "id": "a5428b0a"
    },
    {
      "cell_type": "markdown",
      "metadata": {
        "id": "11d226b4"
      },
      "source": [
        "### Ejercicio 32: 32. Identificar cuántos productos únicos vendió cada vendedor"
      ],
      "id": "11d226b4"
    },
    {
      "cell_type": "markdown",
      "metadata": {
        "id": "10d51452"
      },
      "source": [
        "### Ejercicio 33: 33. Crear un resumen estadístico del DataFrame solo para columnas numéricas"
      ],
      "id": "10d51452"
    },
    {
      "cell_type": "markdown",
      "metadata": {
        "id": "9e9ba397"
      },
      "source": [
        "### Ejercicio 34: 34. Reordenar las columnas para que TotalVenta aparezca primero"
      ],
      "id": "9e9ba397"
    },
    {
      "cell_type": "markdown",
      "metadata": {
        "id": "3899cd37"
      },
      "source": [
        "### Ejercicio 35: 35. Usar .query para seleccionar ventas de Ana mayores a $2000"
      ],
      "id": "3899cd37"
    },
    {
      "cell_type": "markdown",
      "metadata": {
        "id": "267ca238"
      },
      "source": [
        "### Ejercicio 36: 36. Crear un ranking de ventas por vendedor"
      ],
      "id": "267ca238"
    },
    {
      "cell_type": "markdown",
      "metadata": {
        "id": "e0786a76"
      },
      "source": [
        "### Ejercicio 37: 37. Calcular la media móvil de 2 días del TotalVenta"
      ],
      "id": "e0786a76"
    },
    {
      "cell_type": "markdown",
      "metadata": {
        "id": "26cf6fec"
      },
      "source": [
        "### Ejercicio 38: 38. Encontrar el producto con menor precio unitario promedio"
      ],
      "id": "26cf6fec"
    },
    {
      "cell_type": "markdown",
      "metadata": {
        "id": "94a2b748"
      },
      "source": [
        "### Ejercicio 39: 39. Agrupar por mes y calcular el total vendido"
      ],
      "id": "94a2b748"
    },
    {
      "cell_type": "markdown",
      "metadata": {
        "id": "f010def4"
      },
      "source": [
        "### Ejercicio 40: 40. Crear una columna que indique si la venta fue un lunes"
      ],
      "id": "f010def4"
    },
    {
      "cell_type": "markdown",
      "metadata": {
        "id": "486808a9"
      },
      "source": [
        "### Ejercicio 41: 41. Crear una columna con la desviación estándar del TotalVenta por vendedor"
      ],
      "id": "486808a9"
    },
    {
      "cell_type": "markdown",
      "metadata": {
        "id": "16eace79"
      },
      "source": [
        "### Ejercicio 42: 42. Detectar ventas atípicas con z-score > 2"
      ],
      "id": "16eace79"
    },
    {
      "cell_type": "markdown",
      "metadata": {
        "id": "90192af5"
      },
      "source": [
        "### Ejercicio 43: 43. Aplicar una función personalizada con apply para clasificar ventas en baja/media/alta"
      ],
      "id": "90192af5"
    },
    {
      "cell_type": "markdown",
      "metadata": {
        "id": "ef9df2b5"
      },
      "source": [
        "### Ejercicio 44: 44. Pivotar el DataFrame para tener fechas como columnas"
      ],
      "id": "ef9df2b5"
    },
    {
      "cell_type": "markdown",
      "metadata": {
        "id": "e3160d5d"
      },
      "source": [
        "### Ejercicio 45: 45. Derretir el DataFrame anterior con melt"
      ],
      "id": "e3160d5d"
    },
    {
      "cell_type": "markdown",
      "metadata": {
        "id": "964543d7"
      },
      "source": [
        "### Ejercicio 46: 46. Crear un MultiIndex con Vendedor y Fecha"
      ],
      "id": "964543d7"
    },
    {
      "cell_type": "markdown",
      "metadata": {
        "id": "0930bc16"
      },
      "source": [
        "### Ejercicio 47: 47. Usar loc con MultiIndex para seleccionar datos de Pedro en una fecha específica"
      ],
      "id": "0930bc16"
    },
    {
      "cell_type": "markdown",
      "metadata": {
        "id": "371ac567"
      },
      "source": [
        "### Ejercicio 48: 48. Leer el CSV en fragmentos de 5 filas"
      ],
      "id": "371ac567"
    },
    {
      "cell_type": "markdown",
      "metadata": {
        "id": "e6089f14"
      },
      "source": [
        "### Ejercicio 49: 49. Calcular una agregación personalizada: suma + conteo en una sola función"
      ],
      "id": "e6089f14"
    },
    {
      "cell_type": "markdown",
      "metadata": {
        "id": "e5ad95de"
      },
      "source": [
        "### Ejercicio 50: 50. Guardar el resumen total por producto en un nuevo archivo CSV"
      ],
      "id": "e5ad95de"
    }
  ],
  "metadata": {
    "colab": {
      "provenance": [],
      "include_colab_link": true
    }
  },
  "nbformat": 4,
  "nbformat_minor": 5
}