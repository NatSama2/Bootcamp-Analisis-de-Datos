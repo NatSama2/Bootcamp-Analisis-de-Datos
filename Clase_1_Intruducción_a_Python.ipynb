{
  "nbformat": 4,
  "nbformat_minor": 0,
  "metadata": {
    "colab": {
      "provenance": [],
      "collapsed_sections": [
        "4UbITV14SKvj",
        "lX8Pc55LSKwz"
      ],
      "include_colab_link": true
    },
    "kernelspec": {
      "display_name": "Python 3 (ipykernel)",
      "language": "python",
      "name": "python3"
    },
    "language_info": {
      "codemirror_mode": {
        "name": "ipython",
        "version": 3
      },
      "file_extension": ".py",
      "mimetype": "text/x-python",
      "name": "python",
      "nbconvert_exporter": "python",
      "pygments_lexer": "ipython3",
      "version": "3.8.11"
    }
  },
  "cells": [
    {
      "cell_type": "markdown",
      "metadata": {
        "id": "view-in-github",
        "colab_type": "text"
      },
      "source": [
        "<a href=\"https://colab.research.google.com/github/NatSama2/Bootcamp-Analisis-de-Datos/blob/main/Clase_1_Intruducci%C3%B3n_a_Python.ipynb\" target=\"_parent\"><img src=\"https://colab.research.google.com/assets/colab-badge.svg\" alt=\"Open In Colab\"/></a>"
      ]
    },
    {
      "cell_type": "markdown",
      "metadata": {
        "id": "ukqkTxThSKu5"
      },
      "source": [
        "# **Introducción a Python**\n",
        "# MODULO 3. Introducción a Python"
      ]
    },
    {
      "cell_type": "markdown",
      "metadata": {
        "id": "e__p9PGPyird"
      },
      "source": [
        "## <font color='orange'>Cómo aprenderemos Python?</font>\n",
        "Durante el presente curso, ustedes recibirán un entrenamiento para convertirse en agentes secretos de criptografía. Conocerán las reglas y secretos de Python a fondo y lograrán desarrollar un proyecto final en el cual desarrollarán una máquina [Enigma](https://es.wikipedia.org/wiki/Enigma_(máquina)). Con esta máquina criptográfica deberán descifrar el desafío final del curso.\n",
        "\n",
        "Mucha suerte aprendices de hackers!!"
      ]
    },
    {
      "cell_type": "markdown",
      "metadata": {
        "id": "pCqshoFASKu7"
      },
      "source": [
        "## <font color='blue'>**El Zen de Python**</font>\n",
        "El veterano pytonista Tim Peters, canaliza sucintamente los principios rectores para el diseño de Python en 19 aforismos. Se le conoce como **El Zen de Python**."
      ]
    },
    {
      "cell_type": "code",
      "metadata": {
        "id": "cIZbli-wSKu8",
        "collapsed": true
      },
      "source": [
        "# El Zen de Python\n",
        "import this"
      ],
      "execution_count": 166,
      "outputs": []
    },
    {
      "cell_type": "markdown",
      "metadata": {
        "id": "j6TcNepCSKvA"
      },
      "source": [
        "## <font color='blue'>**Variables**</font>"
      ]
    },
    {
      "cell_type": "markdown",
      "metadata": {
        "id": "FsZ3ne33SKvC"
      },
      "source": [
        "Un nombre que se usa para denotar algo o un valor se llama variable. En Python, las variables se pueden declarar y se le pueden asignar valores de la siguiente manera,"
      ]
    },
    {
      "cell_type": "code",
      "metadata": {
        "id": "boRLkp-2SKvD"
      },
      "source": [
        "x = 2\n",
        "y = 5\n"
      ],
      "execution_count": 167,
      "outputs": []
    },
    {
      "cell_type": "code",
      "metadata": {
        "id": "m-xNhpDQSKvG",
        "collapsed": true,
        "colab": {
          "base_uri": "https://localhost:8080/"
        },
        "outputId": "f775ae4e-c569-4bc1-80f6-ea22c7dee05f"
      },
      "source": [
        "# Aquí usamos nuestra primera función: print()\n",
        "\n",
        "print(x + y)\n"
      ],
      "execution_count": 168,
      "outputs": [
        {
          "output_type": "stream",
          "name": "stdout",
          "text": [
            "7\n"
          ]
        }
      ]
    },
    {
      "cell_type": "markdown",
      "metadata": {
        "id": "3v_UgKKkSKvI"
      },
      "source": [
        "Multiples variables pueden ser asignadas con el mismo valor."
      ]
    },
    {
      "cell_type": "code",
      "metadata": {
        "id": "5mIoxxN9SKvJ"
      },
      "source": [
        "x = y = 20"
      ],
      "execution_count": 169,
      "outputs": []
    },
    {
      "cell_type": "code",
      "metadata": {
        "id": "H_-JtHX1SKvM",
        "colab": {
          "base_uri": "https://localhost:8080/"
        },
        "outputId": "317a38eb-9191-43ef-b38c-ae964765baa0"
      },
      "source": [
        "print(x, y)"
      ],
      "execution_count": 170,
      "outputs": [
        {
          "output_type": "stream",
          "name": "stdout",
          "text": [
            "20 20\n"
          ]
        }
      ]
    },
    {
      "cell_type": "markdown",
      "metadata": {
        "id": "72RcAngJSKvP"
      },
      "source": [
        "Si has programado en otros lenguajes, probablemente aprendiste que las variables eran una suerte de \"caja\" en la cual guardabas algo. En Python ese concepto es algo distinto. Mira:"
      ]
    },
    {
      "cell_type": "code",
      "metadata": {
        "id": "4JemAWBcSKvP"
      },
      "source": [
        "a = 1"
      ],
      "execution_count": 171,
      "outputs": []
    },
    {
      "cell_type": "code",
      "metadata": {
        "id": "lamwRl8ISKvS",
        "colab": {
          "base_uri": "https://localhost:8080/"
        },
        "outputId": "55ef8533-c162-45ae-9d60-8cc195d9a5aa"
      },
      "source": [
        "id(a)"
      ],
      "execution_count": 172,
      "outputs": [
        {
          "output_type": "execute_result",
          "data": {
            "text/plain": [
              "10757736"
            ]
          },
          "metadata": {},
          "execution_count": 172
        }
      ]
    },
    {
      "cell_type": "code",
      "source": [],
      "metadata": {
        "id": "yyytN_by6u_S"
      },
      "execution_count": 172,
      "outputs": []
    },
    {
      "cell_type": "markdown",
      "metadata": {
        "id": "3pUY587JyeNv"
      },
      "source": [
        "Si te fijas el identificador de $a$, `id(a)`, nos da un valor. Si asigno 1 a otra variable, en este caso $b$, te darás cuenta que se obtiene el mismo identificador. En Python las variables apuntan a direcciones de memoria en las cuales se almacenan objetos."
      ]
    },
    {
      "cell_type": "code",
      "metadata": {
        "id": "yvvt-KgESKvV"
      },
      "source": [
        "b = 1"
      ],
      "execution_count": 173,
      "outputs": []
    },
    {
      "cell_type": "code",
      "metadata": {
        "id": "svNrsowiSKvY",
        "colab": {
          "base_uri": "https://localhost:8080/"
        },
        "outputId": "4b630dd1-817c-433e-b43e-ccccead2e704"
      },
      "source": [
        "id(b)"
      ],
      "execution_count": 174,
      "outputs": [
        {
          "output_type": "execute_result",
          "data": {
            "text/plain": [
              "10757736"
            ]
          },
          "metadata": {},
          "execution_count": 174
        }
      ]
    },
    {
      "cell_type": "code",
      "metadata": {
        "id": "jk-XjX5TSKva",
        "colab": {
          "base_uri": "https://localhost:8080/"
        },
        "outputId": "7606d900-f306-43dd-84cc-fbaba2beb81b"
      },
      "source": [
        "# Veamos si son iguales usando el operador ==\n",
        "id(a) == id(b)"
      ],
      "execution_count": 175,
      "outputs": [
        {
          "output_type": "execute_result",
          "data": {
            "text/plain": [
              "True"
            ]
          },
          "metadata": {},
          "execution_count": 175
        }
      ]
    },
    {
      "cell_type": "code",
      "metadata": {
        "id": "6H0YTx5kSKve",
        "colab": {
          "base_uri": "https://localhost:8080/"
        },
        "outputId": "61919ee3-6c70-49f8-f4a8-b0f8bd0152ed"
      },
      "source": [
        "id(1)"
      ],
      "execution_count": 176,
      "outputs": [
        {
          "output_type": "execute_result",
          "data": {
            "text/plain": [
              "10757736"
            ]
          },
          "metadata": {},
          "execution_count": 176
        }
      ]
    },
    {
      "cell_type": "code",
      "metadata": {
        "id": "xwqfn4x3SKvh",
        "colab": {
          "base_uri": "https://localhost:8080/"
        },
        "outputId": "81be1297-33eb-4b1d-ddff-b5ac0cea544f"
      },
      "source": [
        "id(a) == id(b) == id(1)"
      ],
      "execution_count": 177,
      "outputs": [
        {
          "output_type": "execute_result",
          "data": {
            "text/plain": [
              "True"
            ]
          },
          "metadata": {},
          "execution_count": 177
        }
      ]
    },
    {
      "cell_type": "markdown",
      "metadata": {
        "id": "4UbITV14SKvj"
      },
      "source": [
        "## <font color='blue'>**Operadores**</font>"
      ]
    },
    {
      "cell_type": "markdown",
      "metadata": {
        "id": "3YUg138HSKvk"
      },
      "source": [
        "## Operadores aritméticos"
      ]
    },
    {
      "cell_type": "markdown",
      "metadata": {
        "id": "-2ku2AyFSKvk"
      },
      "source": [
        "| Símbolo | Tarea ejecutada |\n",
        "|:---:|---:|\n",
        "| +  | Suma |\n",
        "| -  | Resta |\n",
        "| /  | División |\n",
        "| %  | Módulo |\n",
        "| *  | Multiplicación |\n",
        "| //  | Función de parte entera - Piso |\n",
        "| **  | Potencia |"
      ]
    },
    {
      "cell_type": "code",
      "metadata": {
        "id": "uieR0l0kSKvl",
        "colab": {
          "base_uri": "https://localhost:8080/"
        },
        "outputId": "0904cdd6-9793-4f4a-edae-c695e6f2efe9"
      },
      "source": [
        "# Suma\n",
        "1 + 2"
      ],
      "execution_count": 178,
      "outputs": [
        {
          "output_type": "execute_result",
          "data": {
            "text/plain": [
              "3"
            ]
          },
          "metadata": {},
          "execution_count": 178
        }
      ]
    },
    {
      "cell_type": "code",
      "metadata": {
        "id": "9VFGD5TkSKvo",
        "colab": {
          "base_uri": "https://localhost:8080/"
        },
        "outputId": "aca25e86-ecdf-464c-d923-87cd8307cd0d"
      },
      "source": [
        "# Resta\n",
        "2 - 1"
      ],
      "execution_count": 179,
      "outputs": [
        {
          "output_type": "execute_result",
          "data": {
            "text/plain": [
              "1"
            ]
          },
          "metadata": {},
          "execution_count": 179
        }
      ]
    },
    {
      "cell_type": "code",
      "metadata": {
        "id": "fERDe26CSKvq",
        "colab": {
          "base_uri": "https://localhost:8080/"
        },
        "outputId": "2a46cf1f-a9c6-4179-ac76-1ee1d07c370a"
      },
      "source": [
        "# Multiplicación\n",
        "1 * 2"
      ],
      "execution_count": 180,
      "outputs": [
        {
          "output_type": "execute_result",
          "data": {
            "text/plain": [
              "2"
            ]
          },
          "metadata": {},
          "execution_count": 180
        }
      ]
    },
    {
      "cell_type": "code",
      "metadata": {
        "id": "n8BJnmnVSKvt",
        "colab": {
          "base_uri": "https://localhost:8080/"
        },
        "outputId": "edc2df31-c0c7-4513-8619-98840438ed54"
      },
      "source": [
        "# División\n",
        "1 / 2"
      ],
      "execution_count": 181,
      "outputs": [
        {
          "output_type": "execute_result",
          "data": {
            "text/plain": [
              "0.5"
            ]
          },
          "metadata": {},
          "execution_count": 181
        }
      ]
    },
    {
      "cell_type": "code",
      "metadata": {
        "id": "QZLQlxRCSKvv",
        "colab": {
          "base_uri": "https://localhost:8080/"
        },
        "outputId": "fc0c08fd-3b2c-4e1d-dbad-002cbc203b71"
      },
      "source": [
        "# División. Entrega muchos decimales\n",
        "4/7"
      ],
      "execution_count": 182,
      "outputs": [
        {
          "output_type": "execute_result",
          "data": {
            "text/plain": [
              "0.5714285714285714"
            ]
          },
          "metadata": {},
          "execution_count": 182
        }
      ]
    },
    {
      "cell_type": "code",
      "metadata": {
        "id": "9ZizYm_qSKvy",
        "colab": {
          "base_uri": "https://localhost:8080/"
        },
        "outputId": "f221c355-2172-447a-fc11-29f8d42e283d"
      },
      "source": [
        "# Módulo\n",
        "15 % 6"
      ],
      "execution_count": 183,
      "outputs": [
        {
          "output_type": "execute_result",
          "data": {
            "text/plain": [
              "3"
            ]
          },
          "metadata": {},
          "execution_count": 183
        }
      ]
    },
    {
      "cell_type": "markdown",
      "metadata": {
        "id": "SEw_41wqSKv0"
      },
      "source": [
        "La división de piso no es más que convertir el resultado así obtenido al número entero más cercano."
      ]
    },
    {
      "cell_type": "code",
      "metadata": {
        "id": "QHbkT1mYSKv0",
        "colab": {
          "base_uri": "https://localhost:8080/"
        },
        "outputId": "89e7e3d9-41aa-44af-a15e-fbd9647f5241"
      },
      "source": [
        "# Floor division\n",
        "15/4"
      ],
      "execution_count": 184,
      "outputs": [
        {
          "output_type": "execute_result",
          "data": {
            "text/plain": [
              "3.75"
            ]
          },
          "metadata": {},
          "execution_count": 184
        }
      ]
    },
    {
      "cell_type": "markdown",
      "metadata": {
        "id": "grtcaAvsSKv3"
      },
      "source": [
        "## Operadores relacionales"
      ]
    },
    {
      "cell_type": "markdown",
      "metadata": {
        "id": "kE7nh7-oSKv4"
      },
      "source": [
        "|   Símbolo   | Tarea ejecutada |\n",
        "|:-----:|---|\n",
        "| == | igual |\n",
        "| !=  | no igual |\n",
        "| < | menor que |\n",
        "| > | mayor que |\n",
        "| <=  | menor o igual queo |\n",
        "| >=  | mayor o igual que |"
      ]
    },
    {
      "cell_type": "code",
      "metadata": {
        "id": "gTDrLtZGyeN0"
      },
      "source": [
        "z = 1"
      ],
      "execution_count": 185,
      "outputs": []
    },
    {
      "cell_type": "code",
      "metadata": {
        "id": "YJwbtHseSKv6",
        "colab": {
          "base_uri": "https://localhost:8080/"
        },
        "outputId": "b3a04a7c-5c37-4659-98c5-03894c1384d4"
      },
      "source": [
        "print(z)"
      ],
      "execution_count": 186,
      "outputs": [
        {
          "output_type": "stream",
          "name": "stdout",
          "text": [
            "1\n"
          ]
        }
      ]
    },
    {
      "cell_type": "code",
      "metadata": {
        "id": "ow9c7CzeSKv9",
        "colab": {
          "base_uri": "https://localhost:8080/"
        },
        "outputId": "38ed336a-af1d-47e7-a433-70c6277a3263"
      },
      "source": [
        "z == 2"
      ],
      "execution_count": 187,
      "outputs": [
        {
          "output_type": "execute_result",
          "data": {
            "text/plain": [
              "False"
            ]
          },
          "metadata": {},
          "execution_count": 187
        }
      ]
    },
    {
      "cell_type": "code",
      "metadata": {
        "id": "UB3Aags_SKv_",
        "colab": {
          "base_uri": "https://localhost:8080/"
        },
        "outputId": "2bdf2f5a-6a2a-4e34-9aa0-4448ef2960b2"
      },
      "source": [
        "z >= 1"
      ],
      "execution_count": 188,
      "outputs": [
        {
          "output_type": "execute_result",
          "data": {
            "text/plain": [
              "True"
            ]
          },
          "metadata": {},
          "execution_count": 188
        }
      ]
    },
    {
      "cell_type": "code",
      "metadata": {
        "id": "FfYBlVx6SKwC",
        "colab": {
          "base_uri": "https://localhost:8080/"
        },
        "outputId": "2f775a17-9ec9-4a9d-86b3-e118c1f859df"
      },
      "source": [
        "z == 1.0"
      ],
      "execution_count": 189,
      "outputs": [
        {
          "output_type": "execute_result",
          "data": {
            "text/plain": [
              "True"
            ]
          },
          "metadata": {},
          "execution_count": 189
        }
      ]
    },
    {
      "cell_type": "code",
      "metadata": {
        "id": "rOonkgUISKwF",
        "colab": {
          "base_uri": "https://localhost:8080/"
        },
        "outputId": "5f16fa58-4a7b-40e6-8b0f-c8e89cfe328e"
      },
      "source": [
        "id(z) == id(1.0)"
      ],
      "execution_count": 190,
      "outputs": [
        {
          "output_type": "execute_result",
          "data": {
            "text/plain": [
              "False"
            ]
          },
          "metadata": {},
          "execution_count": 190
        }
      ]
    },
    {
      "cell_type": "markdown",
      "metadata": {
        "id": "ZsI8yjNtSKwH"
      },
      "source": [
        "## <font color='blue'>**Algunas funciones interesantes**</font>"
      ]
    },
    {
      "cell_type": "markdown",
      "metadata": {
        "id": "YOYMfCNZSKwH"
      },
      "source": [
        "Veamos qué es una función primero.\n",
        "\n",
        "**Función**: Una función es un bloque de código con un nombre asociado, que recibe cero o más argumentos como entrada, sigue una secuencia de sentencias, la cuales ejecuta una operación deseada y devuelve un valor y/o realiza una tarea. Este bloque puede ser llamados cuando se necesite.\n",
        "\n",
        "Python implementa muchas funciones en sus librerías básicas.\n",
        "\n",
        "A continuación algunas de ellas:"
      ]
    },
    {
      "cell_type": "markdown",
      "metadata": {
        "id": "XjksHFZzSKwI"
      },
      "source": [
        "__`round()`__<br>\n",
        "Esta función redondea el valor de entrada a un número específico de lugares o al número entero más cercano."
      ]
    },
    {
      "cell_type": "code",
      "metadata": {
        "id": "tSmh5C3dSKwI",
        "colab": {
          "base_uri": "https://localhost:8080/"
        },
        "outputId": "39afe63e-7116-4327-953c-f4e01b013338"
      },
      "source": [
        "round(3.1415)"
      ],
      "execution_count": 191,
      "outputs": [
        {
          "output_type": "execute_result",
          "data": {
            "text/plain": [
              "3"
            ]
          },
          "metadata": {},
          "execution_count": 191
        }
      ]
    },
    {
      "cell_type": "markdown",
      "metadata": {
        "id": "9B7M6d2OSKwK"
      },
      "source": [
        "<div class=\"alert alert-block alert-warning\">\n",
        "<b>TIP:</b> en Python, como en muchos lenguajes de programación, la separación de unidades de mil y decimales es con notación inglesa; i.e., se utilizan comas para las unidades de mil y punto para los decimales.\n",
        "</div>"
      ]
    },
    {
      "cell_type": "code",
      "metadata": {
        "id": "w3cNeFqmSKwL",
        "colab": {
          "base_uri": "https://localhost:8080/"
        },
        "outputId": "58817699-ebb3-4cc5-a64e-e6950a70695e"
      },
      "source": [
        "print(round(5.6231))\n",
        "print(round(4.55892, 3))"
      ],
      "execution_count": 192,
      "outputs": [
        {
          "output_type": "stream",
          "name": "stdout",
          "text": [
            "6\n",
            "4.559\n"
          ]
        }
      ]
    },
    {
      "cell_type": "code",
      "metadata": {
        "id": "NJLfDDLeSKwN",
        "colab": {
          "base_uri": "https://localhost:8080/"
        },
        "outputId": "84069b10-2a7a-459a-f6a1-c6b31fe2b9db"
      },
      "source": [
        "print(round(1.1234567,5))\n",
        "print(round(1.5))"
      ],
      "execution_count": 193,
      "outputs": [
        {
          "output_type": "stream",
          "name": "stdout",
          "text": [
            "1.12346\n",
            "2\n"
          ]
        }
      ]
    },
    {
      "cell_type": "markdown",
      "metadata": {
        "id": "kCBdlYlmSKwP"
      },
      "source": [
        "**`type()`** <br>\n",
        "La función `type()` es probablemente las más usada en Python; ella nos entrega en tipo de objeto que estamos manejando."
      ]
    },
    {
      "cell_type": "code",
      "metadata": {
        "id": "-k-L3GrESKwP"
      },
      "source": [
        "b = 10"
      ],
      "execution_count": 194,
      "outputs": []
    },
    {
      "cell_type": "code",
      "metadata": {
        "id": "tR7gdpifSKwS",
        "colab": {
          "base_uri": "https://localhost:8080/"
        },
        "outputId": "7eb37249-b296-4f99-80b4-b860ef0453a6"
      },
      "source": [
        "type(b)"
      ],
      "execution_count": 195,
      "outputs": [
        {
          "output_type": "execute_result",
          "data": {
            "text/plain": [
              "int"
            ]
          },
          "metadata": {},
          "execution_count": 195
        }
      ]
    },
    {
      "cell_type": "code",
      "metadata": {
        "id": "FUJBExGvSKwU",
        "colab": {
          "base_uri": "https://localhost:8080/"
        },
        "outputId": "f170bee1-77db-4187-aef5-282f296e6716"
      },
      "source": [
        "type(\"Hola mundo\")"
      ],
      "execution_count": 196,
      "outputs": [
        {
          "output_type": "execute_result",
          "data": {
            "text/plain": [
              "str"
            ]
          },
          "metadata": {},
          "execution_count": 196
        }
      ]
    },
    {
      "cell_type": "code",
      "metadata": {
        "id": "nODNpEVRSKwW"
      },
      "source": [
        "c = 3\n",
        "d = b / c"
      ],
      "execution_count": 197,
      "outputs": []
    },
    {
      "cell_type": "code",
      "metadata": {
        "id": "XMcWkHcbSKwY",
        "colab": {
          "base_uri": "https://localhost:8080/"
        },
        "outputId": "bc60685e-b0f7-4845-af29-a2dad3c5d430"
      },
      "source": [
        "type(d)"
      ],
      "execution_count": 198,
      "outputs": [
        {
          "output_type": "execute_result",
          "data": {
            "text/plain": [
              "float"
            ]
          },
          "metadata": {},
          "execution_count": 198
        }
      ]
    },
    {
      "cell_type": "markdown",
      "metadata": {
        "id": "v6RI0GKWSKwa"
      },
      "source": [
        "**`range()`**<br>\n",
        "Esta función crea una lista de elementos del tipo `range`. La veremos en detalle más adelante."
      ]
    },
    {
      "cell_type": "code",
      "metadata": {
        "id": "2XzLvyyRSKwa",
        "colab": {
          "base_uri": "https://localhost:8080/"
        },
        "outputId": "2c091957-c50c-44d9-b9fa-fbdb32acaced"
      },
      "source": [
        "range(3)\n",
        "#range(2,9)\n",
        "#range(2,27,8)"
      ],
      "execution_count": 199,
      "outputs": [
        {
          "output_type": "execute_result",
          "data": {
            "text/plain": [
              "range(0, 3)"
            ]
          },
          "metadata": {},
          "execution_count": 199
        }
      ]
    },
    {
      "cell_type": "code",
      "metadata": {
        "id": "P8sQo10fSKwc",
        "colab": {
          "base_uri": "https://localhost:8080/"
        },
        "outputId": "431b9484-65fd-4f12-ffdf-c5d2e01f1636"
      },
      "source": [
        "type(range(3))"
      ],
      "execution_count": 200,
      "outputs": [
        {
          "output_type": "execute_result",
          "data": {
            "text/plain": [
              "range"
            ]
          },
          "metadata": {},
          "execution_count": 200
        }
      ]
    },
    {
      "cell_type": "code",
      "metadata": {
        "id": "gxdfofgdSKwe",
        "colab": {
          "base_uri": "https://localhost:8080/"
        },
        "outputId": "24031916-3323-4653-8fc8-a432cd6c25a4"
      },
      "source": [
        "len(range(3))"
      ],
      "execution_count": 201,
      "outputs": [
        {
          "output_type": "execute_result",
          "data": {
            "text/plain": [
              "3"
            ]
          },
          "metadata": {},
          "execution_count": 201
        }
      ]
    },
    {
      "cell_type": "code",
      "metadata": {
        "id": "qUeUbkiaSKwi",
        "colab": {
          "base_uri": "https://localhost:8080/"
        },
        "outputId": "484d3929-8293-41b3-9936-2e791c02cf2c"
      },
      "source": [
        "# Guardemos el resultado de range en una variable\n",
        "r = range(2,9)\n",
        "r"
      ],
      "execution_count": 202,
      "outputs": [
        {
          "output_type": "execute_result",
          "data": {
            "text/plain": [
              "range(2, 9)"
            ]
          },
          "metadata": {},
          "execution_count": 202
        }
      ]
    },
    {
      "cell_type": "code",
      "metadata": {
        "id": "d85QmjSsSKwk",
        "colab": {
          "base_uri": "https://localhost:8080/"
        },
        "outputId": "a43f24c7-1d87-410c-82b0-6d909415996f"
      },
      "source": [
        "# Verifiquemos el tipo\n",
        "type(r)"
      ],
      "execution_count": 203,
      "outputs": [
        {
          "output_type": "execute_result",
          "data": {
            "text/plain": [
              "range"
            ]
          },
          "metadata": {},
          "execution_count": 203
        }
      ]
    },
    {
      "cell_type": "markdown",
      "metadata": {
        "id": "z2sxrl4NSKwu"
      },
      "source": [
        "**`help()`**<br>\n",
        "La función `help()` nos entrega una descripción detallada del objeto pasado como argumento."
      ]
    },
    {
      "cell_type": "markdown",
      "metadata": {
        "id": "lX8Pc55LSKwz"
      },
      "source": [
        "## <font color='blue'>**Guía de estilos para el código de Python**</font>"
      ]
    },
    {
      "cell_type": "markdown",
      "metadata": {
        "id": "Uubr3gOe45dD"
      },
      "source": [
        "# **Introducción a Python**\n",
        "# FP02. Imprimiendo"
      ]
    },
    {
      "cell_type": "markdown",
      "metadata": {
        "id": "A_HrwolY45dH"
      },
      "source": [
        "## <font color='blue'>**La función `print()`**</font>"
      ]
    },
    {
      "cell_type": "code",
      "metadata": {
        "id": "AFE_Aq-S45dH",
        "colab": {
          "base_uri": "https://localhost:8080/"
        },
        "outputId": "6bed3f29-3026-4b28-cd8a-80c1b7a75a66"
      },
      "source": [
        "print(\"Hello World\")"
      ],
      "execution_count": 204,
      "outputs": [
        {
          "output_type": "stream",
          "name": "stdout",
          "text": [
            "Hello World\n"
          ]
        }
      ]
    },
    {
      "cell_type": "code",
      "source": [
        "## from google.colab import drive\n",
        "## drive.mount('/content/drive')"
      ],
      "metadata": {
        "id": "NP6DnqDUg8xY"
      },
      "execution_count": 205,
      "outputs": []
    },
    {
      "cell_type": "markdown",
      "metadata": {
        "id": "iuQxBj0-45dJ"
      },
      "source": [
        "<div class=\"alert alert-block alert-warning\">\n",
        "<b>TIP: </b>En Python, las comillas simples, dobles y triples se utilizan para denotar una cadena o _string_. <br>\n",
        "La mayoría usa comillas simples al declarar un solo carácter. <br>\n",
        "Comillas dobles al declarar una línea y ... <br>\n",
        "Comillas triples al declarar un párrafo / varias líneas.\n",
        "</div>\n",
        "\n"
      ]
    },
    {
      "cell_type": "code",
      "metadata": {
        "id": "yG9KoimR45dK",
        "colab": {
          "base_uri": "https://localhost:8080/"
        },
        "outputId": "7fcbc0d6-7d81-4f7d-9c1c-730c9492cbd6"
      },
      "source": [
        "print('A')"
      ],
      "execution_count": 206,
      "outputs": [
        {
          "output_type": "stream",
          "name": "stdout",
          "text": [
            "A\n"
          ]
        }
      ]
    },
    {
      "cell_type": "code",
      "metadata": {
        "id": "JPCF9aOd45dK",
        "colab": {
          "base_uri": "https://localhost:8080/"
        },
        "outputId": "244b0d50-3d91-43d3-aa04-b24e43bab09e"
      },
      "source": [
        "print(\"Hello World\")"
      ],
      "execution_count": 207,
      "outputs": [
        {
          "output_type": "stream",
          "name": "stdout",
          "text": [
            "Hello World\n"
          ]
        }
      ]
    },
    {
      "cell_type": "code",
      "metadata": {
        "id": "ltpG5eD-45dL",
        "colab": {
          "base_uri": "https://localhost:8080/"
        },
        "outputId": "65325f97-6828-414f-f3cd-8b31c2948054"
      },
      "source": [
        "print (\"\"\"My name is <Manuel> and\n",
        "\n",
        "I love Python.\"\"\")"
      ],
      "execution_count": 208,
      "outputs": [
        {
          "output_type": "stream",
          "name": "stdout",
          "text": [
            "My name is <Manuel> and\n",
            "\n",
            "I love Python.\n"
          ]
        }
      ]
    },
    {
      "cell_type": "markdown",
      "metadata": {
        "id": "e047uSG145dM"
      },
      "source": [
        "Las cadenas se pueden asignar a una variable, por ejemplo, _string1_ y _string2_, las cuales se pueden llamar cuando se usa la función de impresión."
      ]
    },
    {
      "cell_type": "code",
      "metadata": {
        "scrolled": true,
        "id": "vihFnQz945dM",
        "colab": {
          "base_uri": "https://localhost:8080/"
        },
        "outputId": "a3300d8c-ec41-4ae8-bb7e-05b8ed683c68"
      },
      "source": [
        "string1 = 'World'\n",
        "print('Hello', string1)\n",
        "\n",
        "string2 = '!'\n",
        "print('Hello', string1, string2)"
      ],
      "execution_count": 209,
      "outputs": [
        {
          "output_type": "stream",
          "name": "stdout",
          "text": [
            "Hello World\n",
            "Hello World !\n"
          ]
        }
      ]
    },
    {
      "cell_type": "markdown",
      "metadata": {
        "id": "4Jvw7PGO45dN"
      },
      "source": [
        "La concatenación de cadenas es la \"suma\" de dos cadenas. Observe que durante la concatenación no habrá espacio entre las dos cadenas o strings."
      ]
    },
    {
      "cell_type": "code",
      "metadata": {
        "id": "FtmHxu-A45dN",
        "colab": {
          "base_uri": "https://localhost:8080/"
        },
        "outputId": "2180ca37-439e-4c0b-fd42-9974723530fd"
      },
      "source": [
        "print('Hello' + \" \"+ string1 + string2)"
      ],
      "execution_count": 210,
      "outputs": [
        {
          "output_type": "stream",
          "name": "stdout",
          "text": [
            "Hello World!\n"
          ]
        }
      ]
    },
    {
      "cell_type": "markdown",
      "metadata": {
        "id": "AArQn7sJ45dO"
      },
      "source": [
        "## <font color='blue'>**String formating (formateo)**</font>\n",
        "\n",
        "Hay varias opciones para formatear las salidas de la funcion `print()` en Python. Dos de ellas ya están obsoletas (`%-formating` y `str.format()`), y la tercera es la que actualmente se usa (`f-Strings`).\n",
        "\n",
        "Encontrarás mucho código con las formas antiguas, así es que debes aprenderlas también."
      ]
    },
    {
      "cell_type": "markdown",
      "metadata": {
        "id": "MAzKr1cG45dO"
      },
      "source": [
        "## <font color='blue'>**La vieja escuela**</font>"
      ]
    },
    {
      "cell_type": "markdown",
      "metadata": {
        "id": "L3D2jpmr45dP"
      },
      "source": [
        "## Opción 1: %-formatting (obsoleta)"
      ]
    },
    {
      "cell_type": "code",
      "metadata": {
        "id": "5xEADPNL45dP",
        "colab": {
          "base_uri": "https://localhost:8080/",
          "height": 35
        },
        "outputId": "ff34dde5-98cb-4017-8da9-0e2080c428a3"
      },
      "source": [
        "nombre = \"Juan\"\n",
        "\"Hola, %s.\" % nombre"
      ],
      "execution_count": 211,
      "outputs": [
        {
          "output_type": "execute_result",
          "data": {
            "text/plain": [
              "'Hola, Juan.'"
            ],
            "application/vnd.google.colaboratory.intrinsic+json": {
              "type": "string"
            }
          },
          "metadata": {},
          "execution_count": 211
        }
      ]
    },
    {
      "cell_type": "code",
      "metadata": {
        "id": "dAl5XMMT45dP",
        "colab": {
          "base_uri": "https://localhost:8080/",
          "height": 35
        },
        "outputId": "4307be7a-0819-40d9-cfa2-ed3f6edfa606"
      },
      "source": [
        "nombre = \"Juan\"\n",
        "edad = 34\n",
        "\n",
        "\"Hola, %s. Tú tienes %s años.\" % (nombre, edad)"
      ],
      "execution_count": 212,
      "outputs": [
        {
          "output_type": "execute_result",
          "data": {
            "text/plain": [
              "'Hola, Juan. Tú tienes 34 años.'"
            ],
            "application/vnd.google.colaboratory.intrinsic+json": {
              "type": "string"
            }
          },
          "metadata": {},
          "execution_count": 212
        }
      ]
    },
    {
      "cell_type": "markdown",
      "metadata": {
        "id": "lRYQwC0n45dQ"
      },
      "source": [
        "Esta lógica de formateo resultó ser muy verborreica (verbose) y propensa a errores"
      ]
    },
    {
      "cell_type": "code",
      "metadata": {
        "id": "sCo4GBKi45dR",
        "colab": {
          "base_uri": "https://localhost:8080/",
          "height": 35
        },
        "outputId": "63f45f7d-0067-43d2-92ba-4c0d0a4b0e9a"
      },
      "source": [
        "nombre = \"Juan\"\n",
        "apellido = \"Perez\"\n",
        "edad = 74\n",
        "profesion = \"comediante\"\n",
        "afiliacion = \"Monty Python\"\n",
        "\"Hola, %s %s. Tú tienes %s años. Eres un %s. Eres miembro de %s.\" % (nombre, apellido, edad, profesion, afiliacion)"
      ],
      "execution_count": 213,
      "outputs": [
        {
          "output_type": "execute_result",
          "data": {
            "text/plain": [
              "'Hola, Juan Perez. Tú tienes 74 años. Eres un comediante. Eres miembro de Monty Python.'"
            ],
            "application/vnd.google.colaboratory.intrinsic+json": {
              "type": "string"
            }
          },
          "metadata": {},
          "execution_count": 213
        }
      ]
    },
    {
      "cell_type": "markdown",
      "metadata": {
        "id": "yF6DlCXb45dR"
      },
      "source": [
        "## Opción 2: str.format() (obsoleta)\n",
        "\n",
        "En esta opción, se reemplazarán los campos marcados con corchetes { }"
      ]
    },
    {
      "cell_type": "code",
      "metadata": {
        "id": "15VpXNn145dS",
        "colab": {
          "base_uri": "https://localhost:8080/",
          "height": 35
        },
        "outputId": "8ad8c1d9-b6f7-4676-83eb-c460bb4176c8"
      },
      "source": [
        "# Podemos manejar la posición de las variables en el string de salida\n",
        "\"Hola, {}. Tu tienes {}.\".format(nombre, edad)"
      ],
      "execution_count": 214,
      "outputs": [
        {
          "output_type": "execute_result",
          "data": {
            "text/plain": [
              "'Hola, Juan. Tu tienes 74.'"
            ],
            "application/vnd.google.colaboratory.intrinsic+json": {
              "type": "string"
            }
          },
          "metadata": {},
          "execution_count": 214
        }
      ]
    },
    {
      "cell_type": "code",
      "metadata": {
        "id": "glQhCJYb45dS",
        "colab": {
          "base_uri": "https://localhost:8080/",
          "height": 35
        },
        "outputId": "60cd6728-95c2-4ac7-9b0e-bb7c494bc71c"
      },
      "source": [
        "\"Hola, {1}. Tu tienes {0}.\".format(edad, nombre)"
      ],
      "execution_count": 215,
      "outputs": [
        {
          "output_type": "execute_result",
          "data": {
            "text/plain": [
              "'Hola, Juan. Tu tienes 74.'"
            ],
            "application/vnd.google.colaboratory.intrinsic+json": {
              "type": "string"
            }
          },
          "metadata": {},
          "execution_count": 215
        }
      ]
    },
    {
      "cell_type": "markdown",
      "metadata": {
        "id": "deOGmZTA45dS"
      },
      "source": [
        "Podemos utilizar otras notaciones numéricas durante el formateo\n",
        "\n",
        "    - %s -> string\n",
        "    - %d -> Integer\n",
        "    - %f -> Float\n",
        "    - %o -> Octal\n",
        "    - %x -> Hexadecimal\n",
        "    - %e -> exponential\n",
        "    \n",
        "Pueden ser utilizados dentro de la función `print()` para convertir los tipos de datos."
      ]
    },
    {
      "cell_type": "code",
      "metadata": {
        "id": "dFV7piGs45dT",
        "colab": {
          "base_uri": "https://localhost:8080/"
        },
        "outputId": "dc5c8634-685d-4eb1-e5af-3d246cb10d73"
      },
      "source": [
        "# Utilizando la Opción 1\n",
        "\n",
        "print (\"Actual Number = %d\" %18)\n",
        "print (\"Float of the number = %f\" %18)\n",
        "print (\"Octal equivalent of the number = %o\" %18)\n",
        "print (\"Hexadecimal equivalent of the number = %x\" %18)\n",
        "print (\"Exponential equivalent of the number = %e\" %18)"
      ],
      "execution_count": 216,
      "outputs": [
        {
          "output_type": "stream",
          "name": "stdout",
          "text": [
            "Actual Number = 18\n",
            "Float of the number = 18.000000\n",
            "Octal equivalent of the number = 22\n",
            "Hexadecimal equivalent of the number = 12\n",
            "Exponential equivalent of the number = 1.800000e+01\n"
          ]
        }
      ]
    },
    {
      "cell_type": "code",
      "metadata": {
        "id": "P5kAaN3w45dT",
        "colab": {
          "base_uri": "https://localhost:8080/"
        },
        "outputId": "dfcb4edb-7bf4-4f91-d6f2-4ec051386572"
      },
      "source": [
        "# Utilizando la opción 2\n",
        "\n",
        "print (\"Actual Number = {:d}\".format(18))\n",
        "print (\"Float of the number = {:f}\".format(18))\n",
        "print (\"Octal equivalent of the number = {:o}\".format(18))\n",
        "print (\"Hexadecimal equivalent of the number = {:x}\".format(18))\n",
        "print (\"Exponential equivalent of the number = {:e}\".format(18))"
      ],
      "execution_count": 217,
      "outputs": [
        {
          "output_type": "stream",
          "name": "stdout",
          "text": [
            "Actual Number = 18\n",
            "Float of the number = 18.000000\n",
            "Octal equivalent of the number = 22\n",
            "Hexadecimal equivalent of the number = 12\n",
            "Exponential equivalent of the number = 1.800000e+01\n"
          ]
        }
      ]
    },
    {
      "cell_type": "markdown",
      "metadata": {
        "id": "MmRYYFzW45dT"
      },
      "source": [
        "\n",
        "Veamos distintas formas de integrar `print()`con `format()`.<br>\n",
        "Analiza y y comenta las diferentes salidas."
      ]
    },
    {
      "cell_type": "code",
      "metadata": {
        "id": "ghkdb3mP45dT",
        "colab": {
          "base_uri": "https://localhost:8080/"
        },
        "outputId": "5ce330d4-68ee-40b4-d0ab-597ee6afc60f"
      },
      "source": [
        "print('1.  {1} {0}'.format('one', 'two'))\n",
        "# Alineación a la derecha\n",
        "print('2.  {:>10}'.format('test'))\n",
        "# Alineación izquierda (por defecto)\n",
        "print('3.  {:10}'.format('test'))\n",
        "# numeros\n",
        "print('4.  {:d}'.format(42))\n",
        "# Cantidad de decimales por defecto\n",
        "print('5.  {:f}'.format(3.141592653589793))\n",
        "# padding\n",
        "print('6.  {:4d}'.format(42))\n",
        "# Completa con ceros a la izquierda un float,\n",
        "# 6 caracteres y dos decimales,\n",
        "# el punto se considera caracter\n",
        "print('7.  {:06.2f}'.format(3.141592653589793))\n",
        "# completa con ceros a la izquierda un entero\n",
        "print('8.  {:04d}'.format(42))\n",
        "print('9.  {: d}'.format((- 23)))\n",
        "# Asigna nombres a los elementos a imprimir\n",
        "# esto permite imprimir variables de forma directa\n",
        "print('10. {first} {last}'.format(first='Hello', last='world!'))\n"
      ],
      "execution_count": 218,
      "outputs": [
        {
          "output_type": "stream",
          "name": "stdout",
          "text": [
            "1.  two one\n",
            "2.        test\n",
            "3.  test      \n",
            "4.  42\n",
            "5.  3.141593\n",
            "6.    42\n",
            "7.  003.14\n",
            "8.  0042\n",
            "9.  -23\n",
            "10. Hello world!\n"
          ]
        }
      ]
    },
    {
      "cell_type": "markdown",
      "metadata": {
        "id": "qKfxMdz645dU"
      },
      "source": [
        "### Otros ejemplos"
      ]
    },
    {
      "cell_type": "markdown",
      "metadata": {
        "id": "8tiUa9F345dU"
      },
      "source": [
        "Las siguientes son otras formas diferentes de utilizar la declaración de impresión."
      ]
    },
    {
      "cell_type": "code",
      "metadata": {
        "id": "AfsWhCYM45dU",
        "colab": {
          "base_uri": "https://localhost:8080/"
        },
        "outputId": "d5157c23-095c-4c45-c0eb-06913c489a41"
      },
      "source": [
        "print (\"I want to be printed {:s}\".format('here'))"
      ],
      "execution_count": 219,
      "outputs": [
        {
          "output_type": "stream",
          "name": "stdout",
          "text": [
            "I want to be printed here\n"
          ]
        }
      ]
    },
    {
      "cell_type": "code",
      "metadata": {
        "id": "sjKPBLnJ45dU",
        "colab": {
          "base_uri": "https://localhost:8080/"
        },
        "outputId": "44fac10f-0a4b-4b22-d0f3-0f52432d53b2"
      },
      "source": [
        "print('_A'*10)"
      ],
      "execution_count": 220,
      "outputs": [
        {
          "output_type": "stream",
          "name": "stdout",
          "text": [
            "_A_A_A_A_A_A_A_A_A_A\n"
          ]
        }
      ]
    },
    {
      "cell_type": "code",
      "metadata": {
        "id": "_otIYuEJ45dV",
        "colab": {
          "base_uri": "https://localhost:8080/"
        },
        "outputId": "095872df-0e95-434f-ea4f-ca4ad90c6e04"
      },
      "source": [
        "# Con el caracter de control \\n saltamos una línea\n",
        "print(\"Jan\\nFeb\\nMar\\nApr\\nMay\\nJun\\nJul\\nAug\")"
      ],
      "execution_count": 221,
      "outputs": [
        {
          "output_type": "stream",
          "name": "stdout",
          "text": [
            "Jan\n",
            "Feb\n",
            "Mar\n",
            "Apr\n",
            "May\n",
            "Jun\n",
            "Jul\n",
            "Aug\n"
          ]
        }
      ]
    },
    {
      "cell_type": "code",
      "metadata": {
        "id": "ZMcReAnP45dV",
        "colab": {
          "base_uri": "https://localhost:8080/"
        },
        "outputId": "0159be99-0f9e-4033-9679-bc07e87520ab"
      },
      "source": [
        "# Si queremos imprimir el caracter \\n sin saltar línea diplicamos el backslash\n",
        "print(\"I want \\\\n to be printed.\")"
      ],
      "execution_count": 222,
      "outputs": [
        {
          "output_type": "stream",
          "name": "stdout",
          "text": [
            "I want \\n to be printed.\n"
          ]
        }
      ]
    },
    {
      "cell_type": "code",
      "metadata": {
        "id": "nZDKHWkV45dV",
        "colab": {
          "base_uri": "https://localhost:8080/"
        },
        "outputId": "0d1b6c70-8116-4d94-9669-3c42de4cdd0c"
      },
      "source": [
        "# Con \\t generamos una tabulación\n",
        "print(\"Look\\twhat\\thappens.\")"
      ],
      "execution_count": 223,
      "outputs": [
        {
          "output_type": "stream",
          "name": "stdout",
          "text": [
            "Look\twhat\thappens.\n"
          ]
        }
      ]
    },
    {
      "cell_type": "code",
      "metadata": {
        "id": "QzrtJxJn45dV",
        "colab": {
          "base_uri": "https://localhost:8080/"
        },
        "outputId": "f7642870-10dd-4323-ddb8-fa9154acbdd1"
      },
      "source": [
        "print(\"\"\"\n",
        "Routine:\n",
        "\\t- Eat\n",
        "\\t- Sleep\\n\\t- Repeat\n",
        "\"\"\")"
      ],
      "execution_count": 224,
      "outputs": [
        {
          "output_type": "stream",
          "name": "stdout",
          "text": [
            "\n",
            "Routine:\n",
            "\t- Eat\n",
            "\t- Sleep\n",
            "\t- Repeat\n",
            "\n"
          ]
        }
      ]
    },
    {
      "cell_type": "markdown",
      "metadata": {
        "id": "H8wbB6al45dW"
      },
      "source": [
        "### Manejando la precisión y la cantidad de números a mostrar"
      ]
    },
    {
      "cell_type": "markdown",
      "metadata": {
        "id": "A0RfHiOr45dW"
      },
      "source": [
        "El ancho del campo es el ancho del número completo y la precisión es el ancho hacia la derecha desde el punto decimal. Se pueden modificar estos anchos según los requisitos.\n",
        "\n",
        "El ancho de precisión predeterminado se establece en 6."
      ]
    },
    {
      "cell_type": "code",
      "metadata": {
        "id": "eOU4ps6R45dW",
        "colab": {
          "base_uri": "https://localhost:8080/",
          "height": 35
        },
        "outputId": "f982ea6d-4449-4e32-c435-8302788814cd"
      },
      "source": [
        "# predeterminado = 6\n",
        "\"%f\" % 3.121312312312"
      ],
      "execution_count": 225,
      "outputs": [
        {
          "output_type": "execute_result",
          "data": {
            "text/plain": [
              "'3.121312'"
            ],
            "application/vnd.google.colaboratory.intrinsic+json": {
              "type": "string"
            }
          },
          "metadata": {},
          "execution_count": 225
        }
      ]
    },
    {
      "cell_type": "markdown",
      "metadata": {
        "id": "ChP1QMM_45dW"
      },
      "source": [
        "Observa que se devuelven hasta 6 decimales. Para especificar el número de decimales, se utiliza\n",
        "\n",
        "`\"%(fieldwidth).(precisionwidth)f\"`"
      ]
    },
    {
      "cell_type": "code",
      "metadata": {
        "id": "6DSruVUL45dW",
        "colab": {
          "base_uri": "https://localhost:8080/",
          "height": 35
        },
        "outputId": "622fc129-ab45-42fc-f106-d4841126add9"
      },
      "source": [
        "\"%.5f\" % 3.121312312312"
      ],
      "execution_count": 226,
      "outputs": [
        {
          "output_type": "execute_result",
          "data": {
            "text/plain": [
              "'3.12131'"
            ],
            "application/vnd.google.colaboratory.intrinsic+json": {
              "type": "string"
            }
          },
          "metadata": {},
          "execution_count": 226
        }
      ]
    },
    {
      "cell_type": "markdown",
      "metadata": {
        "id": "cwmh6wbu45dW"
      },
      "source": [
        "### Lo mismo pero usando la opción 2 con str.format()\n",
        "Cuál es la diferencia?\n",
        "\n",
        "TIP: busca en los pequeños detalles"
      ]
    },
    {
      "cell_type": "code",
      "metadata": {
        "id": "Ts_y2LQ_45dW",
        "colab": {
          "base_uri": "https://localhost:8080/"
        },
        "outputId": "263f0771-6fc8-46a7-d346-bed61cd9f97b"
      },
      "source": [
        "print(\"{:.5f}\".format(3.121312312312))"
      ],
      "execution_count": 227,
      "outputs": [
        {
          "output_type": "stream",
          "name": "stdout",
          "text": [
            "3.12131\n"
          ]
        }
      ]
    },
    {
      "cell_type": "code",
      "metadata": {
        "id": "vylv688g45dX",
        "colab": {
          "base_uri": "https://localhost:8080/"
        },
        "outputId": "5019369d-5fc2-4b65-b15d-30dd3f300bc2"
      },
      "source": [
        "type(\"%.5f\" % 3.121312312312)"
      ],
      "execution_count": 228,
      "outputs": [
        {
          "output_type": "execute_result",
          "data": {
            "text/plain": [
              "str"
            ]
          },
          "metadata": {},
          "execution_count": 228
        }
      ]
    },
    {
      "cell_type": "code",
      "metadata": {
        "id": "HfpEhviH45dX",
        "colab": {
          "base_uri": "https://localhost:8080/"
        },
        "outputId": "b6357157-d7ab-44d4-9e42-27d785d44b45"
      },
      "source": [
        "type(print(\"{:.5f}\".format(3.121312312312)))"
      ],
      "execution_count": 229,
      "outputs": [
        {
          "output_type": "stream",
          "name": "stdout",
          "text": [
            "3.12131\n"
          ]
        },
        {
          "output_type": "execute_result",
          "data": {
            "text/plain": [
              "NoneType"
            ]
          },
          "metadata": {},
          "execution_count": 229
        }
      ]
    },
    {
      "cell_type": "markdown",
      "metadata": {
        "id": "Y_WrASVB45dX"
      },
      "source": [
        "Si el ancho del campo se establece más de lo necesario, los datos a la derecha se alinean para ajustarse a los valores especificados."
      ]
    },
    {
      "cell_type": "code",
      "metadata": {
        "id": "7BC2DMLA45dX",
        "colab": {
          "base_uri": "https://localhost:8080/",
          "height": 35
        },
        "outputId": "fb606e50-87e3-4810-9e36-9453d13f2752"
      },
      "source": [
        "\"%9.5f\" % 3.121312312312"
      ],
      "execution_count": 230,
      "outputs": [
        {
          "output_type": "execute_result",
          "data": {
            "text/plain": [
              "'  3.12131'"
            ],
            "application/vnd.google.colaboratory.intrinsic+json": {
              "type": "string"
            }
          },
          "metadata": {},
          "execution_count": 230
        }
      ]
    },
    {
      "cell_type": "markdown",
      "metadata": {
        "id": "42TMoWfU45dY"
      },
      "source": [
        "## Alineación\n",
        "Para una alineación adecuada, se puede dejar un espacio en blanco en el ancho del campo para que cuando se use un número negativo, se mantenga la alineación adecuada."
      ]
    },
    {
      "cell_type": "code",
      "metadata": {
        "id": "rz_OGeb_45dY",
        "colab": {
          "base_uri": "https://localhost:8080/"
        },
        "outputId": "f308019e-c0a0-4caa-d67e-acc3bb177fd3"
      },
      "source": [
        "print(\"{:10f}\".format(3.121312312312)) # Recuerda que por defecto imprimira 6 decimales\n",
        "print(\"{:10f}\".format(-3.121312312312))\n",
        "print(\"{: 9f}\".format(-3.121312312312))"
      ],
      "execution_count": 231,
      "outputs": [
        {
          "output_type": "stream",
          "name": "stdout",
          "text": [
            "  3.121312\n",
            " -3.121312\n",
            "-3.121312\n"
          ]
        }
      ]
    },
    {
      "cell_type": "markdown",
      "metadata": {
        "id": "RaPrgRuy45dY"
      },
      "source": [
        "Como se mencionó anteriormente, los datos a la derecha se alinean cuando el ancho del campo mencionado es mayor que el ancho del campo real. Pero la alineación a la izquierda se puede hacer especificando un símbolo negativo en el ancho del campo."
      ]
    },
    {
      "cell_type": "markdown",
      "metadata": {
        "id": "erOoFE9b45dZ"
      },
      "source": [
        "## <font color='blue'>**La nueva escuela**</font>"
      ]
    },
    {
      "cell_type": "markdown",
      "metadata": {
        "id": "fSmtBxN845dZ"
      },
      "source": [
        "## Opción 3: `f-strings` (vigente)"
      ]
    },
    {
      "cell_type": "markdown",
      "metadata": {
        "id": "89yCyAlw45dZ"
      },
      "source": [
        "La sintaxis es similar a la que usó con `str.format()` pero menos detallada (verbose). Mira lo fácil de leer que es:"
      ]
    },
    {
      "cell_type": "code",
      "metadata": {
        "id": "SjMfGAH345dZ",
        "colab": {
          "base_uri": "https://localhost:8080/",
          "height": 35
        },
        "outputId": "a6d6c135-d362-45eb-caab-7811af7619e8"
      },
      "source": [
        "nombre = \"Pedro\"\n",
        "edad = 42\n",
        "f\"Hola, {nombre}. Tu tienes {edad} años.\""
      ],
      "execution_count": 232,
      "outputs": [
        {
          "output_type": "execute_result",
          "data": {
            "text/plain": [
              "'Hola, Pedro. Tu tienes 42 años.'"
            ],
            "application/vnd.google.colaboratory.intrinsic+json": {
              "type": "string"
            }
          },
          "metadata": {},
          "execution_count": 232
        }
      ]
    },
    {
      "cell_type": "code",
      "source": [],
      "metadata": {
        "id": "2buErKduSVSo"
      },
      "execution_count": 232,
      "outputs": []
    },
    {
      "cell_type": "code",
      "metadata": {
        "id": "w1jx-nLC45da",
        "colab": {
          "base_uri": "https://localhost:8080/",
          "height": 35
        },
        "outputId": "fd656315-1e28-4193-f450-6225f71c7190"
      },
      "source": [
        "# la f puede ser mayúscula tambien\n",
        "F\"Hola, {nombre}. Tu tienes {edad} años.\""
      ],
      "execution_count": 233,
      "outputs": [
        {
          "output_type": "execute_result",
          "data": {
            "text/plain": [
              "'Hola, Pedro. Tu tienes 42 años.'"
            ],
            "application/vnd.google.colaboratory.intrinsic+json": {
              "type": "string"
            }
          },
          "metadata": {},
          "execution_count": 233
        }
      ]
    },
    {
      "cell_type": "markdown",
      "metadata": {
        "id": "IQkBGWG045da"
      },
      "source": [
        "Los f-strings pueden evaluar operaciones en su interior"
      ]
    },
    {
      "cell_type": "code",
      "metadata": {
        "id": "XdYJ7FZk45da",
        "colab": {
          "base_uri": "https://localhost:8080/",
          "height": 35
        },
        "outputId": "3c06df81-d17d-4f3a-da02-340bfe316501"
      },
      "source": [
        "f'{2 * 8}'"
      ],
      "execution_count": 234,
      "outputs": [
        {
          "output_type": "execute_result",
          "data": {
            "text/plain": [
              "'16'"
            ],
            "application/vnd.google.colaboratory.intrinsic+json": {
              "type": "string"
            }
          },
          "metadata": {},
          "execution_count": 234
        }
      ]
    },
    {
      "cell_type": "code",
      "metadata": {
        "id": "QlUyUA2N45da",
        "colab": {
          "base_uri": "https://localhost:8080/",
          "height": 35
        },
        "outputId": "969d856b-4654-4590-c9c6-b3ec3d74ea3b"
      },
      "source": [
        "f'{2} x {8} = {2 * 8}'"
      ],
      "execution_count": 235,
      "outputs": [
        {
          "output_type": "execute_result",
          "data": {
            "text/plain": [
              "'2 x 8 = 16'"
            ],
            "application/vnd.google.colaboratory.intrinsic+json": {
              "type": "string"
            }
          },
          "metadata": {},
          "execution_count": 235
        }
      ]
    },
    {
      "cell_type": "code",
      "source": [],
      "metadata": {
        "id": "0RM7H-is00Pg"
      },
      "execution_count": 235,
      "outputs": []
    },
    {
      "cell_type": "code",
      "metadata": {
        "id": "49dfacea",
        "colab": {
          "base_uri": "https://localhost:8080/"
        },
        "outputId": "4428f75e-be9c-428c-b29e-b88f0f64078f"
      },
      "source": [
        "# Define nombre2 and edad2\n",
        "nombre2 = \"Maria\"\n",
        "edad2 = 30\n",
        "\n",
        "# Igual que antes, si queremos imprimier más de una sentencia, deberemos usar la función print()\n",
        "print(F\"Hola, {nombre}. Tu tienes {edad} años.\")\n",
        "print(F\"Hola, {nombre2}. Tu tienes {edad2} años.\")"
      ],
      "execution_count": 236,
      "outputs": [
        {
          "output_type": "stream",
          "name": "stdout",
          "text": [
            "Hola, Pedro. Tu tienes 42 años.\n",
            "Hola, Maria. Tu tienes 30 años.\n"
          ]
        }
      ]
    },
    {
      "cell_type": "code",
      "metadata": {
        "id": "BeZLJnht45da",
        "colab": {
          "base_uri": "https://localhost:8080/"
        },
        "outputId": "9591b02b-6b59-47aa-d6e7-d17fa7c2a334"
      },
      "source": [
        "print(F\"Hola, {nombre}. Tu tienes {edad} años.\")\n",
        "print(F\"Hola, {nombre2}. Tu tienes {edad2} años.\")"
      ],
      "execution_count": 237,
      "outputs": [
        {
          "output_type": "stream",
          "name": "stdout",
          "text": [
            "Hola, Pedro. Tu tienes 42 años.\n",
            "Hola, Maria. Tu tienes 30 años.\n"
          ]
        }
      ]
    },
    {
      "cell_type": "code",
      "metadata": {
        "id": "H1q42gza45db",
        "colab": {
          "base_uri": "https://localhost:8080/"
        },
        "outputId": "67e010cd-6a54-4da8-ddff-59992c835db5"
      },
      "source": [
        "mensaje = (\n",
        "    F\"Hola, {nombre}. Tu tienes {edad} años. \\n\"\n",
        "    F\"Hola, {nombre2}. Tu tienes {edad2} años.\"\n",
        ")\n",
        "print(mensaje)"
      ],
      "execution_count": 238,
      "outputs": [
        {
          "output_type": "stream",
          "name": "stdout",
          "text": [
            "Hola, Pedro. Tu tienes 42 años. \n",
            "Hola, Maria. Tu tienes 30 años.\n"
          ]
        }
      ]
    },
    {
      "cell_type": "code",
      "metadata": {
        "id": "KChdbV2A45db",
        "colab": {
          "base_uri": "https://localhost:8080/"
        },
        "outputId": "07dc6075-57e5-4ddf-8f2e-1aa5befe0428"
      },
      "source": [
        "# Otras notaciones numéricas utilizando la Opción 3\n",
        "val = 18\n",
        "print (f\"Actual Number = {val: d}\")\n",
        "print (f\"Float of the number = {val: f}\")\n",
        "print (f\"Octal equivalent of the number = {val :o}\")\n",
        "print (f\"Hexadecimal equivalent of the number = {val :x}\")\n",
        "print (f\"Exponential equivalent of the number = {val :e}\")"
      ],
      "execution_count": 239,
      "outputs": [
        {
          "output_type": "stream",
          "name": "stdout",
          "text": [
            "Actual Number =  18\n",
            "Float of the number =  18.000000\n",
            "Octal equivalent of the number = 22\n",
            "Hexadecimal equivalent of the number = 12\n",
            "Exponential equivalent of the number = 1.800000e+01\n"
          ]
        }
      ]
    },
    {
      "cell_type": "markdown",
      "metadata": {
        "id": "24o2fHbE45db"
      },
      "source": [
        "### Manejando la precisión y la cantidad de números a mostrar"
      ]
    },
    {
      "cell_type": "code",
      "metadata": {
        "id": "4rs5fxEV45db",
        "colab": {
          "base_uri": "https://localhost:8080/"
        },
        "outputId": "e2709e4c-ec7f-4006-991e-e43f241dbe9e"
      },
      "source": [
        "val2 = 3.121312312312\n",
        "print(f\"{val2:.2f}\")\n",
        "print(f\"{val2:.5f}\")\n",
        "print(f\"{val2:8.5f}\")\n",
        "print(f\"{val2:09.5f}\")"
      ],
      "execution_count": 240,
      "outputs": [
        {
          "output_type": "stream",
          "name": "stdout",
          "text": [
            "3.12\n",
            "3.12131\n",
            " 3.12131\n",
            "003.12131\n"
          ]
        }
      ]
    },
    {
      "cell_type": "markdown",
      "metadata": {
        "id": "pkUfuLRl45db"
      },
      "source": [
        "### Justificando y manejo de ancho con f-strings"
      ]
    },
    {
      "cell_type": "code",
      "metadata": {
        "id": "Sd6wTu3O45db",
        "colab": {
          "base_uri": "https://localhost:8080/"
        },
        "outputId": "490da5ba-139c-46d3-93cb-14232e73d29b"
      },
      "source": [
        "s1 = 'a'\n",
        "s2 = 'ab'\n",
        "s3 = 'abc'\n",
        "s4 = 'abcd'\n",
        "\n",
        "print(f'{s1:>10}')\n",
        "print(f'{s2:>10}')\n",
        "print(f'{s3:>10}')\n",
        "print(f'{s4:>10}')"
      ],
      "execution_count": 241,
      "outputs": [
        {
          "output_type": "stream",
          "name": "stdout",
          "text": [
            "         a\n",
            "        ab\n",
            "       abc\n",
            "      abcd\n"
          ]
        }
      ]
    },
    {
      "cell_type": "markdown",
      "metadata": {
        "id": "Dz5nWGxW45dc"
      },
      "source": [
        "## <font color='blue'>**Ingresando datos desde el teclado**</font>"
      ]
    },
    {
      "cell_type": "code",
      "metadata": {
        "id": "hilk0WYU45dc",
        "colab": {
          "base_uri": "https://localhost:8080/",
          "height": 53
        },
        "outputId": "be42405e-76ab-4450-e7e0-adfa776c5ee2"
      },
      "source": [
        "input(\"Mi nombre es: \")"
      ],
      "execution_count": 242,
      "outputs": [
        {
          "name": "stdout",
          "output_type": "stream",
          "text": [
            "Mi nombre es: Nathalie\n"
          ]
        },
        {
          "output_type": "execute_result",
          "data": {
            "text/plain": [
              "'Nathalie'"
            ],
            "application/vnd.google.colaboratory.intrinsic+json": {
              "type": "string"
            }
          },
          "metadata": {},
          "execution_count": 242
        }
      ]
    },
    {
      "cell_type": "code",
      "source": [
        "chr(298)"
      ],
      "metadata": {
        "id": "z0WiRoyHI8FM",
        "colab": {
          "base_uri": "https://localhost:8080/",
          "height": 35
        },
        "outputId": "fcc73877-ee6c-43fa-cb1c-026197183d76"
      },
      "execution_count": 243,
      "outputs": [
        {
          "output_type": "execute_result",
          "data": {
            "text/plain": [
              "'Ī'"
            ],
            "application/vnd.google.colaboratory.intrinsic+json": {
              "type": "string"
            }
          },
          "metadata": {},
          "execution_count": 243
        }
      ]
    },
    {
      "cell_type": "code",
      "metadata": {
        "id": "RWJjVHWo45dX",
        "colab": {
          "base_uri": "https://localhost:8080/"
        },
        "outputId": "da662690-6677-4c02-9f5e-f851e7d045da"
      },
      "source": [
        "#1.\n",
        "import math\n",
        "pi = math.pi\n",
        "print (\"El valor de  Ī es  {:.5f}\".format(pi))\n",
        "\n"
      ],
      "execution_count": 244,
      "outputs": [
        {
          "output_type": "stream",
          "name": "stdout",
          "text": [
            "El valor de  Ī es  3.14159\n"
          ]
        }
      ]
    },
    {
      "cell_type": "code",
      "source": [
        "import math\n",
        "pi = math.pi\n",
        "print(f\"El valor de Ī es {pi}\")"
      ],
      "metadata": {
        "colab": {
          "base_uri": "https://localhost:8080/"
        },
        "id": "80vDQkHpibZq",
        "outputId": "c2816ecd-b774-452d-fcc3-a066fd16b831"
      },
      "execution_count": 245,
      "outputs": [
        {
          "output_type": "stream",
          "name": "stdout",
          "text": [
            "El valor de Ī es 3.141592653589793\n"
          ]
        }
      ]
    },
    {
      "cell_type": "code",
      "source": [
        "# 5 decimales\n",
        "\n",
        "import math\n",
        "pi = math.pi\n",
        "print(f\"El valor de Ī es {pi:.5f}\")"
      ],
      "metadata": {
        "colab": {
          "base_uri": "https://localhost:8080/"
        },
        "id": "UnDjUJchikGP",
        "outputId": "a0351cf0-047f-44fe-b0af-f34af5401101"
      },
      "execution_count": 246,
      "outputs": [
        {
          "output_type": "stream",
          "name": "stdout",
          "text": [
            "El valor de Ī es 3.14159\n"
          ]
        }
      ]
    },
    {
      "cell_type": "code",
      "metadata": {
        "id": "qQPetRRu45dY",
        "colab": {
          "base_uri": "https://localhost:8080/"
        },
        "outputId": "2be05f2d-de29-49d2-81e3-0c85d546b822"
      },
      "source": [
        "# 2.\n",
        "value1= 1234.123\n",
        "value2=1.123\n",
        "print(f\"{value1:09.3f}\")\n",
        "print(f\"{value2:09.3f}\")\n"
      ],
      "execution_count": 247,
      "outputs": [
        {
          "output_type": "stream",
          "name": "stdout",
          "text": [
            "01234.123\n",
            "00001.123\n"
          ]
        }
      ]
    },
    {
      "cell_type": "markdown",
      "metadata": {
        "id": "5gpyMpvs45dZ"
      },
      "source": [
        "<font color='green'>Fin actividad 2</font>"
      ]
    },
    {
      "cell_type": "markdown",
      "metadata": {
        "id": "J-hRFyE945dc"
      },
      "source": [
        "<font color='green'>Fin actividad 3</font>"
      ]
    },
    {
      "cell_type": "markdown",
      "metadata": {
        "id": "5wnFNkbc45dc"
      },
      "source": [
        "## <font color='green'>Actividad 1:</font>\n",
        "### Almacena el dato ingresado en una variable\n",
        "Almacena su nombre en una variable\n",
        "\n",
        "TIP: utilice la función input()\n"
      ]
    },
    {
      "cell_type": "code",
      "metadata": {
        "id": "6YO-7g3b45dc",
        "colab": {
          "base_uri": "https://localhost:8080/"
        },
        "outputId": "eac8d763-ac48-4420-a715-69c7caed75a6"
      },
      "source": [
        "# Tu código aquí ...\n",
        "mi_nombre= input(\"Mi nombre es: \")"
      ],
      "execution_count": 248,
      "outputs": [
        {
          "name": "stdout",
          "output_type": "stream",
          "text": [
            "Mi nombre es: Giselle\n"
          ]
        }
      ]
    },
    {
      "cell_type": "markdown",
      "metadata": {
        "id": "p_QdbBR_45dd"
      },
      "source": [
        "<font color='green'>Fin actividad |</font>"
      ]
    },
    {
      "cell_type": "markdown",
      "metadata": {
        "id": "2BZMFmFS45dd"
      },
      "source": [
        "## <font color='green'>Actividad 2:</font>\n",
        "### Escribe \"Hello world\" con tu nombre\n",
        "Escribe \"Hello world, \\<nombre\\>\" utilizando los tres métodos de formateo enseñados en la clase <br>\n",
        "\n",
        "TIP: utiliza la variable que contiene tu nombre<br>\n",
        "OUTPUT: \"Hello world, Andrés!!\""
      ]
    },
    {
      "cell_type": "code",
      "metadata": {
        "id": "SgqOnfuO45dd",
        "colab": {
          "base_uri": "https://localhost:8080/"
        },
        "outputId": "99726fef-4ba0-42fb-b1f6-34f4f311b67f"
      },
      "source": [
        "# Tu código aquí ...\n",
        "#1\n",
        "print(f\"Hello world, {mi_nombre}!!\")\n",
        "\n",
        "#2\n",
        "print(\"Hello world, {}!!\".format(mi_nombre))\n",
        "\n",
        "#3\n",
        "print(\"Hello world, %s!!\"%mi_nombre)\n"
      ],
      "execution_count": 249,
      "outputs": [
        {
          "output_type": "stream",
          "name": "stdout",
          "text": [
            "Hello world, Giselle!!\n",
            "Hello world, Giselle!!\n",
            "Hello world, Giselle!!\n"
          ]
        }
      ]
    },
    {
      "cell_type": "code",
      "source": [
        "# ALmacenar los string en variables y luego imprimirlos\n",
        "\n",
        "mi_nombre = \"Giselle\"\n",
        "\n",
        "#1. f-string\n",
        "mensaje1 = f\"Hello world, {mi_nombre}!!\"\n",
        "print(mensaje1)\n",
        "\n",
        "#2. format()\n",
        "mensaje2 = \"Hello world, {}!!\".format(mi_nombre)\n",
        "print(mensaje2)\n",
        "\n",
        "#3. operador % (estilo antiguo)\n",
        "mensaje3 = \"Hello world, %s!!\" % mi_nombre\n",
        "print(mensaje3)"
      ],
      "metadata": {
        "id": "wyOazAXBenUE",
        "colab": {
          "base_uri": "https://localhost:8080/"
        },
        "outputId": "18b51216-2eb1-4cb9-f6a2-17fea920cbf7"
      },
      "execution_count": 250,
      "outputs": [
        {
          "output_type": "stream",
          "name": "stdout",
          "text": [
            "Hello world, Giselle!!\n",
            "Hello world, Giselle!!\n",
            "Hello world, Giselle!!\n"
          ]
        }
      ]
    },
    {
      "cell_type": "code",
      "source": [
        "#Con la opción 2 de str.format()\n",
        "mi_nombre = \"Giselle\"\n",
        "\n",
        "# Usando str.format()\n",
        "mensaje = \"Hello world, {}!!\".format(mi_nombre)\n",
        "print(mensaje)"
      ],
      "metadata": {
        "id": "6EqA_PeqfvJj",
        "colab": {
          "base_uri": "https://localhost:8080/"
        },
        "outputId": "8e10e86b-a86f-4102-ea8a-a9c8cf20c708"
      },
      "execution_count": 251,
      "outputs": [
        {
          "output_type": "stream",
          "name": "stdout",
          "text": [
            "Hello world, Giselle!!\n"
          ]
        }
      ]
    },
    {
      "cell_type": "code",
      "source": [
        "#Con f.string()P\n",
        "mi_nombre = \"Giselle\"\n",
        "\n",
        "# Usando f-string\n",
        "mensaje = f\"Hello world, {mi_nombre}!!\"\n",
        "print(mensaje)"
      ],
      "metadata": {
        "id": "VIQqi3UFiASV",
        "colab": {
          "base_uri": "https://localhost:8080/"
        },
        "outputId": "8b735cf4-06f5-487c-f9f7-c6d1daaef26a"
      },
      "execution_count": 252,
      "outputs": [
        {
          "output_type": "stream",
          "name": "stdout",
          "text": [
            "Hello world, Giselle!!\n"
          ]
        }
      ]
    },
    {
      "cell_type": "code",
      "source": [],
      "metadata": {
        "id": "NPZCcV0ni6m-"
      },
      "execution_count": 252,
      "outputs": []
    },
    {
      "cell_type": "markdown",
      "metadata": {
        "id": "7cXYTli5yoif"
      },
      "source": [
        "# **Introducción a Pyton**\n",
        "# FP03. Números en Python  \n",
        "\n",
        "En esta clase comenzaremos a discutir los conceptos básicos de trabajar con números en Python. Esto debería ser sencillo."
      ]
    },
    {
      "cell_type": "markdown",
      "metadata": {
        "id": "oC73jJiAyoih"
      },
      "source": [
        "## <font color='blue'>**Principales tipos de números**</font>\n",
        "\n",
        "Los `int` son números enteros. <br>Los `float` son números decimales (recuerda que en Python la parte decimal se delimita con un punto y NO con una coma)."
      ]
    },
    {
      "cell_type": "code",
      "execution_count": 253,
      "metadata": {
        "id": "LWuh32APyoih",
        "colab": {
          "base_uri": "https://localhost:8080/"
        },
        "outputId": "36cd6f85-1568-4c0f-a40b-c9b62fa38185"
      },
      "outputs": [
        {
          "output_type": "execute_result",
          "data": {
            "text/plain": [
              "100"
            ]
          },
          "metadata": {},
          "execution_count": 253
        }
      ],
      "source": [
        "100"
      ]
    },
    {
      "cell_type": "code",
      "execution_count": 254,
      "metadata": {
        "id": "GMsGro4Kyoij",
        "colab": {
          "base_uri": "https://localhost:8080/"
        },
        "outputId": "edbf4ae0-427f-4ec3-fc55-3cde0d748e9f"
      },
      "outputs": [
        {
          "output_type": "execute_result",
          "data": {
            "text/plain": [
              "int"
            ]
          },
          "metadata": {},
          "execution_count": 254
        }
      ],
      "source": [
        "type(100)"
      ]
    },
    {
      "cell_type": "code",
      "execution_count": 255,
      "metadata": {
        "id": "PfeWqvePyoij",
        "colab": {
          "base_uri": "https://localhost:8080/"
        },
        "outputId": "facc6060-0aa3-4a54-a80b-3da9c93a52d5"
      },
      "outputs": [
        {
          "output_type": "execute_result",
          "data": {
            "text/plain": [
              "1.25"
            ]
          },
          "metadata": {},
          "execution_count": 255
        }
      ],
      "source": [
        "1.25"
      ]
    },
    {
      "cell_type": "code",
      "execution_count": 256,
      "metadata": {
        "id": "1-_Dvh2uyoij",
        "colab": {
          "base_uri": "https://localhost:8080/"
        },
        "outputId": "b006dec9-80b0-4f7c-c373-77dd98942e26"
      },
      "outputs": [
        {
          "output_type": "execute_result",
          "data": {
            "text/plain": [
              "float"
            ]
          },
          "metadata": {},
          "execution_count": 256
        }
      ],
      "source": [
        "type(1.2)"
      ]
    },
    {
      "cell_type": "code",
      "execution_count": 257,
      "metadata": {
        "id": "-dSLvrOQyoik",
        "colab": {
          "base_uri": "https://localhost:8080/"
        },
        "outputId": "e78cfa31-be8a-4658-f7b6-07169f324678"
      },
      "outputs": [
        {
          "output_type": "execute_result",
          "data": {
            "text/plain": [
              "float"
            ]
          },
          "metadata": {},
          "execution_count": 257
        }
      ],
      "source": [
        "type(100.0)"
      ]
    },
    {
      "cell_type": "code",
      "execution_count": 258,
      "metadata": {
        "id": "B8m251Y2yoil",
        "colab": {
          "base_uri": "https://localhost:8080/"
        },
        "outputId": "e5090d1c-475a-4556-eca0-fd709ba1bef9"
      },
      "outputs": [
        {
          "output_type": "execute_result",
          "data": {
            "text/plain": [
              "float"
            ]
          },
          "metadata": {},
          "execution_count": 258
        }
      ],
      "source": [
        "type(100.)"
      ]
    },
    {
      "cell_type": "code",
      "execution_count": 259,
      "metadata": {
        "id": "u4GovJlMyoil",
        "colab": {
          "base_uri": "https://localhost:8080/"
        },
        "outputId": "d501c5f8-405a-4e3a-d846-b3ed1c60fa92"
      },
      "outputs": [
        {
          "output_type": "execute_result",
          "data": {
            "text/plain": [
              "True"
            ]
          },
          "metadata": {},
          "execution_count": 259
        }
      ],
      "source": [
        "100 == 100.0"
      ]
    },
    {
      "cell_type": "code",
      "execution_count": 260,
      "metadata": {
        "id": "ihnDSJC-yoim",
        "colab": {
          "base_uri": "https://localhost:8080/"
        },
        "outputId": "0ca0065d-2a40-4bc0-dfee-f5babecb1bbf"
      },
      "outputs": [
        {
          "output_type": "execute_result",
          "data": {
            "text/plain": [
              "False"
            ]
          },
          "metadata": {},
          "execution_count": 260
        }
      ],
      "source": [
        "id(100) == id(100.0)"
      ]
    },
    {
      "cell_type": "markdown",
      "metadata": {
        "id": "OVo9hmeCyoim"
      },
      "source": [
        "## <font color='blue'>**Aritmética básica**</font>"
      ]
    },
    {
      "cell_type": "code",
      "execution_count": 261,
      "metadata": {
        "id": "2uuDbMamyoim",
        "colab": {
          "base_uri": "https://localhost:8080/"
        },
        "outputId": "39cf2131-e872-4218-ae4c-9492afc21f7e"
      },
      "outputs": [
        {
          "output_type": "execute_result",
          "data": {
            "text/plain": [
              "2"
            ]
          },
          "metadata": {},
          "execution_count": 261
        }
      ],
      "source": [
        "# Suma\n",
        "1 + 1"
      ]
    },
    {
      "cell_type": "code",
      "execution_count": 262,
      "metadata": {
        "id": "UGEahjh4yoin",
        "colab": {
          "base_uri": "https://localhost:8080/"
        },
        "outputId": "886ab5f1-42aa-4692-fc69-03cb8a91da9f"
      },
      "outputs": [
        {
          "output_type": "execute_result",
          "data": {
            "text/plain": [
              "1"
            ]
          },
          "metadata": {},
          "execution_count": 262
        }
      ],
      "source": [
        "# Resta\n",
        "2 - 1"
      ]
    },
    {
      "cell_type": "code",
      "execution_count": 263,
      "metadata": {
        "id": "WyMoko6nyoin",
        "colab": {
          "base_uri": "https://localhost:8080/"
        },
        "outputId": "f688dee3-1289-4327-be85-7d42c1a01173"
      },
      "outputs": [
        {
          "output_type": "execute_result",
          "data": {
            "text/plain": [
              "4"
            ]
          },
          "metadata": {},
          "execution_count": 263
        }
      ],
      "source": [
        "# Multiplicación\n",
        "2 * 2"
      ]
    },
    {
      "cell_type": "code",
      "execution_count": 264,
      "metadata": {
        "id": "m8zJbrNKyoin",
        "colab": {
          "base_uri": "https://localhost:8080/"
        },
        "outputId": "f62395d9-a6d8-47cf-a6c9-d0e84106c46d"
      },
      "outputs": [
        {
          "output_type": "execute_result",
          "data": {
            "text/plain": [
              "1.5"
            ]
          },
          "metadata": {},
          "execution_count": 264
        }
      ],
      "source": [
        "# División\n",
        "3 / 2"
      ]
    },
    {
      "cell_type": "code",
      "execution_count": 265,
      "metadata": {
        "id": "C9XC9Jmwyoio",
        "colab": {
          "base_uri": "https://localhost:8080/"
        },
        "outputId": "a15dec01-ac15-4b51-ef6d-21a070ced5e0"
      },
      "outputs": [
        {
          "output_type": "execute_result",
          "data": {
            "text/plain": [
              "1.0"
            ]
          },
          "metadata": {},
          "execution_count": 265
        }
      ],
      "source": [
        "# Considera que la división siempre retorna floats\n",
        "1/1"
      ]
    },
    {
      "cell_type": "code",
      "execution_count": 266,
      "metadata": {
        "id": "uhamwlfVyoio",
        "colab": {
          "base_uri": "https://localhost:8080/"
        },
        "outputId": "d1f38b21-c061-4e36-bfc8-31bcbc35e386"
      },
      "outputs": [
        {
          "output_type": "execute_result",
          "data": {
            "text/plain": [
              "8"
            ]
          },
          "metadata": {},
          "execution_count": 266
        }
      ],
      "source": [
        "# Potencias\n",
        "2 ** 3"
      ]
    },
    {
      "cell_type": "code",
      "execution_count": 267,
      "metadata": {
        "id": "nhLhZ6Nxyoio",
        "colab": {
          "base_uri": "https://localhost:8080/"
        },
        "outputId": "782f54d1-d3e9-4583-9594-8905ae9138c4"
      },
      "outputs": [
        {
          "output_type": "execute_result",
          "data": {
            "text/plain": [
              "1.4142135623730951"
            ]
          },
          "metadata": {},
          "execution_count": 267
        }
      ],
      "source": [
        "2 ** (1 / 2)"
      ]
    },
    {
      "cell_type": "markdown",
      "metadata": {
        "id": "VnpdFFWryoip"
      },
      "source": [
        "### Orden de las operaciones"
      ]
    },
    {
      "cell_type": "markdown",
      "metadata": {
        "id": "xJqy-3pmyoip"
      },
      "source": [
        "Al igual que ocurre en matemáticas, en programación también tenemos una prioridad en los operadores. Esto significa que si una expresión matemática es precedida por un operador y seguido de otro, el operador más alto en la lista debe ser aplicado por primera vez. Las expresiones con paréntesis se evalúan de dentro a fuera, el paréntesis más interno se evalúa primero. El orden normal de las operaciones es de izquierda a derecha, evaluando en orden los siguientes operadores:\n",
        "\n",
        "* Términos entre paréntesis.\n",
        "* Potenciación y raíces.\n",
        "* Multiplicación y división.\n",
        "* Suma y resta.\n",
        "\n",
        "En Python se representan los operadores con el siguiente orden:\n",
        "```\n",
        "( )\n",
        "**\n",
        "X, /, %, //\n",
        "+, -\n",
        "````"
      ]
    },
    {
      "cell_type": "code",
      "execution_count": 268,
      "metadata": {
        "id": "Le1_qkOayoip",
        "colab": {
          "base_uri": "https://localhost:8080/"
        },
        "outputId": "58d79f51-833d-495b-d455-b2edc3d5fd28"
      },
      "outputs": [
        {
          "output_type": "execute_result",
          "data": {
            "text/plain": [
              "2002"
            ]
          },
          "metadata": {},
          "execution_count": 268
        }
      ],
      "source": [
        "# Orden de la operaciones\n",
        "1 + 2 * 1000 + 1"
      ]
    },
    {
      "cell_type": "code",
      "execution_count": 269,
      "metadata": {
        "id": "aytYAw0zyoip",
        "colab": {
          "base_uri": "https://localhost:8080/"
        },
        "outputId": "df44af3f-7a9f-49f9-ce86-51a48983cf86"
      },
      "outputs": [
        {
          "output_type": "execute_result",
          "data": {
            "text/plain": [
              "3003"
            ]
          },
          "metadata": {},
          "execution_count": 269
        }
      ],
      "source": [
        "# Python ejecuta priero los paréntesis\n",
        "(1 + 2) * (1000 + 1)"
      ]
    },
    {
      "cell_type": "code",
      "execution_count": 270,
      "metadata": {
        "id": "CP2ICIIhyoip",
        "colab": {
          "base_uri": "https://localhost:8080/"
        },
        "outputId": "495c9900-59f9-46ad-e393-eb870c83fa0f"
      },
      "outputs": [
        {
          "output_type": "execute_result",
          "data": {
            "text/plain": [
              "21"
            ]
          },
          "metadata": {},
          "execution_count": 270
        }
      ],
      "source": [
        "# Python primero la división y la multiplicación y luego la suma y la resta\n",
        "1 + 10 * 2"
      ]
    },
    {
      "cell_type": "code",
      "execution_count": 271,
      "metadata": {
        "id": "NyJm5cTTyoiq",
        "colab": {
          "base_uri": "https://localhost:8080/"
        },
        "outputId": "16e95b52-07b7-4f65-9d96-09ec7763fe89"
      },
      "outputs": [
        {
          "output_type": "execute_result",
          "data": {
            "text/plain": [
              "22"
            ]
          },
          "metadata": {},
          "execution_count": 271
        }
      ],
      "source": [
        "# Pero al final del día, los paréntesis mandan\n",
        "(1 + 10) * 2"
      ]
    },
    {
      "cell_type": "markdown",
      "metadata": {
        "id": "GzqZOZhcyoiq"
      },
      "source": [
        "## <font color='blue'>**Asignando variables**</font>"
      ]
    },
    {
      "cell_type": "code",
      "execution_count": 272,
      "metadata": {
        "id": "YX_sb1Layoiq"
      },
      "outputs": [],
      "source": [
        "a = 2.0"
      ]
    },
    {
      "cell_type": "code",
      "execution_count": 273,
      "metadata": {
        "id": "dwbS5rG_yoir",
        "colab": {
          "base_uri": "https://localhost:8080/"
        },
        "outputId": "d5a8c2b1-7ccd-4421-efd3-7f9c22f951df"
      },
      "outputs": [
        {
          "output_type": "execute_result",
          "data": {
            "text/plain": [
              "float"
            ]
          },
          "metadata": {},
          "execution_count": 273
        }
      ],
      "source": [
        "type(a)"
      ]
    },
    {
      "cell_type": "code",
      "execution_count": 274,
      "metadata": {
        "id": "txX3st9Qyoir",
        "colab": {
          "base_uri": "https://localhost:8080/"
        },
        "outputId": "50f68ce4-ba5f-4ed6-e406-bb348f7e1ddc"
      },
      "outputs": [
        {
          "output_type": "execute_result",
          "data": {
            "text/plain": [
              "5.0"
            ]
          },
          "metadata": {},
          "execution_count": 274
        }
      ],
      "source": [
        "a + 3"
      ]
    },
    {
      "cell_type": "code",
      "execution_count": 275,
      "metadata": {
        "id": "M_2yo-NFyoir"
      },
      "outputs": [],
      "source": [
        "b = 3"
      ]
    },
    {
      "cell_type": "code",
      "execution_count": 276,
      "metadata": {
        "id": "ijwl32UMyoir",
        "colab": {
          "base_uri": "https://localhost:8080/"
        },
        "outputId": "39a1be02-9a95-4b36-ae7f-6db56fae7da3"
      },
      "outputs": [
        {
          "output_type": "execute_result",
          "data": {
            "text/plain": [
              "5.0"
            ]
          },
          "metadata": {},
          "execution_count": 276
        }
      ],
      "source": [
        "a + b"
      ]
    },
    {
      "cell_type": "code",
      "execution_count": 277,
      "metadata": {
        "id": "YRdWqOXLyoir",
        "colab": {
          "base_uri": "https://localhost:8080/"
        },
        "outputId": "85768ddf-c11e-47c2-d780-02778b1e7296"
      },
      "outputs": [
        {
          "output_type": "stream",
          "name": "stdout",
          "text": [
            "El valor actual de a es 2.0\n",
            "El nuevo valor de a es 1000\n"
          ]
        }
      ],
      "source": [
        "print(f'El valor actual de a es {a}')\n",
        "\n",
        "# Reasignamos\n",
        "a = 1000\n",
        "\n",
        "print(f'El nuevo valor de a es {a}')"
      ]
    },
    {
      "cell_type": "code",
      "execution_count": 278,
      "metadata": {
        "id": "l3BdmtvOyoir",
        "colab": {
          "base_uri": "https://localhost:8080/"
        },
        "outputId": "1056e814-7cf4-4014-dadd-ba75b98ab043"
      },
      "outputs": [
        {
          "output_type": "execute_result",
          "data": {
            "text/plain": [
              "1003"
            ]
          },
          "metadata": {},
          "execution_count": 278
        }
      ],
      "source": [
        "a + b"
      ]
    },
    {
      "cell_type": "markdown",
      "metadata": {
        "id": "a24QBdpYyoir"
      },
      "source": [
        "## <font color='blue'>**Python tipado dinámico**</font>\n",
        "\n",
        "Existen dos tipos de tipado:\n",
        "* Estático\n",
        "* Dinámico\n",
        "\n",
        "En los lenguajes estáticos, cuando declaramos una variable es necesario especificar el tipo que tiene y ese tipo es inalterable:\n",
        "```Javascript\n",
        "String nombre = 'Héctor'; // java\n",
        "```\n",
        "En cambio en lenguajes como Python no es necesario establecer un tipo y además puede cambiar en cualquier momento, eso es porque viene determinado en tiempo de ejecución por el valor asignado a la variable:"
      ]
    },
    {
      "cell_type": "code",
      "execution_count": 279,
      "metadata": {
        "id": "GOC0fVrgyois",
        "colab": {
          "base_uri": "https://localhost:8080/"
        },
        "outputId": "79f078f4-5798-4276-cdb8-be00b10865a9"
      },
      "outputs": [
        {
          "output_type": "execute_result",
          "data": {
            "text/plain": [
              "str"
            ]
          },
          "metadata": {},
          "execution_count": 279
        }
      ],
      "source": [
        "nombre = 'Héctor'\n",
        "type(nombre)"
      ]
    },
    {
      "cell_type": "code",
      "execution_count": 280,
      "metadata": {
        "id": "UfLJ84Sqyois",
        "colab": {
          "base_uri": "https://localhost:8080/"
        },
        "outputId": "427b0ed7-5933-4f50-87df-a8c73b964524"
      },
      "outputs": [
        {
          "output_type": "execute_result",
          "data": {
            "text/plain": [
              "int"
            ]
          },
          "metadata": {},
          "execution_count": 280
        }
      ],
      "source": [
        "nombre = 50\n",
        "type(nombre)"
      ]
    },
    {
      "cell_type": "markdown",
      "metadata": {
        "id": "8Sxb6xt8yois"
      },
      "source": [
        "### Reasignar con la misma variable"
      ]
    },
    {
      "cell_type": "code",
      "execution_count": 281,
      "metadata": {
        "id": "UKAYdNxZyois",
        "colab": {
          "base_uri": "https://localhost:8080/"
        },
        "outputId": "d3a667f6-ece8-4881-94f2-c120fabd1983"
      },
      "outputs": [
        {
          "output_type": "execute_result",
          "data": {
            "text/plain": [
              "1000"
            ]
          },
          "metadata": {},
          "execution_count": 281
        }
      ],
      "source": [
        "a"
      ]
    },
    {
      "cell_type": "code",
      "execution_count": 282,
      "metadata": {
        "id": "nkIvCcaJyois"
      },
      "outputs": [],
      "source": [
        "# Ten en mente qye si ejecutas esta celda más de una vez estarás ejecutando a = a + a\n",
        "a = a + a"
      ]
    },
    {
      "cell_type": "code",
      "execution_count": 283,
      "metadata": {
        "id": "7HnMXbURyois",
        "colab": {
          "base_uri": "https://localhost:8080/"
        },
        "outputId": "b57dc0ba-d6e9-453b-cabe-1c5d81e7ae9d"
      },
      "outputs": [
        {
          "output_type": "execute_result",
          "data": {
            "text/plain": [
              "2000"
            ]
          },
          "metadata": {},
          "execution_count": 283
        }
      ],
      "source": [
        "a"
      ]
    },
    {
      "cell_type": "code",
      "execution_count": 284,
      "metadata": {
        "id": "4Tr9ndIoyois"
      },
      "outputs": [],
      "source": [
        "a = a + a"
      ]
    },
    {
      "cell_type": "code",
      "execution_count": 285,
      "metadata": {
        "id": "kZSRUwclyois",
        "colab": {
          "base_uri": "https://localhost:8080/"
        },
        "outputId": "4a1d09fe-6f0e-4aff-8a43-560758f966e2"
      },
      "outputs": [
        {
          "output_type": "execute_result",
          "data": {
            "text/plain": [
              "4000"
            ]
          },
          "metadata": {},
          "execution_count": 285
        }
      ],
      "source": [
        "a"
      ]
    },
    {
      "cell_type": "markdown",
      "metadata": {
        "id": "YInk921tyois"
      },
      "source": [
        "## <font color='green'>Actividad 2:</font>\n",
        "### Tipado dinámico\n",
        "Crea una variable `string`, imprímela y luego reasígnala como `float` y vuelve a imprimirla.\n",
        "Investiga y evalúa las ventajas y desventajas de esta caractarística de Python."
      ]
    },
    {
      "cell_type": "code",
      "execution_count": 354,
      "metadata": {
        "id": "3uIG5WFtyois",
        "colab": {
          "base_uri": "https://localhost:8080/"
        },
        "outputId": "13bbb949-3b9f-4566-d3ac-491a752ebab3"
      },
      "outputs": [
        {
          "output_type": "stream",
          "name": "stdout",
          "text": [
            "Valor como string: 123.45 (tipo: <class 'str'>)\n",
            "Valor como float: 123.45 (tipo: <class 'float'>)\n"
          ]
        }
      ],
      "source": [
        "# Tu código aquí ...\n",
        "\n",
        "# Variable como string\n",
        "dato = \"123.45\"\n",
        "print(f\"Valor como string: {dato} (tipo: {type(dato)})\")\n",
        "\n",
        "# Reasignación como float\n",
        "dato = float(dato)\n",
        "print(f\"Valor como float: {dato} (tipo: {type(dato)})\")"
      ]
    },
    {
      "cell_type": "code",
      "source": [],
      "metadata": {
        "id": "9oLRAzl8gDzd"
      },
      "execution_count": 286,
      "outputs": []
    },
    {
      "cell_type": "markdown",
      "metadata": {
        "id": "wfu6qV3OOqLM"
      },
      "source": [
        "# **Introducción a Python**\n",
        "#  Listas en Python (Python list)"
      ]
    },
    {
      "cell_type": "markdown",
      "metadata": {
        "id": "0r-6QIlDOqLP"
      },
      "source": [
        "## <font color='blue'>**Listas**</font>"
      ]
    },
    {
      "cell_type": "markdown",
      "metadata": {
        "id": "1SmdMUV0OqLQ"
      },
      "source": [
        "Hemos aprendido que las cadenas son secuencias de caracteres. De manera similar, las listas son secuencias de objetos, pueden contener una variedad de tipos de datos en orden y siguen las mismas reglas de secuencia y corchetes de indexación que las cadenas. También pueden admitir tipos de datos mixtos.\n",
        "\n",
        "Exploremos algunos ejemplos útiles:"
      ]
    },
    {
      "cell_type": "code",
      "execution_count": 287,
      "metadata": {
        "id": "dGqPPbHSOqLQ"
      },
      "outputs": [],
      "source": [
        "# una lista vacía\n",
        "\n",
        "l = []"
      ]
    },
    {
      "cell_type": "code",
      "execution_count": 288,
      "metadata": {
        "id": "Fg6hCG7oOqLR",
        "colab": {
          "base_uri": "https://localhost:8080/"
        },
        "outputId": "14ff7e36-e183-4b7b-9d6a-dbd054d9fd6c"
      },
      "outputs": [
        {
          "output_type": "execute_result",
          "data": {
            "text/plain": [
              "list"
            ]
          },
          "metadata": {},
          "execution_count": 288
        }
      ],
      "source": [
        "type(l)"
      ]
    },
    {
      "cell_type": "code",
      "execution_count": 289,
      "metadata": {
        "id": "kcNcFCq_OqLS"
      },
      "outputs": [],
      "source": [
        "# Es pythonista el separar los elementos con un espacio después de la coma\n",
        "\n",
        "my_list = [1, 2, 3]"
      ]
    },
    {
      "cell_type": "code",
      "execution_count": 290,
      "metadata": {
        "id": "zeDaHOWiOqLS",
        "colab": {
          "base_uri": "https://localhost:8080/"
        },
        "outputId": "55826f3f-9216-45f6-e1de-c456c33be2d2"
      },
      "outputs": [
        {
          "output_type": "execute_result",
          "data": {
            "text/plain": [
              "[1, 2, 3]"
            ]
          },
          "metadata": {},
          "execution_count": 290
        }
      ],
      "source": [
        "my_list"
      ]
    },
    {
      "cell_type": "code",
      "execution_count": 291,
      "metadata": {
        "id": "diM_-zWEOqLT"
      },
      "outputs": [],
      "source": [
        "my_list2 = ['a', 'b', 'c']"
      ]
    },
    {
      "cell_type": "code",
      "execution_count": 292,
      "metadata": {
        "id": "mh7rR7qmOqLT",
        "colab": {
          "base_uri": "https://localhost:8080/"
        },
        "outputId": "f857bfbd-cbaf-4a3a-b653-9009b6cc4c2c"
      },
      "outputs": [
        {
          "output_type": "execute_result",
          "data": {
            "text/plain": [
              "['a', 'b', 'c']"
            ]
          },
          "metadata": {},
          "execution_count": 292
        }
      ],
      "source": [
        "my_list2"
      ]
    },
    {
      "cell_type": "code",
      "execution_count": 293,
      "metadata": {
        "id": "K42dcTLyOqLU"
      },
      "outputs": [],
      "source": [
        "a = 100\n",
        "b = 200\n",
        "c = 300\n",
        "my_list3 = [a, b, c]"
      ]
    },
    {
      "cell_type": "code",
      "execution_count": 294,
      "metadata": {
        "id": "pqL76r9BOqLV",
        "colab": {
          "base_uri": "https://localhost:8080/"
        },
        "outputId": "9e3e7d22-b953-4a45-e298-68cffb69ff40"
      },
      "outputs": [
        {
          "output_type": "execute_result",
          "data": {
            "text/plain": [
              "[100, 200, 300]"
            ]
          },
          "metadata": {},
          "execution_count": 294
        }
      ],
      "source": [
        "my_list3"
      ]
    },
    {
      "cell_type": "markdown",
      "metadata": {
        "id": "H_AgpZ2IOqLW"
      },
      "source": [
        "## <font color='blue'>**Indexing y Slicing**</font>\n",
        "\n",
        "Esto funciona igual que con los string!"
      ]
    },
    {
      "cell_type": "code",
      "execution_count": 295,
      "metadata": {
        "id": "flbwYUgbOqLX"
      },
      "outputs": [],
      "source": [
        "mylist = ['a', 'b', 'c', 'd']"
      ]
    },
    {
      "cell_type": "code",
      "execution_count": 296,
      "metadata": {
        "id": "FWjsyQ-XOqLX",
        "colab": {
          "base_uri": "https://localhost:8080/",
          "height": 35
        },
        "outputId": "e5d5eaa4-6c8f-4525-8c42-aa5e2ac91a8b"
      },
      "outputs": [
        {
          "output_type": "execute_result",
          "data": {
            "text/plain": [
              "'a'"
            ],
            "application/vnd.google.colaboratory.intrinsic+json": {
              "type": "string"
            }
          },
          "metadata": {},
          "execution_count": 296
        }
      ],
      "source": [
        "# el idexing parte de 0\n",
        "\n",
        "mylist[0]"
      ]
    },
    {
      "cell_type": "code",
      "execution_count": 297,
      "metadata": {
        "id": "oK2Pz9_5OqLX",
        "colab": {
          "base_uri": "https://localhost:8080/"
        },
        "outputId": "ada97b4c-9b89-4ea2-af64-c644338918c9"
      },
      "outputs": [
        {
          "output_type": "execute_result",
          "data": {
            "text/plain": [
              "['a', 'b', 'c']"
            ]
          },
          "metadata": {},
          "execution_count": 297
        }
      ],
      "source": [
        "# y el slicing no considera el último número\n",
        "\n",
        "mylist[0:3]"
      ]
    },
    {
      "cell_type": "code",
      "execution_count": 298,
      "metadata": {
        "id": "WSowEiauOqLX",
        "colab": {
          "base_uri": "https://localhost:8080/",
          "height": 35
        },
        "outputId": "c2cbba69-f692-40ce-8928-f6f17b7fee8c"
      },
      "outputs": [
        {
          "output_type": "execute_result",
          "data": {
            "text/plain": [
              "'d'"
            ],
            "application/vnd.google.colaboratory.intrinsic+json": {
              "type": "string"
            }
          },
          "metadata": {},
          "execution_count": 298
        }
      ],
      "source": [
        "# podemos usar idexing inverso\n",
        "\n",
        "mylist[-1]"
      ]
    },
    {
      "cell_type": "code",
      "execution_count": 299,
      "metadata": {
        "id": "Xb30nI6nOqLX",
        "colab": {
          "base_uri": "https://localhost:8080/"
        },
        "outputId": "ffc7ff01-0a13-4584-88ee-48d6cf463238"
      },
      "outputs": [
        {
          "output_type": "execute_result",
          "data": {
            "text/plain": [
              "['a', 'c']"
            ]
          },
          "metadata": {},
          "execution_count": 299
        }
      ],
      "source": [
        "# ... con paso\n",
        "mylist[0::2]"
      ]
    },
    {
      "cell_type": "code",
      "execution_count": 300,
      "metadata": {
        "id": "I8lWVT3AOqLY",
        "colab": {
          "base_uri": "https://localhost:8080/"
        },
        "outputId": "f852f49a-6d9b-4c0d-f813-48ec24043bab"
      },
      "outputs": [
        {
          "output_type": "execute_result",
          "data": {
            "text/plain": [
              "['d', 'c', 'b', 'a']"
            ]
          },
          "metadata": {},
          "execution_count": 300
        }
      ],
      "source": [
        "# ... con paso inverso\n",
        "mylist[-1::-1]"
      ]
    },
    {
      "cell_type": "markdown",
      "metadata": {
        "id": "W12EDdCROqLY"
      },
      "source": [
        "## La función `len()`\n",
        "\n",
        "Python tiene funciones integradas a las que puede llamar. Lentamente presentaremos más de ellos a medida que las necesitemos. Una función incorporada útil es la función `len()`, la cual devuelve la longitud de un objeto. Observe el color de la letra en su sintaxis, ese color indica que es una función incorporada. Si ve que este resaltado automático ocurre al elegir su propio nombre de variable, entonces debe elegir un nombre de variable diferente, para no sobrescribir accidentalmente la función."
      ]
    },
    {
      "cell_type": "code",
      "execution_count": 301,
      "metadata": {
        "id": "MnngoakPOqLY",
        "colab": {
          "base_uri": "https://localhost:8080/"
        },
        "outputId": "27fd588d-5c52-435a-ee12-721b86610941"
      },
      "outputs": [
        {
          "output_type": "execute_result",
          "data": {
            "text/plain": [
              "6"
            ]
          },
          "metadata": {},
          "execution_count": 301
        }
      ],
      "source": [
        "len('string')"
      ]
    },
    {
      "cell_type": "code",
      "execution_count": 302,
      "metadata": {
        "id": "BLgdaBINOqLY",
        "colab": {
          "base_uri": "https://localhost:8080/"
        },
        "outputId": "fdff18b2-6747-4f15-b89f-22e1c27a7fe9"
      },
      "outputs": [
        {
          "output_type": "execute_result",
          "data": {
            "text/plain": [
              "3"
            ]
          },
          "metadata": {},
          "execution_count": 302
        }
      ],
      "source": [
        "len(my_list)"
      ]
    },
    {
      "cell_type": "markdown",
      "metadata": {
        "id": "DM879TufOqLZ"
      },
      "source": [
        "## <font color='blue'>**Métodos útiles para listas**</font>\n",
        "\n",
        "Los métodos son funciones que pertenecen a un objeto. En este caso el objeto es la lista. Su formato típico es:\n",
        "```python\n",
        "     mylist = [1, 2, 3]\n",
        "     mylist.some_method()\n",
        "```    \n",
        "¡Atención con los paréntesis!\n",
        "\n",
        "Repasemos algunos métodos útiles relacionados con las listas."
      ]
    },
    {
      "cell_type": "code",
      "execution_count": 303,
      "metadata": {
        "id": "aI2ITkXqOqLZ"
      },
      "outputs": [],
      "source": [
        "mylist = [1, 2, 3]"
      ]
    },
    {
      "cell_type": "code",
      "execution_count": 304,
      "metadata": {
        "id": "JizDG7pQOqLZ"
      },
      "outputs": [],
      "source": [
        "# Descubre qué hace el método append()\n",
        "mylist.append(4)"
      ]
    },
    {
      "cell_type": "code",
      "execution_count": 305,
      "metadata": {
        "id": "vu0OxoI_OqLa",
        "colab": {
          "base_uri": "https://localhost:8080/"
        },
        "outputId": "c56766bd-b0aa-4fb8-b862-861ebfb51c41"
      },
      "outputs": [
        {
          "output_type": "execute_result",
          "data": {
            "text/plain": [
              "[1, 2, 3, 4]"
            ]
          },
          "metadata": {},
          "execution_count": 305
        }
      ],
      "source": [
        "mylist"
      ]
    },
    {
      "cell_type": "code",
      "execution_count": 306,
      "metadata": {
        "id": "ZuX5EwiVOqLa",
        "colab": {
          "base_uri": "https://localhost:8080/"
        },
        "outputId": "21301b89-cd17-4cb7-88cc-d48be43a24bb"
      },
      "outputs": [
        {
          "output_type": "execute_result",
          "data": {
            "text/plain": [
              "4"
            ]
          },
          "metadata": {},
          "execution_count": 306
        }
      ],
      "source": [
        "# Descubre qué hace el método pop()\n",
        "mylist.pop()"
      ]
    },
    {
      "cell_type": "code",
      "execution_count": 307,
      "metadata": {
        "id": "Uav9FjAPOqLa",
        "colab": {
          "base_uri": "https://localhost:8080/"
        },
        "outputId": "a36a5a8b-9dab-4247-fa30-cabdbd763196"
      },
      "outputs": [
        {
          "output_type": "execute_result",
          "data": {
            "text/plain": [
              "[1, 2, 3]"
            ]
          },
          "metadata": {},
          "execution_count": 307
        }
      ],
      "source": [
        "mylist"
      ]
    },
    {
      "cell_type": "code",
      "execution_count": 308,
      "metadata": {
        "id": "VH82E1x2OqLa",
        "colab": {
          "base_uri": "https://localhost:8080/"
        },
        "outputId": "d3d5f232-a18e-4544-9af1-4eca83a4501e"
      },
      "outputs": [
        {
          "output_type": "execute_result",
          "data": {
            "text/plain": [
              "<function list.append(object, /)>"
            ]
          },
          "metadata": {},
          "execution_count": 308
        }
      ],
      "source": [
        "# Si no pones los paréntesis te devuelve el tipo de objeto; en este caso una función\n",
        "mylist.append"
      ]
    },
    {
      "cell_type": "code",
      "execution_count": 309,
      "metadata": {
        "id": "uh1uiTdhOqLa"
      },
      "outputs": [],
      "source": [
        "mylist.append(4)"
      ]
    },
    {
      "cell_type": "code",
      "execution_count": 310,
      "metadata": {
        "id": "A3JY0Cg4OqLa",
        "colab": {
          "base_uri": "https://localhost:8080/"
        },
        "outputId": "6ea5709c-38c0-416a-cd04-5bfd86f9c76e"
      },
      "outputs": [
        {
          "output_type": "execute_result",
          "data": {
            "text/plain": [
              "[1, 2, 3, 4]"
            ]
          },
          "metadata": {},
          "execution_count": 310
        }
      ],
      "source": [
        "mylist"
      ]
    },
    {
      "cell_type": "code",
      "execution_count": 311,
      "metadata": {
        "id": "wnEWtuUBOqLa"
      },
      "outputs": [],
      "source": [
        "item = mylist.pop()"
      ]
    },
    {
      "cell_type": "code",
      "execution_count": 312,
      "metadata": {
        "id": "U9kEst9uOqLa",
        "colab": {
          "base_uri": "https://localhost:8080/"
        },
        "outputId": "e8b09288-1865-4ddc-c7bb-3c1248c8a900"
      },
      "outputs": [
        {
          "output_type": "execute_result",
          "data": {
            "text/plain": [
              "4"
            ]
          },
          "metadata": {},
          "execution_count": 312
        }
      ],
      "source": [
        "item"
      ]
    },
    {
      "cell_type": "code",
      "execution_count": 313,
      "metadata": {
        "id": "l6q-DVCsOqLa",
        "colab": {
          "base_uri": "https://localhost:8080/"
        },
        "outputId": "f87825a0-d230-4dd2-8a97-b379d5ef7198"
      },
      "outputs": [
        {
          "output_type": "execute_result",
          "data": {
            "text/plain": [
              "[1, 2, 3]"
            ]
          },
          "metadata": {},
          "execution_count": 313
        }
      ],
      "source": [
        "mylist"
      ]
    },
    {
      "cell_type": "code",
      "execution_count": 314,
      "metadata": {
        "id": "R-3IWCHOOqLa"
      },
      "outputs": [],
      "source": [
        "first_item = mylist.pop(0)"
      ]
    },
    {
      "cell_type": "code",
      "execution_count": 315,
      "metadata": {
        "id": "Jgm94TKoOqLa",
        "colab": {
          "base_uri": "https://localhost:8080/"
        },
        "outputId": "4a483ef0-614d-452d-ad6a-e4be83ca32a2"
      },
      "outputs": [
        {
          "output_type": "execute_result",
          "data": {
            "text/plain": [
              "1"
            ]
          },
          "metadata": {},
          "execution_count": 315
        }
      ],
      "source": [
        "first_item"
      ]
    },
    {
      "cell_type": "code",
      "execution_count": 316,
      "metadata": {
        "id": "7BHyqp3EOqLa",
        "colab": {
          "base_uri": "https://localhost:8080/"
        },
        "outputId": "9e2cadcd-fb4e-4131-d166-e21fdc302fa3"
      },
      "outputs": [
        {
          "output_type": "execute_result",
          "data": {
            "text/plain": [
              "[2, 3]"
            ]
          },
          "metadata": {},
          "execution_count": 316
        }
      ],
      "source": [
        "mylist"
      ]
    },
    {
      "cell_type": "code",
      "execution_count": 317,
      "metadata": {
        "id": "dM_oNgKdOqLb"
      },
      "outputs": [],
      "source": [
        "mylist = [1, 2, 3]"
      ]
    },
    {
      "cell_type": "code",
      "execution_count": 318,
      "metadata": {
        "id": "QGVRRvfcOqLb"
      },
      "outputs": [],
      "source": [
        "# Este método no devuelve nada.\n",
        "# En su lugar, realiza la acción \"in situ\", o en la misma lista sin devolver nada.\n",
        "# Descubre qué hace...\n",
        "\n",
        "mylist.reverse()"
      ]
    },
    {
      "cell_type": "code",
      "execution_count": 319,
      "metadata": {
        "id": "7GKtKCUxOqLb",
        "colab": {
          "base_uri": "https://localhost:8080/"
        },
        "outputId": "911724cd-5447-4fa7-c0c7-7b4b488457c0"
      },
      "outputs": [
        {
          "output_type": "execute_result",
          "data": {
            "text/plain": [
              "[3, 2, 1]"
            ]
          },
          "metadata": {},
          "execution_count": 319
        }
      ],
      "source": [
        "mylist"
      ]
    },
    {
      "cell_type": "code",
      "execution_count": 320,
      "metadata": {
        "id": "M5cnjnvnOqLb",
        "colab": {
          "base_uri": "https://localhost:8080/"
        },
        "outputId": "ba50145a-3af1-4efc-cc41-9641e6ade5fe"
      },
      "outputs": [
        {
          "output_type": "execute_result",
          "data": {
            "text/plain": [
              "[3, 2, 1, 6, 5, 4]"
            ]
          },
          "metadata": {},
          "execution_count": 320
        }
      ],
      "source": [
        "mylist = [3, 2, 1, 6, 5, 4]\n",
        "mylist"
      ]
    },
    {
      "cell_type": "code",
      "execution_count": 321,
      "metadata": {
        "id": "H_7cosNkOqLb"
      },
      "outputs": [],
      "source": [
        "# Este método ordena la lista pero sin devolver nada. A esto se le denomina \"in place\"\n",
        "\n",
        "mylist.sort()"
      ]
    },
    {
      "cell_type": "code",
      "execution_count": 322,
      "metadata": {
        "id": "dmb3CfNsOqLb",
        "colab": {
          "base_uri": "https://localhost:8080/"
        },
        "outputId": "115fe431-176e-4a93-926f-ccdae3e271a1"
      },
      "outputs": [
        {
          "output_type": "execute_result",
          "data": {
            "text/plain": [
              "[1, 2, 3, 4, 5, 6]"
            ]
          },
          "metadata": {},
          "execution_count": 322
        }
      ],
      "source": [
        "mylist"
      ]
    },
    {
      "cell_type": "code",
      "execution_count": 323,
      "metadata": {
        "id": "Tc1ML1OFOqLb",
        "colab": {
          "base_uri": "https://localhost:8080/"
        },
        "outputId": "f2bfc0e1-0704-4dd0-af4f-6164c6cd4f5a"
      },
      "outputs": [
        {
          "output_type": "stream",
          "name": "stdout",
          "text": [
            "<class 'list'>\n"
          ]
        }
      ],
      "source": [
        "# Creemos otra lista\n",
        "\n",
        "names = []\n",
        "\n",
        "# verifiquemos su tipo con type()\n",
        "print(type(names))"
      ]
    },
    {
      "cell_type": "code",
      "execution_count": 324,
      "metadata": {
        "id": "J9whVhcvOqLb",
        "colab": {
          "base_uri": "https://localhost:8080/"
        },
        "outputId": "7c1c69ec-0c1c-4514-b168-ecd8feaa6f3d"
      },
      "outputs": [
        {
          "output_type": "execute_result",
          "data": {
            "text/plain": [
              "['Matías']"
            ]
          },
          "metadata": {},
          "execution_count": 324
        }
      ],
      "source": [
        "# Agreguemos un nombre a 'name'\n",
        "\n",
        "names.append('Matías')\n",
        "names"
      ]
    },
    {
      "cell_type": "code",
      "execution_count": 325,
      "metadata": {
        "id": "ibs44kmgOqLb",
        "colab": {
          "base_uri": "https://localhost:8080/"
        },
        "outputId": "183b49cb-1efc-4107-de60-8233f9a05465"
      },
      "outputs": [
        {
          "output_type": "execute_result",
          "data": {
            "text/plain": [
              "['Matías', 'Isidora', 'Flo']"
            ]
          },
          "metadata": {},
          "execution_count": 325
        }
      ],
      "source": [
        "# Más nombres ...\n",
        "\n",
        "names.append('Isidora')\n",
        "names.append('Flo')\n",
        "names"
      ]
    },
    {
      "cell_type": "markdown",
      "metadata": {
        "id": "tFbrDumuOqLd"
      },
      "source": [
        "## <font color='blue'>**Listas anidadas (_Nested Lists_)**</font>\n",
        "\n",
        "¡Las listas pueden contener otras listas! Esto se llama lista anidada. Veamos algunos ejemplos."
      ]
    },
    {
      "cell_type": "code",
      "execution_count": 326,
      "metadata": {
        "id": "xOpP0Ap5OqLd"
      },
      "outputs": [],
      "source": [
        "new_list = [1, 2, 3, ['a', 'b', 'c']]"
      ]
    },
    {
      "cell_type": "code",
      "execution_count": 327,
      "metadata": {
        "id": "gJOaH8UgOqLd",
        "colab": {
          "base_uri": "https://localhost:8080/"
        },
        "outputId": "1a66073f-b57a-425a-a8cf-7299dcc26af5"
      },
      "outputs": [
        {
          "output_type": "execute_result",
          "data": {
            "text/plain": [
              "list"
            ]
          },
          "metadata": {},
          "execution_count": 327
        }
      ],
      "source": [
        "type(new_list)"
      ]
    },
    {
      "cell_type": "code",
      "execution_count": 328,
      "metadata": {
        "id": "qREc7V7EOqLd",
        "colab": {
          "base_uri": "https://localhost:8080/"
        },
        "outputId": "052709fa-bd4b-4ea3-f08b-a00d4cc87220"
      },
      "outputs": [
        {
          "output_type": "execute_result",
          "data": {
            "text/plain": [
              "['a', 'b', 'c']"
            ]
          },
          "metadata": {},
          "execution_count": 328
        }
      ],
      "source": [
        "new_list[3]"
      ]
    },
    {
      "cell_type": "code",
      "execution_count": 329,
      "metadata": {
        "id": "yh76pQ4JOqLd",
        "colab": {
          "base_uri": "https://localhost:8080/",
          "height": 35
        },
        "outputId": "8c095201-8f8f-4c33-9467-282cb1125f30"
      },
      "outputs": [
        {
          "output_type": "execute_result",
          "data": {
            "text/plain": [
              "'a'"
            ],
            "application/vnd.google.colaboratory.intrinsic+json": {
              "type": "string"
            }
          },
          "metadata": {},
          "execution_count": 329
        }
      ],
      "source": [
        "# Observa el slicing con dos valores\n",
        "\n",
        "new_list[3][0]"
      ]
    },
    {
      "cell_type": "markdown",
      "metadata": {
        "id": "xxxc66y1OqLj"
      },
      "source": [
        "## <font color='blue'>**Copiando listas**</font>"
      ]
    },
    {
      "cell_type": "markdown",
      "metadata": {
        "id": "mh26_zviOqLj"
      },
      "source": [
        "Ten en cuenta que cuando copias una lista no haces una copia *profunda*."
      ]
    },
    {
      "cell_type": "code",
      "execution_count": 330,
      "metadata": {
        "id": "AcKH7z3tOqLj",
        "colab": {
          "base_uri": "https://localhost:8080/"
        },
        "outputId": "fe27e6c7-9a01-4195-ac17-8c73dea431c5"
      },
      "outputs": [
        {
          "output_type": "stream",
          "name": "stdout",
          "text": [
            "[1, 2, 3]\n"
          ]
        }
      ],
      "source": [
        "l = [1, 2, 3]\n",
        "n = l\n",
        "print(n)"
      ]
    },
    {
      "cell_type": "code",
      "execution_count": 331,
      "metadata": {
        "id": "k6QRqtL3OqLj",
        "colab": {
          "base_uri": "https://localhost:8080/"
        },
        "outputId": "e2d3124d-8998-4159-9714-108de8e82d2a"
      },
      "outputs": [
        {
          "output_type": "stream",
          "name": "stdout",
          "text": [
            "[1, 2, 3, 4]\n"
          ]
        }
      ],
      "source": [
        "# Modificamos la lista l\n",
        "\n",
        "l.append(4)\n",
        "print(l)"
      ]
    },
    {
      "cell_type": "code",
      "execution_count": 332,
      "metadata": {
        "id": "MDpfFcm3OqLk",
        "colab": {
          "base_uri": "https://localhost:8080/"
        },
        "outputId": "e975c44c-181f-467b-8bdb-b7989aaf240f"
      },
      "outputs": [
        {
          "output_type": "stream",
          "name": "stdout",
          "text": [
            "[1, 2, 3, 4]\n"
          ]
        }
      ],
      "source": [
        "# Miren lo que ocurre con la lista n\n",
        "\n",
        "print(n)"
      ]
    },
    {
      "cell_type": "markdown",
      "metadata": {
        "id": "_8VeH72pOqLV"
      },
      "source": [
        "## <font color='green'>Actividad 1:</font>\n",
        "### Crea tu propia lista con 5 elementos del mismo tipo\n",
        "Puede ser cualquier tipo de dato de los ya aprendidos"
      ]
    },
    {
      "cell_type": "code",
      "execution_count": 332,
      "metadata": {
        "id": "70uIdFr6OqLV"
      },
      "outputs": [],
      "source": []
    },
    {
      "cell_type": "code",
      "source": [],
      "metadata": {
        "id": "Ns5Ua96I3JWB"
      },
      "execution_count": 332,
      "outputs": []
    },
    {
      "cell_type": "code",
      "source": [],
      "metadata": {
        "id": "1yj_kkbL3BSX"
      },
      "execution_count": 332,
      "outputs": []
    },
    {
      "cell_type": "markdown",
      "metadata": {
        "id": "ovdJmIT_2HW6"
      },
      "source": [
        "# **Introducción a Python**\n",
        "# FP06. Diccionarios en Python (Python Dictionaries)"
      ]
    },
    {
      "cell_type": "markdown",
      "metadata": {
        "id": "jsUkocZ22HW8"
      },
      "source": [
        "¡Hola, Hackers!\n",
        "\n",
        "Hasta ahora solo hemos visto cómo almacenar tipos de datos en secuencias tales como almacenar caracteres en una cadena (string) o elementos en una lista (list). Pero, ¿y si queremos almacenar información de otra manera? La mayoría de los lenguajes de programación tienen lo que se llama una *tabla hash*, que es una combinación de elementos clave-valor. Bajo el capó, este tipo de estructuras permite tiempos de búsqueda de objetos más rápidos cuando las estructuras tienen muchos elementos.\n",
        "\n",
        "La elección entre estructuras como una lista o un diccionario a menudo depende de la situación específica. A medida que te conviertas en un programador más sólido, elegir el formato de almacenamiento adecuado será más intuitivo.\n",
        "\n",
        "¡Cubramos los conceptos básicos de los diccionarios!"
      ]
    },
    {
      "cell_type": "markdown",
      "metadata": {
        "id": "TnkwzsUD2HW8"
      },
      "source": [
        "## <font color='blue'>**Creando un  Diccionario (Dictionary)**</font>"
      ]
    },
    {
      "cell_type": "code",
      "metadata": {
        "id": "vrBvE8622HW9"
      },
      "source": [
        "# Para crearlos se utilizan corchetes curvos\n",
        "\n",
        "d = {}"
      ],
      "execution_count": 333,
      "outputs": []
    },
    {
      "cell_type": "code",
      "metadata": {
        "id": "BAosWqkO2HW9",
        "colab": {
          "base_uri": "https://localhost:8080/"
        },
        "outputId": "75b50828-a9d1-4a12-8703-66dbb24d97c4"
      },
      "source": [
        "# Verifiquemos con type()\n",
        "\n",
        "type(d)"
      ],
      "execution_count": 334,
      "outputs": [
        {
          "output_type": "execute_result",
          "data": {
            "text/plain": [
              "dict"
            ]
          },
          "metadata": {},
          "execution_count": 334
        }
      ]
    },
    {
      "cell_type": "code",
      "metadata": {
        "id": "Cf8oDgGW2HW-"
      },
      "source": [
        "# Construimos un diccionario con {} y utilizamos dos puntos \":\" para indicar una clave y un valor.\n",
        "\n",
        "d = {'clave1': 'valor1', 'clave2': 'valor2'}"
      ],
      "execution_count": 335,
      "outputs": []
    },
    {
      "cell_type": "code",
      "metadata": {
        "id": "qLu-tEwb2HW_",
        "colab": {
          "base_uri": "https://localhost:8080/"
        },
        "outputId": "ce3e9595-41b1-4b6c-ecb4-20d11ed6cb66"
      },
      "source": [
        "# Veamos\n",
        "d"
      ],
      "execution_count": 336,
      "outputs": [
        {
          "output_type": "execute_result",
          "data": {
            "text/plain": [
              "{'clave1': 'valor1', 'clave2': 'valor2'}"
            ]
          },
          "metadata": {},
          "execution_count": 336
        }
      ]
    },
    {
      "cell_type": "code",
      "metadata": {
        "id": "RaKje8pV2HW_",
        "colab": {
          "base_uri": "https://localhost:8080/",
          "height": 35
        },
        "outputId": "317b1c09-78f4-4dff-cebb-ac60d56bbc6d"
      },
      "source": [
        "# Podemos extraer valores a través de su llave\n",
        "\n",
        "d['clave1']"
      ],
      "execution_count": 337,
      "outputs": [
        {
          "output_type": "execute_result",
          "data": {
            "text/plain": [
              "'valor1'"
            ],
            "application/vnd.google.colaboratory.intrinsic+json": {
              "type": "string"
            }
          },
          "metadata": {},
          "execution_count": 337
        }
      ]
    },
    {
      "cell_type": "code",
      "metadata": {
        "id": "_Ee9ZEbb2HXA",
        "colab": {
          "base_uri": "https://localhost:8080/",
          "height": 35
        },
        "outputId": "7eef774e-f949-48d8-ae70-f62f9f7fbf1e"
      },
      "source": [
        "# Fíjate en la sintaxis y en el uso de las comillas simples y dobles\n",
        "\n",
        "f\"{d['clave1']}\""
      ],
      "execution_count": 338,
      "outputs": [
        {
          "output_type": "execute_result",
          "data": {
            "text/plain": [
              "'valor1'"
            ],
            "application/vnd.google.colaboratory.intrinsic+json": {
              "type": "string"
            }
          },
          "metadata": {},
          "execution_count": 338
        }
      ]
    },
    {
      "cell_type": "code",
      "metadata": {
        "id": "2fwRqviB2HW_",
        "colab": {
          "base_uri": "https://localhost:8080/",
          "height": 35
        },
        "outputId": "8c650068-b5e9-43cc-dbec-3f86d6ba750e"
      },
      "source": [
        "d['clave2']"
      ],
      "execution_count": 339,
      "outputs": [
        {
          "output_type": "execute_result",
          "data": {
            "text/plain": [
              "'valor2'"
            ],
            "application/vnd.google.colaboratory.intrinsic+json": {
              "type": "string"
            }
          },
          "metadata": {},
          "execution_count": 339
        }
      ]
    },
    {
      "cell_type": "code",
      "metadata": {
        "id": "6CebphMB2HW_"
      },
      "source": [
        "# Otro diccionario, como los de la vida real !!\n",
        "# Fíjate como vamos usando el espacio y escribimos los pares de llave-valor hacia abajo.\n",
        "# Esto es opcional pero es muy elegante y legible.\n",
        "\n",
        "animals = {'elefante': 'loxodonta africana',\n",
        "           'lobo': 'canis lupus',\n",
        "           'tigre': 'panthera tigris',\n",
        "           'ratón': 'mus musculus'\n",
        "          }"
      ],
      "execution_count": 340,
      "outputs": []
    },
    {
      "cell_type": "markdown",
      "metadata": {
        "id": "_BARWuO42HXB"
      },
      "source": [
        "## Añadiendo nuevos pares de *Key-Value*"
      ]
    },
    {
      "cell_type": "code",
      "metadata": {
        "id": "R1gYcC3R2HXB"
      },
      "source": [
        "d['new_key'] = 'new item'"
      ],
      "execution_count": 341,
      "outputs": []
    },
    {
      "cell_type": "code",
      "metadata": {
        "id": "PVqWKjhI2HXB",
        "colab": {
          "base_uri": "https://localhost:8080/"
        },
        "outputId": "4afdd6ee-8dc7-440e-f10a-c2c382cb1672"
      },
      "source": [
        "d"
      ],
      "execution_count": 342,
      "outputs": [
        {
          "output_type": "execute_result",
          "data": {
            "text/plain": [
              "{'clave1': 'valor1', 'clave2': 'valor2', 'new_key': 'new item'}"
            ]
          },
          "metadata": {},
          "execution_count": 342
        }
      ]
    },
    {
      "cell_type": "markdown",
      "metadata": {
        "id": "FrHTyV_g2HXC"
      },
      "source": [
        "<div class=\"alert alert-block alert-warning\">\n",
        "<b>TIP:</b> Los diccionarios no son estructuras ordenadas por defecto. Preservan el orden en el cual se ingresaron los elementos (a partir de la versión 3.7 de Python), pero no tienen un orden lógico cómo podríamos esperar (e.g.; por abecedario, menor a mayor, etc.). Esto puede no estar claro al principio con diccionarios más pequeños, pero a medida que los diccionarios se hacen más grandes, no mantendrán el orden, lo que significa que no podemos asumir que estarán ordenados de forma lógica.\n",
        "</div>"
      ]
    },
    {
      "cell_type": "code",
      "metadata": {
        "id": "VA1XGMVw2HXC",
        "colab": {
          "base_uri": "https://localhost:8080/",
          "height": 35
        },
        "outputId": "14fd7c71-205e-4438-e3e7-d906022075a9"
      },
      "source": [
        "f\"{animals}\""
      ],
      "execution_count": 343,
      "outputs": [
        {
          "output_type": "execute_result",
          "data": {
            "text/plain": [
              "\"{'elefante': 'loxodonta africana', 'lobo': 'canis lupus', 'tigre': 'panthera tigris', 'ratón': 'mus musculus'}\""
            ],
            "application/vnd.google.colaboratory.intrinsic+json": {
              "type": "string"
            }
          },
          "metadata": {},
          "execution_count": 343
        }
      ]
    },
    {
      "cell_type": "code",
      "metadata": {
        "scrolled": true,
        "tags": [],
        "id": "VFxUaXA42HXC",
        "colab": {
          "base_uri": "https://localhost:8080/"
        },
        "outputId": "b787d015-02da-40a8-df01-63b3c56e96db"
      },
      "source": [
        "# Dale un vistazo a los métodos propios de los diccionarios\n",
        "\n",
        "help(animals)"
      ],
      "execution_count": 344,
      "outputs": [
        {
          "output_type": "stream",
          "name": "stdout",
          "text": [
            "Help on dict object:\n",
            "\n",
            "class dict(object)\n",
            " |  dict() -> new empty dictionary\n",
            " |  dict(mapping) -> new dictionary initialized from a mapping object's\n",
            " |      (key, value) pairs\n",
            " |  dict(iterable) -> new dictionary initialized as if via:\n",
            " |      d = {}\n",
            " |      for k, v in iterable:\n",
            " |          d[k] = v\n",
            " |  dict(**kwargs) -> new dictionary initialized with the name=value pairs\n",
            " |      in the keyword argument list.  For example:  dict(one=1, two=2)\n",
            " |  \n",
            " |  Built-in subclasses:\n",
            " |      StgDict\n",
            " |  \n",
            " |  Methods defined here:\n",
            " |  \n",
            " |  __contains__(self, key, /)\n",
            " |      True if the dictionary has the specified key, else False.\n",
            " |  \n",
            " |  __delitem__(self, key, /)\n",
            " |      Delete self[key].\n",
            " |  \n",
            " |  __eq__(self, value, /)\n",
            " |      Return self==value.\n",
            " |  \n",
            " |  __ge__(self, value, /)\n",
            " |      Return self>=value.\n",
            " |  \n",
            " |  __getattribute__(self, name, /)\n",
            " |      Return getattr(self, name).\n",
            " |  \n",
            " |  __getitem__(...)\n",
            " |      x.__getitem__(y) <==> x[y]\n",
            " |  \n",
            " |  __gt__(self, value, /)\n",
            " |      Return self>value.\n",
            " |  \n",
            " |  __init__(self, /, *args, **kwargs)\n",
            " |      Initialize self.  See help(type(self)) for accurate signature.\n",
            " |  \n",
            " |  __ior__(self, value, /)\n",
            " |      Return self|=value.\n",
            " |  \n",
            " |  __iter__(self, /)\n",
            " |      Implement iter(self).\n",
            " |  \n",
            " |  __le__(self, value, /)\n",
            " |      Return self<=value.\n",
            " |  \n",
            " |  __len__(self, /)\n",
            " |      Return len(self).\n",
            " |  \n",
            " |  __lt__(self, value, /)\n",
            " |      Return self<value.\n",
            " |  \n",
            " |  __ne__(self, value, /)\n",
            " |      Return self!=value.\n",
            " |  \n",
            " |  __or__(self, value, /)\n",
            " |      Return self|value.\n",
            " |  \n",
            " |  __repr__(self, /)\n",
            " |      Return repr(self).\n",
            " |  \n",
            " |  __reversed__(self, /)\n",
            " |      Return a reverse iterator over the dict keys.\n",
            " |  \n",
            " |  __ror__(self, value, /)\n",
            " |      Return value|self.\n",
            " |  \n",
            " |  __setitem__(self, key, value, /)\n",
            " |      Set self[key] to value.\n",
            " |  \n",
            " |  __sizeof__(...)\n",
            " |      D.__sizeof__() -> size of D in memory, in bytes\n",
            " |  \n",
            " |  clear(...)\n",
            " |      D.clear() -> None.  Remove all items from D.\n",
            " |  \n",
            " |  copy(...)\n",
            " |      D.copy() -> a shallow copy of D\n",
            " |  \n",
            " |  get(self, key, default=None, /)\n",
            " |      Return the value for key if key is in the dictionary, else default.\n",
            " |  \n",
            " |  items(...)\n",
            " |      D.items() -> a set-like object providing a view on D's items\n",
            " |  \n",
            " |  keys(...)\n",
            " |      D.keys() -> a set-like object providing a view on D's keys\n",
            " |  \n",
            " |  pop(...)\n",
            " |      D.pop(k[,d]) -> v, remove specified key and return the corresponding value.\n",
            " |      \n",
            " |      If the key is not found, return the default if given; otherwise,\n",
            " |      raise a KeyError.\n",
            " |  \n",
            " |  popitem(self, /)\n",
            " |      Remove and return a (key, value) pair as a 2-tuple.\n",
            " |      \n",
            " |      Pairs are returned in LIFO (last-in, first-out) order.\n",
            " |      Raises KeyError if the dict is empty.\n",
            " |  \n",
            " |  setdefault(self, key, default=None, /)\n",
            " |      Insert key with a value of default if key is not in the dictionary.\n",
            " |      \n",
            " |      Return the value for key if key is in the dictionary, else default.\n",
            " |  \n",
            " |  update(...)\n",
            " |      D.update([E, ]**F) -> None.  Update D from dict/iterable E and F.\n",
            " |      If E is present and has a .keys() method, then does:  for k in E: D[k] = E[k]\n",
            " |      If E is present and lacks a .keys() method, then does:  for k, v in E: D[k] = v\n",
            " |      In either case, this is followed by: for k in F:  D[k] = F[k]\n",
            " |  \n",
            " |  values(...)\n",
            " |      D.values() -> an object providing a view on D's values\n",
            " |  \n",
            " |  ----------------------------------------------------------------------\n",
            " |  Class methods defined here:\n",
            " |  \n",
            " |  __class_getitem__(...)\n",
            " |      See PEP 585\n",
            " |  \n",
            " |  fromkeys(iterable, value=None, /)\n",
            " |      Create a new dictionary with keys from iterable and values set to value.\n",
            " |  \n",
            " |  ----------------------------------------------------------------------\n",
            " |  Static methods defined here:\n",
            " |  \n",
            " |  __new__(*args, **kwargs)\n",
            " |      Create and return a new object.  See help(type) for accurate signature.\n",
            " |  \n",
            " |  ----------------------------------------------------------------------\n",
            " |  Data and other attributes defined here:\n",
            " |  \n",
            " |  __hash__ = None\n",
            "\n"
          ]
        }
      ]
    },
    {
      "cell_type": "markdown",
      "metadata": {
        "id": "NHXakrBp2HXD"
      },
      "source": [
        "## <font color='blue'>**Estructuras anidadas dentro de los diccionarios**</font>\n",
        "\n",
        "Los diccionarios son muy flexibles en los tipos de datos que pueden contener. Ellos pueden contener números, strings, listas e, incluso, diccionarios."
      ]
    },
    {
      "cell_type": "code",
      "metadata": {
        "id": "nyiVZKUz2HXD"
      },
      "source": [
        "d = {'k1': 10, 'k2': 'string', 'k3': [1, 2, 3], 'k4': {'inside_key': 100}}"
      ],
      "execution_count": 345,
      "outputs": []
    },
    {
      "cell_type": "code",
      "metadata": {
        "id": "99pnfGDA2HXD",
        "colab": {
          "base_uri": "https://localhost:8080/"
        },
        "outputId": "8fb76319-98fb-42ba-ab89-4085c30b8ce5"
      },
      "source": [
        "d"
      ],
      "execution_count": 346,
      "outputs": [
        {
          "output_type": "execute_result",
          "data": {
            "text/plain": [
              "{'k1': 10, 'k2': 'string', 'k3': [1, 2, 3], 'k4': {'inside_key': 100}}"
            ]
          },
          "metadata": {},
          "execution_count": 346
        }
      ]
    },
    {
      "cell_type": "code",
      "metadata": {
        "id": "6gboe00J2HXD",
        "colab": {
          "base_uri": "https://localhost:8080/"
        },
        "outputId": "12f1b944-e89c-4cbe-ddc8-9c54cf18e88a"
      },
      "source": [
        "d['k1']"
      ],
      "execution_count": 347,
      "outputs": [
        {
          "output_type": "execute_result",
          "data": {
            "text/plain": [
              "10"
            ]
          },
          "metadata": {},
          "execution_count": 347
        }
      ]
    },
    {
      "cell_type": "code",
      "metadata": {
        "id": "sSOj0g7T2HXD",
        "colab": {
          "base_uri": "https://localhost:8080/",
          "height": 35
        },
        "outputId": "6490eabd-30f7-4d3f-da98-00a142a7eaf4"
      },
      "source": [
        "d['k2']"
      ],
      "execution_count": 348,
      "outputs": [
        {
          "output_type": "execute_result",
          "data": {
            "text/plain": [
              "'string'"
            ],
            "application/vnd.google.colaboratory.intrinsic+json": {
              "type": "string"
            }
          },
          "metadata": {},
          "execution_count": 348
        }
      ]
    },
    {
      "cell_type": "code",
      "metadata": {
        "id": "3Yb8BaMP2HXE",
        "colab": {
          "base_uri": "https://localhost:8080/"
        },
        "outputId": "97e8df56-3751-42d5-f967-1c65ad4d3d0e"
      },
      "source": [
        "d['k3']"
      ],
      "execution_count": 349,
      "outputs": [
        {
          "output_type": "execute_result",
          "data": {
            "text/plain": [
              "[1, 2, 3]"
            ]
          },
          "metadata": {},
          "execution_count": 349
        }
      ]
    },
    {
      "cell_type": "code",
      "metadata": {
        "id": "BJBuDKwt2HXE",
        "colab": {
          "base_uri": "https://localhost:8080/"
        },
        "outputId": "5eca55b5-16bb-4446-bd91-52eeb91735c2"
      },
      "source": [
        "d['k3'][0]"
      ],
      "execution_count": 350,
      "outputs": [
        {
          "output_type": "execute_result",
          "data": {
            "text/plain": [
              "1"
            ]
          },
          "metadata": {},
          "execution_count": 350
        }
      ]
    },
    {
      "cell_type": "code",
      "metadata": {
        "id": "Vg9E8V-y2HXE",
        "colab": {
          "base_uri": "https://localhost:8080/"
        },
        "outputId": "e6b29446-7def-44f7-8e55-bfe603fd33e5"
      },
      "source": [
        "d['k4']"
      ],
      "execution_count": 351,
      "outputs": [
        {
          "output_type": "execute_result",
          "data": {
            "text/plain": [
              "{'inside_key': 100}"
            ]
          },
          "metadata": {},
          "execution_count": 351
        }
      ]
    },
    {
      "cell_type": "code",
      "metadata": {
        "id": "h9loaccc2HXE",
        "colab": {
          "base_uri": "https://localhost:8080/"
        },
        "outputId": "b794af1c-d754-464c-d2bc-75ac44ad85cd"
      },
      "source": [
        "# Fíjate cómo obtenemos el valor de la llave del último elemento del diccionario d\n",
        "\n",
        "d['k4']['inside_key']"
      ],
      "execution_count": 352,
      "outputs": [
        {
          "output_type": "execute_result",
          "data": {
            "text/plain": [
              "100"
            ]
          },
          "metadata": {},
          "execution_count": 352
        }
      ]
    },
    {
      "cell_type": "markdown",
      "metadata": {
        "id": "IRMjmc8s2HXF"
      },
      "source": [
        "Si buscas una llave inexistente, te dará un error\n",
        "\n"
      ]
    },
    {
      "cell_type": "code",
      "metadata": {
        "id": "OqHrazbU2HXF",
        "colab": {
          "base_uri": "https://localhost:8080/",
          "height": 159
        },
        "outputId": "7104f853-c8bc-41b4-d839-f51b13a6312d"
      },
      "source": [
        "# Esta celda arrojará un error\n",
        "d['oops']"
      ],
      "execution_count": 353,
      "outputs": [
        {
          "output_type": "error",
          "ename": "KeyError",
          "evalue": "'oops'",
          "traceback": [
            "\u001b[0;31m---------------------------------------------------------------------------\u001b[0m",
            "\u001b[0;31mKeyError\u001b[0m                                  Traceback (most recent call last)",
            "\u001b[0;32m<ipython-input-353-538537724>\u001b[0m in \u001b[0;36m<cell line: 0>\u001b[0;34m()\u001b[0m\n\u001b[1;32m      1\u001b[0m \u001b[0;31m# Esta celda arrojará un error\u001b[0m\u001b[0;34m\u001b[0m\u001b[0;34m\u001b[0m\u001b[0m\n\u001b[0;32m----> 2\u001b[0;31m \u001b[0md\u001b[0m\u001b[0;34m[\u001b[0m\u001b[0;34m'oops'\u001b[0m\u001b[0;34m]\u001b[0m\u001b[0;34m\u001b[0m\u001b[0;34m\u001b[0m\u001b[0m\n\u001b[0m",
            "\u001b[0;31mKeyError\u001b[0m: 'oops'"
          ]
        }
      ]
    },
    {
      "cell_type": "markdown",
      "metadata": {
        "id": "E6Ab4kcP2HXH"
      },
      "source": [
        "## <font color='blue'>**Métodos de diccionarios**</font>"
      ]
    },
    {
      "cell_type": "markdown",
      "metadata": {
        "id": "dH5iyxSN2HXG"
      },
      "source": [
        "Utiliza los diccionarios para cuando necesites estructuras veloces pero no necesariamente ordenadas.\n",
        "\n",
        "Por ejemplo, la siguiente información es perfecta para almacenarla en un diccionario:\n",
        "\n",
        "[Nombres claves de familiares de presidentes](https://en.wikipedia.org/wiki/Secret_Service_code_name)"
      ]
    },
    {
      "cell_type": "code",
      "metadata": {
        "id": "uLPeAEru2HXG"
      },
      "source": [
        "code_names = {\"Trump\":'Mogul',\n",
        "              \"Obama\":'Renegade',\n",
        "              \"Bush\":'Trailblazer',\n",
        "              \"Reagan\":\"Rawhide\",\n",
        "              \"Ford\":\"Passkey\"\n",
        "             }"
      ],
      "execution_count": null,
      "outputs": []
    },
    {
      "cell_type": "code",
      "metadata": {
        "id": "KDY8GFBk2HXG"
      },
      "source": [
        "code_names[\"Ford\"]"
      ],
      "execution_count": null,
      "outputs": []
    },
    {
      "cell_type": "markdown",
      "metadata": {
        "id": "FAHj6Ky32HXH"
      },
      "source": [
        "Otro ejemplo:\n",
        "\n",
        "[Lista de países y su población](https://en.wikipedia.org/wiki/List_of_countries_by_population_(United_Nations)"
      ]
    },
    {
      "cell_type": "code",
      "metadata": {
        "id": "hrE7PIZG2HXH"
      },
      "source": [
        "pop_in_mil = {\"Chile\":18,\n",
        "              \"USA\":323,\n",
        "              \"Germany\": 83,\n",
        "              \"India\": 1324\n",
        "             }"
      ],
      "execution_count": null,
      "outputs": []
    },
    {
      "cell_type": "code",
      "metadata": {
        "id": "ijvduQbb2HXH"
      },
      "source": [
        "pop_in_mil[\"Chile\"]"
      ],
      "execution_count": null,
      "outputs": []
    },
    {
      "cell_type": "code",
      "metadata": {
        "id": "8Nb8I6zv2HXI"
      },
      "source": [
        "# Llaves\n",
        "code_names.keys()"
      ],
      "execution_count": null,
      "outputs": []
    },
    {
      "cell_type": "code",
      "metadata": {
        "id": "LaWmQCFW2HXI"
      },
      "source": [
        "# Valores\n",
        "code_names.values()"
      ],
      "execution_count": null,
      "outputs": []
    },
    {
      "cell_type": "code",
      "metadata": {
        "id": "F3ZaBv4H2HXI"
      },
      "source": [
        "# Pares de llaves y valores\n",
        "code_names.items()"
      ],
      "execution_count": null,
      "outputs": []
    },
    {
      "cell_type": "markdown",
      "metadata": {
        "id": "1qDbzzYk2HXJ"
      },
      "source": [
        "Gran trabajo Hackers, recuerden que los diccionarios (y las listas) son una de las estructuras de datos más útiles en cualquier lenguaje de programación y también en Python."
      ]
    },
    {
      "cell_type": "code",
      "source": [],
      "metadata": {
        "id": "FKZwMUrygVfV"
      },
      "execution_count": null,
      "outputs": []
    },
    {
      "cell_type": "markdown",
      "metadata": {
        "id": "wokqh2w_dTI5"
      },
      "source": [
        "# **Introducción a Python**\n",
        "# FP12. Control de flujo (Contro Flow)\n",
        "## if , elif , y else statements"
      ]
    },
    {
      "cell_type": "markdown",
      "metadata": {
        "id": "QkGx3Xx_dTI9"
      },
      "source": [
        "¡Hola, Hackers!\n",
        "\n",
        "A veces necesitamos tomar decisiones en nuestro código. Necesitamos realizar algunas acciones u otras distintas dependiendo de si se cumplen o no ciertas condiciones. Para ello usamos las declaraciones `if`, `elif` y `else` para controlar estos casos. Veamos cómo funcionan !!!"
      ]
    },
    {
      "cell_type": "markdown",
      "metadata": {
        "id": "Mo4CpFr5dTI9"
      },
      "source": [
        "## <font color='blue'>**La instrucción `if`**</font>\n",
        "La forma más simple de la sentencia `if` es la siguiente:\n",
        "```Python\n",
        "    if some_condition:\n",
        "        # Do Something\n",
        "```"
      ]
    },
    {
      "cell_type": "code",
      "execution_count": null,
      "metadata": {
        "id": "WKPaJ8KodTI-"
      },
      "outputs": [],
      "source": [
        "if 1 < 2:\n",
        "    print('Uno es menor que dos')"
      ]
    },
    {
      "cell_type": "markdown",
      "metadata": {
        "id": "wQrmemVrdTI_"
      },
      "source": [
        "**Pyhtonista:** El operador lógico siempre lleva un espacio antes y después."
      ]
    },
    {
      "cell_type": "code",
      "execution_count": null,
      "metadata": {
        "id": "YUlpiXzqdTI_"
      },
      "outputs": [],
      "source": [
        "if 1 > 2:\n",
        "    print(\"Uno es más grande que dos?\")"
      ]
    },
    {
      "cell_type": "markdown",
      "metadata": {
        "id": "xkT_LshWdTJA"
      },
      "source": [
        "Observa lo que sucede, el bloque de código sangrado solo se ejecuta cuando la condición `if` es verdadera (`True`)."
      ]
    },
    {
      "cell_type": "code",
      "execution_count": null,
      "metadata": {
        "id": "iS3XZnoVdTJA"
      },
      "outputs": [],
      "source": [
        "# Podemos usar una variable booleana\n",
        "\n",
        "if True:\n",
        "    print(\"La sentencia 'if' se evaluó afirmativamente\")"
      ]
    },
    {
      "cell_type": "markdown",
      "metadata": {
        "id": "yNDVTw-QdTJB"
      },
      "source": [
        "**ATENCION con la indentación**.\n",
        "\n",
        "\n",
        "La **indentación** (sangría del código) le permite a Python saber cuáles líneas de código pertenecen a un mismo bloque. Unas celdas más abajo veremos reglas detalladas de cómo hacerlo."
      ]
    },
    {
      "cell_type": "markdown",
      "metadata": {
        "id": "08frzTUvdTJB"
      },
      "source": [
        "## <font color='blue'>**La instrucción `if` `else`**</font>\n",
        "Ahora agreguemos una acción alternativa en caso de que `if` no sea `True` usando la instrucción `else`.\n",
        "\n",
        "Observa el formato y cómo se alinean los bloques de código con **indentación**, ¡esto es crucial en Python!"
      ]
    },
    {
      "cell_type": "code",
      "execution_count": null,
      "metadata": {
        "id": "xiHdmOsRdTJC"
      },
      "outputs": [],
      "source": [
        "if 1 == 1:\n",
        "    print(\"Uno es igual a uno, obvio !!\")\n",
        "else:\n",
        "    print(\"La comparación no es correcta\")"
      ]
    },
    {
      "cell_type": "code",
      "execution_count": null,
      "metadata": {
        "id": "gmUQOlgUdTJC"
      },
      "outputs": [],
      "source": [
        "if 1 == 2:\n",
        "    print(\"Uno es igual a uno, obvio !!\")\n",
        "else:\n",
        "    print(\"La comparación no es Verdadera (True)\")"
      ]
    },
    {
      "cell_type": "markdown",
      "metadata": {
        "id": "2AdoSuqudTJC"
      },
      "source": [
        "## <font color='blue'>**La instrucción `if`, `elif`, `else`**</font>\n",
        "\n",
        "Ahora imaginemos que tenemos varias condiciones para verificar antes de la declaración `else` final, aquí es donde podemos usar la palabra clave `elif` para verificar tantas condiciones individuales como sea necesario:"
      ]
    },
    {
      "cell_type": "code",
      "execution_count": null,
      "metadata": {
        "id": "mPnGX3cCdTJD"
      },
      "outputs": [],
      "source": [
        "if 2 == 0:\n",
        "    print('La primera comparación es Verdadera (True)')\n",
        "elif 2 == 1:\n",
        "    print(\"La segunda comparación es Verdadera (True)\")\n",
        "elif 2 == 2:\n",
        "    print(\"La tercera comparación es Verdadera (True)\")\n",
        "else:\n",
        "    print(\"Ninguna de las comparaciones anteriores es Verdadera (True)\")"
      ]
    },
    {
      "cell_type": "code",
      "execution_count": null,
      "metadata": {
        "id": "slzUF9e9dTJD"
      },
      "outputs": [],
      "source": [
        "if 2 == 0:\n",
        "    print('La primera comparación es Verdadera (True)')\n",
        "elif 2 == 1:\n",
        "    print(\"La segunda comparación es Verdadera (True)\")\n",
        "elif 2 == 100:\n",
        "    print(\"La tercera comparación es Verdadera (True)\")\n",
        "else:\n",
        "    print(\"Ninguna de las comparaciones anteriores es Verdadera (True)\")"
      ]
    },
    {
      "cell_type": "markdown",
      "metadata": {
        "id": "UgS3N9WsdTJD"
      },
      "source": [
        "Veamos qué sucede si tuviéramos múltiples condiciones `True`:"
      ]
    },
    {
      "cell_type": "code",
      "execution_count": null,
      "metadata": {
        "id": "goEE74kmdTJE"
      },
      "outputs": [],
      "source": [
        "if 2 == 2:\n",
        "    print('La primera comparación es Verdadera (True)')\n",
        "elif 2 == 2:\n",
        "    print(\"La segunda comparación es Verdadera (True)\")\n",
        "elif 2 == 2:\n",
        "    print(\"La tercera comparación es Verdadera (True)\")\n",
        "else:\n",
        "    print(\"Ninguna de las comparaciones anteriores es Verdadera (True)\")"
      ]
    },
    {
      "cell_type": "markdown",
      "metadata": {
        "id": "rRsQb16udTJE"
      },
      "source": [
        "Observa cómo solo se ejecutará el bloque de código de la primera condición verdadera, ¡ten esto en cuenta al escribir sus scripts!"
      ]
    },
    {
      "cell_type": "markdown",
      "metadata": {
        "id": "PfGLXFyHdTJE"
      },
      "source": [
        "Es importante tener una buena comprensión de cómo funciona la **indentación** en Python para mantener la estructura y el orden de su código. ¡Tocaremos este tema nuevamente cuando comencemos a construir funciones!"
      ]
    },
    {
      "cell_type": "markdown",
      "metadata": {
        "id": "CaeVnu5mdTJE"
      },
      "source": [
        "## <font color='blue'>**Veamos un poco más acerca de la indentación**</font>\n",
        "### Reglas\n",
        "1. Cada nivel de indentación utiliza 4 espacios\n",
        "2. Aún cuando funcionan, se recomienda NO usar tabs para las indentaciones\n",
        "3. NUNCA combines tabs y espacios para indentar código"
      ]
    },
    {
      "cell_type": "code",
      "execution_count": null,
      "metadata": {
        "id": "KtmNheOodTJF"
      },
      "outputs": [],
      "source": [
        "if True:\n",
        "    print(\"Esta impresión está dentro del bloque 'if'\")\n",
        "    print(\"Esta impresión está dentro del bloque 'if'\")\n",
        "    print(\"Esta impresión está dentro del bloque 'if'\")\n",
        "print(\"Esta impresión está fuera del bloque 'if'\")"
      ]
    },
    {
      "cell_type": "code",
      "execution_count": null,
      "metadata": {
        "id": "-68bbq7WdTJF"
      },
      "outputs": [],
      "source": [
        "# Veamos que ocurre cuando cambiamos la condición a False\n",
        "\n",
        "if False:\n",
        "    print(\"Esta impresión está dentro del bloque 'if'\")\n",
        "    print(\"Esta impresión está dentro del bloque 'if'\")\n",
        "    print(\"Esta impresión está dentro del bloque 'if'\")\n",
        "print(\"Esta impresión está fuera del bloque 'if'\")"
      ]
    },
    {
      "cell_type": "code",
      "execution_count": null,
      "metadata": {
        "id": "vhQfWr0IdTJF"
      },
      "outputs": [],
      "source": [
        "# En este caso hemos introducido una indentación de tres espacios.\n",
        "# Esto genererá un error del tipo *IndentationEror*\n",
        "\n",
        "if False:\n",
        "   print(\"Esta impresión está dentro del bloque 'if'\")\n",
        "    print(\"Esta impresión está dentro del bloque 'if'\")\n",
        "    print(\"Esta impresión está dentro del bloque 'if'\")\n",
        "print(\"Esta impresión está fuera del bloque 'if'\")"
      ]
    },
    {
      "cell_type": "markdown",
      "metadata": {
        "id": "f55-b8I7dTJG"
      },
      "source": [
        "### Agreguemos todo en un ejemplo final"
      ]
    },
    {
      "cell_type": "code",
      "execution_count": null,
      "metadata": {
        "id": "upDamKFhdTJG"
      },
      "outputs": [],
      "source": [
        "agent_code = 231912\n",
        "access = False"
      ]
    },
    {
      "cell_type": "code",
      "execution_count": null,
      "metadata": {
        "id": "yZCMKijVdTJG"
      },
      "outputs": [],
      "source": [
        "if agent_code == 12345:\n",
        "    print('Código reinicializado')\n",
        "    print(\"Comuníquese con el supervisor\")\n",
        "elif agent_code == 231912:\n",
        "    print('Bienvenido agente')\n",
        "    print('Inicializando su aceso a condición: Verdadera')\n",
        "    access = True\n",
        "else:\n",
        "    print(\"Código erréneo\")"
      ]
    },
    {
      "cell_type": "code",
      "execution_count": null,
      "metadata": {
        "id": "ME9i8WCydTJG"
      },
      "outputs": [],
      "source": [
        "# Ahora podemos iniciar otro conjunto de lógica de flujo de control aquí.\n",
        "\n",
        "if access == True:\n",
        "    print('Acceso concedido')\n",
        "else:\n",
        "    print('Access denegado')"
      ]
    },
    {
      "cell_type": "markdown",
      "metadata": {
        "id": "Jh4pBHmsdTJG"
      },
      "source": [
        "Echa un vistazo al último conjunto del bloque `if` ...  `else`, dado que la variable **access** en sí es un booleano, también podríamos haberlo escrito así:"
      ]
    },
    {
      "cell_type": "code",
      "execution_count": null,
      "metadata": {
        "id": "D0BxQJLrdTJG"
      },
      "outputs": [],
      "source": [
        "if access:\n",
        "    print('Acceso concedido')\n",
        "else:\n",
        "    print('Access denegado')"
      ]
    },
    {
      "cell_type": "markdown",
      "metadata": {
        "id": "3KbmAL8VdTJG"
      },
      "source": [
        "Escribir código como acabamos de hacer en la celda anterior es más limpio. Puedes nombrar tus variables de manera diferente para que también sea aún más legible tu código; por ejemplo, cambia el nombre de **access** a __access_request__ (solicitud_acceso) de forma que el código quede como sigue:\n",
        "\n",
        "```python\n",
        "if access_request:\n",
        "```"
      ]
    },
    {
      "cell_type": "markdown",
      "metadata": {
        "id": "yTojLC0bdTJH"
      },
      "source": [
        "<font color='green'>Fin actividad 1</font>"
      ]
    },
    {
      "cell_type": "markdown",
      "metadata": {
        "id": "BINiVO9Cfckt"
      },
      "source": [
        "# **Introducción a Python**\n",
        "#  Ciclos while (while loop)"
      ]
    },
    {
      "cell_type": "markdown",
      "metadata": {
        "id": "D9Cq-RUIfckx"
      },
      "source": [
        "Ahora que entendemos el flujo de control con las declaraciones `if`, `elif` y `else`, aprendamos sobre los bucles. El primer ciclo que aprenderemos es el `while`.\n",
        "\n",
        "## <font color='blue'>**Ciclo `while`**</font>\n",
        "\n",
        "Un ciclo `while` ejecutará repetidamente una sola declaración o grupo de declaraciones siempre que la condición que se comprueba sea verdadera. La razón por la que se llama un 'bucle' es porque las declaraciones de código se repiten una y otra vez hasta que la condición ya no se cumple.\n",
        "\n",
        "La **indentación** del código se vuelve muy importante a medida que comenzamos a trabajar con bucles y control de flujo. Veamos algunos ejemplos."
      ]
    },
    {
      "cell_type": "code",
      "execution_count": null,
      "metadata": {
        "id": "ExN8guvVfckx"
      },
      "outputs": [],
      "source": [
        "# Inicialicemos la variable x en 0\n",
        "\n",
        "x = 0\n",
        "\n",
        "while x < 3:\n",
        "    print(f'x actualmente es = {x}\\n')\n",
        "    print(f\"Añadimos 1 a x\")\n",
        "    x = x + 1 # otra forma de escribir esta sentencia sería  x += 1"
      ]
    },
    {
      "cell_type": "markdown",
      "metadata": {
        "id": "LbgIdoMJfckz"
      },
      "source": [
        "### Nota:\n",
        "\n",
        "```Python\n",
        "    x = x + 1\n",
        "```\n",
        "Puede se escrito como ...\n",
        "```Python\n",
        "    x += 1\n",
        "```\n",
        "Esta forma es más pythonista !!!"
      ]
    },
    {
      "cell_type": "markdown",
      "metadata": {
        "id": "5d3tAmRefckz"
      },
      "source": [
        "____\n",
        "### <font color='red'>Atención!!</font>\n",
        "¡Ten cuidado con los bucles `*while`! Existe la posibilidad de escribir una condición que siempre permanece Verdadera, lo que significa que tendrás un ciclo `while` infinito en ejecución.\n",
        "\n",
        "Si esto te sucede, deberás interrumpir la ejecución del kernel de Python que estas usando. Para ello presiona haz lo siguiente:\n",
        "\n",
        "Si estás en Google Colab, haz click en el ícono que está en la esquina izquierda superior de tu celda (un pequeño cuadrado dentro de un circulo).\n",
        "\n",
        "Si estás trabajando en Jupyter o JupyterLab (en modo local) presiona el ícono de interrupción del kernel (cuadrado pequeño) en la barra superior.\n",
        "____\n",
        "\n",
        "Sigamos con algunos ejemplos más. Primero, le mostraremos cómo aceptar una entrada de un usuario:"
      ]
    },
    {
      "cell_type": "code",
      "execution_count": null,
      "metadata": {
        "id": "Q_bGUlW9fck0"
      },
      "outputs": [],
      "source": [
        "# Ejecuta esta celda solo una vez\n",
        "# Si lo vuelves a ejecutar sin proporcionar una\n",
        "# entrada, la celda se bloqueará con In [*]\n",
        "# Para solucionar este problema, reinicia el kernel.\n",
        "\n",
        "# Bien, ahora el código\n",
        "\n",
        "saved_input = input(\"Ingresa un número: \")"
      ]
    },
    {
      "cell_type": "code",
      "execution_count": null,
      "metadata": {
        "id": "h4qhmrZyfck0"
      },
      "outputs": [],
      "source": [
        "saved_input"
      ]
    },
    {
      "cell_type": "markdown",
      "metadata": {
        "id": "EUOTAuxofck1"
      },
      "source": [
        "### <font color = 'red'>Atención</font>\n",
        "\n",
        "Qué tipo de dato devolvió `input()`?<br>\n",
        "Fíjate, es un string!<br>\n",
        "Siempre que necesites ingresar un valor numérico podrás encapsular la función `input()` con `int()` o `float()`.<br>\n",
        "Considera eso si que siempr deberas validar los datos que se ingresan desde el teclado.\n",
        "\n",
        "Veamos cómo podríamos usar esto:"
      ]
    },
    {
      "cell_type": "code",
      "execution_count": null,
      "metadata": {
        "id": "yKhpDaZzfck2"
      },
      "outputs": [],
      "source": [
        "print(\"Bienvenido hacker\")\n",
        "\n",
        "# comienza con alguna contraseña predeterminada (debe definirse antes de que comience el ciclo)\n",
        "\n",
        "password = 0\n",
        "\n",
        "while password != 123:\n",
        "    password = int(input(\"Ingresa tu password: \"))\n",
        "\n",
        "# Esto no se ejecutará hasta que el ciclo while sea\n",
        "# hecho debido a la indentación\n",
        "print(\"Password correcta!\")"
      ]
    },
    {
      "cell_type": "code",
      "execution_count": null,
      "metadata": {
        "id": "BBefA2Dpfck2"
      },
      "outputs": [],
      "source": [
        "print(\"Bienvenido hacker\")\n",
        "\n",
        "# comienza con alguna contraseña predeterminada (debe definirse antes de que comience el ciclo)\n",
        "\n",
        "password = 0\n",
        "\n",
        "while password != 123:\n",
        "    password = int(input(\"Ingresa tu password: \"))\n",
        "\n",
        "    # Lógica de flujo de control anidado\n",
        "    if password != 123:\n",
        "        print(\"Password errónea\")\n",
        "        print(\"Intenta nuevamente ...\\n\")\n",
        "\n",
        "# Esto no se ejecutará hasta que el ciclo while sea\n",
        "# hecho debido a la indentación\n",
        "print(\"Password correcta!\")"
      ]
    },
    {
      "cell_type": "markdown",
      "metadata": {
        "id": "D7N3dRuPfck3"
      },
      "source": [
        "## <font color='blue'>**Rompiendo el flujo con `break`**</font>"
      ]
    },
    {
      "cell_type": "markdown",
      "metadata": {
        "id": "8qI_Jrw4fck3"
      },
      "source": [
        "La palabra clave `break` le permite \"salir\" del bucle. Por ejemplo:"
      ]
    },
    {
      "cell_type": "code",
      "execution_count": null,
      "metadata": {
        "id": "0unSsTyDfck3"
      },
      "outputs": [],
      "source": [
        "x = 0\n",
        "\n",
        "while x < 10:\n",
        "    print(x)\n",
        "    print('Suma 1 a x')\n",
        "    x += 1\n",
        "\n",
        "    if x == 3:   # Si x = 3 (Verdadero), esto causará la salida (break out) del bucle\n",
        "        break"
      ]
    },
    {
      "cell_type": "markdown",
      "metadata": {
        "id": "UaP83pW6fck3"
      },
      "source": [
        "## <font color='green'>Actividad 1:</font>\n",
        "### Contando números\n",
        "\n",
        "Crea un programa que cuente de 1 a 10 utilizando `while`.\n",
        "Imprime cada número en una línea separada.\n",
        "\n",
        "Pasos:\n",
        "1. Crea e inicializa una variable para contar\n",
        "2. Crea el bucle `while`\n",
        "3. Imprime la variable\n",
        "4. Incrementa la variable usando += 1"
      ]
    },
    {
      "cell_type": "code",
      "execution_count": null,
      "metadata": {
        "id": "n2U39LOMfck4"
      },
      "outputs": [],
      "source": [
        "# Tu código aquí ...\n",
        "\n"
      ]
    },
    {
      "cell_type": "markdown",
      "metadata": {
        "id": "RC2HXpVifck4"
      },
      "source": [
        "<font color='green'>Fin actividad 1</font>"
      ]
    },
    {
      "cell_type": "markdown",
      "metadata": {
        "id": "8beD4yINfck4"
      },
      "source": [
        "## <font color='green'>Actividad 2: Challenging</font>\n",
        "### Contar números, pero detenerse cuando la suma de los números contados sea > 50\n",
        "\n",
        "Crea un programa que cuente de 1 a 100 usando bucles `while`. <br>\n",
        "Imprime cada número en una línea separada. <br>\n",
        "Suma el número contado en otra variable y deja de contar cuando la suma sea mayor o igual a 50.\n",
        "    \n",
        "Pseudo código:\n",
        "1. Crea e inicializa una variable para contar\n",
        "2. Cree e inicialice una variable para sumar\n",
        "3. Crea el bucle while\n",
        "4. Imprime la variable de recuento\n",
        "5. Agregua la variable de recuento a la variable de suma\n",
        "6. Compara si la variable suma es mayor o igual a 50. Si es así, imprime la variable suma y rompe el ciclo\n",
        "7. Incrementar la variable usando += 1"
      ]
    },
    {
      "cell_type": "code",
      "execution_count": null,
      "metadata": {
        "id": "gr5uoqJtfck4"
      },
      "outputs": [],
      "source": [
        "# Tu código aquí ...\n",
        "# Opcion 1\n",
        "\n"
      ]
    },
    {
      "cell_type": "code",
      "execution_count": null,
      "metadata": {
        "id": "YaJVtsrVfck5"
      },
      "outputs": [],
      "source": [
        "# Opcion 2\n",
        "\n"
      ]
    },
    {
      "cell_type": "code",
      "source": [],
      "metadata": {
        "id": "IuGQzQiriEdA"
      },
      "execution_count": null,
      "outputs": []
    },
    {
      "cell_type": "markdown",
      "metadata": {
        "id": "Ovaf2vWDgk1P"
      },
      "source": [
        "# **Introducción a Python**\n",
        "# FP14. Ciclos for (for loop)"
      ]
    },
    {
      "cell_type": "markdown",
      "metadata": {
        "id": "7Wmh4IoTgk1S"
      },
      "source": [
        "¡Bienvenidos de nuevo Hackers, es hora de aprender un nuevo ciclo!\n",
        "\n",
        "## <font color='blue'>**Ciclo `for`**</font>\n",
        "Un bucle `for` actúa como un iterador en Python, pasa por elementos que están en una secuencia o cualquier otro **objeto iterable**. Los objetos que hemos aprendido, sobre los que podemos iterar incluyen: cadenas o strings, listas, tuplas e incluso iterables incorporados para diccionarios, como las claves o los valores.\n",
        "\n",
        "Aquí está el formato general para un bucle `for` en Python:\n",
        "```python\n",
        "     for item in object:\n",
        "         your code\n",
        "         your code\n",
        "```        \n",
        "El nombre de la variable utilizado para el *item* depende completamente del programador (o sea, tú!!), así que usa tu mejor criterio para elegir un nombre que tenga sentido y que podrás entenderlo cuando vuelvas a revisar tu código. Puedes utiliza esa variable **sólo dentro del bucle**, fuera del mismo no tendrá un valor asignado.\n",
        "\n",
        "Sigamos adelante y trabajemos con varios ejemplos de bucles `for` utilizando una variedad de tipos de objetos de datos."
      ]
    },
    {
      "cell_type": "markdown",
      "metadata": {
        "id": "aRdor3a1gk1S"
      },
      "source": [
        "## <font color='blue'>**`for` con listas**</font>"
      ]
    },
    {
      "cell_type": "code",
      "execution_count": null,
      "metadata": {
        "id": "1LW0galigk1T"
      },
      "outputs": [],
      "source": [
        "mylist = [1, 2, 3, 4, 5, 6, 7, 8, 9, 10]\n",
        "# La lista es un objeto iterable por esencia\n",
        "# Esto significa que podemos recorrerla\n",
        "\n",
        "for num in mylist:\n",
        "    print(num)"
      ]
    },
    {
      "cell_type": "code",
      "execution_count": null,
      "metadata": {
        "id": "R-83gTcAgk1U"
      },
      "outputs": [],
      "source": [
        "for la_variable_puede_ser_cualquier_cosa in mylist:\n",
        "    print(la_variable_puede_ser_cualquier_cosa)"
      ]
    },
    {
      "cell_type": "markdown",
      "metadata": {
        "id": "4WH3o1BMgk1V"
      },
      "source": [
        "Pero no creo que te atrevas a usar un nombre variable como este!! O sí?"
      ]
    },
    {
      "cell_type": "code",
      "execution_count": null,
      "metadata": {
        "id": "iThKtaHbgk1V"
      },
      "outputs": [],
      "source": [
        "for num in mylist:\n",
        "    print(num, end=' ')"
      ]
    },
    {
      "cell_type": "code",
      "execution_count": null,
      "metadata": {
        "id": "zSqYKEtogk1V"
      },
      "outputs": [],
      "source": [
        "for num in mylist:\n",
        "    print(\"Este texto se imprimirá tantas veces como elementos haya en la lista\")"
      ]
    },
    {
      "cell_type": "markdown",
      "metadata": {
        "id": "GmAde9pwgk1W"
      },
      "source": [
        "## <font color='blue'>**`for` con strings**</font>"
      ]
    },
    {
      "cell_type": "code",
      "execution_count": null,
      "metadata": {
        "id": "q1GXtN76gk1X"
      },
      "outputs": [],
      "source": [
        "for letter in \"Esto es un string\":\n",
        "    print(letter)"
      ]
    },
    {
      "cell_type": "code",
      "execution_count": null,
      "metadata": {
        "id": "tz6VQdFxgk1X"
      },
      "outputs": [],
      "source": [
        "mystring = 'This is a string Hackers'\n",
        "\n",
        "for word in mystring.split():\n",
        "    print(word)"
      ]
    },
    {
      "cell_type": "markdown",
      "metadata": {
        "id": "VGdzluvagk1X"
      },
      "source": [
        "## <font color='blue'>**`for` con tuplas**</font>"
      ]
    },
    {
      "cell_type": "code",
      "execution_count": null,
      "metadata": {
        "id": "hCitaqh1gk1Y"
      },
      "outputs": [],
      "source": [
        "tup = (1, 2, 3, 4)\n",
        "\n",
        "for num in tup:\n",
        "    print(num)"
      ]
    },
    {
      "cell_type": "markdown",
      "metadata": {
        "id": "qbMF41QPgk1Y"
      },
      "source": [
        "## <font color='blue'>**Desempaquetado de tuplas (_tuple unpacking_)**</font>"
      ]
    },
    {
      "cell_type": "code",
      "execution_count": null,
      "metadata": {
        "id": "VEjEJAGqgk1Y"
      },
      "outputs": [],
      "source": [
        "list_of_tups = [(1, 2), (3, 4), (5, 6), (7, 8), (9, 10)]"
      ]
    },
    {
      "cell_type": "code",
      "execution_count": null,
      "metadata": {
        "id": "9Tv1hIwVgk1Y"
      },
      "outputs": [],
      "source": [
        "for x in list_of_tups:\n",
        "    print(x)"
      ]
    },
    {
      "cell_type": "code",
      "execution_count": null,
      "metadata": {
        "id": "OE5rWnXTgk1Z"
      },
      "outputs": [],
      "source": [
        "# Imprimimos el primer elemento de cada tupla\n",
        "for x in list_of_tups:\n",
        "    print(x[0])"
      ]
    },
    {
      "cell_type": "code",
      "execution_count": null,
      "metadata": {
        "id": "ghpIEFomgk1Z"
      },
      "outputs": [],
      "source": [
        "# Imprimimos el segundo elemento de cada tupla\n",
        "for x in list_of_tups:\n",
        "    print(x[1])"
      ]
    },
    {
      "cell_type": "markdown",
      "metadata": {
        "id": "_DW8-Zx_gk1a"
      },
      "source": [
        "Continuemos"
      ]
    },
    {
      "cell_type": "code",
      "execution_count": null,
      "metadata": {
        "id": "nAPLSRiGgk1a"
      },
      "outputs": [],
      "source": [
        "for (num1,num2) in list_of_tups:\n",
        "    print(num1)\n",
        "    print(num2)\n",
        "    print('\\n')"
      ]
    },
    {
      "cell_type": "code",
      "execution_count": null,
      "metadata": {
        "id": "q-b5J3VIgk1a"
      },
      "outputs": [],
      "source": [
        "# No necesitamos el paréntesis\n",
        "\n",
        "for num1, num2 in list_of_tups:\n",
        "    print(num1)\n",
        "    print(num2)\n",
        "    print('\\n')"
      ]
    },
    {
      "cell_type": "markdown",
      "metadata": {
        "id": "byfWAhbsgk1a"
      },
      "source": [
        "## <font color='blue'>**`for` con diccionarios**</font>"
      ]
    },
    {
      "cell_type": "code",
      "execution_count": null,
      "metadata": {
        "id": "98Ws1d4lgk1a"
      },
      "outputs": [],
      "source": [
        "counties_populations = {'Chile':'18', 'USA':'323', 'Germany':'83', 'India':'1324', 'Spain':'45'}"
      ]
    },
    {
      "cell_type": "markdown",
      "metadata": {
        "id": "rxGMOlXxgk1b"
      },
      "source": [
        "¡Recuerda que los diccionarios no mantienen ningún orden! ¡Así que recórrelos con esto en mente!"
      ]
    },
    {
      "cell_type": "code",
      "execution_count": null,
      "metadata": {
        "id": "f9bdBSJ9gk1b"
      },
      "outputs": [],
      "source": [
        "for item in counties_populations:\n",
        "    print(item)"
      ]
    },
    {
      "cell_type": "code",
      "execution_count": null,
      "metadata": {
        "id": "oFBGMBMSgk1b"
      },
      "outputs": [],
      "source": [
        "for k in counties_populations.keys():\n",
        "    print(k)"
      ]
    },
    {
      "cell_type": "code",
      "execution_count": null,
      "metadata": {
        "id": "zzTNfw4dgk1b"
      },
      "outputs": [],
      "source": [
        "for values in counties_populations.values():\n",
        "    print(values)"
      ]
    },
    {
      "cell_type": "markdown",
      "metadata": {
        "id": "7SfHfxydgk1b"
      },
      "source": [
        "## **Más usos de `for`**"
      ]
    },
    {
      "cell_type": "code",
      "execution_count": null,
      "metadata": {
        "id": "w22KyGS9gk1b"
      },
      "outputs": [],
      "source": [
        "for name in \"Sebastián\", \"Zavi\", \"Isidora\":\n",
        "    print(\"Hello \" + name)"
      ]
    },
    {
      "cell_type": "code",
      "execution_count": null,
      "metadata": {
        "id": "uxGdUwx4gk1b"
      },
      "outputs": [],
      "source": [
        "for i in range(10):\n",
        "    print(i)"
      ]
    },
    {
      "cell_type": "code",
      "execution_count": null,
      "metadata": {
        "id": "OJm7C-rZgk1c"
      },
      "outputs": [],
      "source": [
        "total = 0\n",
        "for i in 5, 7, 11, 13:\n",
        "    print(i)\n",
        "    total = total + i  # total += i\n",
        "\n",
        "print(total)"
      ]
    },
    {
      "cell_type": "markdown",
      "metadata": {
        "id": "cN_EFnvUgk1c"
      },
      "source": [
        "## <font color='blue'>**La sentencia `continue`**</font>\n",
        "\n",
        "La palabra clave `continue`puede ser un poco complicada para ver su utilidad. Te permite continuar con el ciclo de nivel superior, básicamente lo opuesto a break. Pasará tiempo antes de que te des cuenta de una buena situación para usarla, pero aquí hay un ejemplo simple:"
      ]
    },
    {
      "cell_type": "code",
      "execution_count": null,
      "metadata": {
        "id": "Gqp1IEdEgk1c"
      },
      "outputs": [],
      "source": [
        "for letter in 'code':\n",
        "    if letter == 'd':\n",
        "        continue\n",
        "\n",
        "    print(f'La letra actual es: {letter}')"
      ]
    },
    {
      "cell_type": "code",
      "execution_count": null,
      "metadata": {
        "id": "CguOgXdUgk1c"
      },
      "outputs": [],
      "source": [
        "list = []\n",
        "string = 'A este string le eliminaremos los espacios'\n",
        "for letra in string:\n",
        "    if letra != ' ':\n",
        "        list.append(letra)\n",
        "    else:\n",
        "        continue\n",
        "print(*list)"
      ]
    },
    {
      "cell_type": "markdown",
      "metadata": {
        "id": "cqdrb36Fgk1c"
      },
      "source": [
        "Intenta explicar qué paso aquí!!"
      ]
    },
    {
      "cell_type": "code",
      "execution_count": null,
      "metadata": {
        "id": "J5_rF_47gk1Z"
      },
      "outputs": [],
      "source": [
        "# EJECUTA ESTA CELDA. NO LA MODIFIQUES !!!\n",
        "\n",
        "list_of_tuples = [('A', ['B', 1]),\n",
        "                  ('C', ['D', 4]),\n",
        "                  ('E', ['F', 6]),\n",
        "                  ('G', ['H', 8]),\n",
        "                  ('I', ['J', 10])]"
      ]
    },
    {
      "cell_type": "code",
      "execution_count": null,
      "metadata": {
        "id": "baULOhDSgk1a"
      },
      "outputs": [],
      "source": [
        "# Tu código aquí ...\n",
        "\n"
      ]
    }
  ]
}