{
  "nbformat": 4,
  "nbformat_minor": 0,
  "metadata": {
    "colab": {
      "provenance": [],
      "collapsed_sections": [
        "4UbITV14SKvj",
        "lX8Pc55LSKwz"
      ],
      "include_colab_link": true
    },
    "kernelspec": {
      "display_name": "Python 3 (ipykernel)",
      "language": "python",
      "name": "python3"
    },
    "language_info": {
      "codemirror_mode": {
        "name": "ipython",
        "version": 3
      },
      "file_extension": ".py",
      "mimetype": "text/x-python",
      "name": "python",
      "nbconvert_exporter": "python",
      "pygments_lexer": "ipython3",
      "version": "3.8.11"
    }
  },
  "cells": [
    {
      "cell_type": "markdown",
      "metadata": {
        "id": "view-in-github",
        "colab_type": "text"
      },
      "source": [
        "<a href=\"https://colab.research.google.com/github/NatSama2/Bootcamp-Analisis-de-Datos/blob/main/Clase_1_Intruducci%C3%B3n_a_Python.ipynb\" target=\"_parent\"><img src=\"https://colab.research.google.com/assets/colab-badge.svg\" alt=\"Open In Colab\"/></a>"
      ]
    },
    {
      "cell_type": "markdown",
      "metadata": {
        "id": "ukqkTxThSKu5"
      },
      "source": [
        "# **Introducción a Python**\n",
        "# MODULO 3. Introducción a Python"
      ]
    },
    {
      "cell_type": "markdown",
      "metadata": {
        "id": "e__p9PGPyird"
      },
      "source": [
        "## <font color='orange'>Cómo aprenderemos Python?</font>\n",
        "Durante el presente curso, ustedes recibirán un entrenamiento para convertirse en agentes secretos de criptografía. Conocerán las reglas y secretos de Python a fondo y lograrán desarrollar un proyecto final en el cual desarrollarán una máquina [Enigma](https://es.wikipedia.org/wiki/Enigma_(máquina)). Con esta máquina criptográfica deberán descifrar el desafío final del curso.\n",
        "\n",
        "Mucha suerte aprendices de hackers!!"
      ]
    },
    {
      "cell_type": "markdown",
      "metadata": {
        "id": "pCqshoFASKu7"
      },
      "source": [
        "## <font color='blue'>**El Zen de Python**</font>\n",
        "El veterano pytonista Tim Peters, canaliza sucintamente los principios rectores para el diseño de Python en 19 aforismos. Se le conoce como **El Zen de Python**."
      ]
    },
    {
      "cell_type": "code",
      "metadata": {
        "id": "cIZbli-wSKu8",
        "collapsed": true
      },
      "source": [
        "# El Zen de Python\n",
        "import this"
      ],
      "execution_count": 67,
      "outputs": []
    },
    {
      "cell_type": "markdown",
      "metadata": {
        "id": "j6TcNepCSKvA"
      },
      "source": [
        "## <font color='blue'>**Variables**</font>"
      ]
    },
    {
      "cell_type": "markdown",
      "metadata": {
        "id": "FsZ3ne33SKvC"
      },
      "source": [
        "Un nombre que se usa para denotar algo o un valor se llama variable. En Python, las variables se pueden declarar y se le pueden asignar valores de la siguiente manera,"
      ]
    },
    {
      "cell_type": "code",
      "metadata": {
        "id": "boRLkp-2SKvD"
      },
      "source": [
        "x = 2\n",
        "y = 5\n"
      ],
      "execution_count": 68,
      "outputs": []
    },
    {
      "cell_type": "code",
      "metadata": {
        "id": "m-xNhpDQSKvG",
        "collapsed": true,
        "outputId": "f2d06acc-2827-4b7f-fe12-ea2961ba3567",
        "colab": {
          "base_uri": "https://localhost:8080/"
        }
      },
      "source": [
        "# Aquí usamos nuestra primera función: print()\n",
        "\n",
        "print(x + y)\n"
      ],
      "execution_count": 69,
      "outputs": [
        {
          "output_type": "stream",
          "name": "stdout",
          "text": [
            "7\n"
          ]
        }
      ]
    },
    {
      "cell_type": "markdown",
      "metadata": {
        "id": "3v_UgKKkSKvI"
      },
      "source": [
        "Multiples variables pueden ser asignadas con el mismo valor."
      ]
    },
    {
      "cell_type": "code",
      "metadata": {
        "id": "5mIoxxN9SKvJ"
      },
      "source": [
        "x = y = 20"
      ],
      "execution_count": 70,
      "outputs": []
    },
    {
      "cell_type": "code",
      "metadata": {
        "id": "H_-JtHX1SKvM",
        "outputId": "54463cf7-62c0-4d09-9990-25ad95ee7426",
        "colab": {
          "base_uri": "https://localhost:8080/"
        }
      },
      "source": [
        "print(x, y)"
      ],
      "execution_count": 71,
      "outputs": [
        {
          "output_type": "stream",
          "name": "stdout",
          "text": [
            "20 20\n"
          ]
        }
      ]
    },
    {
      "cell_type": "markdown",
      "metadata": {
        "id": "72RcAngJSKvP"
      },
      "source": [
        "Si has programado en otros lenguajes, probablemente aprendiste que las variables eran una suerte de \"caja\" en la cual guardabas algo. En Python ese concepto es algo distinto. Mira:"
      ]
    },
    {
      "cell_type": "code",
      "metadata": {
        "id": "4JemAWBcSKvP"
      },
      "source": [
        "a = 1"
      ],
      "execution_count": 72,
      "outputs": []
    },
    {
      "cell_type": "code",
      "metadata": {
        "id": "lamwRl8ISKvS",
        "outputId": "9db5a036-a8b5-42d5-c002-846d4645d792",
        "colab": {
          "base_uri": "https://localhost:8080/"
        }
      },
      "source": [
        "id(a)"
      ],
      "execution_count": 73,
      "outputs": [
        {
          "output_type": "execute_result",
          "data": {
            "text/plain": [
              "10757736"
            ]
          },
          "metadata": {},
          "execution_count": 73
        }
      ]
    },
    {
      "cell_type": "code",
      "source": [],
      "metadata": {
        "id": "yyytN_by6u_S"
      },
      "execution_count": 73,
      "outputs": []
    },
    {
      "cell_type": "markdown",
      "metadata": {
        "id": "3pUY587JyeNv"
      },
      "source": [
        "Si te fijas el identificador de $a$, `id(a)`, nos da un valor. Si asigno 1 a otra variable, en este caso $b$, te darás cuenta que se obtiene el mismo identificador. En Python las variables apuntan a direcciones de memoria en las cuales se almacenan objetos."
      ]
    },
    {
      "cell_type": "code",
      "metadata": {
        "id": "yvvt-KgESKvV"
      },
      "source": [
        "b = 1"
      ],
      "execution_count": 74,
      "outputs": []
    },
    {
      "cell_type": "code",
      "metadata": {
        "id": "svNrsowiSKvY",
        "outputId": "64fca878-64b8-430b-e252-b8479710fbd9",
        "colab": {
          "base_uri": "https://localhost:8080/"
        }
      },
      "source": [
        "id(b)"
      ],
      "execution_count": 75,
      "outputs": [
        {
          "output_type": "execute_result",
          "data": {
            "text/plain": [
              "10757736"
            ]
          },
          "metadata": {},
          "execution_count": 75
        }
      ]
    },
    {
      "cell_type": "code",
      "metadata": {
        "id": "jk-XjX5TSKva",
        "outputId": "37cfd884-d079-4f40-ea61-230528133307",
        "colab": {
          "base_uri": "https://localhost:8080/"
        }
      },
      "source": [
        "# Veamos si son iguales usando el operador ==\n",
        "id(a) == id(b)"
      ],
      "execution_count": 76,
      "outputs": [
        {
          "output_type": "execute_result",
          "data": {
            "text/plain": [
              "True"
            ]
          },
          "metadata": {},
          "execution_count": 76
        }
      ]
    },
    {
      "cell_type": "code",
      "metadata": {
        "id": "6H0YTx5kSKve",
        "outputId": "293d7052-141a-4dc3-a8f9-4bd8f1bc0b5d",
        "colab": {
          "base_uri": "https://localhost:8080/"
        }
      },
      "source": [
        "id(1)"
      ],
      "execution_count": 77,
      "outputs": [
        {
          "output_type": "execute_result",
          "data": {
            "text/plain": [
              "10757736"
            ]
          },
          "metadata": {},
          "execution_count": 77
        }
      ]
    },
    {
      "cell_type": "code",
      "metadata": {
        "id": "xwqfn4x3SKvh",
        "outputId": "05e27992-9c0d-46a5-9c6d-06a0153bb709",
        "colab": {
          "base_uri": "https://localhost:8080/"
        }
      },
      "source": [
        "id(a) == id(b) == id(1)"
      ],
      "execution_count": 78,
      "outputs": [
        {
          "output_type": "execute_result",
          "data": {
            "text/plain": [
              "True"
            ]
          },
          "metadata": {},
          "execution_count": 78
        }
      ]
    },
    {
      "cell_type": "markdown",
      "metadata": {
        "id": "4UbITV14SKvj"
      },
      "source": [
        "## <font color='blue'>**Operadores**</font>"
      ]
    },
    {
      "cell_type": "markdown",
      "metadata": {
        "id": "3YUg138HSKvk"
      },
      "source": [
        "## Operadores aritméticos"
      ]
    },
    {
      "cell_type": "markdown",
      "metadata": {
        "id": "-2ku2AyFSKvk"
      },
      "source": [
        "| Símbolo | Tarea ejecutada |\n",
        "|:---:|---:|\n",
        "| +  | Suma |\n",
        "| -  | Resta |\n",
        "| /  | División |\n",
        "| %  | Módulo |\n",
        "| *  | Multiplicación |\n",
        "| //  | Función de parte entera - Piso |\n",
        "| **  | Potencia |"
      ]
    },
    {
      "cell_type": "code",
      "metadata": {
        "id": "uieR0l0kSKvl",
        "outputId": "e472fc9a-5e57-428d-eb45-e04f2c52ac27",
        "colab": {
          "base_uri": "https://localhost:8080/"
        }
      },
      "source": [
        "# Suma\n",
        "1 + 2"
      ],
      "execution_count": 79,
      "outputs": [
        {
          "output_type": "execute_result",
          "data": {
            "text/plain": [
              "3"
            ]
          },
          "metadata": {},
          "execution_count": 79
        }
      ]
    },
    {
      "cell_type": "code",
      "metadata": {
        "id": "9VFGD5TkSKvo",
        "outputId": "9b569de4-841a-4e94-cbb3-381ec0572aaf",
        "colab": {
          "base_uri": "https://localhost:8080/"
        }
      },
      "source": [
        "# Resta\n",
        "2 - 1"
      ],
      "execution_count": 80,
      "outputs": [
        {
          "output_type": "execute_result",
          "data": {
            "text/plain": [
              "1"
            ]
          },
          "metadata": {},
          "execution_count": 80
        }
      ]
    },
    {
      "cell_type": "code",
      "metadata": {
        "id": "fERDe26CSKvq",
        "outputId": "ec61c1bd-c5fa-4c23-e04c-0c86a6d1df11",
        "colab": {
          "base_uri": "https://localhost:8080/"
        }
      },
      "source": [
        "# Multiplicación\n",
        "1 * 2"
      ],
      "execution_count": 81,
      "outputs": [
        {
          "output_type": "execute_result",
          "data": {
            "text/plain": [
              "2"
            ]
          },
          "metadata": {},
          "execution_count": 81
        }
      ]
    },
    {
      "cell_type": "code",
      "metadata": {
        "id": "n8BJnmnVSKvt",
        "outputId": "afcc2e40-e02e-4344-e009-f39ae1991520",
        "colab": {
          "base_uri": "https://localhost:8080/"
        }
      },
      "source": [
        "# División\n",
        "1 / 2"
      ],
      "execution_count": 82,
      "outputs": [
        {
          "output_type": "execute_result",
          "data": {
            "text/plain": [
              "0.5"
            ]
          },
          "metadata": {},
          "execution_count": 82
        }
      ]
    },
    {
      "cell_type": "code",
      "metadata": {
        "id": "QZLQlxRCSKvv",
        "outputId": "ec67aefb-3580-488b-bfce-269a5a036066",
        "colab": {
          "base_uri": "https://localhost:8080/"
        }
      },
      "source": [
        "# División. Entrega muchos decimales\n",
        "4/7"
      ],
      "execution_count": 83,
      "outputs": [
        {
          "output_type": "execute_result",
          "data": {
            "text/plain": [
              "0.5714285714285714"
            ]
          },
          "metadata": {},
          "execution_count": 83
        }
      ]
    },
    {
      "cell_type": "code",
      "metadata": {
        "id": "9ZizYm_qSKvy",
        "outputId": "63f9df6e-c648-4116-c988-5918bbdfbda5",
        "colab": {
          "base_uri": "https://localhost:8080/"
        }
      },
      "source": [
        "# Módulo\n",
        "15 % 6"
      ],
      "execution_count": 84,
      "outputs": [
        {
          "output_type": "execute_result",
          "data": {
            "text/plain": [
              "3"
            ]
          },
          "metadata": {},
          "execution_count": 84
        }
      ]
    },
    {
      "cell_type": "markdown",
      "metadata": {
        "id": "SEw_41wqSKv0"
      },
      "source": [
        "La división de piso no es más que convertir el resultado así obtenido al número entero más cercano."
      ]
    },
    {
      "cell_type": "code",
      "metadata": {
        "id": "QHbkT1mYSKv0",
        "outputId": "4fcce866-cd60-445f-e99c-335369404f40",
        "colab": {
          "base_uri": "https://localhost:8080/"
        }
      },
      "source": [
        "# Floor division\n",
        "15/4"
      ],
      "execution_count": 85,
      "outputs": [
        {
          "output_type": "execute_result",
          "data": {
            "text/plain": [
              "3.75"
            ]
          },
          "metadata": {},
          "execution_count": 85
        }
      ]
    },
    {
      "cell_type": "markdown",
      "metadata": {
        "id": "grtcaAvsSKv3"
      },
      "source": [
        "## Operadores relacionales"
      ]
    },
    {
      "cell_type": "markdown",
      "metadata": {
        "id": "kE7nh7-oSKv4"
      },
      "source": [
        "|   Símbolo   | Tarea ejecutada |\n",
        "|:-----:|---|\n",
        "| == | igual |\n",
        "| !=  | no igual |\n",
        "| < | menor que |\n",
        "| > | mayor que |\n",
        "| <=  | menor o igual queo |\n",
        "| >=  | mayor o igual que |"
      ]
    },
    {
      "cell_type": "code",
      "metadata": {
        "id": "gTDrLtZGyeN0"
      },
      "source": [
        "z = 1"
      ],
      "execution_count": 86,
      "outputs": []
    },
    {
      "cell_type": "code",
      "metadata": {
        "id": "YJwbtHseSKv6",
        "outputId": "adaf04f8-470c-43d0-81e1-c0655b69e991",
        "colab": {
          "base_uri": "https://localhost:8080/"
        }
      },
      "source": [
        "print(z)"
      ],
      "execution_count": 87,
      "outputs": [
        {
          "output_type": "stream",
          "name": "stdout",
          "text": [
            "1\n"
          ]
        }
      ]
    },
    {
      "cell_type": "code",
      "metadata": {
        "id": "ow9c7CzeSKv9",
        "outputId": "9ca2e4b3-6a5f-4761-c058-7fb4f2e9a346",
        "colab": {
          "base_uri": "https://localhost:8080/"
        }
      },
      "source": [
        "z == 2"
      ],
      "execution_count": 88,
      "outputs": [
        {
          "output_type": "execute_result",
          "data": {
            "text/plain": [
              "False"
            ]
          },
          "metadata": {},
          "execution_count": 88
        }
      ]
    },
    {
      "cell_type": "code",
      "metadata": {
        "id": "UB3Aags_SKv_",
        "outputId": "d1f24bb4-a4ac-4886-bc0c-3f970645c255",
        "colab": {
          "base_uri": "https://localhost:8080/"
        }
      },
      "source": [
        "z >= 1"
      ],
      "execution_count": 89,
      "outputs": [
        {
          "output_type": "execute_result",
          "data": {
            "text/plain": [
              "True"
            ]
          },
          "metadata": {},
          "execution_count": 89
        }
      ]
    },
    {
      "cell_type": "code",
      "metadata": {
        "id": "FfYBlVx6SKwC",
        "outputId": "c90dea7f-81ae-4bc5-b094-a33a92454c16",
        "colab": {
          "base_uri": "https://localhost:8080/"
        }
      },
      "source": [
        "z == 1.0"
      ],
      "execution_count": 90,
      "outputs": [
        {
          "output_type": "execute_result",
          "data": {
            "text/plain": [
              "True"
            ]
          },
          "metadata": {},
          "execution_count": 90
        }
      ]
    },
    {
      "cell_type": "code",
      "metadata": {
        "id": "rOonkgUISKwF",
        "outputId": "c8e3f652-a4dc-465b-83a7-4b91c3eb3cff",
        "colab": {
          "base_uri": "https://localhost:8080/"
        }
      },
      "source": [
        "id(z) == id(1.0)"
      ],
      "execution_count": 91,
      "outputs": [
        {
          "output_type": "execute_result",
          "data": {
            "text/plain": [
              "False"
            ]
          },
          "metadata": {},
          "execution_count": 91
        }
      ]
    },
    {
      "cell_type": "markdown",
      "metadata": {
        "id": "ZsI8yjNtSKwH"
      },
      "source": [
        "## <font color='blue'>**Algunas funciones interesantes**</font>"
      ]
    },
    {
      "cell_type": "markdown",
      "metadata": {
        "id": "YOYMfCNZSKwH"
      },
      "source": [
        "Veamos qué es una función primero.\n",
        "\n",
        "**Función**: Una función es un bloque de código con un nombre asociado, que recibe cero o más argumentos como entrada, sigue una secuencia de sentencias, la cuales ejecuta una operación deseada y devuelve un valor y/o realiza una tarea. Este bloque puede ser llamados cuando se necesite.\n",
        "\n",
        "Python implementa muchas funciones en sus librerías básicas.\n",
        "\n",
        "A continuación algunas de ellas:"
      ]
    },
    {
      "cell_type": "markdown",
      "metadata": {
        "id": "XjksHFZzSKwI"
      },
      "source": [
        "__`round()`__<br>\n",
        "Esta función redondea el valor de entrada a un número específico de lugares o al número entero más cercano."
      ]
    },
    {
      "cell_type": "code",
      "metadata": {
        "id": "tSmh5C3dSKwI",
        "outputId": "405130c2-9132-415e-da2f-9aeff196b2b4",
        "colab": {
          "base_uri": "https://localhost:8080/"
        }
      },
      "source": [
        "round(3.1415)"
      ],
      "execution_count": 92,
      "outputs": [
        {
          "output_type": "execute_result",
          "data": {
            "text/plain": [
              "3"
            ]
          },
          "metadata": {},
          "execution_count": 92
        }
      ]
    },
    {
      "cell_type": "markdown",
      "metadata": {
        "id": "9B7M6d2OSKwK"
      },
      "source": [
        "<div class=\"alert alert-block alert-warning\">\n",
        "<b>TIP:</b> en Python, como en muchos lenguajes de programación, la separación de unidades de mil y decimales es con notación inglesa; i.e., se utilizan comas para las unidades de mil y punto para los decimales.\n",
        "</div>"
      ]
    },
    {
      "cell_type": "code",
      "metadata": {
        "id": "w3cNeFqmSKwL",
        "outputId": "e33db4fb-aaba-4eb4-e2a7-d303aa8714cc",
        "colab": {
          "base_uri": "https://localhost:8080/"
        }
      },
      "source": [
        "print(round(5.6231))\n",
        "print(round(4.55892, 3))"
      ],
      "execution_count": 93,
      "outputs": [
        {
          "output_type": "stream",
          "name": "stdout",
          "text": [
            "6\n",
            "4.559\n"
          ]
        }
      ]
    },
    {
      "cell_type": "code",
      "metadata": {
        "id": "NJLfDDLeSKwN",
        "outputId": "92af9826-c8e8-48ef-fe6d-e6f853c6286c",
        "colab": {
          "base_uri": "https://localhost:8080/"
        }
      },
      "source": [
        "print(round(1.1234567,5))\n",
        "print(round(1.5))"
      ],
      "execution_count": 94,
      "outputs": [
        {
          "output_type": "stream",
          "name": "stdout",
          "text": [
            "1.12346\n",
            "2\n"
          ]
        }
      ]
    },
    {
      "cell_type": "markdown",
      "metadata": {
        "id": "kCBdlYlmSKwP"
      },
      "source": [
        "**`type()`** <br>\n",
        "La función `type()` es probablemente las más usada en Python; ella nos entrega en tipo de objeto que estamos manejando."
      ]
    },
    {
      "cell_type": "code",
      "metadata": {
        "id": "-k-L3GrESKwP"
      },
      "source": [
        "b = 10"
      ],
      "execution_count": 95,
      "outputs": []
    },
    {
      "cell_type": "code",
      "metadata": {
        "id": "tR7gdpifSKwS",
        "outputId": "31af8b99-f0c8-4cc4-9be8-a69adee44312",
        "colab": {
          "base_uri": "https://localhost:8080/"
        }
      },
      "source": [
        "type(b)"
      ],
      "execution_count": 96,
      "outputs": [
        {
          "output_type": "execute_result",
          "data": {
            "text/plain": [
              "int"
            ]
          },
          "metadata": {},
          "execution_count": 96
        }
      ]
    },
    {
      "cell_type": "code",
      "metadata": {
        "id": "FUJBExGvSKwU",
        "outputId": "147f1433-1aad-44ef-fa78-aedca917a198",
        "colab": {
          "base_uri": "https://localhost:8080/"
        }
      },
      "source": [
        "type(\"Hola mundo\")"
      ],
      "execution_count": 97,
      "outputs": [
        {
          "output_type": "execute_result",
          "data": {
            "text/plain": [
              "str"
            ]
          },
          "metadata": {},
          "execution_count": 97
        }
      ]
    },
    {
      "cell_type": "code",
      "metadata": {
        "id": "nODNpEVRSKwW"
      },
      "source": [
        "c = 3\n",
        "d = b / c"
      ],
      "execution_count": 98,
      "outputs": []
    },
    {
      "cell_type": "code",
      "metadata": {
        "id": "XMcWkHcbSKwY",
        "outputId": "4d1bd588-6092-406f-c1b6-da1731afbc30",
        "colab": {
          "base_uri": "https://localhost:8080/"
        }
      },
      "source": [
        "type(d)"
      ],
      "execution_count": 99,
      "outputs": [
        {
          "output_type": "execute_result",
          "data": {
            "text/plain": [
              "float"
            ]
          },
          "metadata": {},
          "execution_count": 99
        }
      ]
    },
    {
      "cell_type": "markdown",
      "metadata": {
        "id": "v6RI0GKWSKwa"
      },
      "source": [
        "**`range()`**<br>\n",
        "Esta función crea una lista de elementos del tipo `range`. La veremos en detalle más adelante."
      ]
    },
    {
      "cell_type": "code",
      "metadata": {
        "id": "2XzLvyyRSKwa",
        "outputId": "8fb39ca2-d20b-46bf-d0d3-7ce5f09a5612",
        "colab": {
          "base_uri": "https://localhost:8080/"
        }
      },
      "source": [
        "range(3)\n",
        "#range(2,9)\n",
        "#range(2,27,8)"
      ],
      "execution_count": 100,
      "outputs": [
        {
          "output_type": "execute_result",
          "data": {
            "text/plain": [
              "range(0, 3)"
            ]
          },
          "metadata": {},
          "execution_count": 100
        }
      ]
    },
    {
      "cell_type": "code",
      "metadata": {
        "id": "P8sQo10fSKwc",
        "outputId": "fc692750-111a-4ee6-9164-7b7f0ee0c6e8",
        "colab": {
          "base_uri": "https://localhost:8080/"
        }
      },
      "source": [
        "type(range(3))"
      ],
      "execution_count": 101,
      "outputs": [
        {
          "output_type": "execute_result",
          "data": {
            "text/plain": [
              "range"
            ]
          },
          "metadata": {},
          "execution_count": 101
        }
      ]
    },
    {
      "cell_type": "code",
      "metadata": {
        "id": "gxdfofgdSKwe",
        "outputId": "fad1cd18-d34a-4962-9697-2ec5ed733577",
        "colab": {
          "base_uri": "https://localhost:8080/"
        }
      },
      "source": [
        "len(range(3))"
      ],
      "execution_count": 102,
      "outputs": [
        {
          "output_type": "execute_result",
          "data": {
            "text/plain": [
              "3"
            ]
          },
          "metadata": {},
          "execution_count": 102
        }
      ]
    },
    {
      "cell_type": "code",
      "metadata": {
        "id": "qUeUbkiaSKwi",
        "outputId": "545cf130-2b5b-47b2-adba-2c36817d10da",
        "colab": {
          "base_uri": "https://localhost:8080/"
        }
      },
      "source": [
        "# Guardemos el resultado de range en una variable\n",
        "r = range(2,9)\n",
        "r"
      ],
      "execution_count": 103,
      "outputs": [
        {
          "output_type": "execute_result",
          "data": {
            "text/plain": [
              "range(2, 9)"
            ]
          },
          "metadata": {},
          "execution_count": 103
        }
      ]
    },
    {
      "cell_type": "code",
      "metadata": {
        "id": "d85QmjSsSKwk",
        "outputId": "4aec3aef-9fa3-40d1-854b-6bcba3acbaf4",
        "colab": {
          "base_uri": "https://localhost:8080/"
        }
      },
      "source": [
        "# Verifiquemos el tipo\n",
        "type(r)"
      ],
      "execution_count": 104,
      "outputs": [
        {
          "output_type": "execute_result",
          "data": {
            "text/plain": [
              "range"
            ]
          },
          "metadata": {},
          "execution_count": 104
        }
      ]
    },
    {
      "cell_type": "markdown",
      "metadata": {
        "id": "z2sxrl4NSKwu"
      },
      "source": [
        "**`help()`**<br>\n",
        "La función `help()` nos entrega una descripción detallada del objeto pasado como argumento."
      ]
    },
    {
      "cell_type": "markdown",
      "metadata": {
        "id": "lX8Pc55LSKwz"
      },
      "source": [
        "## <font color='blue'>**Guía de estilos para el código de Python**</font>"
      ]
    },
    {
      "cell_type": "markdown",
      "metadata": {
        "id": "Uubr3gOe45dD"
      },
      "source": [
        "# **Introducción a Python**\n",
        "# FP02. Imprimiendo"
      ]
    },
    {
      "cell_type": "markdown",
      "metadata": {
        "id": "A_HrwolY45dH"
      },
      "source": [
        "## <font color='blue'>**La función `print()`**</font>"
      ]
    },
    {
      "cell_type": "code",
      "metadata": {
        "id": "AFE_Aq-S45dH",
        "outputId": "a08eeb28-e85e-4cee-fcb2-1deabd74fbcd",
        "colab": {
          "base_uri": "https://localhost:8080/"
        }
      },
      "source": [
        "print(\"Hello World\")"
      ],
      "execution_count": 105,
      "outputs": [
        {
          "output_type": "stream",
          "name": "stdout",
          "text": [
            "Hello World\n"
          ]
        }
      ]
    },
    {
      "cell_type": "code",
      "source": [
        "## from google.colab import drive\n",
        "## drive.mount('/content/drive')"
      ],
      "metadata": {
        "id": "NP6DnqDUg8xY"
      },
      "execution_count": 106,
      "outputs": []
    },
    {
      "cell_type": "markdown",
      "metadata": {
        "id": "iuQxBj0-45dJ"
      },
      "source": [
        "<div class=\"alert alert-block alert-warning\">\n",
        "<b>TIP: </b>En Python, las comillas simples, dobles y triples se utilizan para denotar una cadena o _string_. <br>\n",
        "La mayoría usa comillas simples al declarar un solo carácter. <br>\n",
        "Comillas dobles al declarar una línea y ... <br>\n",
        "Comillas triples al declarar un párrafo / varias líneas.\n",
        "</div>\n",
        "\n"
      ]
    },
    {
      "cell_type": "code",
      "metadata": {
        "id": "yG9KoimR45dK",
        "outputId": "5e9cf6a0-866e-4a3c-9cf0-c5afd028daf1",
        "colab": {
          "base_uri": "https://localhost:8080/"
        }
      },
      "source": [
        "print('A')"
      ],
      "execution_count": 107,
      "outputs": [
        {
          "output_type": "stream",
          "name": "stdout",
          "text": [
            "A\n"
          ]
        }
      ]
    },
    {
      "cell_type": "code",
      "metadata": {
        "id": "JPCF9aOd45dK",
        "outputId": "20ccbf07-7bd6-4cc8-ee0f-1b01dc96c0a1",
        "colab": {
          "base_uri": "https://localhost:8080/"
        }
      },
      "source": [
        "print(\"Hello World\")"
      ],
      "execution_count": 108,
      "outputs": [
        {
          "output_type": "stream",
          "name": "stdout",
          "text": [
            "Hello World\n"
          ]
        }
      ]
    },
    {
      "cell_type": "code",
      "metadata": {
        "id": "ltpG5eD-45dL",
        "outputId": "2beceb17-3f6f-4d3b-eedf-65996824700a",
        "colab": {
          "base_uri": "https://localhost:8080/"
        }
      },
      "source": [
        "print (\"\"\"My name is <Manuel> and\n",
        "\n",
        "I love Python.\"\"\")"
      ],
      "execution_count": 109,
      "outputs": [
        {
          "output_type": "stream",
          "name": "stdout",
          "text": [
            "My name is <Manuel> and\n",
            "\n",
            "I love Python.\n"
          ]
        }
      ]
    },
    {
      "cell_type": "markdown",
      "metadata": {
        "id": "e047uSG145dM"
      },
      "source": [
        "Las cadenas se pueden asignar a una variable, por ejemplo, _string1_ y _string2_, las cuales se pueden llamar cuando se usa la función de impresión."
      ]
    },
    {
      "cell_type": "code",
      "metadata": {
        "scrolled": true,
        "id": "vihFnQz945dM",
        "outputId": "10437426-143d-44fb-883a-0f96f11593d5",
        "colab": {
          "base_uri": "https://localhost:8080/"
        }
      },
      "source": [
        "string1 = 'World'\n",
        "print('Hello', string1)\n",
        "\n",
        "string2 = '!'\n",
        "print('Hello', string1, string2)"
      ],
      "execution_count": 110,
      "outputs": [
        {
          "output_type": "stream",
          "name": "stdout",
          "text": [
            "Hello World\n",
            "Hello World !\n"
          ]
        }
      ]
    },
    {
      "cell_type": "markdown",
      "metadata": {
        "id": "4Jvw7PGO45dN"
      },
      "source": [
        "La concatenación de cadenas es la \"suma\" de dos cadenas. Observe que durante la concatenación no habrá espacio entre las dos cadenas o strings."
      ]
    },
    {
      "cell_type": "code",
      "metadata": {
        "id": "FtmHxu-A45dN",
        "outputId": "7fffc469-1ba7-4c23-b8db-070167ecfccd",
        "colab": {
          "base_uri": "https://localhost:8080/"
        }
      },
      "source": [
        "print('Hello' + \" \"+ string1 + string2)"
      ],
      "execution_count": 111,
      "outputs": [
        {
          "output_type": "stream",
          "name": "stdout",
          "text": [
            "Hello World!\n"
          ]
        }
      ]
    },
    {
      "cell_type": "markdown",
      "metadata": {
        "id": "AArQn7sJ45dO"
      },
      "source": [
        "## <font color='blue'>**String formating (formateo)**</font>\n",
        "\n",
        "Hay varias opciones para formatear las salidas de la funcion `print()` en Python. Dos de ellas ya están obsoletas (`%-formating` y `str.format()`), y la tercera es la que actualmente se usa (`f-Strings`).\n",
        "\n",
        "Encontrarás mucho código con las formas antiguas, así es que debes aprenderlas también."
      ]
    },
    {
      "cell_type": "markdown",
      "metadata": {
        "id": "MAzKr1cG45dO"
      },
      "source": [
        "## <font color='blue'>**La vieja escuela**</font>"
      ]
    },
    {
      "cell_type": "markdown",
      "metadata": {
        "id": "L3D2jpmr45dP"
      },
      "source": [
        "## Opción 1: %-formatting (obsoleta)"
      ]
    },
    {
      "cell_type": "code",
      "metadata": {
        "id": "5xEADPNL45dP",
        "outputId": "f66ee347-1832-4291-aa74-a3dda008ba9b",
        "colab": {
          "base_uri": "https://localhost:8080/",
          "height": 35
        }
      },
      "source": [
        "nombre = \"Juan\"\n",
        "\"Hola, %s.\" % nombre"
      ],
      "execution_count": 112,
      "outputs": [
        {
          "output_type": "execute_result",
          "data": {
            "text/plain": [
              "'Hola, Juan.'"
            ],
            "application/vnd.google.colaboratory.intrinsic+json": {
              "type": "string"
            }
          },
          "metadata": {},
          "execution_count": 112
        }
      ]
    },
    {
      "cell_type": "code",
      "metadata": {
        "id": "dAl5XMMT45dP",
        "outputId": "bb672963-48b8-4d18-f3a1-8730114fb1bc",
        "colab": {
          "base_uri": "https://localhost:8080/",
          "height": 35
        }
      },
      "source": [
        "nombre = \"Juan\"\n",
        "edad = 34\n",
        "\n",
        "\"Hola, %s. Tú tienes %s años.\" % (nombre, edad)"
      ],
      "execution_count": 113,
      "outputs": [
        {
          "output_type": "execute_result",
          "data": {
            "text/plain": [
              "'Hola, Juan. Tú tienes 34 años.'"
            ],
            "application/vnd.google.colaboratory.intrinsic+json": {
              "type": "string"
            }
          },
          "metadata": {},
          "execution_count": 113
        }
      ]
    },
    {
      "cell_type": "markdown",
      "metadata": {
        "id": "lRYQwC0n45dQ"
      },
      "source": [
        "Esta lógica de formateo resultó ser muy verborreica (verbose) y propensa a errores"
      ]
    },
    {
      "cell_type": "code",
      "metadata": {
        "id": "sCo4GBKi45dR",
        "outputId": "1e10c568-e03b-4164-8042-ff6e846f8a7f",
        "colab": {
          "base_uri": "https://localhost:8080/",
          "height": 35
        }
      },
      "source": [
        "nombre = \"Juan\"\n",
        "apellido = \"Perez\"\n",
        "edad = 74\n",
        "profesion = \"comediante\"\n",
        "afiliacion = \"Monty Python\"\n",
        "\"Hola, %s %s. Tú tienes %s años. Eres un %s. Eres miembro de %s.\" % (nombre, apellido, edad, profesion, afiliacion)"
      ],
      "execution_count": 114,
      "outputs": [
        {
          "output_type": "execute_result",
          "data": {
            "text/plain": [
              "'Hola, Juan Perez. Tú tienes 74 años. Eres un comediante. Eres miembro de Monty Python.'"
            ],
            "application/vnd.google.colaboratory.intrinsic+json": {
              "type": "string"
            }
          },
          "metadata": {},
          "execution_count": 114
        }
      ]
    },
    {
      "cell_type": "markdown",
      "metadata": {
        "id": "yF6DlCXb45dR"
      },
      "source": [
        "## Opción 2: str.format() (obsoleta)\n",
        "\n",
        "En esta opción, se reemplazarán los campos marcados con corchetes { }"
      ]
    },
    {
      "cell_type": "code",
      "metadata": {
        "id": "15VpXNn145dS",
        "outputId": "0f58743e-4bb3-44fc-c553-ba9df156b1cf",
        "colab": {
          "base_uri": "https://localhost:8080/",
          "height": 35
        }
      },
      "source": [
        "# Podemos manejar la posición de las variables en el string de salida\n",
        "\"Hola, {}. Tu tienes {}.\".format(nombre, edad)"
      ],
      "execution_count": 115,
      "outputs": [
        {
          "output_type": "execute_result",
          "data": {
            "text/plain": [
              "'Hola, Juan. Tu tienes 74.'"
            ],
            "application/vnd.google.colaboratory.intrinsic+json": {
              "type": "string"
            }
          },
          "metadata": {},
          "execution_count": 115
        }
      ]
    },
    {
      "cell_type": "code",
      "metadata": {
        "id": "glQhCJYb45dS",
        "outputId": "15d51074-554a-401c-cc0a-ccac0e5a082e",
        "colab": {
          "base_uri": "https://localhost:8080/",
          "height": 35
        }
      },
      "source": [
        "\"Hola, {1}. Tu tienes {0}.\".format(edad, nombre)"
      ],
      "execution_count": 116,
      "outputs": [
        {
          "output_type": "execute_result",
          "data": {
            "text/plain": [
              "'Hola, Juan. Tu tienes 74.'"
            ],
            "application/vnd.google.colaboratory.intrinsic+json": {
              "type": "string"
            }
          },
          "metadata": {},
          "execution_count": 116
        }
      ]
    },
    {
      "cell_type": "markdown",
      "metadata": {
        "id": "deOGmZTA45dS"
      },
      "source": [
        "Podemos utilizar otras notaciones numéricas durante el formateo\n",
        "\n",
        "    - %s -> string\n",
        "    - %d -> Integer\n",
        "    - %f -> Float\n",
        "    - %o -> Octal\n",
        "    - %x -> Hexadecimal\n",
        "    - %e -> exponential\n",
        "    \n",
        "Pueden ser utilizados dentro de la función `print()` para convertir los tipos de datos."
      ]
    },
    {
      "cell_type": "code",
      "metadata": {
        "id": "dFV7piGs45dT",
        "outputId": "8224f915-fbd8-4a27-8558-23871bbf16dd",
        "colab": {
          "base_uri": "https://localhost:8080/"
        }
      },
      "source": [
        "# Utilizando la Opción 1\n",
        "\n",
        "print (\"Actual Number = %d\" %18)\n",
        "print (\"Float of the number = %f\" %18)\n",
        "print (\"Octal equivalent of the number = %o\" %18)\n",
        "print (\"Hexadecimal equivalent of the number = %x\" %18)\n",
        "print (\"Exponential equivalent of the number = %e\" %18)"
      ],
      "execution_count": 117,
      "outputs": [
        {
          "output_type": "stream",
          "name": "stdout",
          "text": [
            "Actual Number = 18\n",
            "Float of the number = 18.000000\n",
            "Octal equivalent of the number = 22\n",
            "Hexadecimal equivalent of the number = 12\n",
            "Exponential equivalent of the number = 1.800000e+01\n"
          ]
        }
      ]
    },
    {
      "cell_type": "code",
      "metadata": {
        "id": "P5kAaN3w45dT",
        "outputId": "8356fd93-2972-429d-b0fd-384e285d4363",
        "colab": {
          "base_uri": "https://localhost:8080/"
        }
      },
      "source": [
        "# Utilizando la opción 2\n",
        "\n",
        "print (\"Actual Number = {:d}\".format(18))\n",
        "print (\"Float of the number = {:f}\".format(18))\n",
        "print (\"Octal equivalent of the number = {:o}\".format(18))\n",
        "print (\"Hexadecimal equivalent of the number = {:x}\".format(18))\n",
        "print (\"Exponential equivalent of the number = {:e}\".format(18))"
      ],
      "execution_count": 118,
      "outputs": [
        {
          "output_type": "stream",
          "name": "stdout",
          "text": [
            "Actual Number = 18\n",
            "Float of the number = 18.000000\n",
            "Octal equivalent of the number = 22\n",
            "Hexadecimal equivalent of the number = 12\n",
            "Exponential equivalent of the number = 1.800000e+01\n"
          ]
        }
      ]
    },
    {
      "cell_type": "markdown",
      "metadata": {
        "id": "MmRYYFzW45dT"
      },
      "source": [
        "\n",
        "Veamos distintas formas de integrar `print()`con `format()`.<br>\n",
        "Analiza y y comenta las diferentes salidas."
      ]
    },
    {
      "cell_type": "code",
      "metadata": {
        "id": "ghkdb3mP45dT",
        "outputId": "f9514072-fb9e-405f-b5f5-89139bf92448",
        "colab": {
          "base_uri": "https://localhost:8080/"
        }
      },
      "source": [
        "print('1.  {1} {0}'.format('one', 'two'))\n",
        "# Alineación a la derecha\n",
        "print('2.  {:>10}'.format('test'))\n",
        "# Alineación izquierda (por defecto)\n",
        "print('3.  {:10}'.format('test'))\n",
        "# numeros\n",
        "print('4.  {:d}'.format(42))\n",
        "# Cantidad de decimales por defecto\n",
        "print('5.  {:f}'.format(3.141592653589793))\n",
        "# padding\n",
        "print('6.  {:4d}'.format(42))\n",
        "# Completa con ceros a la izquierda un float,\n",
        "# 6 caracteres y dos decimales,\n",
        "# el punto se considera caracter\n",
        "print('7.  {:06.2f}'.format(3.141592653589793))\n",
        "# completa con ceros a la izquierda un entero\n",
        "print('8.  {:04d}'.format(42))\n",
        "print('9.  {: d}'.format((- 23)))\n",
        "# Asigna nombres a los elementos a imprimir\n",
        "# esto permite imprimir variables de forma directa\n",
        "print('10. {first} {last}'.format(first='Hello', last='world!'))\n"
      ],
      "execution_count": 119,
      "outputs": [
        {
          "output_type": "stream",
          "name": "stdout",
          "text": [
            "1.  two one\n",
            "2.        test\n",
            "3.  test      \n",
            "4.  42\n",
            "5.  3.141593\n",
            "6.    42\n",
            "7.  003.14\n",
            "8.  0042\n",
            "9.  -23\n",
            "10. Hello world!\n"
          ]
        }
      ]
    },
    {
      "cell_type": "markdown",
      "metadata": {
        "id": "qKfxMdz645dU"
      },
      "source": [
        "### Otros ejemplos"
      ]
    },
    {
      "cell_type": "markdown",
      "metadata": {
        "id": "8tiUa9F345dU"
      },
      "source": [
        "Las siguientes son otras formas diferentes de utilizar la declaración de impresión."
      ]
    },
    {
      "cell_type": "code",
      "metadata": {
        "id": "AfsWhCYM45dU",
        "outputId": "d50f4cbb-bf25-4ee9-b5cc-b2ef719bd5d0",
        "colab": {
          "base_uri": "https://localhost:8080/"
        }
      },
      "source": [
        "print (\"I want to be printed {:s}\".format('here'))"
      ],
      "execution_count": 120,
      "outputs": [
        {
          "output_type": "stream",
          "name": "stdout",
          "text": [
            "I want to be printed here\n"
          ]
        }
      ]
    },
    {
      "cell_type": "code",
      "metadata": {
        "id": "sjKPBLnJ45dU",
        "outputId": "1d0c4e7f-0266-4d15-c652-10597fba6312",
        "colab": {
          "base_uri": "https://localhost:8080/"
        }
      },
      "source": [
        "print('_A'*10)"
      ],
      "execution_count": 121,
      "outputs": [
        {
          "output_type": "stream",
          "name": "stdout",
          "text": [
            "_A_A_A_A_A_A_A_A_A_A\n"
          ]
        }
      ]
    },
    {
      "cell_type": "code",
      "metadata": {
        "id": "_otIYuEJ45dV",
        "outputId": "42412b45-308b-47c6-a012-a74560048992",
        "colab": {
          "base_uri": "https://localhost:8080/"
        }
      },
      "source": [
        "# Con el caracter de control \\n saltamos una línea\n",
        "print(\"Jan\\nFeb\\nMar\\nApr\\nMay\\nJun\\nJul\\nAug\")"
      ],
      "execution_count": 122,
      "outputs": [
        {
          "output_type": "stream",
          "name": "stdout",
          "text": [
            "Jan\n",
            "Feb\n",
            "Mar\n",
            "Apr\n",
            "May\n",
            "Jun\n",
            "Jul\n",
            "Aug\n"
          ]
        }
      ]
    },
    {
      "cell_type": "code",
      "metadata": {
        "id": "ZMcReAnP45dV",
        "outputId": "9e246af4-aba2-4fbc-db0b-8d12f2735f83",
        "colab": {
          "base_uri": "https://localhost:8080/"
        }
      },
      "source": [
        "# Si queremos imprimir el caracter \\n sin saltar línea diplicamos el backslash\n",
        "print(\"I want \\\\n to be printed.\")"
      ],
      "execution_count": 123,
      "outputs": [
        {
          "output_type": "stream",
          "name": "stdout",
          "text": [
            "I want \\n to be printed.\n"
          ]
        }
      ]
    },
    {
      "cell_type": "code",
      "metadata": {
        "id": "nZDKHWkV45dV",
        "outputId": "b2c2a33b-3947-4bcb-b0af-e06817ae2ef6",
        "colab": {
          "base_uri": "https://localhost:8080/"
        }
      },
      "source": [
        "# Con \\t generamos una tabulación\n",
        "print(\"Look\\twhat\\thappens.\")"
      ],
      "execution_count": 124,
      "outputs": [
        {
          "output_type": "stream",
          "name": "stdout",
          "text": [
            "Look\twhat\thappens.\n"
          ]
        }
      ]
    },
    {
      "cell_type": "code",
      "metadata": {
        "id": "QzrtJxJn45dV",
        "outputId": "30ed6c83-31dd-47d5-ca48-8360bb5cfe05",
        "colab": {
          "base_uri": "https://localhost:8080/"
        }
      },
      "source": [
        "print(\"\"\"\n",
        "Routine:\n",
        "\\t- Eat\n",
        "\\t- Sleep\\n\\t- Repeat\n",
        "\"\"\")"
      ],
      "execution_count": 125,
      "outputs": [
        {
          "output_type": "stream",
          "name": "stdout",
          "text": [
            "\n",
            "Routine:\n",
            "\t- Eat\n",
            "\t- Sleep\n",
            "\t- Repeat\n",
            "\n"
          ]
        }
      ]
    },
    {
      "cell_type": "markdown",
      "metadata": {
        "id": "H8wbB6al45dW"
      },
      "source": [
        "### Manejando la precisión y la cantidad de números a mostrar"
      ]
    },
    {
      "cell_type": "markdown",
      "metadata": {
        "id": "A0RfHiOr45dW"
      },
      "source": [
        "El ancho del campo es el ancho del número completo y la precisión es el ancho hacia la derecha desde el punto decimal. Se pueden modificar estos anchos según los requisitos.\n",
        "\n",
        "El ancho de precisión predeterminado se establece en 6."
      ]
    },
    {
      "cell_type": "code",
      "metadata": {
        "id": "eOU4ps6R45dW",
        "outputId": "2e8fff04-9436-4fea-cf93-1700c80f005d",
        "colab": {
          "base_uri": "https://localhost:8080/",
          "height": 35
        }
      },
      "source": [
        "# predeterminado = 6\n",
        "\"%f\" % 3.121312312312"
      ],
      "execution_count": 126,
      "outputs": [
        {
          "output_type": "execute_result",
          "data": {
            "text/plain": [
              "'3.121312'"
            ],
            "application/vnd.google.colaboratory.intrinsic+json": {
              "type": "string"
            }
          },
          "metadata": {},
          "execution_count": 126
        }
      ]
    },
    {
      "cell_type": "markdown",
      "metadata": {
        "id": "ChP1QMM_45dW"
      },
      "source": [
        "Observa que se devuelven hasta 6 decimales. Para especificar el número de decimales, se utiliza\n",
        "\n",
        "`\"%(fieldwidth).(precisionwidth)f\"`"
      ]
    },
    {
      "cell_type": "code",
      "metadata": {
        "id": "6DSruVUL45dW",
        "outputId": "42176bc5-d1ba-4e24-e065-f28e0f344ff6",
        "colab": {
          "base_uri": "https://localhost:8080/",
          "height": 35
        }
      },
      "source": [
        "\"%.5f\" % 3.121312312312"
      ],
      "execution_count": 127,
      "outputs": [
        {
          "output_type": "execute_result",
          "data": {
            "text/plain": [
              "'3.12131'"
            ],
            "application/vnd.google.colaboratory.intrinsic+json": {
              "type": "string"
            }
          },
          "metadata": {},
          "execution_count": 127
        }
      ]
    },
    {
      "cell_type": "markdown",
      "metadata": {
        "id": "cwmh6wbu45dW"
      },
      "source": [
        "### Lo mismo pero usando la opción 2 con str.format()\n",
        "Cuál es la diferencia?\n",
        "\n",
        "TIP: busca en los pequeños detalles"
      ]
    },
    {
      "cell_type": "code",
      "metadata": {
        "id": "Ts_y2LQ_45dW",
        "outputId": "881fe8e7-5ea9-420d-f2a6-5b113f9360e2",
        "colab": {
          "base_uri": "https://localhost:8080/"
        }
      },
      "source": [
        "print(\"{:.5f}\".format(3.121312312312))"
      ],
      "execution_count": 128,
      "outputs": [
        {
          "output_type": "stream",
          "name": "stdout",
          "text": [
            "3.12131\n"
          ]
        }
      ]
    },
    {
      "cell_type": "code",
      "metadata": {
        "id": "vylv688g45dX",
        "outputId": "b2046e02-8608-40bd-e8e5-0006d909d7f4",
        "colab": {
          "base_uri": "https://localhost:8080/"
        }
      },
      "source": [
        "type(\"%.5f\" % 3.121312312312)"
      ],
      "execution_count": 129,
      "outputs": [
        {
          "output_type": "execute_result",
          "data": {
            "text/plain": [
              "str"
            ]
          },
          "metadata": {},
          "execution_count": 129
        }
      ]
    },
    {
      "cell_type": "code",
      "metadata": {
        "id": "HfpEhviH45dX",
        "outputId": "b409aeb2-0d83-4f65-a4d3-85384e1110e1",
        "colab": {
          "base_uri": "https://localhost:8080/"
        }
      },
      "source": [
        "type(print(\"{:.5f}\".format(3.121312312312)))"
      ],
      "execution_count": 130,
      "outputs": [
        {
          "output_type": "stream",
          "name": "stdout",
          "text": [
            "3.12131\n"
          ]
        },
        {
          "output_type": "execute_result",
          "data": {
            "text/plain": [
              "NoneType"
            ]
          },
          "metadata": {},
          "execution_count": 130
        }
      ]
    },
    {
      "cell_type": "markdown",
      "metadata": {
        "id": "Y_WrASVB45dX"
      },
      "source": [
        "Si el ancho del campo se establece más de lo necesario, los datos a la derecha se alinean para ajustarse a los valores especificados."
      ]
    },
    {
      "cell_type": "code",
      "metadata": {
        "id": "7BC2DMLA45dX",
        "outputId": "40d7e8d2-6335-441d-9915-ec685bdcea3c",
        "colab": {
          "base_uri": "https://localhost:8080/",
          "height": 35
        }
      },
      "source": [
        "\"%9.5f\" % 3.121312312312"
      ],
      "execution_count": 131,
      "outputs": [
        {
          "output_type": "execute_result",
          "data": {
            "text/plain": [
              "'  3.12131'"
            ],
            "application/vnd.google.colaboratory.intrinsic+json": {
              "type": "string"
            }
          },
          "metadata": {},
          "execution_count": 131
        }
      ]
    },
    {
      "cell_type": "markdown",
      "metadata": {
        "id": "42TMoWfU45dY"
      },
      "source": [
        "## Alineación\n",
        "Para una alineación adecuada, se puede dejar un espacio en blanco en el ancho del campo para que cuando se use un número negativo, se mantenga la alineación adecuada."
      ]
    },
    {
      "cell_type": "code",
      "metadata": {
        "id": "rz_OGeb_45dY",
        "outputId": "30374046-e1ae-4e82-959b-f554cc272825",
        "colab": {
          "base_uri": "https://localhost:8080/"
        }
      },
      "source": [
        "print(\"{:10f}\".format(3.121312312312)) # Recuerda que por defecto imprimira 6 decimales\n",
        "print(\"{:10f}\".format(-3.121312312312))\n",
        "print(\"{: 9f}\".format(-3.121312312312))"
      ],
      "execution_count": 132,
      "outputs": [
        {
          "output_type": "stream",
          "name": "stdout",
          "text": [
            "  3.121312\n",
            " -3.121312\n",
            "-3.121312\n"
          ]
        }
      ]
    },
    {
      "cell_type": "markdown",
      "metadata": {
        "id": "RaPrgRuy45dY"
      },
      "source": [
        "Como se mencionó anteriormente, los datos a la derecha se alinean cuando el ancho del campo mencionado es mayor que el ancho del campo real. Pero la alineación a la izquierda se puede hacer especificando un símbolo negativo en el ancho del campo."
      ]
    },
    {
      "cell_type": "markdown",
      "metadata": {
        "id": "erOoFE9b45dZ"
      },
      "source": [
        "## <font color='blue'>**La nueva escuela**</font>"
      ]
    },
    {
      "cell_type": "markdown",
      "metadata": {
        "id": "fSmtBxN845dZ"
      },
      "source": [
        "## Opción 3: `f-strings` (vigente)"
      ]
    },
    {
      "cell_type": "markdown",
      "metadata": {
        "id": "89yCyAlw45dZ"
      },
      "source": [
        "La sintaxis es similar a la que usó con `str.format()` pero menos detallada (verbose). Mira lo fácil de leer que es:"
      ]
    },
    {
      "cell_type": "code",
      "metadata": {
        "id": "SjMfGAH345dZ",
        "outputId": "e0397237-95b6-4c24-d683-5a13e196d650",
        "colab": {
          "base_uri": "https://localhost:8080/",
          "height": 35
        }
      },
      "source": [
        "nombre = \"Pedro\"\n",
        "edad = 42\n",
        "f\"Hola, {nombre}. Tu tienes {edad} años.\""
      ],
      "execution_count": 133,
      "outputs": [
        {
          "output_type": "execute_result",
          "data": {
            "text/plain": [
              "'Hola, Pedro. Tu tienes 42 años.'"
            ],
            "application/vnd.google.colaboratory.intrinsic+json": {
              "type": "string"
            }
          },
          "metadata": {},
          "execution_count": 133
        }
      ]
    },
    {
      "cell_type": "code",
      "source": [],
      "metadata": {
        "id": "2buErKduSVSo"
      },
      "execution_count": 133,
      "outputs": []
    },
    {
      "cell_type": "code",
      "metadata": {
        "id": "w1jx-nLC45da",
        "outputId": "40954f30-cc4a-4f7f-92fa-2332407f19d6",
        "colab": {
          "base_uri": "https://localhost:8080/",
          "height": 35
        }
      },
      "source": [
        "# la f puede ser mayúscula tambien\n",
        "F\"Hola, {nombre}. Tu tienes {edad} años.\""
      ],
      "execution_count": 134,
      "outputs": [
        {
          "output_type": "execute_result",
          "data": {
            "text/plain": [
              "'Hola, Pedro. Tu tienes 42 años.'"
            ],
            "application/vnd.google.colaboratory.intrinsic+json": {
              "type": "string"
            }
          },
          "metadata": {},
          "execution_count": 134
        }
      ]
    },
    {
      "cell_type": "markdown",
      "metadata": {
        "id": "IQkBGWG045da"
      },
      "source": [
        "Los f-strings pueden evaluar operaciones en su interior"
      ]
    },
    {
      "cell_type": "code",
      "metadata": {
        "id": "XdYJ7FZk45da",
        "outputId": "dad2d087-aa79-474c-8e5f-d327aef5ee95",
        "colab": {
          "base_uri": "https://localhost:8080/",
          "height": 35
        }
      },
      "source": [
        "f'{2 * 8}'"
      ],
      "execution_count": 135,
      "outputs": [
        {
          "output_type": "execute_result",
          "data": {
            "text/plain": [
              "'16'"
            ],
            "application/vnd.google.colaboratory.intrinsic+json": {
              "type": "string"
            }
          },
          "metadata": {},
          "execution_count": 135
        }
      ]
    },
    {
      "cell_type": "code",
      "metadata": {
        "id": "QlUyUA2N45da",
        "outputId": "aa547f02-6fe7-4f54-96e5-f54e49e456bb",
        "colab": {
          "base_uri": "https://localhost:8080/",
          "height": 35
        }
      },
      "source": [
        "f'{2} x {8} = {2 * 8}'"
      ],
      "execution_count": 136,
      "outputs": [
        {
          "output_type": "execute_result",
          "data": {
            "text/plain": [
              "'2 x 8 = 16'"
            ],
            "application/vnd.google.colaboratory.intrinsic+json": {
              "type": "string"
            }
          },
          "metadata": {},
          "execution_count": 136
        }
      ]
    },
    {
      "cell_type": "code",
      "source": [],
      "metadata": {
        "id": "0RM7H-is00Pg"
      },
      "execution_count": 136,
      "outputs": []
    },
    {
      "cell_type": "code",
      "metadata": {
        "id": "49dfacea",
        "outputId": "eea79309-85dd-4a2e-ba42-afd8b031f393",
        "colab": {
          "base_uri": "https://localhost:8080/"
        }
      },
      "source": [
        "# Define nombre2 and edad2\n",
        "nombre2 = \"Maria\"\n",
        "edad2 = 30\n",
        "\n",
        "# Igual que antes, si queremos imprimier más de una sentencia, deberemos usar la función print()\n",
        "print(F\"Hola, {nombre}. Tu tienes {edad} años.\")\n",
        "print(F\"Hola, {nombre2}. Tu tienes {edad2} años.\")"
      ],
      "execution_count": 137,
      "outputs": [
        {
          "output_type": "stream",
          "name": "stdout",
          "text": [
            "Hola, Pedro. Tu tienes 42 años.\n",
            "Hola, Maria. Tu tienes 30 años.\n"
          ]
        }
      ]
    },
    {
      "cell_type": "code",
      "metadata": {
        "id": "BeZLJnht45da",
        "outputId": "07ee15b8-ff69-446c-e943-83493b01c120",
        "colab": {
          "base_uri": "https://localhost:8080/"
        }
      },
      "source": [
        "print(F\"Hola, {nombre}. Tu tienes {edad} años.\")\n",
        "print(F\"Hola, {nombre2}. Tu tienes {edad2} años.\")"
      ],
      "execution_count": 138,
      "outputs": [
        {
          "output_type": "stream",
          "name": "stdout",
          "text": [
            "Hola, Pedro. Tu tienes 42 años.\n",
            "Hola, Maria. Tu tienes 30 años.\n"
          ]
        }
      ]
    },
    {
      "cell_type": "code",
      "metadata": {
        "id": "H1q42gza45db",
        "outputId": "b86c40b6-52a5-4df9-e3dc-de6a0cdd3397",
        "colab": {
          "base_uri": "https://localhost:8080/"
        }
      },
      "source": [
        "mensaje = (\n",
        "    F\"Hola, {nombre}. Tu tienes {edad} años. \\n\"\n",
        "    F\"Hola, {nombre2}. Tu tienes {edad2} años.\"\n",
        ")\n",
        "print(mensaje)"
      ],
      "execution_count": 139,
      "outputs": [
        {
          "output_type": "stream",
          "name": "stdout",
          "text": [
            "Hola, Pedro. Tu tienes 42 años. \n",
            "Hola, Maria. Tu tienes 30 años.\n"
          ]
        }
      ]
    },
    {
      "cell_type": "code",
      "metadata": {
        "id": "KChdbV2A45db",
        "outputId": "841300ba-ad5b-46dd-b0da-21fbbd98710b",
        "colab": {
          "base_uri": "https://localhost:8080/"
        }
      },
      "source": [
        "# Otras notaciones numéricas utilizando la Opción 3\n",
        "val = 18\n",
        "print (f\"Actual Number = {val: d}\")\n",
        "print (f\"Float of the number = {val: f}\")\n",
        "print (f\"Octal equivalent of the number = {val :o}\")\n",
        "print (f\"Hexadecimal equivalent of the number = {val :x}\")\n",
        "print (f\"Exponential equivalent of the number = {val :e}\")"
      ],
      "execution_count": 140,
      "outputs": [
        {
          "output_type": "stream",
          "name": "stdout",
          "text": [
            "Actual Number =  18\n",
            "Float of the number =  18.000000\n",
            "Octal equivalent of the number = 22\n",
            "Hexadecimal equivalent of the number = 12\n",
            "Exponential equivalent of the number = 1.800000e+01\n"
          ]
        }
      ]
    },
    {
      "cell_type": "markdown",
      "metadata": {
        "id": "24o2fHbE45db"
      },
      "source": [
        "### Manejando la precisión y la cantidad de números a mostrar"
      ]
    },
    {
      "cell_type": "code",
      "metadata": {
        "id": "4rs5fxEV45db",
        "outputId": "1b0632ac-8f3f-483f-9411-15c4d12efffa",
        "colab": {
          "base_uri": "https://localhost:8080/"
        }
      },
      "source": [
        "val2 = 3.121312312312\n",
        "print(f\"{val2:.2f}\")\n",
        "print(f\"{val2:.5f}\")\n",
        "print(f\"{val2:8.5f}\")\n",
        "print(f\"{val2:09.5f}\")"
      ],
      "execution_count": 141,
      "outputs": [
        {
          "output_type": "stream",
          "name": "stdout",
          "text": [
            "3.12\n",
            "3.12131\n",
            " 3.12131\n",
            "003.12131\n"
          ]
        }
      ]
    },
    {
      "cell_type": "markdown",
      "metadata": {
        "id": "pkUfuLRl45db"
      },
      "source": [
        "### Justificando y manejo de ancho con f-strings"
      ]
    },
    {
      "cell_type": "code",
      "metadata": {
        "id": "Sd6wTu3O45db",
        "outputId": "86a4ede5-563d-40ce-dd78-59c96098d39c",
        "colab": {
          "base_uri": "https://localhost:8080/"
        }
      },
      "source": [
        "s1 = 'a'\n",
        "s2 = 'ab'\n",
        "s3 = 'abc'\n",
        "s4 = 'abcd'\n",
        "\n",
        "print(f'{s1:>10}')\n",
        "print(f'{s2:>10}')\n",
        "print(f'{s3:>10}')\n",
        "print(f'{s4:>10}')"
      ],
      "execution_count": 142,
      "outputs": [
        {
          "output_type": "stream",
          "name": "stdout",
          "text": [
            "         a\n",
            "        ab\n",
            "       abc\n",
            "      abcd\n"
          ]
        }
      ]
    },
    {
      "cell_type": "markdown",
      "metadata": {
        "id": "Dz5nWGxW45dc"
      },
      "source": [
        "## <font color='blue'>**Ingresando datos desde el teclado**</font>"
      ]
    },
    {
      "cell_type": "code",
      "metadata": {
        "id": "hilk0WYU45dc",
        "outputId": "8c868fde-f955-4def-9a69-41c1cc75b87a",
        "colab": {
          "base_uri": "https://localhost:8080/",
          "height": 53
        }
      },
      "source": [
        "input(\"Mi nombre es: \")"
      ],
      "execution_count": 143,
      "outputs": [
        {
          "name": "stdout",
          "output_type": "stream",
          "text": [
            "Mi nombre es: Nathalie\n"
          ]
        },
        {
          "output_type": "execute_result",
          "data": {
            "text/plain": [
              "'Nathalie'"
            ],
            "application/vnd.google.colaboratory.intrinsic+json": {
              "type": "string"
            }
          },
          "metadata": {},
          "execution_count": 143
        }
      ]
    },
    {
      "cell_type": "code",
      "source": [
        "chr(298)"
      ],
      "metadata": {
        "id": "z0WiRoyHI8FM",
        "outputId": "d4dc9a2a-8cf3-4984-8cd9-48da5e552346",
        "colab": {
          "base_uri": "https://localhost:8080/",
          "height": 35
        }
      },
      "execution_count": 144,
      "outputs": [
        {
          "output_type": "execute_result",
          "data": {
            "text/plain": [
              "'Ī'"
            ],
            "application/vnd.google.colaboratory.intrinsic+json": {
              "type": "string"
            }
          },
          "metadata": {},
          "execution_count": 144
        }
      ]
    },
    {
      "cell_type": "code",
      "metadata": {
        "id": "RWJjVHWo45dX",
        "outputId": "5bd247c9-8aa7-4c44-c8d0-c5d6fe6c83e2",
        "colab": {
          "base_uri": "https://localhost:8080/"
        }
      },
      "source": [
        "#1.\n",
        "import math\n",
        "pi = math.pi\n",
        "print (\"El valor de  Ī es  {:.5f}\".format(pi))\n",
        "\n"
      ],
      "execution_count": 145,
      "outputs": [
        {
          "output_type": "stream",
          "name": "stdout",
          "text": [
            "El valor de  Ī es  3.14159\n"
          ]
        }
      ]
    },
    {
      "cell_type": "code",
      "source": [
        "import math\n",
        "pi = math.pi\n",
        "print(f\"El valor de Ī es {pi}\")"
      ],
      "metadata": {
        "id": "80vDQkHpibZq",
        "outputId": "98c683b1-00f1-44ea-c72f-fcfb76c54069",
        "colab": {
          "base_uri": "https://localhost:8080/"
        }
      },
      "execution_count": 148,
      "outputs": [
        {
          "output_type": "stream",
          "name": "stdout",
          "text": [
            "El valor de Ī es 3.141592653589793\n"
          ]
        }
      ]
    },
    {
      "cell_type": "code",
      "source": [
        "# 5 decimales\n",
        "\n",
        "import math\n",
        "pi = math.pi\n",
        "print(f\"El valor de Ī es {pi:.5f}\")"
      ],
      "metadata": {
        "id": "UnDjUJchikGP",
        "outputId": "e0cc0810-7004-47c9-81a3-fd58e6793fbb",
        "colab": {
          "base_uri": "https://localhost:8080/"
        }
      },
      "execution_count": 149,
      "outputs": [
        {
          "output_type": "stream",
          "name": "stdout",
          "text": [
            "El valor de Ī es 3.14159\n"
          ]
        }
      ]
    },
    {
      "cell_type": "code",
      "metadata": {
        "id": "qQPetRRu45dY",
        "outputId": "a200e7d6-397c-4102-86cf-9b58884061b7",
        "colab": {
          "base_uri": "https://localhost:8080/"
        }
      },
      "source": [
        "# 2.\n",
        "value1= 1234.123\n",
        "value2=1.123\n",
        "print(f\"{value1:09.3f}\")\n",
        "print(f\"{value2:09.3f}\")\n"
      ],
      "execution_count": 146,
      "outputs": [
        {
          "output_type": "stream",
          "name": "stdout",
          "text": [
            "01234.123\n",
            "00001.123\n"
          ]
        }
      ]
    },
    {
      "cell_type": "markdown",
      "metadata": {
        "id": "5gpyMpvs45dZ"
      },
      "source": [
        "<font color='green'>Fin actividad 2</font>"
      ]
    },
    {
      "cell_type": "markdown",
      "metadata": {
        "id": "J-hRFyE945dc"
      },
      "source": [
        "<font color='green'>Fin actividad 3</font>"
      ]
    },
    {
      "cell_type": "markdown",
      "metadata": {
        "id": "5wnFNkbc45dc"
      },
      "source": [
        "## <font color='green'>Actividad 1:</font>\n",
        "### Almacena el dato ingresado en una variable\n",
        "Almacena su nombre en una variable\n",
        "\n",
        "TIP: utilice la función input()\n"
      ]
    },
    {
      "cell_type": "code",
      "metadata": {
        "id": "6YO-7g3b45dc",
        "outputId": "1134d9f6-306d-473a-e3b5-b477707f77ae",
        "colab": {
          "base_uri": "https://localhost:8080/"
        }
      },
      "source": [
        "# Tu código aquí ...\n",
        "mi_nombre= input(\"Mi nombre es: \")"
      ],
      "execution_count": 151,
      "outputs": [
        {
          "name": "stdout",
          "output_type": "stream",
          "text": [
            "Mi nombre es: Giselle\n"
          ]
        }
      ]
    },
    {
      "cell_type": "markdown",
      "metadata": {
        "id": "p_QdbBR_45dd"
      },
      "source": [
        "<font color='green'>Fin actividad |</font>"
      ]
    },
    {
      "cell_type": "markdown",
      "metadata": {
        "id": "2BZMFmFS45dd"
      },
      "source": [
        "## <font color='green'>Actividad 2:</font>\n",
        "### Escribe \"Hello world\" con tu nombre\n",
        "Escribe \"Hello world, \\<nombre\\>\" utilizando los tres métodos de formateo enseñados en la clase <br>\n",
        "\n",
        "TIP: utiliza la variable que contiene tu nombre<br>\n",
        "OUTPUT: \"Hello world, Andrés!!\""
      ]
    },
    {
      "cell_type": "code",
      "metadata": {
        "id": "SgqOnfuO45dd",
        "outputId": "8db9331f-7ab5-46c7-8a1c-28d3e1608e3c",
        "colab": {
          "base_uri": "https://localhost:8080/"
        }
      },
      "source": [
        "# Tu código aquí ...\n",
        "#1\n",
        "print(f\"Hello world, {mi_nombre}!!\")\n",
        "\n",
        "#2\n",
        "print(\"Hello world, {}!!\".format(mi_nombre))\n",
        "\n",
        "#3\n",
        "print(\"Hello world, %s!!\"%mi_nombre)\n"
      ],
      "execution_count": 152,
      "outputs": [
        {
          "output_type": "stream",
          "name": "stdout",
          "text": [
            "Hello world, Giselle!!\n",
            "Hello world, Giselle!!\n",
            "Hello world, Giselle!!\n"
          ]
        }
      ]
    },
    {
      "cell_type": "code",
      "source": [
        "# ALmacenar los string en variables y luego imprimirlos\n",
        "\n",
        "mi_nombre = \"Giselle\"\n",
        "\n",
        "#1. f-string\n",
        "mensaje1 = f\"Hello world, {mi_nombre}!!\"\n",
        "print(mensaje1)\n",
        "\n",
        "#2. format()\n",
        "mensaje2 = \"Hello world, {}!!\".format(mi_nombre)\n",
        "print(mensaje2)\n",
        "\n",
        "#3. operador % (estilo antiguo)\n",
        "mensaje3 = \"Hello world, %s!!\" % mi_nombre\n",
        "print(mensaje3)"
      ],
      "metadata": {
        "id": "wyOazAXBenUE",
        "outputId": "b8dc5b53-970c-4799-a692-9c1e3cc06309",
        "colab": {
          "base_uri": "https://localhost:8080/"
        }
      },
      "execution_count": 153,
      "outputs": [
        {
          "output_type": "stream",
          "name": "stdout",
          "text": [
            "Hello world, Giselle!!\n",
            "Hello world, Giselle!!\n",
            "Hello world, Giselle!!\n"
          ]
        }
      ]
    },
    {
      "cell_type": "code",
      "source": [
        "#Con la opción 2 de str.format()\n",
        "mi_nombre = \"Giselle\"\n",
        "\n",
        "# Usando str.format()\n",
        "mensaje = \"Hello world, {}!!\".format(mi_nombre)\n",
        "print(mensaje)"
      ],
      "metadata": {
        "id": "6EqA_PeqfvJj",
        "outputId": "5b1b8241-865c-4f68-8b8e-cafc4684f6c2",
        "colab": {
          "base_uri": "https://localhost:8080/"
        }
      },
      "execution_count": 154,
      "outputs": [
        {
          "output_type": "stream",
          "name": "stdout",
          "text": [
            "Hello world, Giselle!!\n"
          ]
        }
      ]
    },
    {
      "cell_type": "code",
      "source": [
        "#Con f.string()P\n",
        "mi_nombre = \"Giselle\"\n",
        "\n",
        "# Usando f-string\n",
        "mensaje = f\"Hello world, {mi_nombre}!!\"\n",
        "print(mensaje)"
      ],
      "metadata": {
        "id": "VIQqi3UFiASV",
        "outputId": "fcdf0472-e059-41c5-e3a3-6354ab71135c",
        "colab": {
          "base_uri": "https://localhost:8080/"
        }
      },
      "execution_count": 155,
      "outputs": [
        {
          "output_type": "stream",
          "name": "stdout",
          "text": [
            "Hello world, Giselle!!\n"
          ]
        }
      ]
    },
    {
      "cell_type": "code",
      "source": [],
      "metadata": {
        "id": "NPZCcV0ni6m-"
      },
      "execution_count": null,
      "outputs": []
    },
    {
      "cell_type": "markdown",
      "metadata": {
        "id": "7cXYTli5yoif"
      },
      "source": [
        "# **Introducción a Pyton**\n",
        "# FP03. Números en Python  \n",
        "\n",
        "En esta clase comenzaremos a discutir los conceptos básicos de trabajar con números en Python. Esto debería ser sencillo."
      ]
    },
    {
      "cell_type": "markdown",
      "metadata": {
        "id": "oC73jJiAyoih"
      },
      "source": [
        "## <font color='blue'>**Principales tipos de números**</font>\n",
        "\n",
        "Los `int` son números enteros. <br>Los `float` son números decimales (recuerda que en Python la parte decimal se delimita con un punto y NO con una coma)."
      ]
    },
    {
      "cell_type": "code",
      "execution_count": null,
      "metadata": {
        "id": "LWuh32APyoih"
      },
      "outputs": [],
      "source": [
        "100"
      ]
    },
    {
      "cell_type": "code",
      "execution_count": null,
      "metadata": {
        "id": "GMsGro4Kyoij"
      },
      "outputs": [],
      "source": [
        "type(100)"
      ]
    },
    {
      "cell_type": "code",
      "execution_count": null,
      "metadata": {
        "id": "PfeWqvePyoij"
      },
      "outputs": [],
      "source": [
        "1.25"
      ]
    },
    {
      "cell_type": "code",
      "execution_count": null,
      "metadata": {
        "id": "1-_Dvh2uyoij"
      },
      "outputs": [],
      "source": [
        "type(1.2)"
      ]
    },
    {
      "cell_type": "code",
      "execution_count": null,
      "metadata": {
        "id": "-dSLvrOQyoik"
      },
      "outputs": [],
      "source": [
        "type(100.0)"
      ]
    },
    {
      "cell_type": "code",
      "execution_count": null,
      "metadata": {
        "id": "B8m251Y2yoil"
      },
      "outputs": [],
      "source": [
        "type(100.)"
      ]
    },
    {
      "cell_type": "code",
      "execution_count": null,
      "metadata": {
        "id": "u4GovJlMyoil"
      },
      "outputs": [],
      "source": [
        "100 == 100.0"
      ]
    },
    {
      "cell_type": "code",
      "execution_count": null,
      "metadata": {
        "id": "ihnDSJC-yoim"
      },
      "outputs": [],
      "source": [
        "id(100) == id(100.0)"
      ]
    },
    {
      "cell_type": "markdown",
      "metadata": {
        "id": "OVo9hmeCyoim"
      },
      "source": [
        "## <font color='blue'>**Aritmética básica**</font>"
      ]
    },
    {
      "cell_type": "code",
      "execution_count": null,
      "metadata": {
        "id": "2uuDbMamyoim"
      },
      "outputs": [],
      "source": [
        "# Suma\n",
        "1 + 1"
      ]
    },
    {
      "cell_type": "code",
      "execution_count": null,
      "metadata": {
        "id": "UGEahjh4yoin"
      },
      "outputs": [],
      "source": [
        "# Resta\n",
        "2 - 1"
      ]
    },
    {
      "cell_type": "code",
      "execution_count": null,
      "metadata": {
        "id": "WyMoko6nyoin"
      },
      "outputs": [],
      "source": [
        "# Multiplicación\n",
        "2 * 2"
      ]
    },
    {
      "cell_type": "code",
      "execution_count": null,
      "metadata": {
        "id": "m8zJbrNKyoin"
      },
      "outputs": [],
      "source": [
        "# División\n",
        "3 / 2"
      ]
    },
    {
      "cell_type": "code",
      "execution_count": null,
      "metadata": {
        "id": "C9XC9Jmwyoio"
      },
      "outputs": [],
      "source": [
        "# Considera que la división siempre retorna floats\n",
        "1/1"
      ]
    },
    {
      "cell_type": "code",
      "execution_count": null,
      "metadata": {
        "id": "uhamwlfVyoio"
      },
      "outputs": [],
      "source": [
        "# Potencias\n",
        "2 ** 3"
      ]
    },
    {
      "cell_type": "code",
      "execution_count": null,
      "metadata": {
        "id": "nhLhZ6Nxyoio"
      },
      "outputs": [],
      "source": [
        "2 ** (1 / 2)"
      ]
    },
    {
      "cell_type": "markdown",
      "metadata": {
        "id": "VnpdFFWryoip"
      },
      "source": [
        "### Orden de las operaciones"
      ]
    },
    {
      "cell_type": "markdown",
      "metadata": {
        "id": "xJqy-3pmyoip"
      },
      "source": [
        "Al igual que ocurre en matemáticas, en programación también tenemos una prioridad en los operadores. Esto significa que si una expresión matemática es precedida por un operador y seguido de otro, el operador más alto en la lista debe ser aplicado por primera vez. Las expresiones con paréntesis se evalúan de dentro a fuera, el paréntesis más interno se evalúa primero. El orden normal de las operaciones es de izquierda a derecha, evaluando en orden los siguientes operadores:\n",
        "\n",
        "* Términos entre paréntesis.\n",
        "* Potenciación y raíces.\n",
        "* Multiplicación y división.\n",
        "* Suma y resta.\n",
        "\n",
        "En Python se representan los operadores con el siguiente orden:\n",
        "```\n",
        "( )\n",
        "**\n",
        "X, /, %, //\n",
        "+, -\n",
        "````"
      ]
    },
    {
      "cell_type": "code",
      "execution_count": null,
      "metadata": {
        "id": "Le1_qkOayoip"
      },
      "outputs": [],
      "source": [
        "# Orden de la operaciones\n",
        "1 + 2 * 1000 + 1"
      ]
    },
    {
      "cell_type": "code",
      "execution_count": null,
      "metadata": {
        "id": "aytYAw0zyoip"
      },
      "outputs": [],
      "source": [
        "# Python ejecuta priero los paréntesis\n",
        "(1 + 2) * (1000 + 1)"
      ]
    },
    {
      "cell_type": "code",
      "execution_count": null,
      "metadata": {
        "id": "CP2ICIIhyoip"
      },
      "outputs": [],
      "source": [
        "# Python primero la división y la multiplicación y luego la suma y la resta\n",
        "1 + 10 * 2"
      ]
    },
    {
      "cell_type": "code",
      "execution_count": null,
      "metadata": {
        "id": "NyJm5cTTyoiq"
      },
      "outputs": [],
      "source": [
        "# Pero al final del día, los paréntesis mandan\n",
        "(1 + 10) * 2"
      ]
    },
    {
      "cell_type": "markdown",
      "metadata": {
        "id": "GzqZOZhcyoiq"
      },
      "source": [
        "## <font color='blue'>**Asignando variables**</font>"
      ]
    },
    {
      "cell_type": "code",
      "execution_count": null,
      "metadata": {
        "id": "YX_sb1Layoiq"
      },
      "outputs": [],
      "source": [
        "a = 2.0"
      ]
    },
    {
      "cell_type": "code",
      "execution_count": null,
      "metadata": {
        "id": "dwbS5rG_yoir"
      },
      "outputs": [],
      "source": [
        "type(a)"
      ]
    },
    {
      "cell_type": "code",
      "execution_count": null,
      "metadata": {
        "id": "txX3st9Qyoir"
      },
      "outputs": [],
      "source": [
        "a + 3"
      ]
    },
    {
      "cell_type": "code",
      "execution_count": null,
      "metadata": {
        "id": "M_2yo-NFyoir"
      },
      "outputs": [],
      "source": [
        "b = 3"
      ]
    },
    {
      "cell_type": "code",
      "execution_count": null,
      "metadata": {
        "id": "ijwl32UMyoir"
      },
      "outputs": [],
      "source": [
        "a + b"
      ]
    },
    {
      "cell_type": "code",
      "execution_count": null,
      "metadata": {
        "id": "YRdWqOXLyoir"
      },
      "outputs": [],
      "source": [
        "print(f'El valor actual de a es {a}')\n",
        "\n",
        "# Reasignamos\n",
        "a = 1000\n",
        "\n",
        "print(f'El nuevo valor de a es {a}')"
      ]
    },
    {
      "cell_type": "code",
      "execution_count": null,
      "metadata": {
        "id": "l3BdmtvOyoir"
      },
      "outputs": [],
      "source": [
        "a + b"
      ]
    },
    {
      "cell_type": "markdown",
      "metadata": {
        "id": "a24QBdpYyoir"
      },
      "source": [
        "## <font color='blue'>**Python tipado dinámico**</font>\n",
        "\n",
        "Existen dos tipos de tipado:\n",
        "* Estático\n",
        "* Dinámico\n",
        "\n",
        "En los lenguajes estáticos, cuando declaramos una variable es necesario especificar el tipo que tiene y ese tipo es inalterable:\n",
        "```Javascript\n",
        "String nombre = 'Héctor'; // java\n",
        "```\n",
        "En cambio en lenguajes como Python no es necesario establecer un tipo y además puede cambiar en cualquier momento, eso es porque viene determinado en tiempo de ejecución por el valor asignado a la variable:"
      ]
    },
    {
      "cell_type": "code",
      "execution_count": null,
      "metadata": {
        "id": "GOC0fVrgyois"
      },
      "outputs": [],
      "source": [
        "nombre = 'Héctor'\n",
        "type(nombre)"
      ]
    },
    {
      "cell_type": "code",
      "execution_count": null,
      "metadata": {
        "id": "UfLJ84Sqyois"
      },
      "outputs": [],
      "source": [
        "nombre = 50\n",
        "type(nombre)"
      ]
    },
    {
      "cell_type": "markdown",
      "metadata": {
        "id": "8Sxb6xt8yois"
      },
      "source": [
        "### Reasignar con la misma variable"
      ]
    },
    {
      "cell_type": "code",
      "execution_count": null,
      "metadata": {
        "id": "UKAYdNxZyois"
      },
      "outputs": [],
      "source": [
        "a"
      ]
    },
    {
      "cell_type": "code",
      "execution_count": null,
      "metadata": {
        "id": "nkIvCcaJyois"
      },
      "outputs": [],
      "source": [
        "# Ten en mente qye si ejecutas esta celda más de una vez estarás ejecutando a = a + a\n",
        "a = a + a"
      ]
    },
    {
      "cell_type": "code",
      "execution_count": null,
      "metadata": {
        "id": "7HnMXbURyois"
      },
      "outputs": [],
      "source": [
        "a"
      ]
    },
    {
      "cell_type": "code",
      "execution_count": null,
      "metadata": {
        "id": "4Tr9ndIoyois"
      },
      "outputs": [],
      "source": [
        "a = a + a"
      ]
    },
    {
      "cell_type": "code",
      "execution_count": null,
      "metadata": {
        "id": "kZSRUwclyois"
      },
      "outputs": [],
      "source": [
        "a"
      ]
    },
    {
      "cell_type": "markdown",
      "metadata": {
        "id": "YInk921tyois"
      },
      "source": [
        "## <font color='green'>Actividad 2:</font>\n",
        "### Tipado dinámico\n",
        "Crea una variable `string`, imprímela y luego reasígnala como `float` y vuelve a imprimirla.\n",
        "Investiga y evalúa las ventajas y desventajas de esta caractarística de Python."
      ]
    },
    {
      "cell_type": "code",
      "execution_count": null,
      "metadata": {
        "id": "3uIG5WFtyois"
      },
      "outputs": [],
      "source": [
        "# Tu código aquí ...\n"
      ]
    },
    {
      "cell_type": "code",
      "source": [],
      "metadata": {
        "id": "9oLRAzl8gDzd"
      },
      "execution_count": null,
      "outputs": []
    },
    {
      "cell_type": "markdown",
      "metadata": {
        "id": "wfu6qV3OOqLM"
      },
      "source": [
        "# **Introducción a Python**\n",
        "#  Listas en Python (Python list)"
      ]
    },
    {
      "cell_type": "markdown",
      "metadata": {
        "id": "0r-6QIlDOqLP"
      },
      "source": [
        "## <font color='blue'>**Listas**</font>"
      ]
    },
    {
      "cell_type": "markdown",
      "metadata": {
        "id": "1SmdMUV0OqLQ"
      },
      "source": [
        "Hemos aprendido que las cadenas son secuencias de caracteres. De manera similar, las listas son secuencias de objetos, pueden contener una variedad de tipos de datos en orden y siguen las mismas reglas de secuencia y corchetes de indexación que las cadenas. También pueden admitir tipos de datos mixtos.\n",
        "\n",
        "Exploremos algunos ejemplos útiles:"
      ]
    },
    {
      "cell_type": "code",
      "execution_count": null,
      "metadata": {
        "id": "dGqPPbHSOqLQ"
      },
      "outputs": [],
      "source": [
        "# una lista vacía\n",
        "\n",
        "l = []"
      ]
    },
    {
      "cell_type": "code",
      "execution_count": null,
      "metadata": {
        "id": "Fg6hCG7oOqLR"
      },
      "outputs": [],
      "source": [
        "type(l)"
      ]
    },
    {
      "cell_type": "code",
      "execution_count": null,
      "metadata": {
        "id": "kcNcFCq_OqLS"
      },
      "outputs": [],
      "source": [
        "# Es pythonista el separar los elementos con un espacio después de la coma\n",
        "\n",
        "my_list = [1, 2, 3]"
      ]
    },
    {
      "cell_type": "code",
      "execution_count": null,
      "metadata": {
        "id": "zeDaHOWiOqLS"
      },
      "outputs": [],
      "source": [
        "my_list"
      ]
    },
    {
      "cell_type": "code",
      "execution_count": null,
      "metadata": {
        "id": "diM_-zWEOqLT"
      },
      "outputs": [],
      "source": [
        "my_list2 = ['a', 'b', 'c']"
      ]
    },
    {
      "cell_type": "code",
      "execution_count": null,
      "metadata": {
        "id": "mh7rR7qmOqLT"
      },
      "outputs": [],
      "source": [
        "my_list2"
      ]
    },
    {
      "cell_type": "code",
      "execution_count": null,
      "metadata": {
        "id": "K42dcTLyOqLU"
      },
      "outputs": [],
      "source": [
        "a = 100\n",
        "b = 200\n",
        "c = 300\n",
        "my_list3 = [a, b, c]"
      ]
    },
    {
      "cell_type": "code",
      "execution_count": null,
      "metadata": {
        "id": "pqL76r9BOqLV"
      },
      "outputs": [],
      "source": [
        "my_list3"
      ]
    },
    {
      "cell_type": "markdown",
      "metadata": {
        "id": "H_AgpZ2IOqLW"
      },
      "source": [
        "## <font color='blue'>**Indexing y Slicing**</font>\n",
        "\n",
        "Esto funciona igual que con los string!"
      ]
    },
    {
      "cell_type": "code",
      "execution_count": null,
      "metadata": {
        "id": "flbwYUgbOqLX"
      },
      "outputs": [],
      "source": [
        "mylist = ['a', 'b', 'c', 'd']"
      ]
    },
    {
      "cell_type": "code",
      "execution_count": null,
      "metadata": {
        "id": "FWjsyQ-XOqLX"
      },
      "outputs": [],
      "source": [
        "# el idexing parte de 0\n",
        "\n",
        "mylist[0]"
      ]
    },
    {
      "cell_type": "code",
      "execution_count": null,
      "metadata": {
        "id": "oK2Pz9_5OqLX"
      },
      "outputs": [],
      "source": [
        "# y el slicing no considera el último número\n",
        "\n",
        "mylist[0:3]"
      ]
    },
    {
      "cell_type": "code",
      "execution_count": null,
      "metadata": {
        "id": "WSowEiauOqLX"
      },
      "outputs": [],
      "source": [
        "# podemos usar idexing inverso\n",
        "\n",
        "mylist[-1]"
      ]
    },
    {
      "cell_type": "code",
      "execution_count": null,
      "metadata": {
        "id": "Xb30nI6nOqLX"
      },
      "outputs": [],
      "source": [
        "# ... con paso\n",
        "mylist[0::2]"
      ]
    },
    {
      "cell_type": "code",
      "execution_count": null,
      "metadata": {
        "id": "I8lWVT3AOqLY"
      },
      "outputs": [],
      "source": [
        "# ... con paso inverso\n",
        "mylist[-1::-1]"
      ]
    },
    {
      "cell_type": "markdown",
      "metadata": {
        "id": "W12EDdCROqLY"
      },
      "source": [
        "## La función `len()`\n",
        "\n",
        "Python tiene funciones integradas a las que puede llamar. Lentamente presentaremos más de ellos a medida que las necesitemos. Una función incorporada útil es la función `len()`, la cual devuelve la longitud de un objeto. Observe el color de la letra en su sintaxis, ese color indica que es una función incorporada. Si ve que este resaltado automático ocurre al elegir su propio nombre de variable, entonces debe elegir un nombre de variable diferente, para no sobrescribir accidentalmente la función."
      ]
    },
    {
      "cell_type": "code",
      "execution_count": null,
      "metadata": {
        "id": "MnngoakPOqLY"
      },
      "outputs": [],
      "source": [
        "len('string')"
      ]
    },
    {
      "cell_type": "code",
      "execution_count": null,
      "metadata": {
        "id": "BLgdaBINOqLY"
      },
      "outputs": [],
      "source": [
        "len(my_list)"
      ]
    },
    {
      "cell_type": "markdown",
      "metadata": {
        "id": "DM879TufOqLZ"
      },
      "source": [
        "## <font color='blue'>**Métodos útiles para listas**</font>\n",
        "\n",
        "Los métodos son funciones que pertenecen a un objeto. En este caso el objeto es la lista. Su formato típico es:\n",
        "```python\n",
        "     mylist = [1, 2, 3]\n",
        "     mylist.some_method()\n",
        "```    \n",
        "¡Atención con los paréntesis!\n",
        "\n",
        "Repasemos algunos métodos útiles relacionados con las listas."
      ]
    },
    {
      "cell_type": "code",
      "execution_count": null,
      "metadata": {
        "id": "aI2ITkXqOqLZ"
      },
      "outputs": [],
      "source": [
        "mylist = [1, 2, 3]"
      ]
    },
    {
      "cell_type": "code",
      "execution_count": null,
      "metadata": {
        "id": "JizDG7pQOqLZ"
      },
      "outputs": [],
      "source": [
        "# Descubre qué hace el método append()\n",
        "mylist.append(4)"
      ]
    },
    {
      "cell_type": "code",
      "execution_count": null,
      "metadata": {
        "id": "vu0OxoI_OqLa"
      },
      "outputs": [],
      "source": [
        "mylist"
      ]
    },
    {
      "cell_type": "code",
      "execution_count": null,
      "metadata": {
        "id": "ZuX5EwiVOqLa"
      },
      "outputs": [],
      "source": [
        "# Descubre qué hace el método pop()\n",
        "mylist.pop()"
      ]
    },
    {
      "cell_type": "code",
      "execution_count": null,
      "metadata": {
        "id": "Uav9FjAPOqLa"
      },
      "outputs": [],
      "source": [
        "mylist"
      ]
    },
    {
      "cell_type": "code",
      "execution_count": null,
      "metadata": {
        "id": "VH82E1x2OqLa"
      },
      "outputs": [],
      "source": [
        "# Si no pones los paréntesis te devuelve el tipo de objeto; en este caso una función\n",
        "mylist.append"
      ]
    },
    {
      "cell_type": "code",
      "execution_count": null,
      "metadata": {
        "id": "uh1uiTdhOqLa"
      },
      "outputs": [],
      "source": [
        "mylist.append(4)"
      ]
    },
    {
      "cell_type": "code",
      "execution_count": null,
      "metadata": {
        "id": "A3JY0Cg4OqLa"
      },
      "outputs": [],
      "source": [
        "mylist"
      ]
    },
    {
      "cell_type": "code",
      "execution_count": null,
      "metadata": {
        "id": "wnEWtuUBOqLa"
      },
      "outputs": [],
      "source": [
        "item = mylist.pop()"
      ]
    },
    {
      "cell_type": "code",
      "execution_count": null,
      "metadata": {
        "id": "U9kEst9uOqLa"
      },
      "outputs": [],
      "source": [
        "item"
      ]
    },
    {
      "cell_type": "code",
      "execution_count": null,
      "metadata": {
        "id": "l6q-DVCsOqLa"
      },
      "outputs": [],
      "source": [
        "mylist"
      ]
    },
    {
      "cell_type": "code",
      "execution_count": null,
      "metadata": {
        "id": "R-3IWCHOOqLa"
      },
      "outputs": [],
      "source": [
        "first_item = mylist.pop(0)"
      ]
    },
    {
      "cell_type": "code",
      "execution_count": null,
      "metadata": {
        "id": "Jgm94TKoOqLa"
      },
      "outputs": [],
      "source": [
        "first_item"
      ]
    },
    {
      "cell_type": "code",
      "execution_count": null,
      "metadata": {
        "id": "7BHyqp3EOqLa"
      },
      "outputs": [],
      "source": [
        "mylist"
      ]
    },
    {
      "cell_type": "code",
      "execution_count": null,
      "metadata": {
        "id": "dM_oNgKdOqLb"
      },
      "outputs": [],
      "source": [
        "mylist = [1, 2, 3]"
      ]
    },
    {
      "cell_type": "code",
      "execution_count": null,
      "metadata": {
        "id": "QGVRRvfcOqLb"
      },
      "outputs": [],
      "source": [
        "# Este método no devuelve nada.\n",
        "# En su lugar, realiza la acción \"in situ\", o en la misma lista sin devolver nada.\n",
        "# Descubre qué hace...\n",
        "\n",
        "mylist.reverse()"
      ]
    },
    {
      "cell_type": "code",
      "execution_count": null,
      "metadata": {
        "id": "7GKtKCUxOqLb"
      },
      "outputs": [],
      "source": [
        "mylist"
      ]
    },
    {
      "cell_type": "code",
      "execution_count": null,
      "metadata": {
        "id": "M5cnjnvnOqLb"
      },
      "outputs": [],
      "source": [
        "mylist = [3, 2, 1, 6, 5, 4]\n",
        "mylist"
      ]
    },
    {
      "cell_type": "code",
      "execution_count": null,
      "metadata": {
        "id": "H_7cosNkOqLb"
      },
      "outputs": [],
      "source": [
        "# Este método ordena la lista pero sin devolver nada. A esto se le denomina \"in place\"\n",
        "\n",
        "mylist.sort()"
      ]
    },
    {
      "cell_type": "code",
      "execution_count": null,
      "metadata": {
        "id": "dmb3CfNsOqLb"
      },
      "outputs": [],
      "source": [
        "mylist"
      ]
    },
    {
      "cell_type": "code",
      "execution_count": null,
      "metadata": {
        "id": "Tc1ML1OFOqLb"
      },
      "outputs": [],
      "source": [
        "# Creemos otra lista\n",
        "\n",
        "names = []\n",
        "\n",
        "# verifiquemos su tipo con type()\n",
        "print(type(names))"
      ]
    },
    {
      "cell_type": "code",
      "execution_count": null,
      "metadata": {
        "id": "J9whVhcvOqLb"
      },
      "outputs": [],
      "source": [
        "# Agreguemos un nombre a 'name'\n",
        "\n",
        "names.append('Matías')\n",
        "names"
      ]
    },
    {
      "cell_type": "code",
      "execution_count": null,
      "metadata": {
        "id": "ibs44kmgOqLb"
      },
      "outputs": [],
      "source": [
        "# Más nombres ...\n",
        "\n",
        "names.append('Isidora')\n",
        "names.append('Flo')\n",
        "names"
      ]
    },
    {
      "cell_type": "markdown",
      "metadata": {
        "id": "tFbrDumuOqLd"
      },
      "source": [
        "## <font color='blue'>**Listas anidadas (_Nested Lists_)**</font>\n",
        "\n",
        "¡Las listas pueden contener otras listas! Esto se llama lista anidada. Veamos algunos ejemplos."
      ]
    },
    {
      "cell_type": "code",
      "execution_count": null,
      "metadata": {
        "id": "xOpP0Ap5OqLd"
      },
      "outputs": [],
      "source": [
        "new_list = [1, 2, 3, ['a', 'b', 'c']]"
      ]
    },
    {
      "cell_type": "code",
      "execution_count": null,
      "metadata": {
        "id": "gJOaH8UgOqLd"
      },
      "outputs": [],
      "source": [
        "type(new_list)"
      ]
    },
    {
      "cell_type": "code",
      "execution_count": null,
      "metadata": {
        "id": "qREc7V7EOqLd"
      },
      "outputs": [],
      "source": [
        "new_list[3]"
      ]
    },
    {
      "cell_type": "code",
      "execution_count": null,
      "metadata": {
        "id": "yh76pQ4JOqLd"
      },
      "outputs": [],
      "source": [
        "# Observa el slicing con dos valores\n",
        "\n",
        "new_list[3][0]"
      ]
    },
    {
      "cell_type": "markdown",
      "metadata": {
        "id": "xxxc66y1OqLj"
      },
      "source": [
        "## <font color='blue'>**Copiando listas**</font>"
      ]
    },
    {
      "cell_type": "markdown",
      "metadata": {
        "id": "mh26_zviOqLj"
      },
      "source": [
        "Ten en cuenta que cuando copias una lista no haces una copia *profunda*."
      ]
    },
    {
      "cell_type": "code",
      "execution_count": null,
      "metadata": {
        "id": "AcKH7z3tOqLj"
      },
      "outputs": [],
      "source": [
        "l = [1, 2, 3]\n",
        "n = l\n",
        "print(n)"
      ]
    },
    {
      "cell_type": "code",
      "execution_count": null,
      "metadata": {
        "id": "k6QRqtL3OqLj"
      },
      "outputs": [],
      "source": [
        "# Modificamos la lista l\n",
        "\n",
        "l.append(4)\n",
        "print(l)"
      ]
    },
    {
      "cell_type": "code",
      "execution_count": null,
      "metadata": {
        "id": "MDpfFcm3OqLk"
      },
      "outputs": [],
      "source": [
        "# Miren lo que ocurre con la lista n\n",
        "\n",
        "print(n)"
      ]
    },
    {
      "cell_type": "markdown",
      "metadata": {
        "id": "_8VeH72pOqLV"
      },
      "source": [
        "## <font color='green'>Actividad 1:</font>\n",
        "### Crea tu propia lista con 5 elementos del mismo tipo\n",
        "Puede ser cualquier tipo de dato de los ya aprendidos"
      ]
    },
    {
      "cell_type": "code",
      "execution_count": null,
      "metadata": {
        "id": "70uIdFr6OqLV"
      },
      "outputs": [],
      "source": []
    },
    {
      "cell_type": "code",
      "source": [],
      "metadata": {
        "id": "Ns5Ua96I3JWB"
      },
      "execution_count": null,
      "outputs": []
    },
    {
      "cell_type": "code",
      "source": [],
      "metadata": {
        "id": "1yj_kkbL3BSX"
      },
      "execution_count": null,
      "outputs": []
    },
    {
      "cell_type": "markdown",
      "metadata": {
        "id": "ovdJmIT_2HW6"
      },
      "source": [
        "# **Introducción a Python**\n",
        "# FP06. Diccionarios en Python (Python Dictionaries)"
      ]
    },
    {
      "cell_type": "markdown",
      "metadata": {
        "id": "jsUkocZ22HW8"
      },
      "source": [
        "¡Hola, Hackers!\n",
        "\n",
        "Hasta ahora solo hemos visto cómo almacenar tipos de datos en secuencias tales como almacenar caracteres en una cadena (string) o elementos en una lista (list). Pero, ¿y si queremos almacenar información de otra manera? La mayoría de los lenguajes de programación tienen lo que se llama una *tabla hash*, que es una combinación de elementos clave-valor. Bajo el capó, este tipo de estructuras permite tiempos de búsqueda de objetos más rápidos cuando las estructuras tienen muchos elementos.\n",
        "\n",
        "La elección entre estructuras como una lista o un diccionario a menudo depende de la situación específica. A medida que te conviertas en un programador más sólido, elegir el formato de almacenamiento adecuado será más intuitivo.\n",
        "\n",
        "¡Cubramos los conceptos básicos de los diccionarios!"
      ]
    },
    {
      "cell_type": "markdown",
      "metadata": {
        "id": "TnkwzsUD2HW8"
      },
      "source": [
        "## <font color='blue'>**Creando un  Diccionario (Dictionary)**</font>"
      ]
    },
    {
      "cell_type": "code",
      "metadata": {
        "id": "vrBvE8622HW9"
      },
      "source": [
        "# Para crearlos se utilizan corchetes curvos\n",
        "\n",
        "d = {}"
      ],
      "execution_count": null,
      "outputs": []
    },
    {
      "cell_type": "code",
      "metadata": {
        "id": "BAosWqkO2HW9"
      },
      "source": [
        "# Verifiquemos con type()\n",
        "\n",
        "type(d)"
      ],
      "execution_count": null,
      "outputs": []
    },
    {
      "cell_type": "code",
      "metadata": {
        "id": "Cf8oDgGW2HW-"
      },
      "source": [
        "# Construimos un diccionario con {} y utilizamos dos puntos \":\" para indicar una clave y un valor.\n",
        "\n",
        "d = {'clave1': 'valor1', 'clave2': 'valor2'}"
      ],
      "execution_count": null,
      "outputs": []
    },
    {
      "cell_type": "code",
      "metadata": {
        "id": "qLu-tEwb2HW_"
      },
      "source": [
        "# Veamos\n",
        "d"
      ],
      "execution_count": null,
      "outputs": []
    },
    {
      "cell_type": "code",
      "metadata": {
        "id": "RaKje8pV2HW_"
      },
      "source": [
        "# Podemos extraer valores a través de su llave\n",
        "\n",
        "d['clave1']"
      ],
      "execution_count": null,
      "outputs": []
    },
    {
      "cell_type": "code",
      "metadata": {
        "id": "_Ee9ZEbb2HXA"
      },
      "source": [
        "# Fíjate en la sintaxis y en el uso de las comillas simples y dobles\n",
        "\n",
        "f\"{d['clave1']}\""
      ],
      "execution_count": null,
      "outputs": []
    },
    {
      "cell_type": "code",
      "metadata": {
        "id": "2fwRqviB2HW_"
      },
      "source": [
        "d['clave2']"
      ],
      "execution_count": null,
      "outputs": []
    },
    {
      "cell_type": "code",
      "metadata": {
        "id": "6CebphMB2HW_"
      },
      "source": [
        "# Otro diccionario, como los de la vida real !!\n",
        "# Fíjate como vamos usando el espacio y escribimos los pares de llave-valor hacia abajo.\n",
        "# Esto es opcional pero es muy elegante y legible.\n",
        "\n",
        "animals = {'elefante': 'loxodonta africana',\n",
        "           'lobo': 'canis lupus',\n",
        "           'tigre': 'panthera tigris',\n",
        "           'ratón': 'mus musculus'\n",
        "          }"
      ],
      "execution_count": null,
      "outputs": []
    },
    {
      "cell_type": "markdown",
      "metadata": {
        "id": "_BARWuO42HXB"
      },
      "source": [
        "## Añadiendo nuevos pares de *Key-Value*"
      ]
    },
    {
      "cell_type": "code",
      "metadata": {
        "id": "R1gYcC3R2HXB"
      },
      "source": [
        "d['new_key'] = 'new item'"
      ],
      "execution_count": null,
      "outputs": []
    },
    {
      "cell_type": "code",
      "metadata": {
        "id": "PVqWKjhI2HXB"
      },
      "source": [
        "d"
      ],
      "execution_count": null,
      "outputs": []
    },
    {
      "cell_type": "markdown",
      "metadata": {
        "id": "FrHTyV_g2HXC"
      },
      "source": [
        "<div class=\"alert alert-block alert-warning\">\n",
        "<b>TIP:</b> Los diccionarios no son estructuras ordenadas por defecto. Preservan el orden en el cual se ingresaron los elementos (a partir de la versión 3.7 de Python), pero no tienen un orden lógico cómo podríamos esperar (e.g.; por abecedario, menor a mayor, etc.). Esto puede no estar claro al principio con diccionarios más pequeños, pero a medida que los diccionarios se hacen más grandes, no mantendrán el orden, lo que significa que no podemos asumir que estarán ordenados de forma lógica.\n",
        "</div>"
      ]
    },
    {
      "cell_type": "code",
      "metadata": {
        "id": "VA1XGMVw2HXC"
      },
      "source": [
        "f\"{animals}\""
      ],
      "execution_count": null,
      "outputs": []
    },
    {
      "cell_type": "code",
      "metadata": {
        "scrolled": true,
        "tags": [],
        "id": "VFxUaXA42HXC"
      },
      "source": [
        "# Dale un vistazo a los métodos propios de los diccionarios\n",
        "\n",
        "help(animals)"
      ],
      "execution_count": null,
      "outputs": []
    },
    {
      "cell_type": "markdown",
      "metadata": {
        "id": "NHXakrBp2HXD"
      },
      "source": [
        "## <font color='blue'>**Estructuras anidadas dentro de los diccionarios**</font>\n",
        "\n",
        "Los diccionarios son muy flexibles en los tipos de datos que pueden contener. Ellos pueden contener números, strings, listas e, incluso, diccionarios."
      ]
    },
    {
      "cell_type": "code",
      "metadata": {
        "id": "nyiVZKUz2HXD"
      },
      "source": [
        "d = {'k1': 10, 'k2': 'string', 'k3': [1, 2, 3], 'k4': {'inside_key': 100}}"
      ],
      "execution_count": null,
      "outputs": []
    },
    {
      "cell_type": "code",
      "metadata": {
        "id": "99pnfGDA2HXD"
      },
      "source": [
        "d"
      ],
      "execution_count": null,
      "outputs": []
    },
    {
      "cell_type": "code",
      "metadata": {
        "id": "6gboe00J2HXD"
      },
      "source": [
        "d['k1']"
      ],
      "execution_count": null,
      "outputs": []
    },
    {
      "cell_type": "code",
      "metadata": {
        "id": "sSOj0g7T2HXD"
      },
      "source": [
        "d['k2']"
      ],
      "execution_count": null,
      "outputs": []
    },
    {
      "cell_type": "code",
      "metadata": {
        "id": "3Yb8BaMP2HXE"
      },
      "source": [
        "d['k3']"
      ],
      "execution_count": null,
      "outputs": []
    },
    {
      "cell_type": "code",
      "metadata": {
        "id": "BJBuDKwt2HXE"
      },
      "source": [
        "d['k3'][0]"
      ],
      "execution_count": null,
      "outputs": []
    },
    {
      "cell_type": "code",
      "metadata": {
        "id": "Vg9E8V-y2HXE"
      },
      "source": [
        "d['k4']"
      ],
      "execution_count": null,
      "outputs": []
    },
    {
      "cell_type": "code",
      "metadata": {
        "id": "h9loaccc2HXE"
      },
      "source": [
        "# Fíjate cómo obtenemos el valor de la llave del último elemento del diccionario d\n",
        "\n",
        "d['k4']['inside_key']"
      ],
      "execution_count": null,
      "outputs": []
    },
    {
      "cell_type": "markdown",
      "metadata": {
        "id": "IRMjmc8s2HXF"
      },
      "source": [
        "Si buscas una llave inexistente, te dará un error\n",
        "\n"
      ]
    },
    {
      "cell_type": "code",
      "metadata": {
        "id": "OqHrazbU2HXF"
      },
      "source": [
        "# Esta celda arrojará un error\n",
        "d['oops']"
      ],
      "execution_count": null,
      "outputs": []
    },
    {
      "cell_type": "markdown",
      "metadata": {
        "id": "E6Ab4kcP2HXH"
      },
      "source": [
        "## <font color='blue'>**Métodos de diccionarios**</font>"
      ]
    },
    {
      "cell_type": "markdown",
      "metadata": {
        "id": "dH5iyxSN2HXG"
      },
      "source": [
        "Utiliza los diccionarios para cuando necesites estructuras veloces pero no necesariamente ordenadas.\n",
        "\n",
        "Por ejemplo, la siguiente información es perfecta para almacenarla en un diccionario:\n",
        "\n",
        "[Nombres claves de familiares de presidentes](https://en.wikipedia.org/wiki/Secret_Service_code_name)"
      ]
    },
    {
      "cell_type": "code",
      "metadata": {
        "id": "uLPeAEru2HXG"
      },
      "source": [
        "code_names = {\"Trump\":'Mogul',\n",
        "              \"Obama\":'Renegade',\n",
        "              \"Bush\":'Trailblazer',\n",
        "              \"Reagan\":\"Rawhide\",\n",
        "              \"Ford\":\"Passkey\"\n",
        "             }"
      ],
      "execution_count": null,
      "outputs": []
    },
    {
      "cell_type": "code",
      "metadata": {
        "id": "KDY8GFBk2HXG"
      },
      "source": [
        "code_names[\"Ford\"]"
      ],
      "execution_count": null,
      "outputs": []
    },
    {
      "cell_type": "markdown",
      "metadata": {
        "id": "FAHj6Ky32HXH"
      },
      "source": [
        "Otro ejemplo:\n",
        "\n",
        "[Lista de países y su población](https://en.wikipedia.org/wiki/List_of_countries_by_population_(United_Nations)"
      ]
    },
    {
      "cell_type": "code",
      "metadata": {
        "id": "hrE7PIZG2HXH"
      },
      "source": [
        "pop_in_mil = {\"Chile\":18,\n",
        "              \"USA\":323,\n",
        "              \"Germany\": 83,\n",
        "              \"India\": 1324\n",
        "             }"
      ],
      "execution_count": null,
      "outputs": []
    },
    {
      "cell_type": "code",
      "metadata": {
        "id": "ijvduQbb2HXH"
      },
      "source": [
        "pop_in_mil[\"Chile\"]"
      ],
      "execution_count": null,
      "outputs": []
    },
    {
      "cell_type": "code",
      "metadata": {
        "id": "8Nb8I6zv2HXI"
      },
      "source": [
        "# Llaves\n",
        "code_names.keys()"
      ],
      "execution_count": null,
      "outputs": []
    },
    {
      "cell_type": "code",
      "metadata": {
        "id": "LaWmQCFW2HXI"
      },
      "source": [
        "# Valores\n",
        "code_names.values()"
      ],
      "execution_count": null,
      "outputs": []
    },
    {
      "cell_type": "code",
      "metadata": {
        "id": "F3ZaBv4H2HXI"
      },
      "source": [
        "# Pares de llaves y valores\n",
        "code_names.items()"
      ],
      "execution_count": null,
      "outputs": []
    },
    {
      "cell_type": "markdown",
      "metadata": {
        "id": "1qDbzzYk2HXJ"
      },
      "source": [
        "Gran trabajo Hackers, recuerden que los diccionarios (y las listas) son una de las estructuras de datos más útiles en cualquier lenguaje de programación y también en Python."
      ]
    },
    {
      "cell_type": "code",
      "source": [],
      "metadata": {
        "id": "FKZwMUrygVfV"
      },
      "execution_count": null,
      "outputs": []
    },
    {
      "cell_type": "markdown",
      "metadata": {
        "id": "wokqh2w_dTI5"
      },
      "source": [
        "# **Introducción a Python**\n",
        "# FP12. Control de flujo (Contro Flow)\n",
        "## if , elif , y else statements"
      ]
    },
    {
      "cell_type": "markdown",
      "metadata": {
        "id": "QkGx3Xx_dTI9"
      },
      "source": [
        "¡Hola, Hackers!\n",
        "\n",
        "A veces necesitamos tomar decisiones en nuestro código. Necesitamos realizar algunas acciones u otras distintas dependiendo de si se cumplen o no ciertas condiciones. Para ello usamos las declaraciones `if`, `elif` y `else` para controlar estos casos. Veamos cómo funcionan !!!"
      ]
    },
    {
      "cell_type": "markdown",
      "metadata": {
        "id": "Mo4CpFr5dTI9"
      },
      "source": [
        "## <font color='blue'>**La instrucción `if`**</font>\n",
        "La forma más simple de la sentencia `if` es la siguiente:\n",
        "```Python\n",
        "    if some_condition:\n",
        "        # Do Something\n",
        "```"
      ]
    },
    {
      "cell_type": "code",
      "execution_count": null,
      "metadata": {
        "id": "WKPaJ8KodTI-"
      },
      "outputs": [],
      "source": [
        "if 1 < 2:\n",
        "    print('Uno es menor que dos')"
      ]
    },
    {
      "cell_type": "markdown",
      "metadata": {
        "id": "wQrmemVrdTI_"
      },
      "source": [
        "**Pyhtonista:** El operador lógico siempre lleva un espacio antes y después."
      ]
    },
    {
      "cell_type": "code",
      "execution_count": null,
      "metadata": {
        "id": "YUlpiXzqdTI_"
      },
      "outputs": [],
      "source": [
        "if 1 > 2:\n",
        "    print(\"Uno es más grande que dos?\")"
      ]
    },
    {
      "cell_type": "markdown",
      "metadata": {
        "id": "xkT_LshWdTJA"
      },
      "source": [
        "Observa lo que sucede, el bloque de código sangrado solo se ejecuta cuando la condición `if` es verdadera (`True`)."
      ]
    },
    {
      "cell_type": "code",
      "execution_count": null,
      "metadata": {
        "id": "iS3XZnoVdTJA"
      },
      "outputs": [],
      "source": [
        "# Podemos usar una variable booleana\n",
        "\n",
        "if True:\n",
        "    print(\"La sentencia 'if' se evaluó afirmativamente\")"
      ]
    },
    {
      "cell_type": "markdown",
      "metadata": {
        "id": "yNDVTw-QdTJB"
      },
      "source": [
        "**ATENCION con la indentación**.\n",
        "\n",
        "\n",
        "La **indentación** (sangría del código) le permite a Python saber cuáles líneas de código pertenecen a un mismo bloque. Unas celdas más abajo veremos reglas detalladas de cómo hacerlo."
      ]
    },
    {
      "cell_type": "markdown",
      "metadata": {
        "id": "08frzTUvdTJB"
      },
      "source": [
        "## <font color='blue'>**La instrucción `if` `else`**</font>\n",
        "Ahora agreguemos una acción alternativa en caso de que `if` no sea `True` usando la instrucción `else`.\n",
        "\n",
        "Observa el formato y cómo se alinean los bloques de código con **indentación**, ¡esto es crucial en Python!"
      ]
    },
    {
      "cell_type": "code",
      "execution_count": null,
      "metadata": {
        "id": "xiHdmOsRdTJC"
      },
      "outputs": [],
      "source": [
        "if 1 == 1:\n",
        "    print(\"Uno es igual a uno, obvio !!\")\n",
        "else:\n",
        "    print(\"La comparación no es correcta\")"
      ]
    },
    {
      "cell_type": "code",
      "execution_count": null,
      "metadata": {
        "id": "gmUQOlgUdTJC"
      },
      "outputs": [],
      "source": [
        "if 1 == 2:\n",
        "    print(\"Uno es igual a uno, obvio !!\")\n",
        "else:\n",
        "    print(\"La comparación no es Verdadera (True)\")"
      ]
    },
    {
      "cell_type": "markdown",
      "metadata": {
        "id": "2AdoSuqudTJC"
      },
      "source": [
        "## <font color='blue'>**La instrucción `if`, `elif`, `else`**</font>\n",
        "\n",
        "Ahora imaginemos que tenemos varias condiciones para verificar antes de la declaración `else` final, aquí es donde podemos usar la palabra clave `elif` para verificar tantas condiciones individuales como sea necesario:"
      ]
    },
    {
      "cell_type": "code",
      "execution_count": null,
      "metadata": {
        "id": "mPnGX3cCdTJD"
      },
      "outputs": [],
      "source": [
        "if 2 == 0:\n",
        "    print('La primera comparación es Verdadera (True)')\n",
        "elif 2 == 1:\n",
        "    print(\"La segunda comparación es Verdadera (True)\")\n",
        "elif 2 == 2:\n",
        "    print(\"La tercera comparación es Verdadera (True)\")\n",
        "else:\n",
        "    print(\"Ninguna de las comparaciones anteriores es Verdadera (True)\")"
      ]
    },
    {
      "cell_type": "code",
      "execution_count": null,
      "metadata": {
        "id": "slzUF9e9dTJD"
      },
      "outputs": [],
      "source": [
        "if 2 == 0:\n",
        "    print('La primera comparación es Verdadera (True)')\n",
        "elif 2 == 1:\n",
        "    print(\"La segunda comparación es Verdadera (True)\")\n",
        "elif 2 == 100:\n",
        "    print(\"La tercera comparación es Verdadera (True)\")\n",
        "else:\n",
        "    print(\"Ninguna de las comparaciones anteriores es Verdadera (True)\")"
      ]
    },
    {
      "cell_type": "markdown",
      "metadata": {
        "id": "UgS3N9WsdTJD"
      },
      "source": [
        "Veamos qué sucede si tuviéramos múltiples condiciones `True`:"
      ]
    },
    {
      "cell_type": "code",
      "execution_count": null,
      "metadata": {
        "id": "goEE74kmdTJE"
      },
      "outputs": [],
      "source": [
        "if 2 == 2:\n",
        "    print('La primera comparación es Verdadera (True)')\n",
        "elif 2 == 2:\n",
        "    print(\"La segunda comparación es Verdadera (True)\")\n",
        "elif 2 == 2:\n",
        "    print(\"La tercera comparación es Verdadera (True)\")\n",
        "else:\n",
        "    print(\"Ninguna de las comparaciones anteriores es Verdadera (True)\")"
      ]
    },
    {
      "cell_type": "markdown",
      "metadata": {
        "id": "rRsQb16udTJE"
      },
      "source": [
        "Observa cómo solo se ejecutará el bloque de código de la primera condición verdadera, ¡ten esto en cuenta al escribir sus scripts!"
      ]
    },
    {
      "cell_type": "markdown",
      "metadata": {
        "id": "PfGLXFyHdTJE"
      },
      "source": [
        "Es importante tener una buena comprensión de cómo funciona la **indentación** en Python para mantener la estructura y el orden de su código. ¡Tocaremos este tema nuevamente cuando comencemos a construir funciones!"
      ]
    },
    {
      "cell_type": "markdown",
      "metadata": {
        "id": "CaeVnu5mdTJE"
      },
      "source": [
        "## <font color='blue'>**Veamos un poco más acerca de la indentación**</font>\n",
        "### Reglas\n",
        "1. Cada nivel de indentación utiliza 4 espacios\n",
        "2. Aún cuando funcionan, se recomienda NO usar tabs para las indentaciones\n",
        "3. NUNCA combines tabs y espacios para indentar código"
      ]
    },
    {
      "cell_type": "code",
      "execution_count": null,
      "metadata": {
        "id": "KtmNheOodTJF"
      },
      "outputs": [],
      "source": [
        "if True:\n",
        "    print(\"Esta impresión está dentro del bloque 'if'\")\n",
        "    print(\"Esta impresión está dentro del bloque 'if'\")\n",
        "    print(\"Esta impresión está dentro del bloque 'if'\")\n",
        "print(\"Esta impresión está fuera del bloque 'if'\")"
      ]
    },
    {
      "cell_type": "code",
      "execution_count": null,
      "metadata": {
        "id": "-68bbq7WdTJF"
      },
      "outputs": [],
      "source": [
        "# Veamos que ocurre cuando cambiamos la condición a False\n",
        "\n",
        "if False:\n",
        "    print(\"Esta impresión está dentro del bloque 'if'\")\n",
        "    print(\"Esta impresión está dentro del bloque 'if'\")\n",
        "    print(\"Esta impresión está dentro del bloque 'if'\")\n",
        "print(\"Esta impresión está fuera del bloque 'if'\")"
      ]
    },
    {
      "cell_type": "code",
      "execution_count": null,
      "metadata": {
        "id": "vhQfWr0IdTJF"
      },
      "outputs": [],
      "source": [
        "# En este caso hemos introducido una indentación de tres espacios.\n",
        "# Esto genererá un error del tipo *IndentationEror*\n",
        "\n",
        "if False:\n",
        "   print(\"Esta impresión está dentro del bloque 'if'\")\n",
        "    print(\"Esta impresión está dentro del bloque 'if'\")\n",
        "    print(\"Esta impresión está dentro del bloque 'if'\")\n",
        "print(\"Esta impresión está fuera del bloque 'if'\")"
      ]
    },
    {
      "cell_type": "markdown",
      "metadata": {
        "id": "f55-b8I7dTJG"
      },
      "source": [
        "### Agreguemos todo en un ejemplo final"
      ]
    },
    {
      "cell_type": "code",
      "execution_count": null,
      "metadata": {
        "id": "upDamKFhdTJG"
      },
      "outputs": [],
      "source": [
        "agent_code = 231912\n",
        "access = False"
      ]
    },
    {
      "cell_type": "code",
      "execution_count": null,
      "metadata": {
        "id": "yZCMKijVdTJG"
      },
      "outputs": [],
      "source": [
        "if agent_code == 12345:\n",
        "    print('Código reinicializado')\n",
        "    print(\"Comuníquese con el supervisor\")\n",
        "elif agent_code == 231912:\n",
        "    print('Bienvenido agente')\n",
        "    print('Inicializando su aceso a condición: Verdadera')\n",
        "    access = True\n",
        "else:\n",
        "    print(\"Código erréneo\")"
      ]
    },
    {
      "cell_type": "code",
      "execution_count": null,
      "metadata": {
        "id": "ME9i8WCydTJG"
      },
      "outputs": [],
      "source": [
        "# Ahora podemos iniciar otro conjunto de lógica de flujo de control aquí.\n",
        "\n",
        "if access == True:\n",
        "    print('Acceso concedido')\n",
        "else:\n",
        "    print('Access denegado')"
      ]
    },
    {
      "cell_type": "markdown",
      "metadata": {
        "id": "Jh4pBHmsdTJG"
      },
      "source": [
        "Echa un vistazo al último conjunto del bloque `if` ...  `else`, dado que la variable **access** en sí es un booleano, también podríamos haberlo escrito así:"
      ]
    },
    {
      "cell_type": "code",
      "execution_count": null,
      "metadata": {
        "id": "D0BxQJLrdTJG"
      },
      "outputs": [],
      "source": [
        "if access:\n",
        "    print('Acceso concedido')\n",
        "else:\n",
        "    print('Access denegado')"
      ]
    },
    {
      "cell_type": "markdown",
      "metadata": {
        "id": "3KbmAL8VdTJG"
      },
      "source": [
        "Escribir código como acabamos de hacer en la celda anterior es más limpio. Puedes nombrar tus variables de manera diferente para que también sea aún más legible tu código; por ejemplo, cambia el nombre de **access** a __access_request__ (solicitud_acceso) de forma que el código quede como sigue:\n",
        "\n",
        "```python\n",
        "if access_request:\n",
        "```"
      ]
    },
    {
      "cell_type": "markdown",
      "metadata": {
        "id": "yTojLC0bdTJH"
      },
      "source": [
        "<font color='green'>Fin actividad 1</font>"
      ]
    },
    {
      "cell_type": "markdown",
      "metadata": {
        "id": "BINiVO9Cfckt"
      },
      "source": [
        "# **Introducción a Python**\n",
        "#  Ciclos while (while loop)"
      ]
    },
    {
      "cell_type": "markdown",
      "metadata": {
        "id": "D9Cq-RUIfckx"
      },
      "source": [
        "Ahora que entendemos el flujo de control con las declaraciones `if`, `elif` y `else`, aprendamos sobre los bucles. El primer ciclo que aprenderemos es el `while`.\n",
        "\n",
        "## <font color='blue'>**Ciclo `while`**</font>\n",
        "\n",
        "Un ciclo `while` ejecutará repetidamente una sola declaración o grupo de declaraciones siempre que la condición que se comprueba sea verdadera. La razón por la que se llama un 'bucle' es porque las declaraciones de código se repiten una y otra vez hasta que la condición ya no se cumple.\n",
        "\n",
        "La **indentación** del código se vuelve muy importante a medida que comenzamos a trabajar con bucles y control de flujo. Veamos algunos ejemplos."
      ]
    },
    {
      "cell_type": "code",
      "execution_count": null,
      "metadata": {
        "id": "ExN8guvVfckx"
      },
      "outputs": [],
      "source": [
        "# Inicialicemos la variable x en 0\n",
        "\n",
        "x = 0\n",
        "\n",
        "while x < 3:\n",
        "    print(f'x actualmente es = {x}\\n')\n",
        "    print(f\"Añadimos 1 a x\")\n",
        "    x = x + 1 # otra forma de escribir esta sentencia sería  x += 1"
      ]
    },
    {
      "cell_type": "markdown",
      "metadata": {
        "id": "LbgIdoMJfckz"
      },
      "source": [
        "### Nota:\n",
        "\n",
        "```Python\n",
        "    x = x + 1\n",
        "```\n",
        "Puede se escrito como ...\n",
        "```Python\n",
        "    x += 1\n",
        "```\n",
        "Esta forma es más pythonista !!!"
      ]
    },
    {
      "cell_type": "markdown",
      "metadata": {
        "id": "5d3tAmRefckz"
      },
      "source": [
        "____\n",
        "### <font color='red'>Atención!!</font>\n",
        "¡Ten cuidado con los bucles `*while`! Existe la posibilidad de escribir una condición que siempre permanece Verdadera, lo que significa que tendrás un ciclo `while` infinito en ejecución.\n",
        "\n",
        "Si esto te sucede, deberás interrumpir la ejecución del kernel de Python que estas usando. Para ello presiona haz lo siguiente:\n",
        "\n",
        "Si estás en Google Colab, haz click en el ícono que está en la esquina izquierda superior de tu celda (un pequeño cuadrado dentro de un circulo).\n",
        "\n",
        "Si estás trabajando en Jupyter o JupyterLab (en modo local) presiona el ícono de interrupción del kernel (cuadrado pequeño) en la barra superior.\n",
        "____\n",
        "\n",
        "Sigamos con algunos ejemplos más. Primero, le mostraremos cómo aceptar una entrada de un usuario:"
      ]
    },
    {
      "cell_type": "code",
      "execution_count": null,
      "metadata": {
        "id": "Q_bGUlW9fck0"
      },
      "outputs": [],
      "source": [
        "# Ejecuta esta celda solo una vez\n",
        "# Si lo vuelves a ejecutar sin proporcionar una\n",
        "# entrada, la celda se bloqueará con In [*]\n",
        "# Para solucionar este problema, reinicia el kernel.\n",
        "\n",
        "# Bien, ahora el código\n",
        "\n",
        "saved_input = input(\"Ingresa un número: \")"
      ]
    },
    {
      "cell_type": "code",
      "execution_count": null,
      "metadata": {
        "id": "h4qhmrZyfck0"
      },
      "outputs": [],
      "source": [
        "saved_input"
      ]
    },
    {
      "cell_type": "markdown",
      "metadata": {
        "id": "EUOTAuxofck1"
      },
      "source": [
        "### <font color = 'red'>Atención</font>\n",
        "\n",
        "Qué tipo de dato devolvió `input()`?<br>\n",
        "Fíjate, es un string!<br>\n",
        "Siempre que necesites ingresar un valor numérico podrás encapsular la función `input()` con `int()` o `float()`.<br>\n",
        "Considera eso si que siempr deberas validar los datos que se ingresan desde el teclado.\n",
        "\n",
        "Veamos cómo podríamos usar esto:"
      ]
    },
    {
      "cell_type": "code",
      "execution_count": null,
      "metadata": {
        "id": "yKhpDaZzfck2"
      },
      "outputs": [],
      "source": [
        "print(\"Bienvenido hacker\")\n",
        "\n",
        "# comienza con alguna contraseña predeterminada (debe definirse antes de que comience el ciclo)\n",
        "\n",
        "password = 0\n",
        "\n",
        "while password != 123:\n",
        "    password = int(input(\"Ingresa tu password: \"))\n",
        "\n",
        "# Esto no se ejecutará hasta que el ciclo while sea\n",
        "# hecho debido a la indentación\n",
        "print(\"Password correcta!\")"
      ]
    },
    {
      "cell_type": "code",
      "execution_count": null,
      "metadata": {
        "id": "BBefA2Dpfck2"
      },
      "outputs": [],
      "source": [
        "print(\"Bienvenido hacker\")\n",
        "\n",
        "# comienza con alguna contraseña predeterminada (debe definirse antes de que comience el ciclo)\n",
        "\n",
        "password = 0\n",
        "\n",
        "while password != 123:\n",
        "    password = int(input(\"Ingresa tu password: \"))\n",
        "\n",
        "    # Lógica de flujo de control anidado\n",
        "    if password != 123:\n",
        "        print(\"Password errónea\")\n",
        "        print(\"Intenta nuevamente ...\\n\")\n",
        "\n",
        "# Esto no se ejecutará hasta que el ciclo while sea\n",
        "# hecho debido a la indentación\n",
        "print(\"Password correcta!\")"
      ]
    },
    {
      "cell_type": "markdown",
      "metadata": {
        "id": "D7N3dRuPfck3"
      },
      "source": [
        "## <font color='blue'>**Rompiendo el flujo con `break`**</font>"
      ]
    },
    {
      "cell_type": "markdown",
      "metadata": {
        "id": "8qI_Jrw4fck3"
      },
      "source": [
        "La palabra clave `break` le permite \"salir\" del bucle. Por ejemplo:"
      ]
    },
    {
      "cell_type": "code",
      "execution_count": null,
      "metadata": {
        "id": "0unSsTyDfck3"
      },
      "outputs": [],
      "source": [
        "x = 0\n",
        "\n",
        "while x < 10:\n",
        "    print(x)\n",
        "    print('Suma 1 a x')\n",
        "    x += 1\n",
        "\n",
        "    if x == 3:   # Si x = 3 (Verdadero), esto causará la salida (break out) del bucle\n",
        "        break"
      ]
    },
    {
      "cell_type": "markdown",
      "metadata": {
        "id": "UaP83pW6fck3"
      },
      "source": [
        "## <font color='green'>Actividad 1:</font>\n",
        "### Contando números\n",
        "\n",
        "Crea un programa que cuente de 1 a 10 utilizando `while`.\n",
        "Imprime cada número en una línea separada.\n",
        "\n",
        "Pasos:\n",
        "1. Crea e inicializa una variable para contar\n",
        "2. Crea el bucle `while`\n",
        "3. Imprime la variable\n",
        "4. Incrementa la variable usando += 1"
      ]
    },
    {
      "cell_type": "code",
      "execution_count": null,
      "metadata": {
        "id": "n2U39LOMfck4"
      },
      "outputs": [],
      "source": [
        "# Tu código aquí ...\n",
        "\n"
      ]
    },
    {
      "cell_type": "markdown",
      "metadata": {
        "id": "RC2HXpVifck4"
      },
      "source": [
        "<font color='green'>Fin actividad 1</font>"
      ]
    },
    {
      "cell_type": "markdown",
      "metadata": {
        "id": "8beD4yINfck4"
      },
      "source": [
        "## <font color='green'>Actividad 2: Challenging</font>\n",
        "### Contar números, pero detenerse cuando la suma de los números contados sea > 50\n",
        "\n",
        "Crea un programa que cuente de 1 a 100 usando bucles `while`. <br>\n",
        "Imprime cada número en una línea separada. <br>\n",
        "Suma el número contado en otra variable y deja de contar cuando la suma sea mayor o igual a 50.\n",
        "    \n",
        "Pseudo código:\n",
        "1. Crea e inicializa una variable para contar\n",
        "2. Cree e inicialice una variable para sumar\n",
        "3. Crea el bucle while\n",
        "4. Imprime la variable de recuento\n",
        "5. Agregua la variable de recuento a la variable de suma\n",
        "6. Compara si la variable suma es mayor o igual a 50. Si es así, imprime la variable suma y rompe el ciclo\n",
        "7. Incrementar la variable usando += 1"
      ]
    },
    {
      "cell_type": "code",
      "execution_count": null,
      "metadata": {
        "id": "gr5uoqJtfck4"
      },
      "outputs": [],
      "source": [
        "# Tu código aquí ...\n",
        "# Opcion 1\n",
        "\n"
      ]
    },
    {
      "cell_type": "code",
      "execution_count": null,
      "metadata": {
        "id": "YaJVtsrVfck5"
      },
      "outputs": [],
      "source": [
        "# Opcion 2\n",
        "\n"
      ]
    },
    {
      "cell_type": "code",
      "source": [],
      "metadata": {
        "id": "IuGQzQiriEdA"
      },
      "execution_count": null,
      "outputs": []
    },
    {
      "cell_type": "markdown",
      "metadata": {
        "id": "Ovaf2vWDgk1P"
      },
      "source": [
        "# **Introducción a Python**\n",
        "# FP14. Ciclos for (for loop)"
      ]
    },
    {
      "cell_type": "markdown",
      "metadata": {
        "id": "7Wmh4IoTgk1S"
      },
      "source": [
        "¡Bienvenidos de nuevo Hackers, es hora de aprender un nuevo ciclo!\n",
        "\n",
        "## <font color='blue'>**Ciclo `for`**</font>\n",
        "Un bucle `for` actúa como un iterador en Python, pasa por elementos que están en una secuencia o cualquier otro **objeto iterable**. Los objetos que hemos aprendido, sobre los que podemos iterar incluyen: cadenas o strings, listas, tuplas e incluso iterables incorporados para diccionarios, como las claves o los valores.\n",
        "\n",
        "Aquí está el formato general para un bucle `for` en Python:\n",
        "```python\n",
        "     for item in object:\n",
        "         your code\n",
        "         your code\n",
        "```        \n",
        "El nombre de la variable utilizado para el *item* depende completamente del programador (o sea, tú!!), así que usa tu mejor criterio para elegir un nombre que tenga sentido y que podrás entenderlo cuando vuelvas a revisar tu código. Puedes utiliza esa variable **sólo dentro del bucle**, fuera del mismo no tendrá un valor asignado.\n",
        "\n",
        "Sigamos adelante y trabajemos con varios ejemplos de bucles `for` utilizando una variedad de tipos de objetos de datos."
      ]
    },
    {
      "cell_type": "markdown",
      "metadata": {
        "id": "aRdor3a1gk1S"
      },
      "source": [
        "## <font color='blue'>**`for` con listas**</font>"
      ]
    },
    {
      "cell_type": "code",
      "execution_count": null,
      "metadata": {
        "id": "1LW0galigk1T"
      },
      "outputs": [],
      "source": [
        "mylist = [1, 2, 3, 4, 5, 6, 7, 8, 9, 10]\n",
        "# La lista es un objeto iterable por esencia\n",
        "# Esto significa que podemos recorrerla\n",
        "\n",
        "for num in mylist:\n",
        "    print(num)"
      ]
    },
    {
      "cell_type": "code",
      "execution_count": null,
      "metadata": {
        "id": "R-83gTcAgk1U"
      },
      "outputs": [],
      "source": [
        "for la_variable_puede_ser_cualquier_cosa in mylist:\n",
        "    print(la_variable_puede_ser_cualquier_cosa)"
      ]
    },
    {
      "cell_type": "markdown",
      "metadata": {
        "id": "4WH3o1BMgk1V"
      },
      "source": [
        "Pero no creo que te atrevas a usar un nombre variable como este!! O sí?"
      ]
    },
    {
      "cell_type": "code",
      "execution_count": null,
      "metadata": {
        "id": "iThKtaHbgk1V"
      },
      "outputs": [],
      "source": [
        "for num in mylist:\n",
        "    print(num, end=' ')"
      ]
    },
    {
      "cell_type": "code",
      "execution_count": null,
      "metadata": {
        "id": "zSqYKEtogk1V"
      },
      "outputs": [],
      "source": [
        "for num in mylist:\n",
        "    print(\"Este texto se imprimirá tantas veces como elementos haya en la lista\")"
      ]
    },
    {
      "cell_type": "markdown",
      "metadata": {
        "id": "GmAde9pwgk1W"
      },
      "source": [
        "## <font color='blue'>**`for` con strings**</font>"
      ]
    },
    {
      "cell_type": "code",
      "execution_count": null,
      "metadata": {
        "id": "q1GXtN76gk1X"
      },
      "outputs": [],
      "source": [
        "for letter in \"Esto es un string\":\n",
        "    print(letter)"
      ]
    },
    {
      "cell_type": "code",
      "execution_count": null,
      "metadata": {
        "id": "tz6VQdFxgk1X"
      },
      "outputs": [],
      "source": [
        "mystring = 'This is a string Hackers'\n",
        "\n",
        "for word in mystring.split():\n",
        "    print(word)"
      ]
    },
    {
      "cell_type": "markdown",
      "metadata": {
        "id": "VGdzluvagk1X"
      },
      "source": [
        "## <font color='blue'>**`for` con tuplas**</font>"
      ]
    },
    {
      "cell_type": "code",
      "execution_count": null,
      "metadata": {
        "id": "hCitaqh1gk1Y"
      },
      "outputs": [],
      "source": [
        "tup = (1, 2, 3, 4)\n",
        "\n",
        "for num in tup:\n",
        "    print(num)"
      ]
    },
    {
      "cell_type": "markdown",
      "metadata": {
        "id": "qbMF41QPgk1Y"
      },
      "source": [
        "## <font color='blue'>**Desempaquetado de tuplas (_tuple unpacking_)**</font>"
      ]
    },
    {
      "cell_type": "code",
      "execution_count": null,
      "metadata": {
        "id": "VEjEJAGqgk1Y"
      },
      "outputs": [],
      "source": [
        "list_of_tups = [(1, 2), (3, 4), (5, 6), (7, 8), (9, 10)]"
      ]
    },
    {
      "cell_type": "code",
      "execution_count": null,
      "metadata": {
        "id": "9Tv1hIwVgk1Y"
      },
      "outputs": [],
      "source": [
        "for x in list_of_tups:\n",
        "    print(x)"
      ]
    },
    {
      "cell_type": "code",
      "execution_count": null,
      "metadata": {
        "id": "OE5rWnXTgk1Z"
      },
      "outputs": [],
      "source": [
        "# Imprimimos el primer elemento de cada tupla\n",
        "for x in list_of_tups:\n",
        "    print(x[0])"
      ]
    },
    {
      "cell_type": "code",
      "execution_count": null,
      "metadata": {
        "id": "ghpIEFomgk1Z"
      },
      "outputs": [],
      "source": [
        "# Imprimimos el segundo elemento de cada tupla\n",
        "for x in list_of_tups:\n",
        "    print(x[1])"
      ]
    },
    {
      "cell_type": "markdown",
      "metadata": {
        "id": "_DW8-Zx_gk1a"
      },
      "source": [
        "Continuemos"
      ]
    },
    {
      "cell_type": "code",
      "execution_count": null,
      "metadata": {
        "id": "nAPLSRiGgk1a"
      },
      "outputs": [],
      "source": [
        "for (num1,num2) in list_of_tups:\n",
        "    print(num1)\n",
        "    print(num2)\n",
        "    print('\\n')"
      ]
    },
    {
      "cell_type": "code",
      "execution_count": null,
      "metadata": {
        "id": "q-b5J3VIgk1a"
      },
      "outputs": [],
      "source": [
        "# No necesitamos el paréntesis\n",
        "\n",
        "for num1, num2 in list_of_tups:\n",
        "    print(num1)\n",
        "    print(num2)\n",
        "    print('\\n')"
      ]
    },
    {
      "cell_type": "markdown",
      "metadata": {
        "id": "byfWAhbsgk1a"
      },
      "source": [
        "## <font color='blue'>**`for` con diccionarios**</font>"
      ]
    },
    {
      "cell_type": "code",
      "execution_count": null,
      "metadata": {
        "id": "98Ws1d4lgk1a"
      },
      "outputs": [],
      "source": [
        "counties_populations = {'Chile':'18', 'USA':'323', 'Germany':'83', 'India':'1324', 'Spain':'45'}"
      ]
    },
    {
      "cell_type": "markdown",
      "metadata": {
        "id": "rxGMOlXxgk1b"
      },
      "source": [
        "¡Recuerda que los diccionarios no mantienen ningún orden! ¡Así que recórrelos con esto en mente!"
      ]
    },
    {
      "cell_type": "code",
      "execution_count": null,
      "metadata": {
        "id": "f9bdBSJ9gk1b"
      },
      "outputs": [],
      "source": [
        "for item in counties_populations:\n",
        "    print(item)"
      ]
    },
    {
      "cell_type": "code",
      "execution_count": null,
      "metadata": {
        "id": "oFBGMBMSgk1b"
      },
      "outputs": [],
      "source": [
        "for k in counties_populations.keys():\n",
        "    print(k)"
      ]
    },
    {
      "cell_type": "code",
      "execution_count": null,
      "metadata": {
        "id": "zzTNfw4dgk1b"
      },
      "outputs": [],
      "source": [
        "for values in counties_populations.values():\n",
        "    print(values)"
      ]
    },
    {
      "cell_type": "markdown",
      "metadata": {
        "id": "7SfHfxydgk1b"
      },
      "source": [
        "## **Más usos de `for`**"
      ]
    },
    {
      "cell_type": "code",
      "execution_count": null,
      "metadata": {
        "id": "w22KyGS9gk1b"
      },
      "outputs": [],
      "source": [
        "for name in \"Sebastián\", \"Zavi\", \"Isidora\":\n",
        "    print(\"Hello \" + name)"
      ]
    },
    {
      "cell_type": "code",
      "execution_count": null,
      "metadata": {
        "id": "uxGdUwx4gk1b"
      },
      "outputs": [],
      "source": [
        "for i in range(10):\n",
        "    print(i)"
      ]
    },
    {
      "cell_type": "code",
      "execution_count": null,
      "metadata": {
        "id": "OJm7C-rZgk1c"
      },
      "outputs": [],
      "source": [
        "total = 0\n",
        "for i in 5, 7, 11, 13:\n",
        "    print(i)\n",
        "    total = total + i  # total += i\n",
        "\n",
        "print(total)"
      ]
    },
    {
      "cell_type": "markdown",
      "metadata": {
        "id": "cN_EFnvUgk1c"
      },
      "source": [
        "## <font color='blue'>**La sentencia `continue`**</font>\n",
        "\n",
        "La palabra clave `continue`puede ser un poco complicada para ver su utilidad. Te permite continuar con el ciclo de nivel superior, básicamente lo opuesto a break. Pasará tiempo antes de que te des cuenta de una buena situación para usarla, pero aquí hay un ejemplo simple:"
      ]
    },
    {
      "cell_type": "code",
      "execution_count": null,
      "metadata": {
        "id": "Gqp1IEdEgk1c"
      },
      "outputs": [],
      "source": [
        "for letter in 'code':\n",
        "    if letter == 'd':\n",
        "        continue\n",
        "\n",
        "    print(f'La letra actual es: {letter}')"
      ]
    },
    {
      "cell_type": "code",
      "execution_count": null,
      "metadata": {
        "id": "CguOgXdUgk1c"
      },
      "outputs": [],
      "source": [
        "list = []\n",
        "string = 'A este string le eliminaremos los espacios'\n",
        "for letra in string:\n",
        "    if letra != ' ':\n",
        "        list.append(letra)\n",
        "    else:\n",
        "        continue\n",
        "print(*list)"
      ]
    },
    {
      "cell_type": "markdown",
      "metadata": {
        "id": "cqdrb36Fgk1c"
      },
      "source": [
        "Intenta explicar qué paso aquí!!"
      ]
    },
    {
      "cell_type": "code",
      "execution_count": null,
      "metadata": {
        "id": "J5_rF_47gk1Z"
      },
      "outputs": [],
      "source": [
        "# EJECUTA ESTA CELDA. NO LA MODIFIQUES !!!\n",
        "\n",
        "list_of_tuples = [('A', ['B', 1]),\n",
        "                  ('C', ['D', 4]),\n",
        "                  ('E', ['F', 6]),\n",
        "                  ('G', ['H', 8]),\n",
        "                  ('I', ['J', 10])]"
      ]
    },
    {
      "cell_type": "code",
      "execution_count": null,
      "metadata": {
        "id": "baULOhDSgk1a"
      },
      "outputs": [],
      "source": [
        "# Tu código aquí ...\n",
        "\n"
      ]
    }
  ]
}