{
  "cells": [
    {
      "cell_type": "markdown",
      "metadata": {
        "id": "view-in-github",
        "colab_type": "text"
      },
      "source": [
        "<a href=\"https://colab.research.google.com/github/NatSama2/Bootcamp-Analisis-de-Datos/blob/main/Modulo-3/Funciones_20_Ejercicios_Basicos.ipynb\" target=\"_parent\"><img src=\"https://colab.research.google.com/assets/colab-badge.svg\" alt=\"Open In Colab\"/></a>"
      ]
    },
    {
      "cell_type": "markdown",
      "id": "2462c01f",
      "metadata": {
        "id": "2462c01f"
      },
      "source": [
        "# 🐍 Ejercicios de Funciones en Python (`def`)\n",
        "\n",
        "Este notebook contiene **20 ejercicios** para practicar la creación y uso de funciones en Python con la palabra clave `def`.\n",
        "\n",
        "Recuerda que una función en Python se define usando `def`, seguida del nombre de la función y paréntesis. Ejemplo:\n",
        "\n",
        "```python\n",
        "def saludar():\n",
        "    print(\"Hola mundo\")\n",
        "```\n"
      ]
    },
    {
      "cell_type": "markdown",
      "id": "f0246d60",
      "metadata": {
        "id": "f0246d60"
      },
      "source": [
        "### Ejercicio 1\n",
        "Crea una función `saludar()` que imprima '¡Hola, mundo!'."
      ]
    },
    {
      "cell_type": "code",
      "execution_count": null,
      "id": "6256dbef",
      "metadata": {
        "id": "6256dbef"
      },
      "outputs": [],
      "source": [
        "# Tu solución aquí\n"
      ]
    },
    {
      "cell_type": "markdown",
      "id": "5617c2e0",
      "metadata": {
        "id": "5617c2e0"
      },
      "source": [
        "### Ejercicio 2\n",
        "Crea una función `sumar(a, b)` que retorne la suma de dos números."
      ]
    },
    {
      "cell_type": "code",
      "execution_count": null,
      "id": "51e4b875",
      "metadata": {
        "id": "51e4b875"
      },
      "outputs": [],
      "source": [
        "# Tu solución aquí\n"
      ]
    },
    {
      "cell_type": "markdown",
      "id": "a7ce50ca",
      "metadata": {
        "id": "a7ce50ca"
      },
      "source": [
        "### Ejercicio 3\n",
        "Crea una función `es_par(numero)` que retorne True si el número es par, False si no."
      ]
    },
    {
      "cell_type": "code",
      "execution_count": null,
      "id": "23b170c7",
      "metadata": {
        "id": "23b170c7"
      },
      "outputs": [],
      "source": [
        "# Tu solución aquí\n"
      ]
    },
    {
      "cell_type": "markdown",
      "id": "c131025d",
      "metadata": {
        "id": "c131025d"
      },
      "source": [
        "### Ejercicio 4\n",
        "Crea una función `mayor(a, b)` que retorne el número mayor."
      ]
    },
    {
      "cell_type": "code",
      "execution_count": null,
      "id": "763ee815",
      "metadata": {
        "id": "763ee815"
      },
      "outputs": [],
      "source": [
        "# Tu solución aquí\n"
      ]
    },
    {
      "cell_type": "markdown",
      "id": "9e2c915c",
      "metadata": {
        "id": "9e2c915c"
      },
      "source": [
        "### Ejercicio 5\n",
        "Crea una función `cuadrado(n)` que retorne el cuadrado de un número."
      ]
    },
    {
      "cell_type": "code",
      "execution_count": null,
      "id": "ab6840cb",
      "metadata": {
        "id": "ab6840cb"
      },
      "outputs": [],
      "source": [
        "# Tu solución aquí\n"
      ]
    },
    {
      "cell_type": "markdown",
      "id": "d4b4b030",
      "metadata": {
        "id": "d4b4b030"
      },
      "source": [
        "### Ejercicio 6\n",
        "Crea una función `area_rectangulo(base, altura)` que calcule el área."
      ]
    },
    {
      "cell_type": "code",
      "execution_count": null,
      "id": "fdf96f84",
      "metadata": {
        "id": "fdf96f84"
      },
      "outputs": [],
      "source": [
        "# Tu solución aquí\n"
      ]
    },
    {
      "cell_type": "markdown",
      "id": "6194395b",
      "metadata": {
        "id": "6194395b"
      },
      "source": [
        "### Ejercicio 7\n",
        "Crea una función `es_multiplo(a, b)` que indique si `a` es múltiplo de `b`."
      ]
    },
    {
      "cell_type": "code",
      "execution_count": null,
      "id": "46f0d424",
      "metadata": {
        "id": "46f0d424"
      },
      "outputs": [],
      "source": [
        "# Tu solución aquí\n"
      ]
    },
    {
      "cell_type": "markdown",
      "id": "735c8ed7",
      "metadata": {
        "id": "735c8ed7"
      },
      "source": [
        "### Ejercicio 8\n",
        "Crea una función `repetir_mensaje(mensaje, veces)` que imprima el mensaje varias veces."
      ]
    },
    {
      "cell_type": "code",
      "execution_count": null,
      "id": "59f9be9e",
      "metadata": {
        "id": "59f9be9e"
      },
      "outputs": [],
      "source": [
        "# Tu solución aquí\n"
      ]
    },
    {
      "cell_type": "markdown",
      "id": "a32cc0d7",
      "metadata": {
        "id": "a32cc0d7"
      },
      "source": [
        "### Ejercicio 9\n",
        "Crea una función `contar_vocales(palabra)` que retorne el número de vocales."
      ]
    },
    {
      "cell_type": "code",
      "execution_count": null,
      "id": "b6778ea2",
      "metadata": {
        "id": "b6778ea2"
      },
      "outputs": [],
      "source": [
        "# Tu solución aquí\n"
      ]
    },
    {
      "cell_type": "markdown",
      "id": "cb3d3971",
      "metadata": {
        "id": "cb3d3971"
      },
      "source": [
        "### Ejercicio 10\n",
        "Crea una función `inverso(cadena)` que retorne la cadena al revés."
      ]
    },
    {
      "cell_type": "code",
      "execution_count": null,
      "id": "377b87d1",
      "metadata": {
        "id": "377b87d1"
      },
      "outputs": [],
      "source": [
        "# Tu solución aquí\n"
      ]
    },
    {
      "cell_type": "markdown",
      "id": "77024507",
      "metadata": {
        "id": "77024507"
      },
      "source": [
        "### Ejercicio 11\n",
        "Crea una función `suma_lista(lista)` que retorne la suma de todos los elementos."
      ]
    },
    {
      "cell_type": "code",
      "execution_count": null,
      "id": "c35a7428",
      "metadata": {
        "id": "c35a7428"
      },
      "outputs": [],
      "source": [
        "# Tu solución aquí\n"
      ]
    },
    {
      "cell_type": "markdown",
      "id": "7e03d915",
      "metadata": {
        "id": "7e03d915"
      },
      "source": [
        "### Ejercicio 12\n",
        "Crea una función `promedio(lista)` que calcule el promedio de una lista."
      ]
    },
    {
      "cell_type": "code",
      "execution_count": null,
      "id": "8ae299e9",
      "metadata": {
        "id": "8ae299e9"
      },
      "outputs": [],
      "source": [
        "# Tu solución aquí\n"
      ]
    },
    {
      "cell_type": "markdown",
      "id": "8a934939",
      "metadata": {
        "id": "8a934939"
      },
      "source": [
        "### Ejercicio 13\n",
        "Crea una función `longitud_palabras(lista)` que retorne la longitud de cada palabra."
      ]
    },
    {
      "cell_type": "code",
      "execution_count": null,
      "id": "698f4b1e",
      "metadata": {
        "id": "698f4b1e"
      },
      "outputs": [],
      "source": [
        "# Tu solución aquí\n"
      ]
    },
    {
      "cell_type": "markdown",
      "id": "eede005b",
      "metadata": {
        "id": "eede005b"
      },
      "source": [
        "### Ejercicio 14\n",
        "Crea una función `palindromo(palabra)` que indique si una palabra es palíndromo."
      ]
    },
    {
      "cell_type": "code",
      "execution_count": null,
      "id": "677e7ab7",
      "metadata": {
        "id": "677e7ab7"
      },
      "outputs": [],
      "source": [
        "# Tu solución aquí\n"
      ]
    },
    {
      "cell_type": "markdown",
      "id": "08c99060",
      "metadata": {
        "id": "08c99060"
      },
      "source": [
        "### Ejercicio 15\n",
        "Crea una función `factorial(n)` que calcule el factorial de un número."
      ]
    },
    {
      "cell_type": "code",
      "execution_count": null,
      "id": "f5364572",
      "metadata": {
        "id": "f5364572"
      },
      "outputs": [],
      "source": [
        "# Tu solución aquí\n"
      ]
    },
    {
      "cell_type": "markdown",
      "id": "bb807249",
      "metadata": {
        "id": "bb807249"
      },
      "source": [
        "### Ejercicio 16\n",
        "Crea una función `tabla_multiplicar(n)` que imprima la tabla del número `n`."
      ]
    },
    {
      "cell_type": "code",
      "execution_count": null,
      "id": "9c2640be",
      "metadata": {
        "id": "9c2640be"
      },
      "outputs": [],
      "source": [
        "# Tu solución aquí\n"
      ]
    },
    {
      "cell_type": "markdown",
      "id": "6555c912",
      "metadata": {
        "id": "6555c912"
      },
      "source": [
        "### Ejercicio 17\n",
        "Crea una función `convertir_grados(celsius)` que lo pase a Fahrenheit."
      ]
    },
    {
      "cell_type": "code",
      "execution_count": null,
      "id": "79083098",
      "metadata": {
        "id": "79083098"
      },
      "outputs": [],
      "source": [
        "# Tu solución aquí\n"
      ]
    },
    {
      "cell_type": "markdown",
      "id": "ba985e59",
      "metadata": {
        "id": "ba985e59"
      },
      "source": [
        "### Ejercicio 18\n",
        "Crea una función `mayusculas(cadena)` que retorne la cadena en mayúsculas."
      ]
    },
    {
      "cell_type": "code",
      "execution_count": null,
      "id": "be9e10a7",
      "metadata": {
        "id": "be9e10a7"
      },
      "outputs": [],
      "source": [
        "# Tu solución aquí\n"
      ]
    },
    {
      "cell_type": "markdown",
      "id": "1cd3c75e",
      "metadata": {
        "id": "1cd3c75e"
      },
      "source": [
        "### Ejercicio 19\n",
        "Crea una función `buscar_elemento(lista, elemento)` que indique si está en la lista."
      ]
    },
    {
      "cell_type": "code",
      "execution_count": null,
      "id": "c624ec84",
      "metadata": {
        "id": "c624ec84"
      },
      "outputs": [],
      "source": [
        "# Tu solución aquí\n"
      ]
    },
    {
      "cell_type": "markdown",
      "id": "3d78d61e",
      "metadata": {
        "id": "3d78d61e"
      },
      "source": [
        "### Ejercicio 20\n",
        "Crea una función `contar_palabra(texto, palabra)` que cuente cuántas veces aparece."
      ]
    },
    {
      "cell_type": "code",
      "execution_count": null,
      "id": "9a260ded",
      "metadata": {
        "id": "9a260ded"
      },
      "outputs": [],
      "source": [
        "# Tu solución aquí\n"
      ]
    }
  ],
  "metadata": {
    "colab": {
      "provenance": [],
      "include_colab_link": true
    }
  },
  "nbformat": 4,
  "nbformat_minor": 5
}