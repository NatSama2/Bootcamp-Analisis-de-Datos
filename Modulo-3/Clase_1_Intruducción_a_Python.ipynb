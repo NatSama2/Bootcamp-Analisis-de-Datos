{
  "nbformat": 4,
  "nbformat_minor": 0,
  "metadata": {
    "colab": {
      "provenance": [],
      "collapsed_sections": [
        "4UbITV14SKvj",
        "lX8Pc55LSKwz"
      ],
      "include_colab_link": true
    },
    "kernelspec": {
      "display_name": "Python 3 (ipykernel)",
      "language": "python",
      "name": "python3"
    },
    "language_info": {
      "codemirror_mode": {
        "name": "ipython",
        "version": 3
      },
      "file_extension": ".py",
      "mimetype": "text/x-python",
      "name": "python",
      "nbconvert_exporter": "python",
      "pygments_lexer": "ipython3",
      "version": "3.8.11"
    }
  },
  "cells": [
    {
      "cell_type": "markdown",
      "metadata": {
        "id": "view-in-github",
        "colab_type": "text"
      },
      "source": [
        "<a href=\"https://colab.research.google.com/github/NatSama2/Bootcamp-Analisis-de-Datos/blob/main/Modulo-3/Clase_1_Intruducci%C3%B3n_a_Python.ipynb\" target=\"_parent\"><img src=\"https://colab.research.google.com/assets/colab-badge.svg\" alt=\"Open In Colab\"/></a>"
      ]
    },
    {
      "cell_type": "markdown",
      "metadata": {
        "id": "ukqkTxThSKu5"
      },
      "source": [
        "# **Introducción a Python**\n",
        "# MODULO 3. Introducción a Python"
      ]
    },
    {
      "cell_type": "markdown",
      "metadata": {
        "id": "e__p9PGPyird"
      },
      "source": [
        "## <font color='orange'>Cómo aprenderemos Python?</font>\n",
        "Durante el presente curso, ustedes recibirán un entrenamiento para convertirse en agentes secretos de criptografía. Conocerán las reglas y secretos de Python a fondo y lograrán desarrollar un proyecto final en el cual desarrollarán una máquina [Enigma](https://es.wikipedia.org/wiki/Enigma_(máquina)). Con esta máquina criptográfica deberán descifrar el desafío final del curso.\n",
        "\n",
        "Mucha suerte aprendices de hackers!!"
      ]
    },
    {
      "cell_type": "markdown",
      "metadata": {
        "id": "pCqshoFASKu7"
      },
      "source": [
        "## <font color='blue'>**El Zen de Python**</font>\n",
        "El veterano pytonista Tim Peters, canaliza sucintamente los principios rectores para el diseño de Python en 19 aforismos. Se le conoce como **El Zen de Python**."
      ]
    },
    {
      "cell_type": "code",
      "metadata": {
        "id": "cIZbli-wSKu8",
        "collapsed": true,
        "outputId": "53ccd462-ebd6-4071-c98b-12f64ce16090",
        "colab": {
          "base_uri": "https://localhost:8080/"
        }
      },
      "source": [
        "# El Zen de Python\n",
        "import this"
      ],
      "execution_count": 1,
      "outputs": [
        {
          "output_type": "stream",
          "name": "stdout",
          "text": [
            "The Zen of Python, by Tim Peters\n",
            "\n",
            "Beautiful is better than ugly.\n",
            "Explicit is better than implicit.\n",
            "Simple is better than complex.\n",
            "Complex is better than complicated.\n",
            "Flat is better than nested.\n",
            "Sparse is better than dense.\n",
            "Readability counts.\n",
            "Special cases aren't special enough to break the rules.\n",
            "Although practicality beats purity.\n",
            "Errors should never pass silently.\n",
            "Unless explicitly silenced.\n",
            "In the face of ambiguity, refuse the temptation to guess.\n",
            "There should be one-- and preferably only one --obvious way to do it.\n",
            "Although that way may not be obvious at first unless you're Dutch.\n",
            "Now is better than never.\n",
            "Although never is often better than *right* now.\n",
            "If the implementation is hard to explain, it's a bad idea.\n",
            "If the implementation is easy to explain, it may be a good idea.\n",
            "Namespaces are one honking great idea -- let's do more of those!\n"
          ]
        }
      ]
    },
    {
      "cell_type": "markdown",
      "metadata": {
        "id": "j6TcNepCSKvA"
      },
      "source": [
        "## <font color='blue'>**Variables**</font>"
      ]
    },
    {
      "cell_type": "markdown",
      "metadata": {
        "id": "FsZ3ne33SKvC"
      },
      "source": [
        "Un nombre que se usa para denotar algo o un valor se llama variable. En Python, las variables se pueden declarar y se le pueden asignar valores de la siguiente manera,"
      ]
    },
    {
      "cell_type": "code",
      "metadata": {
        "id": "boRLkp-2SKvD"
      },
      "source": [
        "x = 2\n",
        "y = 5\n"
      ],
      "execution_count": 2,
      "outputs": []
    },
    {
      "cell_type": "code",
      "metadata": {
        "id": "m-xNhpDQSKvG",
        "collapsed": true,
        "colab": {
          "base_uri": "https://localhost:8080/"
        },
        "outputId": "747718c5-5100-4c26-bb09-227eb660148f"
      },
      "source": [
        "# Aquí usamos nuestra primera función: print()\n",
        "\n",
        "print(x + y)\n"
      ],
      "execution_count": 3,
      "outputs": [
        {
          "output_type": "stream",
          "name": "stdout",
          "text": [
            "7\n"
          ]
        }
      ]
    },
    {
      "cell_type": "markdown",
      "metadata": {
        "id": "3v_UgKKkSKvI"
      },
      "source": [
        "Multiples variables pueden ser asignadas con el mismo valor."
      ]
    },
    {
      "cell_type": "code",
      "metadata": {
        "id": "5mIoxxN9SKvJ"
      },
      "source": [
        "x = y = 20"
      ],
      "execution_count": 4,
      "outputs": []
    },
    {
      "cell_type": "code",
      "metadata": {
        "id": "H_-JtHX1SKvM",
        "colab": {
          "base_uri": "https://localhost:8080/"
        },
        "outputId": "c0575cfb-1199-4565-c1ec-889d768afdcf"
      },
      "source": [
        "print(x, y)"
      ],
      "execution_count": 5,
      "outputs": [
        {
          "output_type": "stream",
          "name": "stdout",
          "text": [
            "20 20\n"
          ]
        }
      ]
    },
    {
      "cell_type": "markdown",
      "metadata": {
        "id": "72RcAngJSKvP"
      },
      "source": [
        "Si has programado en otros lenguajes, probablemente aprendiste que las variables eran una suerte de \"caja\" en la cual guardabas algo. En Python ese concepto es algo distinto. Mira:"
      ]
    },
    {
      "cell_type": "code",
      "metadata": {
        "id": "4JemAWBcSKvP"
      },
      "source": [
        "a = 1"
      ],
      "execution_count": 6,
      "outputs": []
    },
    {
      "cell_type": "code",
      "metadata": {
        "id": "lamwRl8ISKvS",
        "colab": {
          "base_uri": "https://localhost:8080/"
        },
        "outputId": "71b83d8e-a554-4ca0-fe54-8c12ae72cda8"
      },
      "source": [
        "id(a)"
      ],
      "execution_count": 7,
      "outputs": [
        {
          "output_type": "execute_result",
          "data": {
            "text/plain": [
              "10757736"
            ]
          },
          "metadata": {},
          "execution_count": 7
        }
      ]
    },
    {
      "cell_type": "code",
      "source": [],
      "metadata": {
        "id": "yyytN_by6u_S"
      },
      "execution_count": 7,
      "outputs": []
    },
    {
      "cell_type": "markdown",
      "metadata": {
        "id": "3pUY587JyeNv"
      },
      "source": [
        "Si te fijas el identificador de $a$, `id(a)`, nos da un valor. Si asigno 1 a otra variable, en este caso $b$, te darás cuenta que se obtiene el mismo identificador. En Python las variables apuntan a direcciones de memoria en las cuales se almacenan objetos."
      ]
    },
    {
      "cell_type": "code",
      "metadata": {
        "id": "yvvt-KgESKvV"
      },
      "source": [
        "b = 1"
      ],
      "execution_count": 8,
      "outputs": []
    },
    {
      "cell_type": "code",
      "metadata": {
        "id": "svNrsowiSKvY",
        "colab": {
          "base_uri": "https://localhost:8080/"
        },
        "outputId": "e967e057-9328-4b87-d5cb-e792381b3a6f"
      },
      "source": [
        "id(b)"
      ],
      "execution_count": 9,
      "outputs": [
        {
          "output_type": "execute_result",
          "data": {
            "text/plain": [
              "10757736"
            ]
          },
          "metadata": {},
          "execution_count": 9
        }
      ]
    },
    {
      "cell_type": "code",
      "metadata": {
        "id": "jk-XjX5TSKva",
        "colab": {
          "base_uri": "https://localhost:8080/"
        },
        "outputId": "59c93b8c-b649-4079-c8c6-b6770503b37b"
      },
      "source": [
        "# Veamos si son iguales usando el operador ==\n",
        "id(a) == id(b)"
      ],
      "execution_count": 10,
      "outputs": [
        {
          "output_type": "execute_result",
          "data": {
            "text/plain": [
              "True"
            ]
          },
          "metadata": {},
          "execution_count": 10
        }
      ]
    },
    {
      "cell_type": "code",
      "metadata": {
        "id": "6H0YTx5kSKve",
        "colab": {
          "base_uri": "https://localhost:8080/"
        },
        "outputId": "0c118258-0d8a-415f-8c7b-f52e90546f50"
      },
      "source": [
        "id(1)"
      ],
      "execution_count": 11,
      "outputs": [
        {
          "output_type": "execute_result",
          "data": {
            "text/plain": [
              "10757736"
            ]
          },
          "metadata": {},
          "execution_count": 11
        }
      ]
    },
    {
      "cell_type": "code",
      "metadata": {
        "id": "xwqfn4x3SKvh",
        "colab": {
          "base_uri": "https://localhost:8080/"
        },
        "outputId": "567e1c79-7937-4417-a1aa-77bc949557ce"
      },
      "source": [
        "id(a) == id(b) == id(1)"
      ],
      "execution_count": 12,
      "outputs": [
        {
          "output_type": "execute_result",
          "data": {
            "text/plain": [
              "True"
            ]
          },
          "metadata": {},
          "execution_count": 12
        }
      ]
    },
    {
      "cell_type": "markdown",
      "metadata": {
        "id": "4UbITV14SKvj"
      },
      "source": [
        "## <font color='blue'>**Operadores**</font>"
      ]
    },
    {
      "cell_type": "markdown",
      "metadata": {
        "id": "3YUg138HSKvk"
      },
      "source": [
        "## Operadores aritméticos"
      ]
    },
    {
      "cell_type": "markdown",
      "metadata": {
        "id": "-2ku2AyFSKvk"
      },
      "source": [
        "| Símbolo | Tarea ejecutada |\n",
        "|:---:|---:|\n",
        "| +  | Suma |\n",
        "| -  | Resta |\n",
        "| /  | División |\n",
        "| %  | Módulo |\n",
        "| *  | Multiplicación |\n",
        "| //  | Función de parte entera - Piso |\n",
        "| **  | Potencia |"
      ]
    },
    {
      "cell_type": "code",
      "metadata": {
        "id": "uieR0l0kSKvl",
        "colab": {
          "base_uri": "https://localhost:8080/"
        },
        "outputId": "30f08cd4-234c-4652-cc4e-3da7e79b320f"
      },
      "source": [
        "# Suma\n",
        "1 + 2"
      ],
      "execution_count": 13,
      "outputs": [
        {
          "output_type": "execute_result",
          "data": {
            "text/plain": [
              "3"
            ]
          },
          "metadata": {},
          "execution_count": 13
        }
      ]
    },
    {
      "cell_type": "code",
      "metadata": {
        "id": "9VFGD5TkSKvo",
        "colab": {
          "base_uri": "https://localhost:8080/"
        },
        "outputId": "24a72feb-6131-4e8d-e23c-dfdaecde4d32"
      },
      "source": [
        "# Resta\n",
        "2 - 1"
      ],
      "execution_count": 14,
      "outputs": [
        {
          "output_type": "execute_result",
          "data": {
            "text/plain": [
              "1"
            ]
          },
          "metadata": {},
          "execution_count": 14
        }
      ]
    },
    {
      "cell_type": "code",
      "metadata": {
        "id": "fERDe26CSKvq",
        "colab": {
          "base_uri": "https://localhost:8080/"
        },
        "outputId": "b98192b9-4f2a-4b2e-d057-f09c14e0973a"
      },
      "source": [
        "# Multiplicación\n",
        "1 * 2"
      ],
      "execution_count": 15,
      "outputs": [
        {
          "output_type": "execute_result",
          "data": {
            "text/plain": [
              "2"
            ]
          },
          "metadata": {},
          "execution_count": 15
        }
      ]
    },
    {
      "cell_type": "code",
      "metadata": {
        "id": "n8BJnmnVSKvt",
        "colab": {
          "base_uri": "https://localhost:8080/"
        },
        "outputId": "ceb63c20-d367-4b27-920e-cad5b5029dd5"
      },
      "source": [
        "# División\n",
        "1 / 2"
      ],
      "execution_count": 16,
      "outputs": [
        {
          "output_type": "execute_result",
          "data": {
            "text/plain": [
              "0.5"
            ]
          },
          "metadata": {},
          "execution_count": 16
        }
      ]
    },
    {
      "cell_type": "code",
      "metadata": {
        "id": "QZLQlxRCSKvv",
        "colab": {
          "base_uri": "https://localhost:8080/"
        },
        "outputId": "d687a44d-741e-4e08-e9b8-78683b404bc8"
      },
      "source": [
        "# División. Entrega muchos decimales\n",
        "4/7"
      ],
      "execution_count": 17,
      "outputs": [
        {
          "output_type": "execute_result",
          "data": {
            "text/plain": [
              "0.5714285714285714"
            ]
          },
          "metadata": {},
          "execution_count": 17
        }
      ]
    },
    {
      "cell_type": "code",
      "metadata": {
        "id": "9ZizYm_qSKvy",
        "colab": {
          "base_uri": "https://localhost:8080/"
        },
        "outputId": "76a3e737-bf68-4c4b-956c-80b7e2900b5d"
      },
      "source": [
        "# Módulo\n",
        "15 % 6"
      ],
      "execution_count": 18,
      "outputs": [
        {
          "output_type": "execute_result",
          "data": {
            "text/plain": [
              "3"
            ]
          },
          "metadata": {},
          "execution_count": 18
        }
      ]
    },
    {
      "cell_type": "markdown",
      "metadata": {
        "id": "SEw_41wqSKv0"
      },
      "source": [
        "La división de piso no es más que convertir el resultado así obtenido al número entero más cercano."
      ]
    },
    {
      "cell_type": "code",
      "metadata": {
        "id": "QHbkT1mYSKv0",
        "colab": {
          "base_uri": "https://localhost:8080/"
        },
        "outputId": "f2fb6a36-dfa8-4fca-b8fa-eac70365ab4a"
      },
      "source": [
        "# Floor division\n",
        "15/4"
      ],
      "execution_count": 19,
      "outputs": [
        {
          "output_type": "execute_result",
          "data": {
            "text/plain": [
              "3.75"
            ]
          },
          "metadata": {},
          "execution_count": 19
        }
      ]
    },
    {
      "cell_type": "markdown",
      "metadata": {
        "id": "grtcaAvsSKv3"
      },
      "source": [
        "## Operadores relacionales"
      ]
    },
    {
      "cell_type": "markdown",
      "metadata": {
        "id": "kE7nh7-oSKv4"
      },
      "source": [
        "|   Símbolo   | Tarea ejecutada |\n",
        "|:-----:|---|\n",
        "| == | igual |\n",
        "| !=  | no igual |\n",
        "| < | menor que |\n",
        "| > | mayor que |\n",
        "| <=  | menor o igual queo |\n",
        "| >=  | mayor o igual que |"
      ]
    },
    {
      "cell_type": "code",
      "metadata": {
        "id": "gTDrLtZGyeN0"
      },
      "source": [
        "z = 1"
      ],
      "execution_count": 20,
      "outputs": []
    },
    {
      "cell_type": "code",
      "metadata": {
        "id": "YJwbtHseSKv6",
        "colab": {
          "base_uri": "https://localhost:8080/"
        },
        "outputId": "611dfe74-2222-4159-b5e8-fca3b694d77a"
      },
      "source": [
        "print(z)"
      ],
      "execution_count": 21,
      "outputs": [
        {
          "output_type": "stream",
          "name": "stdout",
          "text": [
            "1\n"
          ]
        }
      ]
    },
    {
      "cell_type": "code",
      "metadata": {
        "id": "ow9c7CzeSKv9",
        "colab": {
          "base_uri": "https://localhost:8080/"
        },
        "outputId": "0bb614d1-9286-431b-ccb8-1e563039cb71"
      },
      "source": [
        "z == 2"
      ],
      "execution_count": 22,
      "outputs": [
        {
          "output_type": "execute_result",
          "data": {
            "text/plain": [
              "False"
            ]
          },
          "metadata": {},
          "execution_count": 22
        }
      ]
    },
    {
      "cell_type": "code",
      "metadata": {
        "id": "UB3Aags_SKv_",
        "colab": {
          "base_uri": "https://localhost:8080/"
        },
        "outputId": "0aab3f11-498d-48cf-9c0e-99e59a144358"
      },
      "source": [
        "z >= 1"
      ],
      "execution_count": 23,
      "outputs": [
        {
          "output_type": "execute_result",
          "data": {
            "text/plain": [
              "True"
            ]
          },
          "metadata": {},
          "execution_count": 23
        }
      ]
    },
    {
      "cell_type": "code",
      "metadata": {
        "id": "FfYBlVx6SKwC",
        "colab": {
          "base_uri": "https://localhost:8080/"
        },
        "outputId": "fc69cfa8-cd6f-4570-9f8a-aa598bff7af0"
      },
      "source": [
        "z == 1.0"
      ],
      "execution_count": 24,
      "outputs": [
        {
          "output_type": "execute_result",
          "data": {
            "text/plain": [
              "True"
            ]
          },
          "metadata": {},
          "execution_count": 24
        }
      ]
    },
    {
      "cell_type": "code",
      "metadata": {
        "id": "rOonkgUISKwF",
        "colab": {
          "base_uri": "https://localhost:8080/"
        },
        "outputId": "af337177-86b7-40d9-fb31-4965be1f9984"
      },
      "source": [
        "id(z) == id(1.0)"
      ],
      "execution_count": 25,
      "outputs": [
        {
          "output_type": "execute_result",
          "data": {
            "text/plain": [
              "False"
            ]
          },
          "metadata": {},
          "execution_count": 25
        }
      ]
    },
    {
      "cell_type": "markdown",
      "metadata": {
        "id": "ZsI8yjNtSKwH"
      },
      "source": [
        "## <font color='blue'>**Algunas funciones interesantes**</font>"
      ]
    },
    {
      "cell_type": "markdown",
      "metadata": {
        "id": "YOYMfCNZSKwH"
      },
      "source": [
        "Veamos qué es una función primero.\n",
        "\n",
        "**Función**: Una función es un bloque de código con un nombre asociado, que recibe cero o más argumentos como entrada, sigue una secuencia de sentencias, la cuales ejecuta una operación deseada y devuelve un valor y/o realiza una tarea. Este bloque puede ser llamados cuando se necesite.\n",
        "\n",
        "Python implementa muchas funciones en sus librerías básicas.\n",
        "\n",
        "A continuación algunas de ellas:"
      ]
    },
    {
      "cell_type": "markdown",
      "metadata": {
        "id": "XjksHFZzSKwI"
      },
      "source": [
        "__`round()`__<br>\n",
        "Esta función redondea el valor de entrada a un número específico de lugares o al número entero más cercano."
      ]
    },
    {
      "cell_type": "code",
      "metadata": {
        "id": "tSmh5C3dSKwI",
        "colab": {
          "base_uri": "https://localhost:8080/"
        },
        "outputId": "3182dfa0-6ef2-4909-9052-45750bb81857"
      },
      "source": [
        "round(3.1415)"
      ],
      "execution_count": 26,
      "outputs": [
        {
          "output_type": "execute_result",
          "data": {
            "text/plain": [
              "3"
            ]
          },
          "metadata": {},
          "execution_count": 26
        }
      ]
    },
    {
      "cell_type": "markdown",
      "metadata": {
        "id": "9B7M6d2OSKwK"
      },
      "source": [
        "<div class=\"alert alert-block alert-warning\">\n",
        "<b>TIP:</b> en Python, como en muchos lenguajes de programación, la separación de unidades de mil y decimales es con notación inglesa; i.e., se utilizan comas para las unidades de mil y punto para los decimales.\n",
        "</div>"
      ]
    },
    {
      "cell_type": "code",
      "metadata": {
        "id": "w3cNeFqmSKwL",
        "colab": {
          "base_uri": "https://localhost:8080/"
        },
        "outputId": "260ad261-692a-436f-d1cd-5dd5c6b556a4"
      },
      "source": [
        "print(round(5.6231))\n",
        "print(round(4.55892, 3))"
      ],
      "execution_count": 27,
      "outputs": [
        {
          "output_type": "stream",
          "name": "stdout",
          "text": [
            "6\n",
            "4.559\n"
          ]
        }
      ]
    },
    {
      "cell_type": "code",
      "metadata": {
        "id": "NJLfDDLeSKwN",
        "colab": {
          "base_uri": "https://localhost:8080/"
        },
        "outputId": "b9864d2c-3722-4f74-e94e-aabf7980f40d"
      },
      "source": [
        "print(round(1.1234567,5))\n",
        "print(round(1.5))"
      ],
      "execution_count": 28,
      "outputs": [
        {
          "output_type": "stream",
          "name": "stdout",
          "text": [
            "1.12346\n",
            "2\n"
          ]
        }
      ]
    },
    {
      "cell_type": "markdown",
      "metadata": {
        "id": "kCBdlYlmSKwP"
      },
      "source": [
        "**`type()`** <br>\n",
        "La función `type()` es probablemente las más usada en Python; ella nos entrega en tipo de objeto que estamos manejando."
      ]
    },
    {
      "cell_type": "code",
      "metadata": {
        "id": "-k-L3GrESKwP"
      },
      "source": [
        "b = 10"
      ],
      "execution_count": 29,
      "outputs": []
    },
    {
      "cell_type": "code",
      "metadata": {
        "id": "tR7gdpifSKwS",
        "colab": {
          "base_uri": "https://localhost:8080/"
        },
        "outputId": "ab8c8b12-e07f-4c0c-8683-e6093afa8f51"
      },
      "source": [
        "type(b)"
      ],
      "execution_count": 30,
      "outputs": [
        {
          "output_type": "execute_result",
          "data": {
            "text/plain": [
              "int"
            ]
          },
          "metadata": {},
          "execution_count": 30
        }
      ]
    },
    {
      "cell_type": "code",
      "metadata": {
        "id": "FUJBExGvSKwU",
        "colab": {
          "base_uri": "https://localhost:8080/"
        },
        "outputId": "05537652-d797-4779-ca43-a3b35c7a7162"
      },
      "source": [
        "type(\"Hola mundo\")"
      ],
      "execution_count": 31,
      "outputs": [
        {
          "output_type": "execute_result",
          "data": {
            "text/plain": [
              "str"
            ]
          },
          "metadata": {},
          "execution_count": 31
        }
      ]
    },
    {
      "cell_type": "code",
      "metadata": {
        "id": "nODNpEVRSKwW"
      },
      "source": [
        "c = 3\n",
        "d = b / c"
      ],
      "execution_count": 32,
      "outputs": []
    },
    {
      "cell_type": "code",
      "metadata": {
        "id": "XMcWkHcbSKwY",
        "colab": {
          "base_uri": "https://localhost:8080/"
        },
        "outputId": "b41295f6-f355-45b8-b916-37488c6e9f36"
      },
      "source": [
        "type(d)"
      ],
      "execution_count": 33,
      "outputs": [
        {
          "output_type": "execute_result",
          "data": {
            "text/plain": [
              "float"
            ]
          },
          "metadata": {},
          "execution_count": 33
        }
      ]
    },
    {
      "cell_type": "markdown",
      "metadata": {
        "id": "v6RI0GKWSKwa"
      },
      "source": [
        "**`range()`**<br>\n",
        "Esta función crea una lista de elementos del tipo `range`. La veremos en detalle más adelante."
      ]
    },
    {
      "cell_type": "code",
      "metadata": {
        "id": "2XzLvyyRSKwa",
        "colab": {
          "base_uri": "https://localhost:8080/"
        },
        "outputId": "da3235e2-d5dc-4a11-c15c-d723c8f2638e"
      },
      "source": [
        "range(3)\n",
        "#range(2,9)\n",
        "#range(2,27,8)"
      ],
      "execution_count": 34,
      "outputs": [
        {
          "output_type": "execute_result",
          "data": {
            "text/plain": [
              "range(0, 3)"
            ]
          },
          "metadata": {},
          "execution_count": 34
        }
      ]
    },
    {
      "cell_type": "code",
      "metadata": {
        "id": "P8sQo10fSKwc",
        "colab": {
          "base_uri": "https://localhost:8080/"
        },
        "outputId": "781e9209-0d77-449c-a07f-0c352aa9c9b0"
      },
      "source": [
        "type(range(3))"
      ],
      "execution_count": 35,
      "outputs": [
        {
          "output_type": "execute_result",
          "data": {
            "text/plain": [
              "range"
            ]
          },
          "metadata": {},
          "execution_count": 35
        }
      ]
    },
    {
      "cell_type": "code",
      "metadata": {
        "id": "gxdfofgdSKwe",
        "colab": {
          "base_uri": "https://localhost:8080/"
        },
        "outputId": "54393083-3099-4d21-8f79-cffd87c5b59b"
      },
      "source": [
        "len(range(3))"
      ],
      "execution_count": 36,
      "outputs": [
        {
          "output_type": "execute_result",
          "data": {
            "text/plain": [
              "3"
            ]
          },
          "metadata": {},
          "execution_count": 36
        }
      ]
    },
    {
      "cell_type": "code",
      "metadata": {
        "id": "qUeUbkiaSKwi",
        "colab": {
          "base_uri": "https://localhost:8080/"
        },
        "outputId": "a178f634-6c9e-4b24-d1a8-21dead6170f5"
      },
      "source": [
        "# Guardemos el resultado de range en una variable\n",
        "r = range(2,9)\n",
        "r"
      ],
      "execution_count": 37,
      "outputs": [
        {
          "output_type": "execute_result",
          "data": {
            "text/plain": [
              "range(2, 9)"
            ]
          },
          "metadata": {},
          "execution_count": 37
        }
      ]
    },
    {
      "cell_type": "code",
      "metadata": {
        "id": "d85QmjSsSKwk",
        "colab": {
          "base_uri": "https://localhost:8080/"
        },
        "outputId": "e0dbb27f-25f0-4395-ed3b-c1ff2772604b"
      },
      "source": [
        "# Verifiquemos el tipo\n",
        "type(r)"
      ],
      "execution_count": 38,
      "outputs": [
        {
          "output_type": "execute_result",
          "data": {
            "text/plain": [
              "range"
            ]
          },
          "metadata": {},
          "execution_count": 38
        }
      ]
    },
    {
      "cell_type": "markdown",
      "metadata": {
        "id": "z2sxrl4NSKwu"
      },
      "source": [
        "**`help()`**<br>\n",
        "La función `help()` nos entrega una descripción detallada del objeto pasado como argumento."
      ]
    },
    {
      "cell_type": "markdown",
      "metadata": {
        "id": "lX8Pc55LSKwz"
      },
      "source": [
        "## <font color='blue'>**Guía de estilos para el código de Python**</font>"
      ]
    },
    {
      "cell_type": "markdown",
      "metadata": {
        "id": "Uubr3gOe45dD"
      },
      "source": [
        "# **Introducción a Python**\n",
        "# FP02. Imprimiendo"
      ]
    },
    {
      "cell_type": "markdown",
      "metadata": {
        "id": "A_HrwolY45dH"
      },
      "source": [
        "## <font color='blue'>**La función `print()`**</font>"
      ]
    },
    {
      "cell_type": "code",
      "metadata": {
        "id": "AFE_Aq-S45dH",
        "colab": {
          "base_uri": "https://localhost:8080/"
        },
        "outputId": "29dc19f7-479e-4321-e903-b919603eda97"
      },
      "source": [
        "print(\"Hello World\")"
      ],
      "execution_count": 39,
      "outputs": [
        {
          "output_type": "stream",
          "name": "stdout",
          "text": [
            "Hello World\n"
          ]
        }
      ]
    },
    {
      "cell_type": "code",
      "source": [
        "## from google.colab import drive\n",
        "## drive.mount('/content/drive')"
      ],
      "metadata": {
        "id": "NP6DnqDUg8xY"
      },
      "execution_count": 40,
      "outputs": []
    },
    {
      "cell_type": "markdown",
      "metadata": {
        "id": "iuQxBj0-45dJ"
      },
      "source": [
        "<div class=\"alert alert-block alert-warning\">\n",
        "<b>TIP: </b>En Python, las comillas simples, dobles y triples se utilizan para denotar una cadena o _string_. <br>\n",
        "La mayoría usa comillas simples al declarar un solo carácter. <br>\n",
        "Comillas dobles al declarar una línea y ... <br>\n",
        "Comillas triples al declarar un párrafo / varias líneas.\n",
        "</div>\n",
        "\n"
      ]
    },
    {
      "cell_type": "code",
      "metadata": {
        "id": "yG9KoimR45dK",
        "colab": {
          "base_uri": "https://localhost:8080/"
        },
        "outputId": "a5efdc8d-c53b-4fd2-8ceb-01a5012eda3f"
      },
      "source": [
        "print('A')"
      ],
      "execution_count": 41,
      "outputs": [
        {
          "output_type": "stream",
          "name": "stdout",
          "text": [
            "A\n"
          ]
        }
      ]
    },
    {
      "cell_type": "code",
      "metadata": {
        "id": "JPCF9aOd45dK",
        "colab": {
          "base_uri": "https://localhost:8080/"
        },
        "outputId": "fecab22b-ff2a-4cbf-96c2-710c83df0032"
      },
      "source": [
        "print(\"Hello World\")"
      ],
      "execution_count": 42,
      "outputs": [
        {
          "output_type": "stream",
          "name": "stdout",
          "text": [
            "Hello World\n"
          ]
        }
      ]
    },
    {
      "cell_type": "code",
      "metadata": {
        "id": "ltpG5eD-45dL",
        "colab": {
          "base_uri": "https://localhost:8080/"
        },
        "outputId": "64a08f7c-4398-49cd-c7f4-86f5a878e475"
      },
      "source": [
        "print (\"\"\"My name is <Manuel> and\n",
        "\n",
        "I love Python.\"\"\")"
      ],
      "execution_count": 43,
      "outputs": [
        {
          "output_type": "stream",
          "name": "stdout",
          "text": [
            "My name is <Manuel> and\n",
            "\n",
            "I love Python.\n"
          ]
        }
      ]
    },
    {
      "cell_type": "markdown",
      "metadata": {
        "id": "e047uSG145dM"
      },
      "source": [
        "Las cadenas se pueden asignar a una variable, por ejemplo, _string1_ y _string2_, las cuales se pueden llamar cuando se usa la función de impresión."
      ]
    },
    {
      "cell_type": "code",
      "metadata": {
        "scrolled": true,
        "id": "vihFnQz945dM",
        "colab": {
          "base_uri": "https://localhost:8080/"
        },
        "outputId": "683683ce-3d66-47ce-a581-f395c628fff6"
      },
      "source": [
        "string1 = 'World'\n",
        "print('Hello', string1)\n",
        "\n",
        "string2 = '!'\n",
        "print('Hello', string1, string2)"
      ],
      "execution_count": 44,
      "outputs": [
        {
          "output_type": "stream",
          "name": "stdout",
          "text": [
            "Hello World\n",
            "Hello World !\n"
          ]
        }
      ]
    },
    {
      "cell_type": "markdown",
      "metadata": {
        "id": "4Jvw7PGO45dN"
      },
      "source": [
        "La concatenación de cadenas es la \"suma\" de dos cadenas. Observe que durante la concatenación no habrá espacio entre las dos cadenas o strings."
      ]
    },
    {
      "cell_type": "code",
      "metadata": {
        "id": "FtmHxu-A45dN",
        "colab": {
          "base_uri": "https://localhost:8080/"
        },
        "outputId": "e8a92b40-2540-48fa-b447-e2cfcb52d036"
      },
      "source": [
        "print('Hello' + \" \"+ string1 + string2)"
      ],
      "execution_count": 45,
      "outputs": [
        {
          "output_type": "stream",
          "name": "stdout",
          "text": [
            "Hello World!\n"
          ]
        }
      ]
    },
    {
      "cell_type": "markdown",
      "metadata": {
        "id": "AArQn7sJ45dO"
      },
      "source": [
        "## <font color='blue'>**String formating (formateo)**</font>\n",
        "\n",
        "Hay varias opciones para formatear las salidas de la funcion `print()` en Python. Dos de ellas ya están obsoletas (`%-formating` y `str.format()`), y la tercera es la que actualmente se usa (`f-Strings`).\n",
        "\n",
        "Encontrarás mucho código con las formas antiguas, así es que debes aprenderlas también."
      ]
    },
    {
      "cell_type": "markdown",
      "metadata": {
        "id": "MAzKr1cG45dO"
      },
      "source": [
        "## <font color='blue'>**La vieja escuela**</font>"
      ]
    },
    {
      "cell_type": "markdown",
      "metadata": {
        "id": "L3D2jpmr45dP"
      },
      "source": [
        "## Opción 1: %-formatting (obsoleta)"
      ]
    },
    {
      "cell_type": "code",
      "metadata": {
        "id": "5xEADPNL45dP",
        "colab": {
          "base_uri": "https://localhost:8080/",
          "height": 35
        },
        "outputId": "ef2d7402-07cf-420f-f831-766a2c6d9761"
      },
      "source": [
        "nombre = \"Juan\"\n",
        "\"Hola, %s.\" % nombre"
      ],
      "execution_count": 46,
      "outputs": [
        {
          "output_type": "execute_result",
          "data": {
            "text/plain": [
              "'Hola, Juan.'"
            ],
            "application/vnd.google.colaboratory.intrinsic+json": {
              "type": "string"
            }
          },
          "metadata": {},
          "execution_count": 46
        }
      ]
    },
    {
      "cell_type": "code",
      "metadata": {
        "id": "dAl5XMMT45dP",
        "colab": {
          "base_uri": "https://localhost:8080/",
          "height": 35
        },
        "outputId": "d18118a8-a36c-45d0-ac7c-31e90c8d8ffe"
      },
      "source": [
        "nombre = \"Juan\"\n",
        "edad = 34\n",
        "\n",
        "\"Hola, %s. Tú tienes %s años.\" % (nombre, edad)"
      ],
      "execution_count": 47,
      "outputs": [
        {
          "output_type": "execute_result",
          "data": {
            "text/plain": [
              "'Hola, Juan. Tú tienes 34 años.'"
            ],
            "application/vnd.google.colaboratory.intrinsic+json": {
              "type": "string"
            }
          },
          "metadata": {},
          "execution_count": 47
        }
      ]
    },
    {
      "cell_type": "markdown",
      "metadata": {
        "id": "lRYQwC0n45dQ"
      },
      "source": [
        "Esta lógica de formateo resultó ser muy verborreica (verbose) y propensa a errores"
      ]
    },
    {
      "cell_type": "code",
      "metadata": {
        "id": "sCo4GBKi45dR",
        "colab": {
          "base_uri": "https://localhost:8080/",
          "height": 35
        },
        "outputId": "061d4bc4-598c-4e76-e1a4-6e733fcaf422"
      },
      "source": [
        "nombre = \"Juan\"\n",
        "apellido = \"Perez\"\n",
        "edad = 74\n",
        "profesion = \"comediante\"\n",
        "afiliacion = \"Monty Python\"\n",
        "\"Hola, %s %s. Tú tienes %s años. Eres un %s. Eres miembro de %s.\" % (nombre, apellido, edad, profesion, afiliacion)"
      ],
      "execution_count": 48,
      "outputs": [
        {
          "output_type": "execute_result",
          "data": {
            "text/plain": [
              "'Hola, Juan Perez. Tú tienes 74 años. Eres un comediante. Eres miembro de Monty Python.'"
            ],
            "application/vnd.google.colaboratory.intrinsic+json": {
              "type": "string"
            }
          },
          "metadata": {},
          "execution_count": 48
        }
      ]
    },
    {
      "cell_type": "markdown",
      "metadata": {
        "id": "yF6DlCXb45dR"
      },
      "source": [
        "## Opción 2: str.format() (obsoleta)\n",
        "\n",
        "En esta opción, se reemplazarán los campos marcados con corchetes { }"
      ]
    },
    {
      "cell_type": "code",
      "metadata": {
        "id": "15VpXNn145dS",
        "colab": {
          "base_uri": "https://localhost:8080/",
          "height": 35
        },
        "outputId": "3d89bb10-855f-4e8b-b611-adaf9cb68190"
      },
      "source": [
        "# Podemos manejar la posición de las variables en el string de salida\n",
        "\"Hola, {}. Tu tienes {}.\".format(nombre, edad)"
      ],
      "execution_count": 49,
      "outputs": [
        {
          "output_type": "execute_result",
          "data": {
            "text/plain": [
              "'Hola, Juan. Tu tienes 74.'"
            ],
            "application/vnd.google.colaboratory.intrinsic+json": {
              "type": "string"
            }
          },
          "metadata": {},
          "execution_count": 49
        }
      ]
    },
    {
      "cell_type": "code",
      "metadata": {
        "id": "glQhCJYb45dS",
        "colab": {
          "base_uri": "https://localhost:8080/",
          "height": 35
        },
        "outputId": "d67d3d92-7c91-4cb6-c967-9ecc2f2d5b73"
      },
      "source": [
        "\"Hola, {1}. Tu tienes {0}.\".format(edad, nombre)"
      ],
      "execution_count": 50,
      "outputs": [
        {
          "output_type": "execute_result",
          "data": {
            "text/plain": [
              "'Hola, Juan. Tu tienes 74.'"
            ],
            "application/vnd.google.colaboratory.intrinsic+json": {
              "type": "string"
            }
          },
          "metadata": {},
          "execution_count": 50
        }
      ]
    },
    {
      "cell_type": "markdown",
      "metadata": {
        "id": "deOGmZTA45dS"
      },
      "source": [
        "Podemos utilizar otras notaciones numéricas durante el formateo\n",
        "\n",
        "    - %s -> string\n",
        "    - %d -> Integer\n",
        "    - %f -> Float\n",
        "    - %o -> Octal\n",
        "    - %x -> Hexadecimal\n",
        "    - %e -> exponential\n",
        "    \n",
        "Pueden ser utilizados dentro de la función `print()` para convertir los tipos de datos."
      ]
    },
    {
      "cell_type": "code",
      "metadata": {
        "id": "dFV7piGs45dT",
        "colab": {
          "base_uri": "https://localhost:8080/"
        },
        "outputId": "ff9d2be3-685b-4753-bd14-f648d901f200"
      },
      "source": [
        "# Utilizando la Opción 1\n",
        "\n",
        "print (\"Actual Number = %d\" %18)\n",
        "print (\"Float of the number = %f\" %18)\n",
        "print (\"Octal equivalent of the number = %o\" %18)\n",
        "print (\"Hexadecimal equivalent of the number = %x\" %18)\n",
        "print (\"Exponential equivalent of the number = %e\" %18)"
      ],
      "execution_count": 51,
      "outputs": [
        {
          "output_type": "stream",
          "name": "stdout",
          "text": [
            "Actual Number = 18\n",
            "Float of the number = 18.000000\n",
            "Octal equivalent of the number = 22\n",
            "Hexadecimal equivalent of the number = 12\n",
            "Exponential equivalent of the number = 1.800000e+01\n"
          ]
        }
      ]
    },
    {
      "cell_type": "code",
      "metadata": {
        "id": "P5kAaN3w45dT",
        "colab": {
          "base_uri": "https://localhost:8080/"
        },
        "outputId": "f038c4c5-cc00-49b4-d67c-18346f9c2cd9"
      },
      "source": [
        "# Utilizando la opción 2\n",
        "\n",
        "print (\"Actual Number = {:d}\".format(18))\n",
        "print (\"Float of the number = {:f}\".format(18))\n",
        "print (\"Octal equivalent of the number = {:o}\".format(18))\n",
        "print (\"Hexadecimal equivalent of the number = {:x}\".format(18))\n",
        "print (\"Exponential equivalent of the number = {:e}\".format(18))"
      ],
      "execution_count": 52,
      "outputs": [
        {
          "output_type": "stream",
          "name": "stdout",
          "text": [
            "Actual Number = 18\n",
            "Float of the number = 18.000000\n",
            "Octal equivalent of the number = 22\n",
            "Hexadecimal equivalent of the number = 12\n",
            "Exponential equivalent of the number = 1.800000e+01\n"
          ]
        }
      ]
    },
    {
      "cell_type": "markdown",
      "metadata": {
        "id": "MmRYYFzW45dT"
      },
      "source": [
        "\n",
        "Veamos distintas formas de integrar `print()`con `format()`.<br>\n",
        "Analiza y y comenta las diferentes salidas."
      ]
    },
    {
      "cell_type": "code",
      "metadata": {
        "id": "ghkdb3mP45dT",
        "colab": {
          "base_uri": "https://localhost:8080/"
        },
        "outputId": "abacd35a-dcc2-4e0c-c7e5-2122deddaf62"
      },
      "source": [
        "print('1.  {1} {0}'.format('one', 'two'))\n",
        "# Alineación a la derecha\n",
        "print('2.  {:>10}'.format('test'))\n",
        "# Alineación izquierda (por defecto)\n",
        "print('3.  {:10}'.format('test'))\n",
        "# numeros\n",
        "print('4.  {:d}'.format(42))\n",
        "# Cantidad de decimales por defecto\n",
        "print('5.  {:f}'.format(3.141592653589793))\n",
        "# padding\n",
        "print('6.  {:4d}'.format(42))\n",
        "# Completa con ceros a la izquierda un float,\n",
        "# 6 caracteres y dos decimales,\n",
        "# el punto se considera caracter\n",
        "print('7.  {:06.2f}'.format(3.141592653589793))\n",
        "# completa con ceros a la izquierda un entero\n",
        "print('8.  {:04d}'.format(42))\n",
        "print('9.  {: d}'.format((- 23)))\n",
        "# Asigna nombres a los elementos a imprimir\n",
        "# esto permite imprimir variables de forma directa\n",
        "print('10. {first} {last}'.format(first='Hello', last='world!'))\n"
      ],
      "execution_count": 53,
      "outputs": [
        {
          "output_type": "stream",
          "name": "stdout",
          "text": [
            "1.  two one\n",
            "2.        test\n",
            "3.  test      \n",
            "4.  42\n",
            "5.  3.141593\n",
            "6.    42\n",
            "7.  003.14\n",
            "8.  0042\n",
            "9.  -23\n",
            "10. Hello world!\n"
          ]
        }
      ]
    },
    {
      "cell_type": "markdown",
      "metadata": {
        "id": "qKfxMdz645dU"
      },
      "source": [
        "### Otros ejemplos"
      ]
    },
    {
      "cell_type": "markdown",
      "metadata": {
        "id": "8tiUa9F345dU"
      },
      "source": [
        "Las siguientes son otras formas diferentes de utilizar la declaración de impresión."
      ]
    },
    {
      "cell_type": "code",
      "metadata": {
        "id": "AfsWhCYM45dU",
        "colab": {
          "base_uri": "https://localhost:8080/"
        },
        "outputId": "9f671d53-57cd-4a76-dfd1-756577c404f9"
      },
      "source": [
        "print (\"I want to be printed {:s}\".format('here'))"
      ],
      "execution_count": 54,
      "outputs": [
        {
          "output_type": "stream",
          "name": "stdout",
          "text": [
            "I want to be printed here\n"
          ]
        }
      ]
    },
    {
      "cell_type": "code",
      "metadata": {
        "id": "sjKPBLnJ45dU",
        "colab": {
          "base_uri": "https://localhost:8080/"
        },
        "outputId": "b23be80a-2bd1-45dd-eb59-492d7781f077"
      },
      "source": [
        "print('_A'*10)"
      ],
      "execution_count": 55,
      "outputs": [
        {
          "output_type": "stream",
          "name": "stdout",
          "text": [
            "_A_A_A_A_A_A_A_A_A_A\n"
          ]
        }
      ]
    },
    {
      "cell_type": "code",
      "metadata": {
        "id": "_otIYuEJ45dV",
        "colab": {
          "base_uri": "https://localhost:8080/"
        },
        "outputId": "a4563480-9899-419d-b07a-787ae71fcfea"
      },
      "source": [
        "# Con el caracter de control \\n saltamos una línea\n",
        "print(\"Jan\\nFeb\\nMar\\nApr\\nMay\\nJun\\nJul\\nAug\")"
      ],
      "execution_count": 56,
      "outputs": [
        {
          "output_type": "stream",
          "name": "stdout",
          "text": [
            "Jan\n",
            "Feb\n",
            "Mar\n",
            "Apr\n",
            "May\n",
            "Jun\n",
            "Jul\n",
            "Aug\n"
          ]
        }
      ]
    },
    {
      "cell_type": "code",
      "metadata": {
        "id": "ZMcReAnP45dV",
        "colab": {
          "base_uri": "https://localhost:8080/"
        },
        "outputId": "5bc60ea5-69a4-484d-833f-9140d7adbb87"
      },
      "source": [
        "# Si queremos imprimir el caracter \\n sin saltar línea diplicamos el backslash\n",
        "print(\"I want \\\\n to be printed.\")"
      ],
      "execution_count": 57,
      "outputs": [
        {
          "output_type": "stream",
          "name": "stdout",
          "text": [
            "I want \\n to be printed.\n"
          ]
        }
      ]
    },
    {
      "cell_type": "code",
      "metadata": {
        "id": "nZDKHWkV45dV",
        "colab": {
          "base_uri": "https://localhost:8080/"
        },
        "outputId": "6aeacf7b-3fe9-414d-fa45-880282dfc0d0"
      },
      "source": [
        "# Con \\t generamos una tabulación\n",
        "print(\"Look\\twhat\\thappens.\")"
      ],
      "execution_count": 58,
      "outputs": [
        {
          "output_type": "stream",
          "name": "stdout",
          "text": [
            "Look\twhat\thappens.\n"
          ]
        }
      ]
    },
    {
      "cell_type": "code",
      "metadata": {
        "id": "QzrtJxJn45dV",
        "colab": {
          "base_uri": "https://localhost:8080/"
        },
        "outputId": "cb6b76a5-80d2-48ab-e0d7-6dcdfd4c0b37"
      },
      "source": [
        "print(\"\"\"\n",
        "Routine:\n",
        "\\t- Eat\n",
        "\\t- Sleep\\n\\t- Repeat\n",
        "\"\"\")"
      ],
      "execution_count": 59,
      "outputs": [
        {
          "output_type": "stream",
          "name": "stdout",
          "text": [
            "\n",
            "Routine:\n",
            "\t- Eat\n",
            "\t- Sleep\n",
            "\t- Repeat\n",
            "\n"
          ]
        }
      ]
    },
    {
      "cell_type": "markdown",
      "metadata": {
        "id": "H8wbB6al45dW"
      },
      "source": [
        "### Manejando la precisión y la cantidad de números a mostrar"
      ]
    },
    {
      "cell_type": "markdown",
      "metadata": {
        "id": "A0RfHiOr45dW"
      },
      "source": [
        "El ancho del campo es el ancho del número completo y la precisión es el ancho hacia la derecha desde el punto decimal. Se pueden modificar estos anchos según los requisitos.\n",
        "\n",
        "El ancho de precisión predeterminado se establece en 6."
      ]
    },
    {
      "cell_type": "code",
      "metadata": {
        "id": "eOU4ps6R45dW",
        "colab": {
          "base_uri": "https://localhost:8080/",
          "height": 35
        },
        "outputId": "b16dbbd9-127c-43dd-8f58-e17e89c3ca95"
      },
      "source": [
        "# predeterminado = 6\n",
        "\"%f\" % 3.121312312312"
      ],
      "execution_count": 60,
      "outputs": [
        {
          "output_type": "execute_result",
          "data": {
            "text/plain": [
              "'3.121312'"
            ],
            "application/vnd.google.colaboratory.intrinsic+json": {
              "type": "string"
            }
          },
          "metadata": {},
          "execution_count": 60
        }
      ]
    },
    {
      "cell_type": "markdown",
      "metadata": {
        "id": "ChP1QMM_45dW"
      },
      "source": [
        "Observa que se devuelven hasta 6 decimales. Para especificar el número de decimales, se utiliza\n",
        "\n",
        "`\"%(fieldwidth).(precisionwidth)f\"`"
      ]
    },
    {
      "cell_type": "code",
      "metadata": {
        "id": "6DSruVUL45dW",
        "colab": {
          "base_uri": "https://localhost:8080/",
          "height": 35
        },
        "outputId": "825ffad5-bf99-47f1-b823-4117541240ea"
      },
      "source": [
        "\"%.5f\" % 3.121312312312"
      ],
      "execution_count": 61,
      "outputs": [
        {
          "output_type": "execute_result",
          "data": {
            "text/plain": [
              "'3.12131'"
            ],
            "application/vnd.google.colaboratory.intrinsic+json": {
              "type": "string"
            }
          },
          "metadata": {},
          "execution_count": 61
        }
      ]
    },
    {
      "cell_type": "markdown",
      "metadata": {
        "id": "cwmh6wbu45dW"
      },
      "source": [
        "### Lo mismo pero usando la opción 2 con str.format()\n",
        "Cuál es la diferencia?\n",
        "\n",
        "TIP: busca en los pequeños detalles"
      ]
    },
    {
      "cell_type": "code",
      "metadata": {
        "id": "Ts_y2LQ_45dW",
        "colab": {
          "base_uri": "https://localhost:8080/"
        },
        "outputId": "ff93a1b6-7f0a-4ede-ed12-e086e0943077"
      },
      "source": [
        "print(\"{:.5f}\".format(3.121312312312))"
      ],
      "execution_count": 62,
      "outputs": [
        {
          "output_type": "stream",
          "name": "stdout",
          "text": [
            "3.12131\n"
          ]
        }
      ]
    },
    {
      "cell_type": "code",
      "metadata": {
        "id": "vylv688g45dX",
        "colab": {
          "base_uri": "https://localhost:8080/"
        },
        "outputId": "2c449b79-e8ab-4355-82ab-67749c8a9b20"
      },
      "source": [
        "type(\"%.5f\" % 3.121312312312)"
      ],
      "execution_count": 63,
      "outputs": [
        {
          "output_type": "execute_result",
          "data": {
            "text/plain": [
              "str"
            ]
          },
          "metadata": {},
          "execution_count": 63
        }
      ]
    },
    {
      "cell_type": "code",
      "metadata": {
        "id": "HfpEhviH45dX",
        "colab": {
          "base_uri": "https://localhost:8080/"
        },
        "outputId": "cb7725c7-f532-4a8c-f8b1-b4f429e059e9"
      },
      "source": [
        "type(print(\"{:.5f}\".format(3.121312312312)))"
      ],
      "execution_count": 64,
      "outputs": [
        {
          "output_type": "stream",
          "name": "stdout",
          "text": [
            "3.12131\n"
          ]
        },
        {
          "output_type": "execute_result",
          "data": {
            "text/plain": [
              "NoneType"
            ]
          },
          "metadata": {},
          "execution_count": 64
        }
      ]
    },
    {
      "cell_type": "markdown",
      "metadata": {
        "id": "Y_WrASVB45dX"
      },
      "source": [
        "Si el ancho del campo se establece más de lo necesario, los datos a la derecha se alinean para ajustarse a los valores especificados."
      ]
    },
    {
      "cell_type": "code",
      "metadata": {
        "id": "7BC2DMLA45dX",
        "colab": {
          "base_uri": "https://localhost:8080/",
          "height": 35
        },
        "outputId": "d91a30e4-4590-4cd2-c5ad-d8a9cf2ad159"
      },
      "source": [
        "\"%9.5f\" % 3.121312312312"
      ],
      "execution_count": 65,
      "outputs": [
        {
          "output_type": "execute_result",
          "data": {
            "text/plain": [
              "'  3.12131'"
            ],
            "application/vnd.google.colaboratory.intrinsic+json": {
              "type": "string"
            }
          },
          "metadata": {},
          "execution_count": 65
        }
      ]
    },
    {
      "cell_type": "markdown",
      "metadata": {
        "id": "42TMoWfU45dY"
      },
      "source": [
        "## Alineación\n",
        "Para una alineación adecuada, se puede dejar un espacio en blanco en el ancho del campo para que cuando se use un número negativo, se mantenga la alineación adecuada."
      ]
    },
    {
      "cell_type": "code",
      "metadata": {
        "id": "rz_OGeb_45dY",
        "colab": {
          "base_uri": "https://localhost:8080/"
        },
        "outputId": "b51760ae-c3fc-45f5-eb88-65fca7e6ade3"
      },
      "source": [
        "print(\"{:10f}\".format(3.121312312312)) # Recuerda que por defecto imprimira 6 decimales\n",
        "print(\"{:10f}\".format(-3.121312312312))\n",
        "print(\"{: 9f}\".format(-3.121312312312))"
      ],
      "execution_count": 66,
      "outputs": [
        {
          "output_type": "stream",
          "name": "stdout",
          "text": [
            "  3.121312\n",
            " -3.121312\n",
            "-3.121312\n"
          ]
        }
      ]
    },
    {
      "cell_type": "markdown",
      "metadata": {
        "id": "RaPrgRuy45dY"
      },
      "source": [
        "Como se mencionó anteriormente, los datos a la derecha se alinean cuando el ancho del campo mencionado es mayor que el ancho del campo real. Pero la alineación a la izquierda se puede hacer especificando un símbolo negativo en el ancho del campo."
      ]
    },
    {
      "cell_type": "markdown",
      "metadata": {
        "id": "erOoFE9b45dZ"
      },
      "source": [
        "## <font color='blue'>**La nueva escuela**</font>"
      ]
    },
    {
      "cell_type": "markdown",
      "metadata": {
        "id": "fSmtBxN845dZ"
      },
      "source": [
        "## Opción 3: `f-strings` (vigente)"
      ]
    },
    {
      "cell_type": "markdown",
      "metadata": {
        "id": "89yCyAlw45dZ"
      },
      "source": [
        "La sintaxis es similar a la que usó con `str.format()` pero menos detallada (verbose). Mira lo fácil de leer que es:"
      ]
    },
    {
      "cell_type": "code",
      "metadata": {
        "id": "SjMfGAH345dZ",
        "colab": {
          "base_uri": "https://localhost:8080/",
          "height": 35
        },
        "outputId": "b0f10503-e417-42fc-eb39-420674081a55"
      },
      "source": [
        "nombre = \"Pedro\"\n",
        "edad = 42\n",
        "f\"Hola, {nombre}. Tu tienes {edad} años.\""
      ],
      "execution_count": 67,
      "outputs": [
        {
          "output_type": "execute_result",
          "data": {
            "text/plain": [
              "'Hola, Pedro. Tu tienes 42 años.'"
            ],
            "application/vnd.google.colaboratory.intrinsic+json": {
              "type": "string"
            }
          },
          "metadata": {},
          "execution_count": 67
        }
      ]
    },
    {
      "cell_type": "code",
      "source": [],
      "metadata": {
        "id": "2buErKduSVSo"
      },
      "execution_count": 67,
      "outputs": []
    },
    {
      "cell_type": "code",
      "metadata": {
        "id": "w1jx-nLC45da",
        "colab": {
          "base_uri": "https://localhost:8080/",
          "height": 35
        },
        "outputId": "6c57d718-d898-43dc-fc52-25dbca062060"
      },
      "source": [
        "# la f puede ser mayúscula tambien\n",
        "F\"Hola, {nombre}. Tu tienes {edad} años.\""
      ],
      "execution_count": 68,
      "outputs": [
        {
          "output_type": "execute_result",
          "data": {
            "text/plain": [
              "'Hola, Pedro. Tu tienes 42 años.'"
            ],
            "application/vnd.google.colaboratory.intrinsic+json": {
              "type": "string"
            }
          },
          "metadata": {},
          "execution_count": 68
        }
      ]
    },
    {
      "cell_type": "markdown",
      "metadata": {
        "id": "IQkBGWG045da"
      },
      "source": [
        "Los f-strings pueden evaluar operaciones en su interior"
      ]
    },
    {
      "cell_type": "code",
      "metadata": {
        "id": "XdYJ7FZk45da",
        "colab": {
          "base_uri": "https://localhost:8080/",
          "height": 35
        },
        "outputId": "0ce474c5-8ce2-4b57-b4fe-adda4d4f6676"
      },
      "source": [
        "f'{2 * 8}'"
      ],
      "execution_count": 69,
      "outputs": [
        {
          "output_type": "execute_result",
          "data": {
            "text/plain": [
              "'16'"
            ],
            "application/vnd.google.colaboratory.intrinsic+json": {
              "type": "string"
            }
          },
          "metadata": {},
          "execution_count": 69
        }
      ]
    },
    {
      "cell_type": "code",
      "metadata": {
        "id": "QlUyUA2N45da",
        "colab": {
          "base_uri": "https://localhost:8080/",
          "height": 35
        },
        "outputId": "205f0b32-779f-4618-bdee-bbaa08110819"
      },
      "source": [
        "f'{2} x {8} = {2 * 8}'"
      ],
      "execution_count": 70,
      "outputs": [
        {
          "output_type": "execute_result",
          "data": {
            "text/plain": [
              "'2 x 8 = 16'"
            ],
            "application/vnd.google.colaboratory.intrinsic+json": {
              "type": "string"
            }
          },
          "metadata": {},
          "execution_count": 70
        }
      ]
    },
    {
      "cell_type": "code",
      "source": [],
      "metadata": {
        "id": "0RM7H-is00Pg"
      },
      "execution_count": 70,
      "outputs": []
    },
    {
      "cell_type": "code",
      "metadata": {
        "id": "49dfacea",
        "colab": {
          "base_uri": "https://localhost:8080/"
        },
        "outputId": "17544d0f-1e5c-4905-a664-661fc8d16e2e"
      },
      "source": [
        "# Define nombre2 and edad2\n",
        "nombre2 = \"Maria\"\n",
        "edad2 = 30\n",
        "\n",
        "# Igual que antes, si queremos imprimier más de una sentencia, deberemos usar la función print()\n",
        "print(F\"Hola, {nombre}. Tu tienes {edad} años.\")\n",
        "print(F\"Hola, {nombre2}. Tu tienes {edad2} años.\")"
      ],
      "execution_count": 71,
      "outputs": [
        {
          "output_type": "stream",
          "name": "stdout",
          "text": [
            "Hola, Pedro. Tu tienes 42 años.\n",
            "Hola, Maria. Tu tienes 30 años.\n"
          ]
        }
      ]
    },
    {
      "cell_type": "code",
      "metadata": {
        "id": "BeZLJnht45da",
        "colab": {
          "base_uri": "https://localhost:8080/"
        },
        "outputId": "5679c5be-86d6-4990-9278-3bf908683f4b"
      },
      "source": [
        "print(F\"Hola, {nombre}. Tu tienes {edad} años.\")\n",
        "print(F\"Hola, {nombre2}. Tu tienes {edad2} años.\")"
      ],
      "execution_count": 72,
      "outputs": [
        {
          "output_type": "stream",
          "name": "stdout",
          "text": [
            "Hola, Pedro. Tu tienes 42 años.\n",
            "Hola, Maria. Tu tienes 30 años.\n"
          ]
        }
      ]
    },
    {
      "cell_type": "code",
      "metadata": {
        "id": "H1q42gza45db",
        "colab": {
          "base_uri": "https://localhost:8080/"
        },
        "outputId": "8836593d-4aff-4f39-9cf2-ac566ed64a0c"
      },
      "source": [
        "mensaje = (\n",
        "    F\"Hola, {nombre}. Tu tienes {edad} años. \\n\"\n",
        "    F\"Hola, {nombre2}. Tu tienes {edad2} años.\"\n",
        ")\n",
        "print(mensaje)"
      ],
      "execution_count": 73,
      "outputs": [
        {
          "output_type": "stream",
          "name": "stdout",
          "text": [
            "Hola, Pedro. Tu tienes 42 años. \n",
            "Hola, Maria. Tu tienes 30 años.\n"
          ]
        }
      ]
    },
    {
      "cell_type": "code",
      "metadata": {
        "id": "KChdbV2A45db",
        "colab": {
          "base_uri": "https://localhost:8080/"
        },
        "outputId": "cead98ac-e001-4cf0-cc0c-50c40313a1b6"
      },
      "source": [
        "# Otras notaciones numéricas utilizando la Opción 3\n",
        "val = 18\n",
        "print (f\"Actual Number = {val: d}\")\n",
        "print (f\"Float of the number = {val: f}\")\n",
        "print (f\"Octal equivalent of the number = {val :o}\")\n",
        "print (f\"Hexadecimal equivalent of the number = {val :x}\")\n",
        "print (f\"Exponential equivalent of the number = {val :e}\")"
      ],
      "execution_count": 74,
      "outputs": [
        {
          "output_type": "stream",
          "name": "stdout",
          "text": [
            "Actual Number =  18\n",
            "Float of the number =  18.000000\n",
            "Octal equivalent of the number = 22\n",
            "Hexadecimal equivalent of the number = 12\n",
            "Exponential equivalent of the number = 1.800000e+01\n"
          ]
        }
      ]
    },
    {
      "cell_type": "markdown",
      "metadata": {
        "id": "24o2fHbE45db"
      },
      "source": [
        "### Manejando la precisión y la cantidad de números a mostrar"
      ]
    },
    {
      "cell_type": "code",
      "metadata": {
        "id": "4rs5fxEV45db",
        "colab": {
          "base_uri": "https://localhost:8080/"
        },
        "outputId": "9108a132-3c5b-490e-c802-3556cdf12485"
      },
      "source": [
        "val2 = 3.121312312312\n",
        "print(f\"{val2:.2f}\")\n",
        "print(f\"{val2:.5f}\")\n",
        "print(f\"{val2:8.5f}\")\n",
        "print(f\"{val2:09.5f}\")"
      ],
      "execution_count": 75,
      "outputs": [
        {
          "output_type": "stream",
          "name": "stdout",
          "text": [
            "3.12\n",
            "3.12131\n",
            " 3.12131\n",
            "003.12131\n"
          ]
        }
      ]
    },
    {
      "cell_type": "markdown",
      "metadata": {
        "id": "pkUfuLRl45db"
      },
      "source": [
        "### Justificando y manejo de ancho con f-strings"
      ]
    },
    {
      "cell_type": "code",
      "metadata": {
        "id": "Sd6wTu3O45db",
        "colab": {
          "base_uri": "https://localhost:8080/"
        },
        "outputId": "5eda6e8e-5929-4d4b-c692-8d37c804024f"
      },
      "source": [
        "s1 = 'a'\n",
        "s2 = 'ab'\n",
        "s3 = 'abc'\n",
        "s4 = 'abcd'\n",
        "\n",
        "print(f'{s1:>10}')\n",
        "print(f'{s2:>10}')\n",
        "print(f'{s3:>10}')\n",
        "print(f'{s4:>10}')"
      ],
      "execution_count": 76,
      "outputs": [
        {
          "output_type": "stream",
          "name": "stdout",
          "text": [
            "         a\n",
            "        ab\n",
            "       abc\n",
            "      abcd\n"
          ]
        }
      ]
    },
    {
      "cell_type": "markdown",
      "metadata": {
        "id": "Dz5nWGxW45dc"
      },
      "source": [
        "## <font color='blue'>**Ingresando datos desde el teclado**</font>"
      ]
    },
    {
      "cell_type": "code",
      "metadata": {
        "id": "hilk0WYU45dc",
        "colab": {
          "base_uri": "https://localhost:8080/",
          "height": 53
        },
        "outputId": "b0655840-f0d0-49f1-9621-b9e1f5ada175"
      },
      "source": [
        "input(\"Mi nombre es: \")"
      ],
      "execution_count": 77,
      "outputs": [
        {
          "name": "stdout",
          "output_type": "stream",
          "text": [
            "Mi nombre es: Nathalie\n"
          ]
        },
        {
          "output_type": "execute_result",
          "data": {
            "text/plain": [
              "'Nathalie'"
            ],
            "application/vnd.google.colaboratory.intrinsic+json": {
              "type": "string"
            }
          },
          "metadata": {},
          "execution_count": 77
        }
      ]
    },
    {
      "cell_type": "code",
      "source": [
        "chr(298)"
      ],
      "metadata": {
        "id": "z0WiRoyHI8FM",
        "colab": {
          "base_uri": "https://localhost:8080/",
          "height": 35
        },
        "outputId": "7aacbaba-2314-444c-ef46-06abc8e38732"
      },
      "execution_count": 78,
      "outputs": [
        {
          "output_type": "execute_result",
          "data": {
            "text/plain": [
              "'Ī'"
            ],
            "application/vnd.google.colaboratory.intrinsic+json": {
              "type": "string"
            }
          },
          "metadata": {},
          "execution_count": 78
        }
      ]
    },
    {
      "cell_type": "code",
      "metadata": {
        "id": "RWJjVHWo45dX",
        "colab": {
          "base_uri": "https://localhost:8080/"
        },
        "outputId": "eb87a7cd-21c2-4caf-98e7-927e9ff1199c"
      },
      "source": [
        "#1.\n",
        "import math\n",
        "pi = math.pi\n",
        "print (\"El valor de  Ī es  {:.5f}\".format(pi))\n",
        "\n"
      ],
      "execution_count": 79,
      "outputs": [
        {
          "output_type": "stream",
          "name": "stdout",
          "text": [
            "El valor de  Ī es  3.14159\n"
          ]
        }
      ]
    },
    {
      "cell_type": "code",
      "source": [
        "import math\n",
        "pi = math.pi\n",
        "print(f\"El valor de Ī es {pi}\")"
      ],
      "metadata": {
        "colab": {
          "base_uri": "https://localhost:8080/"
        },
        "id": "80vDQkHpibZq",
        "outputId": "2b6f238e-96a3-40bd-d7b9-07e701293993"
      },
      "execution_count": 80,
      "outputs": [
        {
          "output_type": "stream",
          "name": "stdout",
          "text": [
            "El valor de Ī es 3.141592653589793\n"
          ]
        }
      ]
    },
    {
      "cell_type": "code",
      "source": [
        "# 5 decimales\n",
        "\n",
        "import math\n",
        "pi = math.pi\n",
        "print(f\"El valor de Ī es {pi:.5f}\")"
      ],
      "metadata": {
        "colab": {
          "base_uri": "https://localhost:8080/"
        },
        "id": "UnDjUJchikGP",
        "outputId": "aef45323-27b3-40f7-d7cf-464e89eae211"
      },
      "execution_count": 81,
      "outputs": [
        {
          "output_type": "stream",
          "name": "stdout",
          "text": [
            "El valor de Ī es 3.14159\n"
          ]
        }
      ]
    },
    {
      "cell_type": "code",
      "metadata": {
        "id": "qQPetRRu45dY",
        "colab": {
          "base_uri": "https://localhost:8080/"
        },
        "outputId": "5c6915fd-5951-489e-b8d4-a67690660c64"
      },
      "source": [
        "# 2.\n",
        "value1= 1234.123\n",
        "value2=1.123\n",
        "print(f\"{value1:09.3f}\")\n",
        "print(f\"{value2:09.3f}\")\n"
      ],
      "execution_count": 82,
      "outputs": [
        {
          "output_type": "stream",
          "name": "stdout",
          "text": [
            "01234.123\n",
            "00001.123\n"
          ]
        }
      ]
    },
    {
      "cell_type": "markdown",
      "metadata": {
        "id": "5gpyMpvs45dZ"
      },
      "source": [
        "<font color='green'>Fin actividad 2</font>"
      ]
    },
    {
      "cell_type": "markdown",
      "metadata": {
        "id": "J-hRFyE945dc"
      },
      "source": [
        "<font color='green'>Fin actividad 3</font>"
      ]
    },
    {
      "cell_type": "markdown",
      "metadata": {
        "id": "5wnFNkbc45dc"
      },
      "source": [
        "## <font color='green'>Actividad 1:</font>\n",
        "### Almacena el dato ingresado en una variable\n",
        "Almacena su nombre en una variable\n",
        "\n",
        "TIP: utilice la función input()\n"
      ]
    },
    {
      "cell_type": "code",
      "metadata": {
        "id": "6YO-7g3b45dc",
        "colab": {
          "base_uri": "https://localhost:8080/"
        },
        "outputId": "67f8f04f-b871-4c45-8277-e99271b2176a"
      },
      "source": [
        "# Tu código aquí ...\n",
        "mi_nombre= input(\"Mi nombre es: \")"
      ],
      "execution_count": 83,
      "outputs": [
        {
          "name": "stdout",
          "output_type": "stream",
          "text": [
            "Mi nombre es: Giselle\n"
          ]
        }
      ]
    },
    {
      "cell_type": "markdown",
      "metadata": {
        "id": "p_QdbBR_45dd"
      },
      "source": [
        "<font color='green'>Fin actividad |</font>"
      ]
    },
    {
      "cell_type": "markdown",
      "metadata": {
        "id": "2BZMFmFS45dd"
      },
      "source": [
        "## <font color='green'>Actividad 2:</font>\n",
        "### Escribe \"Hello world\" con tu nombre\n",
        "Escribe \"Hello world, \\<nombre\\>\" utilizando los tres métodos de formateo enseñados en la clase <br>\n",
        "\n",
        "TIP: utiliza la variable que contiene tu nombre<br>\n",
        "OUTPUT: \"Hello world, Andrés!!\""
      ]
    },
    {
      "cell_type": "code",
      "metadata": {
        "id": "SgqOnfuO45dd",
        "colab": {
          "base_uri": "https://localhost:8080/"
        },
        "outputId": "be7a2750-f92b-4c10-cb3a-2906e3f95090"
      },
      "source": [
        "# Tu código aquí ...\n",
        "#1\n",
        "print(f\"Hello world, {mi_nombre}!!\")\n",
        "\n",
        "#2\n",
        "print(\"Hello world, {}!!\".format(mi_nombre))\n",
        "\n",
        "#3\n",
        "print(\"Hello world, %s!!\"%mi_nombre)\n"
      ],
      "execution_count": 84,
      "outputs": [
        {
          "output_type": "stream",
          "name": "stdout",
          "text": [
            "Hello world, Giselle!!\n",
            "Hello world, Giselle!!\n",
            "Hello world, Giselle!!\n"
          ]
        }
      ]
    },
    {
      "cell_type": "code",
      "source": [
        "# ALmacenar los string en variables y luego imprimirlos\n",
        "\n",
        "mi_nombre = \"Giselle\"\n",
        "\n",
        "#1. f-string\n",
        "mensaje1 = f\"Hello world, {mi_nombre}!!\"\n",
        "print(mensaje1)\n",
        "\n",
        "#2. format()\n",
        "mensaje2 = \"Hello world, {}!!\".format(mi_nombre)\n",
        "print(mensaje2)\n",
        "\n",
        "#3. operador % (estilo antiguo)\n",
        "mensaje3 = \"Hello world, %s!!\" % mi_nombre\n",
        "print(mensaje3)"
      ],
      "metadata": {
        "id": "wyOazAXBenUE",
        "colab": {
          "base_uri": "https://localhost:8080/"
        },
        "outputId": "e6e526ac-2f82-46dd-9015-f1290c33c5ad"
      },
      "execution_count": 85,
      "outputs": [
        {
          "output_type": "stream",
          "name": "stdout",
          "text": [
            "Hello world, Giselle!!\n",
            "Hello world, Giselle!!\n",
            "Hello world, Giselle!!\n"
          ]
        }
      ]
    },
    {
      "cell_type": "code",
      "source": [
        "#Con la opción 2 de str.format()\n",
        "mi_nombre = \"Giselle\"\n",
        "\n",
        "# Usando str.format()\n",
        "mensaje = \"Hello world, {}!!\".format(mi_nombre)\n",
        "print(mensaje)"
      ],
      "metadata": {
        "id": "6EqA_PeqfvJj",
        "colab": {
          "base_uri": "https://localhost:8080/"
        },
        "outputId": "52f337bc-6181-4ba8-a9ab-6b970abda717"
      },
      "execution_count": 86,
      "outputs": [
        {
          "output_type": "stream",
          "name": "stdout",
          "text": [
            "Hello world, Giselle!!\n"
          ]
        }
      ]
    },
    {
      "cell_type": "code",
      "source": [
        "#Con f.string()P\n",
        "mi_nombre = \"Giselle\"\n",
        "\n",
        "# Usando f-string\n",
        "mensaje = f\"Hello world, {mi_nombre}!!\"\n",
        "print(mensaje)"
      ],
      "metadata": {
        "id": "VIQqi3UFiASV",
        "colab": {
          "base_uri": "https://localhost:8080/"
        },
        "outputId": "3b4c5d0d-a0f4-4128-9bfb-b698d1dee6ae"
      },
      "execution_count": 87,
      "outputs": [
        {
          "output_type": "stream",
          "name": "stdout",
          "text": [
            "Hello world, Giselle!!\n"
          ]
        }
      ]
    },
    {
      "cell_type": "code",
      "source": [],
      "metadata": {
        "id": "NPZCcV0ni6m-"
      },
      "execution_count": 87,
      "outputs": []
    },
    {
      "cell_type": "markdown",
      "metadata": {
        "id": "7cXYTli5yoif"
      },
      "source": [
        "# **Introducción a Pyton**\n",
        "# FP03. Números en Python  \n",
        "\n",
        "En esta clase comenzaremos a discutir los conceptos básicos de trabajar con números en Python. Esto debería ser sencillo."
      ]
    },
    {
      "cell_type": "markdown",
      "metadata": {
        "id": "oC73jJiAyoih"
      },
      "source": [
        "## <font color='blue'>**Principales tipos de números**</font>\n",
        "\n",
        "Los `int` son números enteros. <br>Los `float` son números decimales (recuerda que en Python la parte decimal se delimita con un punto y NO con una coma)."
      ]
    },
    {
      "cell_type": "code",
      "execution_count": 88,
      "metadata": {
        "id": "LWuh32APyoih",
        "colab": {
          "base_uri": "https://localhost:8080/"
        },
        "outputId": "7fb1c0d6-7b39-4a1e-df6d-503afc108690"
      },
      "outputs": [
        {
          "output_type": "execute_result",
          "data": {
            "text/plain": [
              "100"
            ]
          },
          "metadata": {},
          "execution_count": 88
        }
      ],
      "source": [
        "100"
      ]
    },
    {
      "cell_type": "code",
      "execution_count": 89,
      "metadata": {
        "id": "GMsGro4Kyoij",
        "colab": {
          "base_uri": "https://localhost:8080/"
        },
        "outputId": "18e24b75-2554-41f9-9568-014ebb94262c"
      },
      "outputs": [
        {
          "output_type": "execute_result",
          "data": {
            "text/plain": [
              "int"
            ]
          },
          "metadata": {},
          "execution_count": 89
        }
      ],
      "source": [
        "type(100)"
      ]
    },
    {
      "cell_type": "code",
      "execution_count": 90,
      "metadata": {
        "id": "PfeWqvePyoij",
        "colab": {
          "base_uri": "https://localhost:8080/"
        },
        "outputId": "755e81f1-3f96-4d55-f4c6-1f055333b8d5"
      },
      "outputs": [
        {
          "output_type": "execute_result",
          "data": {
            "text/plain": [
              "1.25"
            ]
          },
          "metadata": {},
          "execution_count": 90
        }
      ],
      "source": [
        "1.25"
      ]
    },
    {
      "cell_type": "code",
      "execution_count": 91,
      "metadata": {
        "id": "1-_Dvh2uyoij",
        "colab": {
          "base_uri": "https://localhost:8080/"
        },
        "outputId": "18fa0d1e-1d23-456a-e79d-4d49aeb4fdfe"
      },
      "outputs": [
        {
          "output_type": "execute_result",
          "data": {
            "text/plain": [
              "float"
            ]
          },
          "metadata": {},
          "execution_count": 91
        }
      ],
      "source": [
        "type(1.2)"
      ]
    },
    {
      "cell_type": "code",
      "execution_count": 92,
      "metadata": {
        "id": "-dSLvrOQyoik",
        "colab": {
          "base_uri": "https://localhost:8080/"
        },
        "outputId": "ada8880a-1481-4643-e7df-099324d155f4"
      },
      "outputs": [
        {
          "output_type": "execute_result",
          "data": {
            "text/plain": [
              "float"
            ]
          },
          "metadata": {},
          "execution_count": 92
        }
      ],
      "source": [
        "type(100.0)"
      ]
    },
    {
      "cell_type": "code",
      "execution_count": 93,
      "metadata": {
        "id": "B8m251Y2yoil",
        "colab": {
          "base_uri": "https://localhost:8080/"
        },
        "outputId": "445166fc-618f-4acb-966f-febb1c953001"
      },
      "outputs": [
        {
          "output_type": "execute_result",
          "data": {
            "text/plain": [
              "float"
            ]
          },
          "metadata": {},
          "execution_count": 93
        }
      ],
      "source": [
        "type(100.)"
      ]
    },
    {
      "cell_type": "code",
      "execution_count": 94,
      "metadata": {
        "id": "u4GovJlMyoil",
        "colab": {
          "base_uri": "https://localhost:8080/"
        },
        "outputId": "50fa61fb-f41f-4741-d6be-30ac094344fb"
      },
      "outputs": [
        {
          "output_type": "execute_result",
          "data": {
            "text/plain": [
              "True"
            ]
          },
          "metadata": {},
          "execution_count": 94
        }
      ],
      "source": [
        "100 == 100.0"
      ]
    },
    {
      "cell_type": "code",
      "execution_count": 95,
      "metadata": {
        "id": "ihnDSJC-yoim",
        "colab": {
          "base_uri": "https://localhost:8080/"
        },
        "outputId": "6c2b4bff-264c-4ebe-dcd2-592b6cafd55b"
      },
      "outputs": [
        {
          "output_type": "execute_result",
          "data": {
            "text/plain": [
              "False"
            ]
          },
          "metadata": {},
          "execution_count": 95
        }
      ],
      "source": [
        "id(100) == id(100.0)"
      ]
    },
    {
      "cell_type": "markdown",
      "metadata": {
        "id": "OVo9hmeCyoim"
      },
      "source": [
        "## <font color='blue'>**Aritmética básica**</font>"
      ]
    },
    {
      "cell_type": "code",
      "execution_count": 96,
      "metadata": {
        "id": "2uuDbMamyoim",
        "colab": {
          "base_uri": "https://localhost:8080/"
        },
        "outputId": "7059c34c-09ba-4843-cde2-594f27357ae4"
      },
      "outputs": [
        {
          "output_type": "execute_result",
          "data": {
            "text/plain": [
              "2"
            ]
          },
          "metadata": {},
          "execution_count": 96
        }
      ],
      "source": [
        "# Suma\n",
        "1 + 1"
      ]
    },
    {
      "cell_type": "code",
      "execution_count": 97,
      "metadata": {
        "id": "UGEahjh4yoin",
        "colab": {
          "base_uri": "https://localhost:8080/"
        },
        "outputId": "0f9ad366-a613-41c5-911a-135d7b5b505d"
      },
      "outputs": [
        {
          "output_type": "execute_result",
          "data": {
            "text/plain": [
              "1"
            ]
          },
          "metadata": {},
          "execution_count": 97
        }
      ],
      "source": [
        "# Resta\n",
        "2 - 1"
      ]
    },
    {
      "cell_type": "code",
      "execution_count": 98,
      "metadata": {
        "id": "WyMoko6nyoin",
        "colab": {
          "base_uri": "https://localhost:8080/"
        },
        "outputId": "cc8cc381-7cab-4ac9-aa4a-26858b2b22e2"
      },
      "outputs": [
        {
          "output_type": "execute_result",
          "data": {
            "text/plain": [
              "4"
            ]
          },
          "metadata": {},
          "execution_count": 98
        }
      ],
      "source": [
        "# Multiplicación\n",
        "2 * 2"
      ]
    },
    {
      "cell_type": "code",
      "execution_count": 99,
      "metadata": {
        "id": "m8zJbrNKyoin",
        "colab": {
          "base_uri": "https://localhost:8080/"
        },
        "outputId": "5261d8be-2d80-4e44-c0b0-13e56085c107"
      },
      "outputs": [
        {
          "output_type": "execute_result",
          "data": {
            "text/plain": [
              "1.5"
            ]
          },
          "metadata": {},
          "execution_count": 99
        }
      ],
      "source": [
        "# División\n",
        "3 / 2"
      ]
    },
    {
      "cell_type": "code",
      "execution_count": 100,
      "metadata": {
        "id": "C9XC9Jmwyoio",
        "colab": {
          "base_uri": "https://localhost:8080/"
        },
        "outputId": "3155739f-3a73-4524-e070-18f011af6d21"
      },
      "outputs": [
        {
          "output_type": "execute_result",
          "data": {
            "text/plain": [
              "1.0"
            ]
          },
          "metadata": {},
          "execution_count": 100
        }
      ],
      "source": [
        "# Considera que la división siempre retorna floats\n",
        "1/1"
      ]
    },
    {
      "cell_type": "code",
      "execution_count": 101,
      "metadata": {
        "id": "uhamwlfVyoio",
        "colab": {
          "base_uri": "https://localhost:8080/"
        },
        "outputId": "267cf17c-ce7d-4575-fef9-0256fa4ecfc6"
      },
      "outputs": [
        {
          "output_type": "execute_result",
          "data": {
            "text/plain": [
              "8"
            ]
          },
          "metadata": {},
          "execution_count": 101
        }
      ],
      "source": [
        "# Potencias\n",
        "2 ** 3"
      ]
    },
    {
      "cell_type": "code",
      "execution_count": 102,
      "metadata": {
        "id": "nhLhZ6Nxyoio",
        "colab": {
          "base_uri": "https://localhost:8080/"
        },
        "outputId": "86674ea5-175f-4b39-a13a-7e30d74d6089"
      },
      "outputs": [
        {
          "output_type": "execute_result",
          "data": {
            "text/plain": [
              "1.4142135623730951"
            ]
          },
          "metadata": {},
          "execution_count": 102
        }
      ],
      "source": [
        "2 ** (1 / 2)"
      ]
    },
    {
      "cell_type": "markdown",
      "metadata": {
        "id": "VnpdFFWryoip"
      },
      "source": [
        "### Orden de las operaciones"
      ]
    },
    {
      "cell_type": "markdown",
      "metadata": {
        "id": "xJqy-3pmyoip"
      },
      "source": [
        "Al igual que ocurre en matemáticas, en programación también tenemos una prioridad en los operadores. Esto significa que si una expresión matemática es precedida por un operador y seguido de otro, el operador más alto en la lista debe ser aplicado por primera vez. Las expresiones con paréntesis se evalúan de dentro a fuera, el paréntesis más interno se evalúa primero. El orden normal de las operaciones es de izquierda a derecha, evaluando en orden los siguientes operadores:\n",
        "\n",
        "* Términos entre paréntesis.\n",
        "* Potenciación y raíces.\n",
        "* Multiplicación y división.\n",
        "* Suma y resta.\n",
        "\n",
        "En Python se representan los operadores con el siguiente orden:\n",
        "```\n",
        "( )\n",
        "**\n",
        "X, /, %, //\n",
        "+, -\n",
        "````"
      ]
    },
    {
      "cell_type": "code",
      "execution_count": 103,
      "metadata": {
        "id": "Le1_qkOayoip",
        "colab": {
          "base_uri": "https://localhost:8080/"
        },
        "outputId": "911b70c0-f63e-405d-cde8-7f408e590218"
      },
      "outputs": [
        {
          "output_type": "execute_result",
          "data": {
            "text/plain": [
              "2002"
            ]
          },
          "metadata": {},
          "execution_count": 103
        }
      ],
      "source": [
        "# Orden de la operaciones\n",
        "1 + 2 * 1000 + 1"
      ]
    },
    {
      "cell_type": "code",
      "execution_count": 104,
      "metadata": {
        "id": "aytYAw0zyoip",
        "colab": {
          "base_uri": "https://localhost:8080/"
        },
        "outputId": "c29a427f-8771-400f-b62f-ac2b47064fd7"
      },
      "outputs": [
        {
          "output_type": "execute_result",
          "data": {
            "text/plain": [
              "3003"
            ]
          },
          "metadata": {},
          "execution_count": 104
        }
      ],
      "source": [
        "# Python ejecuta priero los paréntesis\n",
        "(1 + 2) * (1000 + 1)"
      ]
    },
    {
      "cell_type": "code",
      "execution_count": 105,
      "metadata": {
        "id": "CP2ICIIhyoip",
        "colab": {
          "base_uri": "https://localhost:8080/"
        },
        "outputId": "c66c1843-f5bd-4e35-bd9f-946fb9d50fb3"
      },
      "outputs": [
        {
          "output_type": "execute_result",
          "data": {
            "text/plain": [
              "21"
            ]
          },
          "metadata": {},
          "execution_count": 105
        }
      ],
      "source": [
        "# Python primero la división y la multiplicación y luego la suma y la resta\n",
        "1 + 10 * 2"
      ]
    },
    {
      "cell_type": "code",
      "execution_count": 106,
      "metadata": {
        "id": "NyJm5cTTyoiq",
        "colab": {
          "base_uri": "https://localhost:8080/"
        },
        "outputId": "388355a2-fd5e-4290-df06-21489df663ab"
      },
      "outputs": [
        {
          "output_type": "execute_result",
          "data": {
            "text/plain": [
              "22"
            ]
          },
          "metadata": {},
          "execution_count": 106
        }
      ],
      "source": [
        "# Pero al final del día, los paréntesis mandan\n",
        "(1 + 10) * 2"
      ]
    },
    {
      "cell_type": "markdown",
      "metadata": {
        "id": "GzqZOZhcyoiq"
      },
      "source": [
        "## <font color='blue'>**Asignando variables**</font>"
      ]
    },
    {
      "cell_type": "code",
      "execution_count": 107,
      "metadata": {
        "id": "YX_sb1Layoiq"
      },
      "outputs": [],
      "source": [
        "a = 2.0"
      ]
    },
    {
      "cell_type": "code",
      "execution_count": 108,
      "metadata": {
        "id": "dwbS5rG_yoir",
        "colab": {
          "base_uri": "https://localhost:8080/"
        },
        "outputId": "21c38033-6313-4ee6-98ea-4b382422ca7a"
      },
      "outputs": [
        {
          "output_type": "execute_result",
          "data": {
            "text/plain": [
              "float"
            ]
          },
          "metadata": {},
          "execution_count": 108
        }
      ],
      "source": [
        "type(a)"
      ]
    },
    {
      "cell_type": "code",
      "execution_count": 109,
      "metadata": {
        "id": "txX3st9Qyoir",
        "colab": {
          "base_uri": "https://localhost:8080/"
        },
        "outputId": "6e2d1719-c6a5-4272-a5b8-fd70970ed422"
      },
      "outputs": [
        {
          "output_type": "execute_result",
          "data": {
            "text/plain": [
              "5.0"
            ]
          },
          "metadata": {},
          "execution_count": 109
        }
      ],
      "source": [
        "a + 3"
      ]
    },
    {
      "cell_type": "code",
      "execution_count": 110,
      "metadata": {
        "id": "M_2yo-NFyoir"
      },
      "outputs": [],
      "source": [
        "b = 3"
      ]
    },
    {
      "cell_type": "code",
      "execution_count": 111,
      "metadata": {
        "id": "ijwl32UMyoir",
        "colab": {
          "base_uri": "https://localhost:8080/"
        },
        "outputId": "b04daeda-5ee1-4fe1-b2ee-cf8c9005f106"
      },
      "outputs": [
        {
          "output_type": "execute_result",
          "data": {
            "text/plain": [
              "5.0"
            ]
          },
          "metadata": {},
          "execution_count": 111
        }
      ],
      "source": [
        "a + b"
      ]
    },
    {
      "cell_type": "code",
      "execution_count": 112,
      "metadata": {
        "id": "YRdWqOXLyoir",
        "colab": {
          "base_uri": "https://localhost:8080/"
        },
        "outputId": "57129b7f-16cd-484a-87cf-a2d89cd9a898"
      },
      "outputs": [
        {
          "output_type": "stream",
          "name": "stdout",
          "text": [
            "El valor actual de a es 2.0\n",
            "El nuevo valor de a es 1000\n"
          ]
        }
      ],
      "source": [
        "print(f'El valor actual de a es {a}')\n",
        "\n",
        "# Reasignamos\n",
        "a = 1000\n",
        "\n",
        "print(f'El nuevo valor de a es {a}')"
      ]
    },
    {
      "cell_type": "code",
      "execution_count": 113,
      "metadata": {
        "id": "l3BdmtvOyoir",
        "colab": {
          "base_uri": "https://localhost:8080/"
        },
        "outputId": "66a3a58c-14ca-4fad-9811-ab1419061cfd"
      },
      "outputs": [
        {
          "output_type": "execute_result",
          "data": {
            "text/plain": [
              "1003"
            ]
          },
          "metadata": {},
          "execution_count": 113
        }
      ],
      "source": [
        "a + b"
      ]
    },
    {
      "cell_type": "markdown",
      "metadata": {
        "id": "a24QBdpYyoir"
      },
      "source": [
        "## <font color='blue'>**Python tipado dinámico**</font>\n",
        "\n",
        "Existen dos tipos de tipado:\n",
        "* Estático\n",
        "* Dinámico\n",
        "\n",
        "En los lenguajes estáticos, cuando declaramos una variable es necesario especificar el tipo que tiene y ese tipo es inalterable:\n",
        "```Javascript\n",
        "String nombre = 'Héctor'; // java\n",
        "```\n",
        "En cambio en lenguajes como Python no es necesario establecer un tipo y además puede cambiar en cualquier momento, eso es porque viene determinado en tiempo de ejecución por el valor asignado a la variable:"
      ]
    },
    {
      "cell_type": "code",
      "execution_count": 114,
      "metadata": {
        "id": "GOC0fVrgyois",
        "colab": {
          "base_uri": "https://localhost:8080/"
        },
        "outputId": "4c6ae3da-6648-476e-e0f4-51af0417acb3"
      },
      "outputs": [
        {
          "output_type": "execute_result",
          "data": {
            "text/plain": [
              "str"
            ]
          },
          "metadata": {},
          "execution_count": 114
        }
      ],
      "source": [
        "nombre = 'Héctor'\n",
        "type(nombre)"
      ]
    },
    {
      "cell_type": "code",
      "execution_count": 115,
      "metadata": {
        "id": "UfLJ84Sqyois",
        "colab": {
          "base_uri": "https://localhost:8080/"
        },
        "outputId": "a92e4394-e88f-4ce4-b5c8-58765b9f54fb"
      },
      "outputs": [
        {
          "output_type": "execute_result",
          "data": {
            "text/plain": [
              "int"
            ]
          },
          "metadata": {},
          "execution_count": 115
        }
      ],
      "source": [
        "nombre = 50\n",
        "type(nombre)"
      ]
    },
    {
      "cell_type": "markdown",
      "metadata": {
        "id": "8Sxb6xt8yois"
      },
      "source": [
        "### Reasignar con la misma variable"
      ]
    },
    {
      "cell_type": "code",
      "execution_count": 116,
      "metadata": {
        "id": "UKAYdNxZyois",
        "colab": {
          "base_uri": "https://localhost:8080/"
        },
        "outputId": "21b67e39-28a3-462e-cebd-9f515e5913ce"
      },
      "outputs": [
        {
          "output_type": "execute_result",
          "data": {
            "text/plain": [
              "1000"
            ]
          },
          "metadata": {},
          "execution_count": 116
        }
      ],
      "source": [
        "a"
      ]
    },
    {
      "cell_type": "code",
      "execution_count": 117,
      "metadata": {
        "id": "nkIvCcaJyois"
      },
      "outputs": [],
      "source": [
        "# Ten en mente qye si ejecutas esta celda más de una vez estarás ejecutando a = a + a\n",
        "a = a + a"
      ]
    },
    {
      "cell_type": "code",
      "execution_count": 118,
      "metadata": {
        "id": "7HnMXbURyois",
        "colab": {
          "base_uri": "https://localhost:8080/"
        },
        "outputId": "ec7f1ef7-7b4a-4450-956c-bb8317621615"
      },
      "outputs": [
        {
          "output_type": "execute_result",
          "data": {
            "text/plain": [
              "2000"
            ]
          },
          "metadata": {},
          "execution_count": 118
        }
      ],
      "source": [
        "a"
      ]
    },
    {
      "cell_type": "code",
      "execution_count": 119,
      "metadata": {
        "id": "4Tr9ndIoyois"
      },
      "outputs": [],
      "source": [
        "a = a + a"
      ]
    },
    {
      "cell_type": "code",
      "execution_count": 120,
      "metadata": {
        "id": "kZSRUwclyois",
        "colab": {
          "base_uri": "https://localhost:8080/"
        },
        "outputId": "6f6ad8c2-6ffc-4da7-ba3d-54d0a788c86c"
      },
      "outputs": [
        {
          "output_type": "execute_result",
          "data": {
            "text/plain": [
              "4000"
            ]
          },
          "metadata": {},
          "execution_count": 120
        }
      ],
      "source": [
        "a"
      ]
    },
    {
      "cell_type": "markdown",
      "metadata": {
        "id": "YInk921tyois"
      },
      "source": [
        "## <font color='green'>Actividad 2:</font>\n",
        "### Tipado dinámico\n",
        "Crea una variable `string`, imprímela y luego reasígnala como `float` y vuelve a imprimirla.\n",
        "Investiga y evalúa las ventajas y desventajas de esta caractarística de Python."
      ]
    },
    {
      "cell_type": "code",
      "execution_count": 121,
      "metadata": {
        "id": "3uIG5WFtyois",
        "colab": {
          "base_uri": "https://localhost:8080/"
        },
        "outputId": "661bbe7e-3498-4b26-8a6d-35885e561d66"
      },
      "outputs": [
        {
          "output_type": "stream",
          "name": "stdout",
          "text": [
            "Valor como string: 123.45 (tipo: <class 'str'>)\n",
            "Valor como float: 123.45 (tipo: <class 'float'>)\n"
          ]
        }
      ],
      "source": [
        "# Tu código aquí ...\n",
        "\n",
        "# Variable como string\n",
        "dato = \"123.45\"\n",
        "print(f\"Valor como string: {dato} (tipo: {type(dato)})\")\n",
        "\n",
        "# Reasignación como float\n",
        "dato = float(dato)\n",
        "print(f\"Valor como float: {dato} (tipo: {type(dato)})\")"
      ]
    },
    {
      "cell_type": "code",
      "source": [],
      "metadata": {
        "id": "9oLRAzl8gDzd"
      },
      "execution_count": 121,
      "outputs": []
    },
    {
      "cell_type": "markdown",
      "metadata": {
        "id": "wfu6qV3OOqLM"
      },
      "source": [
        "# **Introducción a Python**\n",
        "#  Listas en Python (Python list)"
      ]
    },
    {
      "cell_type": "markdown",
      "metadata": {
        "id": "0r-6QIlDOqLP"
      },
      "source": [
        "## <font color='blue'>**Listas**</font>"
      ]
    },
    {
      "cell_type": "markdown",
      "metadata": {
        "id": "1SmdMUV0OqLQ"
      },
      "source": [
        "Hemos aprendido que las cadenas son secuencias de caracteres. De manera similar, las listas son secuencias de objetos, pueden contener una variedad de tipos de datos en orden y siguen las mismas reglas de secuencia y corchetes de indexación que las cadenas. También pueden admitir tipos de datos mixtos.\n",
        "\n",
        "Exploremos algunos ejemplos útiles:"
      ]
    },
    {
      "cell_type": "code",
      "execution_count": 122,
      "metadata": {
        "id": "dGqPPbHSOqLQ"
      },
      "outputs": [],
      "source": [
        "# una lista vacía\n",
        "\n",
        "l = []"
      ]
    },
    {
      "cell_type": "code",
      "execution_count": 123,
      "metadata": {
        "id": "Fg6hCG7oOqLR",
        "colab": {
          "base_uri": "https://localhost:8080/"
        },
        "outputId": "e4ea7f9b-0c65-4f1a-d4fd-475331119b20"
      },
      "outputs": [
        {
          "output_type": "execute_result",
          "data": {
            "text/plain": [
              "list"
            ]
          },
          "metadata": {},
          "execution_count": 123
        }
      ],
      "source": [
        "type(l)"
      ]
    },
    {
      "cell_type": "code",
      "execution_count": 124,
      "metadata": {
        "id": "kcNcFCq_OqLS"
      },
      "outputs": [],
      "source": [
        "# Es pythonista el separar los elementos con un espacio después de la coma\n",
        "\n",
        "my_list = [1, 2, 3]"
      ]
    },
    {
      "cell_type": "code",
      "execution_count": 125,
      "metadata": {
        "id": "zeDaHOWiOqLS",
        "colab": {
          "base_uri": "https://localhost:8080/"
        },
        "outputId": "c5fdd110-bcfb-4e2d-ff93-1a00ad19ae2c"
      },
      "outputs": [
        {
          "output_type": "execute_result",
          "data": {
            "text/plain": [
              "[1, 2, 3]"
            ]
          },
          "metadata": {},
          "execution_count": 125
        }
      ],
      "source": [
        "my_list"
      ]
    },
    {
      "cell_type": "code",
      "execution_count": 126,
      "metadata": {
        "id": "diM_-zWEOqLT"
      },
      "outputs": [],
      "source": [
        "my_list2 = ['a', 'b', 'c']"
      ]
    },
    {
      "cell_type": "code",
      "execution_count": 127,
      "metadata": {
        "id": "mh7rR7qmOqLT",
        "colab": {
          "base_uri": "https://localhost:8080/"
        },
        "outputId": "416318e2-a9c2-4a15-ac1d-9cc9b7205fc0"
      },
      "outputs": [
        {
          "output_type": "execute_result",
          "data": {
            "text/plain": [
              "['a', 'b', 'c']"
            ]
          },
          "metadata": {},
          "execution_count": 127
        }
      ],
      "source": [
        "my_list2"
      ]
    },
    {
      "cell_type": "code",
      "execution_count": 128,
      "metadata": {
        "id": "K42dcTLyOqLU"
      },
      "outputs": [],
      "source": [
        "a = 100\n",
        "b = 200\n",
        "c = 300\n",
        "my_list3 = [a, b, c]"
      ]
    },
    {
      "cell_type": "code",
      "execution_count": 129,
      "metadata": {
        "id": "pqL76r9BOqLV",
        "colab": {
          "base_uri": "https://localhost:8080/"
        },
        "outputId": "b6bd1c0e-1b4a-4fda-f1da-6d4049d405b6"
      },
      "outputs": [
        {
          "output_type": "execute_result",
          "data": {
            "text/plain": [
              "[100, 200, 300]"
            ]
          },
          "metadata": {},
          "execution_count": 129
        }
      ],
      "source": [
        "my_list3"
      ]
    },
    {
      "cell_type": "markdown",
      "metadata": {
        "id": "H_AgpZ2IOqLW"
      },
      "source": [
        "## <font color='blue'>**Indexing y Slicing**</font>\n",
        "\n",
        "Esto funciona igual que con los string!"
      ]
    },
    {
      "cell_type": "code",
      "execution_count": 130,
      "metadata": {
        "id": "flbwYUgbOqLX"
      },
      "outputs": [],
      "source": [
        "mylist = ['a', 'b', 'c', 'd']"
      ]
    },
    {
      "cell_type": "code",
      "execution_count": 131,
      "metadata": {
        "id": "FWjsyQ-XOqLX",
        "colab": {
          "base_uri": "https://localhost:8080/",
          "height": 35
        },
        "outputId": "9bac7fba-5c5d-4d83-c613-30fb6aa49600"
      },
      "outputs": [
        {
          "output_type": "execute_result",
          "data": {
            "text/plain": [
              "'a'"
            ],
            "application/vnd.google.colaboratory.intrinsic+json": {
              "type": "string"
            }
          },
          "metadata": {},
          "execution_count": 131
        }
      ],
      "source": [
        "# el idexing parte de 0\n",
        "\n",
        "mylist[0]"
      ]
    },
    {
      "cell_type": "code",
      "execution_count": 132,
      "metadata": {
        "id": "oK2Pz9_5OqLX",
        "colab": {
          "base_uri": "https://localhost:8080/"
        },
        "outputId": "91d3def2-082c-436c-d595-a5e6a1376803"
      },
      "outputs": [
        {
          "output_type": "execute_result",
          "data": {
            "text/plain": [
              "['a', 'b', 'c']"
            ]
          },
          "metadata": {},
          "execution_count": 132
        }
      ],
      "source": [
        "# y el slicing no considera el último número\n",
        "\n",
        "mylist[0:3]"
      ]
    },
    {
      "cell_type": "code",
      "execution_count": 133,
      "metadata": {
        "id": "WSowEiauOqLX",
        "colab": {
          "base_uri": "https://localhost:8080/",
          "height": 35
        },
        "outputId": "d4f999ac-a89f-4afe-a82f-ef775ecc82ba"
      },
      "outputs": [
        {
          "output_type": "execute_result",
          "data": {
            "text/plain": [
              "'d'"
            ],
            "application/vnd.google.colaboratory.intrinsic+json": {
              "type": "string"
            }
          },
          "metadata": {},
          "execution_count": 133
        }
      ],
      "source": [
        "# podemos usar idexing inverso\n",
        "\n",
        "mylist[-1]"
      ]
    },
    {
      "cell_type": "code",
      "execution_count": 134,
      "metadata": {
        "id": "Xb30nI6nOqLX",
        "colab": {
          "base_uri": "https://localhost:8080/"
        },
        "outputId": "b0647424-b12a-431c-df49-fc08e3bf473d"
      },
      "outputs": [
        {
          "output_type": "execute_result",
          "data": {
            "text/plain": [
              "['a', 'c']"
            ]
          },
          "metadata": {},
          "execution_count": 134
        }
      ],
      "source": [
        "# ... con paso\n",
        "mylist[0::2]"
      ]
    },
    {
      "cell_type": "code",
      "execution_count": 135,
      "metadata": {
        "id": "I8lWVT3AOqLY",
        "colab": {
          "base_uri": "https://localhost:8080/"
        },
        "outputId": "f9ffeb4c-5418-4706-d266-d0281cacb9ef"
      },
      "outputs": [
        {
          "output_type": "execute_result",
          "data": {
            "text/plain": [
              "['d', 'c', 'b', 'a']"
            ]
          },
          "metadata": {},
          "execution_count": 135
        }
      ],
      "source": [
        "# ... con paso inverso\n",
        "mylist[-1::-1]"
      ]
    },
    {
      "cell_type": "markdown",
      "metadata": {
        "id": "W12EDdCROqLY"
      },
      "source": [
        "## La función `len()`\n",
        "\n",
        "Python tiene funciones integradas a las que puede llamar. Lentamente presentaremos más de ellos a medida que las necesitemos. Una función incorporada útil es la función `len()`, la cual devuelve la longitud de un objeto. Observe el color de la letra en su sintaxis, ese color indica que es una función incorporada. Si ve que este resaltado automático ocurre al elegir su propio nombre de variable, entonces debe elegir un nombre de variable diferente, para no sobrescribir accidentalmente la función."
      ]
    },
    {
      "cell_type": "code",
      "execution_count": 136,
      "metadata": {
        "id": "MnngoakPOqLY",
        "colab": {
          "base_uri": "https://localhost:8080/"
        },
        "outputId": "b0eb6b66-8b72-43b7-b273-06b122cb0187"
      },
      "outputs": [
        {
          "output_type": "execute_result",
          "data": {
            "text/plain": [
              "6"
            ]
          },
          "metadata": {},
          "execution_count": 136
        }
      ],
      "source": [
        "len('string')"
      ]
    },
    {
      "cell_type": "code",
      "execution_count": 137,
      "metadata": {
        "id": "BLgdaBINOqLY",
        "colab": {
          "base_uri": "https://localhost:8080/"
        },
        "outputId": "ce42507a-8bdb-4fc2-aae4-b508e9da3d1e"
      },
      "outputs": [
        {
          "output_type": "execute_result",
          "data": {
            "text/plain": [
              "3"
            ]
          },
          "metadata": {},
          "execution_count": 137
        }
      ],
      "source": [
        "len(my_list)"
      ]
    },
    {
      "cell_type": "markdown",
      "metadata": {
        "id": "DM879TufOqLZ"
      },
      "source": [
        "## <font color='blue'>**Métodos útiles para listas**</font>\n",
        "\n",
        "Los métodos son funciones que pertenecen a un objeto. En este caso el objeto es la lista. Su formato típico es:\n",
        "```python\n",
        "     mylist = [1, 2, 3]\n",
        "     mylist.some_method()\n",
        "```    \n",
        "¡Atención con los paréntesis!\n",
        "\n",
        "Repasemos algunos métodos útiles relacionados con las listas."
      ]
    },
    {
      "cell_type": "code",
      "execution_count": 138,
      "metadata": {
        "id": "aI2ITkXqOqLZ"
      },
      "outputs": [],
      "source": [
        "mylist = [1, 2, 3]"
      ]
    },
    {
      "cell_type": "code",
      "execution_count": 139,
      "metadata": {
        "id": "JizDG7pQOqLZ"
      },
      "outputs": [],
      "source": [
        "# Descubre qué hace el método append()\n",
        "mylist.append(4)"
      ]
    },
    {
      "cell_type": "code",
      "execution_count": 140,
      "metadata": {
        "id": "vu0OxoI_OqLa",
        "colab": {
          "base_uri": "https://localhost:8080/"
        },
        "outputId": "e146cf44-0709-4dd3-c621-0cc12d0a4e80"
      },
      "outputs": [
        {
          "output_type": "execute_result",
          "data": {
            "text/plain": [
              "[1, 2, 3, 4]"
            ]
          },
          "metadata": {},
          "execution_count": 140
        }
      ],
      "source": [
        "mylist"
      ]
    },
    {
      "cell_type": "code",
      "execution_count": 141,
      "metadata": {
        "id": "ZuX5EwiVOqLa",
        "colab": {
          "base_uri": "https://localhost:8080/"
        },
        "outputId": "7df52ae2-e2db-49aa-c098-9998587d6f1f"
      },
      "outputs": [
        {
          "output_type": "execute_result",
          "data": {
            "text/plain": [
              "4"
            ]
          },
          "metadata": {},
          "execution_count": 141
        }
      ],
      "source": [
        "# Descubre qué hace el método pop()\n",
        "mylist.pop()"
      ]
    },
    {
      "cell_type": "code",
      "execution_count": 142,
      "metadata": {
        "id": "Uav9FjAPOqLa",
        "colab": {
          "base_uri": "https://localhost:8080/"
        },
        "outputId": "5af6fd0e-08d9-4168-cd94-44736c4abbb2"
      },
      "outputs": [
        {
          "output_type": "execute_result",
          "data": {
            "text/plain": [
              "[1, 2, 3]"
            ]
          },
          "metadata": {},
          "execution_count": 142
        }
      ],
      "source": [
        "mylist"
      ]
    },
    {
      "cell_type": "code",
      "execution_count": 143,
      "metadata": {
        "id": "VH82E1x2OqLa",
        "colab": {
          "base_uri": "https://localhost:8080/"
        },
        "outputId": "7b6d4e4f-ca2f-4cfe-abe0-2315a258fbd9"
      },
      "outputs": [
        {
          "output_type": "execute_result",
          "data": {
            "text/plain": [
              "<function list.append(object, /)>"
            ]
          },
          "metadata": {},
          "execution_count": 143
        }
      ],
      "source": [
        "# Si no pones los paréntesis te devuelve el tipo de objeto; en este caso una función\n",
        "mylist.append"
      ]
    },
    {
      "cell_type": "code",
      "execution_count": 144,
      "metadata": {
        "id": "uh1uiTdhOqLa"
      },
      "outputs": [],
      "source": [
        "mylist.append(4)"
      ]
    },
    {
      "cell_type": "code",
      "execution_count": 145,
      "metadata": {
        "id": "A3JY0Cg4OqLa",
        "colab": {
          "base_uri": "https://localhost:8080/"
        },
        "outputId": "f672e6bb-4eb5-4474-f0e1-3460e1ec1611"
      },
      "outputs": [
        {
          "output_type": "execute_result",
          "data": {
            "text/plain": [
              "[1, 2, 3, 4]"
            ]
          },
          "metadata": {},
          "execution_count": 145
        }
      ],
      "source": [
        "mylist"
      ]
    },
    {
      "cell_type": "code",
      "execution_count": 146,
      "metadata": {
        "id": "wnEWtuUBOqLa"
      },
      "outputs": [],
      "source": [
        "item = mylist.pop()"
      ]
    },
    {
      "cell_type": "code",
      "execution_count": 147,
      "metadata": {
        "id": "U9kEst9uOqLa",
        "colab": {
          "base_uri": "https://localhost:8080/"
        },
        "outputId": "87678af0-f19f-4b6e-fcca-124ade5f0442"
      },
      "outputs": [
        {
          "output_type": "execute_result",
          "data": {
            "text/plain": [
              "4"
            ]
          },
          "metadata": {},
          "execution_count": 147
        }
      ],
      "source": [
        "item"
      ]
    },
    {
      "cell_type": "code",
      "execution_count": 148,
      "metadata": {
        "id": "l6q-DVCsOqLa",
        "colab": {
          "base_uri": "https://localhost:8080/"
        },
        "outputId": "893094f3-0a44-4a6b-efb6-9d041e585a37"
      },
      "outputs": [
        {
          "output_type": "execute_result",
          "data": {
            "text/plain": [
              "[1, 2, 3]"
            ]
          },
          "metadata": {},
          "execution_count": 148
        }
      ],
      "source": [
        "mylist"
      ]
    },
    {
      "cell_type": "code",
      "execution_count": 149,
      "metadata": {
        "id": "R-3IWCHOOqLa"
      },
      "outputs": [],
      "source": [
        "first_item = mylist.pop(0)"
      ]
    },
    {
      "cell_type": "code",
      "execution_count": 150,
      "metadata": {
        "id": "Jgm94TKoOqLa",
        "colab": {
          "base_uri": "https://localhost:8080/"
        },
        "outputId": "b5a9fe9c-cb28-4a2e-dfcd-bedbe31f87b5"
      },
      "outputs": [
        {
          "output_type": "execute_result",
          "data": {
            "text/plain": [
              "1"
            ]
          },
          "metadata": {},
          "execution_count": 150
        }
      ],
      "source": [
        "first_item"
      ]
    },
    {
      "cell_type": "code",
      "execution_count": 151,
      "metadata": {
        "id": "7BHyqp3EOqLa",
        "colab": {
          "base_uri": "https://localhost:8080/"
        },
        "outputId": "d439bba5-e490-4a06-ad8e-9dc1eb15fbf1"
      },
      "outputs": [
        {
          "output_type": "execute_result",
          "data": {
            "text/plain": [
              "[2, 3]"
            ]
          },
          "metadata": {},
          "execution_count": 151
        }
      ],
      "source": [
        "mylist"
      ]
    },
    {
      "cell_type": "code",
      "execution_count": 152,
      "metadata": {
        "id": "dM_oNgKdOqLb"
      },
      "outputs": [],
      "source": [
        "mylist = [1, 2, 3]"
      ]
    },
    {
      "cell_type": "code",
      "execution_count": 153,
      "metadata": {
        "id": "QGVRRvfcOqLb"
      },
      "outputs": [],
      "source": [
        "# Este método no devuelve nada.\n",
        "# En su lugar, realiza la acción \"in situ\", o en la misma lista sin devolver nada.\n",
        "# Descubre qué hace...\n",
        "\n",
        "mylist.reverse()"
      ]
    },
    {
      "cell_type": "code",
      "execution_count": 154,
      "metadata": {
        "id": "7GKtKCUxOqLb",
        "colab": {
          "base_uri": "https://localhost:8080/"
        },
        "outputId": "7b996aca-1d73-411e-8ea9-184b07d93ae9"
      },
      "outputs": [
        {
          "output_type": "execute_result",
          "data": {
            "text/plain": [
              "[3, 2, 1]"
            ]
          },
          "metadata": {},
          "execution_count": 154
        }
      ],
      "source": [
        "mylist"
      ]
    },
    {
      "cell_type": "code",
      "execution_count": 155,
      "metadata": {
        "id": "M5cnjnvnOqLb",
        "colab": {
          "base_uri": "https://localhost:8080/"
        },
        "outputId": "f325346b-9a13-41ab-d016-8aa2b192026e"
      },
      "outputs": [
        {
          "output_type": "execute_result",
          "data": {
            "text/plain": [
              "[3, 2, 1, 6, 5, 4]"
            ]
          },
          "metadata": {},
          "execution_count": 155
        }
      ],
      "source": [
        "mylist = [3, 2, 1, 6, 5, 4]\n",
        "mylist"
      ]
    },
    {
      "cell_type": "code",
      "execution_count": 156,
      "metadata": {
        "id": "H_7cosNkOqLb"
      },
      "outputs": [],
      "source": [
        "# Este método ordena la lista pero sin devolver nada. A esto se le denomina \"in place\"\n",
        "\n",
        "mylist.sort()"
      ]
    },
    {
      "cell_type": "code",
      "execution_count": 157,
      "metadata": {
        "id": "dmb3CfNsOqLb",
        "colab": {
          "base_uri": "https://localhost:8080/"
        },
        "outputId": "1af09706-e616-43a2-b06a-964cd0f40e73"
      },
      "outputs": [
        {
          "output_type": "execute_result",
          "data": {
            "text/plain": [
              "[1, 2, 3, 4, 5, 6]"
            ]
          },
          "metadata": {},
          "execution_count": 157
        }
      ],
      "source": [
        "mylist"
      ]
    },
    {
      "cell_type": "code",
      "execution_count": 158,
      "metadata": {
        "id": "Tc1ML1OFOqLb",
        "colab": {
          "base_uri": "https://localhost:8080/"
        },
        "outputId": "758f7619-d99c-451a-d3ef-09894cef27fa"
      },
      "outputs": [
        {
          "output_type": "stream",
          "name": "stdout",
          "text": [
            "<class 'list'>\n"
          ]
        }
      ],
      "source": [
        "# Creemos otra lista\n",
        "\n",
        "names = []\n",
        "\n",
        "# verifiquemos su tipo con type()\n",
        "print(type(names))"
      ]
    },
    {
      "cell_type": "code",
      "execution_count": 159,
      "metadata": {
        "id": "J9whVhcvOqLb",
        "colab": {
          "base_uri": "https://localhost:8080/"
        },
        "outputId": "4550d7a3-02b8-43c2-f934-737da5b847dd"
      },
      "outputs": [
        {
          "output_type": "execute_result",
          "data": {
            "text/plain": [
              "['Matías']"
            ]
          },
          "metadata": {},
          "execution_count": 159
        }
      ],
      "source": [
        "# Agreguemos un nombre a 'name'\n",
        "\n",
        "names.append('Matías')\n",
        "names"
      ]
    },
    {
      "cell_type": "code",
      "execution_count": 160,
      "metadata": {
        "id": "ibs44kmgOqLb",
        "colab": {
          "base_uri": "https://localhost:8080/"
        },
        "outputId": "dc9bbce8-ca23-475e-911b-7403d12a07e5"
      },
      "outputs": [
        {
          "output_type": "execute_result",
          "data": {
            "text/plain": [
              "['Matías', 'Isidora', 'Flo']"
            ]
          },
          "metadata": {},
          "execution_count": 160
        }
      ],
      "source": [
        "# Más nombres ...\n",
        "\n",
        "names.append('Isidora')\n",
        "names.append('Flo')\n",
        "names"
      ]
    },
    {
      "cell_type": "markdown",
      "metadata": {
        "id": "tFbrDumuOqLd"
      },
      "source": [
        "## <font color='blue'>**Listas anidadas (_Nested Lists_)**</font>\n",
        "\n",
        "¡Las listas pueden contener otras listas! Esto se llama lista anidada. Veamos algunos ejemplos."
      ]
    },
    {
      "cell_type": "code",
      "execution_count": 161,
      "metadata": {
        "id": "xOpP0Ap5OqLd"
      },
      "outputs": [],
      "source": [
        "new_list = [1, 2, 3, ['a', 'b', 'c']]"
      ]
    },
    {
      "cell_type": "code",
      "execution_count": 162,
      "metadata": {
        "id": "gJOaH8UgOqLd",
        "colab": {
          "base_uri": "https://localhost:8080/"
        },
        "outputId": "d6148425-0a3e-4011-d9b4-c779e1b2f2c1"
      },
      "outputs": [
        {
          "output_type": "execute_result",
          "data": {
            "text/plain": [
              "list"
            ]
          },
          "metadata": {},
          "execution_count": 162
        }
      ],
      "source": [
        "type(new_list)"
      ]
    },
    {
      "cell_type": "code",
      "execution_count": 163,
      "metadata": {
        "id": "qREc7V7EOqLd",
        "colab": {
          "base_uri": "https://localhost:8080/"
        },
        "outputId": "32948eb9-17e7-4495-abdb-8a2cb1e48cf2"
      },
      "outputs": [
        {
          "output_type": "execute_result",
          "data": {
            "text/plain": [
              "['a', 'b', 'c']"
            ]
          },
          "metadata": {},
          "execution_count": 163
        }
      ],
      "source": [
        "new_list[3]"
      ]
    },
    {
      "cell_type": "code",
      "execution_count": 164,
      "metadata": {
        "id": "yh76pQ4JOqLd",
        "colab": {
          "base_uri": "https://localhost:8080/",
          "height": 35
        },
        "outputId": "e4250c28-e12c-4e44-d8ac-063f33047408"
      },
      "outputs": [
        {
          "output_type": "execute_result",
          "data": {
            "text/plain": [
              "'a'"
            ],
            "application/vnd.google.colaboratory.intrinsic+json": {
              "type": "string"
            }
          },
          "metadata": {},
          "execution_count": 164
        }
      ],
      "source": [
        "# Observa el slicing con dos valores\n",
        "\n",
        "new_list[3][0]"
      ]
    },
    {
      "cell_type": "markdown",
      "metadata": {
        "id": "xxxc66y1OqLj"
      },
      "source": [
        "## <font color='blue'>**Copiando listas**</font>"
      ]
    },
    {
      "cell_type": "markdown",
      "metadata": {
        "id": "mh26_zviOqLj"
      },
      "source": [
        "Ten en cuenta que cuando copias una lista no haces una copia *profunda*."
      ]
    },
    {
      "cell_type": "code",
      "execution_count": 165,
      "metadata": {
        "id": "AcKH7z3tOqLj",
        "colab": {
          "base_uri": "https://localhost:8080/"
        },
        "outputId": "3947f136-d59e-4b95-b6f9-55d4b6be63f0"
      },
      "outputs": [
        {
          "output_type": "stream",
          "name": "stdout",
          "text": [
            "[1, 2, 3]\n"
          ]
        }
      ],
      "source": [
        "l = [1, 2, 3]\n",
        "n = l\n",
        "print(n)"
      ]
    },
    {
      "cell_type": "code",
      "execution_count": 166,
      "metadata": {
        "id": "k6QRqtL3OqLj",
        "colab": {
          "base_uri": "https://localhost:8080/"
        },
        "outputId": "b06afeb8-95bd-41ca-d00d-d492b73dd959"
      },
      "outputs": [
        {
          "output_type": "stream",
          "name": "stdout",
          "text": [
            "[1, 2, 3, 4]\n"
          ]
        }
      ],
      "source": [
        "# Modificamos la lista l\n",
        "\n",
        "l.append(4)\n",
        "print(l)"
      ]
    },
    {
      "cell_type": "code",
      "execution_count": 167,
      "metadata": {
        "id": "MDpfFcm3OqLk",
        "colab": {
          "base_uri": "https://localhost:8080/"
        },
        "outputId": "2c0b3673-6e0a-418f-e6ac-747f7a03fa2a"
      },
      "outputs": [
        {
          "output_type": "stream",
          "name": "stdout",
          "text": [
            "[1, 2, 3, 4]\n"
          ]
        }
      ],
      "source": [
        "# Miren lo que ocurre con la lista n\n",
        "\n",
        "print(n)"
      ]
    },
    {
      "cell_type": "markdown",
      "metadata": {
        "id": "_8VeH72pOqLV"
      },
      "source": [
        "## <font color='green'>Actividad 1:</font>\n",
        "### Crea tu propia lista con 5 elementos del mismo tipo\n",
        "Puede ser cualquier tipo de dato de los ya aprendidos"
      ]
    },
    {
      "cell_type": "code",
      "execution_count": 167,
      "metadata": {
        "id": "70uIdFr6OqLV"
      },
      "outputs": [],
      "source": []
    },
    {
      "cell_type": "code",
      "source": [],
      "metadata": {
        "id": "Ns5Ua96I3JWB"
      },
      "execution_count": 167,
      "outputs": []
    },
    {
      "cell_type": "code",
      "source": [],
      "metadata": {
        "id": "1yj_kkbL3BSX"
      },
      "execution_count": 167,
      "outputs": []
    },
    {
      "cell_type": "markdown",
      "metadata": {
        "id": "ovdJmIT_2HW6"
      },
      "source": [
        "# **Introducción a Python**\n",
        "# FP06. Diccionarios en Python (Python Dictionaries)"
      ]
    },
    {
      "cell_type": "markdown",
      "metadata": {
        "id": "jsUkocZ22HW8"
      },
      "source": [
        "¡Hola, Hackers!\n",
        "\n",
        "Hasta ahora solo hemos visto cómo almacenar tipos de datos en secuencias tales como almacenar caracteres en una cadena (string) o elementos en una lista (list). Pero, ¿y si queremos almacenar información de otra manera? La mayoría de los lenguajes de programación tienen lo que se llama una *tabla hash*, que es una combinación de elementos clave-valor. Bajo el capó, este tipo de estructuras permite tiempos de búsqueda de objetos más rápidos cuando las estructuras tienen muchos elementos.\n",
        "\n",
        "La elección entre estructuras como una lista o un diccionario a menudo depende de la situación específica. A medida que te conviertas en un programador más sólido, elegir el formato de almacenamiento adecuado será más intuitivo.\n",
        "\n",
        "¡Cubramos los conceptos básicos de los diccionarios!"
      ]
    },
    {
      "cell_type": "markdown",
      "metadata": {
        "id": "TnkwzsUD2HW8"
      },
      "source": [
        "## <font color='blue'>**Creando un  Diccionario (Dictionary)**</font>"
      ]
    },
    {
      "cell_type": "code",
      "metadata": {
        "id": "vrBvE8622HW9"
      },
      "source": [
        "# Para crearlos se utilizan corchetes curvos\n",
        "\n",
        "d = {}"
      ],
      "execution_count": 168,
      "outputs": []
    },
    {
      "cell_type": "code",
      "metadata": {
        "id": "BAosWqkO2HW9",
        "colab": {
          "base_uri": "https://localhost:8080/"
        },
        "outputId": "def6f5da-27b4-4075-a56a-1ac472f057dc"
      },
      "source": [
        "# Verifiquemos con type()\n",
        "\n",
        "type(d)"
      ],
      "execution_count": 169,
      "outputs": [
        {
          "output_type": "execute_result",
          "data": {
            "text/plain": [
              "dict"
            ]
          },
          "metadata": {},
          "execution_count": 169
        }
      ]
    },
    {
      "cell_type": "code",
      "metadata": {
        "id": "Cf8oDgGW2HW-"
      },
      "source": [
        "# Construimos un diccionario con {} y utilizamos dos puntos \":\" para indicar una clave y un valor.\n",
        "\n",
        "d = {'clave1': 'valor1', 'clave2': 'valor2'}"
      ],
      "execution_count": 170,
      "outputs": []
    },
    {
      "cell_type": "code",
      "metadata": {
        "id": "qLu-tEwb2HW_",
        "colab": {
          "base_uri": "https://localhost:8080/"
        },
        "outputId": "b24bee5b-020b-4dce-a4f8-4c6f5bd80668"
      },
      "source": [
        "# Veamos\n",
        "d"
      ],
      "execution_count": 171,
      "outputs": [
        {
          "output_type": "execute_result",
          "data": {
            "text/plain": [
              "{'clave1': 'valor1', 'clave2': 'valor2'}"
            ]
          },
          "metadata": {},
          "execution_count": 171
        }
      ]
    },
    {
      "cell_type": "code",
      "metadata": {
        "id": "RaKje8pV2HW_",
        "colab": {
          "base_uri": "https://localhost:8080/",
          "height": 35
        },
        "outputId": "d30bda50-3c95-4b72-f423-22685d3cd5cc"
      },
      "source": [
        "# Podemos extraer valores a través de su llave\n",
        "\n",
        "d['clave1']"
      ],
      "execution_count": 172,
      "outputs": [
        {
          "output_type": "execute_result",
          "data": {
            "text/plain": [
              "'valor1'"
            ],
            "application/vnd.google.colaboratory.intrinsic+json": {
              "type": "string"
            }
          },
          "metadata": {},
          "execution_count": 172
        }
      ]
    },
    {
      "cell_type": "code",
      "metadata": {
        "id": "_Ee9ZEbb2HXA",
        "colab": {
          "base_uri": "https://localhost:8080/",
          "height": 35
        },
        "outputId": "5499c18b-be8b-41e2-ff9c-97505ee3b6c7"
      },
      "source": [
        "# Fíjate en la sintaxis y en el uso de las comillas simples y dobles\n",
        "\n",
        "f\"{d['clave1']}\""
      ],
      "execution_count": 173,
      "outputs": [
        {
          "output_type": "execute_result",
          "data": {
            "text/plain": [
              "'valor1'"
            ],
            "application/vnd.google.colaboratory.intrinsic+json": {
              "type": "string"
            }
          },
          "metadata": {},
          "execution_count": 173
        }
      ]
    },
    {
      "cell_type": "code",
      "metadata": {
        "id": "2fwRqviB2HW_",
        "colab": {
          "base_uri": "https://localhost:8080/",
          "height": 35
        },
        "outputId": "68472130-58ce-47f3-bc86-a65b4f7258e6"
      },
      "source": [
        "d['clave2']"
      ],
      "execution_count": 174,
      "outputs": [
        {
          "output_type": "execute_result",
          "data": {
            "text/plain": [
              "'valor2'"
            ],
            "application/vnd.google.colaboratory.intrinsic+json": {
              "type": "string"
            }
          },
          "metadata": {},
          "execution_count": 174
        }
      ]
    },
    {
      "cell_type": "code",
      "metadata": {
        "id": "6CebphMB2HW_"
      },
      "source": [
        "# Otro diccionario, como los de la vida real !!\n",
        "# Fíjate como vamos usando el espacio y escribimos los pares de llave-valor hacia abajo.\n",
        "# Esto es opcional pero es muy elegante y legible.\n",
        "\n",
        "animals = {'elefante': 'loxodonta africana',\n",
        "           'lobo': 'canis lupus',\n",
        "           'tigre': 'panthera tigris',\n",
        "           'ratón': 'mus musculus'\n",
        "          }"
      ],
      "execution_count": 175,
      "outputs": []
    },
    {
      "cell_type": "markdown",
      "metadata": {
        "id": "_BARWuO42HXB"
      },
      "source": [
        "## Añadiendo nuevos pares de *Key-Value*"
      ]
    },
    {
      "cell_type": "code",
      "metadata": {
        "id": "R1gYcC3R2HXB"
      },
      "source": [
        "d['new_key'] = 'new item'"
      ],
      "execution_count": 176,
      "outputs": []
    },
    {
      "cell_type": "code",
      "metadata": {
        "id": "PVqWKjhI2HXB",
        "colab": {
          "base_uri": "https://localhost:8080/"
        },
        "outputId": "65802923-4fc5-47eb-918e-c4f28310015d"
      },
      "source": [
        "d"
      ],
      "execution_count": 177,
      "outputs": [
        {
          "output_type": "execute_result",
          "data": {
            "text/plain": [
              "{'clave1': 'valor1', 'clave2': 'valor2', 'new_key': 'new item'}"
            ]
          },
          "metadata": {},
          "execution_count": 177
        }
      ]
    },
    {
      "cell_type": "markdown",
      "metadata": {
        "id": "FrHTyV_g2HXC"
      },
      "source": [
        "<div class=\"alert alert-block alert-warning\">\n",
        "<b>TIP:</b> Los diccionarios no son estructuras ordenadas por defecto. Preservan el orden en el cual se ingresaron los elementos (a partir de la versión 3.7 de Python), pero no tienen un orden lógico cómo podríamos esperar (e.g.; por abecedario, menor a mayor, etc.). Esto puede no estar claro al principio con diccionarios más pequeños, pero a medida que los diccionarios se hacen más grandes, no mantendrán el orden, lo que significa que no podemos asumir que estarán ordenados de forma lógica.\n",
        "</div>"
      ]
    },
    {
      "cell_type": "code",
      "metadata": {
        "id": "VA1XGMVw2HXC",
        "colab": {
          "base_uri": "https://localhost:8080/",
          "height": 35
        },
        "outputId": "8ed9d65b-160e-43da-cbfc-09af8ffc0e09"
      },
      "source": [
        "f\"{animals}\""
      ],
      "execution_count": 178,
      "outputs": [
        {
          "output_type": "execute_result",
          "data": {
            "text/plain": [
              "\"{'elefante': 'loxodonta africana', 'lobo': 'canis lupus', 'tigre': 'panthera tigris', 'ratón': 'mus musculus'}\""
            ],
            "application/vnd.google.colaboratory.intrinsic+json": {
              "type": "string"
            }
          },
          "metadata": {},
          "execution_count": 178
        }
      ]
    },
    {
      "cell_type": "code",
      "metadata": {
        "scrolled": true,
        "tags": [],
        "id": "VFxUaXA42HXC",
        "colab": {
          "base_uri": "https://localhost:8080/"
        },
        "outputId": "0b2e84e0-3261-4b42-aeef-dbf60e0af086"
      },
      "source": [
        "# Dale un vistazo a los métodos propios de los diccionarios\n",
        "\n",
        "help(animals)"
      ],
      "execution_count": 179,
      "outputs": [
        {
          "output_type": "stream",
          "name": "stdout",
          "text": [
            "Help on dict object:\n",
            "\n",
            "class dict(object)\n",
            " |  dict() -> new empty dictionary\n",
            " |  dict(mapping) -> new dictionary initialized from a mapping object's\n",
            " |      (key, value) pairs\n",
            " |  dict(iterable) -> new dictionary initialized as if via:\n",
            " |      d = {}\n",
            " |      for k, v in iterable:\n",
            " |          d[k] = v\n",
            " |  dict(**kwargs) -> new dictionary initialized with the name=value pairs\n",
            " |      in the keyword argument list.  For example:  dict(one=1, two=2)\n",
            " |  \n",
            " |  Built-in subclasses:\n",
            " |      StgDict\n",
            " |  \n",
            " |  Methods defined here:\n",
            " |  \n",
            " |  __contains__(self, key, /)\n",
            " |      True if the dictionary has the specified key, else False.\n",
            " |  \n",
            " |  __delitem__(self, key, /)\n",
            " |      Delete self[key].\n",
            " |  \n",
            " |  __eq__(self, value, /)\n",
            " |      Return self==value.\n",
            " |  \n",
            " |  __ge__(self, value, /)\n",
            " |      Return self>=value.\n",
            " |  \n",
            " |  __getattribute__(self, name, /)\n",
            " |      Return getattr(self, name).\n",
            " |  \n",
            " |  __getitem__(...)\n",
            " |      x.__getitem__(y) <==> x[y]\n",
            " |  \n",
            " |  __gt__(self, value, /)\n",
            " |      Return self>value.\n",
            " |  \n",
            " |  __init__(self, /, *args, **kwargs)\n",
            " |      Initialize self.  See help(type(self)) for accurate signature.\n",
            " |  \n",
            " |  __ior__(self, value, /)\n",
            " |      Return self|=value.\n",
            " |  \n",
            " |  __iter__(self, /)\n",
            " |      Implement iter(self).\n",
            " |  \n",
            " |  __le__(self, value, /)\n",
            " |      Return self<=value.\n",
            " |  \n",
            " |  __len__(self, /)\n",
            " |      Return len(self).\n",
            " |  \n",
            " |  __lt__(self, value, /)\n",
            " |      Return self<value.\n",
            " |  \n",
            " |  __ne__(self, value, /)\n",
            " |      Return self!=value.\n",
            " |  \n",
            " |  __or__(self, value, /)\n",
            " |      Return self|value.\n",
            " |  \n",
            " |  __repr__(self, /)\n",
            " |      Return repr(self).\n",
            " |  \n",
            " |  __reversed__(self, /)\n",
            " |      Return a reverse iterator over the dict keys.\n",
            " |  \n",
            " |  __ror__(self, value, /)\n",
            " |      Return value|self.\n",
            " |  \n",
            " |  __setitem__(self, key, value, /)\n",
            " |      Set self[key] to value.\n",
            " |  \n",
            " |  __sizeof__(...)\n",
            " |      D.__sizeof__() -> size of D in memory, in bytes\n",
            " |  \n",
            " |  clear(...)\n",
            " |      D.clear() -> None.  Remove all items from D.\n",
            " |  \n",
            " |  copy(...)\n",
            " |      D.copy() -> a shallow copy of D\n",
            " |  \n",
            " |  get(self, key, default=None, /)\n",
            " |      Return the value for key if key is in the dictionary, else default.\n",
            " |  \n",
            " |  items(...)\n",
            " |      D.items() -> a set-like object providing a view on D's items\n",
            " |  \n",
            " |  keys(...)\n",
            " |      D.keys() -> a set-like object providing a view on D's keys\n",
            " |  \n",
            " |  pop(...)\n",
            " |      D.pop(k[,d]) -> v, remove specified key and return the corresponding value.\n",
            " |      \n",
            " |      If the key is not found, return the default if given; otherwise,\n",
            " |      raise a KeyError.\n",
            " |  \n",
            " |  popitem(self, /)\n",
            " |      Remove and return a (key, value) pair as a 2-tuple.\n",
            " |      \n",
            " |      Pairs are returned in LIFO (last-in, first-out) order.\n",
            " |      Raises KeyError if the dict is empty.\n",
            " |  \n",
            " |  setdefault(self, key, default=None, /)\n",
            " |      Insert key with a value of default if key is not in the dictionary.\n",
            " |      \n",
            " |      Return the value for key if key is in the dictionary, else default.\n",
            " |  \n",
            " |  update(...)\n",
            " |      D.update([E, ]**F) -> None.  Update D from dict/iterable E and F.\n",
            " |      If E is present and has a .keys() method, then does:  for k in E: D[k] = E[k]\n",
            " |      If E is present and lacks a .keys() method, then does:  for k, v in E: D[k] = v\n",
            " |      In either case, this is followed by: for k in F:  D[k] = F[k]\n",
            " |  \n",
            " |  values(...)\n",
            " |      D.values() -> an object providing a view on D's values\n",
            " |  \n",
            " |  ----------------------------------------------------------------------\n",
            " |  Class methods defined here:\n",
            " |  \n",
            " |  __class_getitem__(...)\n",
            " |      See PEP 585\n",
            " |  \n",
            " |  fromkeys(iterable, value=None, /)\n",
            " |      Create a new dictionary with keys from iterable and values set to value.\n",
            " |  \n",
            " |  ----------------------------------------------------------------------\n",
            " |  Static methods defined here:\n",
            " |  \n",
            " |  __new__(*args, **kwargs)\n",
            " |      Create and return a new object.  See help(type) for accurate signature.\n",
            " |  \n",
            " |  ----------------------------------------------------------------------\n",
            " |  Data and other attributes defined here:\n",
            " |  \n",
            " |  __hash__ = None\n",
            "\n"
          ]
        }
      ]
    },
    {
      "cell_type": "markdown",
      "metadata": {
        "id": "NHXakrBp2HXD"
      },
      "source": [
        "## <font color='blue'>**Estructuras anidadas dentro de los diccionarios**</font>\n",
        "\n",
        "Los diccionarios son muy flexibles en los tipos de datos que pueden contener. Ellos pueden contener números, strings, listas e, incluso, diccionarios."
      ]
    },
    {
      "cell_type": "code",
      "metadata": {
        "id": "nyiVZKUz2HXD"
      },
      "source": [
        "d = {'k1': 10, 'k2': 'string', 'k3': [1, 2, 3], 'k4': {'inside_key': 100}}"
      ],
      "execution_count": 180,
      "outputs": []
    },
    {
      "cell_type": "code",
      "metadata": {
        "id": "99pnfGDA2HXD",
        "colab": {
          "base_uri": "https://localhost:8080/"
        },
        "outputId": "78e62897-82ef-46db-ec80-2bd1369f04bd"
      },
      "source": [
        "d"
      ],
      "execution_count": 181,
      "outputs": [
        {
          "output_type": "execute_result",
          "data": {
            "text/plain": [
              "{'k1': 10, 'k2': 'string', 'k3': [1, 2, 3], 'k4': {'inside_key': 100}}"
            ]
          },
          "metadata": {},
          "execution_count": 181
        }
      ]
    },
    {
      "cell_type": "code",
      "metadata": {
        "id": "6gboe00J2HXD",
        "colab": {
          "base_uri": "https://localhost:8080/"
        },
        "outputId": "55562611-0cca-4ac7-a57a-b94b6e244b91"
      },
      "source": [
        "d['k1']"
      ],
      "execution_count": 182,
      "outputs": [
        {
          "output_type": "execute_result",
          "data": {
            "text/plain": [
              "10"
            ]
          },
          "metadata": {},
          "execution_count": 182
        }
      ]
    },
    {
      "cell_type": "code",
      "metadata": {
        "id": "sSOj0g7T2HXD",
        "colab": {
          "base_uri": "https://localhost:8080/",
          "height": 35
        },
        "outputId": "b9eafff4-d487-49ed-d63c-d983bedcd40c"
      },
      "source": [
        "d['k2']"
      ],
      "execution_count": 183,
      "outputs": [
        {
          "output_type": "execute_result",
          "data": {
            "text/plain": [
              "'string'"
            ],
            "application/vnd.google.colaboratory.intrinsic+json": {
              "type": "string"
            }
          },
          "metadata": {},
          "execution_count": 183
        }
      ]
    },
    {
      "cell_type": "code",
      "metadata": {
        "id": "3Yb8BaMP2HXE",
        "colab": {
          "base_uri": "https://localhost:8080/"
        },
        "outputId": "f3f93d17-08ca-45c1-d44a-e78d98ad281f"
      },
      "source": [
        "d['k3']"
      ],
      "execution_count": 184,
      "outputs": [
        {
          "output_type": "execute_result",
          "data": {
            "text/plain": [
              "[1, 2, 3]"
            ]
          },
          "metadata": {},
          "execution_count": 184
        }
      ]
    },
    {
      "cell_type": "code",
      "metadata": {
        "id": "BJBuDKwt2HXE",
        "colab": {
          "base_uri": "https://localhost:8080/"
        },
        "outputId": "b1eb914d-326f-4787-c72b-9d206fd50d64"
      },
      "source": [
        "d['k3'][0]"
      ],
      "execution_count": 185,
      "outputs": [
        {
          "output_type": "execute_result",
          "data": {
            "text/plain": [
              "1"
            ]
          },
          "metadata": {},
          "execution_count": 185
        }
      ]
    },
    {
      "cell_type": "code",
      "metadata": {
        "id": "Vg9E8V-y2HXE",
        "colab": {
          "base_uri": "https://localhost:8080/"
        },
        "outputId": "f9d54550-bb05-43fb-e032-37e6242996e2"
      },
      "source": [
        "d['k4']"
      ],
      "execution_count": 186,
      "outputs": [
        {
          "output_type": "execute_result",
          "data": {
            "text/plain": [
              "{'inside_key': 100}"
            ]
          },
          "metadata": {},
          "execution_count": 186
        }
      ]
    },
    {
      "cell_type": "code",
      "metadata": {
        "id": "h9loaccc2HXE",
        "colab": {
          "base_uri": "https://localhost:8080/"
        },
        "outputId": "e30b22e8-3d14-47e4-b783-9805beb7f659"
      },
      "source": [
        "# Fíjate cómo obtenemos el valor de la llave del último elemento del diccionario d\n",
        "\n",
        "d['k4']['inside_key']"
      ],
      "execution_count": 187,
      "outputs": [
        {
          "output_type": "execute_result",
          "data": {
            "text/plain": [
              "100"
            ]
          },
          "metadata": {},
          "execution_count": 187
        }
      ]
    },
    {
      "cell_type": "markdown",
      "metadata": {
        "id": "IRMjmc8s2HXF"
      },
      "source": [
        "Si buscas una llave inexistente, te dará un error\n",
        "\n"
      ]
    },
    {
      "cell_type": "code",
      "metadata": {
        "id": "OqHrazbU2HXF",
        "colab": {
          "base_uri": "https://localhost:8080/",
          "height": 159
        },
        "outputId": "13dc2859-66da-4f99-8119-ce185c37655c"
      },
      "source": [
        "# Esta celda arrojará un error\n",
        "d['oops']"
      ],
      "execution_count": 188,
      "outputs": [
        {
          "output_type": "error",
          "ename": "KeyError",
          "evalue": "'oops'",
          "traceback": [
            "\u001b[0;31m---------------------------------------------------------------------------\u001b[0m",
            "\u001b[0;31mKeyError\u001b[0m                                  Traceback (most recent call last)",
            "\u001b[0;32m<ipython-input-188-538537724>\u001b[0m in \u001b[0;36m<cell line: 0>\u001b[0;34m()\u001b[0m\n\u001b[1;32m      1\u001b[0m \u001b[0;31m# Esta celda arrojará un error\u001b[0m\u001b[0;34m\u001b[0m\u001b[0;34m\u001b[0m\u001b[0m\n\u001b[0;32m----> 2\u001b[0;31m \u001b[0md\u001b[0m\u001b[0;34m[\u001b[0m\u001b[0;34m'oops'\u001b[0m\u001b[0;34m]\u001b[0m\u001b[0;34m\u001b[0m\u001b[0;34m\u001b[0m\u001b[0m\n\u001b[0m",
            "\u001b[0;31mKeyError\u001b[0m: 'oops'"
          ]
        }
      ]
    },
    {
      "cell_type": "code",
      "source": [
        "display(d)"
      ],
      "metadata": {
        "id": "MNIDknZmQh1t",
        "outputId": "40d35c0a-9b9e-46b6-f490-435743e21266",
        "colab": {
          "base_uri": "https://localhost:8080/",
          "height": 34
        }
      },
      "execution_count": 197,
      "outputs": [
        {
          "output_type": "display_data",
          "data": {
            "text/plain": [
              "{'k1': 10, 'k2': 'string', 'k3': [1, 2, 3], 'k4': {'inside_key': 100}}"
            ]
          },
          "metadata": {}
        }
      ]
    },
    {
      "cell_type": "markdown",
      "metadata": {
        "id": "E6Ab4kcP2HXH"
      },
      "source": [
        "## <font color='blue'>**Métodos de diccionarios**</font>"
      ]
    },
    {
      "cell_type": "markdown",
      "metadata": {
        "id": "dH5iyxSN2HXG"
      },
      "source": [
        "Utiliza los diccionarios para cuando necesites estructuras veloces pero no necesariamente ordenadas.\n",
        "\n",
        "Por ejemplo, la siguiente información es perfecta para almacenarla en un diccionario:\n",
        "\n",
        "[Nombres claves de familiares de presidentes](https://en.wikipedia.org/wiki/Secret_Service_code_name)"
      ]
    },
    {
      "cell_type": "code",
      "metadata": {
        "id": "uLPeAEru2HXG"
      },
      "source": [
        "code_names = {\"Trump\":'Mogul',\n",
        "              \"Obama\":'Renegade',\n",
        "              \"Bush\":'Trailblazer',\n",
        "              \"Reagan\":\"Rawhide\",\n",
        "              \"Ford\":\"Passkey\"\n",
        "             }"
      ],
      "execution_count": 189,
      "outputs": []
    },
    {
      "cell_type": "code",
      "metadata": {
        "id": "KDY8GFBk2HXG",
        "outputId": "fd65aab6-e3bc-4957-f1e4-3ae6f243d683",
        "colab": {
          "base_uri": "https://localhost:8080/",
          "height": 35
        }
      },
      "source": [
        "code_names[\"Ford\"]"
      ],
      "execution_count": 190,
      "outputs": [
        {
          "output_type": "execute_result",
          "data": {
            "text/plain": [
              "'Passkey'"
            ],
            "application/vnd.google.colaboratory.intrinsic+json": {
              "type": "string"
            }
          },
          "metadata": {},
          "execution_count": 190
        }
      ]
    },
    {
      "cell_type": "markdown",
      "metadata": {
        "id": "FAHj6Ky32HXH"
      },
      "source": [
        "Otro ejemplo:\n",
        "\n",
        "[Lista de países y su población](https://en.wikipedia.org/wiki/List_of_countries_by_population_(United_Nations)"
      ]
    },
    {
      "cell_type": "code",
      "metadata": {
        "id": "hrE7PIZG2HXH"
      },
      "source": [
        "pop_in_mil = {\"Chile\":18,\n",
        "              \"USA\":323,\n",
        "              \"Germany\": 83,\n",
        "              \"India\": 1324\n",
        "             }"
      ],
      "execution_count": 191,
      "outputs": []
    },
    {
      "cell_type": "code",
      "metadata": {
        "id": "ijvduQbb2HXH",
        "outputId": "9d19852c-11d3-4812-a3cb-f2f64f9016ad",
        "colab": {
          "base_uri": "https://localhost:8080/"
        }
      },
      "source": [
        "pop_in_mil[\"Chile\"]"
      ],
      "execution_count": 192,
      "outputs": [
        {
          "output_type": "execute_result",
          "data": {
            "text/plain": [
              "18"
            ]
          },
          "metadata": {},
          "execution_count": 192
        }
      ]
    },
    {
      "cell_type": "code",
      "metadata": {
        "id": "8Nb8I6zv2HXI",
        "outputId": "fb06655e-1a7f-4f64-c4b5-38d55693d9ca",
        "colab": {
          "base_uri": "https://localhost:8080/"
        }
      },
      "source": [
        "# Llaves\n",
        "code_names.keys()"
      ],
      "execution_count": 193,
      "outputs": [
        {
          "output_type": "execute_result",
          "data": {
            "text/plain": [
              "dict_keys(['Trump', 'Obama', 'Bush', 'Reagan', 'Ford'])"
            ]
          },
          "metadata": {},
          "execution_count": 193
        }
      ]
    },
    {
      "cell_type": "code",
      "metadata": {
        "id": "LaWmQCFW2HXI",
        "outputId": "a0f203e4-327e-40f5-fdac-50e98acc876c",
        "colab": {
          "base_uri": "https://localhost:8080/"
        }
      },
      "source": [
        "# Valores\n",
        "code_names.values()"
      ],
      "execution_count": 194,
      "outputs": [
        {
          "output_type": "execute_result",
          "data": {
            "text/plain": [
              "dict_values(['Mogul', 'Renegade', 'Trailblazer', 'Rawhide', 'Passkey'])"
            ]
          },
          "metadata": {},
          "execution_count": 194
        }
      ]
    },
    {
      "cell_type": "code",
      "metadata": {
        "id": "F3ZaBv4H2HXI",
        "outputId": "d5b2712c-4c70-4314-eaff-bc8611f491cd",
        "colab": {
          "base_uri": "https://localhost:8080/"
        }
      },
      "source": [
        "# Pares de llaves y valores\n",
        "code_names.items()"
      ],
      "execution_count": 195,
      "outputs": [
        {
          "output_type": "execute_result",
          "data": {
            "text/plain": [
              "dict_items([('Trump', 'Mogul'), ('Obama', 'Renegade'), ('Bush', 'Trailblazer'), ('Reagan', 'Rawhide'), ('Ford', 'Passkey')])"
            ]
          },
          "metadata": {},
          "execution_count": 195
        }
      ]
    },
    {
      "cell_type": "markdown",
      "metadata": {
        "id": "1qDbzzYk2HXJ"
      },
      "source": [
        "Gran trabajo Hackers, recuerden que los diccionarios (y las listas) son una de las estructuras de datos más útiles en cualquier lenguaje de programación y también en Python."
      ]
    },
    {
      "cell_type": "code",
      "source": [],
      "metadata": {
        "id": "FKZwMUrygVfV"
      },
      "execution_count": 195,
      "outputs": []
    },
    {
      "cell_type": "markdown",
      "metadata": {
        "id": "wokqh2w_dTI5"
      },
      "source": [
        "# **Introducción a Python**\n",
        "# FP12. Control de flujo (Contro Flow)\n",
        "## if , elif , y else statements"
      ]
    },
    {
      "cell_type": "markdown",
      "metadata": {
        "id": "QkGx3Xx_dTI9"
      },
      "source": [
        "¡Hola, Hackers!\n",
        "\n",
        "A veces necesitamos tomar decisiones en nuestro código. Necesitamos realizar algunas acciones u otras distintas dependiendo de si se cumplen o no ciertas condiciones. Para ello usamos las declaraciones `if`, `elif` y `else` para controlar estos casos. Veamos cómo funcionan !!!"
      ]
    },
    {
      "cell_type": "markdown",
      "metadata": {
        "id": "Mo4CpFr5dTI9"
      },
      "source": [
        "## <font color='blue'>**La instrucción `if`**</font>\n",
        "La forma más simple de la sentencia `if` es la siguiente:\n",
        "```Python\n",
        "    if some_condition:\n",
        "        # Do Something\n",
        "```"
      ]
    },
    {
      "cell_type": "code",
      "execution_count": 198,
      "metadata": {
        "id": "WKPaJ8KodTI-",
        "outputId": "9ac16368-dc68-46a6-a19e-09c1a13db9a9",
        "colab": {
          "base_uri": "https://localhost:8080/"
        }
      },
      "outputs": [
        {
          "output_type": "stream",
          "name": "stdout",
          "text": [
            "Uno es menor que dos\n"
          ]
        }
      ],
      "source": [
        "if 1 < 2:\n",
        "    print('Uno es menor que dos')"
      ]
    },
    {
      "cell_type": "markdown",
      "metadata": {
        "id": "wQrmemVrdTI_"
      },
      "source": [
        "**Pyhtonista:** El operador lógico siempre lleva un espacio antes y después."
      ]
    },
    {
      "cell_type": "code",
      "execution_count": 199,
      "metadata": {
        "id": "YUlpiXzqdTI_"
      },
      "outputs": [],
      "source": [
        "if 1 > 2:\n",
        "    print(\"Uno es más grande que dos?\")"
      ]
    },
    {
      "cell_type": "markdown",
      "metadata": {
        "id": "xkT_LshWdTJA"
      },
      "source": [
        "Observa lo que sucede, el bloque de código sangrado solo se ejecuta cuando la condición `if` es verdadera (`True`)."
      ]
    },
    {
      "cell_type": "code",
      "execution_count": 200,
      "metadata": {
        "id": "iS3XZnoVdTJA",
        "outputId": "195ace90-2345-421d-9980-9aaf4659bd9d",
        "colab": {
          "base_uri": "https://localhost:8080/"
        }
      },
      "outputs": [
        {
          "output_type": "stream",
          "name": "stdout",
          "text": [
            "La sentencia 'if' se evaluó afirmativamente\n"
          ]
        }
      ],
      "source": [
        "# Podemos usar una variable booleana\n",
        "\n",
        "if True:\n",
        "    print(\"La sentencia 'if' se evaluó afirmativamente\")"
      ]
    },
    {
      "cell_type": "markdown",
      "metadata": {
        "id": "yNDVTw-QdTJB"
      },
      "source": [
        "**ATENCION con la indentación**.\n",
        "\n",
        "\n",
        "La **indentación** (sangría del código) le permite a Python saber cuáles líneas de código pertenecen a un mismo bloque. Unas celdas más abajo veremos reglas detalladas de cómo hacerlo."
      ]
    },
    {
      "cell_type": "markdown",
      "metadata": {
        "id": "08frzTUvdTJB"
      },
      "source": [
        "## <font color='blue'>**La instrucción `if` `else`**</font>\n",
        "Ahora agreguemos una acción alternativa en caso de que `if` no sea `True` usando la instrucción `else`.\n",
        "\n",
        "Observa el formato y cómo se alinean los bloques de código con **indentación**, ¡esto es crucial en Python!"
      ]
    },
    {
      "cell_type": "code",
      "execution_count": 201,
      "metadata": {
        "id": "xiHdmOsRdTJC",
        "outputId": "1df89c88-1abe-4ce6-9536-1a33faa4897e",
        "colab": {
          "base_uri": "https://localhost:8080/"
        }
      },
      "outputs": [
        {
          "output_type": "stream",
          "name": "stdout",
          "text": [
            "Uno es igual a uno, obvio !!\n"
          ]
        }
      ],
      "source": [
        "if 1 == 1:\n",
        "    print(\"Uno es igual a uno, obvio !!\")\n",
        "else:\n",
        "    print(\"La comparación no es correcta\")"
      ]
    },
    {
      "cell_type": "code",
      "execution_count": 202,
      "metadata": {
        "id": "gmUQOlgUdTJC",
        "outputId": "60857f83-0e1f-4917-f0ab-c01fd09b7729",
        "colab": {
          "base_uri": "https://localhost:8080/"
        }
      },
      "outputs": [
        {
          "output_type": "stream",
          "name": "stdout",
          "text": [
            "La comparación no es Verdadera (True)\n"
          ]
        }
      ],
      "source": [
        "if 1 == 2:\n",
        "    print(\"Uno es igual a uno, obvio !!\")\n",
        "else:\n",
        "    print(\"La comparación no es Verdadera (True)\")"
      ]
    },
    {
      "cell_type": "markdown",
      "metadata": {
        "id": "2AdoSuqudTJC"
      },
      "source": [
        "## <font color='blue'>**La instrucción `if`, `elif`, `else`**</font>\n",
        "\n",
        "Ahora imaginemos que tenemos varias condiciones para verificar antes de la declaración `else` final, aquí es donde podemos usar la palabra clave `elif` para verificar tantas condiciones individuales como sea necesario:"
      ]
    },
    {
      "cell_type": "code",
      "execution_count": 203,
      "metadata": {
        "id": "mPnGX3cCdTJD",
        "outputId": "72119469-6d5d-4481-c302-b0ba14b75c96",
        "colab": {
          "base_uri": "https://localhost:8080/"
        }
      },
      "outputs": [
        {
          "output_type": "stream",
          "name": "stdout",
          "text": [
            "La tercera comparación es Verdadera (True)\n"
          ]
        }
      ],
      "source": [
        "if 2 == 0:\n",
        "    print('La primera comparación es Verdadera (True)')\n",
        "elif 2 == 1:\n",
        "    print(\"La segunda comparación es Verdadera (True)\")\n",
        "elif 2 == 2:\n",
        "    print(\"La tercera comparación es Verdadera (True)\")\n",
        "else:\n",
        "    print(\"Ninguna de las comparaciones anteriores es Verdadera (True)\")"
      ]
    },
    {
      "cell_type": "code",
      "execution_count": 204,
      "metadata": {
        "id": "slzUF9e9dTJD",
        "outputId": "bb1dc79c-5f5e-4b20-d14d-150f4b6ef670",
        "colab": {
          "base_uri": "https://localhost:8080/"
        }
      },
      "outputs": [
        {
          "output_type": "stream",
          "name": "stdout",
          "text": [
            "Ninguna de las comparaciones anteriores es Verdadera (True)\n"
          ]
        }
      ],
      "source": [
        "if 2 == 0:\n",
        "    print('La primera comparación es Verdadera (True)')\n",
        "elif 2 == 1:\n",
        "    print(\"La segunda comparación es Verdadera (True)\")\n",
        "elif 2 == 100:\n",
        "    print(\"La tercera comparación es Verdadera (True)\")\n",
        "else:\n",
        "    print(\"Ninguna de las comparaciones anteriores es Verdadera (True)\")"
      ]
    },
    {
      "cell_type": "markdown",
      "metadata": {
        "id": "UgS3N9WsdTJD"
      },
      "source": [
        "Veamos qué sucede si tuviéramos múltiples condiciones `True`:"
      ]
    },
    {
      "cell_type": "code",
      "execution_count": 205,
      "metadata": {
        "id": "goEE74kmdTJE",
        "outputId": "6730eb39-95f0-465a-c28e-971c98bddfba",
        "colab": {
          "base_uri": "https://localhost:8080/"
        }
      },
      "outputs": [
        {
          "output_type": "stream",
          "name": "stdout",
          "text": [
            "La primera comparación es Verdadera (True)\n"
          ]
        }
      ],
      "source": [
        "if 2 == 2:\n",
        "    print('La primera comparación es Verdadera (True)')\n",
        "elif 2 == 2:\n",
        "    print(\"La segunda comparación es Verdadera (True)\")\n",
        "elif 2 == 2:\n",
        "    print(\"La tercera comparación es Verdadera (True)\")\n",
        "else:\n",
        "    print(\"Ninguna de las comparaciones anteriores es Verdadera (True)\")"
      ]
    },
    {
      "cell_type": "markdown",
      "metadata": {
        "id": "rRsQb16udTJE"
      },
      "source": [
        "Observa cómo solo se ejecutará el bloque de código de la primera condición verdadera, ¡ten esto en cuenta al escribir sus scripts!"
      ]
    },
    {
      "cell_type": "markdown",
      "metadata": {
        "id": "PfGLXFyHdTJE"
      },
      "source": [
        "Es importante tener una buena comprensión de cómo funciona la **indentación** en Python para mantener la estructura y el orden de su código. ¡Tocaremos este tema nuevamente cuando comencemos a construir funciones!"
      ]
    },
    {
      "cell_type": "markdown",
      "metadata": {
        "id": "CaeVnu5mdTJE"
      },
      "source": [
        "## <font color='blue'>**Veamos un poco más acerca de la indentación**</font>\n",
        "### Reglas\n",
        "1. Cada nivel de indentación utiliza 4 espacios\n",
        "2. Aún cuando funcionan, se recomienda NO usar tabs para las indentaciones\n",
        "3. NUNCA combines tabs y espacios para indentar código"
      ]
    },
    {
      "cell_type": "code",
      "execution_count": 206,
      "metadata": {
        "id": "KtmNheOodTJF",
        "outputId": "14c13647-a3dd-4a08-a1a0-8971bc3373f5",
        "colab": {
          "base_uri": "https://localhost:8080/"
        }
      },
      "outputs": [
        {
          "output_type": "stream",
          "name": "stdout",
          "text": [
            "Esta impresión está dentro del bloque 'if'\n",
            "Esta impresión está dentro del bloque 'if'\n",
            "Esta impresión está dentro del bloque 'if'\n",
            "Esta impresión está fuera del bloque 'if'\n"
          ]
        }
      ],
      "source": [
        "if True:\n",
        "    print(\"Esta impresión está dentro del bloque 'if'\")\n",
        "    print(\"Esta impresión está dentro del bloque 'if'\")\n",
        "    print(\"Esta impresión está dentro del bloque 'if'\")\n",
        "print(\"Esta impresión está fuera del bloque 'if'\")"
      ]
    },
    {
      "cell_type": "code",
      "execution_count": 207,
      "metadata": {
        "id": "-68bbq7WdTJF",
        "outputId": "daf2a703-37fd-435b-e1f2-1f1c380e8a2b",
        "colab": {
          "base_uri": "https://localhost:8080/"
        }
      },
      "outputs": [
        {
          "output_type": "stream",
          "name": "stdout",
          "text": [
            "Esta impresión está fuera del bloque 'if'\n"
          ]
        }
      ],
      "source": [
        "# Veamos que ocurre cuando cambiamos la condición a False\n",
        "\n",
        "if False:\n",
        "    print(\"Esta impresión está dentro del bloque 'if'\")\n",
        "    print(\"Esta impresión está dentro del bloque 'if'\")\n",
        "    print(\"Esta impresión está dentro del bloque 'if'\")\n",
        "print(\"Esta impresión está fuera del bloque 'if'\")"
      ]
    },
    {
      "cell_type": "code",
      "execution_count": 208,
      "metadata": {
        "id": "vhQfWr0IdTJF",
        "outputId": "bc9a1902-7e9b-48e4-8549-d2300c4c4190",
        "colab": {
          "base_uri": "https://localhost:8080/",
          "height": 106
        }
      },
      "outputs": [
        {
          "output_type": "error",
          "ename": "IndentationError",
          "evalue": "unexpected indent (<ipython-input-208-576728201>, line 6)",
          "traceback": [
            "\u001b[0;36m  File \u001b[0;32m\"<ipython-input-208-576728201>\"\u001b[0;36m, line \u001b[0;32m6\u001b[0m\n\u001b[0;31m    print(\"Esta impresión está dentro del bloque 'if'\")\u001b[0m\n\u001b[0m    ^\u001b[0m\n\u001b[0;31mIndentationError\u001b[0m\u001b[0;31m:\u001b[0m unexpected indent\n"
          ]
        }
      ],
      "source": [
        "# En este caso hemos introducido una indentación de tres espacios.\n",
        "# Esto genererá un error del tipo *IndentationEror*\n",
        "\n",
        "if False:\n",
        "   print(\"Esta impresión está dentro del bloque 'if'\")\n",
        "    print(\"Esta impresión está dentro del bloque 'if'\")\n",
        "    print(\"Esta impresión está dentro del bloque 'if'\")\n",
        "print(\"Esta impresión está fuera del bloque 'if'\")"
      ]
    },
    {
      "cell_type": "markdown",
      "metadata": {
        "id": "f55-b8I7dTJG"
      },
      "source": [
        "### Agreguemos todo en un ejemplo final"
      ]
    },
    {
      "cell_type": "code",
      "execution_count": 209,
      "metadata": {
        "id": "upDamKFhdTJG"
      },
      "outputs": [],
      "source": [
        "agent_code = 231912\n",
        "access = False"
      ]
    },
    {
      "cell_type": "code",
      "execution_count": 210,
      "metadata": {
        "id": "yZCMKijVdTJG",
        "outputId": "3ec6147d-3730-4478-b3f1-f0f167e64e21",
        "colab": {
          "base_uri": "https://localhost:8080/"
        }
      },
      "outputs": [
        {
          "output_type": "stream",
          "name": "stdout",
          "text": [
            "Bienvenido agente\n",
            "Inicializando su aceso a condición: Verdadera\n"
          ]
        }
      ],
      "source": [
        "if agent_code == 12345:\n",
        "    print('Código reinicializado')\n",
        "    print(\"Comuníquese con el supervisor\")\n",
        "elif agent_code == 231912:\n",
        "    print('Bienvenido agente')\n",
        "    print('Inicializando su aceso a condición: Verdadera')\n",
        "    access = True\n",
        "else:\n",
        "    print(\"Código erréneo\")"
      ]
    },
    {
      "cell_type": "code",
      "execution_count": 211,
      "metadata": {
        "id": "ME9i8WCydTJG",
        "outputId": "67743899-6919-4e16-e025-5087eb1cafd1",
        "colab": {
          "base_uri": "https://localhost:8080/"
        }
      },
      "outputs": [
        {
          "output_type": "stream",
          "name": "stdout",
          "text": [
            "Acceso concedido\n"
          ]
        }
      ],
      "source": [
        "# Ahora podemos iniciar otro conjunto de lógica de flujo de control aquí.\n",
        "\n",
        "if access == True:\n",
        "    print('Acceso concedido')\n",
        "else:\n",
        "    print('Access denegado')"
      ]
    },
    {
      "cell_type": "markdown",
      "metadata": {
        "id": "Jh4pBHmsdTJG"
      },
      "source": [
        "Echa un vistazo al último conjunto del bloque `if` ...  `else`, dado que la variable **access** en sí es un booleano, también podríamos haberlo escrito así:"
      ]
    },
    {
      "cell_type": "code",
      "execution_count": 212,
      "metadata": {
        "id": "D0BxQJLrdTJG",
        "outputId": "fa20e4b8-19e2-4e51-c952-dfa95cee943c",
        "colab": {
          "base_uri": "https://localhost:8080/"
        }
      },
      "outputs": [
        {
          "output_type": "stream",
          "name": "stdout",
          "text": [
            "Acceso concedido\n"
          ]
        }
      ],
      "source": [
        "if access:\n",
        "    print('Acceso concedido')\n",
        "else:\n",
        "    print('Access denegado')"
      ]
    },
    {
      "cell_type": "markdown",
      "metadata": {
        "id": "3KbmAL8VdTJG"
      },
      "source": [
        "Escribir código como acabamos de hacer en la celda anterior es más limpio. Puedes nombrar tus variables de manera diferente para que también sea aún más legible tu código; por ejemplo, cambia el nombre de **access** a __access_request__ (solicitud_acceso) de forma que el código quede como sigue:\n",
        "\n",
        "```python\n",
        "if access_request:\n",
        "```"
      ]
    },
    {
      "cell_type": "markdown",
      "metadata": {
        "id": "yTojLC0bdTJH"
      },
      "source": [
        "<font color='green'>Fin actividad 1</font>"
      ]
    },
    {
      "cell_type": "markdown",
      "metadata": {
        "id": "BINiVO9Cfckt"
      },
      "source": [
        "# **Introducción a Python**\n",
        "#  Ciclos while (while loop)"
      ]
    },
    {
      "cell_type": "markdown",
      "metadata": {
        "id": "D9Cq-RUIfckx"
      },
      "source": [
        "Ahora que entendemos el flujo de control con las declaraciones `if`, `elif` y `else`, aprendamos sobre los bucles. El primer ciclo que aprenderemos es el `while`.\n",
        "\n",
        "## <font color='blue'>**Ciclo `while`**</font>\n",
        "\n",
        "Un ciclo `while` ejecutará repetidamente una sola declaración o grupo de declaraciones siempre que la condición que se comprueba sea verdadera. La razón por la que se llama un 'bucle' es porque las declaraciones de código se repiten una y otra vez hasta que la condición ya no se cumple.\n",
        "\n",
        "La **indentación** del código se vuelve muy importante a medida que comenzamos a trabajar con bucles y control de flujo. Veamos algunos ejemplos."
      ]
    },
    {
      "cell_type": "code",
      "execution_count": 213,
      "metadata": {
        "id": "ExN8guvVfckx",
        "outputId": "e8121215-416d-43eb-ab47-fc7dbbf37c53",
        "colab": {
          "base_uri": "https://localhost:8080/"
        }
      },
      "outputs": [
        {
          "output_type": "stream",
          "name": "stdout",
          "text": [
            "x actualmente es = 0\n",
            "\n",
            "Añadimos 1 a x\n",
            "x actualmente es = 1\n",
            "\n",
            "Añadimos 1 a x\n",
            "x actualmente es = 2\n",
            "\n",
            "Añadimos 1 a x\n"
          ]
        }
      ],
      "source": [
        "# Inicialicemos la variable x en 0\n",
        "\n",
        "x = 0\n",
        "\n",
        "while x < 3:\n",
        "    print(f'x actualmente es = {x}\\n')\n",
        "    print(f\"Añadimos 1 a x\")\n",
        "    x = x + 1 # otra forma de escribir esta sentencia sería  x += 1"
      ]
    },
    {
      "cell_type": "markdown",
      "metadata": {
        "id": "LbgIdoMJfckz"
      },
      "source": [
        "### Nota:\n",
        "\n",
        "```Python\n",
        "    x = x + 1\n",
        "```\n",
        "Puede se escrito como ...\n",
        "```Python\n",
        "    x += 1\n",
        "```\n",
        "Esta forma es más pythonista !!!"
      ]
    },
    {
      "cell_type": "markdown",
      "metadata": {
        "id": "5d3tAmRefckz"
      },
      "source": [
        "____\n",
        "### <font color='red'>Atención!!</font>\n",
        "¡Ten cuidado con los bucles `*while`! Existe la posibilidad de escribir una condición que siempre permanece Verdadera, lo que significa que tendrás un ciclo `while` infinito en ejecución.\n",
        "\n",
        "Si esto te sucede, deberás interrumpir la ejecución del kernel de Python que estas usando. Para ello presiona haz lo siguiente:\n",
        "\n",
        "Si estás en Google Colab, haz click en el ícono que está en la esquina izquierda superior de tu celda (un pequeño cuadrado dentro de un circulo).\n",
        "\n",
        "Si estás trabajando en Jupyter o JupyterLab (en modo local) presiona el ícono de interrupción del kernel (cuadrado pequeño) en la barra superior.\n",
        "____\n",
        "\n",
        "Sigamos con algunos ejemplos más. Primero, le mostraremos cómo aceptar una entrada de un usuario:"
      ]
    },
    {
      "cell_type": "code",
      "execution_count": 214,
      "metadata": {
        "id": "Q_bGUlW9fck0",
        "outputId": "27068653-7449-4874-9760-0726ab8b19d0",
        "colab": {
          "base_uri": "https://localhost:8080/"
        }
      },
      "outputs": [
        {
          "name": "stdout",
          "output_type": "stream",
          "text": [
            "Ingresa un número: 5\n"
          ]
        }
      ],
      "source": [
        "# Ejecuta esta celda solo una vez\n",
        "# Si lo vuelves a ejecutar sin proporcionar una\n",
        "# entrada, la celda se bloqueará con In [*]\n",
        "# Para solucionar este problema, reinicia el kernel.\n",
        "\n",
        "# Bien, ahora el código\n",
        "\n",
        "saved_input = input(\"Ingresa un número: \")"
      ]
    },
    {
      "cell_type": "code",
      "execution_count": 215,
      "metadata": {
        "id": "h4qhmrZyfck0",
        "outputId": "fd81f658-f875-4203-92de-69d26a2a287d",
        "colab": {
          "base_uri": "https://localhost:8080/",
          "height": 35
        }
      },
      "outputs": [
        {
          "output_type": "execute_result",
          "data": {
            "text/plain": [
              "'5'"
            ],
            "application/vnd.google.colaboratory.intrinsic+json": {
              "type": "string"
            }
          },
          "metadata": {},
          "execution_count": 215
        }
      ],
      "source": [
        "saved_input"
      ]
    },
    {
      "cell_type": "markdown",
      "metadata": {
        "id": "EUOTAuxofck1"
      },
      "source": [
        "### <font color = 'red'>Atención</font>\n",
        "\n",
        "Qué tipo de dato devolvió `input()`?<br>\n",
        "Fíjate, es un string!<br>\n",
        "Siempre que necesites ingresar un valor numérico podrás encapsular la función `input()` con `int()` o `float()`.<br>\n",
        "Considera eso si que siempr deberas validar los datos que se ingresan desde el teclado.\n",
        "\n",
        "Veamos cómo podríamos usar esto:"
      ]
    },
    {
      "cell_type": "code",
      "execution_count": 219,
      "metadata": {
        "id": "yKhpDaZzfck2",
        "outputId": "ce787f7f-9928-405d-ce7a-37bcffb911ed",
        "colab": {
          "base_uri": "https://localhost:8080/"
        }
      },
      "outputs": [
        {
          "output_type": "stream",
          "name": "stdout",
          "text": [
            "Bienvenido hacker\n",
            "Ingresa tu password: 124\n",
            "Ingresa tu password: 123\n",
            "Password correcta!\n"
          ]
        }
      ],
      "source": [
        "print(\"Bienvenido hacker\")\n",
        "\n",
        "# comienza con alguna contraseña predeterminada (debe definirse antes de que comience el ciclo)\n",
        "\n",
        "password = 0\n",
        "\n",
        "while password != 123:\n",
        "    password = int(input(\"Ingresa tu password: \"))\n",
        "\n",
        "# Esto no se ejecutará hasta que el ciclo while sea\n",
        "# hecho debido a la indentación\n",
        "print(\"Password correcta!\")"
      ]
    },
    {
      "cell_type": "code",
      "execution_count": 218,
      "metadata": {
        "id": "BBefA2Dpfck2",
        "outputId": "4186dc46-8d2b-4f73-824d-9c4d6d2d6b19",
        "colab": {
          "base_uri": "https://localhost:8080/"
        }
      },
      "outputs": [
        {
          "output_type": "stream",
          "name": "stdout",
          "text": [
            "Bienvenido hacker\n",
            "Ingresa tu password: 124\n",
            "Password errónea\n",
            "Intenta nuevamente ...\n",
            "\n",
            "Ingresa tu password: 123\n",
            "Password correcta!\n"
          ]
        }
      ],
      "source": [
        "print(\"Bienvenido hacker\")\n",
        "\n",
        "# comienza con alguna contraseña predeterminada (debe definirse antes de que comience el ciclo)\n",
        "\n",
        "password = 0\n",
        "\n",
        "while password != 123:\n",
        "    password = int(input(\"Ingresa tu password: \"))\n",
        "\n",
        "    # Lógica de flujo de control anidado\n",
        "    if password != 123:\n",
        "        print(\"Password errónea\")\n",
        "        print(\"Intenta nuevamente ...\\n\")\n",
        "\n",
        "# Esto no se ejecutará hasta que el ciclo while sea\n",
        "# hecho debido a la indentación\n",
        "print(\"Password correcta!\")"
      ]
    },
    {
      "cell_type": "markdown",
      "metadata": {
        "id": "D7N3dRuPfck3"
      },
      "source": [
        "## <font color='blue'>**Rompiendo el flujo con `break`**</font>"
      ]
    },
    {
      "cell_type": "markdown",
      "metadata": {
        "id": "8qI_Jrw4fck3"
      },
      "source": [
        "La palabra clave `break` le permite \"salir\" del bucle. Por ejemplo:"
      ]
    },
    {
      "cell_type": "code",
      "execution_count": 220,
      "metadata": {
        "id": "0unSsTyDfck3",
        "outputId": "aba31ef8-0496-4414-ff0f-37289fb867f0",
        "colab": {
          "base_uri": "https://localhost:8080/"
        }
      },
      "outputs": [
        {
          "output_type": "stream",
          "name": "stdout",
          "text": [
            "0\n",
            "Suma 1 a x\n",
            "1\n",
            "Suma 1 a x\n",
            "2\n",
            "Suma 1 a x\n"
          ]
        }
      ],
      "source": [
        "x = 0\n",
        "\n",
        "while x < 10:\n",
        "    print(x)\n",
        "    print('Suma 1 a x')\n",
        "    x += 1\n",
        "\n",
        "    if x == 3:   # Si x = 3 (Verdadero), esto causará la salida (break out) del bucle\n",
        "        break"
      ]
    },
    {
      "cell_type": "markdown",
      "metadata": {
        "id": "UaP83pW6fck3"
      },
      "source": [
        "## <font color='green'>Actividad 1:</font>\n",
        "### Contando números\n",
        "\n",
        "Crea un programa que cuente de 1 a 10 utilizando `while`.\n",
        "Imprime cada número en una línea separada.\n",
        "\n",
        "Pasos:\n",
        "1. Crea e inicializa una variable para contar\n",
        "2. Crea el bucle `while`\n",
        "3. Imprime la variable\n",
        "4. Incrementa la variable usando += 1"
      ]
    },
    {
      "cell_type": "code",
      "execution_count": 221,
      "metadata": {
        "id": "n2U39LOMfck4",
        "outputId": "19f77fa8-7666-4c62-f92f-56f1b1386a37",
        "colab": {
          "base_uri": "https://localhost:8080/"
        }
      },
      "outputs": [
        {
          "output_type": "stream",
          "name": "stdout",
          "text": [
            "1\n",
            "2\n",
            "3\n",
            "4\n",
            "5\n",
            "6\n",
            "7\n",
            "8\n",
            "9\n",
            "10\n"
          ]
        }
      ],
      "source": [
        "# Tu código aquí ...\n",
        "\n",
        "# Paso 1: Crear e inicializar la variable\n",
        "contador = 1\n",
        "\n",
        "# Paso 2: Crear el bucle while\n",
        "while contador <= 10:\n",
        "    # Paso 3: Imprimir el número actual\n",
        "    print(contador)\n",
        "\n",
        "    # Paso 4: Incrementar la variable\n",
        "    contador += 1"
      ]
    },
    {
      "cell_type": "markdown",
      "metadata": {
        "id": "RC2HXpVifck4"
      },
      "source": [
        "<font color='green'>Fin actividad 1</font>"
      ]
    },
    {
      "cell_type": "markdown",
      "metadata": {
        "id": "8beD4yINfck4"
      },
      "source": [
        "## <font color='green'>Actividad 2: Challenging</font>\n",
        "### Contar números, pero detenerse cuando la suma de los números contados sea > 50\n",
        "\n",
        "Crea un programa que cuente de 1 a 100 usando bucles `while`. <br>\n",
        "Imprime cada número en una línea separada. <br>\n",
        "Suma el número contado en otra variable y deja de contar cuando la suma sea mayor o igual a 50.\n",
        "    \n",
        "Pseudo código:\n",
        "1. Crea e inicializa una variable para contar\n",
        "2. Cree e inicialice una variable para sumar\n",
        "3. Crea el bucle while\n",
        "4. Imprime la variable de recuento\n",
        "5. Agregua la variable de recuento a la variable de suma\n",
        "6. Compara si la variable suma es mayor o igual a 50. Si es así, imprime la variable suma y rompe el ciclo\n",
        "7. Incrementar la variable usando += 1"
      ]
    },
    {
      "cell_type": "code",
      "execution_count": 222,
      "metadata": {
        "id": "gr5uoqJtfck4",
        "outputId": "5ee92ba6-e6d5-43f8-873d-a6cd9546015d",
        "colab": {
          "base_uri": "https://localhost:8080/"
        }
      },
      "outputs": [
        {
          "output_type": "stream",
          "name": "stdout",
          "text": [
            "1\n",
            "2\n",
            "3\n",
            "4\n",
            "5\n",
            "6\n",
            "7\n",
            "8\n",
            "9\n",
            "10\n",
            "Suma total: 55\n"
          ]
        }
      ],
      "source": [
        "# Tu código aquí ...\n",
        "# Opcion 1\n",
        "\n",
        "contador = 1\n",
        "suma = 0\n",
        "\n",
        "while contador <= 100:\n",
        "    print(contador)\n",
        "    suma += contador\n",
        "    if suma >= 50:\n",
        "        print(\"Suma total:\", suma)\n",
        "        break\n",
        "    contador += 1"
      ]
    },
    {
      "cell_type": "code",
      "execution_count": 223,
      "metadata": {
        "id": "YaJVtsrVfck5",
        "outputId": "81d76d06-770f-4c28-96c1-3a3bd2d1e1fa",
        "colab": {
          "base_uri": "https://localhost:8080/"
        }
      },
      "outputs": [
        {
          "output_type": "stream",
          "name": "stdout",
          "text": [
            "1\n",
            "2\n",
            "3\n",
            "4\n",
            "5\n",
            "6\n",
            "7\n",
            "8\n",
            "9\n",
            "Suma total: 55\n"
          ]
        }
      ],
      "source": [
        "# Opcion 2\n",
        "\n",
        "contador = 1\n",
        "suma = 0\n",
        "\n",
        "while contador <= 100:\n",
        "    if suma + contador >= 50:\n",
        "        suma += contador\n",
        "        print(\"Suma total:\", suma)\n",
        "        break\n",
        "    print(contador)\n",
        "    suma += contador\n",
        "    contador += 1"
      ]
    },
    {
      "cell_type": "code",
      "source": [],
      "metadata": {
        "id": "IuGQzQiriEdA"
      },
      "execution_count": null,
      "outputs": []
    },
    {
      "cell_type": "markdown",
      "metadata": {
        "id": "Ovaf2vWDgk1P"
      },
      "source": [
        "# **Introducción a Python**\n",
        "# FP14. Ciclos for (for loop)"
      ]
    },
    {
      "cell_type": "markdown",
      "metadata": {
        "id": "7Wmh4IoTgk1S"
      },
      "source": [
        "¡Bienvenidos de nuevo Hackers, es hora de aprender un nuevo ciclo!\n",
        "\n",
        "## <font color='blue'>**Ciclo `for`**</font>\n",
        "Un bucle `for` actúa como un iterador en Python, pasa por elementos que están en una secuencia o cualquier otro **objeto iterable**. Los objetos que hemos aprendido, sobre los que podemos iterar incluyen: cadenas o strings, listas, tuplas e incluso iterables incorporados para diccionarios, como las claves o los valores.\n",
        "\n",
        "Aquí está el formato general para un bucle `for` en Python:\n",
        "```python\n",
        "     for item in object:\n",
        "         your code\n",
        "         your code\n",
        "```        \n",
        "El nombre de la variable utilizado para el *item* depende completamente del programador (o sea, tú!!), así que usa tu mejor criterio para elegir un nombre que tenga sentido y que podrás entenderlo cuando vuelvas a revisar tu código. Puedes utiliza esa variable **sólo dentro del bucle**, fuera del mismo no tendrá un valor asignado.\n",
        "\n",
        "Sigamos adelante y trabajemos con varios ejemplos de bucles `for` utilizando una variedad de tipos de objetos de datos."
      ]
    },
    {
      "cell_type": "markdown",
      "metadata": {
        "id": "aRdor3a1gk1S"
      },
      "source": [
        "## <font color='blue'>**`for` con listas**</font>"
      ]
    },
    {
      "cell_type": "code",
      "execution_count": 224,
      "metadata": {
        "id": "1LW0galigk1T",
        "outputId": "77766cd9-0fb9-433b-d59d-d137650799de",
        "colab": {
          "base_uri": "https://localhost:8080/"
        }
      },
      "outputs": [
        {
          "output_type": "stream",
          "name": "stdout",
          "text": [
            "1\n",
            "2\n",
            "3\n",
            "4\n",
            "5\n",
            "6\n",
            "7\n",
            "8\n",
            "9\n",
            "10\n"
          ]
        }
      ],
      "source": [
        "mylist = [1, 2, 3, 4, 5, 6, 7, 8, 9, 10]\n",
        "# La lista es un objeto iterable por esencia\n",
        "# Esto significa que podemos recorrerla\n",
        "\n",
        "for num in mylist:\n",
        "    print(num)"
      ]
    },
    {
      "cell_type": "code",
      "execution_count": 225,
      "metadata": {
        "id": "R-83gTcAgk1U",
        "outputId": "9061a5da-bdb0-4434-aa2a-76cb3297139e",
        "colab": {
          "base_uri": "https://localhost:8080/"
        }
      },
      "outputs": [
        {
          "output_type": "stream",
          "name": "stdout",
          "text": [
            "1\n",
            "2\n",
            "3\n",
            "4\n",
            "5\n",
            "6\n",
            "7\n",
            "8\n",
            "9\n",
            "10\n"
          ]
        }
      ],
      "source": [
        "for la_variable_puede_ser_cualquier_cosa in mylist:\n",
        "    print(la_variable_puede_ser_cualquier_cosa)"
      ]
    },
    {
      "cell_type": "markdown",
      "metadata": {
        "id": "4WH3o1BMgk1V"
      },
      "source": [
        "Pero no creo que te atrevas a usar un nombre variable como este!! O sí?"
      ]
    },
    {
      "cell_type": "code",
      "execution_count": 226,
      "metadata": {
        "id": "iThKtaHbgk1V",
        "outputId": "00a6d499-e8b2-4ee3-8183-6547c43b43b7",
        "colab": {
          "base_uri": "https://localhost:8080/"
        }
      },
      "outputs": [
        {
          "output_type": "stream",
          "name": "stdout",
          "text": [
            "1 2 3 4 5 6 7 8 9 10 "
          ]
        }
      ],
      "source": [
        "for num in mylist:\n",
        "    print(num, end=' ')"
      ]
    },
    {
      "cell_type": "code",
      "execution_count": 227,
      "metadata": {
        "id": "zSqYKEtogk1V",
        "outputId": "3881848a-fc60-46ca-f0c3-0814d0eb2e01",
        "colab": {
          "base_uri": "https://localhost:8080/"
        }
      },
      "outputs": [
        {
          "output_type": "stream",
          "name": "stdout",
          "text": [
            "Este texto se imprimirá tantas veces como elementos haya en la lista\n",
            "Este texto se imprimirá tantas veces como elementos haya en la lista\n",
            "Este texto se imprimirá tantas veces como elementos haya en la lista\n",
            "Este texto se imprimirá tantas veces como elementos haya en la lista\n",
            "Este texto se imprimirá tantas veces como elementos haya en la lista\n",
            "Este texto se imprimirá tantas veces como elementos haya en la lista\n",
            "Este texto se imprimirá tantas veces como elementos haya en la lista\n",
            "Este texto se imprimirá tantas veces como elementos haya en la lista\n",
            "Este texto se imprimirá tantas veces como elementos haya en la lista\n",
            "Este texto se imprimirá tantas veces como elementos haya en la lista\n"
          ]
        }
      ],
      "source": [
        "for num in mylist:\n",
        "    print(\"Este texto se imprimirá tantas veces como elementos haya en la lista\")"
      ]
    },
    {
      "cell_type": "markdown",
      "metadata": {
        "id": "GmAde9pwgk1W"
      },
      "source": [
        "## <font color='blue'>**`for` con strings**</font>"
      ]
    },
    {
      "cell_type": "code",
      "execution_count": 228,
      "metadata": {
        "id": "q1GXtN76gk1X",
        "outputId": "83503433-ada0-45a8-e391-19780381cab5",
        "colab": {
          "base_uri": "https://localhost:8080/"
        }
      },
      "outputs": [
        {
          "output_type": "stream",
          "name": "stdout",
          "text": [
            "E\n",
            "s\n",
            "t\n",
            "o\n",
            " \n",
            "e\n",
            "s\n",
            " \n",
            "u\n",
            "n\n",
            " \n",
            "s\n",
            "t\n",
            "r\n",
            "i\n",
            "n\n",
            "g\n"
          ]
        }
      ],
      "source": [
        "for letter in \"Esto es un string\":\n",
        "    print(letter)"
      ]
    },
    {
      "cell_type": "code",
      "execution_count": 229,
      "metadata": {
        "id": "tz6VQdFxgk1X",
        "outputId": "cd3a1f90-0200-4255-f5b2-5d8c5f5b3851",
        "colab": {
          "base_uri": "https://localhost:8080/"
        }
      },
      "outputs": [
        {
          "output_type": "stream",
          "name": "stdout",
          "text": [
            "This\n",
            "is\n",
            "a\n",
            "string\n",
            "Hackers\n"
          ]
        }
      ],
      "source": [
        "mystring = 'This is a string Hackers'\n",
        "\n",
        "for word in mystring.split():\n",
        "    print(word)"
      ]
    },
    {
      "cell_type": "markdown",
      "metadata": {
        "id": "VGdzluvagk1X"
      },
      "source": [
        "## <font color='blue'>**`for` con tuplas**</font>"
      ]
    },
    {
      "cell_type": "code",
      "execution_count": 230,
      "metadata": {
        "id": "hCitaqh1gk1Y",
        "outputId": "b660c5aa-14f0-403a-c8a5-f2f7fda8ac91",
        "colab": {
          "base_uri": "https://localhost:8080/"
        }
      },
      "outputs": [
        {
          "output_type": "stream",
          "name": "stdout",
          "text": [
            "1\n",
            "2\n",
            "3\n",
            "4\n"
          ]
        }
      ],
      "source": [
        "tup = (1, 2, 3, 4)\n",
        "\n",
        "for num in tup:\n",
        "    print(num)"
      ]
    },
    {
      "cell_type": "markdown",
      "metadata": {
        "id": "qbMF41QPgk1Y"
      },
      "source": [
        "## <font color='blue'>**Desempaquetado de tuplas (_tuple unpacking_)**</font>"
      ]
    },
    {
      "cell_type": "code",
      "execution_count": 231,
      "metadata": {
        "id": "VEjEJAGqgk1Y"
      },
      "outputs": [],
      "source": [
        "list_of_tups = [(1, 2), (3, 4), (5, 6), (7, 8), (9, 10)]"
      ]
    },
    {
      "cell_type": "code",
      "execution_count": 232,
      "metadata": {
        "id": "9Tv1hIwVgk1Y",
        "outputId": "42c1f0c4-765c-4d80-fa16-7e032233a7e4",
        "colab": {
          "base_uri": "https://localhost:8080/"
        }
      },
      "outputs": [
        {
          "output_type": "stream",
          "name": "stdout",
          "text": [
            "(1, 2)\n",
            "(3, 4)\n",
            "(5, 6)\n",
            "(7, 8)\n",
            "(9, 10)\n"
          ]
        }
      ],
      "source": [
        "for x in list_of_tups:\n",
        "    print(x)"
      ]
    },
    {
      "cell_type": "code",
      "execution_count": 233,
      "metadata": {
        "id": "OE5rWnXTgk1Z",
        "outputId": "89dd67a3-9ac3-455a-d0fc-79b8b3adbc6d",
        "colab": {
          "base_uri": "https://localhost:8080/"
        }
      },
      "outputs": [
        {
          "output_type": "stream",
          "name": "stdout",
          "text": [
            "1\n",
            "3\n",
            "5\n",
            "7\n",
            "9\n"
          ]
        }
      ],
      "source": [
        "# Imprimimos el primer elemento de cada tupla\n",
        "for x in list_of_tups:\n",
        "    print(x[0])"
      ]
    },
    {
      "cell_type": "code",
      "execution_count": 234,
      "metadata": {
        "id": "ghpIEFomgk1Z",
        "outputId": "02add82e-83e9-4a77-f1a0-b3fd2f54d79a",
        "colab": {
          "base_uri": "https://localhost:8080/"
        }
      },
      "outputs": [
        {
          "output_type": "stream",
          "name": "stdout",
          "text": [
            "2\n",
            "4\n",
            "6\n",
            "8\n",
            "10\n"
          ]
        }
      ],
      "source": [
        "# Imprimimos el segundo elemento de cada tupla\n",
        "for x in list_of_tups:\n",
        "    print(x[1])"
      ]
    },
    {
      "cell_type": "markdown",
      "metadata": {
        "id": "_DW8-Zx_gk1a"
      },
      "source": [
        "Continuemos"
      ]
    },
    {
      "cell_type": "code",
      "execution_count": 235,
      "metadata": {
        "id": "nAPLSRiGgk1a",
        "outputId": "171a4c98-0a06-443e-fba3-54d9c1dba4df",
        "colab": {
          "base_uri": "https://localhost:8080/"
        }
      },
      "outputs": [
        {
          "output_type": "stream",
          "name": "stdout",
          "text": [
            "1\n",
            "2\n",
            "\n",
            "\n",
            "3\n",
            "4\n",
            "\n",
            "\n",
            "5\n",
            "6\n",
            "\n",
            "\n",
            "7\n",
            "8\n",
            "\n",
            "\n",
            "9\n",
            "10\n",
            "\n",
            "\n"
          ]
        }
      ],
      "source": [
        "for (num1,num2) in list_of_tups:\n",
        "    print(num1)\n",
        "    print(num2)\n",
        "    print('\\n')"
      ]
    },
    {
      "cell_type": "code",
      "execution_count": 236,
      "metadata": {
        "id": "q-b5J3VIgk1a",
        "outputId": "ec749fdc-3ea3-4253-f866-451ae863a80a",
        "colab": {
          "base_uri": "https://localhost:8080/"
        }
      },
      "outputs": [
        {
          "output_type": "stream",
          "name": "stdout",
          "text": [
            "1\n",
            "2\n",
            "\n",
            "\n",
            "3\n",
            "4\n",
            "\n",
            "\n",
            "5\n",
            "6\n",
            "\n",
            "\n",
            "7\n",
            "8\n",
            "\n",
            "\n",
            "9\n",
            "10\n",
            "\n",
            "\n"
          ]
        }
      ],
      "source": [
        "# No necesitamos el paréntesis\n",
        "\n",
        "for num1, num2 in list_of_tups:\n",
        "    print(num1)\n",
        "    print(num2)\n",
        "    print('\\n')"
      ]
    },
    {
      "cell_type": "markdown",
      "metadata": {
        "id": "byfWAhbsgk1a"
      },
      "source": [
        "## <font color='blue'>**`for` con diccionarios**</font>"
      ]
    },
    {
      "cell_type": "code",
      "execution_count": 237,
      "metadata": {
        "id": "98Ws1d4lgk1a"
      },
      "outputs": [],
      "source": [
        "counties_populations = {'Chile':'18', 'USA':'323', 'Germany':'83', 'India':'1324', 'Spain':'45'}"
      ]
    },
    {
      "cell_type": "markdown",
      "metadata": {
        "id": "rxGMOlXxgk1b"
      },
      "source": [
        "¡Recuerda que los diccionarios no mantienen ningún orden! ¡Así que recórrelos con esto en mente!"
      ]
    },
    {
      "cell_type": "code",
      "execution_count": 238,
      "metadata": {
        "id": "f9bdBSJ9gk1b",
        "outputId": "26ebb657-364b-4057-e4f0-e8a35e370207",
        "colab": {
          "base_uri": "https://localhost:8080/"
        }
      },
      "outputs": [
        {
          "output_type": "stream",
          "name": "stdout",
          "text": [
            "Chile\n",
            "USA\n",
            "Germany\n",
            "India\n",
            "Spain\n"
          ]
        }
      ],
      "source": [
        "for item in counties_populations:\n",
        "    print(item)"
      ]
    },
    {
      "cell_type": "code",
      "execution_count": 239,
      "metadata": {
        "id": "oFBGMBMSgk1b",
        "outputId": "0b1776d6-2d58-4ce0-9d58-8a01b9e6581e",
        "colab": {
          "base_uri": "https://localhost:8080/"
        }
      },
      "outputs": [
        {
          "output_type": "stream",
          "name": "stdout",
          "text": [
            "Chile\n",
            "USA\n",
            "Germany\n",
            "India\n",
            "Spain\n"
          ]
        }
      ],
      "source": [
        "for k in counties_populations.keys():\n",
        "    print(k)"
      ]
    },
    {
      "cell_type": "code",
      "execution_count": 240,
      "metadata": {
        "id": "zzTNfw4dgk1b",
        "outputId": "89ce1b39-9110-41f7-8785-3158f6e6752b",
        "colab": {
          "base_uri": "https://localhost:8080/"
        }
      },
      "outputs": [
        {
          "output_type": "stream",
          "name": "stdout",
          "text": [
            "18\n",
            "323\n",
            "83\n",
            "1324\n",
            "45\n"
          ]
        }
      ],
      "source": [
        "for values in counties_populations.values():\n",
        "    print(values)"
      ]
    },
    {
      "cell_type": "markdown",
      "metadata": {
        "id": "7SfHfxydgk1b"
      },
      "source": [
        "## **Más usos de `for`**"
      ]
    },
    {
      "cell_type": "code",
      "execution_count": 241,
      "metadata": {
        "id": "w22KyGS9gk1b",
        "outputId": "b435919a-5133-42d2-bd88-13a6ecafb9f2",
        "colab": {
          "base_uri": "https://localhost:8080/"
        }
      },
      "outputs": [
        {
          "output_type": "stream",
          "name": "stdout",
          "text": [
            "Hello Sebastián\n",
            "Hello Zavi\n",
            "Hello Isidora\n"
          ]
        }
      ],
      "source": [
        "for name in \"Sebastián\", \"Zavi\", \"Isidora\":\n",
        "    print(\"Hello \" + name)"
      ]
    },
    {
      "cell_type": "code",
      "execution_count": 242,
      "metadata": {
        "id": "uxGdUwx4gk1b",
        "outputId": "6d465464-0912-4457-be26-0c4327bd71a3",
        "colab": {
          "base_uri": "https://localhost:8080/"
        }
      },
      "outputs": [
        {
          "output_type": "stream",
          "name": "stdout",
          "text": [
            "0\n",
            "1\n",
            "2\n",
            "3\n",
            "4\n",
            "5\n",
            "6\n",
            "7\n",
            "8\n",
            "9\n"
          ]
        }
      ],
      "source": [
        "for i in range(10):\n",
        "    print(i)"
      ]
    },
    {
      "cell_type": "code",
      "execution_count": 243,
      "metadata": {
        "id": "OJm7C-rZgk1c",
        "outputId": "6d15b33b-898a-4b44-b253-08e720de310d",
        "colab": {
          "base_uri": "https://localhost:8080/"
        }
      },
      "outputs": [
        {
          "output_type": "stream",
          "name": "stdout",
          "text": [
            "5\n",
            "7\n",
            "11\n",
            "13\n",
            "36\n"
          ]
        }
      ],
      "source": [
        "total = 0\n",
        "for i in 5, 7, 11, 13:\n",
        "    print(i)\n",
        "    total = total + i  # total += i\n",
        "\n",
        "print(total)"
      ]
    },
    {
      "cell_type": "markdown",
      "metadata": {
        "id": "cN_EFnvUgk1c"
      },
      "source": [
        "## <font color='blue'>**La sentencia `continue`**</font>\n",
        "\n",
        "La palabra clave `continue`puede ser un poco complicada para ver su utilidad. Te permite continuar con el ciclo de nivel superior, básicamente lo opuesto a break. Pasará tiempo antes de que te des cuenta de una buena situación para usarla, pero aquí hay un ejemplo simple:"
      ]
    },
    {
      "cell_type": "code",
      "execution_count": 244,
      "metadata": {
        "id": "Gqp1IEdEgk1c",
        "outputId": "39984f5f-1114-4422-a50d-6a1cb1180532",
        "colab": {
          "base_uri": "https://localhost:8080/"
        }
      },
      "outputs": [
        {
          "output_type": "stream",
          "name": "stdout",
          "text": [
            "La letra actual es: c\n",
            "La letra actual es: o\n",
            "La letra actual es: e\n"
          ]
        }
      ],
      "source": [
        "for letter in 'code':\n",
        "    if letter == 'd':\n",
        "        continue\n",
        "\n",
        "    print(f'La letra actual es: {letter}')"
      ]
    },
    {
      "cell_type": "code",
      "execution_count": 245,
      "metadata": {
        "id": "CguOgXdUgk1c",
        "outputId": "617829fb-1b06-4f28-d9f9-8403c1bff1d2",
        "colab": {
          "base_uri": "https://localhost:8080/"
        }
      },
      "outputs": [
        {
          "output_type": "stream",
          "name": "stdout",
          "text": [
            "A e s t e s t r i n g l e e l i m i n a r e m o s l o s e s p a c i o s\n"
          ]
        }
      ],
      "source": [
        "list = []\n",
        "string = 'A este string le eliminaremos los espacios'\n",
        "for letra in string:\n",
        "    if letra != ' ':\n",
        "        list.append(letra)\n",
        "    else:\n",
        "        continue\n",
        "print(*list)"
      ]
    },
    {
      "cell_type": "markdown",
      "metadata": {
        "id": "cqdrb36Fgk1c"
      },
      "source": [
        "Intenta explicar qué paso aquí!!"
      ]
    },
    {
      "cell_type": "code",
      "execution_count": 246,
      "metadata": {
        "id": "J5_rF_47gk1Z"
      },
      "outputs": [],
      "source": [
        "# EJECUTA ESTA CELDA. NO LA MODIFIQUES !!!\n",
        "\n",
        "list_of_tuples = [('A', ['B', 1]),\n",
        "                  ('C', ['D', 4]),\n",
        "                  ('E', ['F', 6]),\n",
        "                  ('G', ['H', 8]),\n",
        "                  ('I', ['J', 10])]"
      ]
    },
    {
      "cell_type": "code",
      "execution_count": null,
      "metadata": {
        "id": "baULOhDSgk1a"
      },
      "outputs": [],
      "source": [
        "# Tu código aquí ...\n",
        "\n"
      ]
    }
  ]
}