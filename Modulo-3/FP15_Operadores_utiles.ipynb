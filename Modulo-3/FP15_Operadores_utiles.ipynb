{
  "cells": [
    {
      "cell_type": "markdown",
      "metadata": {
        "id": "view-in-github",
        "colab_type": "text"
      },
      "source": [
        "<a href=\"https://colab.research.google.com/github/NatSama2/Bootcamp-Analisis-de-Datos/blob/main/Modulo-3/FP15_Operadores_utiles.ipynb\" target=\"_parent\"><img src=\"https://colab.research.google.com/assets/colab-badge.svg\" alt=\"Open In Colab\"/></a>"
      ]
    },
    {
      "cell_type": "markdown",
      "metadata": {
        "id": "DhKT9tKvi-QV"
      },
      "source": [
        "# **Introducción a Python**\n",
        "# FP15. Operadores útiles (operators)"
      ]
    },
    {
      "cell_type": "markdown",
      "metadata": {
        "id": "TLU54VrBi-QX"
      },
      "source": [
        "Hay algunas funciones pre-hechas y operadores incorporados en Python que no encajan bien en ninguna categoría, así que los repasaremos en esta lección, ¡comencemos!"
      ]
    },
    {
      "cell_type": "markdown",
      "metadata": {
        "id": "wH65GDwdi-QX"
      },
      "source": [
        "## <font color='blue'>**Operadores básicos**</font>"
      ]
    },
    {
      "cell_type": "markdown",
      "metadata": {
        "id": "MMe2T38pi-QX"
      },
      "source": [
        "## La función `range()`\n",
        "\n",
        "La función `range( )` te permite generar rápidamente una lista de números enteros, esto es muy útil. Toma nota de cómo usarlo!\n",
        "\n",
        "Hay 3 parámetros que se le pueden pasar a la función:\n",
        "\n",
        "* un inicio\n",
        "* una parada\n",
        "* un tamaño de paso\n",
        "\n",
        "Veamos algunos ejemplos:"
      ]
    },
    {
      "cell_type": "code",
      "execution_count": 1,
      "metadata": {
        "id": "KZH9lcZai-QY",
        "outputId": "b020b6a4-79c7-433a-87bd-2617a5665927",
        "colab": {
          "base_uri": "https://localhost:8080/"
        }
      },
      "outputs": [
        {
          "output_type": "execute_result",
          "data": {
            "text/plain": [
              "range(0, 11)"
            ]
          },
          "metadata": {},
          "execution_count": 1
        }
      ],
      "source": [
        "range(0, 11)"
      ]
    },
    {
      "cell_type": "code",
      "execution_count": 2,
      "metadata": {
        "id": "zaVxBYfXi-QZ",
        "outputId": "83955d97-9b46-4f5c-ae7e-20a95b87edc3",
        "colab": {
          "base_uri": "https://localhost:8080/"
        }
      },
      "outputs": [
        {
          "output_type": "execute_result",
          "data": {
            "text/plain": [
              "range"
            ]
          },
          "metadata": {},
          "execution_count": 2
        }
      ],
      "source": [
        "type(range(0, 11))"
      ]
    },
    {
      "cell_type": "code",
      "execution_count": 3,
      "metadata": {
        "id": "qZ5-tOsMi-QZ",
        "outputId": "25900104-e788-4139-c882-9ef7270d8c80",
        "colab": {
          "base_uri": "https://localhost:8080/"
        }
      },
      "outputs": [
        {
          "output_type": "stream",
          "name": "stdout",
          "text": [
            "range(0, 11)\n"
          ]
        }
      ],
      "source": [
        "a = range(0, 11)\n",
        "print(a)"
      ]
    },
    {
      "cell_type": "markdown",
      "metadata": {
        "id": "9qQTQcBbi-QZ"
      },
      "source": [
        "Ten en cuenta que esta es una función generadora (**generator**), por lo que para obtener una lista, necesitamos convertirla en una lista con `list()`.\n",
        "\n",
        "¿Qué es un generador? Es un tipo especial de función que generará un resultado a la vez, conforme se le solicita; esto permite un uso muy eficiente de la memoria de tu computador. Un generador es una función que devuelve un objeto (del tipo iterador) sobre el que podemos iterar (un valor a la vez). Aún no hemos hablado de funciones o generadores, así que mantén esto en tus notas por ahora, ¡lo discutiremos con mucho más detalle más adelante en tu capacitación!"
      ]
    },
    {
      "cell_type": "code",
      "execution_count": 4,
      "metadata": {
        "id": "A1weYuTYi-QZ",
        "outputId": "072ea9ae-8dd8-4989-c276-9cf92218f26f",
        "colab": {
          "base_uri": "https://localhost:8080/"
        }
      },
      "outputs": [
        {
          "output_type": "execute_result",
          "data": {
            "text/plain": [
              "[0, 1, 2, 3, 4, 5, 6, 7, 8, 9, 10]"
            ]
          },
          "metadata": {},
          "execution_count": 4
        }
      ],
      "source": [
        "# Fíjate como el 11 no se incluye en el resultado. Es hasta 11 pero sin el 11.\n",
        "# Tal como cuando hacemos slicing\n",
        "\n",
        "list(range(0, 11))"
      ]
    },
    {
      "cell_type": "code",
      "execution_count": 5,
      "metadata": {
        "id": "27PjU8M3i-Qa",
        "outputId": "1c45cfbd-80b2-42cb-d062-bdc7d47e9bb8",
        "colab": {
          "base_uri": "https://localhost:8080/"
        }
      },
      "outputs": [
        {
          "output_type": "execute_result",
          "data": {
            "text/plain": [
              "[0, 1, 2, 3, 4, 5, 6, 7, 8, 9, 10, 11]"
            ]
          },
          "metadata": {},
          "execution_count": 5
        }
      ],
      "source": [
        "list(range(0, 12))"
      ]
    },
    {
      "cell_type": "code",
      "execution_count": 6,
      "metadata": {
        "id": "YVaNllNri-Qa",
        "outputId": "046fcafd-5573-48d4-fac5-a07364af8000",
        "colab": {
          "base_uri": "https://localhost:8080/"
        }
      },
      "outputs": [
        {
          "output_type": "execute_result",
          "data": {
            "text/plain": [
              "[0, 2, 4, 6, 8, 10]"
            ]
          },
          "metadata": {},
          "execution_count": 6
        }
      ],
      "source": [
        "# El tercer parámetro es el tamaño del paso!\n",
        "# el tamaño del paso solo significa qué tan grande es un salto o paso\n",
        "# toma del número inicial para pasar al siguiente número.\n",
        "\n",
        "list(range(0, 11, 2))"
      ]
    },
    {
      "cell_type": "code",
      "execution_count": 7,
      "metadata": {
        "id": "s_vZnjvTi-Qa",
        "outputId": "eab2e626-06f0-4069-aec0-cbb85e556425",
        "colab": {
          "base_uri": "https://localhost:8080/"
        }
      },
      "outputs": [
        {
          "output_type": "execute_result",
          "data": {
            "text/plain": [
              "[0, 10, 20, 30, 40, 50, 60, 70, 80, 90, 100]"
            ]
          },
          "metadata": {},
          "execution_count": 7
        }
      ],
      "source": [
        "list(range(0, 101, 10))"
      ]
    },
    {
      "cell_type": "markdown",
      "metadata": {
        "id": "vQvico21i-Qb"
      },
      "source": [
        "## La función `enumerate()`\n",
        "\n",
        "`enumerate()` es una función muy útil para usar con `for` loops.\n",
        "Imagina la siguiente situación:"
      ]
    },
    {
      "cell_type": "code",
      "execution_count": 8,
      "metadata": {
        "id": "0b1t4gAyi-Qb",
        "outputId": "7ab4c402-76c1-4366-8a1a-2da4eb69c392",
        "colab": {
          "base_uri": "https://localhost:8080/"
        }
      },
      "outputs": [
        {
          "output_type": "stream",
          "name": "stdout",
          "text": [
            "En el índice 0 la letra es a\n",
            "En el índice 1 la letra es b\n",
            "En el índice 2 la letra es c\n",
            "En el índice 3 la letra es d\n",
            "En el índice 4 la letra es e\n"
          ]
        }
      ],
      "source": [
        "index_count = 0\n",
        "\n",
        "for letter in 'abcde':\n",
        "    print(f\"En el índice {index_count} la letra es {letter}\")\n",
        "    index_count += 1"
      ]
    },
    {
      "cell_type": "markdown",
      "metadata": {
        "id": "Mc7ss360i-Qb"
      },
      "source": [
        "Hacer un seguimiento de cuántos ciclos o bucles se han generado es tan común, que se creó la `enumerate()` para no tener que preocuparse por crear y actualizar esta variable *index_coun*t o *loop_count*."
      ]
    },
    {
      "cell_type": "code",
      "execution_count": 9,
      "metadata": {
        "id": "YBB6-kNJi-Qb",
        "outputId": "21bbe646-40ee-4321-e0d3-fd9b941c36c2",
        "colab": {
          "base_uri": "https://localhost:8080/"
        }
      },
      "outputs": [
        {
          "output_type": "stream",
          "name": "stdout",
          "text": [
            "En el índice 0 la letra es a\n",
            "En el índice 1 la letra es b\n",
            "En el índice 2 la letra es c\n",
            "En el índice 3 la letra es d\n",
            "En el índice 4 la letra es e\n"
          ]
        }
      ],
      "source": [
        "# enumarate() crea tuplas con las letras del string y su indice.\n",
        "# Fíjate en el desempaquetado de la tupla (tuple unpacking) en la cláusula for!\n",
        "\n",
        "for i,letter in enumerate('abcde'):\n",
        "    print(f\"En el índice {i} la letra es {letter}\")"
      ]
    },
    {
      "cell_type": "code",
      "execution_count": 10,
      "metadata": {
        "id": "8J_LZmbKi-Qc",
        "outputId": "b747045d-20ed-49e7-a8a0-99232816cd97",
        "colab": {
          "base_uri": "https://localhost:8080/"
        }
      },
      "outputs": [
        {
          "output_type": "execute_result",
          "data": {
            "text/plain": [
              "enumerate"
            ]
          },
          "metadata": {},
          "execution_count": 10
        }
      ],
      "source": [
        "type(enumerate('abcde'))"
      ]
    },
    {
      "cell_type": "markdown",
      "metadata": {
        "id": "ITZrETGhi-Qc"
      },
      "source": [
        "## La función `zip()`\n",
        "\n",
        "Observa lo que `enumerate` realmente devuelve, echemos un vistazo transformándolo en una lista."
      ]
    },
    {
      "cell_type": "code",
      "execution_count": 11,
      "metadata": {
        "id": "3JWpus_ui-Qc",
        "outputId": "9b6eded0-5b3f-41fd-e711-b84100d4396a",
        "colab": {
          "base_uri": "https://localhost:8080/"
        }
      },
      "outputs": [
        {
          "output_type": "execute_result",
          "data": {
            "text/plain": [
              "[(0, 'a'), (1, 'b'), (2, 'c'), (3, 'd'), (4, 'e')]"
            ]
          },
          "metadata": {},
          "execution_count": 11
        }
      ],
      "source": [
        "list(enumerate('abcde'))"
      ]
    },
    {
      "cell_type": "markdown",
      "metadata": {
        "id": "GHSV09WAi-Qc"
      },
      "source": [
        "Era una lista de tuplas, lo que significa que podríamos usar el desempaquetado de tuplas durante nuestro ciclo for. Esta estructura de datos es muy común en Python, especialmente cuando se trabaja con bibliotecas externas. Puede utilizar la función `zip()` para crear rápidamente una lista de tuplas \"comprimiendo\" dos listas juntas."
      ]
    },
    {
      "cell_type": "code",
      "execution_count": 12,
      "metadata": {
        "id": "rfjXYBgBi-Qc"
      },
      "outputs": [],
      "source": [
        "# Creamos dos listas\n",
        "\n",
        "mylist1 = [1, 2, 3, 4, 5]\n",
        "mylist2 = ['a', 'b', 'c', 'd', 'e']"
      ]
    },
    {
      "cell_type": "code",
      "execution_count": 13,
      "metadata": {
        "id": "Qwld5c3Li-Qc",
        "outputId": "160d1abc-7d93-4982-994f-c783e6a31a9d",
        "colab": {
          "base_uri": "https://localhost:8080/"
        }
      },
      "outputs": [
        {
          "output_type": "execute_result",
          "data": {
            "text/plain": [
              "<zip at 0x7afb368b3c00>"
            ]
          },
          "metadata": {},
          "execution_count": 13
        }
      ],
      "source": [
        "# ¡Este también es un generador! Explicaremos esto más adelante, pero por ahora transformémoslo\n",
        "# en una lista.\n",
        "# Al ejecutarlo no entregará nada útil. Debemos recorrerlo e iterar sobre él\n",
        "\n",
        "zip(mylist1, mylist2)"
      ]
    },
    {
      "cell_type": "code",
      "execution_count": 14,
      "metadata": {
        "id": "WcQU5-OPi-Qc",
        "outputId": "06033015-1a60-46cd-a5fe-9208675af5af",
        "colab": {
          "base_uri": "https://localhost:8080/"
        }
      },
      "outputs": [
        {
          "output_type": "execute_result",
          "data": {
            "text/plain": [
              "[(1, 'a'), (2, 'b'), (3, 'c'), (4, 'd'), (5, 'e')]"
            ]
          },
          "metadata": {},
          "execution_count": 14
        }
      ],
      "source": [
        "list(zip(mylist1, mylist2))"
      ]
    },
    {
      "cell_type": "markdown",
      "metadata": {
        "id": "1Nbe_yTki-Qd"
      },
      "source": [
        "Para usar el generador, podríamos usar un ciclo `for`"
      ]
    },
    {
      "cell_type": "code",
      "execution_count": 15,
      "metadata": {
        "id": "LiT9yt0Ei-Qd",
        "outputId": "8cf2fae7-d96d-46a3-91cb-cb5935670a3a",
        "colab": {
          "base_uri": "https://localhost:8080/"
        }
      },
      "outputs": [
        {
          "output_type": "stream",
          "name": "stdout",
          "text": [
            "En esta tupla, el primer elemento es 1, y el segundo elemento es a\n",
            "En esta tupla, el primer elemento es 2, y el segundo elemento es b\n",
            "En esta tupla, el primer elemento es 3, y el segundo elemento es c\n",
            "En esta tupla, el primer elemento es 4, y el segundo elemento es d\n",
            "En esta tupla, el primer elemento es 5, y el segundo elemento es e\n"
          ]
        }
      ],
      "source": [
        "for item1, item2 in zip(mylist1, mylist2):\n",
        "    print(f'En esta tupla, el primer elemento es {item1}, y el segundo elemento es {item2}')"
      ]
    },
    {
      "cell_type": "markdown",
      "metadata": {
        "id": "fE4Nxothi-Qd"
      },
      "source": [
        "## El operador `in`\n",
        "Ya hemos visto la palabra clave `in` durante el ciclo `for`, pero también podemos usarla para verificar rápidamente si un objeto está en una lista."
      ]
    },
    {
      "cell_type": "code",
      "execution_count": 16,
      "metadata": {
        "id": "DDSnlBuqi-Qd",
        "outputId": "17498c39-60b1-48c7-cf8f-e93dcd96c61b",
        "colab": {
          "base_uri": "https://localhost:8080/"
        }
      },
      "outputs": [
        {
          "output_type": "execute_result",
          "data": {
            "text/plain": [
              "True"
            ]
          },
          "metadata": {},
          "execution_count": 16
        }
      ],
      "source": [
        "'x' in ['x','y','z']"
      ]
    },
    {
      "cell_type": "code",
      "execution_count": 17,
      "metadata": {
        "id": "nslm9OJDi-Qd",
        "outputId": "71013a08-fa7b-49bf-983a-396e44565840",
        "colab": {
          "base_uri": "https://localhost:8080/"
        }
      },
      "outputs": [
        {
          "output_type": "execute_result",
          "data": {
            "text/plain": [
              "False"
            ]
          },
          "metadata": {},
          "execution_count": 17
        }
      ],
      "source": [
        "'x' in [1, 2, 3]"
      ]
    },
    {
      "cell_type": "code",
      "execution_count": 18,
      "metadata": {
        "id": "lQb4Nmqgi-Qd",
        "outputId": "a56de4ef-7fc4-42dc-e8be-c90b7c46bd24",
        "colab": {
          "base_uri": "https://localhost:8080/"
        }
      },
      "outputs": [
        {
          "output_type": "execute_result",
          "data": {
            "text/plain": [
              "False"
            ]
          },
          "metadata": {},
          "execution_count": 18
        }
      ],
      "source": [
        "# Cuidado con las mayúsculas y minúsculas\n",
        "'homer' in ['Marge', 'Bart', 'Homer', 'Lisa']"
      ]
    },
    {
      "cell_type": "code",
      "execution_count": 19,
      "metadata": {
        "id": "PnkQ4OARi-Qd",
        "outputId": "1ba700c0-d367-4448-eeee-3e4f6b947873",
        "colab": {
          "base_uri": "https://localhost:8080/"
        }
      },
      "outputs": [
        {
          "output_type": "execute_result",
          "data": {
            "text/plain": [
              "True"
            ]
          },
          "metadata": {},
          "execution_count": 19
        }
      ],
      "source": [
        "simpson = ['Marge', 'Bart', 'Homer', 'Lisa']\n",
        "'Homer' in simpson"
      ]
    },
    {
      "cell_type": "markdown",
      "metadata": {
        "id": "eoxX8pLKi-Qd"
      },
      "source": [
        "No sólo con listas; intenta usar `in` con conjuntos (_sets_), diccionarios, strings, etc."
      ]
    },
    {
      "cell_type": "code",
      "execution_count": 20,
      "metadata": {
        "id": "iVhm-YrDi-Qd",
        "outputId": "2d350c3a-f1b4-4c93-9ac7-22491e5fd0b7",
        "colab": {
          "base_uri": "https://localhost:8080/"
        }
      },
      "outputs": [
        {
          "output_type": "execute_result",
          "data": {
            "text/plain": [
              "True"
            ]
          },
          "metadata": {},
          "execution_count": 20
        }
      ],
      "source": [
        "s = {1, 2, 3, 4, 5}\n",
        "3 in s"
      ]
    },
    {
      "cell_type": "code",
      "execution_count": 21,
      "metadata": {
        "id": "VFYZH26Mi-Qd",
        "outputId": "b7caf689-3d7e-4e86-901d-7d2daa07f623",
        "colab": {
          "base_uri": "https://localhost:8080/"
        }
      },
      "outputs": [
        {
          "output_type": "execute_result",
          "data": {
            "text/plain": [
              "True"
            ]
          },
          "metadata": {},
          "execution_count": 21
        }
      ],
      "source": [
        "d = {'a': 1, 'b': 2, 'c': 3}\n",
        "'a' in d"
      ]
    },
    {
      "cell_type": "code",
      "execution_count": 22,
      "metadata": {
        "id": "z23ElEhNi-Qe",
        "outputId": "da9b06a0-fa6d-45d5-c491-3c3486bae61d",
        "colab": {
          "base_uri": "https://localhost:8080/"
        }
      },
      "outputs": [
        {
          "output_type": "execute_result",
          "data": {
            "text/plain": [
              "True"
            ]
          },
          "metadata": {},
          "execution_count": 22
        }
      ],
      "source": [
        "1 in d.values()"
      ]
    },
    {
      "cell_type": "code",
      "execution_count": 23,
      "metadata": {
        "id": "H_qv4eami-Qe",
        "outputId": "3da09229-2a50-4784-f536-8265f7db187c",
        "colab": {
          "base_uri": "https://localhost:8080/"
        }
      },
      "outputs": [
        {
          "output_type": "execute_result",
          "data": {
            "text/plain": [
              "True"
            ]
          },
          "metadata": {},
          "execution_count": 23
        }
      ],
      "source": [
        "'hola' in 'hola mundo'"
      ]
    },
    {
      "cell_type": "markdown",
      "metadata": {
        "id": "Wg1axrSTi-Qe"
      },
      "source": [
        "## Las funciones `min()` y `max()`\n",
        "Comprueba el mínimo o el máximo de una lista con estas funciones."
      ]
    },
    {
      "cell_type": "code",
      "execution_count": 24,
      "metadata": {
        "id": "hhMHVbU1i-Qe"
      },
      "outputs": [],
      "source": [
        "mylist = [10, 20, 30, 40, 100]"
      ]
    },
    {
      "cell_type": "code",
      "execution_count": 25,
      "metadata": {
        "id": "MmI5Lq5li-Qe",
        "outputId": "19a26714-d522-4e9f-aa99-b8d8ec94cc24",
        "colab": {
          "base_uri": "https://localhost:8080/"
        }
      },
      "outputs": [
        {
          "output_type": "execute_result",
          "data": {
            "text/plain": [
              "10"
            ]
          },
          "metadata": {},
          "execution_count": 25
        }
      ],
      "source": [
        "min(mylist)"
      ]
    },
    {
      "cell_type": "code",
      "execution_count": 26,
      "metadata": {
        "id": "Yupxi6oKi-Qe",
        "outputId": "48265977-cdf8-47cf-936a-32fae3472a86",
        "colab": {
          "base_uri": "https://localhost:8080/"
        }
      },
      "outputs": [
        {
          "output_type": "execute_result",
          "data": {
            "text/plain": [
              "100"
            ]
          },
          "metadata": {},
          "execution_count": 26
        }
      ],
      "source": [
        "max(mylist)"
      ]
    },
    {
      "cell_type": "code",
      "execution_count": 27,
      "metadata": {
        "id": "QfaRovaii-Qe",
        "outputId": "a9bd2f88-f3cc-40bf-803d-67c3518e3602",
        "colab": {
          "base_uri": "https://localhost:8080/",
          "height": 35
        }
      },
      "outputs": [
        {
          "output_type": "execute_result",
          "data": {
            "text/plain": [
              "'Bart'"
            ],
            "application/vnd.google.colaboratory.intrinsic+json": {
              "type": "string"
            }
          },
          "metadata": {},
          "execution_count": 27
        }
      ],
      "source": [
        "min(simpson)"
      ]
    },
    {
      "cell_type": "markdown",
      "metadata": {
        "id": "lX6yAgwTi-Qe"
      },
      "source": [
        "## La función `random()`\n",
        "\n",
        "Python viene con una biblioteca para generar números aleatorios incorporada. Hay muchas funciones incluidas en esta biblioteca, por lo que solo te mostraremos dos funciones útiles por ahora."
      ]
    },
    {
      "cell_type": "code",
      "execution_count": 28,
      "metadata": {
        "id": "WNa0RSAei-Qe"
      },
      "outputs": [],
      "source": [
        "from random import shuffle"
      ]
    },
    {
      "cell_type": "code",
      "execution_count": 29,
      "metadata": {
        "id": "EYwvMY76i-Qe"
      },
      "outputs": [],
      "source": [
        "# Esto baraja o cambia de posición los elementos de la lista \"en el lugar\", lo que significa que no volverá\n",
        "# cualquier cosa, en su lugar, afectará el orden de la lista pasada como argumento de la función\n",
        "\n",
        "shuffle(mylist)"
      ]
    },
    {
      "cell_type": "code",
      "execution_count": 30,
      "metadata": {
        "id": "ngOqwM2Ai-Qe",
        "outputId": "14aa3bea-e9ae-421e-a853-3d279957ff38",
        "colab": {
          "base_uri": "https://localhost:8080/"
        }
      },
      "outputs": [
        {
          "output_type": "execute_result",
          "data": {
            "text/plain": [
              "[30, 20, 10, 100, 40]"
            ]
          },
          "metadata": {},
          "execution_count": 30
        }
      ],
      "source": [
        "mylist"
      ]
    },
    {
      "cell_type": "code",
      "execution_count": 31,
      "metadata": {
        "id": "ezJ3dHjai-Qf"
      },
      "outputs": [],
      "source": [
        "from random import randint"
      ]
    },
    {
      "cell_type": "code",
      "execution_count": 32,
      "metadata": {
        "id": "6CKORlL7i-Qf",
        "outputId": "e7c6fc62-a783-439b-f663-1dbe0f01d25a",
        "colab": {
          "base_uri": "https://localhost:8080/"
        }
      },
      "outputs": [
        {
          "output_type": "execute_result",
          "data": {
            "text/plain": [
              "98"
            ]
          },
          "metadata": {},
          "execution_count": 32
        }
      ],
      "source": [
        "# Devuelve un número entero aleatorio en el rango [a, b], incluidos ambos puntos finales.\n",
        "\n",
        "randint(0, 100)"
      ]
    },
    {
      "cell_type": "code",
      "execution_count": 33,
      "metadata": {
        "id": "58cx47KUi-Qf",
        "outputId": "675c227c-40a6-496c-e65a-11622d1f0cc6",
        "colab": {
          "base_uri": "https://localhost:8080/"
        }
      },
      "outputs": [
        {
          "output_type": "execute_result",
          "data": {
            "text/plain": [
              "72"
            ]
          },
          "metadata": {},
          "execution_count": 33
        }
      ],
      "source": [
        "# Otra vez para chequear ...\n",
        "\n",
        "randint(0,100)"
      ]
    },
    {
      "cell_type": "markdown",
      "metadata": {
        "tags": [],
        "id": "OKErwIUvi-Qf"
      },
      "source": [
        "## La función `input()`\n",
        "Esta función ya la hemos usado. Recuerda que devuelve un string."
      ]
    },
    {
      "cell_type": "code",
      "execution_count": 34,
      "metadata": {
        "id": "MCJrgqbdi-Qf",
        "outputId": "a7e7b5c8-1e01-4071-a7e8-e9bea0b20070",
        "colab": {
          "base_uri": "https://localhost:8080/"
        }
      },
      "outputs": [
        {
          "name": "stdout",
          "output_type": "stream",
          "text": [
            "Ingresa un número: 5\n"
          ]
        },
        {
          "output_type": "execute_result",
          "data": {
            "text/plain": [
              "str"
            ]
          },
          "metadata": {},
          "execution_count": 34
        }
      ],
      "source": [
        "num= input('Ingresa un número: ')\n",
        "type(num)"
      ]
    },
    {
      "cell_type": "code",
      "execution_count": 35,
      "metadata": {
        "id": "Gdi23eAii-Qf",
        "outputId": "b7b7863c-716a-41cd-c71d-cc251bf5cb86",
        "colab": {
          "base_uri": "https://localhost:8080/"
        }
      },
      "outputs": [
        {
          "output_type": "stream",
          "name": "stdout",
          "text": [
            "Ingresa tu nombre: Giselle\n",
            "Mi nombre es Giselle\n"
          ]
        }
      ],
      "source": [
        "name = input('Ingresa tu nombre: ')\n",
        "print(f'Mi nombre es {name}')"
      ]
    },
    {
      "cell_type": "markdown",
      "metadata": {
        "id": "1juzVYxFi-Qf"
      },
      "source": [
        "## <font color='blue'>**Operadores de comparación**</font>\n",
        "Hemos visto operadores de comparación anteriormente, pero repasemos rápidamente todos ellos:"
      ]
    },
    {
      "cell_type": "code",
      "execution_count": 36,
      "metadata": {
        "id": "-DrFXNAFi-Qf",
        "outputId": "1ec1c790-32d8-496b-a38d-a81fc236dfc7",
        "colab": {
          "base_uri": "https://localhost:8080/"
        }
      },
      "outputs": [
        {
          "output_type": "execute_result",
          "data": {
            "text/plain": [
              "True"
            ]
          },
          "metadata": {},
          "execution_count": 36
        }
      ],
      "source": [
        "# Less Than (menor que)\n",
        "1 < 2"
      ]
    },
    {
      "cell_type": "code",
      "execution_count": 37,
      "metadata": {
        "id": "ohFFQCbKi-Qf",
        "outputId": "2013f215-0fd1-4c79-cdf7-7724b3914791",
        "colab": {
          "base_uri": "https://localhost:8080/"
        }
      },
      "outputs": [
        {
          "output_type": "execute_result",
          "data": {
            "text/plain": [
              "False"
            ]
          },
          "metadata": {},
          "execution_count": 37
        }
      ],
      "source": [
        "# Great Than (mayor que)\n",
        "1 > 2"
      ]
    },
    {
      "cell_type": "code",
      "execution_count": 38,
      "metadata": {
        "id": "NJNjNf58i-Qf",
        "outputId": "afa58c02-f366-4561-fa51-faa97a6bab8a",
        "colab": {
          "base_uri": "https://localhost:8080/"
        }
      },
      "outputs": [
        {
          "output_type": "execute_result",
          "data": {
            "text/plain": [
              "True"
            ]
          },
          "metadata": {},
          "execution_count": 38
        }
      ],
      "source": [
        "# Check for equality (igualdad)\n",
        "1 == 1"
      ]
    },
    {
      "cell_type": "code",
      "execution_count": 39,
      "metadata": {
        "id": "Z1oZ0qWdi-Qg",
        "outputId": "e90a6d16-1e09-4ae2-aa45-726e6ab392cf",
        "colab": {
          "base_uri": "https://localhost:8080/"
        }
      },
      "outputs": [
        {
          "output_type": "execute_result",
          "data": {
            "text/plain": [
              "False"
            ]
          },
          "metadata": {},
          "execution_count": 39
        }
      ],
      "source": [
        "# Check for inequality (desigualdad)\n",
        "1 != 1"
      ]
    },
    {
      "cell_type": "code",
      "execution_count": 40,
      "metadata": {
        "id": "SA4BbgLFi-Qg",
        "outputId": "55acd0fc-01fa-4946-b669-95c6de95ebf8",
        "colab": {
          "base_uri": "https://localhost:8080/"
        }
      },
      "outputs": [
        {
          "output_type": "execute_result",
          "data": {
            "text/plain": [
              "True"
            ]
          },
          "metadata": {},
          "execution_count": 40
        }
      ],
      "source": [
        "# Less than or equal to (menor o igua que)\n",
        "1 <= 3"
      ]
    },
    {
      "cell_type": "code",
      "execution_count": 41,
      "metadata": {
        "id": "2Li-BJpFi-Qg",
        "outputId": "eaa420d2-32cd-446d-9256-190c5caada44",
        "colab": {
          "base_uri": "https://localhost:8080/"
        }
      },
      "outputs": [
        {
          "output_type": "execute_result",
          "data": {
            "text/plain": [
              "True"
            ]
          },
          "metadata": {},
          "execution_count": 41
        }
      ],
      "source": [
        "# Greater than of equal to (mayor o igual que)\n",
        "1 >= 1"
      ]
    },
    {
      "cell_type": "markdown",
      "metadata": {
        "id": "XHD6WXK-i-Qg"
      },
      "source": [
        "## <font color='blue'>**Operadores lógicos (_Logical Operators_)**</font>\n",
        "\n",
        "Ahora que conocemos los operadores de comparación, podemos usar operadores lógicos para combinar múltiples comparaciones (en general, múltiples declaraciones booleanas)"
      ]
    },
    {
      "cell_type": "markdown",
      "metadata": {
        "id": "M5OANatoi-Qg"
      },
      "source": [
        "## El operador `and`\n",
        "Úsalo cuando quieras comprobar que ambas declaraciones son verdaderas (`True`)"
      ]
    },
    {
      "cell_type": "code",
      "execution_count": 42,
      "metadata": {
        "id": "tAE0yWVKi-Qg",
        "outputId": "0fa39a5b-ec94-424d-9c2e-bbc2842d393b",
        "colab": {
          "base_uri": "https://localhost:8080/"
        }
      },
      "outputs": [
        {
          "output_type": "execute_result",
          "data": {
            "text/plain": [
              "True"
            ]
          },
          "metadata": {},
          "execution_count": 42
        }
      ],
      "source": [
        "# Verdadero y Verdadero es Verdadero\n",
        "\n",
        "1 == 1 and 2 == 2"
      ]
    },
    {
      "cell_type": "code",
      "execution_count": 43,
      "metadata": {
        "id": "yO42QhZii-Qg",
        "outputId": "26c04fe5-7052-409b-babc-240ea41d7dc2",
        "colab": {
          "base_uri": "https://localhost:8080/"
        }
      },
      "outputs": [
        {
          "output_type": "execute_result",
          "data": {
            "text/plain": [
              "False"
            ]
          },
          "metadata": {},
          "execution_count": 43
        }
      ],
      "source": [
        "# Verdadero y Falso es Falso\n",
        "1 == 1 and 2 == 1"
      ]
    },
    {
      "cell_type": "code",
      "execution_count": 44,
      "metadata": {
        "id": "ycYdXMGbi-Qg",
        "outputId": "42e38856-28e7-4f03-e811-30f3889693e1",
        "colab": {
          "base_uri": "https://localhost:8080/"
        }
      },
      "outputs": [
        {
          "output_type": "execute_result",
          "data": {
            "text/plain": [
              "False"
            ]
          },
          "metadata": {},
          "execution_count": 44
        }
      ],
      "source": [
        "# Falso y Falso es Falso\n",
        "1 == 2 and 2 == 1"
      ]
    },
    {
      "cell_type": "markdown",
      "metadata": {
        "id": "Y6fJnwPhi-Qg"
      },
      "source": [
        "## El operador `or`\n",
        "Úsalo cuando solo una declaración debe ser verdadera (`True`)"
      ]
    },
    {
      "cell_type": "code",
      "execution_count": 45,
      "metadata": {
        "id": "bu_VXEk_i-Qg",
        "outputId": "da19bec0-f974-4e4f-e566-7b13a38b888f",
        "colab": {
          "base_uri": "https://localhost:8080/"
        }
      },
      "outputs": [
        {
          "output_type": "execute_result",
          "data": {
            "text/plain": [
              "True"
            ]
          },
          "metadata": {},
          "execution_count": 45
        }
      ],
      "source": [
        "# Verdadero o Verdadero es Verdadero\n",
        "\n",
        "1 == 1 or 2 == 2"
      ]
    },
    {
      "cell_type": "code",
      "execution_count": 46,
      "metadata": {
        "id": "hx7L_BA_i-Qh",
        "outputId": "0d95fe82-3e9b-485d-85d2-45b649c49f69",
        "colab": {
          "base_uri": "https://localhost:8080/"
        }
      },
      "outputs": [
        {
          "output_type": "execute_result",
          "data": {
            "text/plain": [
              "True"
            ]
          },
          "metadata": {},
          "execution_count": 46
        }
      ],
      "source": [
        "# Verdadero o Falso es Verdadero\n",
        "\n",
        "1 == 1 or 2 == 10"
      ]
    },
    {
      "cell_type": "code",
      "execution_count": 47,
      "metadata": {
        "id": "mZy0kIfTi-Qh",
        "outputId": "26cf8fd3-d386-4b75-9689-cbf25aa17e5a",
        "colab": {
          "base_uri": "https://localhost:8080/"
        }
      },
      "outputs": [
        {
          "output_type": "execute_result",
          "data": {
            "text/plain": [
              "False"
            ]
          },
          "metadata": {},
          "execution_count": 47
        }
      ],
      "source": [
        "# Falso o Falso es Falso\n",
        "\n",
        "1 == 2 or 2 == 10"
      ]
    },
    {
      "cell_type": "markdown",
      "metadata": {
        "id": "u97GZVV6i-Qh"
      },
      "source": [
        "## El operador `not`\n",
        "El operador `not`  invierte el valor booleano"
      ]
    },
    {
      "cell_type": "code",
      "execution_count": 48,
      "metadata": {
        "id": "Eg-LFIiCi-Qo",
        "outputId": "285a3d59-67d7-4701-dcdf-ce2858eceacb",
        "colab": {
          "base_uri": "https://localhost:8080/"
        }
      },
      "outputs": [
        {
          "output_type": "execute_result",
          "data": {
            "text/plain": [
              "False"
            ]
          },
          "metadata": {},
          "execution_count": 48
        }
      ],
      "source": [
        "not 1 == 1"
      ]
    },
    {
      "cell_type": "code",
      "execution_count": 49,
      "metadata": {
        "id": "a82Sn_Yzi-Qo",
        "outputId": "84a866ae-8913-406a-a345-c41ab839e056",
        "colab": {
          "base_uri": "https://localhost:8080/"
        }
      },
      "outputs": [
        {
          "output_type": "execute_result",
          "data": {
            "text/plain": [
              "True"
            ]
          },
          "metadata": {},
          "execution_count": 49
        }
      ],
      "source": [
        "# No es muy común ver algo como esto, pero funciona\n",
        "\n",
        "1 == 1 and not 2 == 3"
      ]
    },
    {
      "cell_type": "code",
      "execution_count": 50,
      "metadata": {
        "id": "tLpw4LN_i-Qo",
        "outputId": "67be9f4f-a15c-4986-a57c-aff4dfe532ff",
        "colab": {
          "base_uri": "https://localhost:8080/"
        }
      },
      "outputs": [
        {
          "output_type": "stream",
          "name": "stdout",
          "text": [
            "Exito!\n"
          ]
        }
      ],
      "source": [
        "# Un ejemplo más realista\n",
        "\n",
        "respuesta = 'no'\n",
        "if 1 == 1 and not respuesta == 'yes':\n",
        "    print(\"Exito!\")"
      ]
    },
    {
      "cell_type": "code",
      "execution_count": 51,
      "metadata": {
        "id": "4UTxu6HYi-Qo",
        "outputId": "71a0a4cc-60fc-4523-939c-96ea85a19ce7",
        "colab": {
          "base_uri": "https://localhost:8080/"
        }
      },
      "outputs": [
        {
          "output_type": "stream",
          "name": "stdout",
          "text": [
            "Exito!\n"
          ]
        }
      ],
      "source": [
        "# Lo mismo\n",
        "\n",
        "respuesta = 'no'\n",
        "if 1 ==1 and respuesta != 'yes':\n",
        "    print(\"Exito!\")"
      ]
    },
    {
      "cell_type": "markdown",
      "metadata": {
        "id": "e0AfElkEi-Qa"
      },
      "source": [
        "## <font color='green'>Actividad 1</font>\n",
        "### Crea una lista con enteros, partiendo desde 0, hasta 102, con paso 3\n"
      ]
    },
    {
      "cell_type": "code",
      "execution_count": 52,
      "metadata": {
        "id": "EwamL41bi-Qa",
        "outputId": "5bb60eca-42e4-445b-ff3e-6a289c13f33a",
        "colab": {
          "base_uri": "https://localhost:8080/"
        }
      },
      "outputs": [
        {
          "output_type": "stream",
          "name": "stdout",
          "text": [
            "0\n",
            "3\n",
            "6\n",
            "9\n",
            "12\n",
            "15\n",
            "18\n",
            "21\n",
            "24\n",
            "27\n",
            "30\n",
            "33\n",
            "36\n",
            "39\n",
            "42\n",
            "45\n",
            "48\n",
            "51\n",
            "54\n",
            "57\n",
            "60\n",
            "63\n",
            "66\n",
            "69\n",
            "72\n",
            "75\n",
            "78\n",
            "81\n",
            "84\n",
            "87\n",
            "90\n",
            "93\n",
            "96\n",
            "99\n",
            "102\n"
          ]
        }
      ],
      "source": [
        "# Tu código aquí ...\n",
        "\n",
        "for i in range(0, 103, 3):\n",
        "    print(i)"
      ]
    },
    {
      "cell_type": "code",
      "source": [
        "# Otra solución\n",
        "\n",
        "a = list(range(0, 103, 3))\n",
        "print(a)"
      ],
      "metadata": {
        "id": "85qZ4d0C2Za6",
        "outputId": "073756e0-98dd-4197-8bb1-fefcca5d8558",
        "colab": {
          "base_uri": "https://localhost:8080/"
        }
      },
      "execution_count": 53,
      "outputs": [
        {
          "output_type": "stream",
          "name": "stdout",
          "text": [
            "[0, 3, 6, 9, 12, 15, 18, 21, 24, 27, 30, 33, 36, 39, 42, 45, 48, 51, 54, 57, 60, 63, 66, 69, 72, 75, 78, 81, 84, 87, 90, 93, 96, 99, 102]\n"
          ]
        }
      ]
    },
    {
      "cell_type": "markdown",
      "metadata": {
        "id": "IeKtYD12i-Qb"
      },
      "source": [
        "<font color='green'>Fin actividad 1</font>"
      ]
    },
    {
      "cell_type": "markdown",
      "metadata": {
        "id": "ss2-CMHXi-Qo"
      },
      "source": [
        "## <font color='green'>Actividad 2: </font>\n",
        "### Trabajando con Operadores Lógicos\n",
        "¿Cuál es el resultado (`True` o `False`) de una expresión como esta?\n",
        "```Python\n",
        "    True and False or True and False\n",
        "```"
      ]
    },
    {
      "cell_type": "code",
      "execution_count": null,
      "metadata": {
        "id": "FMB_mAgNi-Qo"
      },
      "outputs": [],
      "source": [
        "# Tu código aquí ...\n",
        "\n"
      ]
    },
    {
      "cell_type": "markdown",
      "metadata": {
        "id": "cBa_LAqTi-Qo"
      },
      "source": [
        "<font color='green'>Fin actividad 2</font>"
      ]
    },
    {
      "cell_type": "markdown",
      "metadata": {
        "id": "JOa6s2qji-Qo"
      },
      "source": [
        "## <font color='green'>Actividad 3: </font>\n",
        "### Trabajando con Operadores Lógicos\n",
        "\n",
        "¿Cuál es el resultado (`True` o `False`) de una expresión como esta?\n",
        "```Python\n",
        "    True or False and True or False\n",
        "```"
      ]
    },
    {
      "cell_type": "code",
      "execution_count": null,
      "metadata": {
        "id": "YiYZUd0hi-Qo"
      },
      "outputs": [],
      "source": [
        "# Tu código aquí ...\n",
        "\n"
      ]
    },
    {
      "cell_type": "markdown",
      "metadata": {
        "id": "PnYgZTfai-Qp"
      },
      "source": [
        "<font color='green'>Fin actividad 3</font>"
      ]
    },
    {
      "cell_type": "markdown",
      "metadata": {
        "id": "wQaVU3zAi-Qp"
      },
      "source": [
        "## <font color='green'>Actividad 4: </font>\n",
        "### Trabajando con Operadores Lógicos\n",
        "Escribe una expresión como la siguiente, pero usando números\n",
        "```Python\n",
        "    True or False and True or False\n",
        "```\n",
        "Tip:\n",
        "```Python\n",
        "    1 == 1\n",
        "    True\n",
        "```"
      ]
    },
    {
      "cell_type": "code",
      "execution_count": null,
      "metadata": {
        "id": "6Zh3OQZji-Qp"
      },
      "outputs": [],
      "source": [
        "# Tu código aquí ...\n",
        "\n"
      ]
    },
    {
      "cell_type": "markdown",
      "metadata": {
        "id": "q9Whm0tIi-Qp"
      },
      "source": [
        "<font color='green'>Fin actividad 4</font>"
      ]
    }
  ],
  "metadata": {
    "kernelspec": {
      "display_name": "Python 3 (ipykernel)",
      "language": "python",
      "name": "python3"
    },
    "language_info": {
      "codemirror_mode": {
        "name": "ipython",
        "version": 3
      },
      "file_extension": ".py",
      "mimetype": "text/x-python",
      "name": "python",
      "nbconvert_exporter": "python",
      "pygments_lexer": "ipython3",
      "version": "3.8.11"
    },
    "colab": {
      "provenance": [],
      "include_colab_link": true
    }
  },
  "nbformat": 4,
  "nbformat_minor": 0
}