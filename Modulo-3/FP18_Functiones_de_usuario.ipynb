{
  "nbformat": 4,
  "nbformat_minor": 0,
  "metadata": {
    "kernelspec": {
      "display_name": "Python 3 (ipykernel)",
      "language": "python",
      "name": "python3"
    },
    "language_info": {
      "codemirror_mode": {
        "name": "ipython",
        "version": 3
      },
      "file_extension": ".py",
      "mimetype": "text/x-python",
      "name": "python",
      "nbconvert_exporter": "python",
      "pygments_lexer": "ipython3",
      "version": "3.8.11"
    },
    "colab": {
      "provenance": [],
      "include_colab_link": true
    }
  },
  "cells": [
    {
      "cell_type": "markdown",
      "metadata": {
        "id": "view-in-github",
        "colab_type": "text"
      },
      "source": [
        "<a href=\"https://colab.research.google.com/github/NatSama2/Bootcamp-Analisis-de-Datos/blob/main/Modulo-3/FP18_Functiones_de_usuario.ipynb\" target=\"_parent\"><img src=\"https://colab.research.google.com/assets/colab-badge.svg\" alt=\"Open In Colab\"/></a>"
      ]
    },
    {
      "cell_type": "markdown",
      "metadata": {
        "id": "8IGPgEQ4DgwZ"
      },
      "source": [
        "# **Introducción a Python**\n",
        "# FP18. Funciones de usuario (User Functions) - SOLUCION"
      ]
    },
    {
      "cell_type": "markdown",
      "metadata": {
        "id": "RD4KHqacDgwd"
      },
      "source": [
        "Hola, Hackers. Es hora de aprender un nuevo elemento importante en Python: Las Funciones !!!\n",
        "\n",
        "Las funciones son la base para un código reproducible en proyectos.\n",
        "\n",
        "Las funciones nos permiten no tener que escribir repetidamente el mismo código una y otra vez.\n",
        "\n",
        "Hay funciones integradas, es decir, funciones nativas en Python (como `len()`, `randint()` o `print()`) y funciones definidas por el usuario.\n",
        "\n",
        "Una buena función definida por el usuario desarrolla **una sola tarea**, la cual puede ser usada repetidamente."
      ]
    },
    {
      "cell_type": "markdown",
      "metadata": {
        "id": "jvS16FpWDgwe"
      },
      "source": [
        "## <font color='blue'>**La cláusula `def`**</font>\n",
        "\n",
        "Para crear una función usamos la palabra clave `def`. Esta es la forma general de una función:\n",
        "\n",
        "```python\n",
        "def nombre_funcion_minusculas(argumento1, argumento2, argumento3='valor por defecto'):\n",
        "    '''\n",
        "    Este es el DocString de la función. Aquí es donde se debe describir la función,\n",
        "    su objetivo, qué argumentos utiliza (datos de entrada),\n",
        "    datos de salida y la forma de usarla.\n",
        "    '''\n",
        "    # El código de tu función aquí\n",
        "    \n",
        "```"
      ]
    },
    {
      "cell_type": "markdown",
      "metadata": {
        "id": "hnXv6yboDgwe"
      },
      "source": [
        "Comenzamos con `def` y luego un espacio seguido del nombre de la función. Intenta que los nombres sean relevantes, por ejemplo, _d_verificador()_ es un buen nombre para una función que calcule el digito verificador de un RUT. También ten cuidado con los nombres, no querrás llamar a tu función con el mismo nombre que una función incorporada en Python (como por ejemplo _len()_).\n",
        "\n",
        "Luego vienen un par de paréntesis, dentro de los cuales podría haber argumentos separados por una coma. Estos argumentos son las entradas para su función. Podrás utilizar estas entradas en tu función y hacer referencia a ellas. Finalmente, pones dos puntos.\n",
        "\n",
        "<font color='red'>Importante!!</font> Todo el código de la función deberá estar **indentado** 4 espacios para diferenciarlo del resto del código. Recuerda que no es de *pythonistas* el usar \\<tabs\\> para indentar."
      ]
    },
    {
      "cell_type": "markdown",
      "metadata": {
        "id": "vYIPsdl0Dgwf"
      },
      "source": [
        "## <font color='blue'>**Ejemplos de funciones**</font>"
      ]
    },
    {
      "cell_type": "markdown",
      "metadata": {
        "id": "_pnNa5yEDgwg"
      },
      "source": [
        "### Ejemplo 1: Función simple sin argumentos"
      ]
    },
    {
      "cell_type": "code",
      "metadata": {
        "id": "apbp5VDQDgwh"
      },
      "source": [
        "def hacker():\n",
        "    \"\"\"\n",
        "    Esta es mi primera función\n",
        "    Imprime \"Hola mundo\"\n",
        "    \"\"\"\n",
        "    print('Hola mundo')"
      ],
      "execution_count": null,
      "outputs": []
    },
    {
      "cell_type": "code",
      "metadata": {
        "id": "CEV-b1C_Dgwi"
      },
      "source": [
        "type(hacker)"
      ],
      "execution_count": null,
      "outputs": []
    },
    {
      "cell_type": "markdown",
      "metadata": {
        "id": "KMqYutb3Dgwk"
      },
      "source": [
        "Si llamas a la función sin paréntesis, no se ejecutará, en su lugar, solo informará cuál es el objeto:"
      ]
    },
    {
      "cell_type": "code",
      "metadata": {
        "id": "68kO1ARoDgwk"
      },
      "source": [
        "hacker"
      ],
      "execution_count": null,
      "outputs": []
    },
    {
      "cell_type": "markdown",
      "metadata": {
        "id": "5QttGkF7Dgwl"
      },
      "source": [
        "Usa paréntesis para ejecutar la función:"
      ]
    },
    {
      "cell_type": "code",
      "metadata": {
        "id": "9SSxI1NKDgwl"
      },
      "source": [
        "hacker()"
      ],
      "execution_count": null,
      "outputs": []
    },
    {
      "cell_type": "markdown",
      "metadata": {
        "id": "TcFlZl0QDgwm"
      },
      "source": [
        "### Ejemplo 2: Función con argumentos"
      ]
    },
    {
      "cell_type": "code",
      "metadata": {
        "id": "pShJ0QpdDgwn"
      },
      "source": [
        "def edad(mi_edad):\n",
        "    print(f\"Tengo {mi_edad} años\")"
      ],
      "execution_count": null,
      "outputs": []
    },
    {
      "cell_type": "code",
      "metadata": {
        "id": "077USzDwDgwn"
      },
      "source": [
        "# Nota el error\n",
        "# Esta instrucción dara un error porque la función 'edad' necesita un argumento y no se lo incluimos\n",
        "edad()"
      ],
      "execution_count": null,
      "outputs": []
    },
    {
      "cell_type": "code",
      "metadata": {
        "id": "AxfVOG3KDgwo"
      },
      "source": [
        "edad(12)"
      ],
      "execution_count": null,
      "outputs": []
    },
    {
      "cell_type": "code",
      "metadata": {
        "id": "PH-PhVjzDgwp"
      },
      "source": [
        "# Ten en cuenta que puedes usar el mismo nombre para la función y su argumento\n",
        "# Eso es porque son dos objetos diferentes: uno es una función y el otro es una variable\n",
        "\n",
        "def peso(peso):\n",
        "    \"\"\"\n",
        "    Convierte un peso en kilogramos a libras\n",
        "\n",
        "    Parámetros:\n",
        "    peso (int): Peso en kilogramos\n",
        "\n",
        "    Salida:\n",
        "    'Mi peso en libras es = {peso:.1f}' (str): string con el peso en libras\n",
        "\n",
        "    \"\"\"\n",
        "    peso = peso * 2.20462\n",
        "    print(f'Mi peso en libras es = {peso:.1f}')"
      ],
      "execution_count": null,
      "outputs": []
    },
    {
      "cell_type": "code",
      "metadata": {
        "id": "pshYSitUDgwp"
      },
      "source": [
        "help(peso)"
      ],
      "execution_count": null,
      "outputs": []
    },
    {
      "cell_type": "code",
      "metadata": {
        "id": "_filpM6cDgwq"
      },
      "source": [
        "peso(45)"
      ],
      "execution_count": null,
      "outputs": []
    },
    {
      "cell_type": "markdown",
      "metadata": {
        "id": "OKULFH06Dgwq"
      },
      "source": [
        "### Ejemplo 3: Podemos utilizar argumentos con valores por defecto"
      ]
    },
    {
      "cell_type": "code",
      "metadata": {
        "id": "qKWoCqDbDgwq"
      },
      "source": [
        "def reporte(name='Juan'):\n",
        "    print(f'Reportando {name}')"
      ],
      "execution_count": null,
      "outputs": []
    },
    {
      "cell_type": "code",
      "metadata": {
        "id": "RscfBN5WDgwq"
      },
      "source": [
        "reporte()"
      ],
      "execution_count": null,
      "outputs": []
    },
    {
      "cell_type": "code",
      "metadata": {
        "id": "HKLJi3DDDgwr"
      },
      "source": [
        "# aún así , siempre pordrás incuir un nuevo argumento\n",
        "reporte('Francisca')"
      ],
      "execution_count": null,
      "outputs": []
    },
    {
      "cell_type": "markdown",
      "metadata": {
        "id": "icOGruZUDgwr"
      },
      "source": [
        "## <font color='blue'>**La palabra clave de `return`**</font>\n",
        "Hasta ahora, todas nuestras funciones solo han estado imprimiendo resultados, pero ¿y si quisiéramos guardar los resultados que genera  una función en otra variable? ¿Cómo podemos hacer esto? Primero veamos qué sucede con solo imprimir."
      ]
    },
    {
      "cell_type": "code",
      "metadata": {
        "id": "pKDNPXJRDgws"
      },
      "source": [
        "def add(num1, num2):\n",
        "    print(num1 + num2)"
      ],
      "execution_count": null,
      "outputs": []
    },
    {
      "cell_type": "code",
      "metadata": {
        "id": "ifTWH5oEDgws"
      },
      "source": [
        "add(2, 3)"
      ],
      "execution_count": null,
      "outputs": []
    },
    {
      "cell_type": "code",
      "metadata": {
        "id": "smlcv97UDgws"
      },
      "source": [
        "result = add(2, 3)"
      ],
      "execution_count": null,
      "outputs": []
    },
    {
      "cell_type": "code",
      "metadata": {
        "id": "WjNa4G1BDgwt"
      },
      "source": [
        "# Veamos el resultado\n",
        "result"
      ],
      "execution_count": null,
      "outputs": []
    },
    {
      "cell_type": "code",
      "metadata": {
        "id": "OH0KdZZRDgwt"
      },
      "source": [
        "type(result)"
      ],
      "execution_count": null,
      "outputs": []
    },
    {
      "cell_type": "markdown",
      "metadata": {
        "id": "dmjQ7JUUDgwu"
      },
      "source": [
        "Observa que no es posible guardar el resultado de la función ***add()*** ya que no devuelve (_return_) nada.<br>\n",
        "Usemos ahora la palabra clave `return`."
      ]
    },
    {
      "cell_type": "code",
      "metadata": {
        "id": "CW1tscdlDgwu"
      },
      "source": [
        "def add(num1, num2):\n",
        "    return num1 + num2"
      ],
      "execution_count": null,
      "outputs": []
    },
    {
      "cell_type": "code",
      "metadata": {
        "id": "5yGy3U29Dgwv"
      },
      "source": [
        "add(2, 3)"
      ],
      "execution_count": null,
      "outputs": []
    },
    {
      "cell_type": "markdown",
      "metadata": {
        "id": "aT7dGXXODgww"
      },
      "source": [
        "Fíjate cómo Jupyter informa una salida de la celda ($[n]$), la vez anterior, no lo hizo. De hecho, podemos asignar este resultado a una variable."
      ]
    },
    {
      "cell_type": "code",
      "metadata": {
        "id": "Jax0s4k_Dgwx"
      },
      "source": [
        "result = add(2, 3)"
      ],
      "execution_count": null,
      "outputs": []
    },
    {
      "cell_type": "code",
      "metadata": {
        "id": "VEcFnscaDgwy"
      },
      "source": [
        "result"
      ],
      "execution_count": null,
      "outputs": []
    },
    {
      "cell_type": "code",
      "metadata": {
        "id": "thuhRNvTDgwz"
      },
      "source": [
        "type(result)"
      ],
      "execution_count": null,
      "outputs": []
    },
    {
      "cell_type": "code",
      "metadata": {
        "id": "EyyvnaUqDgw0"
      },
      "source": [
        "result * 2"
      ],
      "execution_count": null,
      "outputs": []
    },
    {
      "cell_type": "markdown",
      "metadata": {
        "id": "pOwJOXu6Dgw1"
      },
      "source": [
        "## <font color='blue'>**Resolviendo problemas con funciones**</font>\n",
        "\n",
        "Las funciones son un componente básico para los scripts y la programación. Vamos a mostrar cómo se puede resolver un problema con una función."
      ]
    },
    {
      "cell_type": "markdown",
      "metadata": {
        "id": "jgMGRe5xDgw1"
      },
      "source": [
        "Escribamos una función que devuelva un booleano (`True` / `False`) si es que la palabra 'secreto' está o no en una cadena."
      ]
    },
    {
      "cell_type": "code",
      "metadata": {
        "id": "IFkCtSaUDgw1"
      },
      "source": [
        "def verifica_secreto(mystring):\n",
        "    return 'secreto' in mystring"
      ],
      "execution_count": null,
      "outputs": []
    },
    {
      "cell_type": "code",
      "metadata": {
        "id": "Zn51pJvrDgw2"
      },
      "source": [
        "verifica_secreto('Esta es una información que contiene secretos importantes.')"
      ],
      "execution_count": null,
      "outputs": []
    },
    {
      "cell_type": "code",
      "metadata": {
        "id": "JBYAC5YzDgw2"
      },
      "source": [
        "verifica_secreto('ESTA ES UNA INFORMACIÓN QUE CONTIENE SECRETOS IMPORTANTES.')"
      ],
      "execution_count": null,
      "outputs": []
    },
    {
      "cell_type": "markdown",
      "metadata": {
        "id": "33yC8JNCDgw3"
      },
      "source": [
        "Mejoremos la función con `.lower()`\n"
      ]
    },
    {
      "cell_type": "code",
      "metadata": {
        "id": "CkdtEcwcDgw4"
      },
      "source": [
        "def verifica_secreto(mystring):\n",
        "    return 'secreto' in mystring.lower()"
      ],
      "execution_count": null,
      "outputs": []
    },
    {
      "cell_type": "code",
      "metadata": {
        "id": "c-VTjYLYDgw4"
      },
      "source": [
        "verifica_secreto('ESTA ES UNA INFORMACIÓN QUE CONTIENE SECRETOS IMPORTANTES.')"
      ],
      "execution_count": null,
      "outputs": []
    },
    {
      "cell_type": "markdown",
      "metadata": {
        "id": "rUtabudoDgw5"
      },
      "source": [
        "## <font color='green'>Actividad 1:</font>\n",
        "### Crea una función\n",
        "\n",
        "Crea una función que tome dos números enteros (como parámetros) y devuelva:<br>\n",
        "    **`True`** si su suma es 10, <br>\n",
        "    **`False`** si su suma es otra cosa. <br>\n",
        "\n",
        "Nombra tu función como  **check_ten**"
      ]
    },
    {
      "cell_type": "code",
      "metadata": {
        "id": "dL_oA0biDgw5"
      },
      "source": [
        "# Tu código aquí ...\n"
      ],
      "execution_count": null,
      "outputs": []
    },
    {
      "cell_type": "code",
      "metadata": {
        "id": "zGtMprVtDgw5"
      },
      "source": [
        "check_ten(10, 0)"
      ],
      "execution_count": null,
      "outputs": []
    },
    {
      "cell_type": "code",
      "metadata": {
        "id": "HKhxMb2sDgw6"
      },
      "source": [
        "check_ten(2, 7)"
      ],
      "execution_count": null,
      "outputs": []
    },
    {
      "cell_type": "markdown",
      "metadata": {
        "id": "tE3QdBNZDgw6"
      },
      "source": [
        "<font color='green'>Fin actividad 1</font>"
      ]
    },
    {
      "cell_type": "markdown",
      "metadata": {
        "id": "OxFeG3AlDgw7"
      },
      "source": [
        "## <font color='green'>Actividad 2:</font>\n",
        "### Crea una función\n",
        "\n",
        "Crea una función que tome dos números enteros y devuelva:<br>\n",
        "**`True`** si su suma es 10<br>\n",
        "de lo contrario, devuelva el valor de la suma real. <br>\n",
        "\n",
        "Nombre su función como **check_ten_sum**"
      ]
    },
    {
      "cell_type": "code",
      "metadata": {
        "id": "Cd8or1bbDgw7"
      },
      "source": [
        "# Tu código aquí ...\n",
        "\n"
      ],
      "execution_count": null,
      "outputs": []
    },
    {
      "cell_type": "code",
      "metadata": {
        "id": "T5pc5EqxDgw7"
      },
      "source": [
        "check_ten_sum(10,0)"
      ],
      "execution_count": null,
      "outputs": []
    },
    {
      "cell_type": "code",
      "metadata": {
        "id": "NxoaPhfSDgw8"
      },
      "source": [
        "check_ten_sum(2,7)"
      ],
      "execution_count": null,
      "outputs": []
    },
    {
      "cell_type": "markdown",
      "metadata": {
        "id": "OXKrIT_GDgw8"
      },
      "source": [
        "<font color='green'>Fin actividad 2</font>"
      ]
    },
    {
      "cell_type": "markdown",
      "metadata": {
        "id": "C7c4RGXPDgw9"
      },
      "source": [
        "## <font color='green'>Actividad 3:</font>\n",
        "### Crea una función\n",
        "\n",
        "Cree una función que tome una cadena y devuelva el primer carácter de esa cadena en mayúsculas."
      ]
    },
    {
      "cell_type": "code",
      "metadata": {
        "id": "vslKRxR7Dgw9"
      },
      "source": [],
      "execution_count": null,
      "outputs": []
    },
    {
      "cell_type": "markdown",
      "metadata": {
        "id": "w-mzdhjrDgw-"
      },
      "source": [
        "<font color='green'>Fin actividad 3</font>"
      ]
    },
    {
      "cell_type": "markdown",
      "metadata": {
        "id": "_GOAvAVIDgw-"
      },
      "source": [
        "## <font color='green'>Actividad 4: Challenging</font>\n",
        "### Crea una función\n",
        "\n",
        "Cree una función que tome una temperatura en grados Celsius y la convierta a grados Fahrenheit.<br>\n",
        "Implementa tu función con docstring y return\n",
        "\n",
        "Tip:\n",
        "La fórmula de conversión es la siguiente\n",
        "\n",
        "$\\color{blue}{ºF = ºC * 1.8 + 32}$\n"
      ]
    },
    {
      "cell_type": "code",
      "metadata": {
        "id": "XFlBWKpsDgw-"
      },
      "source": [
        "# Tu código aquí ...\n",
        "\n"
      ],
      "execution_count": null,
      "outputs": []
    },
    {
      "cell_type": "code",
      "metadata": {
        "id": "-W13psp3Dgw-"
      },
      "source": [
        "help(celsius2fahrenheit)"
      ],
      "execution_count": null,
      "outputs": []
    },
    {
      "cell_type": "code",
      "metadata": {
        "id": "Q7h9qc1YDgw-"
      },
      "source": [
        "celsius2fahrenheit(32.5)"
      ],
      "execution_count": null,
      "outputs": []
    },
    {
      "cell_type": "markdown",
      "metadata": {
        "id": "yplXUAdNDgw-"
      },
      "source": [
        "<font color='green'>Fin actividad 4</font>"
      ]
    },
    {
      "cell_type": "markdown",
      "metadata": {
        "id": "ysHb-aqJDgw-"
      },
      "source": [
        "## <font color='green'>Actividad 5: Challenging</font>\n",
        "### Crea una función para el algoritmo del año bisiesto del notebook FP12\n",
        "\n",
        "Cree una función que determine si un año es bisiesto o no. La función debe retornar:<br>\n",
        "**`True`** si el año ingresado es bisiesto<br>\n",
        "**`False`** si el año no es bisiesto\n",
        "\n",
        "Incluya el respectivo docstring de la función."
      ]
    },
    {
      "cell_type": "code",
      "metadata": {
        "id": "g38g7nCpDgw_"
      },
      "source": [
        "# Tu código aquí ...\n",
        "\n"
      ],
      "execution_count": null,
      "outputs": []
    },
    {
      "cell_type": "code",
      "metadata": {
        "id": "6Uy1d_fFDgw_"
      },
      "source": [
        "help(isBisiesto)"
      ],
      "execution_count": null,
      "outputs": []
    },
    {
      "cell_type": "code",
      "metadata": {
        "id": "a8MXT7zWDgw_"
      },
      "source": [
        "isBisiesto(2021)"
      ],
      "execution_count": null,
      "outputs": []
    },
    {
      "cell_type": "code",
      "metadata": {
        "id": "jsJl0kACDgxA"
      },
      "source": [
        "isBisiesto(2020)"
      ],
      "execution_count": null,
      "outputs": []
    },
    {
      "cell_type": "markdown",
      "metadata": {
        "id": "tgtysN94DgxA"
      },
      "source": [
        "<font color='green'>Fin actividad 5</font>"
      ]
    }
  ]
}