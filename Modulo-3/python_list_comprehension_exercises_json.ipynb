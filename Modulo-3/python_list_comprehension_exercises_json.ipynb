{
  "cells": [
    {
      "cell_type": "markdown",
      "metadata": {
        "id": "view-in-github",
        "colab_type": "text"
      },
      "source": [
        "<a href=\"https://colab.research.google.com/github/NatSama2/Bootcamp-Analisis-de-Datos/blob/main/Modulo-3/python_list_comprehension_exercises_json.ipynb\" target=\"_parent\"><img src=\"https://colab.research.google.com/assets/colab-badge.svg\" alt=\"Open In Colab\"/></a>"
      ]
    },
    {
      "cell_type": "markdown",
      "metadata": {
        "id": "title_cell"
      },
      "source": [
        "# 50 Ejercicios de Listas de Comprensión en Python\n",
        "\n",
        "Este notebook contiene 50 ejercicios progresivos para practicar listas de comprensión en Python.\n",
        "\n",
        "## Instrucciones:\n",
        "- Cada ejercicio tiene una descripción del problema\n",
        "- Implementa tu solución usando listas de comprensión\n",
        "- Algunos ejercicios incluyen casos de prueba para verificar tu solución\n",
        "- Los ejercicios van de básico a avanzado\n",
        "\n",
        "---"
      ]
    },
    {
      "cell_type": "markdown",
      "metadata": {
        "id": "basic_section"
      },
      "source": [
        "## Ejercicios Básicos (1-15)"
      ]
    },
    {
      "cell_type": "markdown",
      "metadata": {
        "id": "exercise_1"
      },
      "source": [
        "### Ejercicio 1\n",
        "Crea una lista con los cuadrados de los números del 1 al 10."
      ]
    },
    {
      "cell_type": "code",
      "execution_count": 2,
      "metadata": {
        "id": "solution_1",
        "outputId": "2b731e7f-16ba-4d65-849c-9ffa109996a4",
        "colab": {
          "base_uri": "https://localhost:8080/"
        }
      },
      "outputs": [
        {
          "output_type": "stream",
          "name": "stdout",
          "text": [
            "[1, 4, 9, 16, 25, 36, 49, 64, 81, 100]\n"
          ]
        }
      ],
      "source": [
        "# Tu solución aquí\n",
        "cuadrados =  [x**2 for x in range(1, 11)]\n",
        "\n",
        "print(cuadrados)\n",
        "# Resultado esperado: [1, 4, 9, 16, 25, 36, 49, 64, 81, 100]"
      ]
    },
    {
      "cell_type": "markdown",
      "metadata": {
        "id": "exercise_2"
      },
      "source": [
        "### Ejercicio 2\n",
        "Crea una lista con todos los números pares del 1 al 20."
      ]
    },
    {
      "cell_type": "code",
      "execution_count": 3,
      "metadata": {
        "id": "solution_2",
        "outputId": "1250e09a-4cbf-48f1-b437-079372fe2c5c",
        "colab": {
          "base_uri": "https://localhost:8080/"
        }
      },
      "outputs": [
        {
          "output_type": "stream",
          "name": "stdout",
          "text": [
            "[2, 4, 6, 8, 10, 12, 14, 16, 18, 20]\n"
          ]
        }
      ],
      "source": [
        "# Tu solución aquí\n",
        "pares = [x for x in range(1, 21) if x % 2 == 0]\n",
        "\n",
        "print(pares)\n",
        "# Resultado esperado: [2, 4, 6, 8, 10, 12, 14, 16, 18, 20]"
      ]
    },
    {
      "cell_type": "markdown",
      "metadata": {
        "id": "exercise_3"
      },
      "source": [
        "### Ejercicio 3\n",
        "Dada una lista de palabras, crea una nueva lista con la longitud de cada palabra."
      ]
    },
    {
      "cell_type": "code",
      "execution_count": 4,
      "metadata": {
        "id": "solution_3",
        "outputId": "751cae02-7999-49cd-8d16-e37762bd643a",
        "colab": {
          "base_uri": "https://localhost:8080/"
        }
      },
      "outputs": [
        {
          "output_type": "stream",
          "name": "stdout",
          "text": [
            "[6, 5, 11, 9, 6]\n"
          ]
        }
      ],
      "source": [
        "palabras = [\"python\", \"lista\", \"comprensión\", \"ejercicio\", \"código\"]\n",
        "\n",
        "# Tu solución aquí\n",
        "longitudes = [len(palabra) for palabra in palabras]\n",
        "\n",
        "print(longitudes)\n",
        "# Resultado esperado: [6, 5, 11, 9, 6]"
      ]
    },
    {
      "cell_type": "markdown",
      "metadata": {
        "id": "exercise_4"
      },
      "source": [
        "### Ejercicio 4\n",
        "Crea una lista con todas las palabras que tengan más de 5 letras."
      ]
    },
    {
      "cell_type": "code",
      "execution_count": 5,
      "metadata": {
        "id": "solution_4",
        "outputId": "9c1f6b7e-c268-4d53-89d5-a4e49d4728f7",
        "colab": {
          "base_uri": "https://localhost:8080/"
        }
      },
      "outputs": [
        {
          "output_type": "stream",
          "name": "stdout",
          "text": [
            "['programación', 'computadora', 'universidad']\n"
          ]
        }
      ],
      "source": [
        "palabras = [\"casa\", \"programación\", \"auto\", \"computadora\", \"sol\", \"universidad\"]\n",
        "\n",
        "# Tu solución aquí\n",
        "palabras_largas = [palabra for palabra in palabras if len(palabra) > 5]\n",
        "\n",
        "print(palabras_largas)\n",
        "# Resultado esperado: ['programación', 'computadora', 'universidad']"
      ]
    },
    {
      "cell_type": "markdown",
      "metadata": {
        "id": "exercise_5"
      },
      "source": [
        "### Ejercicio 5\n",
        "Convierte todas las palabras de una lista a mayúsculas."
      ]
    },
    {
      "cell_type": "code",
      "execution_count": 6,
      "metadata": {
        "id": "solution_5",
        "outputId": "f267d901-e46e-49cb-b091-36865e16da65",
        "colab": {
          "base_uri": "https://localhost:8080/"
        }
      },
      "outputs": [
        {
          "output_type": "stream",
          "name": "stdout",
          "text": [
            "['MANZANA', 'BANANA', 'NARANJA', 'UVA', 'PERA']\n"
          ]
        }
      ],
      "source": [
        "frutas = [\"manzana\", \"banana\", \"naranja\", \"uva\", \"pera\"]\n",
        "\n",
        "# Tu solución aquí\n",
        "frutas_mayus = [fruta.upper() for fruta in frutas]\n",
        "\n",
        "print(frutas_mayus)\n",
        "# Resultado esperado: ['MANZANA', 'BANANA', 'NARANJA', 'UVA', 'PERA']"
      ]
    },
    {
      "cell_type": "markdown",
      "metadata": {
        "id": "exercise_6"
      },
      "source": [
        "### Ejercicio 6\n",
        "Crea una lista con los números del 1 al 15 que sean divisibles por 3."
      ]
    },
    {
      "cell_type": "code",
      "execution_count": 7,
      "metadata": {
        "id": "solution_6",
        "outputId": "032a53f8-dd76-4aad-bde8-cc3f5f8ffec8",
        "colab": {
          "base_uri": "https://localhost:8080/"
        }
      },
      "outputs": [
        {
          "output_type": "stream",
          "name": "stdout",
          "text": [
            "[3, 6, 9, 12, 15]\n"
          ]
        }
      ],
      "source": [
        "# Tu solución aquí\n",
        "divisibles_3 = [x for x in range(1, 16) if x % 3 == 0]\n",
        "\n",
        "print(divisibles_3)\n",
        "# Resultado esperado: [3, 6, 9, 12, 15]"
      ]
    },
    {
      "cell_type": "markdown",
      "metadata": {
        "id": "exercise_7"
      },
      "source": [
        "### Ejercicio 7\n",
        "Dada una lista de números, crea una nueva lista solo con los números positivos."
      ]
    },
    {
      "cell_type": "code",
      "execution_count": 8,
      "metadata": {
        "id": "solution_7",
        "outputId": "e871d95a-f775-4d45-d823-d293ea99d970",
        "colab": {
          "base_uri": "https://localhost:8080/"
        }
      },
      "outputs": [
        {
          "output_type": "stream",
          "name": "stdout",
          "text": [
            "[3, 8, 7, 4]\n"
          ]
        }
      ],
      "source": [
        "numeros = [-5, 3, -2, 8, -1, 0, 7, -9, 4]\n",
        "\n",
        "# Tu solución aquí\n",
        "positivos = [n for n in numeros if n > 0]\n",
        "\n",
        "print(positivos)\n",
        "# Resultado esperado: [3, 8, 7, 4]"
      ]
    },
    {
      "cell_type": "markdown",
      "metadata": {
        "id": "exercise_8"
      },
      "source": [
        "### Ejercicio 8\n",
        "Crea una lista con las vocales de una palabra dada."
      ]
    },
    {
      "cell_type": "code",
      "execution_count": 9,
      "metadata": {
        "id": "solution_8",
        "outputId": "e8a7822c-7a8b-4738-fe7e-473e8a73b1bf",
        "colab": {
          "base_uri": "https://localhost:8080/"
        }
      },
      "outputs": [
        {
          "output_type": "stream",
          "name": "stdout",
          "text": [
            "['o', 'a', 'a', 'i', 'o']\n"
          ]
        }
      ],
      "source": [
        "palabra = \"programacion\"\n",
        "vocales = \"aeiou\"\n",
        "\n",
        "# Tu solución aquí\n",
        "vocales_encontradas = [letra for letra in palabra if letra in vocales]\n",
        "\n",
        "print(vocales_encontradas)\n",
        "# Resultado esperado: ['o', 'a', 'a', 'i', 'o']"
      ]
    },
    {
      "cell_type": "markdown",
      "metadata": {
        "id": "exercise_9"
      },
      "source": [
        "### Ejercicio 9\n",
        "Crea una lista con los primeros 10 números de la tabla del 5."
      ]
    },
    {
      "cell_type": "code",
      "execution_count": 10,
      "metadata": {
        "id": "solution_9",
        "outputId": "d8ae71ca-d96d-4dec-a4f1-680ede0c1b33",
        "colab": {
          "base_uri": "https://localhost:8080/"
        }
      },
      "outputs": [
        {
          "output_type": "stream",
          "name": "stdout",
          "text": [
            "[5, 10, 15, 20, 25, 30, 35, 40, 45, 50]\n"
          ]
        }
      ],
      "source": [
        "# Tu solución aquí\n",
        "tabla_5 = [5 * x for x in range(1, 11)]\n",
        "\n",
        "print(tabla_5)\n",
        "# Resultado esperado: [5, 10, 15, 20, 25, 30, 35, 40, 45, 50]"
      ]
    },
    {
      "cell_type": "markdown",
      "metadata": {
        "id": "exercise_10"
      },
      "source": [
        "### Ejercicio 10\n",
        "Dada una lista de strings, crea una nueva lista con solo las que empiecen con 'A' o 'a'."
      ]
    },
    {
      "cell_type": "code",
      "execution_count": 12,
      "metadata": {
        "id": "solution_10",
        "outputId": "9c0e2470-c602-4852-e104-5d9f2530ba96",
        "colab": {
          "base_uri": "https://localhost:8080/"
        }
      },
      "outputs": [
        {
          "output_type": "stream",
          "name": "stdout",
          "text": [
            "['Auto', 'Avión', 'árbol', 'Animal']\n"
          ]
        }
      ],
      "source": [
        "palabras = [\"Auto\", \"casa\", \"Avión\", \"bicicleta\", \"árbol\", \"computadora\", \"Animal\"]\n",
        "\n",
        "# Tu solución aquí\n",
        "palabras_a = [palabra for palabra in palabras if palabra[0].lower() in 'aá']\n",
        "\n",
        "print(palabras_a)\n",
        "# Resultado esperado: ['Auto', 'Avión', 'árbol', 'Animal']"
      ]
    },
    {
      "cell_type": "markdown",
      "metadata": {
        "id": "exercise_11"
      },
      "source": [
        "### Ejercicio 11\n",
        "Crea una lista con el doble de cada número de una lista dada."
      ]
    },
    {
      "cell_type": "code",
      "execution_count": 13,
      "metadata": {
        "id": "solution_11",
        "outputId": "63afbabb-8b7d-462f-f502-524c4cd81fcf",
        "colab": {
          "base_uri": "https://localhost:8080/"
        }
      },
      "outputs": [
        {
          "output_type": "stream",
          "name": "stdout",
          "text": [
            "[2, 8, 14, 4, 18, 6]\n"
          ]
        }
      ],
      "source": [
        "numeros = [1, 4, 7, 2, 9, 3]\n",
        "\n",
        "# Tu solución aquí\n",
        "dobles = [2 * n for n in numeros]\n",
        "\n",
        "print(dobles)\n",
        "# Resultado esperado: [2, 8, 14, 4, 18, 6]"
      ]
    },
    {
      "cell_type": "markdown",
      "metadata": {
        "id": "exercise_12"
      },
      "source": [
        "### Ejercicio 12\n",
        "Crea una lista con los números del 1 al 20 que NO sean múltiplos de 4."
      ]
    },
    {
      "cell_type": "code",
      "execution_count": 14,
      "metadata": {
        "id": "solution_12",
        "outputId": "5864682e-0ec8-4703-d95e-3e013ec69f6a",
        "colab": {
          "base_uri": "https://localhost:8080/"
        }
      },
      "outputs": [
        {
          "output_type": "stream",
          "name": "stdout",
          "text": [
            "[1, 2, 3, 5, 6, 7, 9, 10, 11, 13, 14, 15, 17, 18, 19]\n"
          ]
        }
      ],
      "source": [
        "# Tu solución aquí\n",
        "no_multiplos_4 = [x for x in range(1, 21) if x % 4 != 0]\n",
        "\n",
        "print(no_multiplos_4)\n",
        "# Resultado esperado: [1, 2, 3, 5, 6, 7, 9, 10, 11, 13, 14, 15, 17, 18, 19]"
      ]
    },
    {
      "cell_type": "markdown",
      "metadata": {
        "id": "exercise_13"
      },
      "source": [
        "### Ejercicio 13\n",
        "Dada una lista de números, crea una nueva con 'par' o 'impar' según corresponda."
      ]
    },
    {
      "cell_type": "code",
      "execution_count": 15,
      "metadata": {
        "id": "solution_13",
        "outputId": "4f874069-b453-455c-d490-3188e2d6d780",
        "colab": {
          "base_uri": "https://localhost:8080/"
        }
      },
      "outputs": [
        {
          "output_type": "stream",
          "name": "stdout",
          "text": [
            "['impar', 'par', 'impar', 'par', 'impar', 'par', 'impar', 'par']\n"
          ]
        }
      ],
      "source": [
        "numeros = [1, 2, 3, 4, 5, 6, 7, 8]\n",
        "\n",
        "# Tu solución aquí\n",
        "par_impar = ['par' if n % 2 == 0 else 'impar' for n in numeros]\n",
        "\n",
        "print(par_impar)\n",
        "# Resultado esperado: ['impar', 'par', 'impar', 'par', 'impar', 'par', 'impar', 'par']"
      ]
    },
    {
      "cell_type": "markdown",
      "metadata": {
        "id": "exercise_14"
      },
      "source": [
        "### Ejercicio 14\n",
        "Crea una lista con las palabras de un string separadas por espacios, pero solo las que tengan más de 3 caracteres."
      ]
    },
    {
      "cell_type": "code",
      "execution_count": null,
      "metadata": {
        "id": "solution_14"
      },
      "outputs": [],
      "source": [
        "frase = \"Python es un lenguaje de programación muy fácil de aprender\"\n",
        "\n",
        "# Tu solución aquí\n",
        "palabras_largas =\n",
        "\n",
        "print(palabras_largas)\n",
        "# Resultado esperado: ['Python', 'lenguaje', 'programación', 'muy', 'fácil', 'aprender']"
      ]
    },
    {
      "cell_type": "markdown",
      "metadata": {
        "id": "exercise_15"
      },
      "source": [
        "### Ejercicio 15\n",
        "Crea una lista con la raíz cuadrada de los números perfectos del 1 al 100."
      ]
    },
    {
      "cell_type": "code",
      "execution_count": null,
      "metadata": {
        "id": "solution_15"
      },
      "outputs": [],
      "source": [
        "import math\n",
        "\n",
        "# Tu solución aquí\n",
        "raices_cuadradas =\n",
        "\n",
        "print(raices_cuadradas)\n",
        "# Resultado esperado: [1.0, 2.0, 3.0, 4.0, 5.0, 6.0, 7.0, 8.0, 9.0, 10.0]"
      ]
    },
    {
      "cell_type": "markdown",
      "metadata": {
        "id": "intermediate_section"
      },
      "source": [
        "## Ejercicios Intermedios (16-35)"
      ]
    },
    {
      "cell_type": "markdown",
      "metadata": {
        "id": "exercise_16"
      },
      "source": [
        "### Ejercicio 16\n",
        "Crea una lista de tuplas con (número, cuadrado) para números del 1 al 10."
      ]
    },
    {
      "cell_type": "code",
      "execution_count": null,
      "metadata": {
        "id": "solution_16"
      },
      "outputs": [],
      "source": [
        "# Tu solución aquí\n",
        "num_cuadrado =\n",
        "\n",
        "print(num_cuadrado)\n",
        "# Resultado esperado: [(1, 1), (2, 4), (3, 9), (4, 16), (5, 25), (6, 36), (7, 49), (8, 64), (9, 81), (10, 100)]"
      ]
    },
    {
      "cell_type": "markdown",
      "metadata": {
        "id": "exercise_17"
      },
      "source": [
        "### Ejercicio 17\n",
        "Dadas dos listas, crea una nueva con la suma elemento por elemento."
      ]
    },
    {
      "cell_type": "code",
      "execution_count": null,
      "metadata": {
        "id": "solution_17"
      },
      "outputs": [],
      "source": [
        "lista1 = [1, 2, 3, 4, 5]\n",
        "lista2 = [10, 20, 30, 40, 50]\n",
        "\n",
        "# Tu solución aquí\n",
        "suma_listas =\n",
        "\n",
        "print(suma_listas)\n",
        "# Resultado esperado: [11, 22, 33, 44, 55]"
      ]
    },
    {
      "cell_type": "markdown",
      "metadata": {
        "id": "exercise_18"
      },
      "source": [
        "### Ejercicio 18\n",
        "Crea una lista con todos los caracteres de un string que sean dígitos."
      ]
    },
    {
      "cell_type": "code",
      "execution_count": null,
      "metadata": {
        "id": "solution_18"
      },
      "outputs": [],
      "source": [
        "texto = \"abc123def456ghi789\"\n",
        "\n",
        "# Tu solución aquí\n",
        "digitos =\n",
        "\n",
        "print(digitos)\n",
        "# Resultado esperado: ['1', '2', '3', '4', '5', '6', '7', '8', '9']"
      ]
    },
    {
      "cell_type": "markdown",
      "metadata": {
        "id": "exercise_19"
      },
      "source": [
        "### Ejercicio 19\n",
        "Crea una lista con las palabras de longitud par de una lista dada."
      ]
    },
    {
      "cell_type": "code",
      "execution_count": null,
      "metadata": {
        "id": "solution_19"
      },
      "outputs": [],
      "source": [
        "palabras = [\"python\", \"java\", \"javascript\", \"go\", \"rust\", \"scala\"]\n",
        "\n",
        "# Tu solución aquí\n",
        "longitud_par =\n",
        "\n",
        "print(longitud_par)\n",
        "# Resultado esperado: ['python', 'java', 'javascript', 'go', 'rust', 'scala']"
      ]
    },
    {
      "cell_type": "markdown",
      "metadata": {
        "id": "exercise_20"
      },
      "source": [
        "### Ejercicio 20\n",
        "Crea una lista con números del 1 al 50 que sean múltiplos de 3 o 5."
      ]
    },
    {
      "cell_type": "code",
      "execution_count": null,
      "metadata": {
        "id": "solution_20"
      },
      "outputs": [],
      "source": [
        "# Tu solución aquí\n",
        "multiplos_3_o_5 =\n",
        "\n",
        "print(multiplos_3_o_5)"
      ]
    },
    {
      "cell_type": "markdown",
      "metadata": {
        "id": "exercise_21"
      },
      "source": [
        "### Ejercicio 21\n",
        "Dada una lista de listas, crea una lista plana con todos los elementos."
      ]
    },
    {
      "cell_type": "code",
      "execution_count": null,
      "metadata": {
        "id": "solution_21"
      },
      "outputs": [],
      "source": [
        "listas = [[1, 2, 3], [4, 5], [6, 7, 8, 9], [10]]\n",
        "\n",
        "# Tu solución aquí\n",
        "lista_plana =\n",
        "\n",
        "print(lista_plana)\n",
        "# Resultado esperado: [1, 2, 3, 4, 5, 6, 7, 8, 9, 10]"
      ]
    },
    {
      "cell_type": "markdown",
      "metadata": {
        "id": "exercise_22"
      },
      "source": [
        "### Ejercicio 22\n",
        "Crea una lista con las primeras letras de cada palabra en una frase."
      ]
    },
    {
      "cell_type": "code",
      "execution_count": null,
      "metadata": {
        "id": "solution_22"
      },
      "outputs": [],
      "source": [
        "frase = \"Lista de comprensión en Python es muy útil\"\n",
        "\n",
        "# Tu solución aquí\n",
        "primeras_letras =\n",
        "\n",
        "print(primeras_letras)\n",
        "# Resultado esperado: ['L', 'd', 'c', 'e', 'P', 'e', 'm', 'ú']"
      ]
    },
    {
      "cell_type": "markdown",
      "metadata": {
        "id": "exercise_23"
      },
      "source": [
        "### Ejercicio 23\n",
        "Crea una lista con números del 1 al 100 cuya suma de dígitos sea mayor a 10."
      ]
    },
    {
      "cell_type": "code",
      "execution_count": null,
      "metadata": {
        "id": "solution_23"
      },
      "outputs": [],
      "source": [
        "# Tu solución aquí\n",
        "suma_digitos_mayor_10 =\n",
        "\n",
        "print(suma_digitos_mayor_10[:10])  # Mostrar solo los primeros 10"
      ]
    },
    {
      "cell_type": "markdown",
      "metadata": {
        "id": "exercise_24"
      },
      "source": [
        "### Ejercicio 24\n",
        "Dada una lista de strings, crea una nueva con solo las que contengan la letra 'a'."
      ]
    },
    {
      "cell_type": "code",
      "execution_count": null,
      "metadata": {
        "id": "solution_24"
      },
      "outputs": [],
      "source": [
        "palabras = [\"perro\", \"gato\", \"ratón\", \"elefante\", \"tigre\", \"jirafa\", \"león\"]\n",
        "\n",
        "# Tu solución aquí\n",
        "con_a =\n",
        "\n",
        "print(con_a)\n",
        "# Resultado esperado: ['gato', 'ratón', 'elefante', 'jirafa']"
      ]
    },
    {
      "cell_type": "markdown",
      "metadata": {
        "id": "exercise_25"
      },
      "source": [
        "### Ejercicio 25\n",
        "Crea una lista con el factorial de los números del 1 al 8."
      ]
    },
    {
      "cell_type": "code",
      "execution_count": null,
      "metadata": {
        "id": "solution_25"
      },
      "outputs": [],
      "source": [
        "import math\n",
        "\n",
        "# Tu solución aquí\n",
        "factoriales =\n",
        "\n",
        "print(factoriales)\n",
        "# Resultado esperado: [1, 2, 6, 24, 120, 720, 5040, 40320]"
      ]
    },
    {
      "cell_type": "markdown",
      "metadata": {
        "id": "exercise_26"
      },
      "source": [
        "### Ejercicio 26\n",
        "Dada una matriz (lista de listas), crea una lista con las sumas de cada fila."
      ]
    },
    {
      "cell_type": "code",
      "execution_count": null,
      "metadata": {
        "id": "solution_26"
      },
      "outputs": [],
      "source": [
        "matriz = [[1, 2, 3], [4, 5, 6], [7, 8, 9], [10, 11, 12]]\n",
        "\n",
        "# Tu solución aquí\n",
        "sumas_filas =\n",
        "\n",
        "print(sumas_filas)\n",
        "# Resultado esperado: [6, 15, 24, 33]"
      ]
    },
    {
      "cell_type": "markdown",
      "metadata": {
        "id": "exercise_27"
      },
      "source": [
        "### Ejercicio 27\n",
        "Crea una lista con los números primos del 2 al 50."
      ]
    },
    {
      "cell_type": "code",
      "execution_count": null,
      "metadata": {
        "id": "solution_27"
      },
      "outputs": [],
      "source": [
        "# Función auxiliar para verificar si un número es primo\n",
        "def es_primo(n):\n",
        "    if n < 2:\n",
        "        return False\n",
        "    for i in range(2, int(n**0.5) + 1):\n",
        "        if n % i == 0:\n",
        "            return False\n",
        "    return True\n",
        "\n",
        "# Tu solución aquí\n",
        "primos =\n",
        "\n",
        "print(primos)\n",
        "# Resultado esperado: [2, 3, 5, 7, 11, 13, 17, 19, 23, 29, 31, 37, 41, 43, 47]"
      ]
    },
    {
      "cell_type": "markdown",
      "metadata": {
        "id": "exercise_28"
      },
      "source": [
        "### Ejercicio 28\n",
        "Dada una lista de diccionarios con información de estudiantes, crea una lista con los nombres de los que tienen nota >= 7."
      ]
    },
    {
      "cell_type": "code",
      "execution_count": null,
      "metadata": {
        "id": "solution_28"
      },
      "outputs": [],
      "source": [
        "estudiantes = [\n",
        "    {\"nombre\": \"Ana\", \"nota\": 8.5},\n",
        "    {\"nombre\": \"Juan\", \"nota\": 6.2},\n",
        "    {\"nombre\": \"María\", \"nota\": 9.1},\n",
        "    {\"nombre\": \"Pedro\", \"nota\": 5.8},\n",
        "    {\"nombre\": \"Sofía\", \"nota\": 7.3}\n",
        "]\n",
        "\n",
        "# Tu solución aquí\n",
        "aprobados =\n",
        "\n",
        "print(aprobados)\n",
        "# Resultado esperado: ['Ana', 'María', 'Sofía']"
      ]
    },
    {
      "cell_type": "markdown",
      "metadata": {
        "id": "exercise_29"
      },
      "source": [
        "### Ejercicio 29\n",
        "Crea una lista con tuplas (índice, valor) para elementos pares de una lista."
      ]
    },
    {
      "cell_type": "code",
      "execution_count": null,
      "metadata": {
        "id": "solution_29"
      },
      "outputs": [],
      "source": [
        "numeros = [10, 15, 20, 25, 30, 35, 40, 45, 50]\n",
        "\n",
        "# Tu solución aquí\n",
        "indices_pares =\n",
        "\n",
        "print(indices_pares)\n",
        "# Resultado esperado: [(0, 10), (2, 20), (4, 30), (6, 40), (8, 50)]"
      ]
    },
    {
      "cell_type": "markdown",
      "metadata": {
        "id": "exercise_30"
      },
      "source": [
        "### Ejercicio 30\n",
        "Crea una lista con las palabras palíndromas de una lista dada."
      ]
    },
    {
      "cell_type": "code",
      "execution_count": null,
      "metadata": {
        "id": "solution_30"
      },
      "outputs": [],
      "source": [
        "palabras = [\"oso\", \"casa\", \"radar\", \"python\", \"aba\", \"reconocer\", \"salas\"]\n",
        "\n",
        "# Tu solución aquí\n",
        "palindromas =\n",
        "\n",
        "print(palindromas)\n",
        "# Resultado esperado: ['oso', 'radar', 'aba', 'reconocer', 'salas']"
      ]
    },
    {
      "cell_type": "markdown",
      "metadata": {
        "id": "exercise_31"
      },
      "source": [
        "### Ejercicio 31\n",
        "Dada una cadena, crea una lista con las posiciones de todas las vocales."
      ]
    },
    {
      "cell_type": "code",
      "execution_count": null,
      "metadata": {
        "id": "solution_31"
      },
      "outputs": [],
      "source": [
        "texto = \"programacion\"\n",
        "vocales = \"aeiou\"\n",
        "\n",
        "# Tu solución aquí\n",
        "posiciones_vocales =\n",
        "\n",
        "print(posiciones_vocales)\n",
        "# Resultado esperado: [2, 5, 6, 8, 11]"
      ]
    },
    {
      "cell_type": "markdown",
      "metadata": {
        "id": "exercise_32"
      },
      "source": [
        "### Ejercicio 32\n",
        "Crea una lista con números del 1 al 30 que sean divisibles por 2 Y por 3."
      ]
    },
    {
      "cell_type": "code",
      "execution_count": null,
      "metadata": {
        "id": "solution_32"
      },
      "outputs": [],
      "source": [
        "# Tu solución aquí\n",
        "divisibles_2_y_3 =\n",
        "\n",
        "print(divisibles_2_y_3)\n",
        "# Resultado esperado: [6, 12, 18, 24, 30]"
      ]
    },
    {
      "cell_type": "markdown",
      "metadata": {
        "id": "exercise_33"
      },
      "source": [
        "### Ejercicio 33\n",
        "Dada una lista de temperaturas en Celsius, crea una nueva con las temperaturas en Fahrenheit."
      ]
    },
    {
      "cell_type": "code",
      "execution_count": null,
      "metadata": {
        "id": "solution_33"
      },
      "outputs": [],
      "source": [
        "celsius = [0, 10, 20, 30, 40, 100]\n",
        "\n",
        "# Tu solución aquí (F = C * 9/5 + 32)\n",
        "fahrenheit =\n",
        "\n",
        "print(fahrenheit)\n",
        "# Resultado esperado: [32.0, 50.0, 68.0, 86.0, 104.0, 212.0]"
      ]
    },
    {
      "cell_type": "markdown",
      "metadata": {
        "id": "exercise_34"
      },
      "source": [
        "### Ejercicio 34\n",
        "Crea una lista con los elementos únicos de dos listas combinadas."
      ]
    },
    {
      "cell_type": "code",
      "execution_count": null,
      "metadata": {
        "id": "solution_34"
      },
      "outputs": [],
      "source": [
        "lista1 = [1, 2, 3, 4, 5]\n",
        "lista2 = [4, 5, 6, 7, 8]\n",
        "\n",
        "# Tu solución aquí\n",
        "elementos_unicos =\n",
        "\n",
        "print(sorted(elementos_unicos))\n",
        "# Resultado esperado: [1, 2, 3, 4, 5, 6, 7, 8]"
      ]
    },
    {
      "cell_type": "markdown",
      "metadata": {
        "id": "exercise_35"
      },
      "source": [
        "### Ejercicio 35\n",
        "Dada una lista de strings, crea una nueva con las palabras invertidas."
      ]
    },
    {
      "cell_type": "code",
      "execution_count": null,
      "metadata": {
        "id": "solution_35"
      },
      "outputs": [],
      "source": [
        "palabras = [\"python\", \"java\", \"javascript\", \"go\", \"rust\"]\n",
        "\n",
        "# Tu solución aquí\n",
        "palabras_invertidas =\n",
        "\n",
        "print(palabras_invertidas)\n",
        "# Resultado esperado: ['nohtyp', 'avaj', 'tpircsavaj', 'og', 'tsur']"
      ]
    },
    {
      "cell_type": "markdown",
      "metadata": {
        "id": "advanced_section"
      },
      "source": [
        "## Ejercicios Avanzados (36-50)"
      ]
    },
    {
      "cell_type": "markdown",
      "metadata": {
        "id": "exercise_36"
      },
      "source": [
        "### Ejercicio 36\n",
        "Crea una lista con todas las combinaciones posibles de dos listas."
      ]
    },
    {
      "cell_type": "code",
      "execution_count": null,
      "metadata": {
        "id": "solution_36"
      },
      "outputs": [],
      "source": [
        "colores = [\"rojo\", \"azul\"]\n",
        "tamaños = [\"S\", \"M\", \"L\"]\n",
        "\n",
        "# Tu solución aquí\n",
        "combinaciones =\n",
        "\n",
        "print(combinaciones)\n",
        "# Resultado esperado: [('rojo', 'S'), ('rojo', 'M'), ('rojo', 'L'), ('azul', 'S'), ('azul', 'M'), ('azul', 'L')]"
      ]
    },
    {
      "cell_type": "markdown",
      "metadata": {
        "id": "exercise_37"
      },
      "source": [
        "### Ejercicio 37\n",
        "Dada una matriz, crea una lista con los elementos de la diagonal principal."
      ]
    },
    {
      "cell_type": "code",
      "execution_count": null,
      "metadata": {
        "id": "solution_37"
      },
      "outputs": [],
      "source": [
        "matriz = [\n",
        "    [1, 2, 3],\n",
        "    [4, 5, 6],\n",
        "    [7, 8, 9]\n",
        "]\n",
        "\n",
        "# Tu solución aquí\n",
        "diagonal =\n",
        "\n",
        "print(diagonal)\n",
        "# Resultado esperado: [1, 5, 9]"
      ]
    },
    {
      "cell_type": "markdown",
      "metadata": {
        "id": "exercise_38"
      },
      "source": [
        "### Ejercicio 38\n",
        "Crea una lista con números de Fibonacci menores a 100."
      ]
    },
    {
      "cell_type": "code",
      "execution_count": null,
      "metadata": {
        "id": "solution_38"
      },
      "outputs": [],
      "source": [
        "# Primero generamos los números de Fibonacci\n",
        "def generar_fibonacci(limite):\n",
        "    fib = [0, 1]\n",
        "    while fib[-1] + fib[-2] < limite:\n",
        "        fib.append(fib[-1] + fib[-2])\n",
        "    return fib\n",
        "\n",
        "fibonacci_nums = generar_fibonacci(100)\n",
        "\n",
        "# Tu solución aquí usando list comprehension\n",
        "fibonacci_menores_100 =\n",
        "\n",
        "print(fibonacci_menores_100)\n",
        "# Resultado esperado: [0, 1, 1, 2, 3, 5, 8, 13, 21, 34, 55, 89]"
      ]
    },
    {
      "cell_type": "markdown",
      "metadata": {
        "id": "exercise_39"
      },
      "source": [
        "### Ejercicio 39\n",
        "Dada una lista de diccionarios de productos, crea una lista con los nombres de productos cuyo precio sea mayor al promedio."
      ]
    },
    {
      "cell_type": "code",
      "execution_count": null,
      "metadata": {
        "id": "solution_39"
      },
      "outputs": [],
      "source": [
        "productos = [\n",
        "    {\"nombre\": \"Laptop\", \"precio\": 1000},\n",
        "    {\"nombre\": \"Mouse\", \"precio\": 25},\n",
        "    {\"nombre\": \"Teclado\", \"precio\": 75},\n",
        "    {\"nombre\": \"Monitor\", \"precio\": 300},\n",
        "    {\"nombre\": \"Auriculares\", \"precio\": 50}\n",
        "]\n",
        "\n",
        "# Calcular el precio promedio\n",
        "precio_promedio = sum(p[\"precio\"] for p in productos) / len(productos)\n",
        "\n",
        "# Tu solución aquí\n",
        "productos_caros =\n",
        "\n",
        "print(f\"Precio promedio: {precio_promedio}\")\n",
        "print(f\"Productos caros: {productos_caros}\")\n",
        "# Resultado esperado: ['Laptop', 'Monitor']"
      ]
    },
    {
      "cell_type": "markdown",
      "metadata": {
        "id": "exercise_40"
      },
      "source": [
        "### Ejercicio 40\n",
        "Crea una lista con las palabras anagrama de una palabra dada dentro de una lista."
      ]
    },
    {
      "cell_type": "code",
      "execution_count": null,
      "metadata": {
        "id": "solution_40"
      },
      "outputs": [],
      "source": [
        "palabra_objetivo = \"amor\"\n",
        "palabras = [\"roma\", \"casa\", \"mora\", \"ramo\", \"perro\", \"armo\"]\n",
        "\n",
        "# Tu solución aquí\n",
        "anagramas =\n",
        "\n",
        "print(anagramas)\n",
        "# Resultado esperado: ['roma', 'mora', 'ramo', 'armo']"
      ]
    },
    {
      "cell_type": "markdown",
      "metadata": {
        "id": "exercise_41"
      },
      "source": [
        "### Ejercicio 41\n",
        "Crea una lista anidada donde cada sublista contenga los divisores de números del 1 al 10."
      ]
    },
    {
      "cell_type": "code",
      "execution_count": null,
      "metadata": {
        "id": "solution_41"
      },
      "outputs": [],
      "source": [
        "# Tu solución aquí\n",
        "divisores =\n",
        "\n",
        "for i, div in enumerate(divisores, 1):\n",
        "    print(f\"Divisores de {i}: {div}\")\n",
        "# Resultado esperado:\n",
        "# Divisores de 1: [1]\n",
        "# Divisores de 2: [1, 2]\n",
        "# etc."
      ]
    },
    {
      "cell_type": "markdown",
      "metadata": {
        "id": "exercise_42"
      },
      "source": [
        "### Ejercicio 42\n",
        "Dada una lista de strings, crea un diccionario usando list comprehension donde la clave sea la palabra y el valor sea su longitud."
      ]
    },
    {
      "cell_type": "code",
      "execution_count": null,
      "metadata": {
        "id": "solution_42"
      },
      "outputs": [],
      "source": [
        "palabras = [\"python\", \"java\", \"javascript\", \"go\", \"rust\", \"kotlin\"]\n",
        "\n",
        "# Tu solución aquí (usa dict comprehension)\n",
        "dict_longitudes =\n",
        "\n",
        "print(dict_longitudes)\n",
        "# Resultado esperado: {'python': 6, 'java': 4, 'javascript': 10, 'go': 2, 'rust': 4, 'kotlin': 6}"
      ]
    },
    {
      "cell_type": "markdown",
      "metadata": {
        "id": "exercise_43"
      },
      "source": [
        "### Ejercicio 43\n",
        "Crea una lista con tuplas (palabra, frecuencia_vocales) para cada palabra en una lista."
      ]
    },
    {
      "cell_type": "code",
      "execution_count": null,
      "metadata": {
        "id": "solution_43"
      },
      "outputs": [],
      "source": [
        "palabras = [\"programacion\", \"python\", \"lista\", \"comprension\"]\n",
        "vocales = \"aeiou\"\n",
        "\n",
        "# Tu solución aquí\n",
        "frecuencia_vocales =\n",
        "\n",
        "print(frecuencia_vocales)\n",
        "# Resultado esperado: [('programacion', 5), ('python', 1), ('lista', 2), ('comprension', 4)]"
      ]
    },
    {
      "cell_type": "markdown",
      "metadata": {
        "id": "exercise_44"
      },
      "source": [
        "### Ejercicio 44\n",
        "Crea una matriz identidad de tamaño n usando list comprehension anidada."
      ]
    },
    {
      "cell_type": "code",
      "execution_count": null,
      "metadata": {
        "id": "solution_44"
      },
      "outputs": [],
      "source": [
        "n = 4\n",
        "\n",
        "# Tu solución aquí\n",
        "matriz_identidad =\n",
        "\n",
        "for fila in matriz_identidad:\n",
        "    print(fila)\n",
        "# Resultado esperado:\n",
        "# [1, 0, 0, 0]\n",
        "# [0, 1, 0, 0]\n",
        "# [0, 0, 1, 0]\n",
        "# [0, 0, 0, 1]"
      ]
    },
    {
      "cell_type": "markdown",
      "metadata": {
        "id": "exercise_45"
      },
      "source": [
        "### Ejercicio 45\n",
        "Dada una lista de números, crea una nueva lista con solo los números que aparecen exactamente una vez."
      ]
    },
    {
      "cell_type": "code",
      "execution_count": null,
      "metadata": {
        "id": "solution_45"
      },
      "outputs": [],
      "source": [
        "numeros = [1, 2, 3, 2, 4, 5, 1, 6, 7, 8, 7, 9]\n",
        "\n",
        "# Tu solución aquí\n",
        "unicos =\n",
        "\n",
        "print(unicos)\n",
        "# Resultado esperado: [3, 4, 5, 6, 8, 9]"
      ]
    },
    {
      "cell_type": "markdown",
      "metadata": {
        "id": "exercise_46"
      },
      "source": [
        "### Ejercicio 46\n",
        "Crea una lista con las diferencias entre elementos consecutivos de una lista."
      ]
    },
    {
      "cell_type": "code",
      "execution_count": null,
      "metadata": {
        "id": "solution_46"
      },
      "outputs": [],
      "source": [
        "numeros = [1, 4, 7, 2, 9, 5, 8]\n",
        "\n",
        "# Tu solución aquí\n",
        "diferencias =\n",
        "\n",
        "print(diferencias)\n",
        "# Resultado esperado: [3, 3, -5, 7, -4, 3]"
      ]
    },
    {
      "cell_type": "markdown",
      "metadata": {
        "id": "exercise_47"
      },
      "source": [
        "### Ejercicio 47\n",
        "Dada una lista de coordenadas (x, y), crea una nueva con las distancias al origen."
      ]
    },
    {
      "cell_type": "code",
      "execution_count": null,
      "metadata": {
        "id": "solution_47"
      },
      "outputs": [],
      "source": [
        "import math\n",
        "\n",
        "coordenadas = [(3, 4), (0, 5), (1, 1), (6, 8), (2, 2)]\n",
        "\n",
        "# Tu solución aquí\n",
        "distancias =\n",
        "\n",
        "print(distancias)\n",
        "# Resultado esperado: [5.0, 5.0, 1.414..., 10.0, 2.828...]"
      ]
    },
    {
      "cell_type": "markdown",
      "metadata": {
        "id": "exercise_48"
      },
      "source": [
        "### Ejercicio 48\n",
        "Crea una lista con todas las subcadenas de longitud 3 de una cadena dada."
      ]
    },
    {
      "cell_type": "code",
      "execution_count": null,
      "metadata": {
        "id": "solution_48"
      },
      "outputs": [],
      "source": [
        "cadena = \"python\"\n",
        "\n",
        "# Tu solución aquí\n",
        "subcadenas =\n",
        "\n",
        "print(subcadenas)\n",
        "# Resultado esperado: ['pyt', 'yth', 'tho', 'hon']"
      ]
    },
    {
      "cell_type": "markdown",
      "metadata": {
        "id": "exercise_49"
      },
      "source": [
        "### Ejercicio 49\n",
        "Dada una lista de listas con diferentes longitudes, crea una nueva lista con solo las listas que tengan longitud par."
      ]
    },
    {
      "cell_type": "code",
      "execution_count": null,
      "metadata": {
        "id": "solution_49"
      },
      "outputs": [],
      "source": [
        "listas = [[1, 2], [1, 2, 3], [4, 5, 6, 7], [8], [9, 10, 11, 12, 13], [14, 15, 16, 17]]\n",
        "\n",
        "# Tu solución aquí\n",
        "listas_longitud_par =\n",
        "\n",
        "print(listas_longitud_par)\n",
        "# Resultado esperado: [[1, 2], [4, 5, 6, 7], [14, 15, 16, 17]]"
      ]
    },
    {
      "cell_type": "markdown",
      "metadata": {
        "id": "exercise_50"
      },
      "source": [
        "### Ejercicio 50\n",
        "Crea una lista con los números del 1 al 100 donde cada número sea reemplazado por 'Fizz' si es divisible por 3, 'Buzz' si es divisible por 5, 'FizzBuzz' si es divisible por ambos, o el número mismo en otros casos."
      ]
    },
    {
      "cell_type": "code",
      "execution_count": null,
      "metadata": {
        "id": "solution_50"
      },
      "outputs": [],
      "source": [
        "# Tu solución aquí\n",
        "fizzbuzz =\n",
        "\n",
        "# Mostrar los primeros 20 elementos\n",
        "print(fizzbuzz[:20])\n",
        "# Resultado esperado: [1, 2, 'Fizz', 4, 'Buzz', 'Fizz', 7, 8, 'Fizz', 'Buzz', 11, 'Fizz', 13, 14, 'FizzBuzz', 16, 17, 'Fizz', 19, 'Buzz']"
      ]
    },
    {
      "cell_type": "markdown",
      "metadata": {
        "id": "conclusion"
      },
      "source": [
        "## ¡Felicitaciones! 🎉\n",
        "\n",
        "Has completado los 50 ejercicios de listas de comprensión en Python.\n",
        "\n",
        "### Resumen de conceptos practicados:\n",
        "- Listas de comprensión básicas\n",
        "- Filtros con condiciones\n",
        "- Transformaciones de datos\n",
        "- Listas de comprensión anidadas\n",
        "- Trabajo con strings y números\n",
        "- Operaciones matemáticas\n",
        "- Manipulación de estructuras de datos complejas\n",
        "- Combinación de múltiples técnicas\n",
        "\n",
        "### Próximos pasos:\n",
        "- Experimenta creando tus propios ejercicios\n",
        "- Aplica estas técnicas en proyectos reales\n",
        "- Explora dictionary comprehensions y set comprehensions\n",
        "- Practica con datasets más grandes\n",
        "\n",
        "¡Sigue practicando y mejorando tus habilidades en Python!"
      ]
    }
  ],
  "metadata": {
    "colab": {
      "provenance": [],
      "include_colab_link": true
    },
    "kernelspec": {
      "display_name": "Python 3",
      "name": "python3"
    },
    "language_info": {
      "name": "python"
    }
  },
  "nbformat": 4,
  "nbformat_minor": 0
}