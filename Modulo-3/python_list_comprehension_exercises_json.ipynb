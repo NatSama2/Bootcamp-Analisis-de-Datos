{
  "cells": [
    {
      "cell_type": "markdown",
      "metadata": {
        "id": "view-in-github",
        "colab_type": "text"
      },
      "source": [
        "<a href=\"https://colab.research.google.com/github/NatSama2/Bootcamp-Analisis-de-Datos/blob/main/Modulo-3/python_list_comprehension_exercises_json.ipynb\" target=\"_parent\"><img src=\"https://colab.research.google.com/assets/colab-badge.svg\" alt=\"Open In Colab\"/></a>"
      ]
    },
    {
      "cell_type": "markdown",
      "metadata": {
        "id": "title_cell"
      },
      "source": [
        "# 50 Ejercicios de Listas de Comprensión en Python\n",
        "\n",
        "Este notebook contiene 50 ejercicios progresivos para practicar listas de comprensión en Python.\n",
        "\n",
        "## Instrucciones:\n",
        "- Cada ejercicio tiene una descripción del problema\n",
        "- Implementa tu solución usando listas de comprensión\n",
        "- Algunos ejercicios incluyen casos de prueba para verificar tu solución\n",
        "- Los ejercicios van de básico a avanzado\n",
        "\n",
        "---"
      ]
    },
    {
      "cell_type": "markdown",
      "metadata": {
        "id": "basic_section"
      },
      "source": [
        "## Ejercicios Básicos (1-15)"
      ]
    },
    {
      "cell_type": "markdown",
      "metadata": {
        "id": "exercise_1"
      },
      "source": [
        "### Ejercicio 1\n",
        "Crea una lista con los cuadrados de los números del 1 al 10."
      ]
    },
    {
      "cell_type": "code",
      "execution_count": null,
      "metadata": {
        "id": "solution_1",
        "outputId": "2b731e7f-16ba-4d65-849c-9ffa109996a4",
        "colab": {
          "base_uri": "https://localhost:8080/"
        }
      },
      "outputs": [
        {
          "output_type": "stream",
          "name": "stdout",
          "text": [
            "[1, 4, 9, 16, 25, 36, 49, 64, 81, 100]\n"
          ]
        }
      ],
      "source": [
        "# Tu solución aquí\n",
        "cuadrados =  [x**2 for x in range(1, 11)]\n",
        "\n",
        "print(cuadrados)\n",
        "# Resultado esperado: [1, 4, 9, 16, 25, 36, 49, 64, 81, 100]"
      ]
    },
    {
      "cell_type": "markdown",
      "metadata": {
        "id": "exercise_2"
      },
      "source": [
        "### Ejercicio 2\n",
        "Crea una lista con todos los números pares del 1 al 20."
      ]
    },
    {
      "cell_type": "code",
      "execution_count": null,
      "metadata": {
        "id": "solution_2",
        "outputId": "1250e09a-4cbf-48f1-b437-079372fe2c5c",
        "colab": {
          "base_uri": "https://localhost:8080/"
        }
      },
      "outputs": [
        {
          "output_type": "stream",
          "name": "stdout",
          "text": [
            "[2, 4, 6, 8, 10, 12, 14, 16, 18, 20]\n"
          ]
        }
      ],
      "source": [
        "# Tu solución aquí\n",
        "pares = [x for x in range(1, 21) if x % 2 == 0]\n",
        "\n",
        "print(pares)\n",
        "# Resultado esperado: [2, 4, 6, 8, 10, 12, 14, 16, 18, 20]"
      ]
    },
    {
      "cell_type": "markdown",
      "metadata": {
        "id": "exercise_3"
      },
      "source": [
        "### Ejercicio 3\n",
        "Dada una lista de palabras, crea una nueva lista con la longitud de cada palabra."
      ]
    },
    {
      "cell_type": "code",
      "execution_count": null,
      "metadata": {
        "id": "solution_3",
        "outputId": "751cae02-7999-49cd-8d16-e37762bd643a",
        "colab": {
          "base_uri": "https://localhost:8080/"
        }
      },
      "outputs": [
        {
          "output_type": "stream",
          "name": "stdout",
          "text": [
            "[6, 5, 11, 9, 6]\n"
          ]
        }
      ],
      "source": [
        "palabras = [\"python\", \"lista\", \"comprensión\", \"ejercicio\", \"código\"]\n",
        "\n",
        "# Tu solución aquí\n",
        "longitudes = [len(palabra) for palabra in palabras]\n",
        "\n",
        "print(longitudes)\n",
        "# Resultado esperado: [6, 5, 11, 9, 6]"
      ]
    },
    {
      "cell_type": "markdown",
      "metadata": {
        "id": "exercise_4"
      },
      "source": [
        "### Ejercicio 4\n",
        "Crea una lista con todas las palabras que tengan más de 5 letras."
      ]
    },
    {
      "cell_type": "code",
      "execution_count": null,
      "metadata": {
        "id": "solution_4",
        "outputId": "9c1f6b7e-c268-4d53-89d5-a4e49d4728f7",
        "colab": {
          "base_uri": "https://localhost:8080/"
        }
      },
      "outputs": [
        {
          "output_type": "stream",
          "name": "stdout",
          "text": [
            "['programación', 'computadora', 'universidad']\n"
          ]
        }
      ],
      "source": [
        "palabras = [\"casa\", \"programación\", \"auto\", \"computadora\", \"sol\", \"universidad\"]\n",
        "\n",
        "# Tu solución aquí\n",
        "palabras_largas = [palabra for palabra in palabras if len(palabra) > 5]\n",
        "\n",
        "print(palabras_largas)\n",
        "# Resultado esperado: ['programación', 'computadora', 'universidad']"
      ]
    },
    {
      "cell_type": "markdown",
      "metadata": {
        "id": "exercise_5"
      },
      "source": [
        "### Ejercicio 5\n",
        "Convierte todas las palabras de una lista a mayúsculas."
      ]
    },
    {
      "cell_type": "code",
      "execution_count": null,
      "metadata": {
        "id": "solution_5",
        "outputId": "f267d901-e46e-49cb-b091-36865e16da65",
        "colab": {
          "base_uri": "https://localhost:8080/"
        }
      },
      "outputs": [
        {
          "output_type": "stream",
          "name": "stdout",
          "text": [
            "['MANZANA', 'BANANA', 'NARANJA', 'UVA', 'PERA']\n"
          ]
        }
      ],
      "source": [
        "frutas = [\"manzana\", \"banana\", \"naranja\", \"uva\", \"pera\"]\n",
        "\n",
        "# Tu solución aquí\n",
        "frutas_mayus = [fruta.upper() for fruta in frutas]\n",
        "\n",
        "print(frutas_mayus)\n",
        "# Resultado esperado: ['MANZANA', 'BANANA', 'NARANJA', 'UVA', 'PERA']"
      ]
    },
    {
      "cell_type": "markdown",
      "metadata": {
        "id": "exercise_6"
      },
      "source": [
        "### Ejercicio 6\n",
        "Crea una lista con los números del 1 al 15 que sean divisibles por 3."
      ]
    },
    {
      "cell_type": "code",
      "execution_count": null,
      "metadata": {
        "id": "solution_6",
        "outputId": "032a53f8-dd76-4aad-bde8-cc3f5f8ffec8",
        "colab": {
          "base_uri": "https://localhost:8080/"
        }
      },
      "outputs": [
        {
          "output_type": "stream",
          "name": "stdout",
          "text": [
            "[3, 6, 9, 12, 15]\n"
          ]
        }
      ],
      "source": [
        "# Tu solución aquí\n",
        "divisibles_3 = [x for x in range(1, 16) if x % 3 == 0]\n",
        "\n",
        "print(divisibles_3)\n",
        "# Resultado esperado: [3, 6, 9, 12, 15]"
      ]
    },
    {
      "cell_type": "markdown",
      "metadata": {
        "id": "exercise_7"
      },
      "source": [
        "### Ejercicio 7\n",
        "Dada una lista de números, crea una nueva lista solo con los números positivos."
      ]
    },
    {
      "cell_type": "code",
      "execution_count": null,
      "metadata": {
        "id": "solution_7",
        "outputId": "e871d95a-f775-4d45-d823-d293ea99d970",
        "colab": {
          "base_uri": "https://localhost:8080/"
        }
      },
      "outputs": [
        {
          "output_type": "stream",
          "name": "stdout",
          "text": [
            "[3, 8, 7, 4]\n"
          ]
        }
      ],
      "source": [
        "numeros = [-5, 3, -2, 8, -1, 0, 7, -9, 4]\n",
        "\n",
        "# Tu solución aquí\n",
        "positivos = [n for n in numeros if n > 0]\n",
        "\n",
        "print(positivos)\n",
        "# Resultado esperado: [3, 8, 7, 4]"
      ]
    },
    {
      "cell_type": "markdown",
      "metadata": {
        "id": "exercise_8"
      },
      "source": [
        "### Ejercicio 8\n",
        "Crea una lista con las vocales de una palabra dada."
      ]
    },
    {
      "cell_type": "code",
      "execution_count": null,
      "metadata": {
        "id": "solution_8",
        "outputId": "e8a7822c-7a8b-4738-fe7e-473e8a73b1bf",
        "colab": {
          "base_uri": "https://localhost:8080/"
        }
      },
      "outputs": [
        {
          "output_type": "stream",
          "name": "stdout",
          "text": [
            "['o', 'a', 'a', 'i', 'o']\n"
          ]
        }
      ],
      "source": [
        "palabra = \"programacion\"\n",
        "vocales = \"aeiou\"\n",
        "\n",
        "# Tu solución aquí\n",
        "vocales_encontradas = [letra for letra in palabra if letra in vocales]\n",
        "\n",
        "print(vocales_encontradas)\n",
        "# Resultado esperado: ['o', 'a', 'a', 'i', 'o']"
      ]
    },
    {
      "cell_type": "markdown",
      "metadata": {
        "id": "exercise_9"
      },
      "source": [
        "### Ejercicio 9\n",
        "Crea una lista con los primeros 10 números de la tabla del 5."
      ]
    },
    {
      "cell_type": "code",
      "execution_count": null,
      "metadata": {
        "id": "solution_9",
        "outputId": "d8ae71ca-d96d-4dec-a4f1-680ede0c1b33",
        "colab": {
          "base_uri": "https://localhost:8080/"
        }
      },
      "outputs": [
        {
          "output_type": "stream",
          "name": "stdout",
          "text": [
            "[5, 10, 15, 20, 25, 30, 35, 40, 45, 50]\n"
          ]
        }
      ],
      "source": [
        "# Tu solución aquí\n",
        "tabla_5 = [5 * x for x in range(1, 11)]\n",
        "\n",
        "print(tabla_5)\n",
        "# Resultado esperado: [5, 10, 15, 20, 25, 30, 35, 40, 45, 50]"
      ]
    },
    {
      "cell_type": "markdown",
      "metadata": {
        "id": "exercise_10"
      },
      "source": [
        "### Ejercicio 10\n",
        "Dada una lista de strings, crea una nueva lista con solo las que empiecen con 'A' o 'a'."
      ]
    },
    {
      "cell_type": "code",
      "execution_count": null,
      "metadata": {
        "id": "solution_10",
        "outputId": "9c0e2470-c602-4852-e104-5d9f2530ba96",
        "colab": {
          "base_uri": "https://localhost:8080/"
        }
      },
      "outputs": [
        {
          "output_type": "stream",
          "name": "stdout",
          "text": [
            "['Auto', 'Avión', 'árbol', 'Animal']\n"
          ]
        }
      ],
      "source": [
        "palabras = [\"Auto\", \"casa\", \"Avión\", \"bicicleta\", \"árbol\", \"computadora\", \"Animal\"]\n",
        "\n",
        "# Tu solución aquí\n",
        "palabras_a = [palabra for palabra in palabras if palabra[0].lower() in 'aá']\n",
        "\n",
        "print(palabras_a)\n",
        "# Resultado esperado: ['Auto', 'Avión', 'árbol', 'Animal']"
      ]
    },
    {
      "cell_type": "markdown",
      "metadata": {
        "id": "exercise_11"
      },
      "source": [
        "### Ejercicio 11\n",
        "Crea una lista con el doble de cada número de una lista dada."
      ]
    },
    {
      "cell_type": "code",
      "execution_count": null,
      "metadata": {
        "id": "solution_11",
        "outputId": "63afbabb-8b7d-462f-f502-524c4cd81fcf",
        "colab": {
          "base_uri": "https://localhost:8080/"
        }
      },
      "outputs": [
        {
          "output_type": "stream",
          "name": "stdout",
          "text": [
            "[2, 8, 14, 4, 18, 6]\n"
          ]
        }
      ],
      "source": [
        "numeros = [1, 4, 7, 2, 9, 3]\n",
        "\n",
        "# Tu solución aquí\n",
        "dobles = [2 * n for n in numeros]\n",
        "\n",
        "print(dobles)\n",
        "# Resultado esperado: [2, 8, 14, 4, 18, 6]"
      ]
    },
    {
      "cell_type": "markdown",
      "metadata": {
        "id": "exercise_12"
      },
      "source": [
        "### Ejercicio 12\n",
        "Crea una lista con los números del 1 al 20 que NO sean múltiplos de 4."
      ]
    },
    {
      "cell_type": "code",
      "execution_count": null,
      "metadata": {
        "id": "solution_12",
        "outputId": "5864682e-0ec8-4703-d95e-3e013ec69f6a",
        "colab": {
          "base_uri": "https://localhost:8080/"
        }
      },
      "outputs": [
        {
          "output_type": "stream",
          "name": "stdout",
          "text": [
            "[1, 2, 3, 5, 6, 7, 9, 10, 11, 13, 14, 15, 17, 18, 19]\n"
          ]
        }
      ],
      "source": [
        "# Tu solución aquí\n",
        "no_multiplos_4 = [x for x in range(1, 21) if x % 4 != 0]\n",
        "\n",
        "print(no_multiplos_4)\n",
        "# Resultado esperado: [1, 2, 3, 5, 6, 7, 9, 10, 11, 13, 14, 15, 17, 18, 19]"
      ]
    },
    {
      "cell_type": "markdown",
      "metadata": {
        "id": "exercise_13"
      },
      "source": [
        "### Ejercicio 13\n",
        "Dada una lista de números, crea una nueva con 'par' o 'impar' según corresponda."
      ]
    },
    {
      "cell_type": "code",
      "execution_count": null,
      "metadata": {
        "id": "solution_13",
        "outputId": "4f874069-b453-455c-d490-3188e2d6d780",
        "colab": {
          "base_uri": "https://localhost:8080/"
        }
      },
      "outputs": [
        {
          "output_type": "stream",
          "name": "stdout",
          "text": [
            "['impar', 'par', 'impar', 'par', 'impar', 'par', 'impar', 'par']\n"
          ]
        }
      ],
      "source": [
        "numeros = [1, 2, 3, 4, 5, 6, 7, 8]\n",
        "\n",
        "# Tu solución aquí\n",
        "par_impar = ['par' if n % 2 == 0 else 'impar' for n in numeros]\n",
        "\n",
        "print(par_impar)\n",
        "# Resultado esperado: ['impar', 'par', 'impar', 'par', 'impar', 'par', 'impar', 'par']"
      ]
    },
    {
      "cell_type": "markdown",
      "metadata": {
        "id": "exercise_14"
      },
      "source": [
        "### Ejercicio 14\n",
        "Crea una lista con las palabras de un string separadas por espacios, pero solo las que tengan más de 3 caracteres."
      ]
    },
    {
      "cell_type": "code",
      "execution_count": 1,
      "metadata": {
        "id": "solution_14",
        "outputId": "a5dc28b1-f8eb-4550-c147-62da5bdcb882",
        "colab": {
          "base_uri": "https://localhost:8080/"
        }
      },
      "outputs": [
        {
          "output_type": "stream",
          "name": "stdout",
          "text": [
            "['Python', 'lenguaje', 'programación', 'fácil', 'aprender']\n"
          ]
        }
      ],
      "source": [
        "frase = \"Python es un lenguaje de programación muy fácil de aprender\"\n",
        "\n",
        "# Tu solución aquí\n",
        "palabras_largas = [palabra for palabra in frase.split() if len(palabra) > 3]\n",
        "\n",
        "print(palabras_largas)\n",
        "# Resultado esperado: ['Python', 'lenguaje', 'programación', 'muy', 'fácil', 'aprender']"
      ]
    },
    {
      "cell_type": "markdown",
      "metadata": {
        "id": "exercise_15"
      },
      "source": [
        "### Ejercicio 15\n",
        "Crea una lista con la raíz cuadrada de los números perfectos del 1 al 100."
      ]
    },
    {
      "cell_type": "code",
      "execution_count": 4,
      "metadata": {
        "id": "solution_15",
        "outputId": "24bd4e88-dc55-4bb2-ae57-0cfab6a86481",
        "colab": {
          "base_uri": "https://localhost:8080/"
        }
      },
      "outputs": [
        {
          "output_type": "stream",
          "name": "stdout",
          "text": [
            "[1.0, 2.0, 3.0, 4.0, 5.0, 6.0, 7.0, 8.0, 9.0, 10.0]\n"
          ]
        }
      ],
      "source": [
        "import math\n",
        "\n",
        "# Tu solución aquí\n",
        "raices_cuadradas = [float(x) for x in range(1, 11)]\n",
        "\n",
        "print(raices_cuadradas)\n",
        "# Resultado esperado: [1.0, 2.0, 3.0, 4.0, 5.0, 6.0, 7.0, 8.0, 9.0, 10.0]"
      ]
    },
    {
      "cell_type": "markdown",
      "metadata": {
        "id": "intermediate_section"
      },
      "source": [
        "## Ejercicios Intermedios (16-35)"
      ]
    },
    {
      "cell_type": "markdown",
      "metadata": {
        "id": "exercise_16"
      },
      "source": [
        "### Ejercicio 16\n",
        "Crea una lista de tuplas con (número, cuadrado) para números del 1 al 10."
      ]
    },
    {
      "cell_type": "code",
      "execution_count": 5,
      "metadata": {
        "id": "solution_16",
        "outputId": "6e0138d6-4817-4dff-f9ac-5b260ace041e",
        "colab": {
          "base_uri": "https://localhost:8080/"
        }
      },
      "outputs": [
        {
          "output_type": "stream",
          "name": "stdout",
          "text": [
            "[(1, 1), (2, 4), (3, 9), (4, 16), (5, 25), (6, 36), (7, 49), (8, 64), (9, 81), (10, 100)]\n"
          ]
        }
      ],
      "source": [
        "# Tu solución aquí\n",
        "num_cuadrado = [(x, x**2) for x in range(1, 11)]\n",
        "\n",
        "print(num_cuadrado)\n",
        "# Resultado esperado: [(1, 1), (2, 4), (3, 9), (4, 16), (5, 25), (6, 36), (7, 49), (8, 64), (9, 81), (10, 100)]"
      ]
    },
    {
      "cell_type": "markdown",
      "metadata": {
        "id": "exercise_17"
      },
      "source": [
        "### Ejercicio 17\n",
        "Dadas dos listas, crea una nueva con la suma elemento por elemento."
      ]
    },
    {
      "cell_type": "code",
      "execution_count": 6,
      "metadata": {
        "id": "solution_17",
        "outputId": "e8abe710-12f2-4394-bd01-7982c63d5d1b",
        "colab": {
          "base_uri": "https://localhost:8080/"
        }
      },
      "outputs": [
        {
          "output_type": "stream",
          "name": "stdout",
          "text": [
            "[11, 22, 33, 44, 55]\n"
          ]
        }
      ],
      "source": [
        "lista1 = [1, 2, 3, 4, 5]\n",
        "lista2 = [10, 20, 30, 40, 50]\n",
        "\n",
        "# Tu solución aquí\n",
        "suma_listas = [x + y for x, y in zip(lista1, lista2)]\n",
        "\n",
        "print(suma_listas)\n",
        "# Resultado esperado: [11, 22, 33, 44, 55]"
      ]
    },
    {
      "cell_type": "markdown",
      "metadata": {
        "id": "exercise_18"
      },
      "source": [
        "### Ejercicio 18\n",
        "Crea una lista con todos los caracteres de un string que sean dígitos."
      ]
    },
    {
      "cell_type": "code",
      "execution_count": 7,
      "metadata": {
        "id": "solution_18",
        "outputId": "35fd4ded-82f3-42c1-feec-36576148b85b",
        "colab": {
          "base_uri": "https://localhost:8080/"
        }
      },
      "outputs": [
        {
          "output_type": "stream",
          "name": "stdout",
          "text": [
            "['1', '2', '3', '4', '5', '6', '7', '8', '9']\n"
          ]
        }
      ],
      "source": [
        "texto = \"abc123def456ghi789\"\n",
        "\n",
        "# Tu solución aquí\n",
        "digitos = [char for char in texto if char.isdigit()]\n",
        "\n",
        "print(digitos)\n",
        "# Resultado esperado: ['1', '2', '3', '4', '5', '6', '7', '8', '9']"
      ]
    },
    {
      "cell_type": "markdown",
      "metadata": {
        "id": "exercise_19"
      },
      "source": [
        "### Ejercicio 19\n",
        "Crea una lista con las palabras de longitud par de una lista dada."
      ]
    },
    {
      "cell_type": "code",
      "execution_count": 8,
      "metadata": {
        "id": "solution_19",
        "outputId": "5b528df8-3c3a-4b6a-aa75-26978e044c9f",
        "colab": {
          "base_uri": "https://localhost:8080/"
        }
      },
      "outputs": [
        {
          "output_type": "stream",
          "name": "stdout",
          "text": [
            "['python', 'java', 'javascript', 'go', 'rust']\n"
          ]
        }
      ],
      "source": [
        "palabras = [\"python\", \"java\", \"javascript\", \"go\", \"rust\", \"scala\"]\n",
        "\n",
        "# Tu solución aquí\n",
        "longitud_par = [palabra for palabra in palabras if len(palabra) % 2 == 0]\n",
        "\n",
        "print(longitud_par)\n",
        "# Resultado esperado: ['python', 'java', 'javascript', 'go', 'rust', 'scala']"
      ]
    },
    {
      "cell_type": "markdown",
      "metadata": {
        "id": "exercise_20"
      },
      "source": [
        "### Ejercicio 20\n",
        "Crea una lista con números del 1 al 50 que sean múltiplos de 3 o 5."
      ]
    },
    {
      "cell_type": "code",
      "execution_count": 9,
      "metadata": {
        "id": "solution_20",
        "outputId": "a9a6f8b4-0c91-4d02-e635-cb01fadf09c6",
        "colab": {
          "base_uri": "https://localhost:8080/"
        }
      },
      "outputs": [
        {
          "output_type": "stream",
          "name": "stdout",
          "text": [
            "[3, 5, 6, 9, 10, 12, 15, 18, 20, 21, 24, 25, 27, 30, 33, 35, 36, 39, 40, 42, 45, 48, 50]\n"
          ]
        }
      ],
      "source": [
        "# Tu solución aquí\n",
        "multiplos_3_o_5 = [x for x in range(1, 51) if x % 3 == 0 or x % 5 == 0]\n",
        "\n",
        "print(multiplos_3_o_5)"
      ]
    },
    {
      "cell_type": "markdown",
      "metadata": {
        "id": "exercise_21"
      },
      "source": [
        "### Ejercicio 21\n",
        "Dada una lista de listas, crea una lista plana con todos los elementos."
      ]
    },
    {
      "cell_type": "code",
      "execution_count": 10,
      "metadata": {
        "id": "solution_21",
        "outputId": "fd278c6a-0a90-47c9-f2c0-ef2a98d76776",
        "colab": {
          "base_uri": "https://localhost:8080/"
        }
      },
      "outputs": [
        {
          "output_type": "stream",
          "name": "stdout",
          "text": [
            "[1, 2, 3, 4, 5, 6, 7, 8, 9, 10]\n"
          ]
        }
      ],
      "source": [
        "listas = [[1, 2, 3], [4, 5], [6, 7, 8, 9], [10]]\n",
        "\n",
        "# Tu solución aquí\n",
        "lista_plana = [elemento for sublista in listas for elemento in sublista]\n",
        "\n",
        "print(lista_plana)\n",
        "# Resultado esperado: [1, 2, 3, 4, 5, 6, 7, 8, 9, 10]"
      ]
    },
    {
      "cell_type": "markdown",
      "metadata": {
        "id": "exercise_22"
      },
      "source": [
        "### Ejercicio 22\n",
        "Crea una lista con las primeras letras de cada palabra en una frase."
      ]
    },
    {
      "cell_type": "code",
      "execution_count": 12,
      "metadata": {
        "id": "solution_22",
        "outputId": "7b9c2004-0619-4bc8-cd38-153780ad78ff",
        "colab": {
          "base_uri": "https://localhost:8080/"
        }
      },
      "outputs": [
        {
          "output_type": "stream",
          "name": "stdout",
          "text": [
            "['L', 'd', 'c', 'e', 'P', 'e', 'm', 'ú']\n"
          ]
        }
      ],
      "source": [
        "frase = \"Lista de comprensión en Python es muy útil\"\n",
        "\n",
        "# Tu solución aquí\n",
        "primeras_letras = [palabra[0] for palabra in frase.split()]\n",
        "\n",
        "print(primeras_letras)\n",
        "# Resultado esperado: ['L', 'd', 'c', 'e', 'P', 'e', 'm', 'ú']"
      ]
    },
    {
      "cell_type": "markdown",
      "metadata": {
        "id": "exercise_23"
      },
      "source": [
        "### Ejercicio 23\n",
        "Crea una lista con números del 1 al 100 cuya suma de dígitos sea mayor a 10."
      ]
    },
    {
      "cell_type": "code",
      "execution_count": 13,
      "metadata": {
        "id": "solution_23",
        "outputId": "4861116d-e7f1-41f8-fdaa-6a49b37d8ebb",
        "colab": {
          "base_uri": "https://localhost:8080/"
        }
      },
      "outputs": [
        {
          "output_type": "stream",
          "name": "stdout",
          "text": [
            "[29, 38, 39, 47, 48, 49, 56, 57, 58, 59]\n"
          ]
        }
      ],
      "source": [
        "# Tu solución aquí\n",
        "suma_digitos_mayor_10 = [x for x in range(1, 101) if sum(int(digit) for digit in str(x)) > 10]\n",
        "\n",
        "print(suma_digitos_mayor_10[:10])  # Mostrar solo los primeros 10"
      ]
    },
    {
      "cell_type": "markdown",
      "metadata": {
        "id": "exercise_24"
      },
      "source": [
        "### Ejercicio 24\n",
        "Dada una lista de strings, crea una nueva con solo las que contengan la letra 'a'."
      ]
    },
    {
      "cell_type": "code",
      "execution_count": 14,
      "metadata": {
        "id": "solution_24",
        "outputId": "b5a6c638-5c25-4365-8476-410ac4855e63",
        "colab": {
          "base_uri": "https://localhost:8080/"
        }
      },
      "outputs": [
        {
          "output_type": "stream",
          "name": "stdout",
          "text": [
            "['gato', 'ratón', 'elefante', 'jirafa']\n"
          ]
        }
      ],
      "source": [
        "palabras = [\"perro\", \"gato\", \"ratón\", \"elefante\", \"tigre\", \"jirafa\", \"león\"]\n",
        "\n",
        "# Tu solución aquí\n",
        "con_a = [palabra for palabra in palabras if 'a' in palabra]\n",
        "\n",
        "print(con_a)\n",
        "# Resultado esperado: ['gato', 'ratón', 'elefante', 'jirafa']"
      ]
    },
    {
      "cell_type": "markdown",
      "metadata": {
        "id": "exercise_25"
      },
      "source": [
        "### Ejercicio 25\n",
        "Crea una lista con el factorial de los números del 1 al 8."
      ]
    },
    {
      "cell_type": "code",
      "execution_count": 15,
      "metadata": {
        "id": "solution_25",
        "outputId": "dbc73753-9faf-478b-c1ae-168f31cca7f1",
        "colab": {
          "base_uri": "https://localhost:8080/"
        }
      },
      "outputs": [
        {
          "output_type": "stream",
          "name": "stdout",
          "text": [
            "[1, 2, 6, 24, 120, 720, 5040, 40320]\n"
          ]
        }
      ],
      "source": [
        "import math\n",
        "\n",
        "# Tu solución aquí\n",
        "factoriales = [math.factorial(x) for x in range(1, 9)]\n",
        "\n",
        "print(factoriales)\n",
        "# Resultado esperado: [1, 2, 6, 24, 120, 720, 5040, 40320]"
      ]
    },
    {
      "cell_type": "markdown",
      "metadata": {
        "id": "exercise_26"
      },
      "source": [
        "### Ejercicio 26\n",
        "Dada una matriz (lista de listas), crea una lista con las sumas de cada fila."
      ]
    },
    {
      "cell_type": "code",
      "execution_count": 16,
      "metadata": {
        "id": "solution_26",
        "outputId": "a31e65ae-bedb-4788-aa93-2241b8c28ac8",
        "colab": {
          "base_uri": "https://localhost:8080/"
        }
      },
      "outputs": [
        {
          "output_type": "stream",
          "name": "stdout",
          "text": [
            "[6, 15, 24, 33]\n"
          ]
        }
      ],
      "source": [
        "matriz = [[1, 2, 3], [4, 5, 6], [7, 8, 9], [10, 11, 12]]\n",
        "\n",
        "# Tu solución aquí\n",
        "sumas_filas = [sum(fila) for fila in matriz]\n",
        "\n",
        "print(sumas_filas)\n",
        "# Resultado esperado: [6, 15, 24, 33]"
      ]
    },
    {
      "cell_type": "markdown",
      "metadata": {
        "id": "exercise_27"
      },
      "source": [
        "### Ejercicio 27\n",
        "Crea una lista con los números primos del 2 al 50."
      ]
    },
    {
      "cell_type": "code",
      "execution_count": 17,
      "metadata": {
        "id": "solution_27",
        "outputId": "335e2ecc-a94a-4752-d8d2-fee6132c823b",
        "colab": {
          "base_uri": "https://localhost:8080/"
        }
      },
      "outputs": [
        {
          "output_type": "stream",
          "name": "stdout",
          "text": [
            "[2, 3, 5, 7, 11, 13, 17, 19, 23, 29, 31, 37, 41, 43, 47]\n"
          ]
        }
      ],
      "source": [
        "# Función auxiliar para verificar si un número es primo\n",
        "def es_primo(n):\n",
        "    if n < 2:\n",
        "        return False\n",
        "    for i in range(2, int(n**0.5) + 1):\n",
        "        if n % i == 0:\n",
        "            return False\n",
        "    return True\n",
        "\n",
        "# Tu solución aquí\n",
        "primos = [x for x in range(2, 51) if es_primo(x)]\n",
        "\n",
        "print(primos)\n",
        "# Resultado esperado: [2, 3, 5, 7, 11, 13, 17, 19, 23, 29, 31, 37, 41, 43, 47]"
      ]
    },
    {
      "cell_type": "markdown",
      "metadata": {
        "id": "exercise_28"
      },
      "source": [
        "### Ejercicio 28\n",
        "Dada una lista de diccionarios con información de estudiantes, crea una lista con los nombres de los que tienen nota >= 7."
      ]
    },
    {
      "cell_type": "code",
      "execution_count": 18,
      "metadata": {
        "id": "solution_28",
        "outputId": "8b1ea9a7-ab3b-4b80-8c96-f1ac195bf23e",
        "colab": {
          "base_uri": "https://localhost:8080/"
        }
      },
      "outputs": [
        {
          "output_type": "stream",
          "name": "stdout",
          "text": [
            "['Ana', 'María', 'Sofía']\n"
          ]
        }
      ],
      "source": [
        "estudiantes = [\n",
        "    {\"nombre\": \"Ana\", \"nota\": 8.5},\n",
        "    {\"nombre\": \"Juan\", \"nota\": 6.2},\n",
        "    {\"nombre\": \"María\", \"nota\": 9.1},\n",
        "    {\"nombre\": \"Pedro\", \"nota\": 5.8},\n",
        "    {\"nombre\": \"Sofía\", \"nota\": 7.3}\n",
        "]\n",
        "\n",
        "# Tu solución aquí\n",
        "aprobados = [estudiante[\"nombre\"] for estudiante in estudiantes if estudiante[\"nota\"] >= 7]\n",
        "\n",
        "print(aprobados)\n",
        "# Resultado esperado: ['Ana', 'María', 'Sofía']"
      ]
    },
    {
      "cell_type": "markdown",
      "metadata": {
        "id": "exercise_29"
      },
      "source": [
        "### Ejercicio 29\n",
        "Crea una lista con tuplas (índice, valor) para elementos pares de una lista."
      ]
    },
    {
      "cell_type": "code",
      "execution_count": 19,
      "metadata": {
        "id": "solution_29",
        "outputId": "93ca4487-3dcd-487f-cec9-739c72864e58",
        "colab": {
          "base_uri": "https://localhost:8080/"
        }
      },
      "outputs": [
        {
          "output_type": "stream",
          "name": "stdout",
          "text": [
            "[(0, 10), (2, 20), (4, 30), (6, 40), (8, 50)]\n"
          ]
        }
      ],
      "source": [
        "numeros = [10, 15, 20, 25, 30, 35, 40, 45, 50]\n",
        "\n",
        "# Tu solución aquí\n",
        "indices_pares = [(i, numeros[i]) for i in range(0, len(numeros), 2)]\n",
        "\n",
        "print(indices_pares)\n",
        "# Resultado esperado: [(0, 10), (2, 20), (4, 30), (6, 40), (8, 50)]"
      ]
    },
    {
      "cell_type": "markdown",
      "metadata": {
        "id": "exercise_30"
      },
      "source": [
        "### Ejercicio 30\n",
        "Crea una lista con las palabras palíndromas de una lista dada."
      ]
    },
    {
      "cell_type": "code",
      "execution_count": 20,
      "metadata": {
        "id": "solution_30",
        "outputId": "22b7d5e0-8483-451b-fc82-bb3f03fcf6e5",
        "colab": {
          "base_uri": "https://localhost:8080/"
        }
      },
      "outputs": [
        {
          "output_type": "stream",
          "name": "stdout",
          "text": [
            "['oso', 'radar', 'aba', 'reconocer', 'salas']\n"
          ]
        }
      ],
      "source": [
        "palabras = [\"oso\", \"casa\", \"radar\", \"python\", \"aba\", \"reconocer\", \"salas\"]\n",
        "\n",
        "# Tu solución aquí\n",
        "palindromas = [palabra for palabra in palabras if palabra == palabra[::-1]]\n",
        "\n",
        "print(palindromas)\n",
        "# Resultado esperado: ['oso', 'radar', 'aba', 'reconocer', 'salas']"
      ]
    },
    {
      "cell_type": "markdown",
      "metadata": {
        "id": "exercise_31"
      },
      "source": [
        "### Ejercicio 31\n",
        "Dada una cadena, crea una lista con las posiciones de todas las vocales."
      ]
    },
    {
      "cell_type": "code",
      "execution_count": 23,
      "metadata": {
        "id": "solution_31",
        "outputId": "64fa63fb-51eb-44f7-c09f-30542d3a1b07",
        "colab": {
          "base_uri": "https://localhost:8080/"
        }
      },
      "outputs": [
        {
          "output_type": "stream",
          "name": "stdout",
          "text": [
            "[3, 6, 8, 10, 11]\n"
          ]
        }
      ],
      "source": [
        "texto = \"programacion\"\n",
        "vocales = \"aeiou\"\n",
        "\n",
        "# Tu solución aquí\n",
        "posiciones_vocales = [i + 1 for i, letra in enumerate(texto) if letra in vocales]\n",
        "\n",
        "print(posiciones_vocales)\n",
        "# Resultado esperado: [2, 5, 6, 8, 11]"
      ]
    },
    {
      "cell_type": "markdown",
      "metadata": {
        "id": "exercise_32"
      },
      "source": [
        "### Ejercicio 32\n",
        "Crea una lista con números del 1 al 30 que sean divisibles por 2 Y por 3."
      ]
    },
    {
      "cell_type": "code",
      "execution_count": 24,
      "metadata": {
        "id": "solution_32",
        "outputId": "aee353d4-9ae7-4124-c31b-41666017f003",
        "colab": {
          "base_uri": "https://localhost:8080/"
        }
      },
      "outputs": [
        {
          "output_type": "stream",
          "name": "stdout",
          "text": [
            "[6, 12, 18, 24, 30]\n"
          ]
        }
      ],
      "source": [
        "# Tu solución aquí\n",
        "divisibles_2_y_3 = [x for x in range(1, 31) if x % 2 == 0 and x % 3 == 0]\n",
        "\n",
        "print(divisibles_2_y_3)\n",
        "# Resultado esperado: [6, 12, 18, 24, 30]"
      ]
    },
    {
      "cell_type": "markdown",
      "metadata": {
        "id": "exercise_33"
      },
      "source": [
        "### Ejercicio 33\n",
        "Dada una lista de temperaturas en Celsius, crea una nueva con las temperaturas en Fahrenheit."
      ]
    },
    {
      "cell_type": "code",
      "execution_count": 25,
      "metadata": {
        "id": "solution_33",
        "outputId": "88ec0061-ab18-4f10-9378-45145ee86cf5",
        "colab": {
          "base_uri": "https://localhost:8080/"
        }
      },
      "outputs": [
        {
          "output_type": "stream",
          "name": "stdout",
          "text": [
            "[32.0, 50.0, 68.0, 86.0, 104.0, 212.0]\n"
          ]
        }
      ],
      "source": [
        "celsius = [0, 10, 20, 30, 40, 100]\n",
        "\n",
        "# Tu solución aquí (F = C * 9/5 + 32)\n",
        "fahrenheit = [celsius * 9/5 + 32 for celsius in celsius]\n",
        "\n",
        "print(fahrenheit)\n",
        "# Resultado esperado: [32.0, 50.0, 68.0, 86.0, 104.0, 212.0]"
      ]
    },
    {
      "cell_type": "markdown",
      "metadata": {
        "id": "exercise_34"
      },
      "source": [
        "### Ejercicio 34\n",
        "Crea una lista con los elementos únicos de dos listas combinadas."
      ]
    },
    {
      "cell_type": "code",
      "execution_count": 27,
      "metadata": {
        "id": "solution_34",
        "outputId": "3998d532-0602-4981-8e51-6407c2505b7c",
        "colab": {
          "base_uri": "https://localhost:8080/"
        }
      },
      "outputs": [
        {
          "output_type": "stream",
          "name": "stdout",
          "text": [
            "[1, 2, 3, 4, 5, 6, 7, 8]\n"
          ]
        }
      ],
      "source": [
        "lista1 = [1, 2, 3, 4, 5]\n",
        "lista2 = [4, 5, 6, 7, 8]\n",
        "\n",
        "# Tu solución aquí\n",
        "elementos_unicos = list(set(lista1 + lista2))\n",
        "\n",
        "print(sorted(elementos_unicos))\n",
        "# Resultado esperado: [1, 2, 3, 4, 5, 6, 7, 8]"
      ]
    },
    {
      "cell_type": "markdown",
      "metadata": {
        "id": "exercise_35"
      },
      "source": [
        "### Ejercicio 35\n",
        "Dada una lista de strings, crea una nueva con las palabras invertidas."
      ]
    },
    {
      "cell_type": "code",
      "execution_count": 28,
      "metadata": {
        "id": "solution_35",
        "outputId": "0301ac12-c30e-4ea6-98d7-9bb67582976a",
        "colab": {
          "base_uri": "https://localhost:8080/"
        }
      },
      "outputs": [
        {
          "output_type": "stream",
          "name": "stdout",
          "text": [
            "['nohtyp', 'avaj', 'tpircsavaj', 'og', 'tsur']\n"
          ]
        }
      ],
      "source": [
        "palabras = [\"python\", \"java\", \"javascript\", \"go\", \"rust\"]\n",
        "\n",
        "# Tu solución aquí\n",
        "palabras_invertidas = [palabra[::-1] for palabra in palabras]\n",
        "\n",
        "print(palabras_invertidas)\n",
        "# Resultado esperado: ['nohtyp', 'avaj', 'tpircsavaj', 'og', 'tsur']"
      ]
    },
    {
      "cell_type": "markdown",
      "metadata": {
        "id": "advanced_section"
      },
      "source": [
        "## Ejercicios Avanzados (36-50)"
      ]
    },
    {
      "cell_type": "markdown",
      "metadata": {
        "id": "exercise_36"
      },
      "source": [
        "### Ejercicio 36\n",
        "Crea una lista con todas las combinaciones posibles de dos listas."
      ]
    },
    {
      "cell_type": "code",
      "execution_count": 29,
      "metadata": {
        "id": "solution_36",
        "outputId": "9b2865c2-cc1d-4f91-9374-fd5e2a947f80",
        "colab": {
          "base_uri": "https://localhost:8080/"
        }
      },
      "outputs": [
        {
          "output_type": "stream",
          "name": "stdout",
          "text": [
            "[('rojo', 'S'), ('rojo', 'M'), ('rojo', 'L'), ('azul', 'S'), ('azul', 'M'), ('azul', 'L')]\n"
          ]
        }
      ],
      "source": [
        "colores = [\"rojo\", \"azul\"]\n",
        "tamaños = [\"S\", \"M\", \"L\"]\n",
        "\n",
        "# Tu solución aquí\n",
        "combinaciones = [(color, tamaño) for color in colores for tamaño in tamaños]\n",
        "\n",
        "print(combinaciones)\n",
        "# Resultado esperado: [('rojo', 'S'), ('rojo', 'M'), ('rojo', 'L'), ('azul', 'S'), ('azul', 'M'), ('azul', 'L')]"
      ]
    },
    {
      "cell_type": "markdown",
      "metadata": {
        "id": "exercise_37"
      },
      "source": [
        "### Ejercicio 37\n",
        "Dada una matriz, crea una lista con los elementos de la diagonal principal."
      ]
    },
    {
      "cell_type": "code",
      "execution_count": 30,
      "metadata": {
        "id": "solution_37",
        "outputId": "1e6d5359-b1bc-4f37-e81d-1362706ee1f7",
        "colab": {
          "base_uri": "https://localhost:8080/"
        }
      },
      "outputs": [
        {
          "output_type": "stream",
          "name": "stdout",
          "text": [
            "[1, 5, 9]\n"
          ]
        }
      ],
      "source": [
        "matriz = [\n",
        "    [1, 2, 3],\n",
        "    [4, 5, 6],\n",
        "    [7, 8, 9]\n",
        "]\n",
        "\n",
        "# Tu solución aquí\n",
        "diagonal = [matriz[i][i] for i in range(len(matriz))]\n",
        "\n",
        "print(diagonal)\n",
        "# Resultado esperado: [1, 5, 9]"
      ]
    },
    {
      "cell_type": "markdown",
      "metadata": {
        "id": "exercise_38"
      },
      "source": [
        "### Ejercicio 38\n",
        "Crea una lista con números de Fibonacci menores a 100."
      ]
    },
    {
      "cell_type": "code",
      "execution_count": 31,
      "metadata": {
        "id": "solution_38",
        "outputId": "6b2de1ba-5326-45e3-fb87-9163b959c7b0",
        "colab": {
          "base_uri": "https://localhost:8080/"
        }
      },
      "outputs": [
        {
          "output_type": "stream",
          "name": "stdout",
          "text": [
            "[0, 1, 1, 2, 3, 5, 8, 13, 21, 34, 55, 89]\n"
          ]
        }
      ],
      "source": [
        "# Primero generamos los números de Fibonacci\n",
        "def generar_fibonacci(limite):\n",
        "    fib = [0, 1]\n",
        "    while fib[-1] + fib[-2] < limite:\n",
        "        fib.append(fib[-1] + fib[-2])\n",
        "    return fib\n",
        "\n",
        "fibonacci_nums = generar_fibonacci(100)\n",
        "\n",
        "# Tu solución aquí usando list comprehension\n",
        "fibonacci_menores_100 = [num for num in fibonacci_nums if num < 100]\n",
        "\n",
        "print(fibonacci_menores_100)\n",
        "# Resultado esperado: [0, 1, 1, 2, 3, 5, 8, 13, 21, 34, 55, 89]"
      ]
    },
    {
      "cell_type": "markdown",
      "metadata": {
        "id": "exercise_39"
      },
      "source": [
        "### Ejercicio 39\n",
        "Dada una lista de diccionarios de productos, crea una lista con los nombres de productos cuyo precio sea mayor al promedio."
      ]
    },
    {
      "cell_type": "code",
      "execution_count": 32,
      "metadata": {
        "id": "solution_39",
        "outputId": "13894f7c-ac48-4eb8-d7d3-008f04fda068",
        "colab": {
          "base_uri": "https://localhost:8080/"
        }
      },
      "outputs": [
        {
          "output_type": "stream",
          "name": "stdout",
          "text": [
            "Precio promedio: 290.0\n",
            "Productos caros: ['Laptop', 'Monitor']\n"
          ]
        }
      ],
      "source": [
        "productos = [\n",
        "    {\"nombre\": \"Laptop\", \"precio\": 1000},\n",
        "    {\"nombre\": \"Mouse\", \"precio\": 25},\n",
        "    {\"nombre\": \"Teclado\", \"precio\": 75},\n",
        "    {\"nombre\": \"Monitor\", \"precio\": 300},\n",
        "    {\"nombre\": \"Auriculares\", \"precio\": 50}\n",
        "]\n",
        "\n",
        "# Calcular el precio promedio\n",
        "precio_promedio = sum(p[\"precio\"] for p in productos) / len(productos)\n",
        "\n",
        "# Tu solución aquí\n",
        "productos_caros = [p[\"nombre\"] for p in productos if p[\"precio\"] > precio_promedio]\n",
        "\n",
        "print(f\"Precio promedio: {precio_promedio}\")\n",
        "print(f\"Productos caros: {productos_caros}\")\n",
        "# Resultado esperado: ['Laptop', 'Monitor']"
      ]
    },
    {
      "cell_type": "markdown",
      "metadata": {
        "id": "exercise_40"
      },
      "source": [
        "### Ejercicio 40\n",
        "Crea una lista con las palabras anagrama de una palabra dada dentro de una lista."
      ]
    },
    {
      "cell_type": "code",
      "execution_count": 33,
      "metadata": {
        "id": "solution_40",
        "outputId": "fe2ed870-a409-407e-cbc0-15df66d9cdf9",
        "colab": {
          "base_uri": "https://localhost:8080/"
        }
      },
      "outputs": [
        {
          "output_type": "stream",
          "name": "stdout",
          "text": [
            "['roma', 'mora', 'ramo', 'armo']\n"
          ]
        }
      ],
      "source": [
        "palabra_objetivo = \"amor\"\n",
        "palabras = [\"roma\", \"casa\", \"mora\", \"ramo\", \"perro\", \"armo\"]\n",
        "\n",
        "# Tu solución aquí\n",
        "anagramas = [palabra for palabra in palabras if sorted(palabra) == sorted(palabra_objetivo)]\n",
        "\n",
        "print(anagramas)\n",
        "# Resultado esperado: ['roma', 'mora', 'ramo', 'armo']"
      ]
    },
    {
      "cell_type": "markdown",
      "metadata": {
        "id": "exercise_41"
      },
      "source": [
        "### Ejercicio 41\n",
        "Crea una lista anidada donde cada sublista contenga los divisores de números del 1 al 10."
      ]
    },
    {
      "cell_type": "code",
      "execution_count": 34,
      "metadata": {
        "id": "solution_41",
        "outputId": "32083a85-ce8d-4090-db4e-609e6b92dbde",
        "colab": {
          "base_uri": "https://localhost:8080/"
        }
      },
      "outputs": [
        {
          "output_type": "stream",
          "name": "stdout",
          "text": [
            "Divisores de 1: [1]\n",
            "Divisores de 2: [1, 2]\n",
            "Divisores de 3: [1, 3]\n",
            "Divisores de 4: [1, 2, 4]\n",
            "Divisores de 5: [1, 5]\n",
            "Divisores de 6: [1, 2, 3, 6]\n",
            "Divisores de 7: [1, 7]\n",
            "Divisores de 8: [1, 2, 4, 8]\n",
            "Divisores de 9: [1, 3, 9]\n",
            "Divisores de 10: [1, 2, 5, 10]\n"
          ]
        }
      ],
      "source": [
        "# Tu solución aquí\n",
        "divisores = [[i for i in range(1, num + 1) if num % i == 0] for num in range(1, 11)]\n",
        "\n",
        "for i, div in enumerate(divisores, 1):\n",
        "    print(f\"Divisores de {i}: {div}\")\n",
        "# Resultado esperado:\n",
        "# Divisores de 1: [1]\n",
        "# Divisores de 2: [1, 2]\n",
        "# etc."
      ]
    },
    {
      "cell_type": "markdown",
      "metadata": {
        "id": "exercise_42"
      },
      "source": [
        "### Ejercicio 42\n",
        "Dada una lista de strings, crea un diccionario usando list comprehension donde la clave sea la palabra y el valor sea su longitud."
      ]
    },
    {
      "cell_type": "code",
      "execution_count": 35,
      "metadata": {
        "id": "solution_42",
        "outputId": "7ef783b4-4492-4750-f07a-470eba8336bb",
        "colab": {
          "base_uri": "https://localhost:8080/"
        }
      },
      "outputs": [
        {
          "output_type": "stream",
          "name": "stdout",
          "text": [
            "{'python': 6, 'java': 4, 'javascript': 10, 'go': 2, 'rust': 4, 'kotlin': 6}\n"
          ]
        }
      ],
      "source": [
        "palabras = [\"python\", \"java\", \"javascript\", \"go\", \"rust\", \"kotlin\"]\n",
        "\n",
        "# Tu solución aquí (usa dict comprehension)\n",
        "dict_longitudes = {palabra: len(palabra) for palabra in palabras}\n",
        "\n",
        "print(dict_longitudes)\n",
        "# Resultado esperado: {'python': 6, 'java': 4, 'javascript': 10, 'go': 2, 'rust': 4, 'kotlin': 6}"
      ]
    },
    {
      "cell_type": "markdown",
      "metadata": {
        "id": "exercise_43"
      },
      "source": [
        "### Ejercicio 43\n",
        "Crea una lista con tuplas (palabra, frecuencia_vocales) para cada palabra en una lista."
      ]
    },
    {
      "cell_type": "code",
      "execution_count": 36,
      "metadata": {
        "id": "solution_43",
        "outputId": "e05f0a34-3705-4787-b313-16eb0c6be7d2",
        "colab": {
          "base_uri": "https://localhost:8080/"
        }
      },
      "outputs": [
        {
          "output_type": "stream",
          "name": "stdout",
          "text": [
            "[('programacion', 5), ('python', 1), ('lista', 2), ('comprension', 4)]\n"
          ]
        }
      ],
      "source": [
        "palabras = [\"programacion\", \"python\", \"lista\", \"comprension\"]\n",
        "vocales = \"aeiou\"\n",
        "\n",
        "# Tu solución aquí\n",
        "frecuencia_vocales =  [(palabra, sum(1 for letra in palabra if letra in vocales)) for palabra in palabras]\n",
        "\n",
        "print(frecuencia_vocales)\n",
        "# Resultado esperado: [('programacion', 5), ('python', 1), ('lista', 2), ('comprension', 4)]"
      ]
    },
    {
      "cell_type": "markdown",
      "metadata": {
        "id": "exercise_44"
      },
      "source": [
        "### Ejercicio 44\n",
        "Crea una matriz identidad de tamaño n usando list comprehension anidada."
      ]
    },
    {
      "cell_type": "code",
      "execution_count": 37,
      "metadata": {
        "id": "solution_44",
        "outputId": "496148af-4ead-4008-b746-e36818ad76ae",
        "colab": {
          "base_uri": "https://localhost:8080/"
        }
      },
      "outputs": [
        {
          "output_type": "stream",
          "name": "stdout",
          "text": [
            "[1, 0, 0, 0]\n",
            "[0, 1, 0, 0]\n",
            "[0, 0, 1, 0]\n",
            "[0, 0, 0, 1]\n"
          ]
        }
      ],
      "source": [
        "n = 4\n",
        "\n",
        "# Tu solución aquí\n",
        "matriz_identidad = [[1 if i == j else 0 for j in range(n)] for i in range(n)]\n",
        "\n",
        "for fila in matriz_identidad:\n",
        "    print(fila)\n",
        "# Resultado esperado:\n",
        "# [1, 0, 0, 0]\n",
        "# [0, 1, 0, 0]\n",
        "# [0, 0, 1, 0]\n",
        "# [0, 0, 0, 1]"
      ]
    },
    {
      "cell_type": "markdown",
      "metadata": {
        "id": "exercise_45"
      },
      "source": [
        "### Ejercicio 45\n",
        "Dada una lista de números, crea una nueva lista con solo los números que aparecen exactamente una vez."
      ]
    },
    {
      "cell_type": "code",
      "execution_count": 38,
      "metadata": {
        "id": "solution_45",
        "outputId": "98370f36-5cea-4b1d-d9d9-22dcb2d5c45c",
        "colab": {
          "base_uri": "https://localhost:8080/"
        }
      },
      "outputs": [
        {
          "output_type": "stream",
          "name": "stdout",
          "text": [
            "[3, 4, 5, 6, 8, 9]\n"
          ]
        }
      ],
      "source": [
        "numeros = [1, 2, 3, 2, 4, 5, 1, 6, 7, 8, 7, 9]\n",
        "\n",
        "# Tu solución aquí\n",
        "unicos = [x for x in numeros if numeros.count(x) == 1]\n",
        "\n",
        "print(unicos)\n",
        "# Resultado esperado: [3, 4, 5, 6, 8, 9]"
      ]
    },
    {
      "cell_type": "markdown",
      "metadata": {
        "id": "exercise_46"
      },
      "source": [
        "### Ejercicio 46\n",
        "Crea una lista con las diferencias entre elementos consecutivos de una lista."
      ]
    },
    {
      "cell_type": "code",
      "execution_count": 39,
      "metadata": {
        "id": "solution_46",
        "outputId": "9079fed8-7f72-4e19-e3a6-16839eddc82b",
        "colab": {
          "base_uri": "https://localhost:8080/"
        }
      },
      "outputs": [
        {
          "output_type": "stream",
          "name": "stdout",
          "text": [
            "[3, 3, -5, 7, -4, 3]\n"
          ]
        }
      ],
      "source": [
        "numeros = [1, 4, 7, 2, 9, 5, 8]\n",
        "\n",
        "# Tu solución aquí\n",
        "diferencias = [numeros[i] - numeros[i - 1] for i in range(1, len(numeros))]\n",
        "\n",
        "print(diferencias)\n",
        "# Resultado esperado: [3, 3, -5, 7, -4, 3]"
      ]
    },
    {
      "cell_type": "markdown",
      "metadata": {
        "id": "exercise_47"
      },
      "source": [
        "### Ejercicio 47\n",
        "Dada una lista de coordenadas (x, y), crea una nueva con las distancias al origen."
      ]
    },
    {
      "cell_type": "code",
      "execution_count": 40,
      "metadata": {
        "id": "solution_47",
        "outputId": "994e9789-ac24-4aa1-df5b-279ab1278d06",
        "colab": {
          "base_uri": "https://localhost:8080/"
        }
      },
      "outputs": [
        {
          "output_type": "stream",
          "name": "stdout",
          "text": [
            "[5.0, 5.0, 1.4142135623730951, 10.0, 2.8284271247461903]\n"
          ]
        }
      ],
      "source": [
        "import math\n",
        "\n",
        "coordenadas = [(3, 4), (0, 5), (1, 1), (6, 8), (2, 2)]\n",
        "\n",
        "# Tu solución aquí\n",
        "distancias = [math.sqrt(x**2 + y**2) for x, y in coordenadas]\n",
        "\n",
        "print(distancias)\n",
        "# Resultado esperado: [5.0, 5.0, 1.414..., 10.0, 2.828...]"
      ]
    },
    {
      "cell_type": "markdown",
      "metadata": {
        "id": "exercise_48"
      },
      "source": [
        "### Ejercicio 48\n",
        "Crea una lista con todas las subcadenas de longitud 3 de una cadena dada."
      ]
    },
    {
      "cell_type": "code",
      "execution_count": 41,
      "metadata": {
        "id": "solution_48",
        "outputId": "352bae95-79fd-4121-b7fa-4fe9bd1e5ea0",
        "colab": {
          "base_uri": "https://localhost:8080/"
        }
      },
      "outputs": [
        {
          "output_type": "stream",
          "name": "stdout",
          "text": [
            "['pyt', 'yth', 'tho', 'hon']\n"
          ]
        }
      ],
      "source": [
        "cadena = \"python\"\n",
        "\n",
        "# Tu solución aquí\n",
        "subcadenas = [cadena[i:i+3] for i in range(len(cadena) - 2)]\n",
        "\n",
        "print(subcadenas)\n",
        "# Resultado esperado: ['pyt', 'yth', 'tho', 'hon']"
      ]
    },
    {
      "cell_type": "markdown",
      "metadata": {
        "id": "exercise_49"
      },
      "source": [
        "### Ejercicio 49\n",
        "Dada una lista de listas con diferentes longitudes, crea una nueva lista con solo las listas que tengan longitud par."
      ]
    },
    {
      "cell_type": "code",
      "execution_count": 42,
      "metadata": {
        "id": "solution_49",
        "outputId": "0d2b6100-b87c-4fb6-e18e-30593319a767",
        "colab": {
          "base_uri": "https://localhost:8080/"
        }
      },
      "outputs": [
        {
          "output_type": "stream",
          "name": "stdout",
          "text": [
            "[[1, 2], [4, 5, 6, 7], [14, 15, 16, 17]]\n"
          ]
        }
      ],
      "source": [
        "listas = [[1, 2], [1, 2, 3], [4, 5, 6, 7], [8], [9, 10, 11, 12, 13], [14, 15, 16, 17]]\n",
        "\n",
        "# Tu solución aquí\n",
        "listas_longitud_par = [lista for lista in listas if len(lista) % 2 == 0]\n",
        "\n",
        "print(listas_longitud_par)\n",
        "# Resultado esperado: [[1, 2], [4, 5, 6, 7], [14, 15, 16, 17]]"
      ]
    },
    {
      "cell_type": "markdown",
      "metadata": {
        "id": "exercise_50"
      },
      "source": [
        "### Ejercicio 50\n",
        "Crea una lista con los números del 1 al 100 donde cada número sea reemplazado por 'Fizz' si es divisible por 3, 'Buzz' si es divisible por 5, 'FizzBuzz' si es divisible por ambos, o el número mismo en otros casos."
      ]
    },
    {
      "cell_type": "code",
      "execution_count": 43,
      "metadata": {
        "id": "solution_50",
        "outputId": "6465d8d5-3386-4f21-b07e-66d33d638473",
        "colab": {
          "base_uri": "https://localhost:8080/"
        }
      },
      "outputs": [
        {
          "output_type": "stream",
          "name": "stdout",
          "text": [
            "[1, 2, 'Fizz', 4, 'Buzz', 'Fizz', 7, 8, 'Fizz', 'Buzz', 11, 'Fizz', 13, 14, 'FizzBuzz', 16, 17, 'Fizz', 19, 'Buzz']\n"
          ]
        }
      ],
      "source": [
        "# Tu solución aquí\n",
        "fizzbuzz = [\n",
        "    'FizzBuzz' if i % 3 == 0 and i % 5 == 0\n",
        "    else 'Fizz' if i % 3 == 0\n",
        "    else 'Buzz' if i % 5 == 0\n",
        "    else i\n",
        "    for i in range(1, 101)\n",
        "]\n",
        "\n",
        "# Mostrar los primeros 20 elementos\n",
        "print(fizzbuzz[:20])\n",
        "# Resultado esperado: [1, 2, 'Fizz', 4, 'Buzz', 'Fizz', 7, 8, 'Fizz', 'Buzz', 11, 'Fizz', 13, 14, 'FizzBuzz', 16, 17, 'Fizz', 19, 'Buzz']"
      ]
    },
    {
      "cell_type": "markdown",
      "metadata": {
        "id": "conclusion"
      },
      "source": [
        "## ¡Felicitaciones! 🎉\n",
        "\n",
        "Has completado los 50 ejercicios de listas de comprensión en Python.\n",
        "\n",
        "### Resumen de conceptos practicados:\n",
        "- Listas de comprensión básicas\n",
        "- Filtros con condiciones\n",
        "- Transformaciones de datos\n",
        "- Listas de comprensión anidadas\n",
        "- Trabajo con strings y números\n",
        "- Operaciones matemáticas\n",
        "- Manipulación de estructuras de datos complejas\n",
        "- Combinación de múltiples técnicas\n",
        "\n",
        "### Próximos pasos:\n",
        "- Experimenta creando tus propios ejercicios\n",
        "- Aplica estas técnicas en proyectos reales\n",
        "- Explora dictionary comprehensions y set comprehensions\n",
        "- Practica con datasets más grandes\n",
        "\n",
        "¡Sigue practicando y mejorando tus habilidades en Python!"
      ]
    }
  ],
  "metadata": {
    "colab": {
      "provenance": [],
      "include_colab_link": true
    },
    "kernelspec": {
      "display_name": "Python 3",
      "name": "python3"
    },
    "language_info": {
      "name": "python"
    }
  },
  "nbformat": 4,
  "nbformat_minor": 0
}