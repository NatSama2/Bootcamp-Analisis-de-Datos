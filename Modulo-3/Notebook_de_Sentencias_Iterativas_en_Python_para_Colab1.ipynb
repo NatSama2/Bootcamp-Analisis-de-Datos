{
  "cells": [
    {
      "cell_type": "markdown",
      "metadata": {
        "id": "view-in-github",
        "colab_type": "text"
      },
      "source": [
        "<a href=\"https://colab.research.google.com/github/NatSama2/Bootcamp-Analisis-de-Datos/blob/main/Modulo-3/Notebook_de_Sentencias_Iterativas_en_Python_para_Colab1.ipynb\" target=\"_parent\"><img src=\"https://colab.research.google.com/assets/colab-badge.svg\" alt=\"Open In Colab\"/></a>"
      ]
    },
    {
      "cell_type": "markdown",
      "source": [
        "# Fundamentos de Análisis de Datos - Módulo 3 Sesión 05"
      ],
      "metadata": {
        "id": "fCfTi1z3PEXl"
      }
    },
    {
      "cell_type": "code",
      "source": [
        "# -*- coding: utf-8 -*-\n",
        "\n",
        "# Fundamentos de Análisis de Datos - Módulo 3 Sesión 05\n"
      ],
      "outputs": [],
      "execution_count": 2,
      "metadata": {
        "id": "J2IMQBoKF0t6"
      }
    },
    {
      "cell_type": "markdown",
      "source": [
        "### Ejemplos de `While`\n",
        "\n",
        "#### Ejemplo 1: Contador simple"
      ],
      "metadata": {
        "id": "8IBXsY9XF0t_"
      }
    },
    {
      "cell_type": "code",
      "source": [
        "# Este código imprimirá los números del 1 al 5.\n",
        "print(\"Ejemplo 1: Contador simple\")\n",
        "numero = 1\n",
        "while numero <= 5:\n",
        "    print(numero)\n",
        "    numero += 1 # Incrementamos el número en cada iteración\n",
        "print(\"-\" * 30)"
      ],
      "outputs": [
        {
          "output_type": "stream",
          "name": "stdout",
          "text": [
            "Ejemplo 1: Contador simple\n",
            "1\n",
            "2\n",
            "3\n",
            "4\n",
            "5\n",
            "------------------------------\n"
          ]
        }
      ],
      "execution_count": 3,
      "metadata": {
        "id": "wfoc_DXSF0uB",
        "outputId": "fa83b88f-d5d5-40f3-ae9c-cd36756a339f",
        "colab": {
          "base_uri": "https://localhost:8080/"
        }
      }
    },
    {
      "cell_type": "markdown",
      "source": [
        "#### Ejemplo 2: Validación de entrada de usuario"
      ],
      "metadata": {
        "id": "KDE8iM9lF0uC"
      }
    },
    {
      "cell_type": "code",
      "source": [
        "# Este ejemplo sigue pidiendo al usuario un número par hasta que lo ingrese correctamente.\n",
        "print(\"Ejemplo 2: Validación de entrada de usuario\")\n",
        "entrada_valida = False\n",
        "while not entrada_valida:\n",
        "    try:\n",
        "        num_usuario = int(input(\"Por favor, ingresa un número par: \"))\n",
        "        if num_usuario % 2 == 0:\n",
        "            print(f\"¡Gracias! Has ingresado el número par: {num_usuario}\")\n",
        "            entrada_valida = True\n",
        "        else:\n",
        "            print(\"Ese no es un número par. Inténtalo de nuevo.\")\n",
        "    except ValueError:\n",
        "        print(\"Entrada inválida. Por favor, ingresa un número entero.\")\n",
        "print(\"-\" * 30)"
      ],
      "outputs": [
        {
          "output_type": "stream",
          "name": "stdout",
          "text": [
            "Ejemplo 2: Validación de entrada de usuario\n",
            "Por favor, ingresa un número par: 5\n",
            "Ese no es un número par. Inténtalo de nuevo.\n",
            "Por favor, ingresa un número par: 4\n",
            "¡Gracias! Has ingresado el número par: 4\n",
            "------------------------------\n"
          ]
        }
      ],
      "execution_count": 4,
      "metadata": {
        "id": "KFuoVrwYF0uD",
        "outputId": "11f9f5fb-c961-4be9-cc4f-6e0363603aa8",
        "colab": {
          "base_uri": "https://localhost:8080/"
        }
      }
    },
    {
      "cell_type": "markdown",
      "source": [
        "### Ejercicios prácticos de `While`\n",
        "\n",
        "**Instrucción:** Resuelve cada ejercicio en la celda de código provista.\n",
        "\n",
        "#### Ejercicio `While` 1: Contador regresivo\n",
        "# Escribe un programa que use un bucle `while` para imprimir números del 10 al 1 en orden descendente."
      ],
      "metadata": {
        "id": "PQISfElUF0uD"
      }
    },
    {
      "cell_type": "code",
      "source": [
        "# Tu código aquí para el Ejercicio While 1\n",
        "print(\"Ejercicio While 1: Contador regresivo\")\n",
        "contador = 10\n",
        "while contador >= 1:\n",
        "    print(contador)\n",
        "    contador -= 1\n",
        "print(\"-\" * 30)"
      ],
      "outputs": [
        {
          "output_type": "stream",
          "name": "stdout",
          "text": [
            "Ejercicio While 1: Contador regresivo\n",
            "10\n",
            "9\n",
            "8\n",
            "7\n",
            "6\n",
            "5\n",
            "4\n",
            "3\n",
            "2\n",
            "1\n",
            "------------------------------\n"
          ]
        }
      ],
      "execution_count": 5,
      "metadata": {
        "id": "0QXCFbumF0uE",
        "outputId": "7dfd9f86-7f20-41c2-e3b7-b46863d06106",
        "colab": {
          "base_uri": "https://localhost:8080/"
        }
      }
    },
    {
      "cell_type": "markdown",
      "source": [
        "#### Ejercicio `While` 2: Sumar números hasta que se ingrese cero\n",
        "# Pide al usuario que ingrese números repetidamente. Suma todos los números ingresados hasta que el usuario ingrese 0. Luego, imprime la suma total."
      ],
      "metadata": {
        "id": "OKd8OlROF0uF"
      }
    },
    {
      "cell_type": "code",
      "source": [
        "# Tu código aquí para el Ejercicio While 2\n",
        "print(\"Ejercicio While 2: Sumar números hasta cero\")\n",
        "suma_total = 0\n",
        "numero_ingresado = -1 # Inicializar con un valor que no sea 0 para entrar al bucle\n",
        "while numero_ingresado != 0:\n",
        "    try:\n",
        "        numero_ingresado = int(input(\"Ingresa un número (0 para terminar): \"))\n",
        "        suma_total += numero_ingresado\n",
        "    except ValueError:\n",
        "        print(\"Entrada inválida. Por favor, ingresa un número entero.\")\n",
        "print(f\"La suma total de los números ingresados es: {suma_total}\")\n",
        "print(\"-\" * 30)"
      ],
      "outputs": [
        {
          "output_type": "stream",
          "name": "stdout",
          "text": [
            "Ejercicio While 2: Sumar números hasta cero\n",
            "Ingresa un número (0 para terminar): 2\n",
            "Ingresa un número (0 para terminar): 6\n",
            "Ingresa un número (0 para terminar): 7\n",
            "Ingresa un número (0 para terminar): 0\n",
            "La suma total de los números ingresados es: 15\n",
            "------------------------------\n"
          ]
        }
      ],
      "execution_count": 6,
      "metadata": {
        "id": "380-xJF4F0uF",
        "outputId": "32b1f0ea-e2aa-4d0d-c7dd-e94cb88634b1",
        "colab": {
          "base_uri": "https://localhost:8080/"
        }
      }
    },
    {
      "cell_type": "markdown",
      "source": [
        "#### Ejercicio `While` 3: Adivina el número\n",
        "# Genera un número secreto aleatorio entre 1 y 10. Pide al usuario que adivine el número. Da pistas (\"más alto\" o \"más bajo\") hasta que el usuario adivine correctamente."
      ],
      "metadata": {
        "id": "1fozRnIsF0uG"
      }
    },
    {
      "cell_type": "code",
      "source": [
        "# Tu código aquí para el Ejercicio While 3\n",
        "import random\n",
        "print(\"Ejercicio While 3: Adivina el número\")\n",
        "numero_secreto = random.randint(1, 10)\n",
        "adivinado = False\n",
        "intentos = 0\n",
        "while not adivinado:\n",
        "    try:\n",
        "        intento_usuario = int(input(\"Adivina el número secreto (entre 1 y 10): \"))\n",
        "        intentos += 1\n",
        "        if intento_usuario < numero_secreto:\n",
        "            print(\"El número secreto es más alto.\")\n",
        "        elif intento_usuario > numero_secreto:\n",
        "            print(\"El número secreto es más bajo.\")\n",
        "        else:\n",
        "            print(f\"¡Felicidades! Adivinaste el número {numero_secreto} en {intentos} intentos.\")\n",
        "            adivinado = True\n",
        "    except ValueError:\n",
        "        print(\"Entrada inválida. Por favor, ingresa un número entero.\")\n",
        "print(\"-\" * 30)"
      ],
      "outputs": [
        {
          "output_type": "stream",
          "name": "stdout",
          "text": [
            "Ejercicio While 3: Adivina el número\n",
            "Adivina el número secreto (entre 1 y 10): 2\n",
            "El número secreto es más alto.\n",
            "Adivina el número secreto (entre 1 y 10): 3\n",
            "El número secreto es más alto.\n",
            "Adivina el número secreto (entre 1 y 10): 5\n",
            "El número secreto es más alto.\n",
            "Adivina el número secreto (entre 1 y 10): 10\n",
            "El número secreto es más bajo.\n",
            "Adivina el número secreto (entre 1 y 10): 8\n",
            "El número secreto es más bajo.\n",
            "Adivina el número secreto (entre 1 y 10): 7\n",
            "El número secreto es más bajo.\n",
            "Adivina el número secreto (entre 1 y 10): 6\n",
            "¡Felicidades! Adivinaste el número 6 en 7 intentos.\n",
            "------------------------------\n"
          ]
        }
      ],
      "execution_count": 7,
      "metadata": {
        "id": "Ty_VtcfYF0uG",
        "outputId": "6dd27d46-e756-42cd-8e36-2a299e192930",
        "colab": {
          "base_uri": "https://localhost:8080/"
        }
      }
    },
    {
      "cell_type": "markdown",
      "source": [
        "#### Ejercicio `While` 4: Menú interactivo\n",
        "# Crea un menú simple que se muestre repetidamente. El usuario puede elegir opciones como \"Ver\", \"Editar\", \"Eliminar\" o \"Salir\". El bucle debe continuar hasta que el usuario elija \"Salir\"."
      ],
      "metadata": {
        "id": "JneCdQwQF0uH"
      }
    },
    {
      "cell_type": "code",
      "source": [
        "# Tu código aquí para el Ejercicio While 4\n",
        "print(\"Ejercicio While 4: Menú interactivo\")\n",
        "opcion = ''\n",
        "while opcion != '4':\n",
        "    print(\"\\n--- MENÚ ---\")\n",
        "    print(\"1. Ver\")\n",
        "    print(\"2. Editar\")\n",
        "    print(\"3. Eliminar\")\n",
        "    print(\"4. Salir\")\n",
        "    opcion = input(\"Elige una opción: \")\n",
        "\n",
        "    if opcion == '1':\n",
        "        print(\"Has elegido Ver.\")\n",
        "    elif opcion == '2':\n",
        "        print(\"Has elegido Editar.\")\n",
        "    elif opcion == '3':\n",
        "        print(\"Has elegido Eliminar.\")\n",
        "    elif opcion == '4':\n",
        "        print(\"Saliendo del programa. ¡Hasta luego!\")\n",
        "    else:\n",
        "        print(\"Opción inválida. Inténtalo de nuevo.\")\n",
        "print(\"-\" * 30)"
      ],
      "outputs": [
        {
          "output_type": "stream",
          "name": "stdout",
          "text": [
            "Ejercicio While 4: Menú interactivo\n",
            "\n",
            "--- MENÚ ---\n",
            "1. Ver\n",
            "2. Editar\n",
            "3. Eliminar\n",
            "4. Salir\n",
            "Elige una opción: 1\n",
            "Has elegido Ver.\n",
            "\n",
            "--- MENÚ ---\n",
            "1. Ver\n",
            "2. Editar\n",
            "3. Eliminar\n",
            "4. Salir\n",
            "Elige una opción: 2\n",
            "Has elegido Editar.\n",
            "\n",
            "--- MENÚ ---\n",
            "1. Ver\n",
            "2. Editar\n",
            "3. Eliminar\n",
            "4. Salir\n",
            "Elige una opción: 4\n",
            "Saliendo del programa. ¡Hasta luego!\n",
            "------------------------------\n"
          ]
        }
      ],
      "execution_count": 8,
      "metadata": {
        "id": "QKvn8yaPF0uH",
        "outputId": "8f4186a9-70c1-451e-c1b8-c01e65f26b47",
        "colab": {
          "base_uri": "https://localhost:8080/"
        }
      }
    },
    {
      "cell_type": "markdown",
      "source": [
        "#### Ejercicio `While` 5: Cálculo del factorial\n",
        "# Pide al usuario un número entero no negativo. Calcula su factorial usando un bucle `while`. (El factorial de N es N * (N-1) * ... * 1. El factorial de 0 es 1)."
      ],
      "metadata": {
        "id": "A6LvwxCmF0uH"
      }
    },
    {
      "cell_type": "code",
      "source": [
        "# Tu código aquí para el Ejercicio While 5\n",
        "print(\"Ejercicio While 5: Cálculo del factorial\")\n",
        "try:\n",
        "    num = int(input(\"Ingresa un número entero no negativo para calcular su factorial: \"))\n",
        "    if num < 0:\n",
        "        print(\"El factorial no está definido para números negativos.\")\n",
        "    elif num == 0:\n",
        "        print(\"El factorial de 0 es 1.\")\n",
        "    else:\n",
        "        factorial = 1\n",
        "        i = 1\n",
        "        while i <= num:\n",
        "            factorial *= i\n",
        "            i += 1\n",
        "        print(f\"El factorial de {num} es {factorial}.\")\n",
        "except ValueError:\n",
        "    print(\"Entrada inválida. Por favor, ingresa un número entero.\")\n",
        "print(\"-\" * 30)"
      ],
      "outputs": [
        {
          "output_type": "stream",
          "name": "stdout",
          "text": [
            "Ejercicio While 5: Cálculo del factorial\n",
            "Ingresa un número entero no negativo para calcular su factorial: 5\n",
            "El factorial de 5 es 120.\n",
            "------------------------------\n"
          ]
        }
      ],
      "execution_count": 9,
      "metadata": {
        "id": "CRx0qH1aF0uI",
        "outputId": "59e9dbc6-2708-467c-a13a-3bbc3b6d1a6e",
        "colab": {
          "base_uri": "https://localhost:8080/"
        }
      }
    },
    {
      "cell_type": "markdown",
      "source": [
        "#### Ejercicio `While` 6: Sucesión de Fibonacci hasta un límite\n",
        "# Imprime los números de la sucesión de Fibonacci hasta que el valor sea mayor que 100. (La sucesión comienza con 0, 1 y cada número es la suma de los dos anteriores: 0, 1, 1, 2, 3, 5, 8...)."
      ],
      "metadata": {
        "id": "ye5QJoTgF0uI"
      }
    },
    {
      "cell_type": "code",
      "source": [
        "# Tu código aquí para el Ejercicio While 6\n",
        "print(\"Ejercicio While 6: Sucesión de Fibonacci\")\n",
        "a, b = 0, 1\n",
        "print(a)\n",
        "while b <= 100:\n",
        "    print(b)\n",
        "    a, b = b, a + b\n",
        "print(\"-\" * 30)"
      ],
      "outputs": [
        {
          "output_type": "stream",
          "name": "stdout",
          "text": [
            "Ejercicio While 6: Sucesión de Fibonacci\n",
            "0\n",
            "1\n",
            "1\n",
            "2\n",
            "3\n",
            "5\n",
            "8\n",
            "13\n",
            "21\n",
            "34\n",
            "55\n",
            "89\n",
            "------------------------------\n"
          ]
        }
      ],
      "execution_count": 10,
      "metadata": {
        "id": "VkcVLF8YF0uI",
        "outputId": "681df615-c455-4d72-8955-6b69c1f6e9e8",
        "colab": {
          "base_uri": "https://localhost:8080/"
        }
      }
    },
    {
      "cell_type": "markdown",
      "source": [
        "#### Ejercicio `While` 7: Contar dígitos de un número\n",
        "# Pide un número entero al usuario y usa un bucle `while` para contar cuántos dígitos tiene."
      ],
      "metadata": {
        "id": "ez4ATujJF0uI"
      }
    },
    {
      "cell_type": "code",
      "source": [
        "# Tu código aquí para el Ejercicio While 7\n",
        "print(\"Ejercicio While 7: Contar dígitos\")\n",
        "while True:\n",
        "    entrada = input(\"Ingresa un número entero: \")\n",
        "    try:\n",
        "        numero = int(entrada)\n",
        "        break\n",
        "    except ValueError:\n",
        "        print(\"Eso no es un número entero válido. Intenta nuevamente.\")\n",
        "\n",
        "# Guardar el número original para mostrarlo después\n",
        "numero_original = numero\n",
        "\n",
        "# Trabajar con el valor absoluto\n",
        "numero = abs(numero)\n",
        "\n",
        "# Contar los dígitos\n",
        "if numero == 0:\n",
        "    cantidad_digitos = 1\n",
        "else:\n",
        "    cantidad_digitos = 0\n",
        "    while numero > 0:\n",
        "        numero //= 10\n",
        "        cantidad_digitos += 1\n",
        "\n",
        "# Mostrar resultado usando el número original\n",
        "print(f\"El número {numero_original} tiene {cantidad_digitos} dígitos.\")"
      ],
      "outputs": [
        {
          "output_type": "stream",
          "name": "stdout",
          "text": [
            "Ejercicio While 7: Contar dígitos\n",
            "Ingresa un número entero: hjkhjk\n",
            "Eso no es un número entero válido. Intenta nuevamente.\n",
            "Ingresa un número entero: 5468465\n",
            "El número 5468465 tiene 7 dígitos.\n"
          ]
        }
      ],
      "execution_count": 22,
      "metadata": {
        "id": "3MF5I7bxF0uI",
        "outputId": "6a1f30fb-ac93-4d72-8360-786669772075",
        "colab": {
          "base_uri": "https://localhost:8080/"
        }
      }
    },
    {
      "cell_type": "markdown",
      "source": [
        "#### Ejercicio `While` 8: Validación de contraseña con intentos limitados\n",
        "# Pide una contraseña. Si es \"python123\", acceso concedido. Si no, permite 3 intentos. Después de 3 intentos fallidos, bloquea el acceso."
      ],
      "metadata": {
        "id": "hlgnDzvfF0uJ"
      }
    },
    {
      "cell_type": "code",
      "source": [
        "# Tu código aquí para el Ejercicio While 8\n",
        "contraseña_correcta = \"python123\"\n",
        "intentos = 0\n",
        "max_intentos = 3\n",
        "\n",
        "while intentos < max_intentos:\n",
        "    contraseña_ingresada = input(\"Ingresa la contraseña: \")\n",
        "    if contraseña_ingresada == contraseña_correcta:\n",
        "        print(\"Acceso concedido.\")\n",
        "        break\n",
        "    else:\n",
        "        intentos += 1\n",
        "        intentos_restantes = max_intentos - intentos\n",
        "        if intentos_restantes > 0:\n",
        "            print(f\"Contraseña incorrecta. Te quedan {intentos_restantes} intentos.\")\n",
        "        else:\n",
        "            print(\"Acceso bloqueado. Demasiados intentos fallidos.\")"
      ],
      "outputs": [
        {
          "output_type": "stream",
          "name": "stdout",
          "text": [
            "Ingresa la contraseña: asdasds\n",
            "Contraseña incorrecta. Te quedan 2 intentos.\n",
            "Ingresa la contraseña: asdasdadss\n",
            "Contraseña incorrecta. Te quedan 1 intentos.\n",
            "Ingresa la contraseña: python123\n",
            "Acceso concedido.\n"
          ]
        }
      ],
      "execution_count": 27,
      "metadata": {
        "id": "t6CyJueyF0uL",
        "colab": {
          "base_uri": "https://localhost:8080/"
        },
        "outputId": "55a3de25-28c2-4e1c-ec6f-7d3cf9ecd6eb"
      }
    },
    {
      "cell_type": "markdown",
      "source": [
        "---\n",
        "\n",
        "## 4. La sentencia `For`\n",
        "\n",
        "### Explicación y Sintaxis\n",
        "\n",
        "El bucle `for` se utiliza cuando sabemos cuántas veces queremos repetir una acción o cuando iteramos sobre una colección de datos (como listas, tuplas, diccionarios, cadenas, etc.). Se usa para recorrer los elementos de una secuencia uno por uno.\n",
        "\n",
        "**Sintaxis básica:**"
      ],
      "metadata": {
        "id": "v-yQ8sArF0uL"
      }
    },
    {
      "cell_type": "code",
      "source": [
        "for elemento in secuencia:\n",
        "    # Bloque de código a ejecutar para cada elemento"
      ],
      "outputs": [],
      "execution_count": null,
      "metadata": {
        "id": "eq_aW5V_F0uM"
      }
    },
    {
      "cell_type": "markdown",
      "source": [
        "### Ejemplos de `For`\n",
        "\n",
        "#### Ejemplo 1: Iterar sobre una lista"
      ],
      "metadata": {
        "id": "eA6Uzw2vF0uM"
      }
    },
    {
      "cell_type": "code",
      "source": [
        "print(\"Ejemplo 1: Iterar sobre una lista\")\n",
        "frutas = [\"Manzana\", \"Banana\", \"Cereza\"]\n",
        "for fruta in frutas:\n",
        "    print(f\"Me gusta la {fruta}\") #\n",
        "print(\"-\" * 30)"
      ],
      "outputs": [
        {
          "output_type": "stream",
          "name": "stdout",
          "text": [
            "Ejemplo 1: Iterar sobre una lista\n",
            "Me gusta la Manzana\n",
            "Me gusta la Banana\n",
            "Me gusta la Cereza\n",
            "------------------------------\n"
          ]
        }
      ],
      "execution_count": 28,
      "metadata": {
        "id": "CsOlGDKmF0uM",
        "outputId": "02c4c8cb-80f7-450e-f32c-0f1b6e3ed709",
        "colab": {
          "base_uri": "https://localhost:8080/"
        }
      }
    },
    {
      "cell_type": "markdown",
      "source": [
        "#### Ejemplo 2: Iterar sobre una cadena de texto"
      ],
      "metadata": {
        "id": "GXLaoQ8vF0uM"
      }
    },
    {
      "cell_type": "code",
      "source": [
        "print(\"Ejemplo 2: Iterar sobre una cadena de texto\")\n",
        "\n",
        "texto = \"Hola Mundo\"\n",
        "\n",
        "for letra in reversed(texto):\n",
        "    print(letra)"
      ],
      "outputs": [
        {
          "output_type": "stream",
          "name": "stdout",
          "text": [
            "Ejemplo 2: Iterar sobre una cadena de texto\n",
            "o\n",
            "d\n",
            "n\n",
            "u\n",
            "M\n",
            " \n",
            "a\n",
            "l\n",
            "o\n",
            "H\n"
          ]
        }
      ],
      "execution_count": 31,
      "metadata": {
        "id": "WoJtRifiF0uN",
        "outputId": "790d5d45-f701-4aed-a573-568fe6e097b3",
        "colab": {
          "base_uri": "https://localhost:8080/"
        }
      }
    },
    {
      "cell_type": "markdown",
      "source": [
        "### Iterando Listas de Elementos\n",
        "\n",
        "Las listas en Python permiten almacenar múltiples valores en una sola variable. Podemos recorrerlas con `For` para realizar operaciones en cada elemento.\n",
        "\n",
        "#### Ejemplo: Duplicar valores en una lista"
      ],
      "metadata": {
        "id": "s5NkiWWZF0uN"
      }
    },
    {
      "cell_type": "code",
      "source": [
        "print(\"Ejemplo de Iterando Listas: Duplicar valores\")\n",
        "numeros_originales = [10, 20, 30, 40]\n",
        "print(f\"Lista original: {numeros_originales}\")\n",
        "print(\"Valores duplicados:\")\n",
        "for num in numeros_originales:\n",
        "    print(num * 2) #\n",
        "print(\"-\" * 30)"
      ],
      "outputs": [
        {
          "output_type": "stream",
          "name": "stdout",
          "text": [
            "Ejemplo de Iterando Listas: Duplicar valores\n",
            "Lista original: [10, 20, 30, 40]\n",
            "Valores duplicados:\n",
            "20\n",
            "40\n",
            "60\n",
            "80\n",
            "------------------------------\n"
          ]
        }
      ],
      "execution_count": 32,
      "metadata": {
        "id": "mcOIxxRYF0uN",
        "outputId": "b1ffb343-c3e5-4e6a-96c3-c373e0c271ca",
        "colab": {
          "base_uri": "https://localhost:8080/"
        }
      }
    },
    {
      "cell_type": "markdown",
      "source": [
        "### Iterando Diccionarios de Elementos\n",
        "\n",
        "Los diccionarios almacenan datos en pares clave-valor. Podemos iterar sobre ellos para extraer información de varias maneras:\n",
        "* Directamente sobre el diccionario: itera sobre las **claves**.\n",
        "* `dict.keys()`: itera explícitamente sobre las **claves**.\n",
        "* `dict.values()`: itera explícitamente sobre los **valores**.\n",
        "* `dict.items()`: itera sobre pares **(clave, valor)**.\n",
        "\n",
        "#### Ejemplo: Mostrar precios de frutas"
      ],
      "metadata": {
        "id": "dZvGhYSqF0uN"
      }
    },
    {
      "cell_type": "code",
      "source": [
        "print(\"Ejemplo de Iterando Diccionarios: Mostrar precios\")\n",
        "precios = {\"manzana\": 100, \"banana\": 50, \"cereza\": 75}\n",
        "\n",
        "print(\"Iterando sobre claves y valores con .items():\")\n",
        "for fruta, precio in precios.items():\n",
        "    print(f\"La {fruta} cuesta {precio} pesos\") #\n",
        "\n",
        "print(\"\\nIterando solo sobre claves:\")\n",
        "for fruta in precios.keys():\n",
        "    print(f\"Fruta: {fruta}\")\n",
        "\n",
        "print(\"\\nIterando solo sobre valores:\")\n",
        "for precio in precios.values():\n",
        "    print(f\"Precio: {precio}\")\n",
        "print(\"-\" * 30)"
      ],
      "outputs": [
        {
          "output_type": "stream",
          "name": "stdout",
          "text": [
            "Ejemplo de Iterando Diccionarios: Mostrar precios\n",
            "Iterando sobre claves y valores con .items():\n",
            "La manzana cuesta 100 pesos\n",
            "La banana cuesta 50 pesos\n",
            "La cereza cuesta 75 pesos\n",
            "\n",
            "Iterando solo sobre claves:\n",
            "Fruta: manzana\n",
            "Fruta: banana\n",
            "Fruta: cereza\n",
            "\n",
            "Iterando solo sobre valores:\n",
            "Precio: 100\n",
            "Precio: 50\n",
            "Precio: 75\n",
            "------------------------------\n"
          ]
        }
      ],
      "execution_count": 33,
      "metadata": {
        "id": "mlkxemNsF0uN",
        "outputId": "d5953219-9168-4790-a827-6205e7a9ea6e",
        "colab": {
          "base_uri": "https://localhost:8080/"
        }
      }
    },
    {
      "cell_type": "markdown",
      "source": [
        "### La función `range()`\n",
        "\n",
        "La función `range()` nos permite generar secuencias de números de manera sencilla. Es especialmente útil con el bucle `for` cuando queremos realizar un número específico de repeticiones o iterar a través de índices.\n",
        "\n",
        "**Sintaxis de `range()`:**\n",
        "* `range(fin)`: Genera números desde 0 hasta `fin-1`.\n",
        "* `range(inicio, fin)`: Genera números desde `inicio` hasta `fin-1`.\n",
        "* `range(inicio, fin, paso)`: Genera números desde `inicio` hasta `fin-1`, incrementando en `paso`.\n",
        "\n",
        "#### Ejemplo: Imprimir números del 1 al 5 usando `range()`"
      ],
      "metadata": {
        "id": "8gG5EwLrF0uO"
      }
    },
    {
      "cell_type": "code",
      "source": [
        "print(\"Ejemplo de `range()`: Números del 1 al 5\")\n",
        "for i in range(1, 6): # El 6 es exclusivo, por eso va hasta 5\n",
        "    print(i)\n",
        "print(\"-\" * 30)"
      ],
      "outputs": [
        {
          "output_type": "stream",
          "name": "stdout",
          "text": [
            "Ejemplo de `range()`: Números del 1 al 5\n",
            "1\n",
            "2\n",
            "3\n",
            "4\n",
            "5\n",
            "------------------------------\n"
          ]
        }
      ],
      "execution_count": 34,
      "metadata": {
        "id": "4BkJ_0jhF0uO",
        "outputId": "96960d67-1946-408e-c3ef-aa2946112a18",
        "colab": {
          "base_uri": "https://localhost:8080/"
        }
      }
    },
    {
      "cell_type": "markdown",
      "source": [
        "#### Ejemplo: Iterar un número específico de veces"
      ],
      "metadata": {
        "id": "E5YOVYJMF0uO"
      }
    },
    {
      "cell_type": "code",
      "source": [
        "print(\"Ejemplo de `range()`: Iterar un número específico de veces\")\n",
        "for i in range(3): # Itera 3 veces (i tomará valores 0, 1, 2)\n",
        "    print(f\"Iteración {i+1}\") # Sumamos 1 para que la cuenta empiece en 1\n",
        "print(\"-\" * 30)"
      ],
      "outputs": [
        {
          "output_type": "stream",
          "name": "stdout",
          "text": [
            "Ejemplo de `range()`: Iterar un número específico de veces\n",
            "Iteración 1\n",
            "Iteración 2\n",
            "Iteración 3\n",
            "------------------------------\n"
          ]
        }
      ],
      "execution_count": 35,
      "metadata": {
        "id": "-z8wATI6F0uO",
        "outputId": "f5dfa0e8-2f18-4f7d-8fc2-379988b6dddf",
        "colab": {
          "base_uri": "https://localhost:8080/"
        }
      }
    },
    {
      "cell_type": "markdown",
      "source": [
        "### Ejercicios prácticos de `For` (Listas y Cadenas)\n",
        "\n",
        "#### Ejercicio `For` 9: Suma de elementos de una lista\n",
        "# Dada una lista de números, usa un bucle `for` para calcular e imprimir la suma de todos los elementos."
      ],
      "metadata": {
        "id": "s2-UvVG1F0uP"
      }
    },
    {
      "cell_type": "code",
      "source": [],
      "outputs": [],
      "execution_count": null,
      "metadata": {
        "id": "ONCLvxm1F0uP"
      }
    },
    {
      "cell_type": "markdown",
      "source": [
        "#### Ejercicio `For` 10: Filtrar números pares\n",
        "# Dada una lista de números, usa un bucle `for` para crear una nueva lista que contenga solo los números pares."
      ],
      "metadata": {
        "id": "OXDQz94FF0uP"
      }
    },
    {
      "cell_type": "code",
      "source": [],
      "outputs": [],
      "execution_count": null,
      "metadata": {
        "id": "P9aekgtcF0uP"
      }
    },
    {
      "cell_type": "markdown",
      "source": [
        "#### Ejercicio `For` 11: Contar vocales\n",
        "# Pide al usuario una frase y usa un bucle `for` para contar cuántas vocales (a, e, i, o, u, mayúsculas y minúsculas) hay en ella."
      ],
      "metadata": {
        "id": "kNs3-LlkF0uT"
      }
    },
    {
      "cell_type": "code",
      "source": [
        "frase_usuario = input(\"Ingrese una frase: \")\n",
        "vocales = \"aeiouáéíóú\"\n",
        "contar_vocales = 0\n",
        "for letra in frase_usuario.lower():\n",
        "  if letra in vocales:\n",
        "    contar_vocales += 1\n",
        "print(f\"La frase {frase_usuario} tiene {contar_vocales} vocales\")"
      ],
      "outputs": [
        {
          "output_type": "stream",
          "name": "stdout",
          "text": [
            "Ingrese una frase: cacapipi\n",
            "La frase cacapipi tiene 4 vocales\n"
          ]
        }
      ],
      "execution_count": 36,
      "metadata": {
        "id": "hwLsu72FF0uT",
        "outputId": "0c46cdfd-6efa-4cd6-ac65-7ed5e26818d8",
        "colab": {
          "base_uri": "https://localhost:8080/"
        }
      }
    },
    {
      "cell_type": "markdown",
      "source": [
        "#### Ejercicio `For` 12: Invertir una cadena\n",
        "# Pide al usuario una palabra o frase y usa un bucle `for` para invertirla. Imprime la cadena invertida."
      ],
      "metadata": {
        "id": "ywYzysh-F0uT"
      }
    },
    {
      "cell_type": "code",
      "source": [],
      "outputs": [],
      "execution_count": null,
      "metadata": {
        "id": "Nv_Q2pcXF0uT"
      }
    },
    {
      "cell_type": "markdown",
      "source": [
        "#### Ejercicio `For` 13: Encontrar el número más grande\n",
        "# Dada una lista de números, usa un bucle `for` para encontrar e imprimir el número más grande."
      ],
      "metadata": {
        "id": "O2ju68alF0uT"
      }
    },
    {
      "cell_type": "code",
      "source": [],
      "outputs": [],
      "execution_count": null,
      "metadata": {
        "id": "tfvGAjsKF0uU"
      }
    },
    {
      "cell_type": "markdown",
      "source": [
        "#### Ejercicio `For` 14: Eliminar duplicados\n",
        "# Dada una lista con elementos duplicados, usa un bucle `for` para crear una nueva lista que contenga solo elementos únicos, manteniendo el orden de la primera aparición."
      ],
      "metadata": {
        "id": "qQiM4RPnF0uU"
      }
    },
    {
      "cell_type": "code",
      "source": [
        "# Tu código aquí para el Ejercicio For 14\n"
      ],
      "outputs": [],
      "execution_count": null,
      "metadata": {
        "id": "w555rYkkF0uU"
      }
    },
    {
      "cell_type": "markdown",
      "source": [
        "#### Ejercicio `For` 15: Unir elementos\n",
        "# Dada una lista de palabras, únelas en una sola cadena de texto separadas por un espacio."
      ],
      "metadata": {
        "id": "ZJjuJ4ylF0uU"
      }
    },
    {
      "cell_type": "code",
      "source": [],
      "outputs": [],
      "execution_count": null,
      "metadata": {
        "id": "_-FjPfBxF0uU"
      }
    },
    {
      "cell_type": "markdown",
      "source": [
        "#### Ejercicio `For` 16: Filtrar palabras por inicial\n",
        "# Dada una lista de palabras, pide al usuario una letra. Imprime solo las palabras que empiezan con esa letra (ignorando mayúsculas/minúsculas)."
      ],
      "metadata": {
        "id": "mLduWvAYF0uV"
      }
    },
    {
      "cell_type": "code",
      "source": [
        "# Tu código aquí para el Ejercicio For 16\n"
      ],
      "outputs": [],
      "execution_count": null,
      "metadata": {
        "id": "iMyGsnLeF0uV"
      }
    },
    {
      "cell_type": "markdown",
      "source": [
        "#### Ejercicio `For` 17: Contar ocurrencias\n",
        "# Dada una lista y un elemento, usa un bucle `for` para contar cuántas veces aparece ese elemento en la lista."
      ],
      "metadata": {
        "id": "qJAt88BfF0uV"
      }
    },
    {
      "cell_type": "code",
      "source": [
        "# Tu código aquí para el Ejercicio For 17\n"
      ],
      "outputs": [],
      "execution_count": null,
      "metadata": {
        "id": "_ZoyYDL3F0uV"
      }
    },
    {
      "cell_type": "markdown",
      "source": [
        "#### Ejercicio `For` 18: Crear lista de cuadrados\n",
        "# Dada una lista de números, crea una nueva lista donde cada elemento sea el cuadrado del elemento original."
      ],
      "metadata": {
        "id": "DdpzRzyAF0uW"
      }
    },
    {
      "cell_type": "code",
      "source": [
        "# Tu código aquí para el Ejercicio For 18\n"
      ],
      "outputs": [],
      "execution_count": null,
      "metadata": {
        "id": "xn0ql2vIF0uW"
      }
    },
    {
      "cell_type": "markdown",
      "source": [
        "#### Ejercicio `For` 19: Elementos e índices\n",
        "# Dada una lista, usa `for` para imprimir cada elemento junto con su índice."
      ],
      "metadata": {
        "id": "FGTMsj9QF0uW"
      }
    },
    {
      "cell_type": "code",
      "source": [
        "# Tu código aquí para el Ejercicio For 19\n"
      ],
      "outputs": [],
      "execution_count": null,
      "metadata": {
        "id": "lFF2hW2zF0uW"
      }
    },
    {
      "cell_type": "markdown",
      "source": [
        "### Ejercicios prácticos de `For` (Diccionarios)\n",
        "\n",
        "#### Ejercicio `For` 21: Imprimir solo claves\n",
        "# Dado un diccionario, imprime todas sus claves."
      ],
      "metadata": {
        "id": "y5_nnUWzF0uX"
      }
    },
    {
      "cell_type": "code",
      "source": [
        "# Tu código aquí para el Ejercicio For 21\n"
      ],
      "outputs": [],
      "execution_count": null,
      "metadata": {
        "id": "vB9DIPiDF0uX"
      }
    },
    {
      "cell_type": "markdown",
      "source": [
        "#### Ejercicio `For` 22: Imprimir solo valores\n",
        "# Dado un diccionario, imprime todos sus valores."
      ],
      "metadata": {
        "id": "XKios6_RF0uX"
      }
    },
    {
      "cell_type": "code",
      "source": [
        "# Tu código aquí para el Ejercicio For 22\n"
      ],
      "outputs": [],
      "execution_count": null,
      "metadata": {
        "id": "joKSzLdqF0uX"
      }
    },
    {
      "cell_type": "markdown",
      "source": [
        "#### Ejercicio `For` 23: Actualizar valores\n",
        "# Dado un diccionario de productos y sus precios, aumenta el precio de cada producto en un 10%."
      ],
      "metadata": {
        "id": "BQ9qxnMBF0uY"
      }
    },
    {
      "cell_type": "code",
      "source": [
        "# Tu código aquí para el Ejercicio For 23\n"
      ],
      "outputs": [],
      "execution_count": null,
      "metadata": {
        "id": "0J0xFOXwF0uY"
      }
    },
    {
      "cell_type": "markdown",
      "source": [
        "#### Ejercicio `For` 24: Filtrar por valor\n",
        "# Dado un diccionario de estudiantes y sus calificaciones, crea un nuevo diccionario con solo los estudiantes que tienen una calificación mayor o igual a 70."
      ],
      "metadata": {
        "id": "bULiRD8QF0uY"
      }
    },
    {
      "cell_type": "code",
      "source": [
        "# Tu código aquí para el Ejercicio For 24\n"
      ],
      "outputs": [],
      "execution_count": null,
      "metadata": {
        "id": "WQMgAoV8F0uY"
      }
    },
    {
      "cell_type": "markdown",
      "source": [
        "#### Ejercicio `For` 25: Combinar diccionarios\n",
        "# Dados dos diccionarios, combínalos en uno solo. Si hay claves duplicadas, el valor del segundo diccionario debe prevalecer."
      ],
      "metadata": {
        "id": "BVekdq1BF0uY"
      }
    },
    {
      "cell_type": "code",
      "source": [
        "# Tu código aquí para el Ejercicio For 25\n"
      ],
      "outputs": [],
      "execution_count": null,
      "metadata": {
        "id": "Owo9cuIxF0uY"
      }
    },
    {
      "cell_type": "markdown",
      "source": [
        "#### Ejercicio `For` 26: Contar frecuencia de palabras\n",
        "# Dada una cadena de texto, usa un diccionario para contar la frecuencia de cada palabra."
      ],
      "metadata": {
        "id": "D_mEvCIOF0uZ"
      }
    },
    {
      "cell_type": "code",
      "source": [
        "# Tu código aquí para el Ejercicio For 26\n"
      ],
      "outputs": [],
      "execution_count": null,
      "metadata": {
        "id": "FjAZIUWgF0uZ"
      }
    },
    {
      "cell_type": "markdown",
      "source": [
        "#### Ejercicio `For` 27: Encontrar la clave con el valor máximo\n",
        "# Dado un diccionario de items y sus cantidades, encuentra el item con la cantidad más alta."
      ],
      "metadata": {
        "id": "YvUqxcDzF0uZ"
      }
    },
    {
      "cell_type": "code",
      "source": [
        "# Tu código aquí para el Ejercicio For 27\n"
      ],
      "outputs": [],
      "execution_count": null,
      "metadata": {
        "id": "LLXtdBZ9F0uZ"
      }
    },
    {
      "cell_type": "markdown",
      "source": [
        "#### Ejercicio `For` 28: Sumar valores numéricos\n",
        "# Dado un diccionario que puede contener valores de diferentes tipos, suma solo los valores que son numéricos (int o float)."
      ],
      "metadata": {
        "id": "3KwES2PZF0uZ"
      }
    },
    {
      "cell_type": "code",
      "source": [
        "# Tu código aquí para el Ejercicio For 28\n"
      ],
      "outputs": [],
      "execution_count": null,
      "metadata": {
        "id": "--ChUOD0F0uZ"
      }
    },
    {
      "cell_type": "markdown",
      "source": [
        "#### Ejercicio `For` 29: Invertir claves y valores (si los valores son únicos)\n",
        "# Dado un diccionario, crea un nuevo diccionario donde las claves originales se conviertan en valores y los valores originales se conviertan en claves. Asume que los valores originales son únicos para que puedan ser claves."
      ],
      "metadata": {
        "id": "N-SHi6oRF0ua"
      }
    },
    {
      "cell_type": "code",
      "source": [
        "# Tu código aquí para el Ejercicio For 29\n",
        "print(\"Ejercicio For 29: Invertir claves y valores\")\n"
      ],
      "outputs": [],
      "execution_count": null,
      "metadata": {
        "id": "SOhXVzaOF0ua"
      }
    },
    {
      "cell_type": "markdown",
      "source": [
        "#### Ejercicio `For` 30: Contar items por categoría\n",
        "# Dado un diccionario donde las claves son categorías y los valores son listas de ítems, cuenta el número total de ítems en todas las categorías."
      ],
      "metadata": {
        "id": "xqHjxgw0F0ub"
      }
    },
    {
      "cell_type": "code",
      "source": [
        "# Tu código aquí para el Ejercicio For 30\n"
      ],
      "outputs": [],
      "execution_count": null,
      "metadata": {
        "id": "-Jrb8lrhF0ub"
      }
    },
    {
      "cell_type": "markdown",
      "source": [
        "### Ejercicios prácticos de `For` con `range()`\n",
        "\n",
        "#### Ejercicio `For` 31: Tabla de multiplicar\n",
        "# Pide al usuario un número y usa un bucle `for` con `range()` para imprimir su tabla de multiplicar del 1 al 10."
      ],
      "metadata": {
        "id": "W4U5yxphF0ub"
      }
    },
    {
      "cell_type": "code",
      "source": [
        "# Tu código aquí para el Ejercicio For 31\n"
      ],
      "outputs": [],
      "execution_count": null,
      "metadata": {
        "id": "WfHt3cjSF0ub"
      }
    },
    {
      "cell_type": "markdown",
      "source": [
        "#### Ejercicio `For` 32: Suma de los primeros N números\n",
        "# Pide al usuario un número entero `N`. Usa un bucle `for` con `range()` para calcular la suma de los primeros `N` números enteros."
      ],
      "metadata": {
        "id": "4agc_ENiF0ub"
      }
    },
    {
      "cell_type": "code",
      "source": [
        "# Tu código aquí para el Ejercicio For 32\n"
      ],
      "outputs": [],
      "execution_count": null,
      "metadata": {
        "id": "Zx54YTViF0ub"
      }
    },
    {
      "cell_type": "markdown",
      "source": [
        "#### Ejercicio `For` 33: Números pares en un rango\n",
        "# Usa `range()` y un bucle `for` para imprimir todos los números pares del 0 al 20 (inclusive)."
      ],
      "metadata": {
        "id": "x6uLEJ0MF0ub"
      }
    },
    {
      "cell_type": "code",
      "source": [
        "# Tu código aquí para el Ejercicio For 33\n"
      ],
      "outputs": [],
      "execution_count": null,
      "metadata": {
        "id": "6Z2E5NcoF0ub"
      }
    },
    {
      "cell_type": "markdown",
      "source": [
        "#### Ejercicio `For` 34: Pirámide de asteriscos\n",
        "# Pide al usuario un número `N`. Usa bucles `for` (uno o anidados) con `range()` para imprimir una pirámide de asteriscos de `N` filas."
      ],
      "metadata": {
        "id": "VjX8ULirF0uc"
      }
    },
    {
      "cell_type": "code",
      "source": [
        "# Tu código aquí para el Ejercicio For 34\n",
        "print(\"Ejercicio For 34: Pirámide de asteriscos\")\n"
      ],
      "outputs": [],
      "execution_count": null,
      "metadata": {
        "id": "YVcAn7eoF0uc"
      }
    },
    {
      "cell_type": "markdown",
      "source": [
        "#### Ejercicio `For` 35: Lista de números aleatorios\n",
        "# Genera una lista de 5 números enteros aleatorios entre 1 y 100 usando un bucle `for` y `random.randint()`."
      ],
      "metadata": {
        "id": "I9G_57k5F0uc"
      }
    },
    {
      "cell_type": "code",
      "source": [
        "# Tu código aquí para el Ejercicio For 35\n",
        "import random\n"
      ],
      "outputs": [],
      "execution_count": null,
      "metadata": {
        "id": "CSJRfYuVF0uc"
      }
    },
    {
      "cell_type": "markdown",
      "source": [
        "#### Ejercicio `For` 36: Contar múltiplos\n",
        "# Pide al usuario dos números: `limite` y `multiplo`. Cuenta cuántos números entre 1 y `limite` (inclusive) son múltiplos de `multiplo`."
      ],
      "metadata": {
        "id": "yO7t5ow8F0uc"
      }
    },
    {
      "cell_type": "code",
      "source": [
        "# Tu código aquí para el Ejercicio For 36\n"
      ],
      "outputs": [],
      "execution_count": null,
      "metadata": {
        "id": "C4n3EPQSF0uc"
      }
    },
    {
      "cell_type": "markdown",
      "source": [
        "#### Ejercicio `For` 37: Promedio de un rango\n",
        "# Calcula el promedio de todos los números en un rango dado por el usuario (`inicio` y `fin`)."
      ],
      "metadata": {
        "id": "3WiKHMflF0uc"
      }
    },
    {
      "cell_type": "code",
      "source": [
        "# Tu código aquí para el Ejercicio For 37\n"
      ],
      "outputs": [],
      "execution_count": null,
      "metadata": {
        "id": "C1lmG-nxF0ud"
      }
    },
    {
      "cell_type": "markdown",
      "source": [
        "#### Ejercicio `For` 38: Números divisibles por X y Y\n",
        "# Imprime todos los números entre 1 y 50 que son divisibles tanto por 3 como por 5."
      ],
      "metadata": {
        "id": "nMVhhyHCF0ud"
      }
    },
    {
      "cell_type": "code",
      "source": [
        "# Tu código aquí para el Ejercicio For 38\n"
      ],
      "outputs": [],
      "execution_count": null,
      "metadata": {
        "id": "x9Qo3HwcF0ud"
      }
    },
    {
      "cell_type": "markdown",
      "source": [
        "#### Ejercicio `For` 39: Suma de dígitos de números en un rango\n",
        "# Para cada número entre 1 y 100, calcula la suma de sus dígitos."
      ],
      "metadata": {
        "id": "3bvSDlkAF0ud"
      }
    },
    {
      "cell_type": "code",
      "source": [
        "# Tu código aquí para el Ejercicio For 39\n"
      ],
      "outputs": [],
      "execution_count": null,
      "metadata": {
        "id": "hYfTpJF8F0ud"
      }
    },
    {
      "cell_type": "markdown",
      "source": [
        "#### Ejercicio `For` 40: Contar vocales y consonantes en una frase\n",
        "# Dada una frase, usa un bucle `for` para contar el número de vocales y el número de consonantes (sin incluir espacios ni otros caracteres)."
      ],
      "metadata": {
        "id": "yvZ1WuLAF0ud"
      }
    },
    {
      "cell_type": "code",
      "source": [
        "# Tu código aquí para el Ejercicio For 40\n",
        "print(\"Ejercicio For 40: Contar vocales y consonantes\")\n"
      ],
      "outputs": [],
      "execution_count": null,
      "metadata": {
        "id": "s2beWfIiF0ud"
      }
    },
    {
      "cell_type": "markdown",
      "source": [
        "---\n",
        "\n",
        "## 5. Aplicación Práctica: Manipulación de un Pequeño Dataset\n",
        "\n",
        "En el análisis de datos, las sentencias iterativas son herramientas indispensables para procesar, limpiar y transformar la información. A menudo trabajamos con colecciones de datos (como listas de diccionarios o DataFrames en bibliotecas como Pandas), y los bucles nos permiten inspeccionar y modificar cada registro.\n",
        "\n",
        "Crearemos un dataset simple (una lista de diccionarios) para practicar la manipulación de datos usando los bucles `for` que hemos aprendido.\n",
        "\n",
        "### Dataset de Ejemplo: Información de Empleados\n",
        "\n",
        "Supongamos que tenemos una lista de diccionarios, donde cada diccionario representa a un empleado con su `id`, `nombre`, `departamento`, y `salario`."
      ],
      "metadata": {
        "id": "wEEItW77F0ud"
      }
    },
    {
      "cell_type": "code",
      "source": [
        "empleados_data = [\n",
        "    {\"id\": 101, \"nombre\": \"Alice\", \"departamento\": \"Ventas\", \"salario\": 50000},\n",
        "    {\"id\": 102, \"nombre\": \"Bob\", \"departamento\": \"Marketing\", \"salario\": 60000},\n",
        "    {\"id\": 103, \"nombre\": \"Charlie\", \"departamento\": \"Ventas\", \"salario\": 55000},\n",
        "    {\"id\": 104, \"nombre\": \"David\", \"departamento\": \"IT\", \"salario\": 75000},\n",
        "    {\"id\": 105, \"nombre\": \"Eve\", \"departamento\": \"Marketing\", \"salario\": 62000},\n",
        "    {\"id\": 106, \"nombre\": \"Frank\", \"departamento\": \"IT\", \"salario\": 80000},\n",
        "    {\"id\": 107, \"nombre\": \"Grace\", \"departamento\": \"Ventas\", \"salario\": 52000}\n",
        "]\n",
        "print(\"Dataset de Empleados:\")\n",
        "for empleado in empleados_data:\n",
        "    print(empleado)\n",
        "print(\"-\" * 30)"
      ],
      "outputs": [],
      "execution_count": null,
      "metadata": {
        "id": "0rG4KtalF0ud"
      }
    },
    {
      "cell_type": "markdown",
      "source": [
        "### Ejercicios con el Dataset\n",
        "\n",
        "#### Ejercicio Dataset 1: Calcular Salario Promedio\n",
        "# Usa un bucle `for` para calcular el salario promedio de todos los empleados en `empleados_data`."
      ],
      "metadata": {
        "id": "4t0u6I4PF0ue"
      }
    },
    {
      "cell_type": "code",
      "source": [
        "# Tu código aquí para el Ejercicio Dataset 1\n",
        "print(\"Ejercicio Dataset 1: Salario Promedio\")\n",
        "total_salarios = 0\n",
        "num_empleados = 0\n",
        "for empleado in empleados_data:\n",
        "    total_salarios += empleado[\"salario\"]\n",
        "    num_empleados += 1\n",
        "\n",
        "if num_empleados > 0:\n",
        "    salario_promedio = total_salarios / num_empleados\n",
        "    print(f\"El salario promedio de los empleados es: ${salario_promedio:,.2f}\")\n",
        "else:\n",
        "    print(\"No hay empleados para calcular el promedio.\")\n",
        "print(\"-\" * 30)"
      ],
      "outputs": [],
      "execution_count": null,
      "metadata": {
        "id": "TMWyEBs4F0ue"
      }
    },
    {
      "cell_type": "markdown",
      "source": [
        "#### Ejercicio Dataset 2: Encontrar el Empleado con el Salario Más Alto\n",
        "# Itera sobre `empleados_data` para encontrar e imprimir el nombre y el salario del empleado con el salario más alto."
      ],
      "metadata": {
        "id": "OHCkbZKNF0ue"
      }
    },
    {
      "cell_type": "code",
      "source": [
        "# Tu código aquí para el Ejercicio Dataset 2\n",
        "print(\"Ejercicio Dataset 2: Empleado con Salario Más Alto\")\n",
        "empleado_mas_alto_salario = None\n",
        "max_salario = -1\n",
        "\n",
        "for empleado in empleados_data:\n",
        "    if empleado[\"salario\"] > max_salario:\n",
        "        max_salario = empleado[\"salario\"]\n",
        "        empleado_mas_alto_salario = empleado\n",
        "\n",
        "if empleado_mas_alto_salario:\n",
        "    print(f\"El empleado con el salario más alto es: {empleado_mas_alto_salario['nombre']} con ${empleado_mas_alto_salario['salario']:,.2f}\")\n",
        "else:\n",
        "    print(\"No hay empleados en el dataset.\")\n",
        "print(\"-\" * 30)"
      ],
      "outputs": [],
      "execution_count": null,
      "metadata": {
        "id": "lY8Hl7QUF0ue"
      }
    },
    {
      "cell_type": "markdown",
      "source": [
        "#### Ejercicio Dataset 3: Filtrar Empleados por Departamento\n",
        "# Pide al usuario un departamento y usa un bucle `for` para imprimir solo los nombres de los empleados que pertenecen a ese departamento."
      ],
      "metadata": {
        "id": "DZGcAKZRF0ue"
      }
    },
    {
      "cell_type": "code",
      "source": [
        "# Tu código aquí para el Ejercicio Dataset 3\n"
      ],
      "outputs": [],
      "execution_count": null,
      "metadata": {
        "id": "Ofocih5xF0ue"
      }
    },
    {
      "cell_type": "markdown",
      "source": [
        "#### Ejercicio Dataset 4: Bonificación por Departamento\n",
        "# Otorga una bonificación del 10% a los empleados del departamento de \"Ventas\" y del 5% a los de \"Marketing\". Imprime la lista de empleados con sus nuevos salarios. Crea una nueva lista para almacenar los datos actualizados."
      ],
      "metadata": {
        "id": "WmcIUGQVF0ue"
      }
    },
    {
      "cell_type": "code",
      "source": [
        "# Tu código aquí para el Ejercicio Dataset 4\n"
      ],
      "outputs": [],
      "execution_count": null,
      "metadata": {
        "id": "nRgzanVJF0uf"
      }
    },
    {
      "cell_type": "markdown",
      "source": [
        "#### Ejercicio Dataset 5: Contar Empleados por Departamento\n",
        "# Usa un bucle `for` y un diccionario para contar cuántos empleados hay en cada departamento."
      ],
      "metadata": {
        "id": "fbbQbMqrF0uf"
      }
    },
    {
      "cell_type": "code",
      "source": [
        "# Tu código aquí para el Ejercicio Dataset 5\n"
      ],
      "outputs": [],
      "execution_count": null,
      "metadata": {
        "id": "VIMxLEoNF0uf"
      }
    },
    {
      "cell_type": "markdown",
      "source": [
        "#### Ejercicio Dataset 6: Empleados con Salario Superior a X\n",
        "# Pide al usuario un salario mínimo. Imprime los nombres y salarios de todos los empleados cuyo salario sea mayor o igual a ese mínimo."
      ],
      "metadata": {
        "id": "FU0kkcLoF0uf"
      }
    },
    {
      "cell_type": "code",
      "source": [
        "# Tu código aquí para el Ejercicio Dataset 6\n"
      ],
      "outputs": [],
      "execution_count": null,
      "metadata": {
        "id": "8ZYPdka-F0uf"
      }
    },
    {
      "cell_type": "markdown",
      "source": [
        "#### Ejercicio Dataset 7: Agregar Campo `Estado`\n",
        "# Agrega un nuevo campo `estado` a cada empleado. Si el salario es mayor o igual a $60,000, el estado es \"Activo\"; de lo contrario, es \"Revisión Salarial\". Imprime la lista de empleados con el nuevo campo."
      ],
      "metadata": {
        "id": "E8Jy3UmzF0uf"
      }
    },
    {
      "cell_type": "code",
      "source": [
        "# Tu código aquí para el Ejercicio Dataset 7\n"
      ],
      "outputs": [],
      "execution_count": null,
      "metadata": {
        "id": "UpbrAsrbF0uf"
      }
    }
  ],
  "metadata": {
    "colab": {
      "provenance": [],
      "collapsed_sections": [
        "8IBXsY9XF0t_"
      ],
      "include_colab_link": true
    },
    "kernelspec": {
      "display_name": "Python 3",
      "name": "python3"
    }
  },
  "nbformat": 4,
  "nbformat_minor": 0
}