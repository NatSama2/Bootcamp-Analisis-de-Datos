{
  "cells": [
    {
      "cell_type": "markdown",
      "metadata": {
        "id": "Ovaf2vWDgk1P"
      },
      "source": [
        "# **Introducción a Python**\n",
        "# FP14. Ciclos for (for loop)"
      ]
    },
    {
      "cell_type": "markdown",
      "metadata": {
        "id": "7Wmh4IoTgk1S"
      },
      "source": [
        "¡Bienvenidos de nuevo Hackers, es hora de aprender un nuevo ciclo!\n",
        "\n",
        "## <font color='blue'>**Ciclo `for`**</font>\n",
        "Un bucle `for` actúa como un iterador en Python, pasa por elementos que están en una secuencia o cualquier otro **objeto iterable**. Los objetos que hemos aprendido, sobre los que podemos iterar incluyen: cadenas o strings, listas, tuplas e incluso iterables incorporados para diccionarios, como las claves o los valores.\n",
        "\n",
        "Aquí está el formato general para un bucle `for` en Python:\n",
        "```python\n",
        "     for item in object:\n",
        "         your code\n",
        "         your code\n",
        "```        \n",
        "El nombre de la variable utilizado para el *item* depende completamente del programador (o sea, tú!!), así que usa tu mejor criterio para elegir un nombre que tenga sentido y que podrás entenderlo cuando vuelvas a revisar tu código. Puedes utiliza esa variable **sólo dentro del bucle**, fuera del mismo no tendrá un valor asignado.\n",
        "\n",
        "Sigamos adelante y trabajemos con varios ejemplos de bucles `for` utilizando una variedad de tipos de objetos de datos."
      ]
    },
    {
      "cell_type": "markdown",
      "metadata": {
        "id": "aRdor3a1gk1S"
      },
      "source": [
        "## <font color='blue'>**`for` con listas**</font>"
      ]
    },
    {
      "cell_type": "code",
      "execution_count": 1,
      "metadata": {
        "id": "1LW0galigk1T",
        "outputId": "fa2b85cf-d384-4fb4-d719-2ed104f4c73e",
        "colab": {
          "base_uri": "https://localhost:8080/"
        }
      },
      "outputs": [
        {
          "output_type": "stream",
          "name": "stdout",
          "text": [
            "1\n",
            "2\n",
            "3\n",
            "4\n",
            "5\n",
            "6\n",
            "7\n",
            "8\n",
            "9\n",
            "10\n"
          ]
        }
      ],
      "source": [
        "mylist = [1, 2, 3, 4, 5, 6, 7, 8, 9, 10]\n",
        "# La lista es un objeto iterable por esencia\n",
        "# Esto significa que podemos recorrerla\n",
        "\n",
        "for num in mylist:\n",
        "    print(num)"
      ]
    },
    {
      "cell_type": "code",
      "execution_count": null,
      "metadata": {
        "id": "R-83gTcAgk1U"
      },
      "outputs": [],
      "source": [
        "for la_variable_puede_ser_cualquier_cosa in mylist:\n",
        "    print(la_variable_puede_ser_cualquier_cosa)"
      ]
    },
    {
      "cell_type": "markdown",
      "metadata": {
        "id": "4WH3o1BMgk1V"
      },
      "source": [
        "Pero no creo que te atrevas a usar un nombre variable como este!! O sí?"
      ]
    },
    {
      "cell_type": "code",
      "execution_count": null,
      "metadata": {
        "id": "iThKtaHbgk1V"
      },
      "outputs": [],
      "source": [
        "for num in mylist:\n",
        "    print(num, end=' ')"
      ]
    },
    {
      "cell_type": "code",
      "execution_count": null,
      "metadata": {
        "id": "zSqYKEtogk1V"
      },
      "outputs": [],
      "source": [
        "for num in mylist:\n",
        "    print(\"Este texto se imprimirá tantas veces como elementos haya en la lista\")"
      ]
    },
    {
      "cell_type": "markdown",
      "metadata": {
        "id": "GmAde9pwgk1W"
      },
      "source": [
        "## <font color='blue'>**`for` con strings**</font>"
      ]
    },
    {
      "cell_type": "code",
      "execution_count": null,
      "metadata": {
        "id": "q1GXtN76gk1X"
      },
      "outputs": [],
      "source": [
        "for letter in \"Esto es un string\":\n",
        "    print(letter)"
      ]
    },
    {
      "cell_type": "code",
      "execution_count": null,
      "metadata": {
        "id": "tz6VQdFxgk1X"
      },
      "outputs": [],
      "source": [
        "mystring = 'This is a string Hackers'\n",
        "\n",
        "for word in mystring.split():\n",
        "    print(word)"
      ]
    },
    {
      "cell_type": "markdown",
      "metadata": {
        "id": "VGdzluvagk1X"
      },
      "source": [
        "## <font color='blue'>**`for` con tuplas**</font>"
      ]
    },
    {
      "cell_type": "code",
      "execution_count": null,
      "metadata": {
        "id": "hCitaqh1gk1Y"
      },
      "outputs": [],
      "source": [
        "tup = (1, 2, 3, 4)\n",
        "\n",
        "for num in tup:\n",
        "    print(num)"
      ]
    },
    {
      "cell_type": "markdown",
      "metadata": {
        "id": "qbMF41QPgk1Y"
      },
      "source": [
        "## <font color='blue'>**Desempaquetado de tuplas (_tuple unpacking_)**</font>"
      ]
    },
    {
      "cell_type": "code",
      "execution_count": null,
      "metadata": {
        "id": "VEjEJAGqgk1Y"
      },
      "outputs": [],
      "source": [
        "list_of_tups = [(1, 2), (3, 4), (5, 6), (7, 8), (9, 10)]"
      ]
    },
    {
      "cell_type": "code",
      "execution_count": null,
      "metadata": {
        "id": "9Tv1hIwVgk1Y"
      },
      "outputs": [],
      "source": [
        "for x in list_of_tups:\n",
        "    print(x)"
      ]
    },
    {
      "cell_type": "code",
      "execution_count": null,
      "metadata": {
        "id": "OE5rWnXTgk1Z"
      },
      "outputs": [],
      "source": [
        "# Imprimimos el primer elemento de cada tupla\n",
        "for x in list_of_tups:\n",
        "    print(x[0])"
      ]
    },
    {
      "cell_type": "code",
      "execution_count": null,
      "metadata": {
        "id": "ghpIEFomgk1Z"
      },
      "outputs": [],
      "source": [
        "# Imprimimos el segundo elemento de cada tupla\n",
        "for x in list_of_tups:\n",
        "    print(x[1])"
      ]
    },
    {
      "cell_type": "markdown",
      "metadata": {
        "id": "_DW8-Zx_gk1a"
      },
      "source": [
        "Continuemos"
      ]
    },
    {
      "cell_type": "code",
      "execution_count": null,
      "metadata": {
        "id": "nAPLSRiGgk1a"
      },
      "outputs": [],
      "source": [
        "for (num1,num2) in list_of_tups:\n",
        "    print(num1)\n",
        "    print(num2)\n",
        "    print('\\n')"
      ]
    },
    {
      "cell_type": "code",
      "execution_count": null,
      "metadata": {
        "id": "q-b5J3VIgk1a"
      },
      "outputs": [],
      "source": [
        "# No necesitamos el paréntesis\n",
        "\n",
        "for num1, num2 in list_of_tups:\n",
        "    print(num1)\n",
        "    print(num2)\n",
        "    print('\\n')"
      ]
    },
    {
      "cell_type": "markdown",
      "metadata": {
        "id": "byfWAhbsgk1a"
      },
      "source": [
        "## <font color='blue'>**`for` con diccionarios**</font>"
      ]
    },
    {
      "cell_type": "code",
      "execution_count": null,
      "metadata": {
        "id": "98Ws1d4lgk1a"
      },
      "outputs": [],
      "source": [
        "counties_populations = {'Chile':'18', 'USA':'323', 'Germany':'83', 'India':'1324', 'Spain':'45'}"
      ]
    },
    {
      "cell_type": "markdown",
      "metadata": {
        "id": "rxGMOlXxgk1b"
      },
      "source": [
        "¡Recuerda que los diccionarios no mantienen ningún orden! ¡Así que recórrelos con esto en mente!"
      ]
    },
    {
      "cell_type": "code",
      "execution_count": null,
      "metadata": {
        "id": "f9bdBSJ9gk1b"
      },
      "outputs": [],
      "source": [
        "for item in counties_populations:\n",
        "    print(item)"
      ]
    },
    {
      "cell_type": "code",
      "execution_count": null,
      "metadata": {
        "id": "oFBGMBMSgk1b"
      },
      "outputs": [],
      "source": [
        "for k in counties_populations.keys():\n",
        "    print(k)"
      ]
    },
    {
      "cell_type": "code",
      "execution_count": null,
      "metadata": {
        "id": "zzTNfw4dgk1b"
      },
      "outputs": [],
      "source": [
        "for values in counties_populations.values():\n",
        "    print(values)"
      ]
    },
    {
      "cell_type": "markdown",
      "metadata": {
        "id": "7SfHfxydgk1b"
      },
      "source": [
        "## **Más usos de `for`**"
      ]
    },
    {
      "cell_type": "code",
      "execution_count": null,
      "metadata": {
        "id": "w22KyGS9gk1b"
      },
      "outputs": [],
      "source": [
        "for name in \"Sebastián\", \"Zavi\", \"Isidora\":\n",
        "    print(\"Hello \" + name)"
      ]
    },
    {
      "cell_type": "code",
      "execution_count": null,
      "metadata": {
        "id": "uxGdUwx4gk1b"
      },
      "outputs": [],
      "source": [
        "for i in range(10):\n",
        "    print(i)"
      ]
    },
    {
      "cell_type": "code",
      "execution_count": null,
      "metadata": {
        "id": "OJm7C-rZgk1c"
      },
      "outputs": [],
      "source": [
        "total = 0\n",
        "for i in 5, 7, 11, 13:\n",
        "    print(i)\n",
        "    total = total + i  # total += i\n",
        "\n",
        "print(total)"
      ]
    },
    {
      "cell_type": "markdown",
      "metadata": {
        "id": "cN_EFnvUgk1c"
      },
      "source": [
        "## <font color='blue'>**La sentencia `continue`**</font>\n",
        "\n",
        "La palabra clave `continue`puede ser un poco complicada para ver su utilidad. Te permite continuar con el ciclo de nivel superior, básicamente lo opuesto a break. Pasará tiempo antes de que te des cuenta de una buena situación para usarla, pero aquí hay un ejemplo simple:"
      ]
    },
    {
      "cell_type": "code",
      "execution_count": null,
      "metadata": {
        "id": "Gqp1IEdEgk1c"
      },
      "outputs": [],
      "source": [
        "for letter in 'code':\n",
        "    if letter == 'd':\n",
        "        continue\n",
        "\n",
        "    print(f'La letra actual es: {letter}')"
      ]
    },
    {
      "cell_type": "code",
      "execution_count": null,
      "metadata": {
        "id": "CguOgXdUgk1c"
      },
      "outputs": [],
      "source": [
        "list = []\n",
        "string = 'A este string le eliminaremos los espacios'\n",
        "for letra in string:\n",
        "    if letra != ' ':\n",
        "        list.append(letra)\n",
        "    else:\n",
        "        continue\n",
        "print(*list)"
      ]
    },
    {
      "cell_type": "markdown",
      "metadata": {
        "id": "cqdrb36Fgk1c"
      },
      "source": [
        "Intenta explicar qué paso aquí!!"
      ]
    },
    {
      "cell_type": "markdown",
      "metadata": {
        "id": "L0Hf37-Cgk1Z"
      },
      "source": [
        "## <font color='green'>Actividad 1:</font>  \n",
        "### Desempaque el elemento numérico de cada tupla\n",
        "Ejecuta la siguiente celda donde creamos una lista de tuplas.<br>\n",
        "Extrae e imprime los números de las tuplas usando un bucle `for`\n",
        "\n",
        "Pasos:\n",
        "1. Ejecuta la celda para crear la lista de tuplas.\n",
        "2. Extrae e imprime los números usando un bucle `for` e indexado\n",
        "\n",
        "Challenge:\n",
        "3. Imprime los números en una única fila separados por un espacio; así: 1 4 6 8 10"
      ]
    },
    {
      "cell_type": "code",
      "execution_count": null,
      "metadata": {
        "id": "J5_rF_47gk1Z"
      },
      "outputs": [],
      "source": [
        "# EJECUTA ESTA CELDA. NO LA MODIFIQUES !!!\n",
        "\n",
        "list_of_tuples = [('A', ['B', 1]),\n",
        "                  ('C', ['D', 4]),\n",
        "                  ('E', ['F', 6]),\n",
        "                  ('G', ['H', 8]),\n",
        "                  ('I', ['J', 10])]"
      ]
    },
    {
      "cell_type": "code",
      "execution_count": null,
      "metadata": {
        "id": "baULOhDSgk1a"
      },
      "outputs": [],
      "source": [
        "# Tu código aquí ...\n",
        "\n"
      ]
    },
    {
      "cell_type": "markdown",
      "metadata": {
        "id": "gOheKUXEgk1a"
      },
      "source": [
        "<font color='green'>Fin actividad 1</font>"
      ]
    },
    {
      "cell_type": "markdown",
      "metadata": {
        "id": "8zTGvUTKgk1b"
      },
      "source": [
        "## <font color='green'>Actividad 2:</font>\n",
        "### Imprimiendo países y poblaciones. Buscando en [stackoverflow](https://stackoverflow.com/)\n",
        "\n",
        "Crea un programa que imprima el nombre del país y su población, de esta manera:\n",
        "\n",
        "      En Chile hay 18 millones de habitantes.\n",
        "\n",
        "Imprime un país por línea<br>\n",
        "Deja una línea en blanco entre países\n",
        "\n",
        "Pasos:\n",
        "1. Utiliza un bucle `for` para recorrer el diccionario.\n",
        "2. Busca en [stackoverflow](https://stackoverflow.com/) cómo desempaquetar un diccionario en un ciclo for\n",
        "3. Imprima utilizando la función de `print()` y `f-strings`.\n",
        "4. Deje una línea en blanco usando el carácter de control `'\\n'` dentro de la función `print()`."
      ]
    },
    {
      "cell_type": "code",
      "execution_count": null,
      "metadata": {
        "id": "j95ncbo0gk1b"
      },
      "outputs": [],
      "source": [
        "# Tu código aquí ...\n",
        "\n"
      ]
    },
    {
      "cell_type": "markdown",
      "metadata": {
        "id": "PMRtK7Iggk1b"
      },
      "source": [
        "<font color='green'>Fin actividad 2</font>"
      ]
    }
  ],
  "metadata": {
    "kernelspec": {
      "display_name": "Python 3 (ipykernel)",
      "language": "python",
      "name": "python3"
    },
    "language_info": {
      "codemirror_mode": {
        "name": "ipython",
        "version": 3
      },
      "file_extension": ".py",
      "mimetype": "text/x-python",
      "name": "python",
      "nbconvert_exporter": "python",
      "pygments_lexer": "ipython3",
      "version": "3.8.11"
    },
    "colab": {
      "provenance": []
    }
  },
  "nbformat": 4,
  "nbformat_minor": 0
}