{
  "cells": [
    {
      "cell_type": "markdown",
      "metadata": {
        "id": "view-in-github",
        "colab_type": "text"
      },
      "source": [
        "<a href=\"https://colab.research.google.com/github/NatSama2/Bootcamp-Analisis-de-Datos/blob/main/Modulo-3/FP23_Programacion_Orientada_a_Objetos.ipynb\" target=\"_parent\"><img src=\"https://colab.research.google.com/assets/colab-badge.svg\" alt=\"Open In Colab\"/></a>"
      ]
    },
    {
      "cell_type": "markdown",
      "metadata": {
        "id": "jfy7bWjqplPX"
      },
      "source": [
        "# **Introducción a Python**\n",
        "# FP23. Programación Orientada a Objetos (OOP) - SOLUCION"
      ]
    },
    {
      "cell_type": "markdown",
      "metadata": {
        "id": "ErEmZrusplPY"
      },
      "source": [
        "La **programación orientada a objetos** (OOP) tiende a ser uno de los principales obstáculos para los reclutas cuando comienzan a aprender Python.\n",
        "\n",
        "Para esta lección, construiremos nuestro conocimiento de OOP en Python basándose en los siguientes temas:\n",
        "\n",
        "* Objetos\n",
        "* Usando la palabra clave `class`\n",
        "* Creando atributos de clase\n",
        "* Creando métodos en una clase\n",
        "* Aprendiendo sobre la herencia\n",
        "* Aprendiendo sobre métodos especiales para clases.\n",
        "\n",
        "Comencemos la lección recordando las estructuras (objetos) básicos de Python. Por ejemplo:"
      ]
    },
    {
      "cell_type": "code",
      "execution_count": 1,
      "metadata": {
        "id": "6PUoutsEplPZ"
      },
      "outputs": [],
      "source": [
        "mylist = [1, 2, 3]"
      ]
    },
    {
      "cell_type": "markdown",
      "metadata": {
        "id": "IGltXK_WplPa"
      },
      "source": [
        "¿Recuerda cómo usábamos los métodos en una lista?"
      ]
    },
    {
      "cell_type": "code",
      "execution_count": 2,
      "metadata": {
        "id": "6T4-pusrplPa",
        "outputId": "5a8256e8-097a-42c9-ed9e-78d68b00d5e4",
        "colab": {
          "base_uri": "https://localhost:8080/"
        }
      },
      "outputs": [
        {
          "output_type": "execute_result",
          "data": {
            "text/plain": [
              "1"
            ]
          },
          "metadata": {},
          "execution_count": 2
        }
      ],
      "source": [
        "mylist.count(2)"
      ]
    },
    {
      "cell_type": "markdown",
      "metadata": {
        "id": "hjTdoWstplPb"
      },
      "source": [
        "## <font color='blue'>**Qué es la Programación Orientada a Objeto (_OOP_ en inglés)**</font>\n",
        "\n",
        "La programación orientada a objetos es un paradigma de programación que proporciona un medio para estructurar programas de modo que las __propiedades__ y los __comportamientos__ se agrupen en objetos individuales.\n",
        "\n",
        "Por ejemplo, un objeto podría representar a una persona con __propiedades__ como nombre, edad y dirección; y __comportamientos__ como caminar, hablar, respirar y correr. O podría representar un correo electrónico con propiedades como una lista de destinatarios, asunto y cuerpo y comportamientos como agregar archivos adjuntos y enviar.\n",
        "\n",
        "Dicho de otra manera, la programación orientada a objetos es un enfoque para modelar cosas concretas del mundo real, como automóviles, así como relaciones entre cosas, como empresas y empleados, estudiantes y profesores, etc. OOP modela entidades del mundo real como objetos de software que tienen algunos datos asociados y pueden realizar ciertas funciones.\n",
        "\n",
        "\n",
        "## <font color='blue'>**Objetos**</font>\n",
        "\n",
        "En Python, **todo es un objeto**. Recuerda que de lecciones anteriores podemos usar `type()` para verificar el tipo de objeto que es algo:"
      ]
    },
    {
      "cell_type": "code",
      "execution_count": 3,
      "metadata": {
        "id": "55iPCY8QplPc",
        "outputId": "e8d6176e-ba3c-4078-bd1f-d6b54dee4106",
        "colab": {
          "base_uri": "https://localhost:8080/"
        }
      },
      "outputs": [
        {
          "output_type": "stream",
          "name": "stdout",
          "text": [
            "<class 'int'>\n",
            "<class 'list'>\n",
            "<class 'tuple'>\n",
            "<class 'dict'>\n"
          ]
        }
      ],
      "source": [
        "print(type(1))\n",
        "print(type([]))\n",
        "print(type(()))\n",
        "print(type({}))"
      ]
    },
    {
      "cell_type": "markdown",
      "metadata": {
        "id": "K6o7xB7rplPd"
      },
      "source": [
        "## <font color='blue'>Clases vs instancias</font>\n",
        "Las clases se utilizan para crear estructuras de datos definidas por el usuario. Las clases definen funciones llamadas **métodos**, que identifican los comportamientos y acciones que un **objeto**, creado a partir de la **clase**, puede realizar con sus datos.\n",
        "\n",
        "En este notebook, creará una clase llamada **agente**, la cual almacena información sobre las características y comportamientos que puede tener un agente en particular.\n",
        "\n",
        "Una **clase** es un modelo de cómo se debe definir algo. En realidad, no contiene ningún dato. Veremos que nuestra clase Agente especifica que un nombre y una edad son necesarios para definir un agente, pero no contiene el nombre o la edad de ningún agente específico.\n",
        "\n",
        "Mientras que la __clase__ es el plano (el 'template'), una __instancia__ es un objeto que se construye a partir de una clase (a partir de ese plano o template) y contiene datos reales. Una instancia de la clase Agente ya no es un plano. Es un agente real con un nombre (como Beto), y atributos (tiene 50 años).\n",
        "\n",
        "Dicho de otra manera, una clase es como un formulario o cuestionario. Una instancia es como un formulario que se ha llenado con información. Al igual que muchas personas pueden completar el mismo formulario con su propia información única, se pueden crear muchas instancias a partir de una sola clase.\n",
        "\n",
        "\n",
        "## <font color='blue'>**Cómo definir una clase (`class`)**</font>\n",
        "\n",
        "Decíamos que una clase es una maqueta que define la naturaleza de un objeto futuro. A partir de clases podemos construir instancias de dicho objeto. Una instancia es un objeto específico creado a partir de una clase particular.\n",
        "\n",
        "Por ejemplo, creemos el objeto 'l' como una instancia de un objeto de la clase lista."
      ]
    },
    {
      "cell_type": "code",
      "execution_count": 4,
      "metadata": {
        "id": "Urpe7humplPd",
        "outputId": "ae66fda5-9ef5-462b-87ac-dfe3cb3fa4bc",
        "colab": {
          "base_uri": "https://localhost:8080/"
        }
      },
      "outputs": [
        {
          "output_type": "stream",
          "name": "stdout",
          "text": [
            "<class 'list'>\n",
            "<class 'list'>\n"
          ]
        }
      ],
      "source": [
        "l = list()\n",
        "print(type(list()))\n",
        "print(type(l))"
      ]
    },
    {
      "cell_type": "markdown",
      "metadata": {
        "id": "MepF6Oh6plPe"
      },
      "source": [
        "Sabemos que en Python todas estas cosas son objetos, entonces, ¿cómo podemos crear nuestros propios tipos de objetos? Ahí es donde entra la palabra reservada `class`\n",
        "\n",
        "Los objetos definidos por el usuario se crean utilizando la palabra reservada `class`. Veamos cómo:"
      ]
    },
    {
      "cell_type": "code",
      "execution_count": 5,
      "metadata": {
        "id": "MkC-QbZ9plPe",
        "outputId": "7bf3290f-544d-4756-8dc1-05074b9bb4b7",
        "colab": {
          "base_uri": "https://localhost:8080/"
        }
      },
      "outputs": [
        {
          "output_type": "stream",
          "name": "stdout",
          "text": [
            "<class '__main__.Agente'>\n"
          ]
        }
      ],
      "source": [
        "# Creamos un nuevo objeto llamado Sample\n",
        "# Es pythonista el nombrar los objetos con la primera letra en mayúscula\n",
        "\n",
        "class Agente():\n",
        "    pass\n",
        "\n",
        "# Creamos una instancia de la clase Sample\n",
        "x = Agente()\n",
        "\n",
        "print(type(x))"
      ]
    },
    {
      "cell_type": "markdown",
      "metadata": {
        "id": "ySR2uI2YplPf"
      },
      "source": [
        "<font color='red'>Importante</font>: Por convención (pytonista), damos a las clases un nombre que comienza con una letra mayúscula.\n",
        "\n",
        "Observa cómo $x$ es ahora la referencia a nuestra nueva instancia de una clase Agente. En otras palabras, decimos que creamos una **instancia** de la clase Agente o **instanciamos** la clase Agente.\n",
        "\n",
        "Dentro del código de la clase sólo tenemos, por ahora, `pass`, como una forma de poder definirla \"vacía\". Pero podemos definir **atributos** y **métodos** de clase.\n",
        "\n",
        "Un **atributo** es una característica de un objeto. Existen **atributos de clase** y **atributos de instancia**.\n",
        "\n",
        "Un **atributo de clase** de un Agente puede ser su especie (Homo Sapiens); de existir, todas las istancias de la clase tendrán este atributo. Por otro lado, **atributos de instancia** podrían ser su nombre_real, edad, altura, color de ojos, nombre_clave, etc., los cules serán propios de la instancia.\n",
        "\n",
        "Un **método** es una operación que podemos realizar con el objeto. Típicamente es más similar a una **función** (igual que `def`) que actúa sobre el objeto mismo, por ejemplo, hacer que el objeto Agente imprima su nombre de código.\n",
        "\n",
        "Los atributos que deben tener todos los objetos Agente se definen en un método llamado `.__init__()`. Cada vez que se crea un nuevo objeto Agente (una instancia de la clase), `.__init__()` establece el estado inicial del objeto asignando los valores de las propiedades del objeto. Es decir, `.__init__()` inicializa cada nueva instancia de la clase. Técnicamente es conocido como el **constructor** de la clase.\n",
        "\n",
        "En el método `.__init__()` puedes crear cualquier número de parámetros, pero el primer parámetro siempre será una variable llamada `self`. Cuando se crea una nueva instancia de clase, la instancia se pasa automáticamente al parámetro `self` en `.__init__()` para que se puedan definir nuevos atributos en el objeto.\n",
        "\n",
        "Actualicemos nuestra clase Agente."
      ]
    },
    {
      "cell_type": "code",
      "execution_count": 6,
      "metadata": {
        "id": "flHDMmGRplPf"
      },
      "outputs": [],
      "source": [
        "class Agente():\n",
        "    def __init__(self, nombre_real, edad): # método y su parámetros\n",
        "        self.nombre_real = nombre_real     # atributo de instancia\n",
        "        self.edad = edad                   # atributo de instancia"
      ]
    },
    {
      "cell_type": "markdown",
      "metadata": {
        "id": "g5lJyjEcplPf"
      },
      "source": [
        "<font color='red'>Importante</font>: Fíjate en la indentación de la clase y del método (`def`)."
      ]
    },
    {
      "cell_type": "markdown",
      "metadata": {
        "id": "5xhtI7cXplPf"
      },
      "source": [
        "En el cuerpo de `.__init__()`, hay dos declaraciones que usan la variable self:\n",
        "\n",
        "1. `self.name = nombre_real`,  crea un atributo llamado nombre_real y le asigna el valor del parámetro de nombre_real.\n",
        "2. `self.edad = edad`,  crea un atributo llamado edad y le asigna el valor del parámetro edad.\n",
        "\n",
        "Los atributos creados en `.__init__()` se denominan **atributos de instancia**. El valor de un atributo de instancia es específico de una instancia particular de la clase. Todos los objetos Agente tienen un nombre_real y una edad, pero los valores de los atributos de _nombre_real_ y _edad_ variarán según la instancia de Agente.\n",
        "\n",
        "Por otro lado, los **atributos de clase** son atributos que tienen el mismo valor para todas las instancias de clase. Puede definir un atributo de clase asignando un valor a un nombre de variable fuera de `.__init__()`.\n",
        "\n",
        "Por ejemplo, la siguiente clase Agente tiene un atributo de clase llamado \"nivel\" con el valor \"Regular\":"
      ]
    },
    {
      "cell_type": "code",
      "execution_count": 7,
      "metadata": {
        "id": "WcAkySpDplPg"
      },
      "outputs": [],
      "source": [
        "class Agente():\n",
        "    nivel = 'Regular'               # atributo de clase\n",
        "\n",
        "    def __init__(self, nombre_real, edad): # método y su parámetros\n",
        "        self.nombre_real = nombre_real     # atributo de instancia\n",
        "        self.edad = edad                   # atributo de instancia"
      ]
    },
    {
      "cell_type": "markdown",
      "metadata": {
        "id": "7LBuU78eplPg"
      },
      "source": [
        "<font color='red'>Importante</font>: Por convención pythonista, definimos los atributos de clase antes del método .\\_\\_init__()"
      ]
    },
    {
      "cell_type": "code",
      "execution_count": 8,
      "metadata": {
        "id": "WrmOTyyhplPg",
        "outputId": "ffcd9cb6-61fa-4ed2-d4da-2c05c287dca9",
        "colab": {
          "base_uri": "https://localhost:8080/",
          "height": 104
        }
      },
      "outputs": [
        {
          "output_type": "execute_result",
          "data": {
            "text/plain": [
              "__main__.Agente"
            ],
            "text/html": [
              "<div style=\"max-width:800px; border: 1px solid var(--colab-border-color);\"><style>\n",
              "      pre.function-repr-contents {\n",
              "        overflow-x: auto;\n",
              "        padding: 8px 12px;\n",
              "        max-height: 500px;\n",
              "      }\n",
              "\n",
              "      pre.function-repr-contents.function-repr-contents-collapsed {\n",
              "        cursor: pointer;\n",
              "        max-height: 100px;\n",
              "      }\n",
              "    </style>\n",
              "    <pre style=\"white-space: initial; background:\n",
              "         var(--colab-secondary-surface-color); padding: 8px 12px;\n",
              "         border-bottom: 1px solid var(--colab-border-color);\"><b>Agente</b><br/>def __init__(nombre_real, edad)</pre><pre class=\"function-repr-contents function-repr-contents-collapsed\" style=\"\"><a class=\"filepath\" style=\"display:none\" href=\"#\"></a>&lt;no docstring&gt;</pre></div>"
            ]
          },
          "metadata": {},
          "execution_count": 8
        }
      ],
      "source": [
        "Agente"
      ]
    },
    {
      "cell_type": "markdown",
      "metadata": {
        "id": "MgV6ZUi-plPg"
      },
      "source": [
        "## <font color='blue'>**Creando instancias de clase**</font>\n",
        "Veamos cómo podemos crear instancias de nuestra clase Agente."
      ]
    },
    {
      "cell_type": "code",
      "execution_count": 9,
      "metadata": {
        "id": "5x5G9ua1plPg",
        "outputId": "e7328367-9109-4d5e-a1aa-b8442f296a17",
        "colab": {
          "base_uri": "https://localhost:8080/",
          "height": 159
        }
      },
      "outputs": [
        {
          "output_type": "error",
          "ename": "TypeError",
          "evalue": "Agente.__init__() missing 2 required positional arguments: 'nombre_real' and 'edad'",
          "traceback": [
            "\u001b[0;31m---------------------------------------------------------------------------\u001b[0m",
            "\u001b[0;31mTypeError\u001b[0m                                 Traceback (most recent call last)",
            "\u001b[0;32m/tmp/ipython-input-9-1435707127.py\u001b[0m in \u001b[0;36m<cell line: 0>\u001b[0;34m()\u001b[0m\n\u001b[1;32m      1\u001b[0m \u001b[0;31m# Este código dará un error porque necesitamos pasarle argumentos!\u001b[0m\u001b[0;34m\u001b[0m\u001b[0;34m\u001b[0m\u001b[0m\n\u001b[0;32m----> 2\u001b[0;31m \u001b[0mm\u001b[0m \u001b[0;34m=\u001b[0m \u001b[0mAgente\u001b[0m\u001b[0;34m(\u001b[0m\u001b[0;34m)\u001b[0m\u001b[0;34m\u001b[0m\u001b[0;34m\u001b[0m\u001b[0m\n\u001b[0m",
            "\u001b[0;31mTypeError\u001b[0m: Agente.__init__() missing 2 required positional arguments: 'nombre_real' and 'edad'"
          ]
        }
      ],
      "source": [
        "# Este código dará un error porque necesitamos pasarle argumentos!\n",
        "m = Agente()"
      ]
    },
    {
      "cell_type": "markdown",
      "metadata": {
        "id": "quJfkxE0plPh"
      },
      "source": [
        "Para pasar argumentos a los parámetros de _nombre_real_ y _edad_, coloque los valores entre paréntesis después del nombre de la clase:"
      ]
    },
    {
      "cell_type": "code",
      "execution_count": 10,
      "metadata": {
        "id": "7PdRobKVplPh"
      },
      "outputs": [],
      "source": [
        "b = Agente('Beto', 50)"
      ]
    },
    {
      "cell_type": "code",
      "execution_count": 11,
      "metadata": {
        "id": "q1zOaLRLplPh"
      },
      "outputs": [],
      "source": [
        "n = Agente('Norma', 40)"
      ]
    },
    {
      "cell_type": "markdown",
      "metadata": {
        "id": "ndU3P4nXplPh"
      },
      "source": [
        "Analicemos lo que tenemos arriba. El método especial\n",
        "```python\n",
        "     __init__()\n",
        "```\n",
        "es llamado automáticamente justo después de que se ha creado el objeto:\n",
        "```python\n",
        "     def __init __ (self, nombre_real, edad):\n",
        "```\n",
        "Como decíamos, cada atributo en una definición de clase comienza con una referencia al objeto instanciado. Por convención lo llamamos `self`. La variable *nombre_real* es el argumento. El valor se pasa durante la instanciación de la clase. Lo mismo ocurre con *edad*.\n",
        "```python\n",
        "      self.nombre_real = nombre_real\n",
        "      self.edad = edad    \n",
        "````"
      ]
    },
    {
      "cell_type": "markdown",
      "metadata": {
        "id": "VYhsrrZOplPh"
      },
      "source": [
        "Ahora hemos creado dos instancias de la clase Agente. Con dos instancias de Agente, cada una tiene sus propiso atributos *nombre_real* y *edad*, luego podemos acceder a estos atributos utilizando la notación de punto (**dot notation**) de esta manera:\n",
        "```python\n",
        "objeto.atributo\n",
        "```"
      ]
    },
    {
      "cell_type": "code",
      "execution_count": 12,
      "metadata": {
        "id": "xCZlLJ0KplPh",
        "outputId": "9441d860-d98f-4061-89a4-b1ca30909de1",
        "colab": {
          "base_uri": "https://localhost:8080/",
          "height": 35
        }
      },
      "outputs": [
        {
          "output_type": "execute_result",
          "data": {
            "text/plain": [
              "'Beto'"
            ],
            "application/vnd.google.colaboratory.intrinsic+json": {
              "type": "string"
            }
          },
          "metadata": {},
          "execution_count": 12
        }
      ],
      "source": [
        "b.nombre_real"
      ]
    },
    {
      "cell_type": "code",
      "execution_count": 13,
      "metadata": {
        "id": "uRlgIzgoplPh",
        "outputId": "0c196e4e-db3c-47aa-b0e2-464bc4481e89",
        "colab": {
          "base_uri": "https://localhost:8080/"
        }
      },
      "outputs": [
        {
          "output_type": "execute_result",
          "data": {
            "text/plain": [
              "40"
            ]
          },
          "metadata": {},
          "execution_count": 13
        }
      ],
      "source": [
        "n.edad"
      ]
    },
    {
      "cell_type": "code",
      "execution_count": 14,
      "metadata": {
        "id": "nwpAxdeOplPi",
        "outputId": "77d5de61-7b72-43fe-affa-64168dcd4dd8",
        "colab": {
          "base_uri": "https://localhost:8080/"
        }
      },
      "outputs": [
        {
          "output_type": "stream",
          "name": "stdout",
          "text": [
            "La edad de Norma es 40\n"
          ]
        }
      ],
      "source": [
        "print(f'La edad de {n.nombre_real} es {n.edad}')"
      ]
    },
    {
      "cell_type": "markdown",
      "metadata": {
        "id": "bMVFPeCAplPi"
      },
      "source": [
        "Ten en cuenta que no ponemos paréntesis después de *nombre_real*, esto se debe a que es un atributo y no un método (una función de la clase); los atributos no aceptan argumentos.\n",
        "\n",
        "De la mis a forma podemos acceder a los **atributos de clase**. En nuestro ejemplo, los agentes (independientemente de su nombre real, edad u otros atributos siempre serán del nivel 'Regular', ¡al menos por ahora!.\n",
        "\n",
        "Obtengamos dicho atributo"
      ]
    },
    {
      "cell_type": "code",
      "execution_count": 15,
      "metadata": {
        "id": "zeVu1gWNplPi",
        "outputId": "d2a9864b-1d38-43fe-c8e7-f6f330cf1c4a",
        "colab": {
          "base_uri": "https://localhost:8080/",
          "height": 35
        }
      },
      "outputs": [
        {
          "output_type": "execute_result",
          "data": {
            "text/plain": [
              "'Regular'"
            ],
            "application/vnd.google.colaboratory.intrinsic+json": {
              "type": "string"
            }
          },
          "metadata": {},
          "execution_count": 15
        }
      ],
      "source": [
        "b.nivel"
      ]
    },
    {
      "cell_type": "code",
      "execution_count": 16,
      "metadata": {
        "id": "U2BB6AIwplPi",
        "outputId": "7cf11d77-39ec-40ad-8ab4-daaae7d34fe1",
        "colab": {
          "base_uri": "https://localhost:8080/"
        }
      },
      "outputs": [
        {
          "output_type": "execute_result",
          "data": {
            "text/plain": [
              "True"
            ]
          },
          "metadata": {},
          "execution_count": 16
        }
      ],
      "source": [
        "b.nivel == n.nivel"
      ]
    },
    {
      "cell_type": "markdown",
      "metadata": {
        "id": "DFuLgiKcplPi"
      },
      "source": [
        "Podemos cambiar los valores de los atributos."
      ]
    },
    {
      "cell_type": "code",
      "execution_count": 17,
      "metadata": {
        "id": "gAqTGF4MplPi"
      },
      "outputs": [],
      "source": [
        "p= Agente('Pancho', 40)"
      ]
    },
    {
      "cell_type": "code",
      "execution_count": 18,
      "metadata": {
        "id": "xgIKUmhQplPi",
        "outputId": "83d5d566-609d-43e5-9138-6af94eb4f2a0",
        "colab": {
          "base_uri": "https://localhost:8080/",
          "height": 35
        }
      },
      "outputs": [
        {
          "output_type": "execute_result",
          "data": {
            "text/plain": [
              "'Pancho'"
            ],
            "application/vnd.google.colaboratory.intrinsic+json": {
              "type": "string"
            }
          },
          "metadata": {},
          "execution_count": 18
        }
      ],
      "source": [
        "p.nombre_real"
      ]
    },
    {
      "cell_type": "code",
      "execution_count": 19,
      "metadata": {
        "id": "WCmAwKbUplPi",
        "outputId": "a6458c8c-08de-4e43-f8dd-654af33e7990",
        "colab": {
          "base_uri": "https://localhost:8080/"
        }
      },
      "outputs": [
        {
          "output_type": "execute_result",
          "data": {
            "text/plain": [
              "40"
            ]
          },
          "metadata": {},
          "execution_count": 19
        }
      ],
      "source": [
        "p.edad"
      ]
    },
    {
      "cell_type": "code",
      "execution_count": 20,
      "metadata": {
        "id": "Eg0S1uIJplPj",
        "outputId": "dcb85a86-da57-41c9-9ff0-141b55de3cbb",
        "colab": {
          "base_uri": "https://localhost:8080/",
          "height": 35
        }
      },
      "outputs": [
        {
          "output_type": "execute_result",
          "data": {
            "text/plain": [
              "'Regular'"
            ],
            "application/vnd.google.colaboratory.intrinsic+json": {
              "type": "string"
            }
          },
          "metadata": {},
          "execution_count": 20
        }
      ],
      "source": [
        "p.nivel"
      ]
    },
    {
      "cell_type": "code",
      "execution_count": 21,
      "metadata": {
        "id": "3A1AG_zfplPj"
      },
      "outputs": [],
      "source": [
        "p.nombre_real = 'Francisco'"
      ]
    },
    {
      "cell_type": "code",
      "execution_count": 22,
      "metadata": {
        "id": "f5CZlQZUplPj",
        "outputId": "ec3e5aee-7b06-4550-ccdd-a73e6bf97261",
        "colab": {
          "base_uri": "https://localhost:8080/",
          "height": 35
        }
      },
      "outputs": [
        {
          "output_type": "execute_result",
          "data": {
            "text/plain": [
              "'Francisco'"
            ],
            "application/vnd.google.colaboratory.intrinsic+json": {
              "type": "string"
            }
          },
          "metadata": {},
          "execution_count": 22
        }
      ],
      "source": [
        "p.nombre_real"
      ]
    },
    {
      "cell_type": "markdown",
      "metadata": {
        "id": "7yR9GEkDplPj"
      },
      "source": [
        "## <font color='blue'>**Métodos (_methods_)**</font>\n",
        "\n",
        "Los métodos son funciones definidas dentro del cuerpo de una clase y sólo pueden ser llamados desde una instancia de la clase. Se utilizan para realizar operaciones con los atributos de nuestros objetos. Los métodos son esenciales en el concepto de encapsulación del paradigma OOP. Esto es esencial para segmentar las funcionalidades, especialmente, en aplicaciones grandes.\n",
        "\n",
        "Básicamente, puedes pensar en los métodos como funciones que actúan sobre un Objeto y que tienen en cuenta el Objeto mismo a través de su argumento `self`.\n",
        "\n",
        "Completemos nuestra clase Agente."
      ]
    },
    {
      "cell_type": "code",
      "execution_count": 23,
      "metadata": {
        "id": "Xz_x0jXiplPj"
      },
      "outputs": [],
      "source": [
        "class Agente():\n",
        "    nivel = 'Regular'               # atributo de clase\n",
        "\n",
        "    def __init__(self,\n",
        "                 nombre_real,\n",
        "                 edad,\n",
        "                 nombre_clave\n",
        "                ): # método y su parámetros\n",
        "        self.nombre_real = nombre_real     # atributo de instancia\n",
        "        self.edad = edad                   # atributo de instancia\n",
        "        self.nombre_clave = nombre_clave\n",
        "\n",
        "    def descripcion(self):\n",
        "        return f'Agente {self.nombre_clave}.'\n",
        "\n",
        "    def reporte(self):\n",
        "        return f'Mi nombre real es {self.nombre_real}, tengo {self.edad} años.'"
      ]
    },
    {
      "cell_type": "markdown",
      "metadata": {
        "id": "dlaHqdvxplPj"
      },
      "source": [
        "Esta es ahora la clase Agentecon dos métodos de instancia (**instance methods**):\n",
        "1. descripcion(), la cual retorna el nombre_clave del agente.\n",
        "2. reporte(), la cual retorna en nombre_real y la edad del agente."
      ]
    },
    {
      "cell_type": "code",
      "execution_count": 24,
      "metadata": {
        "id": "1CXC4bsuplPj"
      },
      "outputs": [],
      "source": [
        "b = Agente('Beto', 50, 'Caribú')\n",
        "n = Agente('Norma', 40, 'Nana')"
      ]
    },
    {
      "cell_type": "code",
      "execution_count": 25,
      "metadata": {
        "id": "W4AsxGwVplPj",
        "outputId": "55305574-20a1-407d-e52e-a0cd06506b76",
        "colab": {
          "base_uri": "https://localhost:8080/",
          "height": 35
        }
      },
      "outputs": [
        {
          "output_type": "execute_result",
          "data": {
            "text/plain": [
              "'Agente Caribú.'"
            ],
            "application/vnd.google.colaboratory.intrinsic+json": {
              "type": "string"
            }
          },
          "metadata": {},
          "execution_count": 25
        }
      ],
      "source": [
        "b.descripcion()"
      ]
    },
    {
      "cell_type": "code",
      "execution_count": 26,
      "metadata": {
        "id": "qXs-5ITXplPj",
        "outputId": "b7f2d610-da9f-44e0-c981-e20fd53e8170",
        "colab": {
          "base_uri": "https://localhost:8080/",
          "height": 35
        }
      },
      "outputs": [
        {
          "output_type": "execute_result",
          "data": {
            "text/plain": [
              "'Mi nombre real es Norma, tengo 40 años.'"
            ],
            "application/vnd.google.colaboratory.intrinsic+json": {
              "type": "string"
            }
          },
          "metadata": {},
          "execution_count": 26
        }
      ],
      "source": [
        "n.reporte()"
      ]
    },
    {
      "cell_type": "markdown",
      "metadata": {
        "id": "R-WhS2evplPj"
      },
      "source": [
        "En la clase Agente anterior, `.descripcion()` devuelve una cadena que contiene información sobre las instancia de Agente que hemos creado ('Beto' y 'Norma'). Al escribir sus propias clases, es una buena idea tener un método que devuelva una cadena que contenga información útil sobre una instancia de la clase. Sin embargo, `.description()` no es la forma más pythonista de hacer esto.\n",
        "\n",
        "Para esto utilizaremos un método de instancia especial llamado `.\\_\\_str__()`."
      ]
    },
    {
      "cell_type": "code",
      "execution_count": 27,
      "metadata": {
        "id": "PJf2fqnzplPk"
      },
      "outputs": [],
      "source": [
        "class Agente():\n",
        "    nivel = 'Regular'               # atributo de clase\n",
        "\n",
        "    def __init__(self,\n",
        "                 nombre_real,\n",
        "                 edad,\n",
        "                 nombre_clave\n",
        "                ): # método y su parámetros\n",
        "        self.nombre_real = nombre_real     # atributo de instancia\n",
        "        self.edad = edad                   # atributo de instancia\n",
        "        self.nombre_clave = nombre_clave\n",
        "\n",
        "    def __str__(self):          # reemplazamos el método descripcion\n",
        "        return f'Agente {self.nombre_clave}.'\n",
        "\n",
        "    def reporte(self):\n",
        "        return f'Mi nombre real es {self.nombre_real}, tengo {self.edad} años.'"
      ]
    },
    {
      "cell_type": "code",
      "execution_count": 28,
      "metadata": {
        "id": "qnhLZJiwplPk"
      },
      "outputs": [],
      "source": [
        "b = Agente('Beto', 50, 'Caribú')\n",
        "n = Agente('Norma', 40, 'Nana')"
      ]
    },
    {
      "cell_type": "markdown",
      "metadata": {
        "id": "_F6l-7ahplPk"
      },
      "source": [
        "Invocaremos el nuevo método con `print()`"
      ]
    },
    {
      "cell_type": "code",
      "execution_count": 29,
      "metadata": {
        "id": "nkqT25qkplPk",
        "outputId": "2e24b24e-0cbe-4a0a-ee31-bb1ca5f15027",
        "colab": {
          "base_uri": "https://localhost:8080/"
        }
      },
      "outputs": [
        {
          "output_type": "stream",
          "name": "stdout",
          "text": [
            "Agente Caribú.\n"
          ]
        }
      ],
      "source": [
        "print(b)"
      ]
    },
    {
      "cell_type": "code",
      "execution_count": 30,
      "metadata": {
        "id": "oBFOLztiplPk",
        "outputId": "47791373-94b2-44ec-f621-61d164244934",
        "colab": {
          "base_uri": "https://localhost:8080/",
          "height": 35
        }
      },
      "outputs": [
        {
          "output_type": "execute_result",
          "data": {
            "text/plain": [
              "'Mi nombre real es Norma, tengo 40 años.'"
            ],
            "application/vnd.google.colaboratory.intrinsic+json": {
              "type": "string"
            }
          },
          "metadata": {},
          "execution_count": 30
        }
      ],
      "source": [
        "n.reporte()"
      ]
    },
    {
      "cell_type": "markdown",
      "metadata": {
        "id": "lrHzi8IkplPk"
      },
      "source": [
        "Los métodos como `.\\_\\_init__()` y `.\\_\\_str__()` se denominan **métodos dunder** porque comienzan y terminan con guiones bajos dobles (**D**ouble **UNDER**score). Hay muchos métodos dunder que puedes utilizar para personalizar clases en Python. Comprender los métodos dunder es una parte importante del dominio de la programación orientada a objetos en Python."
      ]
    },
    {
      "cell_type": "markdown",
      "metadata": {
        "id": "bn8A6aRCplPk"
      },
      "source": [
        "### Veamos un ejemplo de cómo crear una clase Circulo:"
      ]
    },
    {
      "cell_type": "code",
      "execution_count": 31,
      "metadata": {
        "id": "Rb8ntRdIplPk"
      },
      "outputs": [],
      "source": [
        "class Circulo():\n",
        "\n",
        "    # Definimos PI, el cual es el mismo para cualquier círculo\n",
        "    PI = 3.14\n",
        "\n",
        "    # Instanciamos un círculo con radio por defecto de 1\n",
        "    def __init__(self, radio=1):\n",
        "        self.radio = radio\n",
        "\n",
        "    def __str__(self):\n",
        "        return f'Instancia de clase círculo de radio {self.radio}'\n",
        "\n",
        "    # El método 'área´ calcula el área del círculo. Noten el uso de 'self'\n",
        "    def area(self):\n",
        "        return self.radio * self.radio * Circulo.PI\n",
        "\n",
        "    def perimetro(self):\n",
        "        return 2 * self.radio * Circulo.PI"
      ]
    },
    {
      "cell_type": "code",
      "execution_count": 32,
      "metadata": {
        "id": "Hb-8JjCZplPk"
      },
      "outputs": [],
      "source": [
        "c = Circulo(radio=2)"
      ]
    },
    {
      "cell_type": "code",
      "execution_count": 33,
      "metadata": {
        "id": "HrVMyQjrplPk",
        "outputId": "1935c3e5-398a-43d8-8c8b-2bd8cc953f00",
        "colab": {
          "base_uri": "https://localhost:8080/"
        }
      },
      "outputs": [
        {
          "output_type": "stream",
          "name": "stdout",
          "text": [
            "Instancia de clase círculo de radio 2\n"
          ]
        }
      ],
      "source": [
        "print(c)"
      ]
    },
    {
      "cell_type": "code",
      "execution_count": 34,
      "metadata": {
        "id": "xnd3CCd1plPk",
        "outputId": "5f47dbd0-1a2a-4e68-da94-a5ffa3a64704",
        "colab": {
          "base_uri": "https://localhost:8080/"
        }
      },
      "outputs": [
        {
          "output_type": "stream",
          "name": "stdout",
          "text": [
            "El radio del círculo es: 2\n"
          ]
        }
      ],
      "source": [
        "print(f'El radio del círculo es: {c.radio}')"
      ]
    },
    {
      "cell_type": "code",
      "execution_count": 35,
      "metadata": {
        "id": "OXQpC7yYplPl",
        "outputId": "8ad3d739-9d5e-424c-82f6-54860a0f63e0",
        "colab": {
          "base_uri": "https://localhost:8080/"
        }
      },
      "outputs": [
        {
          "output_type": "stream",
          "name": "stdout",
          "text": [
            "El área del círculo es: 12.56\n"
          ]
        }
      ],
      "source": [
        "# Observa cómo para un método necesitamos que con ()\n",
        "# a diferencia de un atribito\n",
        "\n",
        "print(f'El área del círculo es: {c.area()}')"
      ]
    },
    {
      "cell_type": "code",
      "execution_count": 36,
      "metadata": {
        "id": "nxaZU11XplPl"
      },
      "outputs": [],
      "source": [
        "# Podemos cambiar el radio\n",
        "c.radio = 10"
      ]
    },
    {
      "cell_type": "code",
      "execution_count": 37,
      "metadata": {
        "id": "Tc8tsmA5plPl",
        "outputId": "56637ae2-7930-48fb-e386-bde64e8192bd",
        "colab": {
          "base_uri": "https://localhost:8080/"
        }
      },
      "outputs": [
        {
          "output_type": "execute_result",
          "data": {
            "text/plain": [
              "314.0"
            ]
          },
          "metadata": {},
          "execution_count": 37
        }
      ],
      "source": [
        "c.area()"
      ]
    },
    {
      "cell_type": "code",
      "execution_count": 38,
      "metadata": {
        "id": "RGZIGfqYplPl",
        "outputId": "58eeedf5-a625-47c3-acec-069ac2131b95",
        "colab": {
          "base_uri": "https://localhost:8080/"
        }
      },
      "outputs": [
        {
          "output_type": "stream",
          "name": "stdout",
          "text": [
            "Instancia de clase círculo de radio 10\n"
          ]
        }
      ],
      "source": [
        "print(c)"
      ]
    },
    {
      "cell_type": "markdown",
      "metadata": {
        "id": "7MyTjTomplPl"
      },
      "source": [
        "Observa la diferencia entre llamar a un método y llamar a un atributo, los métodos necesitan que se los llame con un () al final, de lo contrario no se ejecutarán."
      ]
    },
    {
      "cell_type": "markdown",
      "metadata": {
        "id": "uwURHrKDplPl"
      },
      "source": [
        "<font color='green'>Fin actividad 1</font>"
      ]
    },
    {
      "cell_type": "markdown",
      "metadata": {
        "id": "v0Iga0v6plPm"
      },
      "source": [
        "## <font color='blue'>**Herencia (_inheritance_)**</font>\n",
        "\n",
        "La herencia es el proceso mediante el cual una clase adquiere los atributos y métodos de otra. Las clases recién formadas se denominan **clases derivadas, secundarias o hijas** y las clases de las que se derivan las clases secundarias se denominan **clases principales o padres**.\n",
        "\n",
        "Los principales beneficios de la herencia son la reutilización de código y la reducción de la complejidad de un programa. Las clases secundarias pueden anular o ampliar los atributos y métodos de las clases principales. En otras palabras, las clases secundarias heredan todos los atributos y métodos de los padres, pero también pueden especificar atributos y métodos que son únicos para ellos.\n",
        "\n",
        "Veamos un ejemplo incorporando nuestro trabajo anterior con la clase Agente."
      ]
    },
    {
      "cell_type": "markdown",
      "metadata": {
        "id": "qSNmKk8DplPm"
      },
      "source": [
        "### Primero la Clase Principal (Base Class)\n",
        "Recreamos nuestra clase Agente desarrollada más arriba. Pon atención a los atributos y métodos que implementa."
      ]
    },
    {
      "cell_type": "code",
      "execution_count": 39,
      "metadata": {
        "id": "Eojj7qG6plPm"
      },
      "outputs": [],
      "source": [
        "class Agente():\n",
        "    nivel = 'Regular'               # atributo de clase\n",
        "\n",
        "    def __init__(self,\n",
        "                 nombre_real,\n",
        "                 edad,\n",
        "                 nombre_clave\n",
        "                ): # método y su parámetros\n",
        "        self.nombre_real = nombre_real     # atributo de instancia\n",
        "        self.edad = edad                   # atributo de instancia\n",
        "        self.nombre_clave = nombre_clave\n",
        "\n",
        "    def __str__(self):          # reemplazamos el método descripcion\n",
        "        return f'Agente {self.nombre_clave}.'\n",
        "\n",
        "    def reporte(self):\n",
        "        return f'Mi nombre real es {self.nombre_real}, tengo {self.edad} años.'\n",
        "\n",
        "    def tipo(self):             # añadimos el método tipo()\n",
        "        return f'Agente tipo {self.nivel}'"
      ]
    }
  ],
  "metadata": {
    "anaconda-cloud": {},
    "kernelspec": {
      "display_name": "Python 3 (ipykernel)",
      "language": "python",
      "name": "python3"
    },
    "language_info": {
      "codemirror_mode": {
        "name": "ipython",
        "version": 3
      },
      "file_extension": ".py",
      "mimetype": "text/x-python",
      "name": "python",
      "nbconvert_exporter": "python",
      "pygments_lexer": "ipython3",
      "version": "3.8.11"
    },
    "colab": {
      "provenance": [],
      "include_colab_link": true
    }
  },
  "nbformat": 4,
  "nbformat_minor": 0
}